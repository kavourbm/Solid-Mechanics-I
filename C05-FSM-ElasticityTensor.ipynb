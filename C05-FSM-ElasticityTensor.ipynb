{
 "cells": [
  {
   "cell_type": "markdown",
   "metadata": {
    "toc": true
   },
   "source": [
    "<h1>Table of Contents<span class=\"tocSkip\"></span></h1>\n",
    "<div class=\"toc\"><ul class=\"toc-item\"><li><span><a href=\"#Elasticity-tensor\" data-toc-modified-id=\"Elasticity-tensor-5\"><span class=\"toc-item-num\">5&nbsp;&nbsp;</span>Elasticity tensor</a></span><ul class=\"toc-item\"><li><span><a href=\"#Simplest-case:-1D-tests\" data-toc-modified-id=\"Simplest-case:-1D-tests-5.1\"><span class=\"toc-item-num\">5.1&nbsp;&nbsp;</span>Simplest case: 1D tests</a></span></li><li><span><a href=\"#Comparison-with-spring-constants\" data-toc-modified-id=\"Comparison-with-spring-constants-5.2\"><span class=\"toc-item-num\">5.2&nbsp;&nbsp;</span>Comparison with spring constants</a></span></li><li><span><a href=\"#General-formulation\" data-toc-modified-id=\"General-formulation-5.3\"><span class=\"toc-item-num\">5.3&nbsp;&nbsp;</span>General formulation</a></span></li><li><span><a href=\"#Coordinate-transformation-of--4th-tensor-*\" data-toc-modified-id=\"Coordinate-transformation-of--4th-tensor-*-5.4\"><span class=\"toc-item-num\">5.4&nbsp;&nbsp;</span>Coordinate transformation of  4th tensor *</a></span></li><li><span><a href=\"#Codes-for-4th-tensor-transformation-*\" data-toc-modified-id=\"Codes-for-4th-tensor-transformation-*-5.5\"><span class=\"toc-item-num\">5.5&nbsp;&nbsp;</span>Codes for 4th tensor transformation *</a></span></li><li><span><a href=\"#Reduction-of-elastic-constants\" data-toc-modified-id=\"Reduction-of-elastic-constants-5.6\"><span class=\"toc-item-num\">5.6&nbsp;&nbsp;</span>Reduction of elastic constants</a></span><ul class=\"toc-item\"><li><span><a href=\"#Reduction-due-to-stress-and-strain-symmetry,-$-81\\to-36$\" data-toc-modified-id=\"Reduction-due-to-stress-and-strain-symmetry,-$-81\\to-36$-5.6.1\"><span class=\"toc-item-num\">5.6.1&nbsp;&nbsp;</span>Reduction due to stress and strain symmetry, $ 81\\to 36$</a></span></li><li><span><a href=\"#Reduction-due-to-the-smoothness-of-the-strain-energy-density\" data-toc-modified-id=\"Reduction-due-to-the-smoothness-of-the-strain-energy-density-5.6.2\"><span class=\"toc-item-num\">5.6.2&nbsp;&nbsp;</span>Reduction due to the smoothness of the strain energy density</a></span><ul class=\"toc-item\"><li><span><a href=\"#Strain-energy-density-in-solids\" data-toc-modified-id=\"Strain-energy-density-in-solids-5.6.2.1\"><span class=\"toc-item-num\">5.6.2.1&nbsp;&nbsp;</span>Strain energy density in solids</a></span></li><li><span><a href=\"#Symmetry-from-the-smoothness-of-the-strain-energy-density-*\" data-toc-modified-id=\"Symmetry-from-the-smoothness-of-the-strain-energy-density-*-5.6.2.2\"><span class=\"toc-item-num\">5.6.2.2&nbsp;&nbsp;</span>Symmetry from the smoothness of the strain energy density *</a></span></li><li><span><a href=\"#Reduction-due-to-strain-energy-density-symmetry,-$-36\\to-21$-*\" data-toc-modified-id=\"Reduction-due-to-strain-energy-density-symmetry,-$-36\\to-21$-*-5.6.2.3\"><span class=\"toc-item-num\">5.6.2.3&nbsp;&nbsp;</span>Reduction due to strain energy density symmetry, $ 36\\to 21$ *</a></span></li></ul></li><li><span><a href=\"#Tensor-vs.-matrix,-a-discussion-*\" data-toc-modified-id=\"Tensor-vs.-matrix,-a-discussion-*-5.6.3\"><span class=\"toc-item-num\">5.6.3&nbsp;&nbsp;</span>Tensor vs. matrix, a discussion *</a></span></li></ul></li><li><span><a href=\"#The-Voigt-notation-*\" data-toc-modified-id=\"The-Voigt-notation-*-5.7\"><span class=\"toc-item-num\">5.7&nbsp;&nbsp;</span>The Voigt notation *</a></span></li><li><span><a href=\"#Codes-for-conversion-between-a-2D-matrix-to-4th-tensor-*\" data-toc-modified-id=\"Codes-for-conversion-between-a-2D-matrix-to-4th-tensor-*-5.8\"><span class=\"toc-item-num\">5.8&nbsp;&nbsp;</span>Codes for conversion between a 2D matrix to 4th tensor *</a></span></li><li><span><a href=\"#Monoclinic-materials,-$21\\to-13$\" data-toc-modified-id=\"Monoclinic-materials,-$21\\to-13$-5.9\"><span class=\"toc-item-num\">5.9&nbsp;&nbsp;</span>Monoclinic materials, $21\\to 13$</a></span></li><li><span><a href=\"#Orthotropic-materials,-$13\\to-9$\" data-toc-modified-id=\"Orthotropic-materials,-$13\\to-9$-5.10\"><span class=\"toc-item-num\">5.10&nbsp;&nbsp;</span>Orthotropic materials, $13\\to 9$</a></span></li><li><span><a href=\"#Transversely-isotropic-materials,-$9\\to-5$\" data-toc-modified-id=\"Transversely-isotropic-materials,-$9\\to-5$-5.11\"><span class=\"toc-item-num\">5.11&nbsp;&nbsp;</span>Transversely isotropic materials, $9\\to 5$</a></span></li><li><span><a href=\"#Cubic-materials,-$5\\to-3$\" data-toc-modified-id=\"Cubic-materials,-$5\\to-3$-5.12\"><span class=\"toc-item-num\">5.12&nbsp;&nbsp;</span>Cubic materials, $5\\to 3$</a></span></li><li><span><a href=\"#Isotropic-materials,-$3\\to-2$\" data-toc-modified-id=\"Isotropic-materials,-$3\\to-2$-5.13\"><span class=\"toc-item-num\">5.13&nbsp;&nbsp;</span>Isotropic materials, $3\\to 2$</a></span><ul class=\"toc-item\"><li><span><a href=\"#For-3D-problems\" data-toc-modified-id=\"For-3D-problems-5.13.1\"><span class=\"toc-item-num\">5.13.1&nbsp;&nbsp;</span>For 3D problems</a></span></li><li><span><a href=\"#For-stress-and-strain-invariants\" data-toc-modified-id=\"For-stress-and-strain-invariants-5.13.2\"><span class=\"toc-item-num\">5.13.2&nbsp;&nbsp;</span>For stress and strain invariants</a></span></li><li><span><a href=\"#For-2D-plane-stress-problems\" data-toc-modified-id=\"For-2D-plane-stress-problems-5.13.3\"><span class=\"toc-item-num\">5.13.3&nbsp;&nbsp;</span>For 2D plane stress problems</a></span></li><li><span><a href=\"#For-2D-plane-strain-problems\" data-toc-modified-id=\"For-2D-plane-strain-problems-5.13.4\"><span class=\"toc-item-num\">5.13.4&nbsp;&nbsp;</span>For 2D plane strain problems</a></span></li></ul></li><li><span><a href=\"#Mean-and-deviatoric-stress-and-strain-tensors\" data-toc-modified-id=\"Mean-and-deviatoric-stress-and-strain-tensors-5.14\"><span class=\"toc-item-num\">5.14&nbsp;&nbsp;</span>Mean and deviatoric stress and strain tensors</a></span></li><li><span><a href=\"#Compliance-matrix\" data-toc-modified-id=\"Compliance-matrix-5.15\"><span class=\"toc-item-num\">5.15&nbsp;&nbsp;</span>Compliance matrix</a></span><ul class=\"toc-item\"><li><span><a href=\"#Compliance-matrix-for-orthotropic-materials\" data-toc-modified-id=\"Compliance-matrix-for-orthotropic-materials-5.15.1\"><span class=\"toc-item-num\">5.15.1&nbsp;&nbsp;</span>Compliance matrix for orthotropic materials</a></span></li><li><span><a href=\"#Python-Code-for-elasticity-matrix-for-orthotropic-materials-(3D-problems)\" data-toc-modified-id=\"Python-Code-for-elasticity-matrix-for-orthotropic-materials-(3D-problems)-5.15.2\"><span class=\"toc-item-num\">5.15.2&nbsp;&nbsp;</span>Python Code for elasticity matrix for orthotropic materials (3D problems)</a></span></li><li><span><a href=\"#Plane-stress-problems\" data-toc-modified-id=\"Plane-stress-problems-5.15.3\"><span class=\"toc-item-num\">5.15.3&nbsp;&nbsp;</span>Plane stress problems</a></span></li><li><span><a href=\"#Python-Code-for-elasticity-matrix-for-orthotropic-materials-(2D-plane-stress)\" data-toc-modified-id=\"Python-Code-for-elasticity-matrix-for-orthotropic-materials-(2D-plane-stress)-5.15.4\"><span class=\"toc-item-num\">5.15.4&nbsp;&nbsp;</span>Python Code for elasticity matrix for orthotropic materials (2D plane stress)</a></span></li><li><span><a href=\"#Plane-strain-problems\" data-toc-modified-id=\"Plane-strain-problems-5.15.5\"><span class=\"toc-item-num\">5.15.5&nbsp;&nbsp;</span>Plane strain problems</a></span></li><li><span><a href=\"#Python-Code-for-elasticity-matrix-for-orthotropic-materials-(2D-plane-stress)\" data-toc-modified-id=\"Python-Code-for-elasticity-matrix-for-orthotropic-materials-(2D-plane-stress)-5.15.6\"><span class=\"toc-item-num\">5.15.6&nbsp;&nbsp;</span>Python Code for elasticity matrix for orthotropic materials (2D plane stress)</a></span></li><li><span><a href=\"#Compliance-matrix-for-isotropic-materials\" data-toc-modified-id=\"Compliance-matrix-for-isotropic-materials-5.15.7\"><span class=\"toc-item-num\">5.15.7&nbsp;&nbsp;</span>Compliance matrix for isotropic materials</a></span></li></ul></li><li><span><a href=\"#Thermal-expansion-effects\" data-toc-modified-id=\"Thermal-expansion-effects-5.16\"><span class=\"toc-item-num\">5.16&nbsp;&nbsp;</span>Thermal expansion effects</a></span><ul class=\"toc-item\"><li><span><a href=\"#Thermal-strains\" data-toc-modified-id=\"Thermal-strains-5.16.1\"><span class=\"toc-item-num\">5.16.1&nbsp;&nbsp;</span>Thermal strains</a></span></li><li><span><a href=\"#Strain-stress-temperature-relation\" data-toc-modified-id=\"Strain-stress-temperature-relation-5.16.2\"><span class=\"toc-item-num\">5.16.2&nbsp;&nbsp;</span>Strain-stress-temperature relation</a></span></li><li><span><a href=\"#Stress-strain-temperature-relation\" data-toc-modified-id=\"Stress-strain-temperature-relation-5.16.3\"><span class=\"toc-item-num\">5.16.3&nbsp;&nbsp;</span>Stress-strain-temperature relation</a></span></li></ul></li><li><span><a href=\"#Examples-for-elasticity-tensor-transformation-*\" data-toc-modified-id=\"Examples-for-elasticity-tensor-transformation-*-5.17\"><span class=\"toc-item-num\">5.17&nbsp;&nbsp;</span>Examples for elasticity tensor transformation *</a></span><ul class=\"toc-item\"><li><span><a href=\"#Examples-on-tests-on-arbitrary-symmetric-6-by-6-matrix\" data-toc-modified-id=\"Examples-on-tests-on-arbitrary-symmetric-6-by-6-matrix-5.17.1\"><span class=\"toc-item-num\">5.17.1&nbsp;&nbsp;</span>Examples on tests on arbitrary symmetric 6 by 6 matrix</a></span></li><li><span><a href=\"#Examples-on-elasticity-matrices-for-steel\" data-toc-modified-id=\"Examples-on-elasticity-matrices-for-steel-5.17.2\"><span class=\"toc-item-num\">5.17.2&nbsp;&nbsp;</span>Examples on elasticity matrices for steel</a></span></li><li><span><a href=\"#Examples-on-elasticity-matrices-for-steel-for-2D-plane-stress\" data-toc-modified-id=\"Examples-on-elasticity-matrices-for-steel-for-2D-plane-stress-5.17.3\"><span class=\"toc-item-num\">5.17.3&nbsp;&nbsp;</span>Examples on elasticity matrices for steel for 2D plane stress</a></span></li><li><span><a href=\"#Examples-on-elasticity-matrices-for-steel-for-2D-plane-strain\" data-toc-modified-id=\"Examples-on-elasticity-matrices-for-steel-for-2D-plane-strain-5.17.4\"><span class=\"toc-item-num\">5.17.4&nbsp;&nbsp;</span>Examples on elasticity matrices for steel for 2D plane strain</a></span></li><li><span><a href=\"#Examples-on-elasticity-matrices-for-carbon/epoxy-composite\" data-toc-modified-id=\"Examples-on-elasticity-matrices-for-carbon/epoxy-composite-5.17.5\"><span class=\"toc-item-num\">5.17.5&nbsp;&nbsp;</span>Examples on elasticity matrices for carbon/epoxy composite</a></span></li></ul></li><li><span><a href=\"#Remarks\" data-toc-modified-id=\"Remarks-5.18\"><span class=\"toc-item-num\">5.18&nbsp;&nbsp;</span>Remarks</a></span></li></ul></li></ul></div>"
   ]
  },
  {
   "cell_type": "markdown",
   "metadata": {},
   "source": [
    "We import necessary external modules or dependence for later use in this chapter."
   ]
  },
  {
   "cell_type": "code",
   "execution_count": 1,
   "metadata": {
    "ExecuteTime": {
     "end_time": "2024-02-06T12:22:07.517461Z",
     "start_time": "2024-02-06T12:20:47.880725Z"
    }
   },
   "outputs": [],
   "source": [
    "# Place curse in this cell, and press Ctrl+Enter to import dependences. \n",
    "import sys                         # for accessing the computer system\n",
    "sys.path.append('../grbin/')  # Change to the directory in your system \n",
    "\n",
    "from commonImports import *       # Import dependences from '../grbin/'\n",
    "import grcodes as gr                 # Import the module of the author\n",
    "#importlib.reload(gr)            # When grcodes is modified, reload it\n",
    "\n",
    "from continuum_mechanics import vector \n",
    "init_printing(use_unicode=True)      # For latex-like quality printing \n",
    "#np.set_printoptions(precision=4,suppress=True) # Digits in print-outs\n",
    "np.set_printoptions(formatter={'float': '{: 0.3e}'.format})"
   ]
  },
  {
   "cell_type": "markdown",
   "metadata": {},
   "source": [
    "## Elasticity tensor"
   ]
  },
  {
   "cell_type": "markdown",
   "metadata": {
    "ExecuteTime": {
     "end_time": "2022-10-11T21:17:19.170109Z",
     "start_time": "2022-10-11T21:17:19.152155Z"
    }
   },
   "source": [
    "### Simplest case: 1D tests"
   ]
  },
  {
   "cell_type": "markdown",
   "metadata": {},
   "source": [
    "Chapter 3 defines the stresses and their relations with forces, and Chapter 4 defines strains and the relationship between strains and displacements. We need to know the relationship between the stress and strains. To begin with, we look at the simplest uniaxially loaded 1D specimen that often has a rectangular or circular cross-section. The cross-sectional dimension is much smaller than its length. \n",
    "\n",
    "<br>\n",
    "<div style=\"display: flex; justify-content: space-between;\">\n",
    "<img src=\"./images/TensileVertical.png\" width=\"180\" style=\"margin-left: 10px;\"/> \n",
    "<img src=\"./images/Inspekt_desk_50kN_IMGP8563.jpg\" width=\"180\" style=\"margin-left: 10px;\"/> <img src=\"./images/Tensile_testing_on_composite.jpg\" width=\"180\" style=\"margin-left: 10px;\"/> \n",
    "</div><br>\n",
    "\\begin{figure}\n",
    "  \\includegraphics[width=5cm]{} TensileVertical.png\n",
    "  \\caption{\\label{image:TensileTest} Left: A tensile spacemen; Middle: A universal testing machine (Hegewald & Peschke) for measuring the elastic constants and tensile strength for materials. Image permission by Vom Hofe Kaltstauchdraht GmbH, Altena from en.wikipedia Wikimedia Commons under the CC BY-SA 2.0 de license. Right: A specimen is mounted in the machine (Instron) under the CC0 license.}\n",
    "\\end{figure}\n",
    "\n",
    "Its normal strain $𝜀_{xx}$ can be obtained as,\n",
    "\n",
    "\\begin{equation} \\label{eqedll}\n",
    "𝜀_{xx}=\\frac{∆L}{L}\n",
    "\\end{equation} \n",
    "\n",
    "where $x$ stands for the $x$-axis, which is vertical if the specimen is pulled vertically using a tensile machine, as shown in the left figure in Fig.\\ref{image:TensileTest}. The $∆L$ is the length change in $L$ under stress $𝜎_{xx}$ applied by the tensile test machine. The length change can be measured during experiment corresponding to the level of stress. \n",
    "\n",
    "Equations (\\ref{eqedll}) shows that the strain is in fact an averaged one over the base length $L$, which depends on the measurement method. If the displacements between the two points are measured, $L$ will be the distance of these two points. If a strain gauge is used, it is the effective length of the gauge. \n",
    "\n",
    "Assume the specimen or bar is made of linear elastic isotropic material, meaning that the stress and strain proportional, and related thorough a material constant $E$ called Young's modulus. \n",
    "\n",
    "\\begin{equation} \\label{eqebar}\n",
    "𝜎_{xx}=E 𝜀_{xx} \n",
    "\\end{equation} "
   ]
  },
  {
   "cell_type": "markdown",
   "metadata": {},
   "source": [
    "When the specimen is stretched in $x$-direction, it may shrink in the $y$-direction (horizontal). The shrink strain $𝜀_{yy}$ is calculated using\n",
    "\n",
    "\\begin{equation} \\label{eqyyw}\n",
    "𝜀_{yy}=\\frac{∆W}{W}\n",
    "\\end{equation} \n",
    "\n",
    "where $∆W$ is the length change in $W$ under the same stress $𝜎_{xx}$. It is also measured during an experiment. This behavior of material is quantified by the Poisson's ratio, denoted often by $\\nu$. It gives the relationship between two mutually orthogonal normal strains: \n",
    "\n",
    "\\begin{equation} \\label{eqettbar}\n",
    "𝜀_{yy}= -\\nu 𝜀_{xx} \n",
    "\\end{equation} \n",
    "\n",
    "where $𝜀_{yy}$ is a normal strain in the $y$-direction. Clearly the Poisson's ratio is dimensionless. \n",
    "\n",
    "Note that for this 1D bar problem, $𝜎_{yy}$ will be zero, because the the width of the specimen is much smalled compared to its length, and no force or pressure is applied in the $y$-direction. "
   ]
  },
  {
   "cell_type": "markdown",
   "metadata": {},
   "source": [
    "Using a test machine shown in Fig.\\ref{image:TensileTest}, the Young's modulus $E$, Poisson's ratio $\\nu$, yield stress, failure stress, etc can be measured.  \n",
    "\n",
    "Equation (\\ref{eqebar}) is well-known as the Hooke's Law. Because strain is dimensionless, $E$ carries the same unit as the stress: force/area and $[Pa=N/m^2]$ is often used.  Young's modulus is the most important elastic constant of a material. For materials that are made through a standardized processes, Young's modules can be found in material databases. A list of Approximate Young's modulus for commonly used materials can be found at [Young modulus](https://en.wikipedia.org/wiki/Young%27s_modulus). "
   ]
  },
  {
   "cell_type": "markdown",
   "metadata": {},
   "source": [
    "Interested reader my take a look at the on-line video [Tensile Test Experiment](https://www.youtube.com/watch?v=D8U4G5kcpcM). "
   ]
  },
  {
   "cell_type": "markdown",
   "metadata": {},
   "source": [
    "### Comparison with spring constants\n",
    "\n",
    "To make a good sense of the Young's modulus, we can compare it with the spring constant that we learned in high school, known also as the Hooke's Law. Consider a spring fixed at the left-end, and it is pulled at the right-end by a force $f$. The right-end is then displaced by $d$. The relationship between the force and displacement is then expressed as:\n",
    "\n",
    "\\begin{equation} \\label{eqkd}\n",
    "f = k d \n",
    "\\end{equation} \n",
    "\n",
    "where $k$ is the spring constant. It carries a unit of force/length or $\\frac{N}{m}$. It is the **stiffness** of the spring. \n",
    "\n",
    "Consider now an uniform bar with cross-section area $A$ and length $L$ fixed also at the left-end, and pulled at the right-end by a force $f$. The right-end is assumed have a displacement $d$. Using Eq.(\\ref{eqebar}), $𝜎_{xx}=E 𝜀_{xx}$, we have:\n",
    "\n",
    "\\begin{equation} \\label{eqbark}\n",
    "\\underbrace{A𝜎_{xx}}_{f}= \\underbrace{\\frac{AE}{L}}_{k} \\underbrace{L𝜀_{xx}}_{d} \n",
    "\\end{equation} \n",
    "\n",
    "It is clear that $\\frac{AE}{L}$ is equivalent to the spring constant $k$. The unit of $\\frac{AE}{L}$ is also $\\frac{m^2 \\frac{N}{m^2}}{m} = \\frac{N}{m}$. We note that $E$ is proportional to the stiffness. "
   ]
  },
  {
   "cell_type": "markdown",
   "metadata": {
    "ExecuteTime": {
     "end_time": "2022-09-16T22:17:35.497313Z",
     "start_time": "2022-09-16T22:17:35.484351Z"
    }
   },
   "source": [
    "### General formulation \n",
    "\n",
    "For a general problem in mechanics of materials, there are usually 9 stress and strain components. Therefore, a general material property law is needed to relate these stresses and strains. Such as law is call the constitutive equation. It is assumed that each stress component is related to all the 9 strain components. Because there are 9 stress components, we shall have a total of $9\\times 9=81$ material constants. For linear elastic materials, it can be given in the most general form in tensor rotation as \\cite{LAI2010201, landau1986theory, liu2001elastic}, \n",
    "\n",
    "\\begin{equation} \\label{eqsCe}\n",
    "\\boxed{\n",
    "\\sigma_{ij}=C_{ijkl} \\varepsilon_{kl} }\n",
    "\\end{equation}\n",
    "\n",
    "This is also known as the generalized Hooke's Law \\cite{liu2013finite}, where $C_{ijkl}$ is a 4th order tensor, carrying 4 indexes. It carries the same unit as the Young's modulus $E$: force/area or $[Pa=N/m^2]$. It bridges two 2nd order tensor, $\\sigma_{ij}$ and $\\varepsilon_{ij}$. This ensures that each of the stress components depends on all the strain components with independent elastic constants. Because each of the four indexes of $C_{ijkl}$ has the same range of 3. There are a total of $(3\\times 3\\times 3\\times 3=) 81$ elasticity constants for materials in 3D. Thus, Eq.(\\ref{eqsCe}) is the most general constitutive equation for solid materials. \n",
    "\n",
    "Because of the underlying mechanics behavior of solid materials and special features the materials may have, some of these constants may equal, and some of them may be zero. The actual number of the independent elastic constants needed will be drastically reduced, which is discussed in detail later.  "
   ]
  },
  {
   "cell_type": "markdown",
   "metadata": {
    "ExecuteTime": {
     "end_time": "2022-09-16T22:17:35.497313Z",
     "start_time": "2022-09-16T22:17:35.484351Z"
    }
   },
   "source": [
    "### Coordinate transformation of  4th tensor *\n",
    "\n",
    "For many materials, their elastic constants change with directions, such as anisotropic composite materials widely used in various industries and most materials in nature \\cite{Ting1996AnisotropicET, liu2001elastic}. For analyzing these materials, we must find out the rule of coordinate transformation for 4th order tensors, so that we can compute these constants when the coordinate rotates. This process is discussed in this section. \n",
    "\n",
    "Assume Eq.(\\ref{eqsCe}) is defined in coordinate system $\\mathbf{x}$, and now it is rotated to $\\mathbf{x}'$. Using the rule of the 2nd order stress transformation, we obtain: \n",
    "\n",
    "\\begin{equation} \\label{eqSrs}\n",
    "\\sigma_{rs}'=a_{ri} a_{sj} \\underbrace{\\sigma_{ij}}_{C_{ijkl} \\varepsilon_{kl}} \\;\\; \\Longrightarrow \\;\\; \\sigma_{rs}'=  a_{ri} a_{sj}C_{ijkl} \\varepsilon_{kl} \n",
    "\\end{equation}"
   ]
  },
  {
   "cell_type": "markdown",
   "metadata": {
    "ExecuteTime": {
     "end_time": "2022-09-16T22:17:35.497313Z",
     "start_time": "2022-09-16T22:17:35.484351Z"
    }
   },
   "source": [
    "On the other hand, the corresponding strain transformation rule gives, \n",
    "\n",
    "\\begin{equation} \\label{eqEkl}\n",
    "\\varepsilon_{kl}'=a_{kp} a_{lq} \\varepsilon_{pq}\n",
    "\\end{equation}\n",
    "\n",
    "Its reverse strain transformation becomes, \n",
    "\n",
    "\\begin{equation} \\label{eqEklr}\n",
    "\\varepsilon_{kl}=a_{pk} a_{ql} \\varepsilon_{pq}'\n",
    "\\end{equation}\n",
    "\n",
    "The swaps of the subscripts in $a_{ij}$ are the result of the inverse transformation that is from coordinate system $\\mathbf{x}'$ to $\\mathbf{x}$, as discussed earlier. \n",
    "\n",
    "Substituting Eq.(\\ref{eqEklr}) into the 2nd equation in Eq.(\\ref{eqSrs}), we obtain:  \n",
    "\n",
    "\\begin{equation} \\label{eqCijkl}\n",
    " \\sigma_{rs}'=\\underbrace{a_{ri} a_{sj} C_{ijkl} a_{pk} a_{ql}  }_{C_{rspq}'} \\varepsilon_{pq}' \n",
    "\\end{equation}"
   ]
  },
  {
   "cell_type": "markdown",
   "metadata": {
    "ExecuteTime": {
     "end_time": "2022-09-16T22:17:35.497313Z",
     "start_time": "2022-09-16T22:17:35.484351Z"
    }
   },
   "source": [
    "It is clear that $i,j,k$ and $l$ are contracted, resulting in free indexes $r, s, p, q$. We finally obtain,\n",
    "\n",
    "\\begin{equation} \\label{eqCrspq}\n",
    "\\boxed{\n",
    "C_{rspq}'= a_{ri} a_{sj}C_{ijkl} a_{pk} a_{ql} }   \n",
    "\\end{equation}\n",
    "\n",
    "This is the important rule of **transformation of 4th order tensor** of elastic stiffness, from coordinate system $\\mathbf{x}$ to $\\mathbf{x}'$. \n",
    "\n",
    "When inverse transformation is needed, from $\\mathbf{x}'$ to $\\mathbf{x}$, all we need is to swap the two indexes of $a_{ij}$, or use the transposes of the transformation matrix. We will demonstrate this in the later examples.\n",
    "\n",
    "It is seen that transformation of a 4th order tensor requires **4 times of operation** by the rotation matrix $\\mathbf{T}$ (or $a_{ij}$). "
   ]
  },
  {
   "cell_type": "markdown",
   "metadata": {},
   "source": [
    "### Codes for 4th tensor transformation *\n",
    "\n",
    "We write, for the first time, a Python code to perform transformations of 4th order tensor. To the best knowledge of the author, no such a code have been written. This is made possible, by using the np.tensordot() function that allows contraction operations by specifying individual axis in a multi-dimensional numpy array. "
   ]
  },
  {
   "cell_type": "code",
   "execution_count": 2,
   "metadata": {
    "ExecuteTime": {
     "end_time": "2024-02-04T12:52:27.756429Z",
     "start_time": "2024-02-04T12:52:27.751443Z"
    }
   },
   "outputs": [],
   "source": [
    "def Tensor4_transfer(T,C4):\n",
    "    \n",
    "    C4 = np.tensordot( T, C4, axes=([1],[0]))  # contract i\n",
    "    C4 = np.tensordot( T, C4, axes=([1],[1]))  # contract j\n",
    "    C4 = np.tensordot(C4,  T, axes=([3],[1]))  # contract l\n",
    "    C4 = np.tensordot(C4,  T, axes=([2],[1]))  # contract k\n",
    "\n",
    "    return C4"
   ]
  },
  {
   "cell_type": "markdown",
   "metadata": {},
   "source": [
    "### Reduction of elastic constants\n",
    "\n",
    "#### Reduction due to stress and strain symmetry, $ 81\\to 36$\n",
    "\n",
    "As discussed earlier, in general, have a total of $(3\\times 3\\times 3\\times 3=) 81$ elasticity constants for materials in 3D. This means that we must find these 81 constants via experiments for a material. This is not practical in engineering applications, even if it is possible. This number needs to be and can be drastically reduced. First, we can use the symmetry of the stress and strain tensors to prove the symmetry of the 4th order tensor. \n",
    "\n",
    "Because of the symmetry of the stress tensors $\\sigma_{ij}=\\sigma_{ji}$, meaning the ij can be swapped. Thus, these constants satisfies the following symmetry equations. \n",
    "\n",
    "\\begin{equation} \\label{eqCssym}\n",
    "C_{ijkl} = C_{jikl} \\;\\; \\text{ from stress tensor symmetry}\\\\\n",
    "\\end{equation}\n",
    "\n",
    "This reduces the number by ($3\\times 9$)=27 constants. Next, because of the symmetry of the strain tensors $\\varepsilon_{kl}=\\varepsilon_{lk}$, meaning the kl can be swapped. These constants satisfies the following additional symmetry equations. \n",
    "\n",
    "\\begin{equation} \\label{eqCesym}\n",
    "C_{ijkl} = C_{ijlk} \\;\\; \\text{ from strain tensor symmetry}\\\\\n",
    "\\end{equation}\n",
    "\n",
    "This reduces the number by ($3\\times 6$)=18 constants. The total number of the elasticity constants becomes 36, and Eq.(\\ref{eqsCe}) can now be written in the following $6\\times 6$ matrix form, which indexes still properly matched. "
   ]
  },
  {
   "cell_type": "markdown",
   "metadata": {
    "ExecuteTime": {
     "end_time": "2022-09-16T22:17:35.497313Z",
     "start_time": "2022-09-16T22:17:35.484351Z"
    }
   },
   "source": [
    "\\begin{equation} \\label{eqSCE36}\n",
    "\\begin{bmatrix}\n",
    "\\sigma_{11} \\\\ \\sigma_{22} \\\\ \\sigma_{33} \\\\ \\sigma_{23} \\\\ \\sigma_{13} \\\\ \\sigma_{12} \\end{bmatrix} = \n",
    "\\begin{bmatrix}  \n",
    "C_{1111} &  C_{1122} & C_{1133} & C_{1123} & C_{1113} & C_{1112} \\\\ \n",
    "C_{2211} &  C_{2222} & C_{2233} & C_{2223} & C_{2213} & C_{2212} \\\\ \n",
    "C_{3311} &  C_{3322} & C_{3333} & C_{3323} & C_{3313} & C_{3312} \\\\ \n",
    "C_{2311} &  C_{2322} & C_{2333} & C_{2323} & C_{2313} & C_{2312} \\\\ \n",
    "C_{1311} &  C_{1322} & C_{1333} & C_{1323} & C_{1313} & C_{1312} \\\\ \n",
    "C_{1211} &  C_{1222} & C_{1233} & C_{1223} & C_{1213} & C_{1212} \n",
    " \\end{bmatrix} = \\begin{bmatrix}\n",
    "\\varepsilon_{11} \\\\ \\varepsilon_{22} \\\\ \\varepsilon_{33} \\\\ 2\\varepsilon_{23} \\\\ 2\\varepsilon_{13} \\\\ 2\\varepsilon_{12} \\end{bmatrix}\n",
    "\\end{equation}\n",
    "\n",
    "Note that the stress and strain tensors are now written as vectors, because of its symmetry and thus the 9 components is reduced to 6. \n",
    "\n",
    "This number can be further reduced, if make use of the smoothness of the strain energy density in a stressed elastic solid.  "
   ]
  },
  {
   "cell_type": "markdown",
   "metadata": {},
   "source": [
    "#### Reduction due to the smoothness of the strain energy density \n",
    "\n",
    "##### Strain energy density in solids\n",
    "\n",
    "When a solid is stressed. It stores some energy known as the strain energy. The strain energy per unit volume is called strain energy density carrying a unit of $\\frac{N}{m^2}\\frac{m}{m}=\\frac{J}{m^3}$. In general, the strain energy density will be different at different location in solid, and hence is a function of coordinates. Here, let us evaluate the strain energy density at a point in solid. \n",
    "\n",
    "Consider first a simple case, where at a point in solid there is only a single component of stress $\\sigma$ and its corresponding strain $\\varepsilon$ all in the same direction. The stress-strain relationship can be schematically shown Fig.\\ref{image:s-e}.\n",
    "\n",
    "<img src=\"./images/s-e.png\" alt=\" \" width=\"280\"/><br>\n",
    "\n",
    "\\begin{figure}\n",
    "  \\includegraphics[width=5cm]{}\n",
    "  \\caption{\\label{image:s-e} Strain energy density $U_0$ and complementary energy density $C_0$ at a point in a stressed solid.}\n",
    "\\end{figure}  \n",
    "\n",
    "The stress-strain relation is the function represented by the thick black curve, which gives the stress as a function of strain: $\\sigma(\\varepsilon)$. Assume the strain compatible for variation, meaning the operation of $d\\varepsilon'$ is possible, and thus the integration of stress-strain function can be carried out. The strain energy density $U_0$ is then defined by the area under the curve:\n",
    "\n",
    "\\begin{equation} \\label{eqU0}\n",
    "\\boxed{\n",
    "U_{0} = \\int_0^\\varepsilon  \\sigma(\\varepsilon')d\\varepsilon' }\n",
    "\\end{equation}\n",
    "\n",
    "Here we use prime to indicate the integration variable. \n",
    "\n",
    "Note that the complementary energy density $C_0$ the area above the thick black curve shown Fig.\\ref{image:s-e}. We will make use of it in developing an energy method in Chapter 13??. For now, our focus is on the strain energy density.\n",
    "\n",
    "Assume $U_0$ is 2nd order continuously differentiable with respect to the strain, we can the perform this following analysis. "
   ]
  },
  {
   "cell_type": "markdown",
   "metadata": {},
   "source": [
    "First, we shall have\n",
    "\n",
    "\\begin{equation} \\label{eqPU0s}\n",
    "\\boxed{\n",
    "\\frac{\\partial U_{0}}{\\partial \\varepsilon} = \\sigma }\n",
    "\\end{equation}\n",
    "\n",
    "In the general case in 3D solids, we shall have a total of 9 mutually orthogonal stress components, and corresponding 9 **mutually orthogonal** strain components. Each pair of these 9 stress-strain component pairs are in the same direction. Therefore, the strain energy density should be the sum of all the strain energy densities of the corresponding stress-strain component pairs, which can be expressed as\n",
    "\n",
    "\\begin{equation} \\label{eqUx23}\n",
    "\\boxed{\n",
    "\\begin{split}\n",
    "U_{0} &= \\int_0^{\\varepsilon_{11}}  \\sigma(\\varepsilon'_{11})d\\varepsilon'_{11}+ \\int_0^{\\varepsilon_{22}}  \\sigma(\\varepsilon'_{22})d\\varepsilon'_{22}+ \\int_0^{\\varepsilon_{33}}  \\sigma(\\varepsilon'_{33})d\\varepsilon'_{33}\\\\&+ 2\\int_0^{\\varepsilon_{23}}  \\sigma(\\varepsilon'_{23})d\\varepsilon'_{23}+ 2\\int_0^{\\varepsilon_{13}}  \\sigma(\\varepsilon'_{13})d\\varepsilon'_{13}+ 2\\int_0^{\\varepsilon_{12}}  \\sigma(\\varepsilon'_{12})d\\varepsilon'_{12}\n",
    "\\end{split} }\n",
    "\\end{equation}"
   ]
  },
  {
   "cell_type": "markdown",
   "metadata": {},
   "source": [
    "##### Symmetry from the smoothness of the strain energy density *\n",
    "\n",
    "In which we used the shear stress equivalence, and hence 9 terms is reduced to 6. We obtain, \n",
    "\n",
    "\\begin{equation} \\label{eqPU0x23}\n",
    "\\begin{split}\n",
    "&\\frac{\\partial U_{0}}{\\partial \\varepsilon_{11}} = \\sigma_{11}; \\;\\; \n",
    "&\\frac{\\partial U_{0}}{\\partial \\varepsilon_{22}} = \\sigma_{22}; \\;\\; \n",
    "&\\frac{\\partial U_{0}}{\\partial \\varepsilon_{33}} = \\sigma_{33}\\\\ \n",
    "&\\frac{\\partial U_{0}}{\\partial \\varepsilon_{23}} = 2\\sigma_{23}; \\;\\; \n",
    "&\\frac{\\partial U_{0}}{\\partial \\varepsilon_{13}} = 2\\sigma_{13}; \\;\\; \n",
    "&\\frac{\\partial U_{0}}{\\partial \\varepsilon_{12}} = 2\\sigma_{12} \n",
    "\\end{split}\n",
    "\\end{equation}\n",
    "\n",
    "This is because of the partial differentiation. "
   ]
  },
  {
   "cell_type": "markdown",
   "metadata": {},
   "source": [
    "Using the first two equations in Eq.(\\ref{eqSCE36}), we obtain\n",
    "\n",
    "\\begin{equation} \\label{eqpU0pe}\n",
    "\\begin{split}\n",
    "&\\frac{\\partial U_{0}}{\\partial \\varepsilon_{11}} = \\sigma_{11}= \n",
    "C_{1111}\\varepsilon_{11}+  C_{1122}\\varepsilon_{22}+ C_{1133}\\varepsilon_{33}+ 2C_{1123}\\varepsilon_{23}+2C_{1113}\\varepsilon_{13}+2C_{1112}\\varepsilon_{12} \\\\ \n",
    "&\\frac{\\partial U_{0}}{\\partial \\varepsilon_{22}} = \\sigma_{22}= \n",
    "C_{2211}\\varepsilon_{11}+  C_{2222}\\varepsilon_{22}+ C_{2233}\\varepsilon_{33}+ 2C_{2223}\\varepsilon_{23}+2C_{2213}\\varepsilon_{13}+2C_{2212}\\varepsilon_{12} \n",
    "\\end{split}\n",
    "\\end{equation}\n",
    "\n",
    "Next, we perform the 2nd derivatives to $U_0$, which leads to \n",
    "\\begin{equation} \\label{eqpU0pe2}\n",
    "\\frac{\\partial^2 U_{0}}{\\partial \\varepsilon_{11}\\partial \\varepsilon_{22}} =  C_{1122};  \\;\\;\\; \n",
    "\\frac{\\partial^2 U_{0}}{\\partial \\varepsilon_{22}\\partial \\varepsilon_{11}} = \n",
    "C_{2211}\n",
    "\\end{equation}"
   ]
  },
  {
   "cell_type": "markdown",
   "metadata": {},
   "source": [
    "Based on the Schwarz's theorem which states that if a function is 2nd order continuously differentiable, the mixed partial derivatives must be equal. This gives, \n",
    "\n",
    "\\begin{equation} \\label{eqc1122}\n",
    "   C_{1122}= C_{2211}\n",
    "\\end{equation}\n",
    "\n",
    "Similarly, using the first and fourth equations in Eq.(\\ref{eqSCE36}), we obtain\n",
    "\n",
    "\\begin{equation} \\label{eqc1123}\n",
    "   C_{1123}= C_{2311}\n",
    "\\end{equation}\n",
    "\n",
    "Repeating the same, for other pairs of equations in Eq.(\\ref{eqSCE36}), we shall find the following additional symmetry condition for the 4th order tensor:\n",
    "\n",
    "\\begin{equation} \\label{eqCsym}\n",
    "C_{ijkl} = C_{klij}  \n",
    "\\end{equation}"
   ]
  },
  {
   "cell_type": "markdown",
   "metadata": {},
   "source": [
    "##### Reduction due to strain energy density symmetry, $ 36\\to 21$ *\n",
    "\n",
    "Condition Eq.(\\ref{eqCsym}) makes the $\\mathbf{C}$ in Eq.(\\ref{eqSCE36}) symmetric, and hence reduces number of elasticity constants by 15. The independent constants becomes to 21. The stress-strain relation can be written in the following **symmetric matrix** of $9\\times 9$.\n",
    "\n",
    "\\begin{equation} \\label{eqSCEm}\n",
    "\\begin{bmatrix}\n",
    "\\sigma_{11} \\\\ \\sigma_{22} \\\\ \\sigma_{33} \\\\ \\sigma_{23} \\\\ \\sigma_{13} \\\\ \\sigma_{12} \\end{bmatrix} = \n",
    "\\begin{bmatrix}  \n",
    "C_{1111} &  C_{1122} & C_{1133} & C_{1123} & C_{1113} & C_{1112} \\\\ \n",
    "         &  C_{2222} & C_{2233} & C_{2223} & C_{2213} & C_{2212} \\\\ \n",
    "         &           & C_{3333} & C_{3323} & C_{3313} & C_{3312} \\\\ \n",
    "         &           &          & C_{2323} & C_{2313} & C_{2312} \\\\ \n",
    "         &   sym.    &          &          & C_{1313} & C_{1312} \\\\ \n",
    "         &           &          &          &          & C_{1212} \n",
    " \\end{bmatrix} = \\begin{bmatrix}\n",
    "\\varepsilon_{11} \\\\ \\varepsilon_{22} \\\\ \\varepsilon_{33} \\\\ 2\\varepsilon_{23} \\\\ 2\\varepsilon_{13} \\\\ 2\\varepsilon_{12} \\end{bmatrix}\n",
    "\\end{equation}"
   ]
  },
  {
   "cell_type": "markdown",
   "metadata": {},
   "source": [
    "#### Tensor vs. matrix, a discussion *\n",
    "\n",
    "Note, in Eq.(\\ref{eqSCEm}), that the stress and strain tensors are now written as vectors, because of its symmetry and thus the 9 components is reduced to 6. In this form of vector stress or strain, it is no longer a tensor, because our transformation rule does not apply any more. Therefore, when we want to perform coordinate rotation and examine the stress and strain components, we would still need to use their tensor form of stress, Eq.(\\ref{eqSrs}), or strain Eq.(\\ref{eqEkl}). \n",
    "\n",
    "The same situation is for the elasticity constant matrix $\\mathbf{C}$. It is no longer a tensor. The transformation of its components needs to go back to use the tensor transformation rule given in Eq.(\\ref{eqCrspq}), or use our function Tensor4_Transfer() given earlier. Therefore, conversion between 2D matrix $\\mathbf{C}$ and 4th order tensor $C_{ijkl}$ is needed. \n",
    "\n",
    "The alternative is to manually handcrafted to transfer each of the components in $\\mathbf{C}$. "
   ]
  },
  {
   "cell_type": "markdown",
   "metadata": {},
   "source": [
    "### The Voigt notation *\n",
    "\n",
    "By substituting pairs of indexes $11\\to 1$, $22\\to 2$, $33\\to 3$,$23\\to 4$, $13\\to 5$,$12\\to 6$, Eq.(\\ref{eqSCEm}) can be further expressed using the so-called Voigt notation \\cite{Ting1996AnisotropicET, boresi2010elasticity}: \n",
    "\n",
    "\\begin{equation} \\label{eqCvoigt}\n",
    "\\underbrace{\\begin{bmatrix}\n",
    "\\sigma_{11} \\\\ \\sigma_{22} \\\\ \\sigma_{33} \\\\ \\sigma_{23} \\\\ \\sigma_{13} \\\\ \\sigma_{12} \\end{bmatrix}}_{\\vec{\\boldsymbol\\sigma}} = \n",
    "\\underbrace{\\begin{bmatrix}  \n",
    "C_{11} &  C_{12} & C_{13} & C_{14} & C_{15} & C_{16} \\\\ \n",
    "       &  C_{22} & C_{23} & C_{24} & C_{25} & C_{26} \\\\ \n",
    "       &         & C_{33} & C_{34} & C_{35} & C_{36} \\\\ \n",
    "       &         &        & C_{44} & C_{45} & C_{46} \\\\ \n",
    "       &   sym.  &        &        & C_{55} & C_{56} \\\\ \n",
    "       &         &        &        &        & C_{66} \n",
    " \\end{bmatrix}}_{\\mathbf{C}} = \\underbrace{\\begin{bmatrix}\n",
    "\\varepsilon_{11} \\\\ \\varepsilon_{22} \\\\ \\varepsilon_{33} \\\\ 2\\varepsilon_{23} \\\\ 2\\varepsilon_{13} \\\\ 2\\varepsilon_{12} \\end{bmatrix}}_{\\vec{\\boldsymbol\\varepsilon}}\n",
    "\\end{equation}\n",
    "\n",
    "which can be written as,\n",
    "\n",
    "\\begin{equation} \\label{eqSCEm1}\n",
    "\\boxed{\n",
    "\\vec{\\boldsymbol\\sigma} = \\mathbf{C} \\vec{\\boldsymbol\\varepsilon} }\n",
    "\\end{equation}\n",
    "\n",
    "The $\\mathbf{C}$ matrix is symmetric. It can be computed for anisotropic composite materials \\cite{liu2001elastic} and for isotropic materials using its Young's modulus and Poisson's ratio (see Section 2.2.2 in textbook \\cite{liu2013finite}). The $\\mathbf{C}$ matrix can also expressed as $[C_{\\alpha \\beta}]$, where $\\alpha, \\beta = 1,2,...,6$. The use of Voigt notation is important for engineering application, because it enables practical means to create 4th order tensor through engineering measurements. We can now produce a $6\\times 6$ stiffness matrix first, and then convert it to a $3\\times 3\\times 3\\times 3$ tensor. \n",
    "\n",
    "We mention, but without further elaboration, there is an alternative handcrafted way to convert between a $6\\times 6$ compliance matrix and a $3\\times 3\\times 3\\times 3$ 4th strain tensor. Interested readers may refer to Ref.\\cite{Ting1996AnisotropicET}. "
   ]
  },
  {
   "cell_type": "markdown",
   "metadata": {},
   "source": [
    " ### Codes for conversion between a 2D matrix to 4th tensor *\n",
    "\n",
    "We write the following codes for conversion between a C(6,6) matrix and a 4th tensor C(3,3,3,3). The function C2toC4() which converts 2D C(6,6) matrix (in the Voigt notation) to its 4th tensor C(3,3,3,3) form. Code function C4toC2() converts a 4th tensor C(3,3,3,3) to its 2D C(6,6) matrix.   "
   ]
  },
  {
   "cell_type": "code",
   "execution_count": 4,
   "metadata": {
    "ExecuteTime": {
     "end_time": "2024-02-04T12:53:42.425248Z",
     "start_time": "2024-02-04T12:53:42.406296Z"
    }
   },
   "outputs": [],
   "source": [
    "def C2toC4(C2):\n",
    "    '''To convert C(6,6) matrix (the Voigt notation) to  \n",
    "       4th tensor C(3,3,3,3).'''\n",
    "    C4 = np.zeros((3,3,3,3))                     #Initialization\n",
    "             \n",
    "    # Pass over all C(6,6) to parts of C(3,3,3,3)\n",
    "    C4[0,0,0,0],C4[0,0,1,1],C4[0,0,2,2] = C2[0,0],C2[0,1],C2[0,2]\n",
    "    C4[0,0,1,2],C4[0,0,0,2],C4[0,0,0,1] = C2[0,3],C2[0,4],C2[0,5]\n",
    "\n",
    "    C4[1,1,0,0],C4[1,1,1,1],C4[1,1,2,2] = C2[1,0],C2[1,1],C2[1,2]\n",
    "    C4[1,1,1,2],C4[1,1,0,2],C4[1,1,0,1] = C2[1,3],C2[1,4],C2[1,5]\n",
    "\n",
    "    C4[2,2,0,0],C4[2,2,1,1],C4[2,2,2,2] = C2[2,0],C2[2,1],C2[2,2]\n",
    "    C4[2,2,1,2],C4[2,2,0,2],C4[2,2,0,1] = C2[2,3],C2[2,4],C2[2,5]\n",
    "\n",
    "    C4[1,2,0,0],C4[1,2,1,1],C4[1,2,2,2] = C2[3,0],C2[3,1],C2[3,2]\n",
    "    C4[1,2,1,2],C4[1,2,0,2],C4[1,2,0,1] = C2[3,3],C2[3,4],C2[3,5]\n",
    "\n",
    "    C4[0,2,0,0],C4[0,2,1,1],C4[0,2,2,2] = C2[4,0],C2[4,1],C2[4,2]\n",
    "    C4[0,2,1,2],C4[0,2,0,2],C4[0,2,0,1] = C2[4,3],C2[4,4],C2[4,5]\n",
    "\n",
    "    C4[0,1,0,0],C4[0,1,1,1],C4[0,1,2,2] = C2[5,0],C2[5,1],C2[5,2]\n",
    "    C4[0,1,1,2],C4[0,1,0,2],C4[0,1,0,1] = C2[5,3],C2[5,4],C2[5,5]\n",
    "                             \n",
    "    # Imporse (minor) symmetric conditions\n",
    "    apply_symmetry(C4, key = \"all\", tol=1.e-4)\n",
    "    \n",
    "    return C4"
   ]
  },
  {
   "cell_type": "code",
   "execution_count": 5,
   "metadata": {
    "ExecuteTime": {
     "end_time": "2024-02-04T12:53:43.459304Z",
     "start_time": "2024-02-04T12:53:43.438359Z"
    }
   },
   "outputs": [],
   "source": [
    "# Imporse (minor) symmetric conditions\n",
    "def apply_symmetry(C4, key = \"all\", tol=1.e-2):\n",
    "    if key == \"all\" or key == \"ij\":\n",
    "        for k in range(3):\n",
    "            for l in range(3):\n",
    "                for i in range(3):\n",
    "                    for j in range(i+1,3):\n",
    "                        if abs(C4[j,i,k,l]) <= tol:\n",
    "                            C4[j,i,k,l]=C4[i,j,k,l]\n",
    "                            \n",
    "    if key == \"all\" or key == \"kl\":\n",
    "        for k in range(3):\n",
    "            for l in range(k+1,3):\n",
    "                for i in range(3):\n",
    "                    for j in range(3):\n",
    "                        if abs(C4[i,j,l,k]) <= tol:\n",
    "                            C4[i,j,l,k]=C4[i,j,k,l]\n",
    "                            \n",
    "    if key == \"all\" or key == \"ijkl\":\n",
    "        for k in range(3):\n",
    "            for l in range(3):\n",
    "                for i in range(k+1,3):\n",
    "                    for j in range(l+1,3):\n",
    "                        if abs(C4[i,j,k,l]) <= tol:\n",
    "                            C4[i,j,k,l]=C4[k,l,i,j]\n",
    "    return C4"
   ]
  },
  {
   "cell_type": "code",
   "execution_count": 6,
   "metadata": {
    "ExecuteTime": {
     "end_time": "2024-02-04T12:53:44.544819Z",
     "start_time": "2024-02-04T12:53:44.527824Z"
    }
   },
   "outputs": [],
   "source": [
    "def C4toC2(C4):\n",
    "    '''To convert 4th tensor C(3,3,3,3) to C(6,6) matrix \n",
    "       (the Voigt notation).'''\n",
    "    C2 = np.zeros((6,6))\n",
    "    C2[0,0],C2[0,1],C2[0,2]=C4[0,0,0,0],C4[0,0,1,1],C4[0,0,2,2]\n",
    "    C2[0,3],C2[0,4],C2[0,5]=C4[0,0,1,2],C4[0,0,0,2],C4[0,0,0,1]\n",
    "\n",
    "    C2[1,0],C2[1,1],C2[1,2]=C4[1,1,0,0],C4[1,1,1,1],C4[1,1,2,2]\n",
    "    C2[1,3],C2[1,4],C2[1,5]=C4[1,1,1,2],C4[1,1,0,2],C4[1,1,0,1]\n",
    "\n",
    "    C2[2,0],C2[2,1],C2[2,2]=C4[2,2,0,0],C4[2,2,1,1],C4[2,2,2,2]\n",
    "    C2[2,3],C2[2,4],C2[2,5]=C4[2,2,1,2],C4[2,2,0,2],C4[2,2,0,1]\n",
    "\n",
    "    C2[3,0],C2[3,1],C2[3,2]=C4[1,2,0,0],C4[1,2,1,1],C4[1,2,2,2]\n",
    "    C2[3,3],C2[3,4],C2[3,5]=C4[1,2,1,2],C4[1,2,0,2],C4[1,2,0,1]\n",
    "\n",
    "    C2[4,0],C2[4,1],C2[4,2]=C4[0,2,0,0],C4[0,2,1,1],C4[0,2,2,2]\n",
    "    C2[4,3],C2[4,4],C2[4,5]=C4[0,2,1,2],C4[0,2,0,2],C4[0,2,0,1]\n",
    "\n",
    "    C2[5,0],C2[5,1],C2[5,2]=C4[0,1,0,0],C4[0,1,1,1],C4[0,1,2,2]\n",
    "    C2[5,3],C2[5,4],C2[5,5]=C4[0,1,1,2],C4[0,1,0,2],C4[0,1,0,1]\n",
    "    \n",
    "    return C2"
   ]
  },
  {
   "cell_type": "markdown",
   "metadata": {},
   "source": [
    "### Monoclinic materials, $21\\to 13$\n",
    "\n",
    "For special materials, the 2D Voigt matrix can be further simplified, if there is some plane of mirror symmetry. Linearly elastic monoclinic solid has one plane of material symmetry, say $z=0$. This means that the shear strains $\\varepsilon_{13}$ and $\\varepsilon_{23}$ should not results in any normal stresses. Thus, $C_{14}=C_{24}=C_{34}=0$ and $C_{15}=C_{25}=C_{35}=0$. In addition, the shear strains $\\varepsilon_{12}$ should not results in any shear stresses $\\sigma_{23}$ and $\\sigma_{23}$, due to the mirror symmetry with respect to $z=0$. These forces 8 constants to zero, $\\mathbf{C}$ has now 13 independent elasticity constants as shown below. \n",
    "\n",
    "\\begin{equation} \\label{eqC13}\n",
    "\\mathbf{C} = [C_{\\alpha \\beta}]=\n",
    "\\begin{bmatrix}  \n",
    "C_{11} &  C_{12} & C_{13} &     0 &       0 & C_{16} \\\\ \n",
    "       &  C_{22} & C_{23} &     0 &       0 & C_{26} \\\\ \n",
    "       &         & C_{33} &     0 &       0 & C_{36} \\\\ \n",
    "       &         &        & C_{44} & C_{45} &      0 \\\\ \n",
    "       &   sym.  &        &        & C_{55} &      0 \\\\ \n",
    "       &         &        &        &        & C_{66} \n",
    " \\end{bmatrix}\n",
    "\\end{equation}"
   ]
  },
  {
   "cell_type": "markdown",
   "metadata": {},
   "source": [
    "### Orthotropic materials, $13\\to 9$\n",
    "\n",
    "If the material has three mutually orthogonal planes of mirror symmetry, the number of independent elastic constants reduces to 9. The arguments on this are similar to these we made in the previous sub-section. The $\\mathbf{C}$ matrix becomes,\n",
    "\n",
    "\\begin{equation} \\label{eqC9}\n",
    "\\mathbf{C} = [C_{\\alpha \\beta}]=\n",
    "\\begin{bmatrix}  \n",
    "C_{11} &  C_{12} & C_{13} &     0  &      0 &      0 \\\\ \n",
    "       &  C_{22} & C_{23} &     0  &      0 &      0 \\\\ \n",
    "       &         & C_{33} &     0  &      0 &      0 \\\\ \n",
    "       &         &        & C_{44} &      0 &      0 \\\\ \n",
    "       &   sym.  &        &        & C_{55} &      0 \\\\ \n",
    "       &         &        &        &        & C_{66} \n",
    " \\end{bmatrix}\n",
    "\\end{equation}"
   ]
  },
  {
   "cell_type": "markdown",
   "metadata": {},
   "source": [
    "### Transversely isotropic materials, $9\\to 5$\n",
    "\n",
    "When the mechanical properties of the material are symmetric about an axis that is normal to a plane of isotropy, say $x-y$ plane, the independent number of elasticity constants becomes 5, and the $\\mathbf{C}$ matrix can be given by\n",
    "\n",
    "\\begin{equation} \\label{eqC5}\n",
    "\\boxed{\n",
    "\\mathbf{C} = [C_{\\alpha \\beta}]=\n",
    "\\begin{bmatrix}  \n",
    "C_{11} &  C_{12} & C_{13} &     0  &      0 &      0 \\\\ \n",
    "       &  C_{11} & C_{13} &     0  &      0 &      0 \\\\ \n",
    "       &         & C_{33} &     0  &      0 &      0 \\\\ \n",
    "       &         &        & C_{44} &      0 &      0 \\\\ \n",
    "       &   sym.  &        &        & C_{44} &      0 \\\\ \n",
    "       &         &        &        &        & \\frac{1}{2}(C_{11}-C_{12}) \n",
    " \\end{bmatrix} }\n",
    "\\end{equation}\n",
    " "
   ]
  },
  {
   "cell_type": "markdown",
   "metadata": {},
   "source": [
    "### Cubic materials, $5\\to 3$\n",
    "\n",
    "Cubic materials possess three mutually orthogonal planes of mirror symmetry, and the elasticity constants are the same along these three orthogonal directions. Its independent number of elasticity constants becomes 3, and the $\\mathbf{C}$ matrix can be given by\n",
    "\n",
    "\\begin{equation} \\label{eqC3}\n",
    "\\mathbf{C} = [C_{\\alpha \\beta}]=\n",
    "\\begin{bmatrix}  \n",
    "C_{11} &  C_{12} & C_{12} &     0  &      0 &      0 \\\\ \n",
    "       &  C_{11} & C_{12} &     0  &      0 &      0 \\\\ \n",
    "       &         & C_{11} &     0  &      0 &      0 \\\\ \n",
    "       &         &        & C_{44} &      0 &      0 \\\\ \n",
    "       &   sym.  &        &        & C_{44} &      0 \\\\ \n",
    "       &         &        &        &        & C_{44} \n",
    " \\end{bmatrix}\n",
    "\\end{equation}"
   ]
  },
  {
   "cell_type": "markdown",
   "metadata": {},
   "source": [
    "### Isotropic materials, $3\\to 2$\n",
    "\n",
    "#### For 3D problems\n",
    "\n",
    "Isotropic materials' elasticity constants are direction-independent. Any plane would be a plane of mirror symmetry. Its independent number of elasticity constants becomes 2, and the $\\mathbf{C}$ matrix can be given by\n",
    "\n",
    "\\begin{equation} \\label{eqC2}\n",
    "\\boxed{\n",
    "\\mathbf{C} = [C_{\\alpha \\beta}]=\n",
    "\\begin{bmatrix}  \n",
    "C_{11} &  C_{12} & C_{12} &     0  &      0 &      0 \\\\ \n",
    "       &  C_{11} & C_{12} &     0  &      0 &      0 \\\\ \n",
    "       &         & C_{11} &     0  &      0 &      0 \\\\ \n",
    "       &         &        &(C_{11}-C_{12})/2&      0 &      0 \\\\ \n",
    "       &   sym.  &        &        & (C_{11}-C_{12})/2 &      0 \\\\ \n",
    "       &         &        &        &        & (C_{11}-C_{12})/2 \n",
    " \\end{bmatrix} }\n",
    "\\end{equation}\n",
    "\n",
    "Its constitutive equation can have the following simple form in indicial notation: \n",
    "\n",
    "\\begin{equation} \\label{eqlameij}\n",
    "\\boxed{\n",
    "\\sigma_{ij}=2G \\varepsilon_{ij}+\\lambda \\delta_{ij}\\varepsilon_{kk} }\n",
    "\\end{equation}\n",
    "where \n",
    "\\begin{equation} \\label{eqLame2}\n",
    "\\boxed{\n",
    "\\begin{split}\n",
    "C_{11}&=\\frac{E(1-\\nu)}{(1-2\\nu)(1+\\nu)}=2G+𝜆\\\\\n",
    "C_{12}&=\\lambda =\\frac{E\\nu}{(1-2\\nu)(1+\\nu)}=\\frac{2G\\nu}{1-2\\nu}=\\frac{G(E-2G)}{3G-E}\\\\\n",
    "G&=\\mu=\\frac{E}{2(1+\\nu)} \n",
    "\\end{split} }\n",
    "\\end{equation}"
   ]
  },
  {
   "cell_type": "markdown",
   "metadata": {},
   "source": [
    "In which, $E$ is the Young's Modulus, $\\nu$ the Poisson's ratio and $G$ the shear modulus. They are also called the engineering constants, because they are obtained from engineering experiments. We will derive these relations in Eq.(\\ref{eqLame2}) later when discuss about the compliance matrix where the engineering constants are defined. \n",
    "\n",
    "Because of the last equation in Eq.(\\ref{eqLame2}), we have only two independent elastic constants, which is any pair of these three: $E$, $\\nu$, and $G$. Because of the various formulations for solid mechanics problems, these elastic constants are also written other forms, such as the bulk modulus $K$ for volume deformation, P-wave modulus$M$ for wave propagation problems. A comprehensive list of Conversion formulas for elastic constants can be found at the [Young modulus](https://en.wikipedia.org/wiki/Young%27s_modulus) page. \n",
    "\n",
    "Equation (\\ref{eqlameij}) can be written explicitly as:  \n",
    "\n",
    "\\begin{equation} \\label{eqselame}\n",
    "\\begin{split}\n",
    "&\\sigma_{11} &= \\lambda e+2G\\varepsilon_{11}\\\\ \n",
    "&\\sigma_{22} &= \\lambda e+2G\\varepsilon_{22}\\\\ \n",
    "&\\sigma_{33} &= \\lambda e+2G\\varepsilon_{33} \\\\\n",
    "&\\sigma_{23} &= 2G\\varepsilon_{23}\\\\ \n",
    "&\\sigma_{12} &= 2G\\varepsilon_{12}\\\\ \n",
    "&\\sigma_{13} &= 2G\\varepsilon_{13} \n",
    "\\end{split}\n",
    "\\end{equation}\n",
    "where \n",
    "\\begin{equation} \\label{eqe}\n",
    "e=\\varepsilon_{11}+\\varepsilon_{22}+\\varepsilon_{33}\n",
    "\\end{equation}"
   ]
  },
  {
   "cell_type": "markdown",
   "metadata": {},
   "source": [
    "Using Eq.(\\ref{eqlameij}), the 4th elasticity tensor for isotropic materials can be given as \n",
    "\n",
    "\\begin{equation} \\label{Cijkl-iso}\n",
    "C_{ijkl}= G (\\delta_{ik}\\delta_{jl}+\\delta_{il}\\delta_{jk})+\\lambda \\delta_{ij}\\delta_{kl}\n",
    "\\end{equation}\n",
    "\n",
    "Equation (\\ref{Cijkl-iso}) can be confirm easily simply by multiplying it with $\\varepsilon_{kl}$ from right, which shall lead to Eq.(\\ref{eqlameij}).\n",
    "\n",
    "By setting $j=i$ in Eq.(\\ref{eqlameij}), we obtain: \n",
    "\n",
    "\\begin{equation} \\label{eqlameijb}\n",
    "\\sigma_{kk}=(2G+3\\lambda)\\varepsilon_{kk} = 3K\\varepsilon_{kk}\n",
    "\\end{equation}\n",
    "\n",
    "where $K$ known as the **bulk modulus**, given by. \n",
    "\n",
    "\\begin{equation} \\label{K}\n",
    "K= \\lambda+\\frac{2}{3}G =\\frac{E}{3(1-2\\nu)}\n",
    "\\end{equation}\n",
    "\n",
    "We have 3 in front of $K$, because $\\sigma_{kk}$ is 3 times the hydrostatic stress. It is seen that when $\\nu$ approaches to 1/2, the bulk modulus approaches to infinity, implying that the material is compressible. This the root of the so-called volumetric locking issue in displacement methods for solid mechanics problems \\cite{liusmoothed, liu2002mesh}. \n",
    "\n",
    "Substituting Eq.(\\ref{eqlameijb}) into Eq.(\\ref{eqlameij}), we obtain strains in terms of stresses:\n",
    "\n",
    "\\begin{equation} \\label{eqlameijc}\n",
    "\\varepsilon_{ij}=\\frac{\\lambda \\delta_{ij}}{2G(2G+3\\lambda)} \\sigma_{kk}+\\frac{1}{2G}\\sigma_{ij}\n",
    "\\end{equation}"
   ]
  },
  {
   "cell_type": "markdown",
   "metadata": {},
   "source": [
    "Equation (\\ref{eqlameij}) can also be written in matrix form:\n",
    "\n",
    "\\begin{equation} \\label{eqlameTM}\n",
    "\\mathbf{σ}=2G\\mathbf{ε}+\\lambda \\mathrm{tr}(\\mathbf{ε})\\mathbf{I} \n",
    "\\end{equation}\n",
    "\n",
    "The $\\mathbf{C}$ matrix for isotropic materials can be written in these engineering constants: \n",
    "\n",
    "\\begin{equation} \\label{eqClame3}\n",
    "\\boxed{\n",
    "\\mathbf{C} = [C_{\\alpha \\beta}]=\n",
    "\\begin{bmatrix}  \n",
    "\\lambda+2G&\\lambda     &\\lambda     &     0  &      0 & 0 \\\\ \n",
    "            &\\lambda+2G&\\lambda     &     0  &      0 & 0 \\\\ \n",
    "            &            &\\lambda+2G&     0  &      0 & 0 \\\\ \n",
    "            &            &            &     G&      0 & 0 \\\\ \n",
    "            &   sym.     &            &        &     G& 0 \\\\ \n",
    "            &            &            &        &        & G\n",
    " \\end{bmatrix} }\n",
    "\\end{equation}"
   ]
  },
  {
   "cell_type": "markdown",
   "metadata": {},
   "source": [
    "Using Eqs.(\\ref{eqLame2}) and (\\ref{eqClame3}), the constitutive equation for isotropic materials can be written in the following explicit form, in terms of the Young's modulus and Poisson's ratio.\n",
    "\n",
    "\\begin{equation} \\label{eqseEnu}\n",
    "\\boxed{\n",
    "\\begin{split}\n",
    "&\\sigma_{11} = \\frac{E}{(1+\\nu)(1-2\\nu)}\\left[(1-\\nu)\\varepsilon_{11}+\\nu (\\varepsilon_{22}+\\varepsilon_{33}) \\right]\\\\ \n",
    "&\\sigma_{22} = \\frac{E}{(1+\\nu)(1-2\\nu)}\\left[(1-\\nu)\\varepsilon_{22}+\\nu (\\varepsilon_{11}+\\varepsilon_{33}) \\right]\\\\  \n",
    "&\\sigma_{33} = \\frac{E}{(1+\\nu)(1-2\\nu)}\\left[(1-\\nu)\\varepsilon_{33}+\\nu (\\varepsilon_{11}+\\varepsilon_{22}) \\right]\\\\  \n",
    "&\\sigma_{23} = \\frac{E}{(1+\\nu)} \\varepsilon_{23}; \\;\\; \n",
    " \\sigma_{13} = \\frac{E}{(1+\\nu)} \\varepsilon_{13}; \\;\\;\n",
    " \\sigma_{12} = \\frac{E}{(1+\\nu)} \\varepsilon_{12} \n",
    "\\end{split} }\n",
    "\\end{equation}"
   ]
  },
  {
   "cell_type": "markdown",
   "metadata": {},
   "source": [
    "Most importantly, for isotropic materials, the elastic constants and hence its 4th order elastic tensor is direction-independent, and hence they will not change with the coordinate rotation. We will demonstrate this important feature in later examples. "
   ]
  },
  {
   "cell_type": "markdown",
   "metadata": {},
   "source": [
    "#### For stress and strain invariants\n",
    "\n",
    "We can also write the constitution equations for stress and strain invariants. Such relations are particularly useful, because all there invariants are independent of coordinates. They are be obtained by using the definitions of stress invariants (see Section 3.8??) and strain invariants (see Section 4.9??), and the constitutive equations Eq.(\\ref{eqlameTM}) for stress-strain components. These are found as, \n",
    "\n",
    "\\begin{equation} \\label{eqII}\n",
    "\\begin{split}\n",
    "I_1&=(2G+3\\lambda)\\bar{I}_1 \\\\\n",
    "I_2&=\\lambda(4G+3\\lambda)\\bar{I}_1^2 +4G^2\\bar{I}_2  \\\\\n",
    "I_3&=\\lambda^2(2G+\\lambda)\\bar{I}_1^3 +4\\lambda G^2 \\bar{I}_1 \\bar{I}_2 +8G^3\\bar{I}_3 \n",
    "\\end{split}\n",
    "\\end{equation}\n"
   ]
  },
  {
   "cell_type": "markdown",
   "metadata": {},
   "source": [
    "#### For 2D plane stress problems\n",
    "\n",
    "Study general 3D problems can often be difficult. Many problems can be simplified as 2D problems, in which many stress or strain components are zero. We shall examine 2D problems in more detailed in the next chapter. \n",
    "\n",
    "One type of 2D problme is called 2D **plane stress** problems. The nonzero stresses stay, say, in the $x_1-x_2$ plane, we shall have  $\\sigma_{33}=\\sigma_{23}=\\sigma_{13} = 0$. Thus, the 3rd, 4th and 5th equations in Eq.(\\ref{eqseEnu}) give, \n",
    "\n",
    "\\begin{equation} \\label{eqsz0}\n",
    "\\varepsilon_{33}= \\frac{-\\nu}{1-\\nu}(\\varepsilon_{11}+\\varepsilon_{22}); \\;\\; \\varepsilon_{23}=0; \\;\\; \\varepsilon_{13}=0\n",
    "\\end{equation}\n",
    "\n",
    "Notice that the normal strain is nonzero. Substituting the 1st equation in Eq.(\\ref{eqsz0}) to (\\ref{eqseEnu}), with a little lengthy derivation, the constitutive equation reduces to: \n",
    "\n",
    "\\begin{equation} \\label{eqseEnu2D}\n",
    "\\begin{split}\n",
    "&\\sigma_{11} = \\frac{E}{(1-\\nu^2)}(\\varepsilon_{11}+\\nu \\varepsilon_{22})\\\\ \n",
    "&\\sigma_{22} = \\frac{E}{(1-\\nu^2)}(\\varepsilon_{22}+\\nu \\varepsilon_{11})\\\\ \n",
    "&\\sigma_{12} = \\frac{E}{(1+\\nu)} \\varepsilon_{12} \n",
    "\\end{split}\n",
    "\\end{equation}\n",
    "\n",
    "This is often written in matrix form: \n",
    "\n",
    "\\begin{equation} \\label{eqse2DM}\n",
    "\\boxed{\n",
    "\\begin{split}\n",
    "\\begin{bmatrix}  \\sigma_{11}\\\\ \\sigma_{22}\\\\ \\sigma_{12} \\end{bmatrix} &=\\underbrace{ \\frac{E}{(1-\\nu^2)} \\begin{bmatrix}\n",
    "  1 & \\nu & 0 \\\\ \n",
    "\\nu &   1 & 0 \\\\ \n",
    "  0 &  0  & \\frac{(1-\\nu)}{2}  \n",
    "\\end{bmatrix} }_{\\mathbf{C}} \\begin{bmatrix} \\varepsilon_{11}\\\\ \\varepsilon_{22}\\\\ 2\\varepsilon_{12} \\end{bmatrix} \\\\\n",
    "& =\\underbrace{ \\begin{bmatrix}\n",
    "  c_{11} & c_{12} & 0 \\\\ \n",
    "c_{12} &   c_{22} & 0 \\\\ \n",
    "  0 &  0  & c_{33} \n",
    "\\end{bmatrix} }_{\\mathbf{C}} \\begin{bmatrix} \\varepsilon_{11}\\\\ \\varepsilon_{22}\\\\ 2\\varepsilon_{12} \\end{bmatrix}\n",
    "\\end{split} } \n",
    "\\end{equation}"
   ]
  },
  {
   "cell_type": "markdown",
   "metadata": {},
   "source": [
    "#### For 2D plane strain problems\n",
    "\n",
    "Another type of 2D problem is the 2D **plane strain** problem. In this case the nonzero strains stay, say, in the $x_1-x_2$ plane, and we shall have  $\\varepsilon_{33}=\\varepsilon_{23}=\\varepsilon_{33} =0$. In this case, Eq.(\\ref{eqseEnu}) becomes, \n",
    " \n",
    "\\begin{equation} \\label{eqse2DE}\n",
    "\\begin{split}\n",
    "&\\sigma_{11} = \\frac{E}{(1+\\nu)(1-2\\nu)}\\left[(1-\\nu)\\varepsilon_{11}+\\nu \\varepsilon_{22} \\right]\\\\ \n",
    "&\\sigma_{22} = \\frac{E}{(1+\\nu)(1-2\\nu)}\\left[(1-\\nu)\\varepsilon_{22}+\\nu \\varepsilon_{11} \\right]\\\\  \n",
    "&\\sigma_{12} = \\frac{E}{(1+\\nu)} \\varepsilon_{12} \\\\\n",
    "&\\sigma_{33} = \\frac{\\nu E}{(1+\\nu)(1-2\\nu)}\\left[\\varepsilon_{22}+\\varepsilon_{11} \\right]; \\;\\; \\sigma_{23} = 0; \\;\\;  \\sigma_{13} = 0  \n",
    "\\end{split}\n",
    "\\end{equation}\n",
    "\n",
    "Notice in this case that $\\sigma_{33}$ is nonzero. The first 3 equations in Eq.(\\ref{eqse2DE}) is often written in matrix form: \n",
    "\n",
    "\\begin{equation} \\label{eqse2DEM}\n",
    "\\boxed{\\begin{split}\n",
    "\\begin{bmatrix}  \\sigma_{11}\\\\ \\sigma_{22}\\\\ \\sigma_{12} \\end{bmatrix}& =\\underbrace{ \\frac{E(1-\\nu)}{(1+\\nu)(1-2\\nu)} \\begin{bmatrix}\n",
    "  1 &     \\frac{\\nu}{1-\\nu} & 0 \\\\ \n",
    "  \\frac{\\nu}{1-\\nu}     & 1 & 0 \\\\ \n",
    "  0       &  0      & \\frac{(1-2\\nu)}{2(1-\\nu)}  \n",
    "\\end{bmatrix}}_{\\mathbf{C}} \\begin{bmatrix} \\varepsilon_{11}\\\\ \\varepsilon_{22}\\\\ 2\\varepsilon_{12} \\end{bmatrix} \\\\\n",
    "& =\\underbrace{ \\begin{bmatrix}\n",
    "  c_{11} & c_{12} & 0 \\\\ \n",
    "c_{12} &   c_{22} & 0 \\\\ \n",
    "  0 &  0  & c_{33} \n",
    "\\end{bmatrix} }_{\\mathbf{C}} \\begin{bmatrix} \\varepsilon_{11}\\\\ \\varepsilon_{22}\\\\ 2\\varepsilon_{12} \\end{bmatrix}\n",
    "\\end{split} } \n",
    "\\end{equation}  "
   ]
  },
  {
   "cell_type": "markdown",
   "metadata": {},
   "source": [
    "Note that we can obtain Eq.(\\ref{eqse2DEM}) simply by the following operation to Eq.(\\ref{eqse2DM}) (plane stress to plane strain).  \n",
    "\n",
    "\\begin{equation} \\label{eqStress2Strain}\n",
    "\\text{first: substitute } \\; \\nu \\; \\text{ by } \\; \\frac{\\nu}{(1-\\nu)}\\\\\n",
    "\\text{then: substitute } \\; E \\; \\text{ by } \\; \\frac{E}{(1-\\nu^2)}\\\\\n",
    "\\text{no change in } \\; G\n",
    "\\end{equation}  "
   ]
  },
  {
   "cell_type": "markdown",
   "metadata": {},
   "source": [
    "### Mean and deviatoric stress and strain tensors\n",
    "\n",
    "The mean stress is defined as the averaged normal stresses: \n",
    "\n",
    "\\begin{equation} \\label{eqmeanS}\n",
    "\\sigma_{m}=\\frac{\\sigma_{kk}}{3}=\\frac{\\sigma_{11}+\\sigma_{22}+\\sigma_{33}}{3}\n",
    "\\end{equation}\n",
    "\n",
    "It is essentially the same as the so-called hydrostatic stress. The mean stress tensor is formed using the mean stress as follows. \n",
    "\n",
    "\\begin{equation} \\label{eqmeanSt}\n",
    "\\sigma_{ij}=\\sigma_{m}\\delta_{ij} \n",
    "\\end{equation}\n",
    "\n",
    "Or in tensor matrix form: \n",
    "\n",
    "\\begin{equation} \\label{eqmeanStM}\n",
    "\\mathbf{σ}_m= \\begin{bmatrix}\n",
    "  \\sigma_{m} &      0     & 0 \\\\ \n",
    "          0  & \\sigma_{m} & 0 \\\\ \n",
    "     0       &  0         & \\sigma_{m} \\end{bmatrix}  \n",
    "\\end{equation}\n",
    "\n",
    "The deviatoric stress tensor is defined as the stress tensor minus the mean stress tensor: \n",
    "\n",
    "\\begin{equation} \\label{eqStD}\n",
    "\\mathbf{σ}_d = [s_{ij}] = \\begin{bmatrix}\n",
    "  \\sigma_{11}-\\sigma_{m} & \\sigma_{12} & \\sigma_{13}\\\\ \n",
    "  \\sigma_{12} & \\sigma_{22}-\\sigma_{m} & \\sigma_{23} \\\\ \n",
    "  \\sigma_{13} & \\sigma_{23}& \\sigma_{33}-\\sigma_{m} \\end{bmatrix}  \n",
    "\\end{equation}\n",
    "Or\n",
    "\\begin{equation} \\label{eqStDij}\n",
    "s_{ij}= \\sigma_{ij}-\\frac{\\sigma_{kk}}{3}\\delta_{ij}  \n",
    "\\end{equation}\n",
    "\n",
    "The deviatoric strain tensor is defined as in the similar way as: \n",
    "\n",
    "\\begin{equation} \\label{eqEtDij}\n",
    "e_{ij}= \\varepsilon_{ij}-\\frac{\\varepsilon_{kk}}{3}\\delta_{ij}  \n",
    "\\end{equation}\n",
    "\n",
    "The deviatoric stress and strain tensors are related as follows. \n",
    "\n",
    "\\begin{equation} \\label{eqDSEij}\n",
    "s_{ij}= 2G e_{ij}\n",
    "\\end{equation}\n",
    "\n",
    "The mean stress and mean strain are related as\n",
    "\n",
    "\\begin{equation} \\label{eqmeanSE}\n",
    "\\sigma_{m}=\\underbrace{\\lambda+\\frac{2}{3}G}_{K} \\; \\varepsilon_{kk}\n",
    "\\end{equation}\n",
    "\n",
    "where $K$ is the bulk modulus given in Eq.(\\ref{K})."
   ]
  },
  {
   "cell_type": "markdown",
   "metadata": {},
   "source": [
    "### Compliance matrix\n",
    "\n",
    "The $\\mathbf{C}$ matrix is also called stiffness matrix of materials, because it represents how stiff the materials is. Frequently, we use also compliance matrix. It can be obtained by inversing the stiffness matrix, as long as the material is stable ($\\mathbf{C}$ is positive definite, hence invertible).  \n",
    "\n",
    "\\begin{equation} \\label{eqS0}\n",
    "\\mathbf{S} = [S_{\\alpha \\beta}] = \\mathbf{C}^{-1}\n",
    "\\end{equation}"
   ]
  },
  {
   "cell_type": "markdown",
   "metadata": {},
   "source": [
    "#### Compliance matrix for orthotropic materials\n",
    "\n",
    "For composite materials, we often obtain first the compliance matrix through measuring the Young's modulus and Poisson's ratios, and then compute the stiffness matrix via inversion. For orthotropic materials, for example, we have: \n",
    "\n",
    "\\begin{equation} \\label{eqSOrth0}\n",
    "\\boxed{\n",
    "\\underbrace{\\begin{bmatrix}\n",
    "\\varepsilon_{11} \\\\ \\varepsilon_{22} \\\\ \\varepsilon_{33} \\\\ 2\\varepsilon_{23} \\\\ 2\\varepsilon_{13} \\\\ 2\\varepsilon_{12} \\end{bmatrix}}_{\\vec{\\boldsymbol\\varepsilon}}\n",
    "=\\underbrace{\\begin{bmatrix}  \n",
    "\\frac{1}{E_1}   &\\frac{-\\nu_{21}}{E_2}&\\frac{-\\nu_{31}}{E_3}&  0  &  0 & 0 \\\\ \n",
    "\\frac{-\\nu_{12}}{E_1}&\\frac{1}{E_2} &\\frac{-\\nu_{32}}{E_3}&  0  &   0 & 0 \\\\ \n",
    "\\frac{-\\nu_{13}}{E_1}&\\frac{-\\nu_{23}}{E_2}&\\frac{1}{E_3} &  0  &   0 & 0 \\\\ \n",
    "    0      &    0    &      0    &\\frac{1}{G_{23}}&      0 & 0 \\\\ \n",
    "     0       &   0     &     0       &    0    &\\frac{1}{G_{13}}& 0 \\\\ \n",
    "       0     &      0      &     0       &    0    &   0     &\\frac{1}{G_{12}}\n",
    " \\end{bmatrix}}_{\\mathbf{S}}\n",
    " \\underbrace{\\begin{bmatrix}\n",
    "\\sigma_{11} \\\\ \\sigma_{22} \\\\ \\sigma_{33} \\\\ \\sigma_{23} \\\\ \\sigma_{13} \\\\ \\sigma_{12} \\end{bmatrix}}_{\\vec{\\boldsymbol\\sigma}} }\n",
    "\\end{equation}\n",
    "Or\n",
    "\\begin{equation} \\label{eqSSEm1}\n",
    "\\boxed{\n",
    "\\vec{\\boldsymbol\\varepsilon}= \\mathbf{S}\\vec{\\boldsymbol\\sigma}  }\n",
    "\\end{equation}\n",
    "\n",
    "In addition, it offers conveniences to use the following symmetric relations: \n",
    "\n",
    "\\begin{equation} \\label{eqSOrth2}\n",
    "\\frac{\\nu_{12}}{E_1}=\\frac{\\nu_{21}}{E_2};\\;\\;\n",
    "\\frac{\\nu_{13}}{E_1}=\\frac{\\nu_{31}}{E_3};\\;\\;\n",
    "\\frac{\\nu_{23}}{E_2}=\\frac{\\nu_{32}}{E_3}\n",
    "\\end{equation}\n",
    "\n",
    "Because the Young's moduli and Poisson's ratios can be measured from experiments, it is often easier to obtain the compliance matrix, and then converted it to stiffness matrix. "
   ]
  },
  {
   "cell_type": "markdown",
   "metadata": {
    "ExecuteTime": {
     "end_time": "2024-02-04T14:41:50.878430Z",
     "start_time": "2024-02-04T14:41:50.861475Z"
    }
   },
   "source": [
    "#### Python Code for elasticity matrix for orthotropic materials (3D problems)\n",
    "\n",
    "We write the following function to form a $6\\times 6$ compliance matrix using Young's moduli and Poisson's ratios, and then compute the $6\\times 6$ stiffness matrix via matrix inversion. We will use it for multiple times in the later examples. "
   ]
  },
  {
   "cell_type": "code",
   "execution_count": 37,
   "metadata": {
    "ExecuteTime": {
     "end_time": "2024-02-04T14:56:04.614673Z",
     "start_time": "2024-02-04T14:56:04.595015Z"
    }
   },
   "outputs": [],
   "source": [
    "def E_SnC3D(E1, E2, E3, m12, m13, m23, G23, G13, G12):\n",
    "    '''Compute the S and C matrix in Voigt notation for given Young's  \n",
    "    moduli and Poisson's ratios of orthotropic materials for 3D prolems.\n",
    "    '''\n",
    "    S = np.zeros((6,6))             #initialization\n",
    "    m21, m31, m32 = m12/E1*E2, m13/E1*E3, m23/E2*E3\n",
    "    # compute the compliance matrix S \n",
    "    S[0,0], S[1,1], S[2,2] = 1./E1, 1./E2, 1./E3 \n",
    "    S[0,1], S[0,2], S[1,2] = -m21/E2, -m31/E2, -m32/E3\n",
    "    S[3,3], S[4,4], S[5,5] = 1./G23, 1./G13, 1./G12 \n",
    "    S[1,0], S[2,0], S[2,1] = S[0,1], S[0,2], S[1,2]\n",
    "    \n",
    "    # compute C matrix\n",
    "    C = np.linalg.inv(S)\n",
    "    \n",
    "    return C, S"
   ]
  },
  {
   "cell_type": "markdown",
   "metadata": {},
   "source": [
    "#### Plane stress problems\n",
    "\n",
    "For **plane stress** problems,  we shall have  $\\sigma_{33}=\\sigma_{23}=\\sigma_{13} = 0$. Equation (\\ref{eqSSEm1}) can be simplified as \n",
    "\n",
    "\\begin{equation} \\label{eqESEmps}\n",
    "\\boxed{\n",
    "\\begin{bmatrix}\\varepsilon _{11}\\\\\\varepsilon _{22}\\\\2\\varepsilon _{12}\\end{bmatrix}=\\underbrace{\\begin{bmatrix} \\frac {1}{E_1} &-\\frac {\\nu_{21}}{E_2} &0\\\\-\\frac {\\nu_{12}}{E_1} &\\frac{1}{E_2} &0\\\\0&0&\\frac{1}{G_{12}}\\end{bmatrix}}_{\\mathbf{S}}\n",
    "\\begin{bmatrix}\\sigma_{11}\\\\\\sigma_{22}\\\\\\sigma_{12}\\end{bmatrix} }\n",
    "\\end{equation}\n",
    "\n",
    "Note that 2D plane stress problems, the strain $\\varepsilon_{33}$ is not zero, and is given by\n",
    "\n",
    "\\begin{equation} \\label{eqE33PSa}\n",
    "\\varepsilon_{33}=-[\\frac{\\nu_{13}}{E_{1}}\\sigma_{11}+\\frac{\\nu_{23}}{E_{2}}\\sigma_{22}]\n",
    "\\end{equation}\n",
    "\n",
    "In reverse Eq.(\\ref{eqESEmps}) becomes, \n",
    "\n",
    "\\begin{equation} \\label{eqSSEmps}\n",
    "\\boxed{\n",
    "\\begin{bmatrix}\\sigma_{11}\\\\\\sigma_{22}\\\\\\sigma_{12}\\end{bmatrix}=\\underbrace{\\frac{1}{1-\\nu _{12}\\nu _{21}} \\begin{bmatrix}E_1&\\nu _{21}E_1&0\\\\ \\nu _{12}E_2&E_2&0\\\\0&0&G_{12}(1-\\nu _{12}\\nu _{21})\\end{bmatrix} }_{\\mathbf{C}} \\begin{bmatrix}\\varepsilon_{11}\\\\\\varepsilon_{22}\\\\2\\varepsilon_{12}\\end{bmatrix} }\n",
    "\\end{equation}\n",
    "\n",
    "For isotropic materials, we simply set $E_i=E$ and $\\nu _{ij}=\\nu$. "
   ]
  },
  {
   "cell_type": "markdown",
   "metadata": {
    "ExecuteTime": {
     "end_time": "2024-02-04T14:41:50.878430Z",
     "start_time": "2024-02-04T14:41:50.861475Z"
    }
   },
   "source": [
    "#### Python Code for elasticity matrix for orthotropic materials (2D plane stress)\n",
    "\n",
    "We write the following function to form a $3\\times 3$ compliance matrix using Young's moduli and Poisson's ratios, and then compute the $3\\times 3$ stiffness matrix via matrix inversion. We will use it for multiple times in the later examples. This code is for 2D plane stress problems. "
   ]
  },
  {
   "cell_type": "code",
   "execution_count": 65,
   "metadata": {
    "ExecuteTime": {
     "end_time": "2024-02-04T16:39:52.894982Z",
     "start_time": "2024-02-04T16:39:52.875399Z"
    }
   },
   "outputs": [],
   "source": [
    "def E_SnC2D_stress(E1, E2, m12, G12):\n",
    "    '''Compute the S and C matrix in Voigt notation for given Young's  \n",
    "    moduli and Poisson's ratios of orthotropic materials for 2D plan \n",
    "    stress prolems.\n",
    "    '''\n",
    "    S = np.zeros((3,3))             #initialization\n",
    "    m21 = m12/E1*E2 \n",
    "    # compute the compliance matrix S \n",
    "    S[0,0], S[1,1] = 1./E1, 1./E2 \n",
    "    S[0,1]         = -m21/E2 \n",
    "    S[1,0]         = S[0,1] \n",
    "    S[2,2]         = 1./G12 \n",
    "\n",
    "    # compute C matrix\n",
    "    C = np.linalg.inv(S)\n",
    "    \n",
    "    return C, S"
   ]
  },
  {
   "cell_type": "markdown",
   "metadata": {},
   "source": [
    "#### Plane strain problems\n",
    "For **plane strain** problems ($𝜀_{13}=𝜀_{23}=𝜀_{33}=0$),  the derivation of compliance matrix for orthotropic materials is quite tedious and prone making mistakes. We thus use Sympy to help in the derivation. We define first some symbolic variables. "
   ]
  },
  {
   "cell_type": "code",
   "execution_count": 8,
   "metadata": {
    "ExecuteTime": {
     "end_time": "2024-02-04T12:56:51.831638Z",
     "start_time": "2024-02-04T12:56:51.827647Z"
    }
   },
   "outputs": [],
   "source": [
    "E1, E2, E3 = symbols(\"E1, E2, E3\")\n",
    "𝜎11, 𝜎22 = symbols(\"𝜎11, 𝜎22\")\n",
    "𝜈12, 𝜈21, 𝜈13, 𝜈31, 𝜈23, 𝜈32 = symbols(\"𝜈12, 𝜈21, 𝜈13, 𝜈31, 𝜈23, 𝜈32\")"
   ]
  },
  {
   "cell_type": "markdown",
   "metadata": {},
   "source": [
    "Because $\\varepsilon_{33}=0$ for plane strain problems, we can compute the stress component  $\\sigma_{33}$, using the 3rd equation in Eq.(\\ref{eqSOrth0}): "
   ]
  },
  {
   "cell_type": "code",
   "execution_count": 9,
   "metadata": {
    "ExecuteTime": {
     "end_time": "2024-02-04T12:56:58.285428Z",
     "start_time": "2024-02-04T12:56:55.899582Z"
    }
   },
   "outputs": [
    {
     "data": {
      "image/png": "[encoded data removed]",
      "text/latex": [
       "$\\displaystyle \\frac{E_{3} 𝜈_{23} 𝜎_{22}}{E_{2}} + \\frac{E_{3} 𝜈_{13} 𝜎_{11}}{E_{1}}$"
      ],
      "text/plain": [
       "E₃⋅𝜈₂₃⋅𝜎₂₂   E₃⋅𝜈₁₃⋅𝜎₁₁\n",
       "────────── + ──────────\n",
       "    E₂           E₁    "
      ]
     },
     "execution_count": 9,
     "metadata": {},
     "output_type": "execute_result"
    }
   ],
   "source": [
    "𝜎33 = E3/E1*𝜈13*𝜎11 + E3/E2*𝜈23*𝜎22\n",
    "𝜎33"
   ]
  },
  {
   "cell_type": "markdown",
   "metadata": {},
   "source": [
    "Using now the first equation in (\\ref{eqSOrth0}), we compute $\\varepsilon_{11}$: "
   ]
  },
  {
   "cell_type": "code",
   "execution_count": 10,
   "metadata": {
    "ExecuteTime": {
     "end_time": "2024-02-04T12:57:01.834567Z",
     "start_time": "2024-02-04T12:57:00.727675Z"
    },
    "scrolled": true
   },
   "outputs": [
    {
     "data": {
      "image/png": "[encoded data removed]",
      "text/latex": [
       "$\\displaystyle - \\frac{𝜈_{21} 𝜎_{22}}{E_{2}} - \\frac{𝜈_{23} 𝜈_{31} 𝜎_{22}}{E_{2}} - \\frac{𝜈_{13} 𝜈_{31} 𝜎_{11}}{E_{1}} + \\frac{𝜎_{11}}{E_{1}}$"
      ],
      "text/plain": [
       "  𝜈₂₁⋅𝜎₂₂   𝜈₂₃⋅𝜈₃₁⋅𝜎₂₂   𝜈₁₃⋅𝜈₃₁⋅𝜎₁₁   𝜎₁₁\n",
       "- ─────── - ─────────── - ─────────── + ───\n",
       "     E₂          E₂            E₁        E₁"
      ]
     },
     "execution_count": 10,
     "metadata": {},
     "output_type": "execute_result"
    }
   ],
   "source": [
    "𝜀11 = 𝜎11/E1 - 𝜎22/E2*𝜈21 - 𝜎33/E3*𝜈31\n",
    "𝜀11.factor(𝜎11).simplify()"
   ]
  },
  {
   "cell_type": "markdown",
   "metadata": {},
   "source": [
    "Next, using the second equation in (\\ref{eqSOrth0}), we compute $\\varepsilon_{22}$: "
   ]
  },
  {
   "cell_type": "code",
   "execution_count": 11,
   "metadata": {
    "ExecuteTime": {
     "end_time": "2024-02-04T12:57:05.112264Z",
     "start_time": "2024-02-04T12:57:04.050749Z"
    }
   },
   "outputs": [
    {
     "data": {
      "image/png": "[encoded data removed]",
      "text/latex": [
       "$\\displaystyle - \\frac{E_{2} 𝜈_{12} 𝜎_{11} + E_{2} 𝜈_{13} 𝜈_{32} 𝜎_{11} + 𝜎_{22} \\left(E_{1} 𝜈_{23} 𝜈_{32} - E_{1}\\right)}{E_{1} E_{2}}$"
      ],
      "text/plain": [
       "-(E₂⋅𝜈₁₂⋅𝜎₁₁ + E₂⋅𝜈₁₃⋅𝜈₃₂⋅𝜎₁₁ + 𝜎₂₂⋅(E₁⋅𝜈₂₃⋅𝜈₃₂ - E₁)) \n",
       "───────────────────────────────────────────────────────\n",
       "                         E₁⋅E₂                         "
      ]
     },
     "execution_count": 11,
     "metadata": {},
     "output_type": "execute_result"
    }
   ],
   "source": [
    "𝜀22 = -𝜎11/E1*𝜈12 + 𝜎22/E2 - 𝜎33/E3*𝜈32\n",
    "𝜀22.expand().factor(𝜎22)"
   ]
  },
  {
   "cell_type": "markdown",
   "metadata": {},
   "source": [
    "We form the strain-stress matrix as: \n",
    "\n",
    "\\begin{equation} \\label{eqESPEorth}\n",
    "\\boxed{\n",
    "\\begin{bmatrix}\\varepsilon _{11}\\\\\\varepsilon _{22}\\\\2\\varepsilon _{12}\\end{bmatrix}=\\underbrace{\\begin{bmatrix} \n",
    "\\frac{1-𝜈_{13} 𝜈_{31}}{E_{1}} & -\\frac{𝜈_{12}+𝜈_{13} 𝜈_{32}}{E_{1}} & 0\\\\\n",
    "-\\frac{𝜈_{12}+𝜈_{13} 𝜈_{32}}{E_{1}}   & \\frac{1 - 𝜈_{23} 𝜈_{32}}{E_{2}} & 0\\\\\n",
    "0&0&\\frac{1}{G_{12}}\\end{bmatrix}}_{\\mathbf{S}}\n",
    "\\begin{bmatrix}\\sigma_{11}\\\\\\sigma_{22}\\\\\\sigma_{12}\\end{bmatrix} }\n",
    "\\end{equation}"
   ]
  },
  {
   "cell_type": "markdown",
   "metadata": {},
   "source": [
    "The stress $\\sigma_{33}$ is given by\n",
    "\n",
    "\\begin{equation} \\label{eqS3PSorth}\n",
    "\\sigma_{33} =  \\frac{E_{3} 𝜈_{23} 𝜎_{22}}{E_{2}} + \\frac{E_{3} 𝜈_{13} 𝜎_{11}}{E_{1}}\n",
    "=  𝜈_{32} 𝜎_{22} + 𝜈_{31} 𝜎_{11} \n",
    "\\end{equation}"
   ]
  },
  {
   "cell_type": "markdown",
   "metadata": {},
   "source": [
    "Equation (\\ref{eqESPEorth}) can be inverted to obtain the stress-strain relation. We again use Sympy to help us to get this done. First, we form the 2 by 2 sub-matrix in in the top-left conner in Eq. (\\ref{eqESPEorth}):"
   ]
  },
  {
   "cell_type": "code",
   "execution_count": 15,
   "metadata": {
    "ExecuteTime": {
     "end_time": "2024-02-04T13:00:00.824201Z",
     "start_time": "2024-02-04T13:00:00.070404Z"
    }
   },
   "outputs": [
    {
     "data": {
      "image/png": "[encoded data removed]",
      "text/latex": [
       "$\\displaystyle E_{1} 𝜈_{13} 𝜈_{23} 𝜈_{31} 𝜈_{32} - E_{1} 𝜈_{13} 𝜈_{31} - E_{1} 𝜈_{23} 𝜈_{32} + E_{1} - E_{2} 𝜈_{12}^{2} - 2 E_{2} 𝜈_{12} 𝜈_{13} 𝜈_{32} - E_{2} 𝜈_{13}^{2} 𝜈_{32}^{2}$"
      ],
      "text/plain": [
       "                                                          2                   \n",
       "E₁⋅𝜈₁₃⋅𝜈₂₃⋅𝜈₃₁⋅𝜈₃₂ - E₁⋅𝜈₁₃⋅𝜈₃₁ - E₁⋅𝜈₂₃⋅𝜈₃₂ + E₁ - E₂⋅𝜈₁₂  - 2⋅E₂⋅𝜈₁₂⋅𝜈₁₃⋅𝜈₃₂\n",
       "\n",
       "         2    2\n",
       " - E₂⋅𝜈₁₃ ⋅𝜈₃₂ "
      ]
     },
     "execution_count": 15,
     "metadata": {},
     "output_type": "execute_result"
    }
   ],
   "source": [
    "S_2by2 = Matrix([[(1-𝜈13*𝜈31)/E1,   -(𝜈12+𝜈13*𝜈32)/E1],\n",
    "                 [-(𝜈12+𝜈13*𝜈32)/E1, (1-𝜈23*𝜈32)/E2  ]])\n",
    "A = S_2by2.det()*E1*E1*E2  # compute a coefficient to simplify expression\n",
    "A"
   ]
  },
  {
   "cell_type": "code",
   "execution_count": 16,
   "metadata": {
    "ExecuteTime": {
     "end_time": "2024-02-04T13:00:26.148996Z",
     "start_time": "2024-02-04T13:00:25.086004Z"
    }
   },
   "outputs": [
    {
     "data": {
      "text/latex": [
       "$\\displaystyle \\left[\\begin{matrix}- E_{1}^{2} 𝜈_{23} 𝜈_{32} + E_{1}^{2} & E_{1} E_{2} 𝜈_{12} + E_{1} E_{2} 𝜈_{13} 𝜈_{32}\\\\E_{1} E_{2} 𝜈_{12} + E_{1} E_{2} 𝜈_{13} 𝜈_{32} & - E_{1} E_{2} 𝜈_{13} 𝜈_{31} + E_{1} E_{2}\\end{matrix}\\right]$"
      ],
      "text/plain": [
       "⎡       2             2                              ⎤\n",
       "⎢   - E₁ ⋅𝜈₂₃⋅𝜈₃₂ + E₁      E₁⋅E₂⋅𝜈₁₂ + E₁⋅E₂⋅𝜈₁₃⋅𝜈₃₂⎥\n",
       "⎢                                                    ⎥\n",
       "⎣E₁⋅E₂⋅𝜈₁₂ + E₁⋅E₂⋅𝜈₁₃⋅𝜈₃₂   -E₁⋅E₂⋅𝜈₁₃⋅𝜈₃₁ + E₁⋅E₂  ⎦"
      ]
     },
     "execution_count": 16,
     "metadata": {},
     "output_type": "execute_result"
    }
   ],
   "source": [
    "C_2by2 = S_2by2.inv()*A\n",
    "C_2by2"
   ]
  },
  {
   "cell_type": "markdown",
   "metadata": {},
   "source": [
    "In reverse Eq.(\\ref{eqESPEorth}) becomes, \n",
    "\n",
    "\\begin{equation} \\label{eqSEPEorth}\n",
    "\\boxed{\n",
    "\\begin{bmatrix}\\sigma_{11}\\\\\\sigma_{22}\\\\\\sigma_{12}\\end{bmatrix}=\\underbrace{\\frac{1}{A} \\begin{bmatrix}\n",
    "-E_{1}^{2}𝜈_{23}𝜈_{32}+E_{1}^{2}         & E_{1}E_{2}𝜈_{12}+E_{1}E_{2}𝜈_{13}𝜈_{32} & 0 \\\\\n",
    "E_{1}E_{2}𝜈_{12}+E_{1}E_{2}𝜈_{13}𝜈_{32} & -E_{1}E_{2}𝜈_{13}𝜈_{31}+E_{1}E_{2}       & 0 \\\\\n",
    "0&0&G_{12}A \\end{bmatrix} }_{\\mathbf{C}}\n",
    "\\begin{bmatrix}\\varepsilon_{11}\\\\\\varepsilon_{22}\\\\2\\varepsilon_{12}\\end{bmatrix} }\n",
    "\\end{equation}\n",
    "\n",
    "where \n",
    "\n",
    "\\begin{equation} \\label{eqSEPEA}\n",
    "A= E_{1} 𝜈_{13} 𝜈_{23} 𝜈_{31} 𝜈_{32} - E_{1} 𝜈_{13} 𝜈_{31} - E_{1} 𝜈_{23} 𝜈_{32} + E_{1} - E_{2} 𝜈_{12}^{2} - 2 E_{2} 𝜈_{12} 𝜈_{13} 𝜈_{32} - E_{2} 𝜈_{13}^{2} 𝜈_{32}^{2}\n",
    "\\end{equation}\n",
    "\n",
    "For isotropic materials, we simply set $E_i=E$ and $\\nu _{ij}=\\nu$. It is trivial but a little lengthy to confirm that such a setting leads to Eq.(\\ref{eqse2DEM})."
   ]
  },
  {
   "cell_type": "markdown",
   "metadata": {
    "ExecuteTime": {
     "end_time": "2024-02-04T14:41:50.878430Z",
     "start_time": "2024-02-04T14:41:50.861475Z"
    }
   },
   "source": [
    "#### Python Code for elasticity matrix for orthotropic materials (2D plane stress)\n",
    "\n",
    "We write the following function to form a $3\\times 3$ compliance matrix using Young's moduli and Poisson's ratios, and then compute the $3\\times 3$ stiffness matrix via matrix inversion. We will use it for multiple times in the later examples. This code is for 2D plane stress problems. "
   ]
  },
  {
   "cell_type": "code",
   "execution_count": 64,
   "metadata": {
    "ExecuteTime": {
     "end_time": "2024-02-04T16:39:45.636161Z",
     "start_time": "2024-02-04T16:39:45.630077Z"
    }
   },
   "outputs": [],
   "source": [
    "def E_SnC2D_strain(E1, E2, E3, m12, m13, m23, G12):\n",
    "    '''Compute the S and C matrix in Voigt notation for given Young's  \n",
    "    moduli and Poisson's ratios of orthotropic materials for 2D plan \n",
    "    stress prolems.\n",
    "    '''\n",
    "    S = np.zeros((3,3))             #initialization\n",
    "    m21 = m12/E1*E2 \n",
    "    m31 = m13/E1*E3\n",
    "    m32 = m23/E2*E3\n",
    "    \n",
    "    # compute the compliance matrix S \n",
    "    S[0,0] = (1. -m13*m31)/E1 \n",
    "    S[0,1] =-(m12+m13*m32)/E1 \n",
    "    S[1,1] = (1. -m23*m32)/E2 \n",
    "    S[1,0]         = S[0,1] \n",
    "    S[2,2]         = 1./G12 \n",
    "\n",
    "    # compute C matrix\n",
    "    C = np.linalg.inv(S)\n",
    "    \n",
    "    return C, S"
   ]
  },
  {
   "cell_type": "markdown",
   "metadata": {},
   "source": [
    "#### Compliance matrix for isotropic materials\n",
    "\n",
    "For isotropic materials, we have a much simpler form. \n",
    "\n",
    "\\begin{equation} \\label{eqS1}\n",
    "\\mathbf{S} = [S_{\\alpha \\beta}]=\n",
    "\\begin{bmatrix}  \n",
    "\\frac{1}{E} &\\frac{-\\nu}{E}&\\frac{-\\nu}{E}&     0  &      0 & 0 \\\\ \n",
    "            &\\frac{1}{E} &\\frac{-\\nu}{E}&     0  &      0 & 0 \\\\ \n",
    "            &            &\\frac{1}{E} &     0  &      0 & 0 \\\\ \n",
    "            &            &            &\\frac{1}{G}&      0 & 0 \\\\ \n",
    "            &   sym.     &            &        &\\frac{1}{G}& 0 \\\\ \n",
    "            &            &            &        &        &\\frac{1}{G}\n",
    " \\end{bmatrix}\n",
    "\\end{equation}"
   ]
  },
  {
   "cell_type": "markdown",
   "metadata": {},
   "source": [
    "Using Eqs.(\\ref{eqSSEm1}) and (\\ref{eqS1}), the constitutive equation in terms of strain components can be written in a familiar form of \n",
    "\n",
    "\\begin{equation} \\label{eqESij3i}\n",
    "\\varepsilon_{11}=\\frac{1}{E}[\\sigma_{11}-\\nu\\sigma_{22}-\\nu \\sigma_{33}]\\\\\n",
    "\\varepsilon_{22}=\\frac{1}{E}[\\sigma_{22}-\\nu\\sigma_{11}-\\nu \\sigma_{33}]\\\\\n",
    "\\varepsilon_{33}=\\frac{1}{E}[\\sigma_{33}-\\nu\\sigma_{11}-\\nu \\sigma_{22}]\\\\\n",
    "\\varepsilon_{23}=\\frac{1}{2G} \\sigma_{23}=\\frac{1+\\nu}{E} \\sigma_{23} \\\\\n",
    "\\varepsilon_{13}=\\frac{1}{2G} \\sigma_{13}=\\frac{1+\\nu}{E} \\sigma_{13} \\\\\n",
    "\\varepsilon_{12}=\\frac{1}{2G} \\sigma_{12}=\\frac{1+\\nu}{E} \\sigma_{12}  \n",
    "\\end{equation}"
   ]
  },
  {
   "cell_type": "code",
   "execution_count": 7,
   "metadata": {
    "ExecuteTime": {
     "end_time": "2024-02-06T13:03:46.744438Z",
     "start_time": "2024-02-06T13:03:46.734307Z"
    }
   },
   "outputs": [],
   "source": [
    "def E_SnC3Dsp(E1, E2, E3, m12, m13, m23, G23, G13, G12):\n",
    "    '''Compute the S and C matrix in Voigt notation for given Young's  \n",
    "    moduli and Poisson's ratios of orthotropic materials for 3D prolems.\n",
    "    '''\n",
    "    S = sp.zeros(6,6)               #initialization\n",
    "    m21, m31, m32 = m12/E1*E2, m13/E1*E3, m23/E2*E3\n",
    "    # compute the compliance matrix S \n",
    "    S[0,0], S[1,1], S[2,2] = 1/E1, 1/E2, 1/E3 \n",
    "    S[0,1], S[0,2], S[1,2] = -m21/E2, -m31/E2, -m32/E3\n",
    "    S[3,3], S[4,4], S[5,5] = 1/G23, 1/G13, 1/G12 \n",
    "    S[1,0], S[2,0], S[2,1] = S[0,1], S[0,2], S[1,2]\n",
    "    \n",
    "    # compute C matrix\n",
    "    C = S.inv()\n",
    "    \n",
    "    return C, S"
   ]
  },
  {
   "cell_type": "code",
   "execution_count": 10,
   "metadata": {
    "ExecuteTime": {
     "end_time": "2024-02-06T13:07:19.418446Z",
     "start_time": "2024-02-06T13:07:18.503953Z"
    }
   },
   "outputs": [
    {
     "data": {
      "text/latex": [
       "$\\displaystyle \\left[\\begin{matrix}\\frac{E 𝜈 - E}{2 𝜈^{2} + 𝜈 - 1} & - \\frac{E 𝜈}{2 𝜈^{2} + 𝜈 - 1} & - \\frac{E 𝜈}{2 𝜈^{2} + 𝜈 - 1} & 0 & 0 & 0\\\\- \\frac{E 𝜈}{2 𝜈^{2} + 𝜈 - 1} & \\frac{E 𝜈 - E}{2 𝜈^{2} + 𝜈 - 1} & - \\frac{E 𝜈}{2 𝜈^{2} + 𝜈 - 1} & 0 & 0 & 0\\\\- \\frac{E 𝜈}{2 𝜈^{2} + 𝜈 - 1} & - \\frac{E 𝜈}{2 𝜈^{2} + 𝜈 - 1} & \\frac{E 𝜈 - E}{2 𝜈^{2} + 𝜈 - 1} & 0 & 0 & 0\\\\0 & 0 & 0 & G & 0 & 0\\\\0 & 0 & 0 & 0 & G & 0\\\\0 & 0 & 0 & 0 & 0 & G\\end{matrix}\\right]$"
      ],
      "text/plain": [
       "⎡  E⋅𝜈 - E        -E⋅𝜈          -E⋅𝜈              ⎤\n",
       "⎢────────────  ────────────  ────────────  0  0  0⎥\n",
       "⎢   2             2             2                 ⎥\n",
       "⎢2⋅𝜈  + 𝜈 - 1  2⋅𝜈  + 𝜈 - 1  2⋅𝜈  + 𝜈 - 1         ⎥\n",
       "⎢                                                 ⎥\n",
       "⎢   -E⋅𝜈         E⋅𝜈 - E        -E⋅𝜈              ⎥\n",
       "⎢────────────  ────────────  ────────────  0  0  0⎥\n",
       "⎢   2             2             2                 ⎥\n",
       "⎢2⋅𝜈  + 𝜈 - 1  2⋅𝜈  + 𝜈 - 1  2⋅𝜈  + 𝜈 - 1         ⎥\n",
       "⎢                                                 ⎥\n",
       "⎢   -E⋅𝜈          -E⋅𝜈         E⋅𝜈 - E            ⎥\n",
       "⎢────────────  ────────────  ────────────  0  0  0⎥\n",
       "⎢   2             2             2                 ⎥\n",
       "⎢2⋅𝜈  + 𝜈 - 1  2⋅𝜈  + 𝜈 - 1  2⋅𝜈  + 𝜈 - 1         ⎥\n",
       "⎢                                                 ⎥\n",
       "⎢     0             0             0        G  0  0⎥\n",
       "⎢                                                 ⎥\n",
       "⎢     0             0             0        0  G  0⎥\n",
       "⎢                                                 ⎥\n",
       "⎣     0             0             0        0  0  G⎦"
      ]
     },
     "execution_count": 10,
     "metadata": {},
     "output_type": "execute_result"
    }
   ],
   "source": [
    "E, 𝜈, G = symbols('E, 𝜈, G', positive=True)\n",
    "C, S = E_SnC3Dsp(E, E, E, 𝜈, 𝜈, 𝜈, G, G, G)\n",
    "C"
   ]
  },
  {
   "cell_type": "markdown",
   "metadata": {},
   "source": [
    "This matrix gives the relations given in Eq.(\\ref{eqLame2}). "
   ]
  },
  {
   "cell_type": "markdown",
   "metadata": {},
   "source": [
    "For 2D **plane stress** problems, the nonzero stresses stay, say in the $x_1-x_2$ plane, we shall have  $\\sigma_{33}=\\sigma_{23}=\\sigma_{13} = 0$. In this case, Eq.(\\ref{eqESij3i}) becomes, \n",
    "\n",
    "\\begin{equation} \\label{eqESij2D}\n",
    "\\varepsilon_{11}=\\frac{1}{E}(\\sigma_{11}-\\nu\\sigma_{22})\\\\\n",
    "\\varepsilon_{22}=\\frac{1}{E}(\\sigma_{22}-\\nu\\sigma_{11})\\\\\n",
    "\\varepsilon_{12}=\\frac{1}{2G} \\sigma_{12}=\\frac{1+\\nu}{E} \\sigma_{12} \n",
    "\\end{equation}\n",
    "\n",
    "Note that 2D plane stress problems, the strain $\\varepsilon_{33}$ is not zero, and is given by\n",
    "\n",
    "\\begin{equation} \\label{eqE33PS}\n",
    "\\varepsilon_{33}=-\\frac{\\nu}{E}[\\sigma_{11}+\\sigma_{22}]\\\\\n",
    "\\end{equation}\n",
    "\n",
    "After $\\sigma_{11}$ and $\\sigma_{22}$ are found. "
   ]
  },
  {
   "cell_type": "markdown",
   "metadata": {},
   "source": [
    "For 2D **plane strain** problems, the nonzero strains stay, say in the $x_1-x_2$ plane, we shall have  $\\varepsilon_{33}=\\varepsilon_{23}=\\varepsilon_{13} = 0$. In this case, the constitutive equation in terms of strain components can be written in a familiar form of \n",
    "\n",
    "\\begin{equation} \\label{eqESijPE}\n",
    "\\boxed{\n",
    "\\begin{split}\n",
    "\\varepsilon_{11}&=\\frac{1}{E}[(1-\\nu^2)\\sigma_{11}-\\nu(1+\\nu)\\sigma_{22}]\\\\\n",
    "\\varepsilon_{22}&=\\frac{1}{E}[(1-\\nu^2)\\sigma_{22}-\\nu(1+\\nu)\\sigma_{11}]\\\\\n",
    "\\varepsilon_{12}&=\\frac{1}{2G} \\sigma_{12}=\\frac{1+\\nu}{E} \\sigma_{12} \n",
    "\\end{split} }\n",
    "\\end{equation}\n",
    "\n",
    "Note that 2D plane strain problems, stress $\\sigma_{33}$ is not zero, and is given by\n",
    "\n",
    "\\begin{equation} \\label{eqS33}\n",
    "\\sigma_{33}=\\nu\\sigma_{11}+\\nu \\sigma_{22} = \\frac{-\\nu}{1-\\nu}(\\varepsilon_{11}+\\varepsilon_{22})\n",
    "\\end{equation}\n",
    "\n",
    "which is the same as Eq.(\\ref{eqsz0}). "
   ]
  },
  {
   "cell_type": "markdown",
   "metadata": {},
   "source": [
    "Note that we can obtain Eq.(\\ref{eqESijPE}) simply by using the substitution defined in Eq.(\\ref{eqStress2Strain}) to Eq.(\\ref{eqESij2D}) (plane stress to plane strain).  "
   ]
  },
  {
   "cell_type": "markdown",
   "metadata": {},
   "source": [
    "In reverse, we can obtain Eq.(\\ref{eqESij2D}) simply by the following operation to Eq.(\\ref{eqESijPE}) (plane strain to plane stress).   \n",
    "\n",
    "\\begin{equation} \\label{eqStrain2Stress}\n",
    "\\text{first: substitute } \\; \\frac{E}{(1-\\nu^2)}\\; \\text{ by } E \\; \\\\\n",
    "\\text{then: substitute } \\; \\nu \\; \\text{ by } \\; \\frac{\\nu}{(1+\\nu)}\\\\\n",
    "\\text{No change in }\\; G\n",
    "\\end{equation}  "
   ]
  },
  {
   "cell_type": "markdown",
   "metadata": {},
   "source": [
    "Equations given in this chapter is not difficult to derive, as long as the concepts are clear. Some of the equations are quite lengthy in derivation. In this chapter we tried to provide various forms of equations for convenience in use. "
   ]
  },
  {
   "cell_type": "markdown",
   "metadata": {},
   "source": [
    "### Thermal expansion effects \n",
    "\n",
    "#### Thermal strains\n",
    "\n",
    "Structural components may work in environment where the temperature changes. Because most of the materials expand (or contract) when temperature changes, additional strains are introduced inside the materials. \n",
    "\n",
    "If the structure component is not over-constrained, the thermal strain just results in (often very small) dimension change. It will not introduce additional stress.  In such cases, it is often less a problem. \n",
    "\n",
    "If, however, the structure component is over-constrained (indeterminate), the material is not allowed to expand freely. The thermal strain can result in additional stress, known as **thermal stress**. Even if the thermal strain is small, the resulted stress can be significant, which can be part of the cause to failure. This section addresses such a problem for bar members that are indeterminate. \n",
    "\n",
    "We assume the temperature change is small and hence the thermal expansion is small and linear in temperature change. It is quantified by $𝛼 ΔT$, where 𝛼 is the thermal expansion coefficient of the material carrying a unit typically of [(m/m)/°C], which is strain (unit 1) per degree. And $ΔT$ is the change of the temperature that carries a unit typically [°C]. Therefore, $𝛼 ΔT$ gives a strain. This strain is simply added to the strain resulted from the derivatives of the displacement. \n",
    "\n",
    "For orthotropic materials, there will be thermal expansion coefficient may differ in coordinate directions. The three normal strains resulted from the thermal expansions are given as follows. \n",
    "\n",
    "\\begin{equation} \\label{eqSiiT}\n",
    "\\varepsilon_{T11} =\\alpha_{1}∆T; \\;\\; \\varepsilon_{T22} =\\alpha_{2}∆T; \\;\\;\\varepsilon_{T33} =\\alpha_{3}∆T \n",
    "\\end{equation}\n",
    "\n",
    "where $\\alpha_{i}$ is the thermal expansion coefficient of the material in the $i$th coordinate direction.  No shear strain will be generated from the thermal expansions. "
   ]
  },
  {
   "cell_type": "markdown",
   "metadata": {},
   "source": [
    "#### Strain-stress-temperature relation\n",
    "\n",
    "The constitutive equation Eq.(\\ref{eqSOrth0}) is rewritten as \n",
    "\n",
    "\\begin{equation} \\label{eqSOrth0T}\n",
    "\\underbrace{\\begin{bmatrix}\n",
    "\\varepsilon_{11} \\\\ \\varepsilon_{22} \\\\ \\varepsilon_{33} \\\\ 2\\varepsilon_{23} \\\\ 2\\varepsilon_{13} \\\\ 2\\varepsilon_{12} \\end{bmatrix}}_{\\vec{\\boldsymbol\\varepsilon}}\n",
    "=\\underbrace{\\begin{bmatrix}  \n",
    "\\frac{1}{E_1}   &\\frac{-\\nu_{21}}{E_2}&\\frac{-\\nu_{31}}{E_3}&  0  &  0 & 0 \\\\ \n",
    "\\frac{-\\nu_{12}}{E_1}&\\frac{1}{E_2} &\\frac{-\\nu_{32}}{E_3}&  0  &   0 & 0 \\\\ \n",
    "\\frac{-\\nu_{13}}{E_1}&\\frac{-\\nu_{23}}{E_2}&\\frac{1}{E_3} &  0  &   0 & 0 \\\\ \n",
    "    0      &    0    &      0    &\\frac{1}{G_{23}}&      0 & 0 \\\\ \n",
    "     0       &   0     &     0       &    0    &\\frac{1}{G_{13}}& 0 \\\\ \n",
    "       0     &      0      &     0       &    0    &   0     &\\frac{1}{G_{12}}\n",
    " \\end{bmatrix}}_{\\mathbf{S}}\n",
    " \\underbrace{\\begin{bmatrix}\n",
    "\\sigma_{11} \\\\ \\sigma_{22} \\\\ \\sigma_{33} \\\\ \\sigma_{23} \\\\ \\sigma_{13} \\\\ \\sigma_{12} \\end{bmatrix}}_{\\vec{\\boldsymbol\\sigma}}\n",
    "+ \\underbrace{\\begin{bmatrix}\n",
    "\\alpha_{1}∆T \\\\ \\alpha_{2}∆T \\\\ \\alpha_{3}∆T \\\\ 0 \\\\ 0 \\\\ 0 \\end{bmatrix}}_{\\boldsymbol\\varepsilon_T }\n",
    "\\end{equation}\n",
    "Or\n",
    "\\begin{equation} \\label{eqSST}\n",
    "\\boxed{\n",
    "\\vec{\\boldsymbol\\varepsilon}= \\mathbf{S}\\vec{\\boldsymbol\\sigma}+\\boldsymbol\\varepsilon_T }\n",
    "\\end{equation}"
   ]
  },
  {
   "cell_type": "markdown",
   "metadata": {},
   "source": [
    "#### Stress-strain-temperature relation\n",
    "\n",
    "Stress-strain-temperature relation can be rewritten as \n",
    "\n",
    "\\begin{equation} \\label{eqSSCT}\n",
    "\\boxed{\n",
    "\\vec{\\boldsymbol\\sigma} = \\mathbf{C} \\left[\\vec{\\boldsymbol\\varepsilon}-\\boldsymbol\\varepsilon_T \\right] }\n",
    "\\end{equation}\n",
    "\n",
    "where $\\mathbf{C}= \\mathbf{S}^{-1}$."
   ]
  },
  {
   "cell_type": "markdown",
   "metadata": {
    "ExecuteTime": {
     "end_time": "2022-09-15T21:05:22.429081Z",
     "start_time": "2022-09-15T21:05:22.421067Z"
    }
   },
   "source": [
    "### Examples for elasticity tensor transformation *\n",
    "\n",
    "#### Examples on tests on arbitrary symmetric 6 by 6 matrix\n",
    "\n",
    "First, we conduct tests on functions C2toC4() and C4toC2(C40) created earlier using an arbitrary symmetric 6 by 6 matrix. We create such an matrix: "
   ]
  },
  {
   "cell_type": "code",
   "execution_count": 20,
   "metadata": {
    "ExecuteTime": {
     "end_time": "2024-02-04T13:01:17.630790Z",
     "start_time": "2024-02-04T13:01:17.612802Z"
    }
   },
   "outputs": [
    {
     "name": "stdout",
     "output_type": "stream",
     "text": [
      "[[ 1.000e+00  2.000e+00  3.000e+00  4.000e+00  5.000e+00  6.000e+00]\n",
      " [ 2.000e+00  4.000e+00  6.000e+00  8.000e+00  1.000e+01  1.200e+01]\n",
      " [ 3.000e+00  6.000e+00  9.000e+00  1.200e+01  1.500e+01  1.800e+01]\n",
      " [ 4.000e+00  8.000e+00  1.200e+01  1.600e+01  2.000e+01  2.400e+01]\n",
      " [ 5.000e+00  1.000e+01  1.500e+01  2.000e+01  2.500e+01  3.000e+01]\n",
      " [ 6.000e+00  1.200e+01  1.800e+01  2.400e+01  3.000e+01  3.600e+01]] (6, 6)\n"
     ]
    }
   ],
   "source": [
    "# Produce a simple symmetric matrix for code testing purposes. \n",
    "C_test = np.zeros((6,6))\n",
    "\n",
    "for i in range(6):\n",
    "    for j in range(6):\n",
    "        C_test[i, j] = (i+1)*(j+1)\n",
    "        \n",
    "print(C_test, C_test.shape)"
   ]
  },
  {
   "cell_type": "code",
   "execution_count": 21,
   "metadata": {
    "ExecuteTime": {
     "end_time": "2024-02-04T13:01:25.780465Z",
     "start_time": "2024-02-04T13:01:25.764936Z"
    },
    "scrolled": true
   },
   "outputs": [
    {
     "name": "stdout",
     "output_type": "stream",
     "text": [
      "[[ 1.000e+00  2.000e+00  3.000e+00  4.000e+00  5.000e+00  6.000e+00]\n",
      " [ 2.000e+00  4.000e+00  6.000e+00  8.000e+00  1.000e+01  1.200e+01]\n",
      " [ 3.000e+00  6.000e+00  9.000e+00  1.200e+01  1.500e+01  1.800e+01]\n",
      " [ 4.000e+00  8.000e+00  1.200e+01  1.600e+01  2.000e+01  2.400e+01]\n",
      " [ 5.000e+00  1.000e+01  1.500e+01  2.000e+01  2.500e+01  3.000e+01]\n",
      " [ 6.000e+00  1.200e+01  1.800e+01  2.400e+01  3.000e+01  3.600e+01]] \n",
      "\n",
      "[[ 1.000e+00  2.000e+00  3.000e+00  4.000e+00  5.000e+00  6.000e+00]\n",
      " [ 2.000e+00  4.000e+00  6.000e+00  8.000e+00  1.000e+01  1.200e+01]\n",
      " [ 3.000e+00  6.000e+00  9.000e+00  1.200e+01  1.500e+01  1.800e+01]\n",
      " [ 4.000e+00  8.000e+00  1.200e+01  1.600e+01  2.000e+01  2.400e+01]\n",
      " [ 5.000e+00  1.000e+01  1.500e+01  2.000e+01  2.500e+01  3.000e+01]\n",
      " [ 6.000e+00  1.200e+01  1.800e+01  2.400e+01  3.000e+01  3.600e+01]]\n",
      "Is close? True\n"
     ]
    }
   ],
   "source": [
    "#Test on reproducibility of conversion C(6,6) <-> C(3,3,3,3)\n",
    "#for arbitrary symmetric matrix. \n",
    "print(C_test,\"\\n\")        #Oringinal C(6,6) matrix\n",
    "\n",
    "C40 = C2toC4(C_test)      #Convert C(6,6) to C(3,3,3,3)\n",
    "C20 = C4toC2(C40)         #Convert C(3,3,3,3) to C(6,6) \n",
    "\n",
    "print(C20)                #Back-converted C(6,6) matrix\n",
    "print(f\"Is close? {np.allclose(lg.norm(C20),lg.norm(C_test),atol=1e-9)}\")"
   ]
  },
  {
   "cell_type": "markdown",
   "metadata": {},
   "source": [
    "The conversion forth and back worked fine. \n",
    "\n",
    "Next, test C2toC4() and C4toC2() using a random rotation matrix. The testing steps are given in the comments to the the code line."
   ]
  },
  {
   "cell_type": "code",
   "execution_count": 22,
   "metadata": {
    "ExecuteTime": {
     "end_time": "2024-02-04T13:01:36.806081Z",
     "start_time": "2024-02-04T13:01:36.789089Z"
    }
   },
   "outputs": [
    {
     "name": "stdout",
     "output_type": "stream",
     "text": [
      "Is close? True\n"
     ]
    }
   ],
   "source": [
    "# Test C2toC4() and C4toC2()  \n",
    "T, _ = gr.transferM(60., about = 'random')    #Create rotaion Matrix\n",
    "\n",
    "C0 = C2toC4(C_test)                    #Convert C(6,6) to C(3,3,3,3)\n",
    "Cp = Tensor4_transfer(T, C0)                # Perform transformation\n",
    "\n",
    "print(f\"Is close? {np.allclose(lg.norm(C0),lg.norm(Cp),atol=1e-4)}\")"
   ]
  },
  {
   "cell_type": "markdown",
   "metadata": {},
   "source": [
    "The 4th order tensor transformation did not change the norm. This is expected, because of the unitary property of the rotation matrix. "
   ]
  },
  {
   "cell_type": "code",
   "execution_count": 23,
   "metadata": {
    "ExecuteTime": {
     "end_time": "2024-02-04T13:01:41.564288Z",
     "start_time": "2024-02-04T13:01:41.545338Z"
    }
   },
   "outputs": [
    {
     "name": "stdout",
     "output_type": "stream",
     "text": [
      "[[ 6.802e-02  1.191e+00  3.057e-01  1.027e+00  8.859e-01  1.765e+00]\n",
      " [ 1.191e+00  2.086e+01  5.353e+00  1.798e+01  1.551e+01  3.091e+01]\n",
      " [ 3.057e-01  5.353e+00  1.374e+00  4.615e+00  3.981e+00  7.933e+00]\n",
      " [ 1.027e+00  1.798e+01  4.615e+00  1.550e+01  1.337e+01  2.665e+01]\n",
      " [ 8.859e-01  1.551e+01  3.981e+00  1.337e+01  1.154e+01  2.299e+01]\n",
      " [ 1.765e+00  3.091e+01  7.933e+00  2.665e+01  2.299e+01  4.581e+01]]\n",
      "Close? False\n"
     ]
    }
   ],
   "source": [
    "C20 = C4toC2(Cp)                       #Convert C(3,3,3,3) to C(6,6) \n",
    "print(C20)\n",
    "print(f\"Close? {np.allclose(lg.norm(C20),lg.norm(C_test),atol=1e-4)}\")"
   ]
  },
  {
   "cell_type": "markdown",
   "metadata": {},
   "source": [
    "The components in the matrix changed after the transformation, as it should be. The norm does not change. "
   ]
  },
  {
   "cell_type": "code",
   "execution_count": 24,
   "metadata": {
    "ExecuteTime": {
     "end_time": "2024-02-04T13:01:49.713522Z",
     "start_time": "2024-02-04T13:01:49.699526Z"
    },
    "scrolled": false
   },
   "outputs": [
    {
     "name": "stdout",
     "output_type": "stream",
     "text": [
      "[[ 1.000e+00  2.000e+00  3.000e+00  4.000e+00  5.000e+00  6.000e+00]\n",
      " [ 2.000e+00  4.000e+00  6.000e+00  8.000e+00  1.000e+01  1.200e+01]\n",
      " [ 3.000e+00  6.000e+00  9.000e+00  1.200e+01  1.500e+01  1.800e+01]\n",
      " [ 4.000e+00  8.000e+00  1.200e+01  1.600e+01  2.000e+01  2.400e+01]\n",
      " [ 5.000e+00  1.000e+01  1.500e+01  2.000e+01  2.500e+01  3.000e+01]\n",
      " [ 6.000e+00  1.200e+01  1.800e+01  2.400e+01  3.000e+01  3.600e+01]]\n",
      "Close? True\n"
     ]
    }
   ],
   "source": [
    "C40 = C2toC4(C20)                       #Convert C(6,6) to C(3,3,3,3) \n",
    "Cp = Tensor4_transfer(T.T, C40)      # Perform inverse transformation\n",
    "C0 = C4toC2(Cp)            #Convert C(3,3,3,3) to C(6,6) to print out\n",
    "\n",
    "print(C0)\n",
    "print(f\"Close? {np.allclose(lg.norm(C0),lg.norm(C_test),atol=1e-4)}\")"
   ]
  },
  {
   "cell_type": "markdown",
   "metadata": {},
   "source": [
    "Using the codes above, we have confirmed the following. \n",
    "\n",
    "+ The transformed stiffness matrix will change, for a given general 6 by 6 symmetric matrix. \n",
    "+ The 4th order tensor transformation does not change the norm. \n",
    "+ The inverse-transformed stiffness matrix recovers the original one. "
   ]
  },
  {
   "cell_type": "markdown",
   "metadata": {},
   "source": [
    "#### Examples on elasticity matrices for steel\n",
    "\n",
    "Steel can be treated as isotropic materials at macroscale. Let compute its $\\mathbf{C}$ matrix using the function E_SnC3D() defined above, and then compute the its compliance matrix.  "
   ]
  },
  {
   "cell_type": "code",
   "execution_count": 53,
   "metadata": {
    "ExecuteTime": {
     "end_time": "2024-02-04T16:32:55.319453Z",
     "start_time": "2024-02-04T16:32:55.303415Z"
    }
   },
   "outputs": [
    {
     "name": "stdout",
     "output_type": "stream",
     "text": [
      "Shear modulus = 2.8913e+10\n",
      "Matrix of elastic constants C (6, 6):\n",
      "[[ 1.156e+11  5.781e+10  5.781e+10  0.000e+00  0.000e+00  0.000e+00]\n",
      " [ 5.781e+10  1.156e+11  5.781e+10  0.000e+00  0.000e+00  0.000e+00]\n",
      " [ 5.781e+10  5.781e+10  1.156e+11  0.000e+00  0.000e+00  0.000e+00]\n",
      " [ 0.000e+00  0.000e+00  0.000e+00  2.891e+10  0.000e+00  0.000e+00]\n",
      " [ 0.000e+00  0.000e+00  0.000e+00  0.000e+00  2.891e+10  0.000e+00]\n",
      " [ 0.000e+00  0.000e+00  0.000e+00  0.000e+00  0.000e+00  2.891e+10]]\n",
      "Matrix of compliance constants S_(6, 6):\n",
      "[[ 1.297e-11 -4.323e-12 -4.323e-12  0.000e+00  0.000e+00  0.000e+00]\n",
      " [-4.323e-12  1.297e-11 -4.323e-12  0.000e+00  0.000e+00  0.000e+00]\n",
      " [-4.323e-12 -4.323e-12  1.297e-11  0.000e+00  0.000e+00  0.000e+00]\n",
      " [ 0.000e+00  0.000e+00  0.000e+00  3.459e-11  0.000e+00  0.000e+00]\n",
      " [ 0.000e+00  0.000e+00  0.000e+00  0.000e+00  3.459e-11  0.000e+00]\n",
      " [ 0.000e+00  0.000e+00  0.000e+00  0.000e+00  0.000e+00  3.459e-11]]\n",
      "Matrix of original S (6, 6):\n",
      "[[ 1.297e-11 -4.323e-12 -4.323e-12  0.000e+00  0.000e+00  0.000e+00]\n",
      " [-4.323e-12  1.297e-11 -4.323e-12  0.000e+00  0.000e+00  0.000e+00]\n",
      " [-4.323e-12 -4.323e-12  1.297e-11  0.000e+00  0.000e+00  0.000e+00]\n",
      " [ 0.000e+00  0.000e+00  0.000e+00  3.459e-11  0.000e+00  0.000e+00]\n",
      " [ 0.000e+00  0.000e+00  0.000e+00  0.000e+00  3.459e-11  0.000e+00]\n",
      " [ 0.000e+00  0.000e+00  0.000e+00  0.000e+00  0.000e+00  3.459e-11]]\n"
     ]
    }
   ],
   "source": [
    "E_steel,𝜈_steel=77.1e9,0.3333  # Young's modulus (GPa) & Poisson's ratio\n",
    "G_s = .5*E_steel/(1+𝜈_steel)                       # shear modulus (GPa)\n",
    "𝜌 = 7600.                             # density (Kg/m^3) # not used here\n",
    "print(f\"Shear modulus = {G_s:2.4e}\")\n",
    "\n",
    "C_steel, S_steel = E_SnC3D(E_steel,E_steel,E_steel,\\\n",
    "                           𝜈_steel,𝜈_steel,𝜈_steel,G_s,G_s,G_s)\n",
    "# (77.1e9,77.1e9,77.1e9,.3333,.3333,.3333,28.91e9,28.91e9,28.91e9)\n",
    "\n",
    "S_steel_ = lg.inv(C_steel)\n",
    "\n",
    "print(f\"Matrix of elastic constants C {C_steel.shape}:\\n{C_steel}\")\n",
    "print(f\"Matrix of compliance constants S_{S_steel_.shape}:\\n{S_steel_}\")\n",
    "print(f\"Matrix of original S {S_steel.shape}:\\n{S_steel}\")"
   ]
  },
  {
   "cell_type": "markdown",
   "metadata": {},
   "source": [
    "We prepare some transformation matrices for testing our codes for 4th tensor transformation. "
   ]
  },
  {
   "cell_type": "code",
   "execution_count": 54,
   "metadata": {
    "ExecuteTime": {
     "end_time": "2024-02-04T16:33:00.456385Z",
     "start_time": "2024-02-04T16:33:00.436395Z"
    }
   },
   "outputs": [
    {
     "name": "stdout",
     "output_type": "stream",
     "text": [
      "[[ 1.156e+11  5.781e+10  5.781e+10  0.000e+00  0.000e+00  0.000e+00]\n",
      " [ 5.781e+10  1.156e+11  5.781e+10  0.000e+00  0.000e+00  0.000e+00]\n",
      " [ 5.781e+10  5.781e+10  1.156e+11  0.000e+00  0.000e+00  0.000e+00]\n",
      " [ 0.000e+00  0.000e+00  0.000e+00  2.891e+10  0.000e+00  0.000e+00]\n",
      " [ 0.000e+00  0.000e+00  0.000e+00  0.000e+00  2.891e+10  0.000e+00]\n",
      " [ 0.000e+00  0.000e+00  0.000e+00  0.000e+00  0.000e+00  2.891e+10]]\n",
      "True\n"
     ]
    }
   ],
   "source": [
    "# Test on reproducibility of conversion C(6,6) <-> C(3,3,3,3)\n",
    "# for real elastic material, using C2toC4() and C4toC2()\n",
    "\n",
    "C4_steel = C2toC4(C_steel)      #Convert C(6,6) to C(3,3,3,3)\n",
    "C2_steel = C4toC2(C4_steel)     #Convert C(3,3,3,3) to C(6,6) \n",
    "\n",
    "print(C2_steel)                 #Back-converted C(6,6) matrix\n",
    "print(np.linalg.norm(C2_steel) == np.linalg.norm(C_steel))"
   ]
  },
  {
   "cell_type": "markdown",
   "metadata": {
    "ExecuteTime": {
     "end_time": "2022-10-03T00:01:04.435073Z",
     "start_time": "2022-10-03T00:01:04.414131Z"
    }
   },
   "source": [
    "The conversion forth and back worked correctly. "
   ]
  },
  {
   "cell_type": "code",
   "execution_count": 55,
   "metadata": {
    "ExecuteTime": {
     "end_time": "2024-02-04T16:33:04.746041Z",
     "start_time": "2024-02-04T16:33:04.733075Z"
    }
   },
   "outputs": [
    {
     "name": "stdout",
     "output_type": "stream",
     "text": [
      "Is close? True\n",
      "Close? True\n"
     ]
    }
   ],
   "source": [
    "# Test C2toC4() and C4toC2() with a random rotation matrix\n",
    "T, _ = gr.transferM(60., about = 'random')            #rotation matrix\n",
    "\n",
    "C4_steel = C2toC4(C_steel)               #Convert C(6,6) to C(3,3,3,3)\n",
    "C4p_steel = Tensor4_transfer(T, C4_steel)     # Perform transformation\n",
    "print(f\"Is close? \"\n",
    "      f\"{np.allclose(lg.norm(C4_steel),lg.norm(C4p_steel),atol=1e-4)}\")\n",
    "\n",
    "C2_steel = C4toC2(C4p_steel)              #Convert C(3,3,3,3) to C(6,6) \n",
    "print(f\"Close? \"\n",
    "      f\"{np.allclose(lg.norm(C2_steel),lg.norm(C_steel),atol=1e-4)}\")"
   ]
  },
  {
   "cell_type": "markdown",
   "metadata": {},
   "source": [
    "The 4th order tensor transformation did not change the norm. Let us check on forward and backward transformations. "
   ]
  },
  {
   "cell_type": "code",
   "execution_count": 56,
   "metadata": {
    "ExecuteTime": {
     "end_time": "2024-02-04T16:33:07.489948Z",
     "start_time": "2024-02-04T16:33:07.476973Z"
    }
   },
   "outputs": [
    {
     "name": "stdout",
     "output_type": "stream",
     "text": [
      "[[ 1.156e+11  5.781e+10  5.781e+10  0.000e+00  0.000e+00  0.000e+00]\n",
      " [ 5.781e+10  1.156e+11  5.781e+10  0.000e+00  0.000e+00  0.000e+00]\n",
      " [ 5.781e+10  5.781e+10  1.156e+11  0.000e+00  0.000e+00  0.000e+00]\n",
      " [ 0.000e+00  0.000e+00  0.000e+00  2.891e+10  0.000e+00  0.000e+00]\n",
      " [ 0.000e+00  0.000e+00  0.000e+00  0.000e+00  2.891e+10  0.000e+00]\n",
      " [ 0.000e+00  0.000e+00  0.000e+00  0.000e+00  0.000e+00  2.891e+10]] \n",
      "\n",
      "[[ 1.156e+11  5.781e+10  5.781e+10 -6.800e-06  9.319e-07  5.737e-06]\n",
      " [ 5.781e+10  1.156e+11  5.781e+10  3.119e-06 -2.211e-06 -3.596e-07]\n",
      " [ 5.781e+10  5.781e+10  1.156e+11 -1.334e-06 -1.735e-06 -4.174e-06]\n",
      " [ 9.659e-07  1.082e-06  1.962e-06  2.891e+10  1.172e-06 -1.628e-06]\n",
      " [ 1.775e-06 -1.910e-06 -3.181e-07  1.151e-06  2.891e+10  2.614e-06]\n",
      " [ 1.119e-05  3.048e-06  1.559e-07 -5.741e-07  1.350e-06  2.891e+10]]\n",
      "Is C_steel symmetric? True\n",
      "\n",
      "[[ 1.156e+11  5.781e+10  5.781e+10 -9.534e-06 -1.962e-05  3.426e-06]\n",
      " [ 5.781e+10  1.156e+11  5.781e+10 -7.018e-06 -8.262e-06 -4.678e-07]\n",
      " [ 5.781e+10  5.781e+10  1.156e+11 -1.247e-05 -1.037e-05  5.194e-06]\n",
      " [-6.790e-06 -7.475e-06 -1.160e-05  2.891e+10  1.032e-06 -5.256e-06]\n",
      " [-1.321e-05 -5.987e-06 -1.244e-05 -1.507e-06  2.891e+10 -1.794e-06]\n",
      " [ 5.038e-06  4.778e-06  3.154e-06 -1.964e-06 -8.348e-07  2.891e+10]]\n",
      "Is C2 back to original? True\n"
     ]
    }
   ],
   "source": [
    "# Test our 4th order tensor transformation, forward and backward:\n",
    "print(C_steel,'\\n')                            #Oringinal C(6,6) matrix \n",
    "\n",
    "C4_steel = C2toC4(C_steel)                #Convert C(6,6) to C(3,3,3,3)\n",
    "C4p_steel= Tensor4_transfer(T,C4_steel)        # forward transformation\n",
    "C2_steel = C4toC2(C4p_steel)              #Convert C(3,3,3,3) to C(6,6) \n",
    "\n",
    "print(C2_steel)                           #Transformed stiffness matrix\n",
    "print(f\"Is C_steel symmetric?\"\n",
    "      f\" {np.allclose(C2_steel,C2_steel.T,atol=1e-04)}\\n\")\n",
    "\n",
    "C4p_steel= C2toC4(C2_steel)               #Convert C(6,6) to C(3,3,3,3)\n",
    "C4_steel = Tensor4_transfer(T.T,C4p_steel)        # back-transformation\n",
    "C2_steel = C4toC2(C4_steel)               #Convert C(3,3,3,3) to C(6,6) \n",
    "\n",
    "print(C2_steel)                      #Back-transformed stiffness matrix\n",
    "print(f\"Is C2 back to original? \"\n",
    "      f\"{np.allclose(C_steel,C2_steel,atol=1e-04)}\")"
   ]
  },
  {
   "cell_type": "code",
   "execution_count": 57,
   "metadata": {
    "ExecuteTime": {
     "end_time": "2024-02-04T16:33:10.427999Z",
     "start_time": "2024-02-04T16:33:10.409015Z"
    }
   },
   "outputs": [
    {
     "name": "stdout",
     "output_type": "stream",
     "text": [
      "[[ 1.156e+11  5.781e+10  5.781e+10  0.000e+00  0.000e+00  0.000e+00]\n",
      " [ 5.781e+10  1.156e+11  5.781e+10  0.000e+00  0.000e+00  0.000e+00]\n",
      " [ 5.781e+10  5.781e+10  1.156e+11  0.000e+00  0.000e+00  0.000e+00]\n",
      " [ 0.000e+00  0.000e+00  0.000e+00  2.891e+10  0.000e+00  0.000e+00]\n",
      " [ 0.000e+00  0.000e+00  0.000e+00  0.000e+00  2.891e+10  0.000e+00]\n",
      " [ 0.000e+00  0.000e+00  0.000e+00  0.000e+00  0.000e+00  2.891e+10]] \n",
      "\n",
      "[[ 1.156e+11  5.781e+10  5.781e+10 -6.800e-06  9.319e-07  5.737e-06]\n",
      " [ 5.781e+10  1.156e+11  5.781e+10  3.119e-06 -2.211e-06 -3.596e-07]\n",
      " [ 5.781e+10  5.781e+10  1.156e+11 -1.334e-06 -1.735e-06 -4.174e-06]\n",
      " [ 9.659e-07  1.082e-06  1.962e-06  2.891e+10  1.172e-06 -1.628e-06]\n",
      " [ 1.775e-06 -1.910e-06 -3.181e-07  1.151e-06  2.891e+10  2.614e-06]\n",
      " [ 1.119e-05  3.048e-06  1.559e-07 -5.741e-07  1.350e-06  2.891e+10]]\n",
      "Is C_steel symmetric? True\n",
      "\n",
      "[[ 1.156e+11  5.781e+10  5.781e+10 -9.534e-06 -1.962e-05  3.426e-06]\n",
      " [ 5.781e+10  1.156e+11  5.781e+10 -7.018e-06 -8.262e-06 -4.678e-07]\n",
      " [ 5.781e+10  5.781e+10  1.156e+11 -1.247e-05 -1.037e-05  5.194e-06]\n",
      " [-6.790e-06 -7.475e-06 -1.160e-05  2.891e+10  1.032e-06 -5.256e-06]\n",
      " [-1.321e-05 -5.987e-06 -1.244e-05 -1.507e-06  2.891e+10 -1.794e-06]\n",
      " [ 5.038e-06  4.778e-06  3.154e-06 -1.964e-06 -8.348e-07  2.891e+10]]\n",
      "Is C2 back to original? True\n"
     ]
    }
   ],
   "source": [
    "# Test our 4th order tensor transformation, forward and backward:\n",
    "print(C_steel,'\\n')                            #Oringinal C(6,6) matrix \n",
    "C4_steel = C2toC4(C_steel)                #Convert C(6,6) to C(3,3,3,3)\n",
    "C4p_steel = Tensor4_transfer(T,C4_steel)       # forward transformation\n",
    "C2_steel = C4toC2(C4p_steel)              #Convert C(3,3,3,3) to C(6,6) \n",
    "print(C2_steel)                           #Transformed stiffness matrix\n",
    "print(f\"Is C_steel symmetric? \"\n",
    "      f\"{np.allclose(C2_steel,C2_steel.T,atol=1e-04)}\\n\")\n",
    "\n",
    "C4p_steel = C2toC4(C2_steel)              #Convert C(6,6) to C(3,3,3,3)\n",
    "C4_steel = Tensor4_transfer(T.T,C4p_steel)   # backward transformation\n",
    "C2_steel= C4toC2(C4_steel)                #Convert C(3,3,3,3) to C(6,6) \n",
    "print(C2_steel)                      #Back-transformed stiffness matrix\n",
    "print(f\"Is C2 back to original? \"\n",
    "      f\"{np.allclose(C_steel,C2_steel,atol=1e-04)}\")"
   ]
  },
  {
   "cell_type": "markdown",
   "metadata": {},
   "source": [
    "Using the codes above, we have confirmed the following. \n",
    "\n",
    "+ The transformed stiffness matrix will not change, if the material is isotropic. \n",
    "+ The 4th order tensor transformation did not change the norm. \n",
    "+ The back-transformed stiffness matrix recovers the original one. \n",
    "\n",
    "#### Examples on elasticity matrices for steel for 2D plane stress"
   ]
  },
  {
   "cell_type": "code",
   "execution_count": 61,
   "metadata": {
    "ExecuteTime": {
     "end_time": "2024-02-04T16:37:02.740992Z",
     "start_time": "2024-02-04T16:37:02.722294Z"
    }
   },
   "outputs": [
    {
     "name": "stdout",
     "output_type": "stream",
     "text": [
      "Shear modulus = 2.8913e+10\n",
      "Matrix of elastic constants C (3, 3):\n",
      "[[ 8.674e+10  2.891e+10  0.000e+00]\n",
      " [ 2.891e+10  8.674e+10  0.000e+00]\n",
      " [ 0.000e+00  0.000e+00  2.891e+10]]\n",
      "Matrix of compliance constants S_(3, 3):\n",
      "[[ 1.297e-11 -4.323e-12  0.000e+00]\n",
      " [-4.323e-12  1.297e-11  0.000e+00]\n",
      " [ 0.000e+00  0.000e+00  3.459e-11]]\n",
      "Matrix of original S (3, 3):\n",
      "[[ 1.297e-11 -4.323e-12  0.000e+00]\n",
      " [-4.323e-12  1.297e-11  0.000e+00]\n",
      " [ 0.000e+00  0.000e+00  3.459e-11]]\n"
     ]
    }
   ],
   "source": [
    "E_steel,𝜈_steel=77.1e9,0.3333  # Young's modulus (GPa) & Poisson's ratio\n",
    "G_s = .5*E_steel/(1+𝜈_steel)                       # shear modulus (GPa)\n",
    "print(f\"Shear modulus = {G_s:2.4e}\")\n",
    "\n",
    "C_steel, S_steel = E_SnC2D_stress(E_steel, E_steel, 𝜈_steel, G_s)\n",
    "S_steel_ = lg.inv(C_steel)\n",
    "\n",
    "print(f\"Matrix of elastic constants C {C_steel.shape}:\\n{C_steel}\")\n",
    "print(f\"Matrix of compliance constants S_{S_steel_.shape}:\\n{S_steel_}\")\n",
    "print(f\"Matrix of original S {S_steel.shape}:\\n{S_steel}\")"
   ]
  },
  {
   "cell_type": "markdown",
   "metadata": {},
   "source": [
    "#### Examples on elasticity matrices for steel for 2D plane strain"
   ]
  },
  {
   "cell_type": "code",
   "execution_count": 62,
   "metadata": {
    "ExecuteTime": {
     "end_time": "2024-02-04T16:37:52.136441Z",
     "start_time": "2024-02-04T16:37:52.117416Z"
    }
   },
   "outputs": [
    {
     "name": "stdout",
     "output_type": "stream",
     "text": [
      "Shear modulus = 2.8913e+10\n",
      "Matrix of elastic constants C (3, 3):\n",
      "[[ 1.156e+11  5.781e+10  0.000e+00]\n",
      " [ 5.781e+10  1.156e+11  0.000e+00]\n",
      " [ 0.000e+00  0.000e+00  2.891e+10]]\n",
      "Matrix of compliance constants S_(3, 3):\n",
      "[[ 1.153e-11 -5.764e-12  0.000e+00]\n",
      " [-5.764e-12  1.153e-11  0.000e+00]\n",
      " [ 0.000e+00  0.000e+00  3.459e-11]]\n",
      "Matrix of original S (3, 3):\n",
      "[[ 1.153e-11 -5.764e-12  0.000e+00]\n",
      " [-5.764e-12  1.153e-11  0.000e+00]\n",
      " [ 0.000e+00  0.000e+00  3.459e-11]]\n"
     ]
    }
   ],
   "source": [
    "E_steel,𝜈_steel=77.1e9,0.3333  # Young's modulus (GPa) & Poisson's ratio\n",
    "G_s = .5*E_steel/(1+𝜈_steel)                       # shear modulus (GPa)\n",
    "print(f\"Shear modulus = {G_s:2.4e}\")\n",
    "\n",
    "C_steel, S_steel = E_SnC2D_strain(E_steel, E_steel, E_steel,\\\n",
    "                                  𝜈_steel, 𝜈_steel, 𝜈_steel, G_s)\n",
    "S_steel_ = lg.inv(C_steel)\n",
    "\n",
    "print(f\"Matrix of elastic constants C {C_steel.shape}:\\n{C_steel}\")\n",
    "print(f\"Matrix of compliance constants S_{S_steel_.shape}:\\n{S_steel_}\")\n",
    "print(f\"Matrix of original S {S_steel.shape}:\\n{S_steel}\")"
   ]
  },
  {
   "cell_type": "markdown",
   "metadata": {},
   "source": [
    "The compliance matrix obtained above and be doubled checked against Eq.(\\ref{eqESijPE}): "
   ]
  },
  {
   "cell_type": "code",
   "execution_count": 63,
   "metadata": {
    "ExecuteTime": {
     "end_time": "2024-02-04T16:38:56.861272Z",
     "start_time": "2024-02-04T16:38:56.852297Z"
    }
   },
   "outputs": [
    {
     "name": "stdout",
     "output_type": "stream",
     "text": [
      "s11=1.1529326977950713e-11\n",
      "s12=-5.763798832684825e-12\n",
      "s33=3.4586251621271074e-11\n"
     ]
    }
   ],
   "source": [
    "print(f's11={(1.-𝜈_steel**2)/E_steel}') \n",
    "print(f's12={-𝜈_steel*(1.+𝜈_steel)/E_steel}') \n",
    "print(f's33={2*(1.+𝜈_steel)/E_steel}') "
   ]
  },
  {
   "cell_type": "markdown",
   "metadata": {
    "ExecuteTime": {
     "end_time": "2022-09-15T21:05:22.429081Z",
     "start_time": "2022-09-15T21:05:22.421067Z"
    }
   },
   "source": [
    "#### Examples on elasticity matrices for carbon/epoxy composite \n",
    "\n",
    "Carbon/epoxy composite has a very strong anisotropy, because of the re-enforcement with carbon fibers. Let compute its $\\mathbf{C}$ matrix using the function E_SnC3D() defined above. "
   ]
  },
  {
   "cell_type": "code",
   "execution_count": 29,
   "metadata": {
    "ExecuteTime": {
     "end_time": "2024-02-04T00:36:28.312986Z",
     "start_time": "2024-02-04T00:36:28.296048Z"
    },
    "scrolled": true
   },
   "outputs": [
    {
     "name": "stdout",
     "output_type": "stream",
     "text": [
      "Matrix of elastic constants:\n",
      "[[ 1.443e+11  3.974e+09  3.342e+09  0.000e+00  0.000e+00  0.000e+00]\n",
      " [ 3.974e+09  9.981e+09  2.560e+09  0.000e+00  0.000e+00  0.000e+00]\n",
      " [ 3.342e+09  2.560e+09  9.949e+09  0.000e+00  0.000e+00  0.000e+00]\n",
      " [ 0.000e+00  0.000e+00  0.000e+00  4.795e+09  0.000e+00  0.000e+00]\n",
      " [ 0.000e+00  0.000e+00  0.000e+00  0.000e+00  4.795e+09  0.000e+00]\n",
      " [ 0.000e+00  0.000e+00  0.000e+00  0.000e+00  0.000e+00  4.795e+09]]\n"
     ]
    }
   ],
   "source": [
    "#Carbon-Reenforced Plastic Composite:(E1,E2,E3,m12,m13,m23,G23,G13,G12)\n",
    "C_CRP = E_SnC3D(142.17e9,9.255e9,9.255e9,.334,.25,.25,\\\n",
    "                4.795e9,4.795e9,4.795e9)\n",
    "rho = 1900.                  # density (Kg/m^3)\n",
    "print(f\"Matrix of elastic constants:\\n{C_CRP}\")"
   ]
  },
  {
   "cell_type": "code",
   "execution_count": 30,
   "metadata": {
    "ExecuteTime": {
     "end_time": "2024-02-04T00:37:07.962459Z",
     "start_time": "2024-02-04T00:37:07.948397Z"
    }
   },
   "outputs": [
    {
     "name": "stdout",
     "output_type": "stream",
     "text": [
      "[[ 1.443e+11  3.974e+09  3.342e+09  0.000e+00  0.000e+00  0.000e+00]\n",
      " [ 3.974e+09  9.981e+09  2.560e+09  0.000e+00  0.000e+00  0.000e+00]\n",
      " [ 3.342e+09  2.560e+09  9.949e+09  0.000e+00  0.000e+00  0.000e+00]\n",
      " [ 0.000e+00  0.000e+00  0.000e+00  4.795e+09  0.000e+00  0.000e+00]\n",
      " [ 0.000e+00  0.000e+00  0.000e+00  0.000e+00  4.795e+09  0.000e+00]\n",
      " [ 0.000e+00  0.000e+00  0.000e+00  0.000e+00  0.000e+00  4.795e+09]]\n",
      "True\n"
     ]
    }
   ],
   "source": [
    "# Test on reproducibility of conversion C(6,6) <-> C(3,3,3,3)\n",
    "# for real elastic material\n",
    "\n",
    "C4_CRP = C2toC4(C_CRP)          #Convert C(6,6) to C(3,3,3,3)\n",
    "C2_CRP = C4toC2(C4_CRP)         #Convert C(3,3,3,3) to C(6,6) \n",
    "\n",
    "print(C2_CRP)                   #Back-converted C(6,6) matrix\n",
    "print(np.linalg.norm(C2_CRP) == np.linalg.norm(C_CRP))"
   ]
  },
  {
   "cell_type": "markdown",
   "metadata": {},
   "source": [
    "Conversion forth and back worked fine. "
   ]
  },
  {
   "cell_type": "code",
   "execution_count": 33,
   "metadata": {
    "ExecuteTime": {
     "end_time": "2024-02-04T00:39:31.991150Z",
     "start_time": "2024-02-04T00:39:31.980146Z"
    }
   },
   "outputs": [
    {
     "name": "stdout",
     "output_type": "stream",
     "text": [
      "[[ 1.233e+11  5.661e+09  1.138e+10  3.779e+09 -2.957e+10 -1.551e+10]\n",
      " [ 5.661e+09  1.117e+10  1.806e+09  2.265e+08 -1.101e+09 -5.620e+08]\n",
      " [ 1.138e+10  1.806e+09  1.190e+10  3.291e+08 -2.622e+09 -1.376e+09]\n",
      " [ 3.779e+09  2.265e+08  3.291e+08  3.927e+09 -1.158e+09 -7.883e+08]\n",
      " [-2.957e+10 -1.101e+09 -2.622e+09 -1.158e+09  1.256e+10  4.043e+09]\n",
      " [-1.551e+10 -5.620e+08 -1.376e+09 -7.883e+08  4.043e+09  6.867e+09]]\n",
      "Is C2 symmetric? True\n",
      "\n",
      "Is close? True\n"
     ]
    }
   ],
   "source": [
    "# Test C2toC4() and C4toC2()  \n",
    "T, _ = gr.transferM(60., about = 'random')   \n",
    "\n",
    "C4_CRP = C2toC4(C_CRP)                   #Convert C(6,6) to C(3,3,3,3)\n",
    "C4p_CRP = Tensor4_transfer(T, C4_CRP) #4th order tensor transformation\n",
    "C2_CRP = C4toC2(C4p_CRP)\n",
    "\n",
    "print(C2_CRP)\n",
    "print(f\"Is C2 symmetric? {np.allclose(C2_CRP,C2_CRP.T,atol=1e-04)}\\n\")\n",
    "print(f\"Is close? \"\n",
    "      f\"{np.allclose(lg.norm(C4_CRP),lg.norm(C4p_CRP),atol=1e-4)}\")"
   ]
  },
  {
   "cell_type": "markdown",
   "metadata": {},
   "source": [
    "The stiffness matrix is changed, but still symmetric, and the norm is unchanged. "
   ]
  },
  {
   "cell_type": "code",
   "execution_count": 35,
   "metadata": {
    "ExecuteTime": {
     "end_time": "2024-02-04T00:42:28.257434Z",
     "start_time": "2024-02-04T00:42:28.240876Z"
    }
   },
   "outputs": [
    {
     "name": "stdout",
     "output_type": "stream",
     "text": [
      "Original C_CRP: \n",
      "[[ 1.443e+11  3.974e+09  3.342e+09  0.000e+00  0.000e+00  0.000e+00]\n",
      " [ 3.974e+09  9.981e+09  2.560e+09  0.000e+00  0.000e+00  0.000e+00]\n",
      " [ 3.342e+09  2.560e+09  9.949e+09  0.000e+00  0.000e+00  0.000e+00]\n",
      " [ 0.000e+00  0.000e+00  0.000e+00  4.795e+09  0.000e+00  0.000e+00]\n",
      " [ 0.000e+00  0.000e+00  0.000e+00  0.000e+00  4.795e+09  0.000e+00]\n",
      " [ 0.000e+00  0.000e+00  0.000e+00  0.000e+00  0.000e+00  4.795e+09]]\n",
      "\n",
      "After transformation:\n",
      "[[ 1.443e+11  3.974e+09  3.342e+09  1.019e-06 -5.302e-06 -1.055e-05]\n",
      " [ 3.974e+09  9.981e+09  2.560e+09  6.967e-06 -3.156e-07 -1.285e-06]\n",
      " [ 3.342e+09  2.560e+09  9.949e+09  5.730e-06 -5.880e-07 -2.957e-07]\n",
      " [ 3.328e-06  5.318e-06  4.743e-06  4.795e+09 -1.050e-07 -1.411e-08]\n",
      " [-5.050e-06 -5.606e-08 -5.772e-07 -8.648e-07  4.795e+09  8.356e-07]\n",
      " [-3.534e-06 -1.154e-06 -4.007e-07 -4.134e-07  3.014e-06  4.795e+09]]\n",
      "\n",
      "Is C2 symmetric? True\n",
      "\n",
      "Is C2 back to original? True\n"
     ]
    }
   ],
   "source": [
    "# Test our 4th order tensor transformation\n",
    "print(f\"Original C_CRP: \\n{C_CRP}\\n\")         #Oringinal C(6,6) matrix \n",
    "\n",
    "C4_CRP = Tensor4_transfer(T.T,C4p_CRP)         #Inverse transformation\n",
    "C2_CRP = C4toC2(C4_CRP)                  #Convert C(3,3,3,3) to C(6,6) \n",
    "\n",
    "print(f\"After transformation:\\n{C2_CRP}\\n\")        #Transformed matrix\n",
    "print(f\"Is C2 symmetric? {np.allclose(C2_CRP,C2_CRP.T,atol=1e-04)}\\n\")\n",
    "print(f\"Is C2 back to original? {np.allclose(C2_CRP,C_CRP,atol=1e-03)}\")"
   ]
  },
  {
   "cell_type": "markdown",
   "metadata": {},
   "source": [
    "Using the codes above, we have confirmed the following. \n",
    "\n",
    "+ The transformed stiffness matrix will change, if the material is anisotropic, such as the CRP composite. \n",
    "+ The transformation does not change the norm. \n",
    "+ The back-transformed stiffness matrix recovers the original one. "
   ]
  },
  {
   "cell_type": "markdown",
   "metadata": {
    "ExecuteTime": {
     "end_time": "2023-11-16T20:11:26.333708Z",
     "start_time": "2023-11-16T20:11:26.320743Z"
    }
   },
   "source": [
    "### Remarks\n",
    "\n",
    "1. Constitutive equation or stress-stain equations are dealt with in this Chapter. The most general 4th order tensor with 81 elastic constants is first introduced. The symmetry of the tensor is proven. \n",
    "\n",
    "2. Procedure and codes are provided to reduce the 4th order tensor form to symmetric matrix form that are more often used in engineering applications. For isotropic elastic materials, the material constants become 2, which is most often encountered in engineering structures and devices. \n",
    "\n",
    "3. The concept of stiffness matrix and compliance matrix are introduced. For stable solid materials (that do not flow), both matrices are symmetric positive definite (SPD), and hence one can be inverted to produce the other. To obtained these material constants through experimental measurements, we use often the compliance matrix that contains explicitly the Young's modulus, shear modulus and Poisson's ratios.  \n",
    "\n",
    "4. Thermal effects can be taken into consideration via thermal strains in the constitutive equations.  "
   ]
  },
  {
   "cell_type": "markdown",
   "metadata": {},
   "source": [
    "# References\n",
    "\n",
    "[<a id=\"cit-LAI2010201\" href=\"#call-LAI2010201\">1</a>] W. Michael, David Rubin and Erhard Krempl, ``_CHAPTER 5 - The Elastic Solid_'',  2010.\n",
    "\n",
    "[<a id=\"cit-landau1986theory\" href=\"#call-landau1986theory\">2</a>] Lev Davidovich Landau, Evgenij M Lif{\\v{s}}ic, Evegnii Mikhailovich Lifshitz <em>et al.</em>, ``_Theory of elasticity: volume 7_'',  1986.\n",
    "\n",
    "[<a id=\"cit-liu2001elastic\" href=\"#call-liu2001elastic\">3</a>] GR Liu and ZC Xi, ``_Elastic waves in anisotropic laminates_'',  2001.\n",
    "\n",
    "[<a id=\"cit-liu2013finite\" href=\"#call-liu2013finite\">4</a>] GR Liu and Siu Sin Quek, ``_The finite element method: a practical course_'',  Butterworth-Heinemann, 2013.\n",
    "\n",
    "[<a id=\"cit-Ting1996AnisotropicET\" href=\"#call-Ting1996AnisotropicET\">5</a>] T. T. and C. O., ``_Anisotropic Elasticity: Theory and Applications_'', ,  1996.\n",
    "\n",
    "[<a id=\"cit-boresi2010elasticity\" href=\"#call-boresi2010elasticity\">6</a>] Arthur P Boresi, Ken Chong and James D Lee, ``_Elasticity in engineering mechanics_'',  John Wiley \\& Sons, New York, 2010.\n",
    "\n",
    "[<a id=\"cit-liusmoothed\" href=\"#call-liusmoothed\">7</a>] G.R. Liu and TT Nguyen, ``_Smoothed finite element methods_'',  Taylor and Francis Group, NewYork, 2010.\n",
    "\n",
    "[<a id=\"cit-liu2002mesh\" href=\"#call-liu2002mesh\">8</a>] G.R. Liu, ``_Mesh free methods: moving beyond the finite element method_'',  Taylor and Francis Group, New York, 2010.\n",
    "\n"
   ]
  },
  {
   "cell_type": "code",
   "execution_count": null,
   "metadata": {},
   "outputs": [],
   "source": []
  }
 ],
 "metadata": {
  "kernelspec": {
   "display_name": "Python 3 (ipykernel)",
   "language": "python",
   "name": "python3"
  },
  "language_info": {
   "codemirror_mode": {
    "name": "ipython",
    "version": 3
   },
   "file_extension": ".py",
   "mimetype": "text/x-python",
   "name": "python",
   "nbconvert_exporter": "python",
   "pygments_lexer": "ipython3",
   "version": "3.9.7"
  },
  "latex_envs": {
   "LaTeX_envs_menu_present": true,
   "autoclose": true,
   "autocomplete": true,
   "bibliofile": "../biblio.bib",
   "cite_by": "number",
   "current_citInitial": 1,
   "eqLabelWithNumbers": true,
   "eqNumInitial": 1,
   "hotkeys": {
    "equation": "Ctrl-E",
    "itemize": "Ctrl-I"
   },
   "labels_anchors": true,
   "latex_user_defs": false,
   "report_style_numbering": false,
   "user_envs_cfg": false
  },
  "toc": {
   "base_numbering": "5",
   "nav_menu": {},
   "number_sections": true,
   "sideBar": true,
   "skip_h1_title": true,
   "title_cell": "Table of Contents",
   "title_sidebar": "Contents",
   "toc_cell": true,
   "toc_position": {
    "height": "501.067px",
    "left": "29px",
    "top": "115.367px",
    "width": "165px"
   },
   "toc_section_display": true,
   "toc_window_display": true
  },
  "varInspector": {
   "cols": {
    "lenName": 16,
    "lenType": 16,
    "lenVar": 40
   },
   "kernels_config": {
    "python": {
     "delete_cmd_postfix": "",
     "delete_cmd_prefix": "del ",
     "library": "var_list.py",
     "varRefreshCmd": "print(var_dic_list())"
    },
    "r": {
     "delete_cmd_postfix": ") ",
     "delete_cmd_prefix": "rm(",
     "library": "var_list.r",
     "varRefreshCmd": "cat(var_dic_list()) "
    }
   },
   "types_to_exclude": [
    "module",
    "function",
    "builtin_function_or_method",
    "instance",
    "_Feature"
   ],
   "window_display": false
  }
 },
 "nbformat": 4,
 "nbformat_minor": 4
}
