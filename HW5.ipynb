{
 "cells": [
  {
   "cell_type": "markdown",
   "id": "5295d31c",
   "metadata": {},
   "source": [
    "# Homeworks for SM-I course\n",
    "\n",
    "Important: \n",
    "\n",
    "1). Please download the latest grcodes, images, and related chapters before working on the homework. \n",
    "\n",
    "2). Both pdf files and the source codes must be submitted, or the work will not be marked.  "
   ]
  },
  {
   "cell_type": "markdown",
   "id": "4e2dcefc",
   "metadata": {},
   "source": [
    "# Homework 5: Stressed bars by mechanical and thermal loads\n",
    "\n",
    "**Question 1:**"
   ]
  },
  {
   "cell_type": "markdown",
   "id": "b7af6467",
   "metadata": {},
   "source": [
    "Consider a uniform bar with cross-section area of $A$, and length $l$ made of linear elastic material. It is subjected to a distributed body-force $b_f$, as shown in Fig.\\ref{image:bar1Dbf}. It is fixed at the left-end, meaning that at $x=0, u=0$. At $x=l$, it may also be subjected to a concentrated force $f$. The problem can be treated as one-dimensional (1D), meaning that our concern is mainly the unknown displacement, stress, and strain varying with the coordinate $x$. \n",
    "\n",
    "<img src=\"/images/bar1Dbf.png\" alt=\" \" width=\"450\"/><br>\n",
    "\n",
    "\n",
    "1) Consider only the body force $b_f=q$ (N/m) where $q$ is a constant, derive by hand the formulas for computing the displacement in the $x$-direction, and normal stress $𝜎_{xx}$ in the bar. \n",
    "\n",
    "2) Consider both the body force $b_f=q$ (N/m) and the concentrated force $f$ (N), derive by hand the formulas for computing the displacement in the $x$-direction, and normal stress $𝜎_{xx}$. Compare the solutions with the corresponding ones obtained using the code given in the textbook. \n",
    "\n",
    "3) Given data, $A = 250 mm^2$, $l=0.5m$, Young's modulus of the material $E=2.1e^{10} Pa$, $b_f = 5000 N/m$, $f=1500 N$, compute and plot the distributions of the displacement and stress along the coordinate $x$."
   ]
  },
  {
   "cell_type": "markdown",
   "id": "0d60618c",
   "metadata": {},
   "source": [
    "**Question 2:**\n",
    "\n",
    "Consider a bar of length $L$ consisting of three thin bars of homogeneous isotropic materials, as shown in Fig.\\ref{image:BarWith3bars}. The bars are all fixed on a wall at the left-end, and are rigidly connected at the right-ends. The bars on the top and bottom (bar-1) are identical with Young's modulus $E_1$, thermal expansion coefficient of $𝛼_1$, and each with area $A_1$. The bar in the middle (bar-2) is with Young's modulus $E_2$, area $A_2$, and thermal expansion coefficient of $𝛼_2$. Considering only the displacement in the $x$-direction, and complete the following tasks. \n",
    "\n",
    "The data are given as $E_1=200 GPa$, $E_2=70 GPa$, $A_1=5mm^2$, $A_2=8mm^2$ and $L=100mm$, $𝛼_1=11.0E^{-6}/ ^∘C$, $𝛼_2=22.0E^{-6}/ ^∘C$, $Δ𝑇=300^∘C$, and $F=50N$. \n",
    "\n",
    "<img src=\"/images/BarWith3bars.png\" alt=\" \" width=\"400\"/><br>\n",
    "\n",
    "1) Consider only external force $F$ applied at the right-end of the bar, derive the formulas for computing the normal stresses and the internal normal forces in each of the three bars, and the elongation of the bar. \n",
    "\n",
    "2) Consider only temperature change $Δ𝑇$ over the entire bars, derive the formulas for computing the normal stresses and the internal normal forces in each of the three bars, and the elongation of the bar. \n",
    "\n",
    "3) Using the data given, compute numerical values for normal stresses, internal normal forces in each of the three bars, and the elongation of the bar, when the bar is subjected to both external force and temperature changes. \n",
    "\n",
    "4) Compute the principal stresses and the maximum stress and their directions in bar-1. "
   ]
  },
  {
   "cell_type": "code",
   "execution_count": null,
   "id": "25c8f76c",
   "metadata": {},
   "outputs": [],
   "source": []
  }
 ],
 "metadata": {
  "kernelspec": {
   "display_name": "Python 3 (ipykernel)",
   "language": "python",
   "name": "python3"
  },
  "language_info": {
   "codemirror_mode": {
    "name": "ipython",
    "version": 3
   },
   "file_extension": ".py",
   "mimetype": "text/x-python",
   "name": "python",
   "nbconvert_exporter": "python",
   "pygments_lexer": "ipython3",
   "version": "3.9.7"
  },
  "latex_envs": {
   "LaTeX_envs_menu_present": true,
   "autoclose": true,
   "autocomplete": true,
   "bibliofile": "biblio.bib",
   "cite_by": "apalike",
   "current_citInitial": 1,
   "eqLabelWithNumbers": true,
   "eqNumInitial": 1,
   "hotkeys": {
    "equation": "Ctrl-E",
    "itemize": "Ctrl-I"
   },
   "labels_anchors": false,
   "latex_user_defs": false,
   "report_style_numbering": true,
   "user_envs_cfg": false
  },
  "toc": {
   "base_numbering": "2",
   "nav_menu": {},
   "number_sections": true,
   "sideBar": true,
   "skip_h1_title": true,
   "title_cell": "Table of Contents",
   "title_sidebar": "Contents",
   "toc_cell": false,
   "toc_position": {
    "height": "calc(100% - 180px)",
    "left": "10px",
    "top": "150px",
    "width": "165.562px"
   },
   "toc_section_display": true,
   "toc_window_display": false
  },
  "varInspector": {
   "cols": {
    "lenName": 16,
    "lenType": 16,
    "lenVar": 40
   },
   "kernels_config": {
    "python": {
     "delete_cmd_postfix": "",
     "delete_cmd_prefix": "del ",
     "library": "var_list.py",
     "varRefreshCmd": "print(var_dic_list())"
    },
    "r": {
     "delete_cmd_postfix": ") ",
     "delete_cmd_prefix": "rm(",
     "library": "var_list.r",
     "varRefreshCmd": "cat(var_dic_list()) "
    }
   },
   "types_to_exclude": [
    "module",
    "function",
    "builtin_function_or_method",
    "instance",
    "_Feature"
   ],
   "window_display": false
  }
 },
 "nbformat": 4,
 "nbformat_minor": 5
}
