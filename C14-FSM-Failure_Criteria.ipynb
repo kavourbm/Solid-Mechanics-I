{
 "cells": [
  {
   "cell_type": "markdown",
   "id": "53613434",
   "metadata": {
    "toc": true
   },
   "source": [
    "<h1>Table of Contents<span class=\"tocSkip\"></span></h1>\n",
    "<div class=\"toc\"><ul class=\"toc-item\"><li><span><a href=\"#Failure-Criteria-and-Failure-Analysis\" data-toc-modified-id=\"Failure-Criteria-and-Failure-Analysis-14\"><span class=\"toc-item-num\">14&nbsp;&nbsp;</span>Failure Criteria and Failure Analysis</a></span><ul class=\"toc-item\"><li><span><a href=\"#Basic-concept\" data-toc-modified-id=\"Basic-concept-14.1\"><span class=\"toc-item-num\">14.1&nbsp;&nbsp;</span>Basic concept</a></span></li><li><span><a href=\"#A-case-for-this-study:-yield-analysis-of-a-steel-shaft\" data-toc-modified-id=\"A-case-for-this-study:-yield-analysis-of-a-steel-shaft-14.2\"><span class=\"toc-item-num\">14.2&nbsp;&nbsp;</span>A case for this study: yield analysis of a steel shaft</a></span><ul class=\"toc-item\"><li><span><a href=\"#Setting-of-the-problem\" data-toc-modified-id=\"Setting-of-the-problem-14.2.1\"><span class=\"toc-item-num\">14.2.1&nbsp;&nbsp;</span>Setting of the problem</a></span></li><li><span><a href=\"#Formulas-for-computing-the-stresses\" data-toc-modified-id=\"Formulas-for-computing-the-stresses-14.2.2\"><span class=\"toc-item-num\">14.2.2&nbsp;&nbsp;</span>Formulas for computing the stresses</a></span></li><li><span><a href=\"#Python-code-to-compute-the-stresses\" data-toc-modified-id=\"Python-code-to-compute-the-stresses-14.2.3\"><span class=\"toc-item-num\">14.2.3&nbsp;&nbsp;</span>Python code to compute the stresses</a></span></li></ul></li><li><span><a href=\"#Maximum-Principal-Stress-Criterion\" data-toc-modified-id=\"Maximum-Principal-Stress-Criterion-14.3\"><span class=\"toc-item-num\">14.3&nbsp;&nbsp;</span>Maximum Principal Stress Criterion</a></span><ul class=\"toc-item\"><li><span><a href=\"#The-criterion\" data-toc-modified-id=\"The-criterion-14.3.1\"><span class=\"toc-item-num\">14.3.1&nbsp;&nbsp;</span>The criterion</a></span></li><li><span><a href=\"#Yield-surface\" data-toc-modified-id=\"Yield-surface-14.3.2\"><span class=\"toc-item-num\">14.3.2&nbsp;&nbsp;</span>Yield surface</a></span></li><li><span><a href=\"#Application-to-the-case-study-problem\" data-toc-modified-id=\"Application-to-the-case-study-problem-14.3.3\"><span class=\"toc-item-num\">14.3.3&nbsp;&nbsp;</span>Application to the case study problem</a></span></li></ul></li><li><span><a href=\"#Maximum-Principal-Strain-Criterion\" data-toc-modified-id=\"Maximum-Principal-Strain-Criterion-14.4\"><span class=\"toc-item-num\">14.4&nbsp;&nbsp;</span>Maximum Principal Strain Criterion</a></span><ul class=\"toc-item\"><li><span><a href=\"#The-criterion\" data-toc-modified-id=\"The-criterion-14.4.1\"><span class=\"toc-item-num\">14.4.1&nbsp;&nbsp;</span>The criterion</a></span></li><li><span><a href=\"#Application-to-the-case-study-problem\" data-toc-modified-id=\"Application-to-the-case-study-problem-14.4.2\"><span class=\"toc-item-num\">14.4.2&nbsp;&nbsp;</span>Application to the case study problem</a></span></li></ul></li><li><span><a href=\"#Strain-Energy-Density-Criterion\" data-toc-modified-id=\"Strain-Energy-Density-Criterion-14.5\"><span class=\"toc-item-num\">14.5&nbsp;&nbsp;</span>Strain-Energy Density Criterion</a></span><ul class=\"toc-item\"><li><span><a href=\"#Strain-Energy-Density\" data-toc-modified-id=\"Strain-Energy-Density-14.5.1\"><span class=\"toc-item-num\">14.5.1&nbsp;&nbsp;</span>Strain-Energy Density</a></span></li><li><span><a href=\"#Application-to-the-case-study-problem\" data-toc-modified-id=\"Application-to-the-case-study-problem-14.5.2\"><span class=\"toc-item-num\">14.5.2&nbsp;&nbsp;</span>Application to the case study problem</a></span></li></ul></li><li><span><a href=\"#Yielding-criteria-for-ductile-materials\" data-toc-modified-id=\"Yielding-criteria-for-ductile-materials-14.6\"><span class=\"toc-item-num\">14.6&nbsp;&nbsp;</span>Yielding criteria for ductile materials</a></span><ul class=\"toc-item\"><li><span><a href=\"#Maximum-shear-stress-(Tresca)-criterion\" data-toc-modified-id=\"Maximum-shear-stress-(Tresca)-criterion-14.6.1\"><span class=\"toc-item-num\">14.6.1&nbsp;&nbsp;</span>Maximum shear-stress (Tresca) criterion</a></span></li><li><span><a href=\"#Tresca-yield-surface\" data-toc-modified-id=\"Tresca-yield-surface-14.6.2\"><span class=\"toc-item-num\">14.6.2&nbsp;&nbsp;</span>Tresca yield surface</a></span></li><li><span><a href=\"#Application-to-the-case-study-problem\" data-toc-modified-id=\"Application-to-the-case-study-problem-14.6.3\"><span class=\"toc-item-num\">14.6.3&nbsp;&nbsp;</span>Application to the case study problem</a></span></li><li><span><a href=\"#Distortional-energy-density-criteria\" data-toc-modified-id=\"Distortional-energy-density-criteria-14.6.4\"><span class=\"toc-item-num\">14.6.4&nbsp;&nbsp;</span>Distortional energy density criteria</a></span><ul class=\"toc-item\"><li><span><a href=\"#von-Mises-criterion\" data-toc-modified-id=\"von-Mises-criterion-14.6.4.1\"><span class=\"toc-item-num\">14.6.4.1&nbsp;&nbsp;</span>von Mises criterion</a></span></li><li><span><a href=\"#Application-to-the-case-study-problem\" data-toc-modified-id=\"Application-to-the-case-study-problem-14.6.4.2\"><span class=\"toc-item-num\">14.6.4.2&nbsp;&nbsp;</span>Application to the case study problem</a></span></li><li><span><a href=\"#Octahedral-shear-stress-criterion\" data-toc-modified-id=\"Octahedral-shear-stress-criterion-14.6.4.3\"><span class=\"toc-item-num\">14.6.4.3&nbsp;&nbsp;</span>Octahedral shear-stress criterion</a></span></li><li><span><a href=\"#Application-to-the-case-study-problem\" data-toc-modified-id=\"Application-to-the-case-study-problem-14.6.4.4\"><span class=\"toc-item-num\">14.6.4.4&nbsp;&nbsp;</span>Application to the case study problem</a></span></li><li><span><a href=\"#Difference-between-the-von-Mises-and-Tresca-criteria\" data-toc-modified-id=\"Difference-between-the-von-Mises-and-Tresca-criteria-14.6.4.5\"><span class=\"toc-item-num\">14.6.4.5&nbsp;&nbsp;</span>Difference between the von Mises and Tresca criteria</a></span></li></ul></li><li><span><a href=\"#π-Plane\" data-toc-modified-id=\"π-Plane-14.6.5\"><span class=\"toc-item-num\">14.6.5&nbsp;&nbsp;</span>π-Plane</a></span></li><li><span><a href=\"#Deviatoric-planes\" data-toc-modified-id=\"Deviatoric-planes-14.6.6\"><span class=\"toc-item-num\">14.6.6&nbsp;&nbsp;</span>Deviatoric planes</a></span></li></ul></li><li><span><a href=\"#Yield-Criterion-for-cohesive-materials-*\" data-toc-modified-id=\"Yield-Criterion-for-cohesive-materials-*-14.7\"><span class=\"toc-item-num\">14.7&nbsp;&nbsp;</span>Yield Criterion for cohesive materials *</a></span><ul class=\"toc-item\"><li><span><a href=\"#Mohr–Coulomb-yield-function\" data-toc-modified-id=\"Mohr–Coulomb-yield-function-14.7.1\"><span class=\"toc-item-num\">14.7.1&nbsp;&nbsp;</span>Mohr–Coulomb yield function</a></span></li><li><span><a href=\"#Determination-of-material-parameters\" data-toc-modified-id=\"Determination-of-material-parameters-14.7.2\"><span class=\"toc-item-num\">14.7.2&nbsp;&nbsp;</span>Determination of material parameters</a></span></li><li><span><a href=\"#Mohr–Coulomb-yield-surface\" data-toc-modified-id=\"Mohr–Coulomb-yield-surface-14.7.3\"><span class=\"toc-item-num\">14.7.3&nbsp;&nbsp;</span>Mohr–Coulomb yield surface</a></span></li><li><span><a href=\"#Drucker–Prager-yield-criterion\" data-toc-modified-id=\"Drucker–Prager-yield-criterion-14.7.4\"><span class=\"toc-item-num\">14.7.4&nbsp;&nbsp;</span>Drucker–Prager yield criterion</a></span></li></ul></li><li><span><a href=\"#Comparison-of-different-criteria\" data-toc-modified-id=\"Comparison-of-different-criteria-14.8\"><span class=\"toc-item-num\">14.8&nbsp;&nbsp;</span>Comparison of different criteria</a></span></li><li><span><a href=\"#Remarks\" data-toc-modified-id=\"Remarks-14.9\"><span class=\"toc-item-num\">14.9&nbsp;&nbsp;</span>Remarks</a></span></li></ul></li></ul></div>"
   ]
  },
  {
   "cell_type": "markdown",
   "id": "ffb12c0b",
   "metadata": {},
   "source": [
    "Let us import necessary external modules or dependence for later use in this chapter."
   ]
  },
  {
   "cell_type": "code",
   "execution_count": 2,
   "id": "57655123",
   "metadata": {
    "ExecuteTime": {
     "end_time": "2024-03-29T11:19:45.881477Z",
     "start_time": "2024-03-29T11:19:45.871471Z"
    }
   },
   "outputs": [],
   "source": [
    "# Place curse in this cell, and press Ctrl+Enter to import dependences. \n",
    "import sys                         # for accessing the computer system\n",
    "sys.path.append('../grbin/')  # Change to the directory in your system \n",
    "\n",
    "from commonImports import *      # Import dependences from '../grbin/'\n",
    "import grcodes as gr                 # Import the module of the author\n",
    "importlib.reload(gr)            # When grcodes is modified, reload it\n",
    "\n",
    "from continuum_mechanics import vector \n",
    "init_printing(use_unicode=True)      # For latex-like quality printing \n",
    "np.set_printoptions(precision=4,suppress=True)  # Digits in print-outs"
   ]
  },
  {
   "cell_type": "markdown",
   "id": "ab73100b",
   "metadata": {},
   "source": [
    "## Failure Criteria and Failure Analysis"
   ]
  },
  {
   "cell_type": "markdown",
   "id": "f094fd43",
   "metadata": {},
   "source": [
    "The major purpose of stress analysis is to assess whether the stressed material will fail. Such an assessment is called failure analysis. The most important stage in material failure process is the yielding, which can often be clearly observed during experiments of many types of materials. When the stressed material gets to the yielding point, it starts deform drastically without much increase of loading, and the load level is often very close to the ultimate failure load. \n",
    "\n",
    "In addition, in many conservative design of structure, material yielding is regarded as failure. Such yielding-based designs apply to all structures and devices that are subjected to multiple repetitive uses, and often with large safety factors, meaning that the service stress should be far below the yield stress. Therefore, the yield criterion of a material is particularly important. Thus, this chapter focuses on various types yield criteria used for different types of materials.  It is written in **reference** \\cite{boresi2002advanced, gere1999mechanics, Timoshenko1970}.     "
   ]
  },
  {
   "cell_type": "markdown",
   "id": "794cc135",
   "metadata": {},
   "source": [
    "### Basic concept\n",
    "\n",
    "As discussed in previous chapters, a structural components can undergo a stress state with multiple (as much as six) stress components at a point in the material. When a yielding criterion is defined, it is thus convenient to define a single equivalent or effective stress $σ_e$ that is a combination of all the stress components. Because material yielding/failing is a physical property of the material, and it should not depend on the coordinates used to compute the stresses, thus the effective stress should be a proper combination of the principal stresses or other stress invariants.    \n",
    "\n",
    "Clearly, different forms of yield criteria are needed for different types of materials.  We define a yield function $f(σ_{ij}, σ_{Y})$, where $σ_{ij}$ represent the stress state and $σ_{Y}$ is the yield strength of the material in uniaxial tension (or compression) obtained from an experiment. A stress-based yield criterion can be expressed as \\cite{lubliner1990plasticity}: \n",
    "\n",
    "\\begin{equation} \\label{eqfsij}\n",
    "f(σ_{ij}, σ_{Y})=0\n",
    "\\end{equation} \n",
    "\n",
    "at which the material is said on the yield surface. When $f(σ_{ij},σ_{Y})<0$, the stress state is elastic, and $f(σ_{ij},σ_{Y})>0$ is not allowed. "
   ]
  },
  {
   "cell_type": "markdown",
   "id": "5b9b773f",
   "metadata": {},
   "source": [
    "### A case for this study: yield analysis of a steel shaft\n",
    "\n",
    "We will use a typical case for studying various yielding criteria. The case chosen has a combined stress states resulted from bending and torsion at the same time. The strategy is to introduce different yielding criteria one-by-one, and use it to assess whether or not the material will yield for the same given stress state at a point. We compute also the safety factor based on the yielding criterion used. \n",
    "\n",
    "#### Setting of the problem \n",
    "\n",
    "Consider a solid cylindrical shaft with a diameter of $d=100$mm. It is loaded by a torque $\\mathbf{T}=30$kNm, a bending moment $\\mathbf{M}=15$kNm, and a pressure $p=50$MPa on its outer surface. The directions of these loads are shown in Fig.\\ref{image:shaftTMp}. The shaft is made of steel treated as linear elastic material before yielding. Its Young's modulus is $E=200 GPa$, and Poisson's ratio is $\\nu = 0.3$. Determine whether or not the shaft will yield at  point A, assuming the safety factor is $S_f=2.5$, and the material yield stress $\\sigma_Y=750 MPa$. \n",
    "\n",
    "<img src=\"./images/shaftTMp.png\" alt=\" \" width=\"450\"/><br>\n",
    "\\begin{figure}\n",
    "  \\includegraphics[width=5cm]{}\n",
    "  \\caption{\\label{image:shaftTMp} (a) A solid cylindrical shaft subjected to a torque $\\mathbf{T}$, moment $\\mathbf{M}$, and a pressure $p$ on the outer surface. (b) Top-down view on the upper surface of the bar. All stress components shown are positive following the standard sign convention.}\n",
    "\\end{figure} "
   ]
  },
  {
   "cell_type": "markdown",
   "id": "0f576f80",
   "metadata": {},
   "source": [
    "#### Formulas for computing the stresses\n",
    "\n",
    "From the setting given in Fig.\\ref{image:shaftTMp}, the contributions to the stresses on the lateral surface of the shaft from the torque and pressure is uniform. The normal stress in the $x$-direction caused by the moment will be largest at points A or B. Therefore, the critical points on this shaft should be points A or B. Let us examine the stress states at point A. \n",
    "\n",
    "The normal stress in the $x$-direction at point A caused by the moment is computed using\n",
    "\n",
    "\\begin{equation} \\label{eqsM}\n",
    "𝜎 =-\\frac{S_FMd}{2I}\n",
    "\\end{equation} \n",
    "\n",
    "Here we use the safety factor $S_F$ to scale up the moment applied to the bar, $I$ is the 2nd moment of area of the cross-section of the shaft, computed using \n",
    "\n",
    "\\begin{equation} \\label{eqMI}\n",
    "I = \\frac{\\pi d^4}{64} \n",
    "\\end{equation} \n",
    "\n",
    "The shear stress caused by the torque is computed by\n",
    "\n",
    "\\begin{equation} \\label{eqtT}\n",
    "𝜏 =\\frac{S_FTd}{2J}\n",
    "\\end{equation} \n",
    "\n",
    "Similarly, we use the safety factor $S_F$ to scale up the torque applied to the bar, $J$ is the 2nd polar moment of the cross-section of the shaft, computed using \n",
    "\n",
    "\\begin{equation} \\label{eqTJ}\n",
    "J = \\frac{\\pi  d^4}{32} \n",
    "\\end{equation} \n",
    "\n",
    "The stress components at point A are then given by\n",
    "\n",
    "\\begin{equation} \\label{eqsij}\n",
    "𝜎_{xx}=𝜎; 𝜎_{xy}=𝜏; 𝜎_{zx}=0; 𝜎_{yy}=0; 𝜎_{zy}=0; 𝜎_{zz}=S_Fp\n",
    "\\end{equation}"
   ]
  },
  {
   "cell_type": "markdown",
   "id": "1a1d1dc3",
   "metadata": {},
   "source": [
    "#### Python code to compute the stresses\n",
    "\n",
    "We write the following code to compute the stress tensor in matrix form, and then compute the principal stresses. "
   ]
  },
  {
   "cell_type": "code",
   "execution_count": 3,
   "id": "9910bdd5",
   "metadata": {
    "ExecuteTime": {
     "end_time": "2024-03-29T11:19:57.789083Z",
     "start_time": "2024-03-29T11:19:57.757488Z"
    }
   },
   "outputs": [
    {
     "name": "stdout",
     "output_type": "stream",
     "text": [
      "Stress state:\n",
      "[[-3.8197e+08  3.8197e+08  0.0000e+00]\n",
      " [ 3.8197e+08  0.0000e+00  0.0000e+00]\n",
      " [ 0.0000e+00  0.0000e+00  1.2500e+08]]\n",
      "\n",
      "Principal stress/strain (Eigenvalues):\n",
      " [ 2.3607e+08  1.2500e+08 -6.1804e+08] \n",
      "\n",
      "Principal stress/strain directions:\n",
      "[[-0.5257  0.     -0.8507]\n",
      " [-0.8507  0.      0.5257]\n",
      " [ 0.      1.      0.    ]]\n",
      "\n",
      "Possible angles (n1,x)=121.71747441146103∘ or 58.282525588538974∘\n"
     ]
    }
   ],
   "source": [
    "# External forces\n",
    "Torque = 30.0e3 # Nm\n",
    "Moment = 15.0e3 # Nm\n",
    "p = 50.0e6      # Pa, pressure on the surface\n",
    "SF = 2.5        # safety factor\n",
    "\n",
    "# Material property\n",
    "E = 200.0e9     # Pa, Young's modulus, not used in this example\n",
    "𝜈 = 0.3         # Poisson's ratio\n",
    "sY= 750.0e6     # Pa, Yield stress\n",
    "\n",
    "# Dimensions of the cylindrical shaft\n",
    "d = 0.100       # m, diameter\n",
    "\n",
    "# Compute structure/member properties\n",
    "I = (np.pi * d**4)/64.0  # 2nd moment of circular area\n",
    "J = (np.pi * d**4)/32.0  # 2nd polar moment of circular area\n",
    "\n",
    "# Compute the stresses\n",
    "𝜎 =-SF*Moment*(d/2.)/I   # stress by the moment at point A\n",
    "𝜏 = SF*Torque*(d/2.)/J   # stress by the Torque\n",
    "\n",
    "𝜎xx=𝜎; 𝜎xy=𝜏; 𝜎xz=0; 𝜎yy=0; 𝜎yz=0; 𝜎zz=SF*p\n",
    "\n",
    "Sij = np.array([[𝜎xx, 𝜎xy, 𝜎xz],\n",
    "                [𝜎xy, 𝜎yy, 𝜎yz],\n",
    "                [𝜎xz, 𝜎yz, 𝜎zz]]) \n",
    "print(f'Stress state:\\n{Sij}\\n')\n",
    "\n",
    "eigens, eigenVectors = gr.principalS(Sij)      # principal stresses"
   ]
  },
  {
   "cell_type": "code",
   "execution_count": 5,
   "id": "bf5cd785",
   "metadata": {
    "ExecuteTime": {
     "end_time": "2024-03-29T11:22:21.715381Z",
     "start_time": "2024-03-29T11:22:19.777163Z"
    }
   },
   "outputs": [
    {
     "data": {
      "image/png": "[encoded data removed]",
      "text/latex": [
       "$\\displaystyle 35367765.1315323$"
      ],
      "text/plain": [
       "35367765.13153228"
      ]
     },
     "execution_count": 5,
     "metadata": {},
     "output_type": "execute_result"
    }
   ],
   "source": [
    "A = np.pi*((0.1/2)**2-(0.08/2)**2)\n",
    "100_000./A"
   ]
  },
  {
   "cell_type": "markdown",
   "id": "2789d2a4",
   "metadata": {},
   "source": [
    "We got two angles, because of the non-uniqueness of the eigenvectors and the multivalued feature of cosine functions. We use the following code to find out which one is correct."
   ]
  },
  {
   "cell_type": "code",
   "execution_count": 4,
   "id": "8a5ae1e2",
   "metadata": {
    "ExecuteTime": {
     "end_time": "2024-03-25T12:25:29.389084Z",
     "start_time": "2024-03-25T12:25:29.370378Z"
    }
   },
   "outputs": [
    {
     "data": {
      "text/plain": [
       "array([[ 2.3607e+08,  4.1106e-07,  0.0000e+00],\n",
       "       [ 4.1692e-07, -6.1804e+08,  0.0000e+00],\n",
       "       [ 0.0000e+00,  0.0000e+00,  1.2500e+08]])"
      ]
     },
     "execution_count": 4,
     "metadata": {},
     "output_type": "execute_result"
    }
   ],
   "source": [
    "# Form the transformation matrix using the first angle: \n",
    "T𝜃 = gr.transferM(58.282525588538974, about = 'z')[0]\n",
    "\n",
    "# Perform the transformation to the stress tensor\n",
    "T𝜃@Sij@T𝜃.T"
   ]
  },
  {
   "cell_type": "markdown",
   "id": "ba1dacde",
   "metadata": {},
   "source": [
    "This angle of $58.28$ degree is not correct. \n",
    "\n",
    "We now discuss various yield criteria to assess whether or not the material will yield at point A, and the actual safety factor. "
   ]
  },
  {
   "cell_type": "markdown",
   "id": "2aea7944",
   "metadata": {},
   "source": [
    "### Maximum Principal Stress Criterion\n",
    "\n",
    "#### The criterion\n",
    "\n",
    "The maximum principal stress criterion states that yielding begins at a point where the maximum absolute value of the principal stress reaches the absolute yield stress $σ_{Y}$ that may be obtained from a tensile or compressive test. \n",
    "\n",
    "For given a stress state with $σ_{ij}$ at a point in solid, we compute the principle stresses and rank them in the order of $|σ_{1}|\\ge |σ_{2}|\\ge |σ_{3}|$. The effective stress $σ_e$ is chosen as\n",
    "\n",
    "\\begin{equation} \\label{eqsmax}\n",
    "σ_{e}= |σ_{1}| \n",
    "\\end{equation} \n",
    "\n",
    "and the yield criterion  is \n",
    "\n",
    "\\begin{equation} \\label{eqsmaxc}\n",
    "σ_{e}-σ_{Y} =0\n",
    "\\end{equation} \n",
    "\n",
    "This equation is convenient use for assessing whether or not the material is yield at a point, and hence useful in design of structures. "
   ]
  },
  {
   "cell_type": "markdown",
   "id": "6dfd0918",
   "metadata": {},
   "source": [
    "#### Yield surface\n",
    "\n",
    "We can also compute a surface, called **yield surface** in the $(σ_1, σ_2, σ_3)$ coordinate system. It is an envelope. If the principle stresses of any given stress state fall on the envelope, the material is yield. If it is within the envelope, it is still elastic and safe. Such a yield surface is useful determine bounds on which the material will yield. The function for the yield surface is call **yield function**. For the maximum principal stress criterion, the yield function can be written as \n",
    "\n",
    "\\begin{equation} \\label{eqSf6}\n",
    "f_{1\\text { or }2}=|\\sigma_{1} - \\sigma_{Y}| = 0 \\;\\; \\text{ or } \\;\\;\n",
    "f_{1\\text { or }2}= \\sigma_{1} - \\pm \\sigma_{Y} =0 \\\\ \n",
    "f_{3\\text { or }4}=|\\sigma_{2}- \\sigma_{Y}| = 0 \\;\\; \\text{ or } \\;\\;\n",
    "f_{3\\text { or }4}=\\sigma_{2}-\\pm \\sigma_{Y} =0\\\\ \n",
    "f_{5\\text { or }6}=|\\sigma_{3} - \\sigma_{Y}| = 0 \\;\\; \\text{ or } \\;\\;\n",
    "f_{5\\text { or }6}=\\sigma_{3} -\\pm \\sigma_{Y} =0\\\\\n",
    "\\end{equation}"
   ]
  },
  {
   "cell_type": "markdown",
   "id": "a971a5ee",
   "metadata": {},
   "source": [
    "It has a total of 6 surfaces, and the yield function is the enclosed piecewise function formed by these 6 surfaces, denoted as \n",
    "\n",
    "\\begin{equation} \\label{eqsmaxf}\n",
    "f = f_1\\cup f_2 \\cup f_3 \\cup f_4\\cup f_5\\cup f_6\n",
    "\\end{equation} \n",
    "\n",
    "It is the six surfaces of a cube in the $(σ_1, σ_2, σ_3)$ coordinate system. For plane stress problems, it is a square in the $(σ_1, σ_2)$ coordinate system. \n",
    "\n",
    "Figure \\ref{image:MaxStressF} shows a yield surface with four straight lines in the $(σ_1, σ_2)$ coordinates for plane stress problems. \n",
    "\n",
    "<img src=\"./images/MaxStressF.png\" alt=\" \" width=\"300\"/><br>\n",
    "\\begin{figure}\n",
    "  \\includegraphics[width=5cm]{}\n",
    "  \\caption{\\label{image:MaxStressF} Schematic view of the yield surface of the maximum principle stress for plane stress problems. It consists of four straight lines.} \n",
    "\\end{figure}\n",
    "\n",
    "This yield criterion may not be good for ductile, but can be good for brittle materials. "
   ]
  },
  {
   "cell_type": "markdown",
   "id": "b5e5b2f8",
   "metadata": {},
   "source": [
    "#### Application to the case study problem\n",
    "\n",
    "The following codes compute the maximum principal stress using the principle stresses obtained in Section 14.2.3. This gives the material yield stress value needed to have point A stay below yielding, which determine the yield state. "
   ]
  },
  {
   "cell_type": "code",
   "execution_count": 5,
   "id": "1fdbbcd7",
   "metadata": {
    "ExecuteTime": {
     "end_time": "2024-03-25T12:25:48.342676Z",
     "start_time": "2024-03-25T12:25:48.332581Z"
    }
   },
   "outputs": [
    {
     "name": "stdout",
     "output_type": "stream",
     "text": [
      "The maximum principal stress = 6.18043e+08\n",
      "The material yield stress needs to be > 6.18043e+08\n",
      "The yield stress of the material = 7.50000e+08\n",
      "Is yield? False\n",
      "Safety factor = 3.0337672480085427\n"
     ]
    }
   ],
   "source": [
    "# maximum principal stress criterion\n",
    "ps_max = max(abs(eigens))\n",
    "print(f'The maximum principal stress = {ps_max:0.5e}')\n",
    "print(f'The material yield stress needs to be > {ps_max:0.5e}')\n",
    "print(f'The yield stress of the material = {sY:0.5e}')\n",
    "print(f'Is yield? {ps_max>sY}')\n",
    "print(f'Actual safety factor = {SF*sY/ps_max}')"
   ]
  },
  {
   "cell_type": "markdown",
   "id": "f1db1bba",
   "metadata": {},
   "source": [
    "### Maximum Principal Strain Criterion \n",
    "\n",
    "#### The criterion\n",
    "\n",
    "It states that yielding begins when the maximum absolute value of the principal strains at a point reaches the absolute value of the yield strain $𝜀_Y$ that may be obtained from a tensile or compressive test. \n",
    "\n",
    "For given a strain state with $𝜀_{ij}$, we compute the principle strains and rank them in the order of $|𝜀_{1}|\\ge |𝜀_{2}|\\ge |𝜀_{3}|$. The effective stress $𝜀_e$ is chosen as\n",
    "\n",
    "\\begin{equation} \\label{eqemax1}\n",
    "𝜀_{e}= |𝜀_{1}| \n",
    "\\end{equation} \n",
    "\n",
    "and the yield criterion  is \n",
    "\n",
    "\\begin{equation} \\label{eqemaxc}\n",
    "𝜀_{e}-𝜀_{Y} =0\n",
    "\\end{equation} \n",
    "\n",
    "This yield function is strain-based. It may not be good for ductile, but can fit better for brittle materials. \n",
    "\n",
    "Using the constitutive equations for materials (see Chapter 5??), one can express the principal strains in terms of principal stresses, and then the maximum principal strain criterion and be written in terms of stresses. For example, using Eq.(5.63??) for isotropic materials we have: "
   ]
  },
  {
   "cell_type": "markdown",
   "id": "3ca6a7e7",
   "metadata": {
    "ExecuteTime": {
     "end_time": "2023-09-16T11:11:47.637553Z",
     "start_time": "2023-09-16T11:11:47.612115Z"
    }
   },
   "source": [
    "\\begin{equation} \\label{eqE1_3}\n",
    "\\varepsilon_{1}=\\frac{1}{E}[\\sigma_{1}-\\nu\\sigma_{2}-\\nu \\sigma_{3}]\\\\\n",
    "\\varepsilon_{2}=\\frac{1}{E}[\\sigma_{2}-\\nu\\sigma_{1}-\\nu \\sigma_{3}]\\\\\n",
    "\\varepsilon_{3}=\\frac{1}{E}[\\sigma_{3}-\\nu\\sigma_{1}-\\nu \\sigma_{2}]\\\\\n",
    "\\end{equation}\n",
    "\n",
    "From the uniaxial load at the yield point $(σ_1 =σ_Y, σ_2 = σ_3 = 0$), we have\n",
    "\n",
    "\\begin{equation} \\label{eqeY}\n",
    "𝜀_{Y} = \\frac{\\sigma_{Y}}{E}\n",
    "\\end{equation} "
   ]
  },
  {
   "cell_type": "markdown",
   "id": "bf569b3e",
   "metadata": {
    "ExecuteTime": {
     "end_time": "2023-09-16T11:11:47.637553Z",
     "start_time": "2023-09-16T11:11:47.612115Z"
    }
   },
   "source": [
    "Using Eqs.(\\ref{eqemaxc}), (\\ref{eqE1_3}), (\\ref{eqeY}), we shall have a yield surface with six flat planes in the $(σ_1, σ_2, σ_3)$ coordinates: \n",
    "\n",
    "\\begin{equation} \\label{eqEf6}\n",
    "f_{1\\text{ or }2}=\\sigma_{1}-\\nu\\sigma_{2}-\\nu \\sigma_{3} \\pm \\sigma_{Y}=0 \\\\ \n",
    "f_{3\\text{ or }4}=\\sigma_{2}-\\nu\\sigma_{1}-\\nu \\sigma_{3} \\pm \\sigma_{Y} =0\\\\ \n",
    "f_{5\\text{ or }6}=\\sigma_{3}-\\nu\\sigma_{1}-\\nu \\sigma_{2} \\pm \\sigma_{Y}=0 \\\\\n",
    "\\end{equation}\n",
    "\n",
    "The yield surface is the 6 surfaces of a parallelepiped. "
   ]
  },
  {
   "cell_type": "markdown",
   "id": "f64335a7",
   "metadata": {
    "ExecuteTime": {
     "end_time": "2023-09-16T11:11:47.637553Z",
     "start_time": "2023-09-16T11:11:47.612115Z"
    }
   },
   "source": [
    "The effective yield stress can be written as a single expression as\n",
    "\n",
    "\\begin{equation} \\label{eqEes}\n",
    "\\sigma_{e}=\\max_{i\\ne j\\ne k}(\\sigma_{i}-\\nu\\sigma_{j}-\\nu \\sigma_{k})\n",
    "\\end{equation}\n",
    "\n",
    "The yield criterion can also be written as:\n",
    "\n",
    "\\begin{equation} \\label{eqemaxsc}\n",
    "\\sigma_{e}-\\sigma_{Y} \n",
    "\\end{equation}  \n",
    "\n",
    "Figure \\ref{image:MaxStrainF} shows a yield surface with four straight lines in the $(σ_1, σ_2)$ coordinates for plane stress problems. \n",
    "\n",
    "<br><img src=\"./images/MaxStrainF.png\" alt=\" \" width=\"300\"/><br>\n",
    "\\begin{figure}\n",
    "  \\includegraphics[width=5cm]{}\n",
    "  \\caption{\\label{image:MaxStrainF} Schematic view of the yield surface of the maximum principle strain for plane stress problems. It is a parallelogram of four straight lines.} \n",
    "\\end{figure}"
   ]
  },
  {
   "cell_type": "markdown",
   "id": "7718d2d8",
   "metadata": {},
   "source": [
    "#### Application to the case study problem\n",
    "\n",
    "The following codes compute the maximum principal strain using the principle stresses obtained in Section 14.2.3. This gives the material yield stress value needed to have point A stay below yielding, and determines the yield state. "
   ]
  },
  {
   "cell_type": "code",
   "execution_count": 6,
   "id": "e60e0547",
   "metadata": {
    "ExecuteTime": {
     "end_time": "2024-03-25T12:25:59.640086Z",
     "start_time": "2024-03-25T12:25:59.624038Z"
    }
   },
   "outputs": [
    {
     "name": "stdout",
     "output_type": "stream",
     "text": [
      "The maximum principal strain is 7.26365e+08\n",
      "The material yield stress needs to be > 7.26365e+08\n",
      "The yield stress of the material = 7.50000e+08\n",
      "Is yield? False\n",
      "Safety factor = 2.581347070749067\n"
     ]
    }
   ],
   "source": [
    "# maximum principal strain criterion\n",
    "se1 = eigens[0]-𝜈*eigens[1]-𝜈*eigens[2]  # principal strains E ε1\n",
    "se2 = eigens[1]-𝜈*eigens[0]-𝜈*eigens[2]  # principal strains E ε2\n",
    "se3 = eigens[2]-𝜈*eigens[0]-𝜈*eigens[1]  # principal strains E ε3\n",
    "e_max =max(abs(np.array([se1, se2, se3]))) \n",
    "print(f'The maximum principal strain is {e_max:0.5e}')\n",
    "print(f'The material yield stress needs to be > {e_max:0.5e}')\n",
    "print(f'The yield stress of the material = {sY:0.5e}')\n",
    "print(f'Is yield? {e_max>sY}')\n",
    "print(f'Actual safety factor = {SF*sY/e_max}')"
   ]
  },
  {
   "cell_type": "markdown",
   "id": "44f06c8c",
   "metadata": {},
   "source": [
    "### Strain-Energy Density Criterion\n",
    "\n",
    "The strain-energy density is one of the coordinate-independent quantities, and hence is often used for establishing failure criteria.  This criterion states that yielding at a point where the strain-energy density equals the strain energy density at yield in uniaxial tension (or compression). It is also known as the total strain energy criterion. "
   ]
  },
  {
   "cell_type": "markdown",
   "id": "4d021e0e",
   "metadata": {},
   "source": [
    "#### Strain-Energy Density \n",
    "\n",
    "The strain-energy density can be defined in various forms, which are given in Eq.(13.22\\ref{eqU0}). The strain energy in principal stresses is given by \n",
    "\n",
    "\\begin{equation} \\label{eqU0sed}\n",
    "𝑈_0=\\frac{1}{2E} [𝜎_1^2+𝜎_2^2+𝜎_3^2−2𝜈(𝜎_2 𝜎_3+𝜎_1 𝜎_3+𝜎_1 𝜎_2 )]\n",
    "\\end{equation}\n",
    "\n",
    "For a uniaxial load at the yield point $(σ_1 = σ_Y, σ_2 = σ_3 = 0)$, $U_0$ at failure is:\n",
    "\n",
    "\\begin{equation} \\label{eqU0Y}\n",
    "𝑈_{0Y}=\\frac{σ_Y^2}{2E} \n",
    "\\end{equation}"
   ]
  },
  {
   "cell_type": "markdown",
   "id": "b275e599",
   "metadata": {},
   "source": [
    "The failure criterion becomes,  \n",
    "\n",
    "\\begin{equation} \\label{eqfcsed}\n",
    "𝜎_1^2+𝜎_2^2+𝜎_3^2−2𝜈(𝜎_2 𝜎_3+𝜎_1 𝜎_3+𝜎_1 𝜎_2)-σ_Y^2=0\n",
    "\\end{equation}\n",
    "\n",
    "The effective stress $σ_e$ becomes,\n",
    "\n",
    "\\begin{equation} \\label{eqtee}\n",
    "σ_{e}=\\sqrt{𝜎_1^2+𝜎_2^2+𝜎_3^2−2𝜈(𝜎_2 𝜎_3+𝜎_1 𝜎_3+𝜎_1 𝜎_2)}  \n",
    "\\end{equation} \n",
    "\n",
    "and the yield function is \n",
    "\n",
    "\\begin{equation} \\label{eqtec}\n",
    "f = σ_{e}^2-σ_{Y}^2=0\n",
    "\\end{equation} \n",
    "\n",
    "This yield criterion is ellipsoid in principal stress space. It is a circle when $𝜈=0$. The yield function is one piece. "
   ]
  },
  {
   "cell_type": "markdown",
   "id": "1667c479",
   "metadata": {},
   "source": [
    "#### Application to the case study problem\n",
    "\n",
    "The following codes compute the strain-energy density using the principle stresses obtained in Section 14.2.3. This gives the material yield stress value needed to have point A stay below yielding, which determines the yield state. "
   ]
  },
  {
   "cell_type": "code",
   "execution_count": 7,
   "id": "8af034d7",
   "metadata": {
    "ExecuteTime": {
     "end_time": "2024-03-25T12:26:07.337921Z",
     "start_time": "2024-03-25T12:26:07.325917Z"
    }
   },
   "outputs": [
    {
     "name": "stdout",
     "output_type": "stream",
     "text": [
      "The strain-energy stress is 7.54667e+08\n",
      "The material yield stress needs to be > 7.54667e+08\n",
      "The yield stress of the material = 7.50000e+08\n",
      "Is yield? True\n",
      "Safety factor = 2.484540356884463\n"
     ]
    }
   ],
   "source": [
    "# Strain-energy density criterion\n",
    "U_stress = gr.energy_stress(eigens, 𝜈)\n",
    "print(f'The strain-energy stress is {U_stress:0.5e}')\n",
    "print(f'The material yield stress needs to be > {U_stress:0.5e}')\n",
    "print(f'The yield stress of the material = {sY:0.5e}')\n",
    "print(f'Is yield? {U_stress>sY}')\n",
    "print(f'Actual safety factor = {SF*sY/U_stress}')"
   ]
  },
  {
   "cell_type": "markdown",
   "id": "62da7077",
   "metadata": {},
   "source": [
    "### Yielding criteria for ductile materials \n",
    "\n",
    "Many materials used in engineering applications are purposely made ductile. Yielding criteria for ductile materials are thus well studied. This section introduces these type of criteria. "
   ]
  },
  {
   "cell_type": "markdown",
   "id": "1f52bdbc",
   "metadata": {},
   "source": [
    "#### Maximum shear-stress (Tresca) criterion \n",
    "\n",
    "Many crystals have slip planes with relatively weak against shearing. Yield criteria based on shear stress makes sense. The Tresca criterion states that the maximum shear stress equals the yield shear stress under the uniaxial load $σ_Y$. \n",
    "\n",
    "With ranked principle stresses obtained, the maximum shear stress $τ_{max}$ in a point in solid can be computed using: \n",
    "\n",
    "\\begin{equation} \\label{eqTmax}\n",
    " τ_{max} = (σ_1 − σ_3)/2\n",
    "\\end{equation}\n",
    "\n",
    "Note that because the principle stresses are invariant, the maximum stress is also invariant. The effective stress $σ_e$ is chosen as\n",
    "\n",
    "\\begin{equation} \\label{eqemss}\n",
    "σ_{e}= τ_{max}  \n",
    "\\end{equation} "
   ]
  },
  {
   "cell_type": "markdown",
   "id": "616fbf8e",
   "metadata": {},
   "source": [
    "For uniaxial stress states, we have\n",
    "\n",
    "\\begin{equation} \\label{eqs1n3}\n",
    " σ_1= σ_Y, σ_3= 0 \\;\\; \\Longrightarrow \\;\\; τ_{Y} =σ_1/2=σ_Y/2\n",
    "\\end{equation}\n",
    "\n",
    "Thus, the Tresca yield criterion becomes \n",
    "\n",
    "\\begin{equation} \\label{eqTrescac}\n",
    "σ_{e}-σ_{Y}/2 =0\n",
    "\\end{equation} "
   ]
  },
  {
   "cell_type": "markdown",
   "id": "349cef69",
   "metadata": {},
   "source": [
    "#### Tresca yield surface\n",
    "\n",
    "For an arbitrary state of stresses, we can compute all these principle stresses, and then draw a Tresca yield surface. This is done by computing all three possible maximum shear stresses in terms of these principle stresses. Considering each of the maximum shear stresses can be possibly both positive and negative, the entire yield surface shall consist of six planes. The detailed formulation is given as follows. \n",
    "\n",
    "\\begin{equation} \\label{eqTmax3}\n",
    " τ_{max1} =\\pm \\frac{σ_2 − σ_3}{2}; \\; τ_{max2} =\\pm \\frac{σ_1 − σ_3}{2}; \\; τ_{max3} =\\pm \\frac{σ_1 − σ_2}{2}  \n",
    "\\end{equation}\n",
    "\n",
    "The Tresca yield surface on which the material can yield becomes,\n",
    "\n",
    "\\begin{equation} \\label{eqT6c}\n",
    " σ_2 − σ_3 \\pm σ_Y=0; \\; σ_1 − σ_3 \\pm σ_Y=0; \\; σ_1 − σ_2 \\pm σ_Y=0 \n",
    "\\end{equation}"
   ]
  },
  {
   "cell_type": "markdown",
   "id": "a88dd3df",
   "metadata": {},
   "source": [
    "These six planes in 3D space of the principle stresses are shown on the left image of Fig.\\ref{image:Tresca_Surfaces}. It can be better viewed in 2D space, by setting $\\sigma_3=0$, as shown on the right. In such a 2D case, the surface consists of six line-segments. The expressions for the corresponding six lines are given by:\n",
    "\n",
    "\\begin{equation} \\label{eqT6l}\n",
    " σ_2 =\\pm σ_Y; \\; σ_1 =\\pm σ_Y; \\; σ_1 − σ_2 =\\pm σ_Y \n",
    "\\end{equation}\n",
    "\n",
    "These are four vertical lines and two 45-degree inclined lines. \n",
    "\n",
    "<img src=\"./images/Tresca_Surfaces.png\" alt=\" \" width=\"450\"/><br>\n",
    "\\begin{figure}\n",
    "  \\includegraphics[width=5cm]{}\n",
    "  \\caption{\\label{image:Tresca_Surfaces} Schematic view of the Tresca yield surface. Left: cylinder with uniform hexagonal cross-section in 3D space of the principal stresses $(\\sigma_1, \\sigma_2, \\sigma_3)$; right: elongated hexagon in 2D space $( \\sigma_1, \\sigma_2)$. Transferred from en.wikipedia by User: Jaqen, original uploader was Janek Kozicki at en.wikipedia under the CC BY-SA 3.0 license.}\n",
    "\\end{figure}\n",
    "\n",
    "This maximum shear stress yield criterion is one of the most widely used criteria for ductile materials. "
   ]
  },
  {
   "cell_type": "markdown",
   "id": "c1eb4498",
   "metadata": {},
   "source": [
    "#### Application to the case study problem\n",
    "\n",
    "The following codes compute the maximum shear stress using the principle stresses obtained in Section 14.2.3. This gives the material yield stress value needed to have point A stay below yielding, and determines the yield state. "
   ]
  },
  {
   "cell_type": "code",
   "execution_count": 8,
   "id": "20f839ee",
   "metadata": {
    "ExecuteTime": {
     "end_time": "2024-03-25T12:26:15.720589Z",
     "start_time": "2024-03-25T12:26:15.715602Z"
    }
   },
   "outputs": [
    {
     "name": "stdout",
     "output_type": "stream",
     "text": [
      "The maximum shear stress is 4.27058e+08\n",
      "The material yield stress needs to be > 8.54115e+08\n",
      "The yield stress of the material = 7.50000e+08\n",
      "Is yield? True\n",
      "Safety factor = 2.195254603450228\n"
     ]
    }
   ],
   "source": [
    "# Maximum shear stress (Tresca) criterion\n",
    "Tau_max =0.5*(eigens[0]-eigens[2])\n",
    "print(f'The maximum shear stress is {Tau_max:0.5e}')\n",
    "print(f'The material yield stress needs to be > {(2*Tau_max):0.5e}')\n",
    "print(f'The yield stress of the material = {sY:0.5e}')\n",
    "print(f'Is yield? {(2*Tau_max)>sY}')\n",
    "print(f'Actual safety factor = {SF*sY/(2*Tau_max)}')"
   ]
  },
  {
   "cell_type": "markdown",
   "id": "30404f7d",
   "metadata": {},
   "source": [
    "####  Distortional energy density criteria\n",
    "\n",
    "Yielding begins when the distortional strain-energy density is at that of the uniaxial limit. The distortional strain-energy density is associated with the shape distortion in a body. The total strain-energy density $U_0$ can be written in two parts: \n",
    "\n",
    "\\begin{equation} \\label{eqUVUD}\n",
    "𝑈_0= \\underbrace{\\frac{(𝜎_1+𝜎_2+𝜎_3 )^2}{18𝐾}}_{U_V}+\\underbrace{\\frac{(𝜎_2−𝜎_3 )^2+(𝜎_1−𝜎_3 )^2+(𝜎_1−𝜎_2 )^2}{12𝐺}}_{U_D}\n",
    "\\end{equation}  \n",
    "\n",
    "where $U_V$ and $U_D$ are energies related to the volumetric and deviatoric deformation. In the distortional strain-energy density criterion, we discard $U_V$ and assume that only the deviatoric energy density $U_D$ controls the yielding. \n",
    "\n",
    "Using the **von Mises stress** defined in Chapter 3, we have\n",
    "\n",
    "\\begin{equation} \\label{eqUDvm}\n",
    "𝑈_D= \\frac{σ_{vm}^2}{6G}\n",
    "\\end{equation} "
   ]
  },
  {
   "cell_type": "markdown",
   "id": "8b16d501",
   "metadata": {},
   "source": [
    "#####  von Mises criterion\n",
    "\n",
    "The effective stress $σ_e$ is chosen as,\n",
    "\n",
    "\\begin{equation} \\label{eqvmee}\n",
    "σ_{e} = σ_{vm} =\\sqrt{\\frac{1}{2}[(𝜎_2−𝜎_3 )^2+(𝜎_1−𝜎_3 )^2+(𝜎_1−𝜎_2 )^2]}  \n",
    "\\end{equation} \n",
    "\n",
    "For 2D stress cases, say $𝜎_3=0$, we have: \n",
    "\n",
    "\\begin{equation} \\label{eqvm2d}\n",
    "σ_{e} = σ_{vm} =\\sqrt{𝜎_1^2+𝜎_2^2-2𝜎_1𝜎_2}  \n",
    "\\end{equation} \n",
    "\n",
    "Consider uniaxial loading $(σ_1= σ_Y, σ_2= σ_3 = 0)$, the corresponding deviatoric energy density becomes $U_{DY}=\\frac{σ_Y^2}{6G}$. Equaling $U_{D}$ and $U_{DY}$ gives the yield function:  \n",
    "\n",
    "\\begin{equation} \\label{eqvmec}\n",
    "f = σ_{e}^2-σ_{Y}^2=0  \n",
    "\\end{equation} \n",
    "\n",
    "This is the well-known **von Mises yield criterion**. \n",
    "\n",
    "It is clear that the von Mises yield surface is ellipsoid in principal stress space, as shown in Fig.\\ref{image:Yield_f_vM_Tresca}  \n",
    "\n",
    "<img src=\"./images/Yield_f_vM_Tresca.png\" alt=\" \" width=\"550\"/><br>\n",
    "\\begin{figure}\n",
    "  \\includegraphics[width=5cm]{}\n",
    "  \\caption{\\label{image:Yield_f_vM_Tresca} Schematic view of the von Mises yield surface together with the Tresca yield surface. Left: the von Mises yield surface is the cylindrical surface in 3D space of the principal stresses $(\\sigma_1, \\sigma_2, \\sigma_3)$; The Tresca yield surface is a cylinder with hexagonal cross-section. Right: in 2D space $(\\sigma_1, \\sigma_2)$. Images modified based on the one from en.wikipedia by Rswarbrick under the CC BY-SA 3.0 license (left); and the one by Melchoir to public domain (right).}\n",
    "\\end{figure}\n",
    "\n",
    "The von Mises yield criterion is the most widely used criteria for ductile materials. "
   ]
  },
  {
   "cell_type": "markdown",
   "id": "0810b66b",
   "metadata": {},
   "source": [
    "##### Application to the case study problem\n",
    "\n",
    "The following codes compute the von Mises stress using the principle stresses obtained in Section 14.2.3. This gives the material yield stress value needed to have point A stay below yielding, and determines the yield state. "
   ]
  },
  {
   "cell_type": "code",
   "execution_count": 9,
   "id": "9932a38e",
   "metadata": {
    "ExecuteTime": {
     "end_time": "2024-03-25T12:26:22.075685Z",
     "start_time": "2024-03-25T12:26:22.068704Z"
    }
   },
   "outputs": [
    {
     "name": "stdout",
     "output_type": "stream",
     "text": [
      "The von Mises stress is 8.04352e+08\n",
      "The material yield stress needs to be > 8.04352e+08\n",
      "The yield stress of the material = 7.50000e+08\n",
      "Is yield? True\n",
      "Safety factor = 2.3310701362327872\n"
     ]
    }
   ],
   "source": [
    "# von Mises criterion\n",
    "svm = gr.von_Mises(eigens)\n",
    "print(f'The von Mises stress is {svm:0.5e}')\n",
    "print(f'The material yield stress needs to be > {svm:0.5e}')\n",
    "print(f'The yield stress of the material = {sY:0.5e}')\n",
    "print(f'Is yield? {svm>sY}')\n",
    "print(f'Actual safety factor = {SF*sY/svm}')"
   ]
  },
  {
   "cell_type": "markdown",
   "id": "d7465be5",
   "metadata": {},
   "source": [
    "##### Octahedral shear-stress criterion\n",
    "\n",
    "The von Mises stress relates to the octahedral shear-stress as discussed in Chapter 3, which is: \n",
    "\n",
    "\\begin{equation} \\label{eqvmp}\n",
    "\\sigma_{vm}= \\frac{3}{\\sqrt{2}} \\tau_{oct}\n",
    "\\end{equation}\n",
    "\n",
    "The yield criterion can also be written as:  \n",
    "\n",
    "\\begin{equation} \\label{eqoctc}\n",
    "\\tau_{oct}-\\frac{\\sqrt{2}}{3}σ_{Y} =0\n",
    "\\end{equation} \n",
    "\n",
    "This is known as **octahedral shear-stress criterion**. It has a slightly different form, but it essentially the same as the von Mises yield criterion.  \n",
    "\n",
    "Because octahedral shear-stress relates to the 2nd invariant of the deviatoric stress tensor, $J_2$, in the form of \n",
    "\n",
    "\\begin{equation} \\label{eqJ2t}\n",
    "𝐽_2= -\\frac{3}{2}\\tau_{oct}^2 \n",
    "\\end{equation} \n",
    "\n",
    "The octahedral shear-stress function (or the von Mises function) can also be written as\n",
    "\n",
    "\\begin{equation} \\label{eqfJ2}\n",
    "f = \\sqrt{|J_2|} -\\frac{σ_{Y}}{\\sqrt{3}} \n",
    "\\end{equation} "
   ]
  },
  {
   "cell_type": "markdown",
   "id": "e38d06f6",
   "metadata": {},
   "source": [
    "##### Application to the case study problem\n",
    "\n",
    "The following codes compute the octahedral shear stress using the principle stresses obtained in Section 14.2.3. This gives the material yield stress value needed to have point A stay below yielding, and determines the yield state. "
   ]
  },
  {
   "cell_type": "code",
   "execution_count": 10,
   "id": "5337ed16",
   "metadata": {
    "ExecuteTime": {
     "end_time": "2024-03-25T12:26:33.341978Z",
     "start_time": "2024-03-25T12:26:33.329978Z"
    }
   },
   "outputs": [
    {
     "name": "stdout",
     "output_type": "stream",
     "text": [
      "The Octhdral shear stress is 3.79175e+08\n",
      "The material yield stress needs to be > 8.04352e+08\n",
      "The yield stress of the material = 7.50000e+08\n",
      "Is yield? True\n",
      "Safety factor = 2.3310701362327872\n"
     ]
    }
   ],
   "source": [
    "# Octahedral shear stress criterion\n",
    "_, tau_oct=gr.Oct_stress(eigens)\n",
    "print(f'The Octhdral shear stress is {tau_oct:0.5e}')\n",
    "Y = tau_oct*3/np.sqrt(2)\n",
    "print(f'The material yield stress needs to be > {Y:0.5e}')\n",
    "print(f'The yield stress of the material = {sY:0.5e}')\n",
    "print(f'Is yield? {Y>sY}')\n",
    "print(f'Actual safety factor = {SF*sY/Y}')"
   ]
  },
  {
   "cell_type": "markdown",
   "id": "9d86be4f",
   "metadata": {},
   "source": [
    "##### Difference between the von Mises and Tresca criteria\n",
    "\n",
    "As shown in Fig.\\ref{image:Yield_f_vM_Tresca}, the von Mises criterion is the upper bound of the Tresca criterion. In 2D case, the von Mises criterion is a smooth ellipse, but the Tresca is piecewise straight lines. Their difference at points T and M shown in the right image of Fig.\\ref{image:Yield_f_vM_Tresca} can be quantified as follows. \n",
    "\n",
    "Consider a state of pure shear $(σ_1= −σ_2 = σ, σ2= σ3 = 0)$, which the blue line shown in Fig.\\ref{image:Yield_f_vM_Tresca}, we have\n",
    "\n",
    "\\begin{equation} \\label{eqTshear}\n",
    "𝜏_{𝑚𝑎𝑥}=\\frac{𝜎_1−𝜎_2}{2} = 𝜎 \n",
    "\\end{equation} "
   ]
  },
  {
   "cell_type": "markdown",
   "id": "2b38a8e7",
   "metadata": {},
   "source": [
    "The failure $𝜏_{Y}$ predicted by the Tresca criterion is,  \n",
    "\n",
    "\\begin{equation} \\label{eqTsY}\n",
    "𝜏_{Y}=𝜏_{𝑚𝑎𝑥}=\\frac{𝜎_Y}{2}=0.5 𝜎_Y\n",
    "\\end{equation} \n",
    "\n",
    "The von Mises criterion Eq.(\\ref{eqvmee}) gives,\n",
    "\n",
    "\\begin{equation} \\label{eqMsY}\n",
    "σ=𝜏_{Y}=\\frac{𝜎_Y}{\\sqrt{3}}=0.5774𝜎_Y\n",
    "\\end{equation} \n",
    "\n",
    "In this case, the von Mises criterion prediction is approximately 15% greater than that by the Tresca criterion. \n",
    "\n",
    "The von Mises criterion is often found more accurate for some materials than the Tresca criterion in predicting yield under pure shear. The Tresca criterion is on the conservative side. "
   ]
  },
  {
   "cell_type": "markdown",
   "id": "55a19246",
   "metadata": {},
   "source": [
    "#### π-Plane\n",
    "\n",
    "The π-Plane is a plane on which the hydrostatic stress (or the means stress), $σ_m = (σ_1+σ_2+σ_3)/3=0$. It is the blue plan shown in the left image of  Fig.\\ref{image:Yield_f_vM_Tresca}. It passes through the origin of coordinate system of $(σ_1,σ_2,σ_3)$. The direction cosines of the π-Plane is $(1/\\sqrt{3},1/\\sqrt{3},1/\\sqrt{3})$, which is same direction of the octahedral plane. For 2D cases,  π-Plane is a line on which $σ_m = (σ_1+σ_2)/2=0$. It is the blue line shown in the right image of  Fig.\\ref{image:Yield_f_vM_Tresca}. It passes through the origin of coordinate system of $(σ_1,σ_2)$. It is a special case of the so-called deviatoric plane. "
   ]
  },
  {
   "cell_type": "markdown",
   "id": "e3046189",
   "metadata": {},
   "source": [
    "#### Deviatoric planes\n",
    "\n",
    "A deviatoric plane is a plane on which the hydrostatic stress or the means stress, $σ_m = (σ_1+σ_2+σ_3)/3=constant$. The direction cosines of the deviatoric plane is $(1/\\sqrt{3},1/\\sqrt{3},1/\\sqrt{3})$, same as the octahedral plane. It is a plane parallel to the π-Plane, and thus there are infinite number of them. One of them is shown as light blue ellipse in the left image of Fig.\\ref{image:Yield_f_vM_Tresca}. For 2D cases, is a line on a deviatoric plane $σ_m = (σ_1+σ_2)/2=constant$. In other words, the projection on the hydrostatic axis of an arbitrary stress state $\\mathbf{σ}_a$ in a deviatoric plane is a constant. \n",
    "\n",
    "Such a deviatoric plane is important, because a distortional energy density criterion (such as the nov Mises) applies to stress states on any of these planes, because the level of the hydrostatic stress does not affect the failure. Therefore, the yielding surface is a cylinder as shown in the left image of Fig.\\ref{image:Yield_f_vM_Tresca}. Because of this, we often draw yield surfaces on the π-Plane, as often seen in the literature. \n",
    "\n",
    "Note that because the direction of a deviatoric plane is the same as the octahedral plane, the von Mises criterion is the same as the octahedral shear stress criterion. "
   ]
  },
  {
   "cell_type": "markdown",
   "id": "19457080",
   "metadata": {},
   "source": [
    "### Yield Criterion for cohesive materials *\n",
    "\n",
    "In many applications in engineering and nature, we encounter frequently cohesive materials, including concrete and rock. It is found that \n",
    "\n",
    "1. Yielding of many such cohesive materials depends on hydrostatic stress. \n",
    "\n",
    "2. An increase in hydrostatic compressive stress can increase the resistance to yield. \n",
    "\n",
    "3. Such materials may exhibit different behaviors in tension and compression. \n",
    "\n",
    "We discuss two widely used yield criteria for cohesive materials.\n",
    "\n",
    "#### Mohr–Coulomb yield function\n",
    "\n",
    "The Mohr–Coulomb yield criterion can be used for cohesive materials. It is a generalization of the Tresca criterion. It accounts for the effects of hydrostatic stress and uses two material parameters: the cohesion $c$ and angle of internal friction $ϕ$. For ordered principal stresses of $σ_1>σ_2>σ_3$, the Mohr–Coulomb yield function is \\cite{lubliner1990plasticity}:\n",
    "\n",
    "\\begin{equation} \\label{eqMCf}\n",
    "f = σ_1-σ_3+(σ_1+σ_3)\\sinϕ-2c\\cosϕ\n",
    "\\end{equation} "
   ]
  },
  {
   "cell_type": "markdown",
   "id": "09172543",
   "metadata": {},
   "source": [
    "#### Determination of material parameters\n",
    "\n",
    "The material parameters $c$ and $ϕ$ can be determined via experiments. \n",
    "\n",
    "First, we can set a uniaxial tension failure test, which gives $σ_1=σ_{YT}, σ_2=σ_3=0$, the yield stress $σ_{YT}$ can be found using Eq.(\\ref{eqMCf}):\n",
    "\n",
    "\\begin{equation} \\label{eqSYt}\n",
    "σ_{YT} = \\frac{2c\\cosϕ}{1+\\sinϕ}\n",
    "\\end{equation} "
   ]
  },
  {
   "cell_type": "markdown",
   "id": "592138a8",
   "metadata": {},
   "source": [
    "Next, we set a uniaxial compression failure test, we have this time $σ_1=σ_2=0, σ_3=-σ_{YC}$, the yield stress $σ_{YC}$ can be found using Eq.(\\ref{eqMCf}):\n",
    "\n",
    "\\begin{equation} \\label{eqSYc}\n",
    "σ_{YC} = \\frac{2c\\cosϕ}{1-\\sinϕ}\n",
    "\\end{equation}\n",
    "\n",
    "Solving now two Eqs.(\\ref{eqSYt}) and (\\ref{eqSYc}) simultaneously gives\n",
    "\n",
    "\\begin{equation} \\label{eqc}\n",
    "c = \\frac{1}{2}\\sqrt{σ_{YT}σ_{YC}} \n",
    "\\end{equation}\n",
    "and\n",
    "\\begin{equation} \\label{eqph}\n",
    "ϕ = \\sin^{-1}\\left(\\frac{σ_{YC}-σ_{YT}}{σ_{YC}+σ_{YT}}\\right) \n",
    "\\end{equation}\n",
    "\n",
    "For a frictionless material ($ϕ = 0$), Mohr–Coulomb yield criterion reduces to the Tresca criterion.   "
   ]
  },
  {
   "cell_type": "markdown",
   "id": "fed8957e",
   "metadata": {},
   "source": [
    "#### Mohr–Coulomb yield surface\n",
    "\n",
    "The Mohr–Coulomb yield surface is an irregular hexagonal pyramid. The axis of the pyramid is still the hydrostatic axis, as shown in Fig.\\ref{image:MH_Yield_Surface_2D3D}.  \n",
    "\n",
    "<img src=\"./images/MH_Yield_Surface_2D3D.png\" alt=\" \" width=\"450\"/><br>\n",
    "\\begin{figure}\n",
    "  \\includegraphics[width=5cm]{}\n",
    "  \\caption{\\label{image:MH_Yield_Surface_2D3D} Schematic view of the Mohr–Coulomb yield surfaces. Left: an irregular hexagonal pyramid in 3D space of the principal stresses $(\\sigma_1, \\sigma_2, \\sigma_3)$; right: irregular hexagon in 2D space $(\\sigma_1, \\sigma_2)$. Image modified base on the one from Wikimedia Commons by Janek Kozicki under the CC BY-SA 3.0 license.}\n",
    "\\end{figure}"
   ]
  },
  {
   "cell_type": "markdown",
   "id": "087ec85d",
   "metadata": {},
   "source": [
    "#### Drucker–Prager yield criterion \n",
    "\n",
    "The Drucker–Prager yield criterion is a generalization of the von Mises criterion, taking the hydrostatic stress into consideration \\cite{chen1995plasticity}. In reference to Eq.(\\ref{eqfJ2}), the Drucker–Prager yield function can be written as,\n",
    "\n",
    "\\begin{equation} \\label{eqfDP}\n",
    "f = \\alpha I_1 + \\sqrt{|J_2|} - K\n",
    "\\end{equation} \n",
    "\n",
    "where $\\alpha$ and $K$ are coefficients that depend on the cohesion $c$ and the angle of internal friction $ϕ$:   \n",
    "\n",
    "\\begin{equation} \\label{eqaDP}\n",
    "\\alpha = \\frac{2\\sinϕ}{\\sqrt{3}(3-\\sinϕ)}\n",
    "\\end{equation}\n",
    "and \n",
    "\\begin{equation} \\label{eqKDP}\n",
    "K = \\frac{6c\\cosϕ}{\\sqrt{3}(3-\\sinϕ)}\n",
    "\\end{equation}\n",
    "\n",
    "For a frictionless material ($ϕ = 0$), the Drucker–Prager criterion reduces to the von Mises criterion. "
   ]
  },
  {
   "cell_type": "markdown",
   "id": "64fc1d60",
   "metadata": {},
   "source": [
    "The Drucker–Prager yield surface is a circular cone, as shown in Fig.\\ref{image:Drucker_Prager_2D_3D}.  \n",
    "\n",
    "<img src=\"./images/Drucker_Prager_2D_3D.png\" alt=\" \" width=\"450\"/><br>\n",
    "\\begin{figure}\n",
    "  \\includegraphics[width=5cm]{}\n",
    "  \\caption{\\label{image:Drucker_Prager_2D_3D} Schematic view of the Drucker–Prager yield surfaces. Left: the Drucker–Prager yield surfaces is a circular cone in 3D space of the principal stresses $(\\sigma_1, \\sigma_2, \\sigma_3)$; right: the Drucker–Prager yield surfaces is an ellipse (black) in 2D space $(\\sigma_1, \\sigma_2)$; the irregular hexagon is for the Mohr-Coulomb yield surface. Image  on the left is from Wikimedia Commons by Janek Kozicki under the CC BY-SA 3.0 license. On the right is by Vítězslav Štembera under the CC BY-SA 4.0 license.}\n",
    "\\end{figure} "
   ]
  },
  {
   "cell_type": "markdown",
   "id": "e13fd7f4",
   "metadata": {},
   "source": [
    "### Comparison of different criteria "
   ]
  },
  {
   "cell_type": "markdown",
   "id": "a7e140a8",
   "metadata": {},
   "source": [
    "We finally use the case study problem defined in Section 14.2, and the principle stresses obtained in Section 14.2.3, to compute the material yield stress value needed to have point A stay below yielding and determines the yield state. This time we put all the results from different criteria together for easy comparison. "
   ]
  },
  {
   "cell_type": "code",
   "execution_count": 11,
   "id": "91dd50f2",
   "metadata": {
    "ExecuteTime": {
     "end_time": "2024-03-25T12:26:41.764997Z",
     "start_time": "2024-03-25T12:26:41.752059Z"
    }
   },
   "outputs": [
    {
     "name": "stdout",
     "output_type": "stream",
     "text": [
      "\n",
      "The yield stress of the material: 7.50000e+08\n",
      "\n",
      "The maximum principal stress is 6.18043e+08\n",
      "The material yield stress needs to be > 6.18043e+08\n",
      "Is yield? False\n",
      "\n",
      "The maximum principal strain is 7.26365e+08\n",
      "The material yield stress needs to be > 7.26365e+08\n",
      "Is yield? False\n",
      "\n",
      "The maximum shear stress is 4.27058e+08\n",
      "The material yield stress needs to be > 8.54115e+08\n",
      "Is yield? True\n",
      "\n",
      "The von Mises stress is 8.04352e+08\n",
      "The material yield stress needs to be > 8.04352e+08\n",
      "Is yield? True\n",
      "\n",
      "The Octhdral shear stress is 3.79175e+08\n",
      "The material yield stress needs to be > 8.04352e+08\n",
      "Is yield? True\n",
      "\n",
      "The strain-energy stress is 7.54667e+08\n",
      "The material yield stress needs to be > 7.54667e+08\n",
      "Is yield? True\n"
     ]
    }
   ],
   "source": [
    "print(f'\\nThe yield stress of the material: {sY:0.5e}\\n')\n",
    "\n",
    "# maximum principal stress criterion\n",
    "ps_max = max(abs(eigens))\n",
    "print(f'The maximum principal stress is {ps_max:0.5e}')\n",
    "print(f'The material yield stress needs to be > {ps_max:0.5e}')\n",
    "print(f'Is yield? {ps_max>sY}\\n')\n",
    "\n",
    "# maximum principal strain criterion\n",
    "se1 = eigens[0]-𝜈*eigens[1]-𝜈*eigens[2]  # principal strains E ε1\n",
    "se2 = eigens[1]-𝜈*eigens[0]-𝜈*eigens[2]  # principal strains E ε2\n",
    "se3 = eigens[2]-𝜈*eigens[0]-𝜈*eigens[1]  # principal strains E ε3\n",
    "e_max =max(abs(np.array([se1, se2, se3]))) \n",
    "print(f'The maximum principal strain is {e_max:0.5e}')\n",
    "print(f'The material yield stress needs to be > {e_max:0.5e}')\n",
    "print(f'Is yield? {e_max>sY}\\n')\n",
    "\n",
    "# Maximum shear stress (Tresca) criterion\n",
    "Tau_max =0.5*(eigens[0]-eigens[2])\n",
    "print(f'The maximum shear stress is {Tau_max:0.5e}')\n",
    "print(f'The material yield stress needs to be > {(2*Tau_max):0.5e}')\n",
    "print(f'Is yield? {(2*Tau_max)>sY}\\n')\n",
    "\n",
    "# von Mises criterion\n",
    "svm = gr.von_Mises(eigens)\n",
    "print(f'The von Mises stress is {svm:0.5e}')\n",
    "print(f'The material yield stress needs to be > {svm:0.5e}')\n",
    "print(f'Is yield? {svm>sY}\\n')\n",
    "\n",
    "# Octahedral shear stress criterion\n",
    "_, tau_oct=gr.Oct_stress(eigens)\n",
    "print(f'The Octhdral shear stress is {tau_oct:0.5e}')\n",
    "Y = tau_oct*3/np.sqrt(2)\n",
    "print(f'The material yield stress needs to be > {Y:0.5e}')\n",
    "print(f'Is yield? {Y>sY}\\n')\n",
    "\n",
    "# Strain-energy density criterion\n",
    "U_stress = gr.energy_stress(eigens, 𝜈)\n",
    "print(f'The strain-energy stress is {U_stress:0.5e}')\n",
    "print(f'The material yield stress needs to be > {U_stress:0.5e}')\n",
    "print(f'Is yield? {U_stress>sY}')"
   ]
  },
  {
   "cell_type": "markdown",
   "id": "747d3a5a",
   "metadata": {},
   "source": [
    "Readers my do the same analysis for Point B on the shaft using the codes given, and examine the differences. "
   ]
  },
  {
   "cell_type": "markdown",
   "id": "dd9dba2a",
   "metadata": {},
   "source": [
    "### Remarks \n",
    "\n",
    "A number of failure criteria have been introduced in this chapter with detail formulations and Python codes. The choice of the criteria shall depend on the material. Therefore, experience on materials to be used, and databases of material properties for different types of materials are of importance. \n",
    "\n",
    "The author was involved in one project that uses a newly designed composite material. We did not have sufficient data on the material, and decided to write a code to assess the safety using a number of criteria together, to ensure its safety for possible scenarios we can think of.  \n",
    "\n",
    "There is a large class of materials called hyper-elastic materials, such as rubbers widely used in industry and soft issues involving all biological systems. For these types of materials, the analyses are more on the large geometrical deformation, and yielding is not usually a concern. This is an important and currently active area of study. Examples of study on this types of materials in the authors group can be found in \\cite{liusmoothed, liu2002mesh, wu2020selective, wu2020selective2, wu2022n, li2022novel}. \n",
    "\n",
    "When the structure is designed for single time use, we may stretch to use the full capacity of the material and allow the material gets beyond the yield point, into plastic deformation, until fracture. This involves plasticity analyses. It requires yield criterion together with 1) a proper flow rule governing the plastic strain and stress evolution after yielding, and 2) a hardening rule that predicts changes in the yield surface. Examples for such analysis can be found in textbooks. Some study on this types of materials in the authors group can be found in \\cite{zeng2015smoothing, cui2009elasto, zeng2016smoothing}. Interested readers may pursue this topic starting from the wikipage on [flow_plasticity_theory](https://en.wikipedia.org/wiki/Flow_plasticity_theory), and the references therein.  "
   ]
  },
  {
   "cell_type": "markdown",
   "id": "6ee25b62",
   "metadata": {},
   "source": [
    "# References\n",
    "\n",
    "[<a id=\"cit-boresi2002advanced\" href=\"#call-boresi2002advanced\">1</a>] A. P. Boresi and R. J. Schmidt, ``_Advanced Mechanics of Materials_'',  John Wiley \\& Sons, New York, 2002.\n",
    "\n",
    "[<a id=\"cit-gere1999mechanics\" href=\"#call-gere1999mechanics\">2</a>] J.M. Gere and S.P. Timoshenko, ``_Mechanics of Materials_'',  1972.\n",
    "\n",
    "[<a id=\"cit-Timoshenko1970\" href=\"#call-Timoshenko1970\">3</a>] Stephen Timoshenko and James N. Goodier, ``_Theory of Elasticity_'',  1970.  [online](http://books.google.com/books?id=yFISAAAAIAAJ\\&\\#38;dq=theory+of+elasticity\\&\\#38;ei=ICiKSsr3G4jwkQSbxMyPCg)\n",
    "\n",
    "[<a id=\"cit-lubliner1990plasticity\" href=\"#call-lubliner1990plasticity\">4</a>] J. Lubliner, ``_Plasticity Theory_'',  1990.  [online](https://books.google.com/books?id=LUqYPwAACAAJ)\n",
    "\n",
    "[<a id=\"cit-chen1995plasticity\" href=\"#call-chen1995plasticity\">5</a>] W.F. Chen and D.J. Han, ``_Plasticity for Structural Engineers_'',  1995.  [online](https://books.google.com/books?id=EEITngEACAAJ)\n",
    "\n",
    "[<a id=\"cit-liusmoothed\" href=\"#call-liusmoothed\">6</a>] G.R. Liu and TT Nguyen, ``_Smoothed finite element methods_'',  Taylor and Francis Group, NewYork, 2010.\n",
    "\n",
    "[<a id=\"cit-liu2002mesh\" href=\"#call-liu2002mesh\">7</a>] G.R. Liu, ``_Mesh free methods: moving beyond the finite element method_'',  Taylor and Francis Group, New York, 2010.\n",
    "\n",
    "[<a id=\"cit-wu2020selective\" href=\"#call-wu2020selective\">8</a>] Wu Shao-Wei, Jiang Chen, Jiang Chao <em>et al.</em>, ``_A selective smoothed finite element method with visco-hyperelastic constitutive model for analysis of biomechanical responses of brain tissues_'', International Journal for Numerical Methods in Engineering, vol. 121, number 22, pp. 5123--5149,  2020.\n",
    "\n",
    "[<a id=\"cit-wu2020selective2\" href=\"#call-wu2020selective2\">9</a>] S. Wu, C. Jiang, C. Jiang <em>et al.</em>, ``_A Selective S-FEM with Visco-hyperelastic Model for Analysis of Biomechanical Responses of Brain Tissues_'', THE 11TH INTERNATIONAL CONFERENCE ON COMPUTATIONAL METHODS (ICCM2020),  2020.\n",
    "\n",
    "[<a id=\"cit-wu2022n\" href=\"#call-wu2022n\">10</a>] Wu Shao-Wei, Jiang Chao, Liu GR <em>et al.</em>, ``_An n-sided polygonal selective smoothed finite element method for nearly incompressible visco-hyperelastic soft materials_'', Applied Mathematical Modelling, vol. 107, number , pp. 398--428,  2022.\n",
    "\n",
    "[<a id=\"cit-li2022novel\" href=\"#call-li2022novel\">11</a>] Li Yang, Sang Jianbing, Wei Xinyu <em>et al.</em>, ``_A Novel Constitutive Parameters Identification Procedure for Hyperelastic Skeletal Muscles Using Two-Way Neural Networks_'', International Journal of Computational Methods, vol. 19, number 02, pp. 2150060,  2022.\n",
    "\n",
    "[<a id=\"cit-zeng2015smoothing\" href=\"#call-zeng2015smoothing\">12</a>] Zeng W, Larsen JM and Liu GR, ``_Smoothing technique based crystal plasticity finite element modeling of crystalline materials_'', International Journal of Plasticity, vol. 65, number , pp. 250--268,  2015.\n",
    "\n",
    "[<a id=\"cit-cui2009elasto\" href=\"#call-cui2009elasto\">13</a>] Cui XY, Liu GR, Li GY <em>et al.</em>, ``_Elasto-plasticity analysis using edge-based smoothed finite element method (ES-FEM)_'', Int. J. Press. Vessels Pip, vol. 86, number , pp. 711--718,  2009.\n",
    "\n",
    "[<a id=\"cit-zeng2016smoothing\" href=\"#call-zeng2016smoothing\">14</a>] Zeng W, Liu GR, Li D <em>et al.</em>, ``_A smoothing technique based beta finite element method ($\\beta$FEM) for crystal plasticity modeling_'', Computers \\& Structures, vol. 162, number , pp. 48--67,  2016.\n",
    "\n"
   ]
  }
 ],
 "metadata": {
  "kernelspec": {
   "display_name": "Python 3 (ipykernel)",
   "language": "python",
   "name": "python3"
  },
  "language_info": {
   "codemirror_mode": {
    "name": "ipython",
    "version": 3
   },
   "file_extension": ".py",
   "mimetype": "text/x-python",
   "name": "python",
   "nbconvert_exporter": "python",
   "pygments_lexer": "ipython3",
   "version": "3.9.16"
  },
  "latex_envs": {
   "LaTeX_envs_menu_present": true,
   "autoclose": true,
   "autocomplete": true,
   "bibliofile": "../biblio.bib",
   "cite_by": "number",
   "current_citInitial": 1,
   "eqLabelWithNumbers": true,
   "eqNumInitial": 1,
   "hotkeys": {
    "equation": "Ctrl-E",
    "itemize": "Ctrl-I"
   },
   "labels_anchors": true,
   "latex_user_defs": false,
   "report_style_numbering": true,
   "user_envs_cfg": false
  },
  "toc": {
   "base_numbering": "14",
   "nav_menu": {},
   "number_sections": true,
   "sideBar": true,
   "skip_h1_title": true,
   "title_cell": "Table of Contents",
   "title_sidebar": "Contents",
   "toc_cell": true,
   "toc_position": {
    "height": "calc(100% - 180px)",
    "left": "10px",
    "top": "150px",
    "width": "165px"
   },
   "toc_section_display": true,
   "toc_window_display": false
  },
  "varInspector": {
   "cols": {
    "lenName": 16,
    "lenType": 16,
    "lenVar": 40
   },
   "kernels_config": {
    "python": {
     "delete_cmd_postfix": "",
     "delete_cmd_prefix": "del ",
     "library": "var_list.py",
     "varRefreshCmd": "print(var_dic_list())"
    },
    "r": {
     "delete_cmd_postfix": ") ",
     "delete_cmd_prefix": "rm(",
     "library": "var_list.r",
     "varRefreshCmd": "cat(var_dic_list()) "
    }
   },
   "types_to_exclude": [
    "module",
    "function",
    "builtin_function_or_method",
    "instance",
    "_Feature"
   ],
   "window_display": false
  }
 },
 "nbformat": 4,
 "nbformat_minor": 5
}
