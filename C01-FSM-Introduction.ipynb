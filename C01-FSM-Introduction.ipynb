{
 "cells": [
  {
   "cell_type": "markdown",
   "metadata": {},
   "source": [
    "# Mechanics of Materials \n",
    "\n",
    "<font size=\"4\"> -- formulation and solution with Python\n",
    "    \n",
    "By **GR Liu** </font> \n",
    "\n",
    "\n",
    "**(Book Series in Computational Methods - Vol. 2. Editor in Chief: GR Liu)**"
   ]
  },
  {
   "cell_type": "markdown",
   "metadata": {},
   "source": [
    "## Introduction"
   ]
  },
  {
   "cell_type": "markdown",
   "metadata": {
    "toc": true
   },
   "source": [
    "<h1>Table of Contents<span class=\"tocSkip\"></span></h1>\n",
    "<div class=\"toc\"><ul class=\"toc-item\"><li><span><a href=\"#Introduction\" data-toc-modified-id=\"Introduction-1\"><span class=\"toc-item-num\">1&nbsp;&nbsp;</span>Introduction</a></span><ul class=\"toc-item\"><li><span><a href=\"#Computational-methods\" data-toc-modified-id=\"Computational-methods-1.1\"><span class=\"toc-item-num\">1.1&nbsp;&nbsp;</span>Computational methods</a></span></li><li><span><a href=\"#Why-start-and-contribute-to-this-book-series\" data-toc-modified-id=\"Why-start-and-contribute-to-this-book-series-1.2\"><span class=\"toc-item-num\">1.2&nbsp;&nbsp;</span>Why start and contribute to this book series</a></span></li><li><span><a href=\"#Mechanics-of-materials:-essential-of-safe-and-effective-use-of-materials\" data-toc-modified-id=\"Mechanics-of-materials:-essential-of-safe-and-effective-use-of-materials-1.3\"><span class=\"toc-item-num\">1.3&nbsp;&nbsp;</span>Mechanics of materials: essential of safe and effective use of materials</a></span></li><li><span><a href=\"#Who-may-read-this-book\" data-toc-modified-id=\"Who-may-read-this-book-1.4\"><span class=\"toc-item-num\">1.4&nbsp;&nbsp;</span>Who may read this book</a></span></li><li><span><a href=\"#Codes-used-in-this-book\" data-toc-modified-id=\"Codes-used-in-this-book-1.5\"><span class=\"toc-item-num\">1.5&nbsp;&nbsp;</span>Codes used in this book</a></span></li><li><span><a href=\"#Use-of-external-modules-or-dependences\" data-toc-modified-id=\"Use-of-external-modules-or-dependences-1.6\"><span class=\"toc-item-num\">1.6&nbsp;&nbsp;</span>Use of external modules or dependences</a></span></li><li><span><a href=\"#Use-of-help()\" data-toc-modified-id=\"Use-of-help()-1.7\"><span class=\"toc-item-num\">1.7&nbsp;&nbsp;</span>Use of help()</a></span></li></ul></li></ul></div>"
   ]
  },
  {
   "cell_type": "markdown",
   "metadata": {},
   "source": [
    "### Computational methods"
   ]
  },
  {
   "cell_type": "markdown",
   "metadata": {},
   "source": [
    "This book is a part of the series on computational methods. The book series aims to provide a theoretically essential and practically important basic theory, formulation, and applications on computational methods. It covers  general computational methods and techniques used in STEM education, as well as various fields in science and engineering. It will be written as an encyclopedia type of sources in basic theory, formulation and codes on computational methods. Our readers complete 9 years (primary and middle schools) should be able to study this book series if starting from volume 1, and capable of starting to undertake research and design projects using computational methods, after a few more volumes. \n",
    "\n",
    "Taking the advantageous of the fast development of compute hardware and software, our discussions will largely accompanied with compute codes, so that the concepts, theories, and formulations can be immediately demonstrated using examples with results plotted. We will use primarily Python in the first handful volumes on more fundamental topics, and possibly other suitable languages for more advanced topics. "
   ]
  },
  {
   "cell_type": "markdown",
   "metadata": {},
   "source": [
    "### Why start and contribute to this book series\n",
    "\n",
    "The Editor-in-Chief of this books series, Dr. GR Liu has been working in areas related to Computational Methods over 40+ years. He developed his first FEM codes for nonlinear problems in 1980, and published more than 600 journal papers and 12 monographs in this area since then. After all these years of studying, using and developing computational methods, he started to think about a means to help others interested individual to learn computational methods in a more effective, systematic, and more smoother way. He has concluded that developing this book series is the best way to achieve this objective.  "
   ]
  },
  {
   "cell_type": "markdown",
   "metadata": {},
   "source": [
    "### Mechanics of materials: essential of safe and effective use of materials\n",
    "\n",
    "Materials are used to build devices and structures for various purposed, and used in our everyday life. This book introduces the subject of **Mechanics of Materials**, which is the most basic and essential for safe and effective use of materials in fields of sciences and engineering.  When a device (or structure) is loaded, the members in it experience forces, stressed, strained, and undergoes deformation. If the device is not designed properly, it may either fail to carry the desired load or to heavy with material not fully utilized. The subject studies the **relationships** between these **forces, stresses, strains, and deformation** at **basic structural members of materials** is called Mechanics of Materials. \n",
    "\n",
    "This book covers the **fundamental principles** of mechanics of materials, focusing on the mechanical behavior of structural members under various types of loads, including **axial loading, bending, shearing, and torsion**. The members can have various shape can constrained in different ways. Concepts of **energy** and **failure criteria** will also be studied.  \n",
    "\n",
    "The principles of mechanics of materials are explained in detail, formulated, and demonstrated with **numerous examples** and illustrations. **Python** is used both formulation derivation, finding solution symbolically or numerically, and plot the results in graphics. \n",
    "\n",
    "Proper connection between theory and **real-world engineering problems** will be made through these examples.  \n",
    "\n",
    "The materials of this book can be digested thorough different forms of **learning process**, including classroom teaching, on-line courses, and also self-study.  Because Python codes are provided, readers can easily see how the theory is formulated and how the solutions are obtained in terms of formulas, numerical number, and graphs.  Readers may also deepen the understanding via playing with codes, and even further develop **his/her own codes** for solving other related problems.  \n",
    "\n",
    "The book is written in **Jupyter notebook** format, so that description of theory, formulation, and coding can all done in a unified document. This provides an environment for easy reading, exercise, practicing, and further exploration.  \n",
    "\n",
    "This chapter is written in **reference** \\cite{gere1999mechanics, Timoshenko1970, xuzl1979} which was the textbook when the author was a university student, \\cite{achenbach1984wave, Fung50716} a frequently use reference books when doing this PhD and research work, and \\cite{boresi2010elasticity, boresi1985advanced} which were used as the textbook and reference books when teaching at universities. \n"
   ]
  },
  {
   "cell_type": "markdown",
   "metadata": {},
   "source": [
    "### Who may read this book"
   ]
  },
  {
   "cell_type": "markdown",
   "metadata": {},
   "source": [
    "The book is written for beginners interested to learn computational methods for solving problems in nature, engineering and sciences. Readers need only to have at least 9 years (primary and middle schools) education, including high school students, university students, graduate students, researchers, and professionals in any discipline. Engineers and practitioners may also find the book useful in establishing systematic concepts in computational methods.  "
   ]
  },
  {
   "cell_type": "markdown",
   "metadata": {},
   "source": [
    "### Codes used in this book"
   ]
  },
  {
   "cell_type": "markdown",
   "metadata": {},
   "source": [
    "Readers who purchased the book may contact the author directly at liugr100@gmail.com to request a softcopy of the book  in Jupyter notebook formate with codes (which may be updated) for free for academic use, after registration. The condition for use the book and codes developed by the author, in both hardcopy and softcopy, are as follows. \n",
    "\n",
    "1. Users are entirely at their **own risk** using any of part of the codes and techniques. The codes are written primarily for the proof of concepts, and not necessarily for efficiency and robustness. Many of the codes are **not** thoroughly tested by 3rd party. \n",
    "2. The book and codes is only for your **own use**. You are not allowed to further distribute, without permission from the author. \n",
    "3. There will be no any user support.\n",
    "4. Proper reference and acknowledgement must be given for the use of the book, codes, ideas, and techniques.\n",
    "\n",
    "These codes are often run with various **external packages/modules**. Therefore, care is needed when using these codes, because the behavior of the codes often depends on the versions of Python and all these packages/modules. When the code does not run as expected, **version mismatch** could be one of the problems. When this book is written, the versions of Python and some of the packages/modules are as follows. \n",
    "\n",
    "* Python 3.9.16 :: Anaconda, Inc.\n",
    "* Jupyter Notebook 6.1.5\n",
    "\n",
    "When issues are encountered running a code, readers may need to check the versions of the packages/modules used. If Anaconda Navigator is used, the versions of all these packages/modules installed with the Python environment is listed when the Python environment is highlighted. You can also check the versions of a package in a code cell of the Jupyter Notebook. For example, to check the version of the current environment of Python, one may use: "
   ]
  },
  {
   "cell_type": "code",
   "execution_count": 1,
   "metadata": {
    "ExecuteTime": {
     "end_time": "2023-11-06T20:50:23.919561Z",
     "start_time": "2023-11-06T20:50:23.692328Z"
    }
   },
   "outputs": [
    {
     "name": "stdout",
     "output_type": "stream",
     "text": [
      "Python 3.9.16\n"
     ]
    }
   ],
   "source": [
    "!python -V             #! is used to execute an external command"
   ]
  },
  {
   "cell_type": "code",
   "execution_count": 2,
   "metadata": {
    "ExecuteTime": {
     "end_time": "2023-11-06T20:50:34.009991Z",
     "start_time": "2023-11-06T20:50:27.826784Z"
    }
   },
   "outputs": [
    {
     "name": "stdout",
     "output_type": "stream",
     "text": [
      "6.1.5\n"
     ]
    }
   ],
   "source": [
    "!jupyter notebook --version"
   ]
  },
  {
   "cell_type": "markdown",
   "metadata": {},
   "source": [
    "If the version is indeed an issue, one would need to either **modify the code** to fit the version, or install the **correct version** in your system. It is very useful to query on the web using the error message, and solutions or leads can often be found. **On-line AI tools**, such a ChatGPT, Bard, Bing, etc. can also be quite helpful. This is the approach the author often takes most of the time, when having an issue in running a code.  \n",
    "\n",
    "This book will not discuss on how to use Python. There plenty literature openly available on-line. Interested readers may also refer to Chapter 2 in Ref.\\cite{liu2022ML} for **concise description** on using Python for scientific computations. "
   ]
  },
  {
   "cell_type": "markdown",
   "metadata": {},
   "source": [
    "### Use of external modules or dependences"
   ]
  },
  {
   "cell_type": "markdown",
   "metadata": {},
   "source": [
    "To use Python and codes provided in this volume, we import necessary modules and functions. The following are the most essential ones. "
   ]
  },
  {
   "cell_type": "code",
   "execution_count": 4,
   "metadata": {
    "ExecuteTime": {
     "end_time": "2023-11-06T21:06:18.554438Z",
     "start_time": "2023-11-06T21:06:15.843564Z"
    }
   },
   "outputs": [],
   "source": [
    "import sys                                         # import \"sys\" module\n",
    "\n",
    "sys.path.append('../grbin')                        # Relative directory. \n",
    "                          # Or absolute folder like 'F:\\\\xxx\\\\...\\\\code'  \n",
    "    \n",
    "#Author's own grcodes module is placed in folder grbin\n",
    "import grcodes as gr "
   ]
  },
  {
   "cell_type": "markdown",
   "metadata": {},
   "source": [
    "To view the codes in the imported module, one may just using the following code, by uncommenting it (It may produce a long output). "
   ]
  },
  {
   "cell_type": "code",
   "execution_count": 5,
   "metadata": {
    "ExecuteTime": {
     "end_time": "2023-08-26T16:12:14.994461Z",
     "start_time": "2023-08-26T16:12:14.915811Z"
    }
   },
   "outputs": [
    {
     "name": "stdout",
     "output_type": "stream",
     "text": [
      "def cheby_T(n, x):   \n",
      "    '''Generate the first kind Chebyshev polynomials of degree (n-1) '''\n",
      "    if   n == 0: return sp.S.One\n",
      "    elif n == 1: return x\n",
      "    else:        return (2*x*cheby_T(n-1,x)-cheby_T(n-2,x)).expand()\n",
      "\n"
     ]
    }
   ],
   "source": [
    "import inspect\n",
    "#source_code = inspect.getsource(gr)   # to view everything in gr module\n",
    "source_code = inspect.getsource(gr.cheby_T) # to view any function in gr \n",
    "print(source_code)"
   ]
  },
  {
   "cell_type": "markdown",
   "metadata": {},
   "source": [
    "Alternatively, one may use any **text editor** to view and change the codes. To use any code function, say printx() in the imported module gr for example, use gr.printx.  Below is an example."
   ]
  },
  {
   "cell_type": "code",
   "execution_count": 6,
   "metadata": {
    "ExecuteTime": {
     "end_time": "2023-08-26T16:12:43.465379Z",
     "start_time": "2023-08-26T16:12:43.445250Z"
    }
   },
   "outputs": [
    {
     "name": "stdout",
     "output_type": "stream",
     "text": [
      "x = 8\n"
     ]
    }
   ],
   "source": [
    "x = 8\n",
    "gr.printx('x') # when gr. is used, the code function is from the grcords"
   ]
  },
  {
   "cell_type": "markdown",
   "metadata": {},
   "source": [
    "To avoid frequent importing lengthy external modules, we put all the frequently used modules in the \"commonImports.py\" file given as follows. "
   ]
  },
  {
   "cell_type": "code",
   "execution_count": 7,
   "metadata": {
    "ExecuteTime": {
     "end_time": "2023-08-26T16:14:07.244868Z",
     "start_time": "2023-08-26T16:14:03.899171Z"
    }
   },
   "outputs": [],
   "source": [
    "from __future__ import print_function\n",
    "import numpy as np                   # for numerical computation\n",
    "import sympy as sp                   # sympy module for computation\n",
    "import numpy.linalg as lg            # numpy linear algebra module\n",
    "import scipy.linalg as sg            # scipy linear algebra module\n",
    "import scipy.integrate as si\n",
    "from scipy.stats import ortho_group   \n",
    "import importlib\n",
    "import itertools \n",
    "import inspect\n",
    "import csv\n",
    "import pandas as pd\n",
    "\n",
    "from grcodes import drawArrow, plotfig, printM, printx # frequently used\n",
    "\n",
    "import math as ma\n",
    "from sympy import sin, cos, symbols, lambdify, init_printing\n",
    "from sympy import pi, Matrix, sqrt, oo, integrate, diff, Derivative\n",
    "from sympy import MatrixSymbol, simplify, nsimplify, Function\n",
    "from sympy import factor, expand, nsimplify, Matrix, ordered, hessian\n",
    "from sympy.plotting import plot as splt\n",
    "init_printing(use_unicode=True) # for latex-like qualityprinting formate\n",
    "\n",
    "from matplotlib.ticker import MultipleLocator\n",
    "import matplotlib.pyplot as plt      # for plotting figures\n",
    "import matplotlib as mpl"
   ]
  },
  {
   "cell_type": "markdown",
   "metadata": {},
   "source": [
    "In the begining of each of the Jupyter Notebook (Chapter), we simply import everything in commonImports. This is to reduce the need for too frequent importing of modules in the coding process.  "
   ]
  },
  {
   "cell_type": "code",
   "execution_count": 7,
   "metadata": {
    "ExecuteTime": {
     "end_time": "2023-11-06T21:08:49.576666Z",
     "start_time": "2023-11-06T21:08:47.307709Z"
    }
   },
   "outputs": [],
   "source": [
    "#Often used external modules are in commonImports placed in folder grbin\n",
    "# Place curse in this cell, and press Ctrl+Enter to import dependences. \n",
    "import sys                         # for accessing the computer system\n",
    "sys.path.append('../grbin/')  # Change to the directory in your system \n",
    "\n",
    "from commonImports import *      # Import dependences from '../grbin/'\n",
    "#import grcodes as gr                 # Import the module of the author\n",
    "importlib.reload(gr)            # When grcodes is modified, reload it\n",
    "\n",
    "from continuum_mechanics import vector \n",
    "from continuum_mechanics.solids import sym_grad, strain_stress\n",
    "init_printing(use_unicode=True)      # For latex-like quality printing \n",
    "\n",
    "# Digits in print-outs\n",
    "np.set_printoptions(precision=4,suppress=True, \n",
    "                    formatter={'float_kind': '{:.4e}'.format})"
   ]
  },
  {
   "cell_type": "markdown",
   "metadata": {},
   "source": [
    "In general, importing the same module for multiple time does no harm. In fact, Python ignores all the later importations, if it is already in the cache. Because of this if one made changes to the imported module, reload the module is needed to have the modification take effect. This is done using importlib.reload(). For example, "
   ]
  },
  {
   "cell_type": "code",
   "execution_count": 8,
   "metadata": {
    "ExecuteTime": {
     "end_time": "2023-11-06T21:08:54.112876Z",
     "start_time": "2023-11-06T21:08:54.025470Z"
    },
    "collapsed": true
   },
   "outputs": [
    {
     "data": {
      "text/plain": [
       "<module 'grcodes' from 'C:\\\\Users\\\\grliu\\\\OneDrive - University of Cincinnati\\\\Files\\\\Python\\\\JupyterNotebook\\\\ML-Course\\\\StructureMechanics\\\\../grbin\\\\grcodes.py'>"
      ]
     },
     "execution_count": 8,
     "metadata": {},
     "output_type": "execute_result"
    }
   ],
   "source": [
    "# grcodes was imported as gr, reload it when grcodes is modified\n",
    "importlib.reload(gr) "
   ]
  },
  {
   "cell_type": "markdown",
   "metadata": {},
   "source": [
    "### Use of help()"
   ]
  },
  {
   "cell_type": "markdown",
   "metadata": {},
   "source": [
    "To find more details on what are a module or an object in the module does, use help() after importing. For example, "
   ]
  },
  {
   "cell_type": "code",
   "execution_count": 9,
   "metadata": {
    "ExecuteTime": {
     "end_time": "2023-11-06T21:09:13.769586Z",
     "start_time": "2023-11-06T21:09:13.724904Z"
    }
   },
   "outputs": [
    {
     "name": "stdout",
     "output_type": "stream",
     "text": [
      "Help on function solver1D4 in module grcodes:\n",
      "\n",
      "solver1D4(E, I, by, l, v0, θ0, vl, θl, V0, M0, Vl, Ml, key='c-c')\n",
      "    Solves the Beam Equation for integrable distributed body force \n",
      "    force: u,x4=-by(x)/EI, with various displacement boundary conditions\n",
      "    (DBCs): c-c, s-c, c-s, f-c, c-f. \n",
      "    Input: EI: bending stiffness factor; by, body force; l, the length \n",
      "           of the beam; v0, 𝜃0, V0, M0, deflection, rotation, \n",
      "           shear force, moment at x=0; vl, 𝜃l, Vl, Ml, those at x=l. \n",
      "    Return: u, v_x, v_x2, v_x3, v_x4   upto 4th derivatives of v\n",
      "\n"
     ]
    }
   ],
   "source": [
    "help(gr.solver1D4)"
   ]
  },
  {
   "cell_type": "markdown",
   "metadata": {},
   "source": [
    "Note that in the code cells given in the book, necessary **comments** (starts with \"#\") are used to provide additional explanations. These comments are put on the right-hand-side in the cells for not disturbing to much the reading of the code, and yet some help is on the right-hand-side, when it is needed. "
   ]
  },
  {
   "cell_type": "markdown",
   "metadata": {},
   "source": [
    "# References\n",
    "\n",
    "[<a id=\"cit-gere1999mechanics\" href=\"#call-gere1999mechanics\">1</a>] J.M. Gere and S.P. Timoshenko, ``_Mechanics of Materials_'',  1972.\n",
    "\n",
    "[<a id=\"cit-Timoshenko1970\" href=\"#call-Timoshenko1970\">2</a>] Stephen Timoshenko and James N. Goodier, ``_Theory of Elasticity_'',  1970.  [online](http://books.google.com/books?id=yFISAAAAIAAJ\\&\\#38;dq=theory+of+elasticity\\&\\#38;ei=ICiKSsr3G4jwkQSbxMyPCg)\n",
    "\n",
    "[<a id=\"cit-xuzl1979\" href=\"#call-xuzl1979\">3</a>] Z. L. Xu, ``_Elasticity_'',  vol.1&2, People's publisher, China, 1979.\n",
    "\n",
    "[<a id=\"cit-achenbach1984wave\" href=\"#call-achenbach1984wave\">4</a>] J. D. Achenbach, ``_Wave Propagation in Elastic Solids_'',  1984.\n",
    "\n",
    "[<a id=\"cit-Fung50716\" href=\"#call-Fung50716\">5</a>] Y. C. Fung, ``_Foundations of solid mechanics._'',  1968.\n",
    "\n",
    "[<a id=\"cit-boresi2010elasticity\" href=\"#call-boresi2010elasticity\">6</a>] Arthur P Boresi, Ken Chong and James D Lee, ``_Elasticity in engineering mechanics_'',  John Wiley \\& Sons, New York, 2010.\n",
    "\n",
    "[<a id=\"cit-boresi1985advanced\" href=\"#call-boresi1985advanced\">7</a>] Arthur Peter Boresi, Richard Joseph Schmidt and Omar M Sidebottom, ``_Advanced mechanics of materials_'',  John Wiley \\& Sons, New York, 1985.\n",
    "\n",
    "[<a id=\"cit-liu2022ML\" href=\"#call-liu2022ML\">8</a>] G.R. Liu, ``_Machine Learning with Python: Theory and Applications_'',  World Scientific, 2023.\n",
    "\n"
   ]
  }
 ],
 "metadata": {
  "anaconda-cloud": {},
  "kernelspec": {
   "display_name": "Python 3 (ipykernel)",
   "language": "python",
   "name": "python3"
  },
  "language_info": {
   "codemirror_mode": {
    "name": "ipython",
    "version": 3
   },
   "file_extension": ".py",
   "mimetype": "text/x-python",
   "name": "python",
   "nbconvert_exporter": "python",
   "pygments_lexer": "ipython3",
   "version": "3.9.7"
  },
  "latex_envs": {
   "LaTeX_envs_menu_present": true,
   "autoclose": false,
   "autocomplete": true,
   "bibliofile": "../biblio.bib",
   "cite_by": "number",
   "current_citInitial": 1,
   "eqLabelWithNumbers": true,
   "eqNumInitial": 1,
   "hotkeys": {
    "equation": "Ctrl-E",
    "itemize": "Ctrl-I"
   },
   "labels_anchors": true,
   "latex_user_defs": false,
   "report_style_numbering": false,
   "user_envs_cfg": false
  },
  "toc": {
   "base_numbering": 1,
   "nav_menu": {},
   "number_sections": true,
   "sideBar": true,
   "skip_h1_title": true,
   "title_cell": "Table of Contents",
   "title_sidebar": "",
   "toc_cell": true,
   "toc_position": {
    "height": "calc(100% - 180px)",
    "left": "10px",
    "top": "150px",
    "width": "165px"
   },
   "toc_section_display": true,
   "toc_window_display": true
  },
  "varInspector": {
   "cols": {
    "lenName": 16,
    "lenType": 16,
    "lenVar": 40
   },
   "kernels_config": {
    "python": {
     "delete_cmd_postfix": "",
     "delete_cmd_prefix": "del ",
     "library": "var_list.py",
     "varRefreshCmd": "print(var_dic_list())"
    },
    "r": {
     "delete_cmd_postfix": ") ",
     "delete_cmd_prefix": "rm(",
     "library": "var_list.r",
     "varRefreshCmd": "cat(var_dic_list()) "
    }
   },
   "types_to_exclude": [
    "module",
    "function",
    "builtin_function_or_method",
    "instance",
    "_Feature"
   ],
   "window_display": false
  }
 },
 "nbformat": 4,
 "nbformat_minor": 2
}
