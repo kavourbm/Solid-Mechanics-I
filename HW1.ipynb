{
 "cells": [
  {
   "cell_type": "code",
   "execution_count": 93,
   "id": "74f2d9dd",
   "metadata": {},
   "outputs": [],
   "source": [
    "import numpy as np\n",
    "import matplotlib.pyplot as plt"
   ]
  },
  {
   "cell_type": "markdown",
   "id": "cd05ccdd",
   "metadata": {
    "toc": true
   },
   "source": [
    "<h1>Table of Contents<span class=\"tocSkip\"></span></h1>\n",
    "<div class=\"toc\"><ul class=\"toc-item\"><li><span><a href=\"#Homework-1:-Understanding-vector-operations-in-mechanics\" data-toc-modified-id=\"Homework-1:-Understanding-vector-operations-in-mechanics-1\"><span class=\"toc-item-num\">1&nbsp;&nbsp;</span>Homework 1: Understanding vector operations in mechanics</a></span></li></ul></div>"
   ]
  },
  {
   "cell_type": "markdown",
   "id": "f8b3498a",
   "metadata": {},
   "source": [
    "# Homeworks for SM-I course"
   ]
  },
  {
   "cell_type": "markdown",
   "id": "829d44d1",
   "metadata": {},
   "source": [
    "## Homework 1: Understanding vector operations in mechanics\n",
    "\n",
    "**Question 1:** \n",
    "\n",
    "Consider two force vector $\\mathbf{f}$ and $\\mathbf{p}$, defined in a Cartesian coordinate system $(x,y)$. Their components are given as: \n",
    "\n",
    "\n",
    "$\\mathbf{f} =  \\begin{bmatrix} 1.5 \\\\ 0.8  \\end{bmatrix} ; \\;\\; \\mathbf{p} =  \\begin{bmatrix} 0.5 \\\\ 2.0  \\end{bmatrix} $\n",
    "\n",
    "Compute the following: \n",
    "\n",
    "1. The magnitude, direction cosine, the angle between $\\mathbf{f}$ and the $x$-axis, and the angle between $\\mathbf{f}$ and $y$-axis. \n",
    "\n",
    "2. The components of the sum of these two forces:  $\\mathbf{F}= \\mathbf{f} + \\mathbf{p}$\n",
    "\n",
    "3. The magnitude of force $\\mathbf{F}$. \n",
    "\n",
    "4. The direction cosine between force $\\mathbf{F}$ and the $x$-axis, denoted as $n_1$; the direction cosine between force $\\mathbf{F}$ and $y$-axis, denoted as $n_2$; and the relationship between $n_1$ and $n_2$. \n",
    "\n",
    "5. The angle between force $\\mathbf{F}$ and the $x$-axis, denoted as $\\theta_1$; the angle between force $\\mathbf{F}$ and $y$-axis, denoted as $\\theta_2$; and the relationship between $\\theta_1$ and $\\theta_2$.\n",
    "\n",
    "6. Draw these force vectors $\\mathbf{F}$, $\\mathbf{f}$, and $\\mathbf{p}$ in the $x-y$ plane.  "
   ]
  },
  {
   "cell_type": "markdown",
   "id": "bc7466ac",
   "metadata": {},
   "source": [
    "1. \n",
    "The magnitude of a vector is computed using the pythagorean theorum, $||\\mathbf{f}||_2 = \\sqrt{{\\mathbf{f}_1}^2 + {\\mathbf{f}_2}^2} $. \\\n",
    "\\\n",
    "The angle between the x-axis and $ \\mathbf{f} $ can be computed using the dot product; $ \\mathbf{x} * \\mathbf{f} = ||\\mathbf{x}|| \\: ||\\mathbf{f}|| cos{\\theta} $. the unit vector for the x-axis will be used; $\\mathbf{x} =  \\begin{bmatrix} 1 \\\\ 0 \\end{bmatrix} $. \\\n",
    "\\\n",
    "The angle between the y-axis and $ \\mathbf{f} $ can be computed using the dot product, similar to above with the x-axis."
   ]
  },
  {
   "cell_type": "code",
   "execution_count": 94,
   "id": "5b55093f",
   "metadata": {},
   "outputs": [
    {
     "name": "stdout",
     "output_type": "stream",
     "text": [
      "The magnitude of f is 1.70\n",
      "The direction cosine of f relative to the x-axis is 0.88\n",
      "The angle between f and the x-axis is 28.07°\n",
      "The direction cosine of f relative to the y-axis is 0.47\n",
      "The angle between f and the y-axis is 61.93°\n"
     ]
    }
   ],
   "source": [
    "# Magnitude f:\n",
    "f = np.array([[1.5],[0.8]])\n",
    "magf = np.sqrt((f[0,0]**2+f[1,0]**2))\n",
    "\n",
    "print(\"The magnitude of f is %3.2f\" % (magf))\n",
    "\n",
    "# Theta from x-axis\n",
    "x = np.array([[1],[0]])\n",
    "magx = np.sqrt((x[0,0]**2+x[1,0]**2))\n",
    "fdotx = (f[0,0]*x[0,0])+(f[1,0]*x[1,0])\n",
    "fx = magf*magx\n",
    "dirfx = fdotx/fx\n",
    "\n",
    "print(\"The direction cosine of f relative to the x-axis is %3.2f\" % (dirfx))\n",
    "\n",
    "thetax = np.degrees(np.arccos(dirfx))\n",
    "\n",
    "print(\"The angle between f and the x-axis is %3.2f°\" % (thetax))\n",
    "\n",
    "# Theta from y-axis\n",
    "y = np.array([[0],[1]])\n",
    "magy = np.sqrt((y[0,0]**2+y[1,0]**2))\n",
    "fdoty = (f[0,0]*y[0,0])+(f[1,0]*y[1,0])\n",
    "fy = magf*magy\n",
    "dirfy = fdoty/fy\n",
    "\n",
    "print(\"The direction cosine of f relative to the y-axis is %3.2f\" % (dirfy))\n",
    "\n",
    "thetay = np.degrees(np.arccos(dirfy))\n",
    "\n",
    "print(\"The angle between f and the y-axis is %3.2f°\" % (thetay))"
   ]
  },
  {
   "cell_type": "markdown",
   "id": "405ce088",
   "metadata": {},
   "source": [
    "2. \n",
    "The sum of two vectors is equal to the sum of each component; $\\mathbf{F} = \\begin{bmatrix} \\mathbf{F}_1 \\\\ \\mathbf{F}_2 \\end{bmatrix} = \\begin{bmatrix} \\mathbf{f}_1 \\\\ \\mathbf{f}_2 \\end{bmatrix} + \\begin{bmatrix} \\mathbf{p}_1 \\\\ \\mathbf{p}_2 \\end{bmatrix} = \\begin{bmatrix} \\mathbf{f}_1 + \\mathbf{p}_1 \\\\ \\mathbf{f}_2 + \\mathbf{p}_2 \\end{bmatrix}$"
   ]
  },
  {
   "cell_type": "code",
   "execution_count": 95,
   "id": "8749a665",
   "metadata": {},
   "outputs": [
    {
     "name": "stdout",
     "output_type": "stream",
     "text": [
      "The sum of f and p is:\n",
      "[[2. ]\n",
      " [2.8]]\n"
     ]
    }
   ],
   "source": [
    "# Sum:\n",
    "p = np.array([[0.5],[2.0]])\n",
    "\n",
    "sumfp = np.array([[f[0,0]+p[0,0]],[f[1,0]+p[1,0]]])\n",
    "\n",
    "print(\"The sum of f and p is:\")\n",
    "print(sumfp)"
   ]
  },
  {
   "cell_type": "markdown",
   "id": "ded5a8e8",
   "metadata": {},
   "source": [
    "3. \n",
    "The magnitude of $ \\mathbf{F} $ can be computed using the same method from part 1; $ || \\mathbf{F} || = \\sqrt{{\\mathbf{F}_1}^2 + {\\mathbf{F}_2}^2} $"
   ]
  },
  {
   "cell_type": "code",
   "execution_count": 96,
   "id": "8922bd1f",
   "metadata": {},
   "outputs": [
    {
     "name": "stdout",
     "output_type": "stream",
     "text": [
      "The magnitude of F is 3.44\n"
     ]
    }
   ],
   "source": [
    "# Magnitude F:\n",
    "magsumfp = np.sqrt((sumfp[0,0]**2+sumfp[1,0]**2))\n",
    "\n",
    "print(\"The magnitude of F is %3.2f\" % (magsumfp))"
   ]
  },
  {
   "cell_type": "markdown",
   "id": "18fd7634",
   "metadata": {},
   "source": [
    "4. \n",
    "The direction cosine of $ \\mathbf{F} $ can be calculated using the same method from part 2."
   ]
  },
  {
   "cell_type": "code",
   "execution_count": 97,
   "id": "4c4e1e77",
   "metadata": {},
   "outputs": [
    {
     "name": "stdout",
     "output_type": "stream",
     "text": [
      "The direction cosine of F relative to the x-axis (n1) is 0.58\n",
      "The direction cosine of F relative to the y-axis (n2) is 0.81\n"
     ]
    }
   ],
   "source": [
    "# Direction F:\n",
    "\n",
    "Fdotx = (sumfp[0,0]*x[0,0])+(sumfp[1,0]*x[1,0])\n",
    "Fx = magsumfp*magx\n",
    "n1 = Fdotx/Fx\n",
    "\n",
    "print(\"The direction cosine of F relative to the x-axis (n1) is %3.2f\" % (n1))\n",
    "\n",
    "Fdoty = (sumfp[0,0]*y[0,0])+(sumfp[1,0]*y[1,0])\n",
    "Fy = magsumfp*magy\n",
    "n2 = Fdoty/Fy\n",
    "\n",
    "print(\"The direction cosine of F relative to the y-axis (n2) is %3.2f\" % (n2))"
   ]
  },
  {
   "cell_type": "markdown",
   "id": "2d0ed8a9",
   "metadata": {},
   "source": [
    "5. \n",
    "The angle between $ \\mathbf{F} $ and the x-axis and y-axis can be calculated using the same method from part 2."
   ]
  },
  {
   "cell_type": "code",
   "execution_count": 98,
   "id": "3b6f0056",
   "metadata": {},
   "outputs": [
    {
     "name": "stdout",
     "output_type": "stream",
     "text": [
      "The angle between F and the x-axis is 54.46°\n",
      "The angle between F and the y-axis is 35.54°\n"
     ]
    }
   ],
   "source": [
    "# Angle F:\n",
    "\n",
    "thetaFx = np.degrees(np.arccos(n1))\n",
    "\n",
    "print(\"The angle between F and the x-axis is %3.2f°\" % (thetaFx))\n",
    "\n",
    "thetaFy = np.degrees(np.arccos(n2))\n",
    "\n",
    "print(\"The angle between F and the y-axis is %3.2f°\" % (thetaFy))"
   ]
  },
  {
   "cell_type": "markdown",
   "id": "45e92763",
   "metadata": {},
   "source": [
    "6. \n"
   ]
  },
  {
   "cell_type": "code",
   "execution_count": 99,
   "id": "8d8bf829",
   "metadata": {},
   "outputs": [
    {
     "data": {
      "image/png": "[encoded data removed]",
      "text/plain": [
       "<Figure size 640x480 with 1 Axes>"
      ]
     },
     "metadata": {},
     "output_type": "display_data"
    }
   ],
   "source": [
    "origin = np.array(([0],[0]))\n",
    "plt.quiver(*origin,f[0],f[1],color=['r'],scale=10,label='f')\n",
    "plt.quiver(*origin,p[0],p[1],color=['b'],scale=10,label='p')\n",
    "plt.quiver(*origin,sumfp[0],sumfp[1],color=['g'],scale=10,label='F')\n",
    "plt.legend()\n",
    "plt.grid()\n",
    "plt.show()"
   ]
  },
  {
   "cell_type": "markdown",
   "id": "54982bb0",
   "metadata": {},
   "source": [
    "**Question 2:** \n",
    "\n",
    "A new coordinate system $(x',y')$ is created by rigidly rotating $(x,y)$ by $30^\\circ $, counter-clock wise. \n",
    "\n",
    "1. Compute the transformation matrix $T$. \n",
    "\n",
    "2. Compute the new components of these force vectors $\\mathbf{F}$, $\\mathbf{f}$, and $\\mathbf{p}$ in the $x'-y'$ coordinate system.\n",
    "\n",
    "3. Compute the magnitude, direction cosine, and the angles between force $\\mathbf{F}$ and the $x'$-axis and $y'$-axis. \n",
    "\n",
    "4. Find a new angle of rotation for $(x',y')$, so that $\\mathbf{F}$ is right on the $x'$-axis. \n",
    "\n",
    "5. Discuss about the results obtained. "
   ]
  },
  {
   "cell_type": "markdown",
   "id": "2167b65a",
   "metadata": {},
   "source": [
    "1. \n",
    "The transformation matrix $T$ can be computed using the following general 2D tranformation matrix: \\\n",
    "$ \\begin{bmatrix} cos{\\theta} & sin{\\theta} \\\\ -sin{\\theta} & cos{\\theta} \\end{bmatrix} $\n",
    "\n"
   ]
  },
  {
   "cell_type": "code",
   "execution_count": 100,
   "id": "9fa7aae6",
   "metadata": {},
   "outputs": [
    {
     "name": "stdout",
     "output_type": "stream",
     "text": [
      "The transformation matric T is: \n",
      "[[ 0.8660254 -0.5      ]\n",
      " [ 0.5        0.8660254]]\n"
     ]
    }
   ],
   "source": [
    "# Transformation matrix\n",
    "\n",
    "theta = -30\n",
    "\n",
    "T = np.array([[np.cos(np.radians(theta)),np.sin(np.radians(theta))],[-1*np.sin(np.radians(theta)),np.cos(np.radians(theta))]])\n",
    "\n",
    "print(\"The transformation matric T is: \")\n",
    "print(T)"
   ]
  },
  {
   "cell_type": "markdown",
   "id": "c1a35d33",
   "metadata": {},
   "source": [
    "2. \n",
    "The new components for each vector can be computed using the following formula: \\\n",
    "$ \\begin{bmatrix} x' \\\\ y' \\end{bmatrix} = T \\begin{bmatrix} x \\\\ y \\end{bmatrix} $"
   ]
  },
  {
   "cell_type": "code",
   "execution_count": 101,
   "id": "c7bdb4f5",
   "metadata": {},
   "outputs": [
    {
     "name": "stdout",
     "output_type": "stream",
     "text": [
      "The new components of f are:\n",
      "[[0.89903811]\n",
      " [1.44282032]]\n",
      "\n",
      "The new components of p are:\n",
      "[[-0.5669873 ]\n",
      " [ 1.98205081]]\n",
      "\n",
      "The new components of F are:\n",
      "[[0.33205081]\n",
      " [3.42487113]]\n"
     ]
    }
   ],
   "source": [
    "# Transforming f\n",
    "\n",
    "fnew = np.array([[(f[0,0]*T[0,0])+(f[1,0]*T[0,1])],[(f[0,0]*T[1,0])+(f[1,0]*T[1,1])]])\n",
    "\n",
    "print(\"The new components of f are:\")\n",
    "print(fnew)\n",
    "print(\"\")\n",
    "\n",
    "# Transforming p\n",
    "\n",
    "pnew = np.array([[(p[0,0]*T[0,0])+(p[1,0]*T[0,1])],[(p[0,0]*T[1,0])+(p[1,0]*T[1,1])]])\n",
    "\n",
    "print(\"The new components of p are:\")\n",
    "print(pnew)\n",
    "print(\"\")\n",
    "\n",
    "# Transforming F\n",
    "\n",
    "Fnew = np.array([[(sumfp[0,0]*T[0,0])+(sumfp[1,0]*T[0,1])],[(sumfp[0,0]*T[1,0])+(sumfp[1,0]*T[1,1])]])\n",
    "\n",
    "print(\"The new components of F are:\")\n",
    "print(Fnew)"
   ]
  },
  {
   "cell_type": "markdown",
   "id": "a427bb7b",
   "metadata": {},
   "source": [
    "3. \n",
    "Now that the new vectors are computed, The same methods as above can be used, with the slight change of using the columns of the transformation matrix $T$ instead of the unit vector of each axis."
   ]
  },
  {
   "cell_type": "code",
   "execution_count": 102,
   "id": "d21b09cf",
   "metadata": {},
   "outputs": [
    {
     "name": "stdout",
     "output_type": "stream",
     "text": [
      "The magnitude of f in the new coordinate system is 1.70\n",
      "(The original magnitude of f is 1.70)\n",
      "\n",
      "The magnitude of p in the new coordinate system is 2.06\n",
      "(The original magnitude of p is 2.06)\n",
      "\n",
      "The magnitude of F in the new coordinate system is 3.44\n",
      "(The original magnitude of F is 3.44)\n"
     ]
    }
   ],
   "source": [
    "# Magnitude f:\n",
    "magfnew = np.sqrt((fnew[0,0]**2+fnew[1,0]**2))\n",
    "\n",
    "print(\"The magnitude of f in the new coordinate system is %3.2f\" % (magfnew))\n",
    "print(\"(The original magnitude of f is %3.2f)\" % (magf))\n",
    "print(\"\")\n",
    "\n",
    "# Magnitude p:\n",
    "magp = np.sqrt((p[0,0]**2+p[1,0]**2))\n",
    "magpnew = np.sqrt((pnew[0,0]**2+pnew[1,0]**2))\n",
    "\n",
    "print(\"The magnitude of p in the new coordinate system is %3.2f\" % (magpnew))\n",
    "print(\"(The original magnitude of p is %3.2f)\" % (magp))\n",
    "print(\"\")\n",
    "\n",
    "# Magnitude F:\n",
    "magFnew = np.sqrt((Fnew[0,0]**2+Fnew[1,0]**2))\n",
    "\n",
    "print(\"The magnitude of F in the new coordinate system is %3.2f\" % (magFnew))\n",
    "print(\"(The original magnitude of F is %3.2f)\" % (magsumfp))"
   ]
  },
  {
   "cell_type": "code",
   "execution_count": 103,
   "id": "bb41f08b",
   "metadata": {},
   "outputs": [
    {
     "name": "stdout",
     "output_type": "stream",
     "text": [
      "The direction cosine of f relative to the new x-axis is 0.88\n",
      "(The original direction cosine of f relative to the x-axis is 0.88)\n",
      "The angle between f and the new x-axis is 28.07°\n",
      "(The original angle between f and the x-axis is 28.07°)\n",
      "\n",
      "The direction cosine of f relative to the new y-axis is 0.47\n",
      "(The original direction cosine of f relative to the y-axis is 0.47)\n",
      "The angle between f and the new y-axis is 61.93°\n",
      "(The original angle between f and the y-axis is 61.93°)\n",
      "\n",
      "The direction cosine of F relative to the new x-axis is 0.58\n",
      "(The original direction cosine of F relative to the x-axis is 0.58)\n",
      "The angle between f and the new x-axis is 54.46°\n",
      "(The original angle between f and the x-axis is 54.46°)\n",
      "\n",
      "The direction cosine of F relative to the new y-axis is 0.81\n",
      "(The original direction cosine of F relative to the y-axis is 0.81)\n",
      "The angle between f and the new y-axis is 35.54°\n",
      "(The original angle between f and the y-axis is 35.54°)\n",
      "\n"
     ]
    }
   ],
   "source": [
    "# Direction Cosine f & Angle f\n",
    "xnew = np.array([[T[0,0]],[T[1,0]]])\n",
    "magxnew = np.sqrt((xnew[0,0]**2+xnew[1,0]**2))\n",
    "fnewdotxnew = (fnew[0,0]*xnew[0,0])+(fnew[1,0]*xnew[1,0])\n",
    "fnewxnew = magfnew*magxnew\n",
    "dirfnewxnew = fnewdotxnew/fnewxnew\n",
    "\n",
    "print(\"The direction cosine of f relative to the new x-axis is %3.2f\" % (dirfnewxnew))\n",
    "print(\"(The original direction cosine of f relative to the x-axis is %3.2f)\" % (dirfx))\n",
    "\n",
    "thetaxnew = np.degrees(np.arccos(dirfnewxnew))\n",
    "\n",
    "print(\"The angle between f and the new x-axis is %3.2f°\" % (thetaxnew))\n",
    "print(\"(The original angle between f and the x-axis is %3.2f°)\" % (thetax))\n",
    "print(\"\")\n",
    "\n",
    "ynew = np.array([[T[0,1]],[T[1,1]]])\n",
    "magynew = np.sqrt((ynew[0,0]**2+ynew[1,0]**2))\n",
    "fnewdotynew = (fnew[0,0]*ynew[0,0])+(fnew[1,0]*ynew[1,0])\n",
    "fnewynew = magfnew*magynew\n",
    "dirfnewynew = fnewdotynew/fnewynew\n",
    "\n",
    "print(\"The direction cosine of f relative to the new y-axis is %3.2f\" % (dirfnewynew))\n",
    "print(\"(The original direction cosine of f relative to the y-axis is %3.2f)\" % (dirfy))\n",
    "\n",
    "thetaynew = np.degrees(np.arccos(dirfnewynew))\n",
    "\n",
    "print(\"The angle between f and the new y-axis is %3.2f°\" % (thetaynew))\n",
    "print(\"(The original angle between f and the y-axis is %3.2f°)\" % (thetay))\n",
    "print(\"\")\n",
    "\n",
    "# Direction Cosine F & Angle F\n",
    "Fnewdotxnew = (Fnew[0,0]*xnew[0,0])+(Fnew[1,0]*xnew[1,0])\n",
    "Fnewxnew = magFnew*magxnew\n",
    "dirFnewxnew = Fnewdotxnew/Fnewxnew\n",
    "\n",
    "print(\"The direction cosine of F relative to the new x-axis is %3.2f\" % (dirFnewxnew))\n",
    "print(\"(The original direction cosine of F relative to the x-axis is %3.2f)\" % (n1))\n",
    "\n",
    "thetaxnewFnew = np.degrees(np.arccos(dirFnewxnew))\n",
    "\n",
    "print(\"The angle between f and the new x-axis is %3.2f°\" % (thetaxnewFnew))\n",
    "print(\"(The original angle between f and the x-axis is %3.2f°)\" % (thetaFx))\n",
    "print(\"\")\n",
    "\n",
    "Fnewdotynew = (Fnew[0,0]*ynew[0,0])+(Fnew[1,0]*ynew[1,0])\n",
    "Fnewynew = magFnew*magynew\n",
    "dirFnewynew = Fnewdotynew/Fnewynew\n",
    "\n",
    "print(\"The direction cosine of F relative to the new y-axis is %3.2f\" % (dirFnewynew))\n",
    "print(\"(The original direction cosine of F relative to the y-axis is %3.2f)\" % (n2))\n",
    "\n",
    "thetaynewFnew = np.degrees(np.arccos(dirFnewynew))\n",
    "\n",
    "print(\"The angle between f and the new y-axis is %3.2f°\" % (thetaynewFnew))\n",
    "print(\"(The original angle between f and the y-axis is %3.2f°)\" % (thetaFy))\n",
    "print(\"\")"
   ]
  },
  {
   "cell_type": "markdown",
   "id": "be2c7787",
   "metadata": {},
   "source": [
    "4. \n",
    "To get $\\mathbf{F}$ to line up with the $x'$-axis, the angle between $\\mathbf{F}$ and $x'$-axis to equal zero. To do this, using the angle above to create a new transformation matrix $T$."
   ]
  },
  {
   "cell_type": "code",
   "execution_count": 104,
   "id": "16c8cb23",
   "metadata": {},
   "outputs": [
    {
     "name": "stdout",
     "output_type": "stream",
     "text": [
      "The new angle is 54.46°\n",
      "\n",
      "The transformation matric T is: \n",
      "[[ 0.58123819  0.81373347]\n",
      " [-0.81373347  0.58123819]]\n"
     ]
    }
   ],
   "source": [
    "# Transformation matrix\n",
    "\n",
    "print(\"The new angle is %3.2f°\" % (thetaFx))\n",
    "print(\"\")\n",
    "\n",
    "TforF = np.array([[np.cos(np.radians(thetaFx)),np.sin(np.radians(thetaFx))],[-1*np.sin(np.radians(thetaFx)),np.cos(np.radians(thetaFx))]])\n",
    "\n",
    "print(\"The transformation matric T is: \")\n",
    "print(TforF)"
   ]
  },
  {
   "cell_type": "markdown",
   "id": "70093842",
   "metadata": {},
   "source": [
    "Using the comparisions in part 3, everying obtained seems to be within what is expected."
   ]
  },
  {
   "cell_type": "code",
   "execution_count": 105,
   "id": "3b978f35",
   "metadata": {},
   "outputs": [
    {
     "data": {
      "image/png": "[encoded data removed]",
      "text/plain": [
       "<Figure size 640x480 with 1 Axes>"
      ]
     },
     "metadata": {},
     "output_type": "display_data"
    }
   ],
   "source": [
    "# Extra\n",
    "\n",
    "plt.quiver(*origin,fnew[0],fnew[1],color=['r'],scale=10,label='f')\n",
    "plt.quiver(*origin,pnew[0],pnew[1],color=['b'],scale=10,label='p')\n",
    "plt.quiver(*origin,Fnew[0],Fnew[1],color=['g'],scale=10,label='F')\n",
    "plt.legend()\n",
    "plt.grid()\n",
    "plt.show()"
   ]
  }
 ],
 "metadata": {
  "kernelspec": {
   "display_name": "Python 3 (ipykernel)",
   "language": "python",
   "name": "python3"
  },
  "language_info": {
   "codemirror_mode": {
    "name": "ipython",
    "version": 3
   },
   "file_extension": ".py",
   "mimetype": "text/x-python",
   "name": "python",
   "nbconvert_exporter": "python",
   "pygments_lexer": "ipython3",
   "version": "3.11.5"
  },
  "latex_envs": {
   "LaTeX_envs_menu_present": true,
   "autoclose": true,
   "autocomplete": true,
   "bibliofile": "biblio.bib",
   "cite_by": "apalike",
   "current_citInitial": 1,
   "eqLabelWithNumbers": true,
   "eqNumInitial": 1,
   "hotkeys": {
    "equation": "Ctrl-E",
    "itemize": "Ctrl-I"
   },
   "labels_anchors": false,
   "latex_user_defs": false,
   "report_style_numbering": true,
   "user_envs_cfg": false
  },
  "toc": {
   "base_numbering": 1,
   "nav_menu": {},
   "number_sections": true,
   "sideBar": true,
   "skip_h1_title": true,
   "title_cell": "Table of Contents",
   "title_sidebar": "Contents",
   "toc_cell": true,
   "toc_position": {},
   "toc_section_display": true,
   "toc_window_display": false
  },
  "varInspector": {
   "cols": {
    "lenName": 16,
    "lenType": 16,
    "lenVar": 40
   },
   "kernels_config": {
    "python": {
     "delete_cmd_postfix": "",
     "delete_cmd_prefix": "del ",
     "library": "var_list.py",
     "varRefreshCmd": "print(var_dic_list())"
    },
    "r": {
     "delete_cmd_postfix": ") ",
     "delete_cmd_prefix": "rm(",
     "library": "var_list.r",
     "varRefreshCmd": "cat(var_dic_list()) "
    }
   },
   "types_to_exclude": [
    "module",
    "function",
    "builtin_function_or_method",
    "instance",
    "_Feature"
   ],
   "window_display": false
  }
 },
 "nbformat": 4,
 "nbformat_minor": 5
}
