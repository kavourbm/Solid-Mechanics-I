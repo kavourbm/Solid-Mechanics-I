{
 "cells": [
  {
   "cell_type": "code",
   "execution_count": 223,
   "id": "74f2d9dd",
   "metadata": {},
   "outputs": [],
   "source": [
    "import numpy as np\n",
    "import matplotlib.pyplot as plt"
   ]
  },
  {
   "cell_type": "markdown",
   "id": "cd05ccdd",
   "metadata": {
    "toc": true
   },
   "source": [
    "<h1>Table of Contents<span class=\"tocSkip\"></span></h1>\n",
    "<div class=\"toc\"><ul class=\"toc-item\"><li><span><a href=\"#Homework-1:-Understanding-vector-operations-in-mechanics\" data-toc-modified-id=\"Homework-1:-Understanding-vector-operations-in-mechanics-1\"><span class=\"toc-item-num\">1&nbsp;&nbsp;</span>Homework 1: Understanding vector operations in mechanics</a></span></li></ul></div>"
   ]
  },
  {
   "cell_type": "markdown",
   "id": "f8b3498a",
   "metadata": {},
   "source": [
    "# Homeworks for SM-I course"
   ]
  },
  {
   "cell_type": "markdown",
   "id": "829d44d1",
   "metadata": {},
   "source": [
    "## Homework 1: Understanding vector operations in mechanics\n",
    "\n",
    "**Question 1:** \n",
    "\n",
    "Consider two force vector $\\mathbf{f}$ and $\\mathbf{p}$, defined in a Cartesian coordinate system $(x,y)$. Their components are given as: \n",
    "\n",
    "\n",
    "$\\mathbf{f} =  \\begin{bmatrix} 1.5 \\\\ 0.8  \\end{bmatrix} ; \\;\\; \\mathbf{p} =  \\begin{bmatrix} 0.5 \\\\ 2.0  \\end{bmatrix} $\n",
    "\n",
    "Compute the following: \n",
    "\n",
    "1. The magnitude, direction cosine, the angle between $\\mathbf{f}$ and the $x$-axis, and the angle between $\\mathbf{f}$ and $y$-axis. \n",
    "\n",
    "2. The components of the sum of these two forces:  $\\mathbf{F}= \\mathbf{f} + \\mathbf{p}$\n",
    "\n",
    "3. The magnitude of force $\\mathbf{F}$. \n",
    "\n",
    "4. The direction cosine between force $\\mathbf{F}$ and the $x$-axis, denoted as $n_1$; the direction cosine between force $\\mathbf{F}$ and $y$-axis, denoted as $n_2$; and the relationship between $n_1$ and $n_2$. \n",
    "\n",
    "5. The angle between force $\\mathbf{F}$ and the $x$-axis, denoted as $\\theta_1$; the angle between force $\\mathbf{F}$ and $y$-axis, denoted as $\\theta_2$; and the relationship between $\\theta_1$ and $\\theta_2$.\n",
    "\n",
    "6. Draw these force vectors $\\mathbf{F}$, $\\mathbf{f}$, and $\\mathbf{p}$ in the $x-y$ plane.  "
   ]
  },
  {
   "cell_type": "markdown",
   "id": "bc7466ac",
   "metadata": {},
   "source": [
    "1. \n",
    "The magnitude of a vector is computed using the pythagorean theorum, $||\\mathbf{f}||_2 = \\sqrt{{\\mathbf{f}_1}^2 + {\\mathbf{f}_2}^2} $. \\\n",
    "\\\n",
    "The angle between the x-axis and $ \\mathbf{f} $ can be computed using the dot product; $ \\mathbf{x} * \\mathbf{f} = ||\\mathbf{x}|| \\: ||\\mathbf{f}|| cos{\\theta} $. the unit vector for the x-axis will be used; $\\mathbf{x} =  \\begin{bmatrix} 1 \\\\ 0 \\end{bmatrix} $. \\\n",
    "\\\n",
    "The angle between the y-axis and $ \\mathbf{f} $ can be computed using the dot product, similar to above with the x-axis."
   ]
  },
  {
   "cell_type": "code",
   "execution_count": 224,
   "id": "5b55093f",
   "metadata": {},
   "outputs": [
    {
     "name": "stdout",
     "output_type": "stream",
     "text": [
      "The magnitude of f is 1.70\n",
      "The direction cosine of f relative to the x-axis is 0.88\n",
      "The angle between f and the x-axis is 28.07°\n",
      "The direction cosine of f relative to the y-axis is 0.47\n",
      "The angle between f and the y-axis is 61.93°\n"
     ]
    }
   ],
   "source": [
    "# Magnitude f:\n",
    "f = np.array([[1.5],[0.8]])\n",
    "magf = np.sqrt((f[0]**2+f[1]**2))\n",
    "\n",
    "print(\"The magnitude of f is %3.2f\" % (float(magf)))\n",
    "\n",
    "# Theta from x-axis\n",
    "x = np.array([[1],[0]])\n",
    "magx = np.sqrt((x[0]**2+x[1]**2))\n",
    "fdotx = (f[0]*x[0])+(f[1]*x[1])\n",
    "fx = magf*magx\n",
    "dirfx = fdotx/fx\n",
    "\n",
    "print(\"The direction cosine of f relative to the x-axis is %3.2f\" % (dirfx))\n",
    "\n",
    "thetax = np.degrees(np.arccos(dirfx))\n",
    "\n",
    "print(\"The angle between f and the x-axis is %3.2f°\" % (thetax))\n",
    "\n",
    "# Theta from y-axis\n",
    "y = np.array([[0],[1]])\n",
    "magy = np.sqrt((y[0]**2+y[1]**2))\n",
    "fdoty = (f[0]*y[0])+(f[1]*y[1])\n",
    "fy = magf*magy\n",
    "dirfy = fdoty/fy\n",
    "\n",
    "print(\"The direction cosine of f relative to the y-axis is %3.2f\" % (dirfy))\n",
    "\n",
    "thetay = np.degrees(np.arccos(dirfy))\n",
    "\n",
    "print(\"The angle between f and the y-axis is %3.2f°\" % (thetay))"
   ]
  },
  {
   "cell_type": "markdown",
   "id": "405ce088",
   "metadata": {},
   "source": [
    "2. \n",
    "The sum of two vectors is equal to the sum of each component; $\\mathbf{F} = \\begin{bmatrix} \\mathbf{F}_1 \\\\ \\mathbf{F}_2 \\end{bmatrix} = \\begin{bmatrix} \\mathbf{f}_1 \\\\ \\mathbf{f}_2 \\end{bmatrix} + \\begin{bmatrix} \\mathbf{p}_1 \\\\ \\mathbf{p}_2 \\end{bmatrix} = \\begin{bmatrix} \\mathbf{f}_1 + \\mathbf{p}_1 \\\\ \\mathbf{f}_2 + \\mathbf{p}_2 \\end{bmatrix}$"
   ]
  },
  {
   "cell_type": "code",
   "execution_count": 225,
   "id": "8749a665",
   "metadata": {},
   "outputs": [
    {
     "name": "stdout",
     "output_type": "stream",
     "text": [
      "The sum of f and p is\n",
      "[[2. ]\n",
      " [2.8]]\n"
     ]
    }
   ],
   "source": [
    "# Sum:\n",
    "p = np.array([[0.5],[2.0]])\n",
    "\n",
    "sumfp = np.array([[float(f[0]+p[0])],[float(f[1]+p[1])]])\n",
    "\n",
    "print(\"The sum of f and p is\")\n",
    "print(sumfp)"
   ]
  },
  {
   "cell_type": "markdown",
   "id": "ded5a8e8",
   "metadata": {},
   "source": [
    "3. \n",
    "The magnitude of $ \\mathbf{F} $ can be computed using the same method from part 1; $ || \\mathbf{F} || = \\sqrt{{\\mathbf{F}_1}^2 + {\\mathbf{F}_2}^2} $"
   ]
  },
  {
   "cell_type": "code",
   "execution_count": 226,
   "id": "8922bd1f",
   "metadata": {},
   "outputs": [
    {
     "name": "stdout",
     "output_type": "stream",
     "text": [
      "The magnitude of F is 3.44\n"
     ]
    }
   ],
   "source": [
    "# Magnitude F:\n",
    "magsumfp = np.sqrt((sumfp[0]**2+sumfp[1]**2))\n",
    "\n",
    "print(\"The magnitude of F is %3.2f\" % (float(magsumfp)))"
   ]
  },
  {
   "cell_type": "markdown",
   "id": "18fd7634",
   "metadata": {},
   "source": [
    "4. \n",
    "The direction cosine of $ \\mathbf{F} $ can be calculated using the same method from part 2."
   ]
  },
  {
   "cell_type": "code",
   "execution_count": 227,
   "id": "4c4e1e77",
   "metadata": {},
   "outputs": [
    {
     "name": "stdout",
     "output_type": "stream",
     "text": [
      "The direction cosine of F relative to the x-axis (n1) is 0.58\n",
      "The direction cosine of F relative to the y-axis (n2) is 0.81\n"
     ]
    }
   ],
   "source": [
    "# Direction F:\n",
    "\n",
    "Fdotx = (sumfp[0]*x[0])+(sumfp[1]*x[1])\n",
    "Fx = magsumfp*magx\n",
    "n1 = Fdotx/Fx\n",
    "\n",
    "print(\"The direction cosine of F relative to the x-axis (n1) is %3.2f\" % (n1))\n",
    "\n",
    "Fdoty = (sumfp[0]*y[0])+(sumfp[1]*y[1])\n",
    "Fy = magsumfp*magy\n",
    "n2 = Fdoty/Fy\n",
    "\n",
    "print(\"The direction cosine of F relative to the y-axis (n2) is %3.2f\" % (n2))"
   ]
  },
  {
   "cell_type": "markdown",
   "id": "45e92763",
   "metadata": {},
   "source": [
    "6. \n"
   ]
  },
  {
   "cell_type": "code",
   "execution_count": 228,
   "id": "8d8bf829",
   "metadata": {},
   "outputs": [
    {
     "data": {
      "image/png": "[encoded data removed]",
      "text/plain": [
       "<Figure size 640x480 with 1 Axes>"
      ]
     },
     "metadata": {},
     "output_type": "display_data"
    }
   ],
   "source": [
    "origin = np.array(([0],[0]))\n",
    "#vals = np.array([[f[0],f[1]],[p[0],p[1]],[sumfp[0],sumfp[1]]])\n",
    "#plt.quiver(*origin, vals[:,0], vals[:,1], color=['r','b','g'], scale=8)\n",
    "plt.quiver(*origin,f[0],f[1],color=['r'],scale=8,label='f')\n",
    "plt.quiver(*origin,p[0],p[1],color=['b'],scale=8,label='p')\n",
    "plt.quiver(*origin,sumfp[0],sumfp[1],color=['g'],scale=8,label='F')\n",
    "plt.legend()\n",
    "plt.grid()\n",
    "plt.show()"
   ]
  },
  {
   "cell_type": "markdown",
   "id": "54982bb0",
   "metadata": {},
   "source": [
    "**Question 2:** \n",
    "\n",
    "A new coordinate system $(x',y')$ is created by rigidly rotating $(x,y)$ by $30^\\circ $, counter-clock wise. \n",
    "\n",
    "1. Compute the transformation matrix $T$. \n",
    "\n",
    "2. Compute the new components of these force vectors $\\mathbf{F}$, $\\mathbf{f}$, and $\\mathbf{p}$ in the $x'-y'$ coordinate system.\n",
    "\n",
    "3. Compute the magnitude, direction cosine, and the angles between force $\\mathbf{F}$ and the $x'$-axis and $y'$-axis. \n",
    "\n",
    "4. Find a new angle of rotation for $(x',y')$, so that $\\mathbf{F}$ is right on the $x'$-axis. \n",
    "\n",
    "5. Discuss about the results obtained. "
   ]
  },
  {
   "cell_type": "code",
   "execution_count": null,
   "id": "9fa7aae6",
   "metadata": {},
   "outputs": [],
   "source": []
  }
 ],
 "metadata": {
  "kernelspec": {
   "display_name": "Python 3 (ipykernel)",
   "language": "python",
   "name": "python3"
  },
  "language_info": {
   "codemirror_mode": {
    "name": "ipython",
    "version": 3
   },
   "file_extension": ".py",
   "mimetype": "text/x-python",
   "name": "python",
   "nbconvert_exporter": "python",
   "pygments_lexer": "ipython3",
   "version": "3.11.3"
  },
  "latex_envs": {
   "LaTeX_envs_menu_present": true,
   "autoclose": true,
   "autocomplete": true,
   "bibliofile": "biblio.bib",
   "cite_by": "apalike",
   "current_citInitial": 1,
   "eqLabelWithNumbers": true,
   "eqNumInitial": 1,
   "hotkeys": {
    "equation": "Ctrl-E",
    "itemize": "Ctrl-I"
   },
   "labels_anchors": false,
   "latex_user_defs": false,
   "report_style_numbering": true,
   "user_envs_cfg": false
  },
  "toc": {
   "base_numbering": 1,
   "nav_menu": {},
   "number_sections": true,
   "sideBar": true,
   "skip_h1_title": true,
   "title_cell": "Table of Contents",
   "title_sidebar": "Contents",
   "toc_cell": true,
   "toc_position": {},
   "toc_section_display": true,
   "toc_window_display": false
  },
  "varInspector": {
   "cols": {
    "lenName": 16,
    "lenType": 16,
    "lenVar": 40
   },
   "kernels_config": {
    "python": {
     "delete_cmd_postfix": "",
     "delete_cmd_prefix": "del ",
     "library": "var_list.py",
     "varRefreshCmd": "print(var_dic_list())"
    },
    "r": {
     "delete_cmd_postfix": ") ",
     "delete_cmd_prefix": "rm(",
     "library": "var_list.r",
     "varRefreshCmd": "cat(var_dic_list()) "
    }
   },
   "types_to_exclude": [
    "module",
    "function",
    "builtin_function_or_method",
    "instance",
    "_Feature"
   ],
   "window_display": false
  }
 },
 "nbformat": 4,
 "nbformat_minor": 5
}
