{
 "cells": [
  {
   "cell_type": "markdown",
   "id": "80d9dd77",
   "metadata": {},
   "source": [
    "# Homeworks for SM-I course\n",
    "\n",
    "Important: \n",
    "\n",
    "1). Please download the latest grcodes, images, and related chapters before working on the homework. \n",
    "\n",
    "2). Both pdf files and the source codes must be submitted, or the work will not be marked.  "
   ]
  },
  {
   "cell_type": "markdown",
   "id": "aed69720",
   "metadata": {},
   "source": [
    "# Homework 6: Solutions for beams\n",
    "\n",
    "**Question 1:**"
   ]
  },
  {
   "cell_type": "markdown",
   "id": "a700dd07",
   "metadata": {},
   "source": [
    "Consider a cantilever beam of uniform cross-section, as shown in Fig.\\ref{image:CantileverFq}. The beam is clamped at the left-end. It has length $L=1 m$ a square section area of $A=0.0001 m^2$. It is subjected to a distributed body force $q_y$ and a concentrated force $F$ at the right end.\n",
    "\n",
    "<img src=\"../images/CantileverFq.png\" alt=\" \" width=\"350\"/><br>\n",
    "\n",
    "A cantilever beam of uniform cross-section, subjected to a distributed body-force, and a concentrated force at the right-end.\n",
    "\n",
    "1) Consider only the body force $b_y=q$ (N/m) where $q$ is a constant, derive by hand the formulas for computing the deflection, $v$ in the $y$-direction, cross-section rotation, moment, shear force, and normal stress $𝜎_{xx}$ in the beam, as functions of $x$. Compare the solutions with the corresponding ones obtained using the code given in the textbook.\n",
    "\n",
    "2) Given data, $A = 0.0001 m^2$, $L=1 m$, Young's modulus of the material $E=2.1e^{10} Pa$, $q = 500 N/m$, $F=1500 N$, compute and plot the distributions of the deflection, cross-section rotation, moment, shear force, and the maximum normal stress on the cross-section, along the coordinate $x$."
   ]
  },
  {
   "cell_type": "markdown",
   "id": "8fef19ec",
   "metadata": {},
   "source": [
    "**Question 2:**\n",
    "\n",
    "Consider a beam with two spans. Span-1 has a length $l_1$, and span-2 has a length $l_2$. The beam is simple-simple-simple supported (s-s-s), as shown in Fig.\\ref{image:beam_S-S-S_q}. It is subjected to a distributed force over span-1. \n",
    "\n",
    "<img src=\"../images/beam_S-S-S_q.png\" alt=\" \" width=\"380\"/><br>\n",
    "\n",
    "A beam with two spans. It is simple-simple-simple supported.\n",
    "\n",
    "1. Derive formulas for solutions, including deflection, cross-section rotation, moment, and shear force in the beam. \n",
    "\n",
    "2. Set all the variables with unit values, plot the distribution of all these solutions. \n",
    "\n",
    "3. Discuss about the results obtained. "
   ]
  }
 ],
 "metadata": {
  "kernelspec": {
   "display_name": "Python 3 (ipykernel)",
   "language": "python",
   "name": "python3"
  },
  "language_info": {
   "codemirror_mode": {
    "name": "ipython",
    "version": 3
   },
   "file_extension": ".py",
   "mimetype": "text/x-python",
   "name": "python",
   "nbconvert_exporter": "python",
   "pygments_lexer": "ipython3",
   "version": "3.9.16"
  },
  "latex_envs": {
   "LaTeX_envs_menu_present": true,
   "autoclose": true,
   "autocomplete": true,
   "bibliofile": "biblio.bib",
   "cite_by": "apalike",
   "current_citInitial": 1,
   "eqLabelWithNumbers": true,
   "eqNumInitial": 1,
   "hotkeys": {
    "equation": "Ctrl-E",
    "itemize": "Ctrl-I"
   },
   "labels_anchors": false,
   "latex_user_defs": false,
   "report_style_numbering": true,
   "user_envs_cfg": false
  },
  "toc": {
   "base_numbering": "2",
   "nav_menu": {},
   "number_sections": true,
   "sideBar": true,
   "skip_h1_title": true,
   "title_cell": "Table of Contents",
   "title_sidebar": "Contents",
   "toc_cell": false,
   "toc_position": {
    "height": "calc(100% - 180px)",
    "left": "10px",
    "top": "150px",
    "width": "165.562px"
   },
   "toc_section_display": true,
   "toc_window_display": false
  },
  "varInspector": {
   "cols": {
    "lenName": 16,
    "lenType": 16,
    "lenVar": 40
   },
   "kernels_config": {
    "python": {
     "delete_cmd_postfix": "",
     "delete_cmd_prefix": "del ",
     "library": "var_list.py",
     "varRefreshCmd": "print(var_dic_list())"
    },
    "r": {
     "delete_cmd_postfix": ") ",
     "delete_cmd_prefix": "rm(",
     "library": "var_list.r",
     "varRefreshCmd": "cat(var_dic_list()) "
    }
   },
   "types_to_exclude": [
    "module",
    "function",
    "builtin_function_or_method",
    "instance",
    "_Feature"
   ],
   "window_display": false
  }
 },
 "nbformat": 4,
 "nbformat_minor": 5
}
