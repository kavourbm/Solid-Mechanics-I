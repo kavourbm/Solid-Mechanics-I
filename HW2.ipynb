{
 "cells": [
  {
   "cell_type": "markdown",
   "id": "d65b0c4b",
   "metadata": {},
   "source": [
    "# Homeworks for SM-I course"
   ]
  },
  {
   "cell_type": "markdown",
   "id": "641ac6c0",
   "metadata": {},
   "source": [
    "# Homework 2: Understanding stresses and coordinate transformation for stresses"
   ]
  },
  {
   "cell_type": "markdown",
   "id": "99bb6da6",
   "metadata": {},
   "source": [
    "**Question 1:** \n",
    "\n",
    "Consider a 2D stress state at a point in a solid, denoted as state A, with stress components given as: $\\sigma_{xx}$ = 88 MPa, $\\sigma_{yy}$= -35 MPa, $\\sigma_{xy}$ =38 MPa, in the Cartesian coordinate system $(x, y)$.\n",
    "\n",
    "1)\tDetermine the stress vector on a plane with a normal vector $5 \\mathbf{i}_1 + 8 \\mathbf{i}_2$. \n",
    "\n",
    "2) A new coordinate system $(x',y')$ is created by rigidly rotating $(x,y)$ by $30^\\circ $, counter-clock wise. Find the stress components in the new coordinate system, denoted as state B. \n",
    "\n",
    "3)\tDetermine the principal stresses and arrange them in order, using stresses in both $(x, y)$ and $(x',y')$ coordinate systems. \n",
    "\n",
    "4)  Determine the directions of the principal stresses using stresses in both $(x, y)$ and $(x',y')$ coordinate systems. \n",
    "\n",
    "5)\tDetermine the maximum shear stress, in both $(x, y)$ and $(x',y')$ coordinate systems.  \n",
    "\n",
    "6)\tDetermine the stress invariants, in both $(x, y)$ and $(x',y')$ coordinate systems.  \n",
    "\n",
    "7)  Draw the Mohr circle, and put states A and B on the circle.  \n",
    "\n",
    "7)  Discuss about the results obtained.  "
   ]
  },
  {
   "cell_type": "markdown",
   "id": "e6dbcd68",
   "metadata": {},
   "source": [
    "**Question 2:** \n",
    "\n",
    "Consider a 2D stress state at a point in a solid, denoted as state A, with stress components given as: $𝜎_{xx}$ = 0.5, $𝜎_{yy}$= 0.5 , $𝜎_{xy}$ = -0.5, in the Cartesian coordinate system $(x, y)$.\n",
    "\n",
    "1)  Determine the principal stresses and their directions with respect to $(x, y)$ coordinate system. \n",
    "\n",
    "2)\tDetermine the maximum shear stress and its direction with respect to $(x, y)$ coordinate system. \n",
    "\n",
    "3)  Draw the Mohr circle.\n",
    "\n",
    "4)  Discuss about the results obtained in relation to the example given in Section 3.7.4.1.  "
   ]
  },
  {
   "cell_type": "markdown",
   "id": "e44b11c9",
   "metadata": {},
   "source": [
    "**Question 3:** \n",
    "\n",
    "Consider a 3D stress state at a point in a solid with stress components given as: $𝜎_{xx}$ = 88 MPa, $𝜎_{yy}$=-35 MPa, $𝜎_{zz}$ =28 MPa, $𝜎_{xy}$ = 12 MPa, $𝜎_{xz}$= 28 MPa, and $𝜎_{yz}$= 15 MPa.\n",
    "\n",
    "1)\tDetermine the stress vector on a plane with a normal vector $2\\mathbf{i}_1 + 3\\mathbf{i}_1 + .5\\mathbf{i}_1$. \n",
    "\n",
    "2)\tDetermine the principal stresses and arrange them in order. \n",
    "\n",
    "3)\tDetermine the maximum shear stresses. \n",
    "\n",
    "4)\tDetermine the octahedral shear stress.\n",
    "\n",
    "5)  Determine the von Mises stress.\n",
    "\n",
    "6)  Draw the Mohr circle. "
   ]
  },
  {
   "cell_type": "code",
   "execution_count": null,
   "id": "4cf8f62f",
   "metadata": {},
   "outputs": [],
   "source": []
  }
 ],
 "metadata": {
  "kernelspec": {
   "display_name": "Python 3 (ipykernel)",
   "language": "python",
   "name": "python3"
  },
  "language_info": {
   "codemirror_mode": {
    "name": "ipython",
    "version": 3
   },
   "file_extension": ".py",
   "mimetype": "text/x-python",
   "name": "python",
   "nbconvert_exporter": "python",
   "pygments_lexer": "ipython3",
   "version": "3.9.7"
  },
  "latex_envs": {
   "LaTeX_envs_menu_present": true,
   "autoclose": true,
   "autocomplete": true,
   "bibliofile": "biblio.bib",
   "cite_by": "apalike",
   "current_citInitial": 1,
   "eqLabelWithNumbers": true,
   "eqNumInitial": 1,
   "hotkeys": {
    "equation": "Ctrl-E",
    "itemize": "Ctrl-I"
   },
   "labels_anchors": false,
   "latex_user_defs": false,
   "report_style_numbering": true,
   "user_envs_cfg": false
  },
  "toc": {
   "base_numbering": "2",
   "nav_menu": {},
   "number_sections": true,
   "sideBar": true,
   "skip_h1_title": true,
   "title_cell": "Table of Contents",
   "title_sidebar": "Contents",
   "toc_cell": false,
   "toc_position": {
    "height": "calc(100% - 180px)",
    "left": "10px",
    "top": "150px",
    "width": "247.719px"
   },
   "toc_section_display": true,
   "toc_window_display": true
  },
  "varInspector": {
   "cols": {
    "lenName": 16,
    "lenType": 16,
    "lenVar": 40
   },
   "kernels_config": {
    "python": {
     "delete_cmd_postfix": "",
     "delete_cmd_prefix": "del ",
     "library": "var_list.py",
     "varRefreshCmd": "print(var_dic_list())"
    },
    "r": {
     "delete_cmd_postfix": ") ",
     "delete_cmd_prefix": "rm(",
     "library": "var_list.r",
     "varRefreshCmd": "cat(var_dic_list()) "
    }
   },
   "types_to_exclude": [
    "module",
    "function",
    "builtin_function_or_method",
    "instance",
    "_Feature"
   ],
   "window_display": false
  }
 },
 "nbformat": 4,
 "nbformat_minor": 5
}
