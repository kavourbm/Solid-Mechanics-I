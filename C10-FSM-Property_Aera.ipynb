{
 "cells": [
  {
   "cell_type": "markdown",
   "id": "a4d75f12",
   "metadata": {
    "toc": true
   },
   "source": [
    "<h1>Table of Contents<span class=\"tocSkip\"></span></h1>\n",
    "<div class=\"toc\"><ul class=\"toc-item\"><li><span><a href=\"#Property-of-Areas\" data-toc-modified-id=\"Property-of-Areas-10\"><span class=\"toc-item-num\">10&nbsp;&nbsp;</span>Property of Areas</a></span><ul class=\"toc-item\"><li><span><a href=\"#Area-of-areas\" data-toc-modified-id=\"Area-of-areas-10.1\"><span class=\"toc-item-num\">10.1&nbsp;&nbsp;</span>Area of areas</a></span><ul class=\"toc-item\"><li><span><a href=\"#Integral-formulas\" data-toc-modified-id=\"Integral-formulas-10.1.1\"><span class=\"toc-item-num\">10.1.1&nbsp;&nbsp;</span>Integral formulas</a></span></li><li><span><a href=\"#Area-of-a-composite-area\" data-toc-modified-id=\"Area-of-a-composite-area-10.1.2\"><span class=\"toc-item-num\">10.1.2&nbsp;&nbsp;</span>Area of a composite area</a></span></li></ul></li><li><span><a href=\"#First-moment-of-area\" data-toc-modified-id=\"First-moment-of-area-10.2\"><span class=\"toc-item-num\">10.2&nbsp;&nbsp;</span>First moment of area</a></span><ul class=\"toc-item\"><li><span><a href=\"#Definition\" data-toc-modified-id=\"Definition-10.2.1\"><span class=\"toc-item-num\">10.2.1&nbsp;&nbsp;</span>Definition</a></span></li><li><span><a href=\"#First-moment-of-a-composite-area\" data-toc-modified-id=\"First-moment-of-a-composite-area-10.2.2\"><span class=\"toc-item-num\">10.2.2&nbsp;&nbsp;</span>First moment of a composite area</a></span></li><li><span><a href=\"#Example:-the-first-moment-of-area-of-a-rectangle\" data-toc-modified-id=\"Example:-the-first-moment-of-area-of-a-rectangle-10.2.3\"><span class=\"toc-item-num\">10.2.3&nbsp;&nbsp;</span>Example: the first moment of area of a rectangle</a></span></li><li><span><a href=\"#Centroid-of-an-area\" data-toc-modified-id=\"Centroid-of-an-area-10.2.4\"><span class=\"toc-item-num\">10.2.4&nbsp;&nbsp;</span>Centroid of an area</a></span></li><li><span><a href=\"#Centroid-for-composite-areas\" data-toc-modified-id=\"Centroid-for-composite-areas-10.2.5\"><span class=\"toc-item-num\">10.2.5&nbsp;&nbsp;</span>Centroid for composite areas</a></span></li><li><span><a href=\"#Example:-centroid-of-an-I-beam\" data-toc-modified-id=\"Example:-centroid-of-an-I-beam-10.2.6\"><span class=\"toc-item-num\">10.2.6&nbsp;&nbsp;</span>Example: centroid of an I-beam</a></span></li><li><span><a href=\"#Example:-compute-the-first-moment-of-an-area,-using-centroid\" data-toc-modified-id=\"Example:-compute-the-first-moment-of-an-area,-using-centroid-10.2.7\"><span class=\"toc-item-num\">10.2.7&nbsp;&nbsp;</span>Example: compute the first moment of an area, using centroid</a></span></li><li><span><a href=\"#First-moment-of-area,-coordinate-rotation\" data-toc-modified-id=\"First-moment-of-area,-coordinate-rotation-10.2.8\"><span class=\"toc-item-num\">10.2.8&nbsp;&nbsp;</span>First moment of area, coordinate rotation</a></span></li></ul></li><li><span><a href=\"#Second-moment-of-area\" data-toc-modified-id=\"Second-moment-of-area-10.3\"><span class=\"toc-item-num\">10.3&nbsp;&nbsp;</span>Second moment of area</a></span><ul class=\"toc-item\"><li><span><a href=\"#Definition\" data-toc-modified-id=\"Definition-10.3.1\"><span class=\"toc-item-num\">10.3.1&nbsp;&nbsp;</span>Definition</a></span></li><li><span><a href=\"#Second-moment-of-area-for-regular-areas\" data-toc-modified-id=\"Second-moment-of-area-for-regular-areas-10.3.2\"><span class=\"toc-item-num\">10.3.2&nbsp;&nbsp;</span>Second moment of area for regular areas</a></span></li><li><span><a href=\"#Second-moment-of-area,-coordinate-translation\" data-toc-modified-id=\"Second-moment-of-area,-coordinate-translation-10.3.3\"><span class=\"toc-item-num\">10.3.3&nbsp;&nbsp;</span>Second moment of area, coordinate translation</a></span></li><li><span><a href=\"#Second-moments-of-composite-areas\" data-toc-modified-id=\"Second-moments-of-composite-areas-10.3.4\"><span class=\"toc-item-num\">10.3.4&nbsp;&nbsp;</span>Second moments of composite areas</a></span></li><li><span><a href=\"#Example:-second-moments-of-an-I-beam\" data-toc-modified-id=\"Example:-second-moments-of-an-I-beam-10.3.5\"><span class=\"toc-item-num\">10.3.5&nbsp;&nbsp;</span>Example: second moments of an I-beam</a></span></li><li><span><a href=\"#Example:-second-moments-of-an-S-beam\" data-toc-modified-id=\"Example:-second-moments-of-an-S-beam-10.3.6\"><span class=\"toc-item-num\">10.3.6&nbsp;&nbsp;</span>Example: second moments of an S-beam</a></span></li><li><span><a href=\"#Second-moment-of-area,-coordinate-rotation\" data-toc-modified-id=\"Second-moment-of-area,-coordinate-rotation-10.3.7\"><span class=\"toc-item-num\">10.3.7&nbsp;&nbsp;</span>Second moment of area, coordinate rotation</a></span></li><li><span><a href=\"#Principal-second-moments-of-area\" data-toc-modified-id=\"Principal-second-moments-of-area-10.3.8\"><span class=\"toc-item-num\">10.3.8&nbsp;&nbsp;</span>Principal second moments of area</a></span></li><li><span><a href=\"#Example:-second-moments-of-area-after-coordinate-rotation\" data-toc-modified-id=\"Example:-second-moments-of-area-after-coordinate-rotation-10.3.9\"><span class=\"toc-item-num\">10.3.9&nbsp;&nbsp;</span>Example: second moments of area after coordinate rotation</a></span></li><li><span><a href=\"#Example:-the-principal-second-moments-of-area\" data-toc-modified-id=\"Example:-the-principal-second-moments-of-area-10.3.10\"><span class=\"toc-item-num\">10.3.10&nbsp;&nbsp;</span>Example: the principal second moments of area</a></span></li><li><span><a href=\"#Use-of-eigenvalue-solver\" data-toc-modified-id=\"Use-of-eigenvalue-solver-10.3.11\"><span class=\"toc-item-num\">10.3.11&nbsp;&nbsp;</span>Use of eigenvalue solver</a></span></li></ul></li><li><span><a href=\"#Polar-moment-of-area\" data-toc-modified-id=\"Polar-moment-of-area-10.4\"><span class=\"toc-item-num\">10.4&nbsp;&nbsp;</span>Polar moment of area</a></span><ul class=\"toc-item\"><li><span><a href=\"#Perpendicular-axis-theorem\" data-toc-modified-id=\"Perpendicular-axis-theorem-10.4.1\"><span class=\"toc-item-num\">10.4.1&nbsp;&nbsp;</span>Perpendicular axis theorem</a></span></li><li><span><a href=\"#Proof-of-the-perpendicular-axis-theorem\" data-toc-modified-id=\"Proof-of-the-perpendicular-axis-theorem-10.4.2\"><span class=\"toc-item-num\">10.4.2&nbsp;&nbsp;</span>Proof of the perpendicular axis theorem</a></span></li><li><span><a href=\"#Other-useful-cases\" data-toc-modified-id=\"Other-useful-cases-10.4.3\"><span class=\"toc-item-num\">10.4.3&nbsp;&nbsp;</span>Other useful cases</a></span></li></ul></li><li><span><a href=\"#Remarks\" data-toc-modified-id=\"Remarks-10.5\"><span class=\"toc-item-num\">10.5&nbsp;&nbsp;</span>Remarks</a></span></li></ul></li></ul></div>"
   ]
  },
  {
   "cell_type": "markdown",
   "id": "a24521a1",
   "metadata": {},
   "source": [
    "Let us import necessary external modules or dependence for later use in this chapter."
   ]
  },
  {
   "cell_type": "code",
   "execution_count": 1,
   "id": "6264963e",
   "metadata": {
    "ExecuteTime": {
     "end_time": "2024-03-28T14:24:30.991799Z",
     "start_time": "2024-03-28T14:24:28.838437Z"
    }
   },
   "outputs": [],
   "source": [
    "# Place curse in this cell, and press Ctrl+Enter to import dependences. \n",
    "import sys                         # for accessing the computer system\n",
    "sys.path.append('../grbin/')  # Change to the directory in your system \n",
    "\n",
    "from commonImports import *       # Import dependences from '../grbin/'\n",
    "import grcodes as gr                 # Import the module of the author\n",
    "importlib.reload(gr)            # When grcodes is modified, reload it\n",
    "\n",
    "from continuum_mechanics import vector \n",
    "init_printing(use_unicode=True)      # For latex-like quality printing \n",
    "#np.set_printoptions(precision=6,suppress=True)  # Digits in print-outs\n",
    "np.set_printoptions(precision=4,suppress=True, \n",
    "                    formatter={'float_kind': '{:.4e}'.format})"
   ]
  },
  {
   "cell_type": "markdown",
   "id": "254a0b99",
   "metadata": {},
   "source": [
    "## Property of Areas\n",
    "\n",
    "Area in general refers to planar region that may have arbitrary shape. In mechanics, many analyses involve areas of various shape resulted from structural components. A typical cases are the cross-section area of beams under bending, of bars under torsion, and torsion. This chapter deal with issues on properties of areas, including area, first moment of area, and 2nd moment of area that used most often in mechanics. "
   ]
  },
  {
   "cell_type": "markdown",
   "id": "fe134c4b",
   "metadata": {},
   "source": [
    "### Area of areas\n",
    "\n",
    "#### Integral formulas \n",
    "\n",
    "The most essential property of an area (planar region) is its area often denoted as $A$. It measures the extend  of the coverage of the area, and carry a unit of [$m^2$]. In our study, we discuss regions that covers a nonzero area, and hence $A$ is always nonzero and positive. \n",
    "\n",
    "Because the area can have different shape, its measure needs to be done generally using integrals: \n",
    "\n",
    "\\begin{equation} \\label{eqA}\n",
    "A = \\int_A dA \n",
    "\\end{equation} \n",
    "\n",
    "The subscript \"A\" for the double integral stands for the planar region area. This means that we can cut the region into small piece $dA$ and then sum all these pieces up leading to the area measure $A$. If a sheet of material is uniform in thickness and density, it measures the amount of material. Therefore, area of an area is the physical property of the area. It does not depend on the coordinate system. Any coordinate system can be used to evaluate the area, and we often choose the one that is easy to work with. \n",
    "\n",
    "If the shape of the area is regular we then have a more explicit integrals, which the help of a coordinate system. For example, if it is a rectangle with base $b$ and height $h$, as shown in Fig.(\\ref{image:Rect_A}). \n",
    "\n",
    "<img src=\"./images/Rect_A.png\" alt=\" \" width=\"200\"/><br>\n",
    "\\begin{figure}\n",
    "  \\includegraphics[width=5cm]{}\n",
    "  \\caption{\\label{image:Rect_A} A rectangle area and Cartesian coordinates set for evaluating its area. Two Cartesian coordinate systems are used.}\n",
    "\\end{figure}"
   ]
  },
  {
   "cell_type": "markdown",
   "id": "a5276eb1",
   "metadata": {},
   "source": [
    "We can use the 2D Cartesian coordinate system $(x', y')$ with $x'$-axis along its base $b$, and the origin at its left-bottom corner. Equation (\\ref{eqA}) becomes \n",
    "\n",
    "\\begin{equation} \\label{eqAxy}\n",
    "A \\underset{\\text{ general }}{=} \\int_A dA \\underset{\\text{ rectangle }}{=} \\int_0^h  \\left[\\int_0^b dx' \\right] dy' = b \\int_0^h dy' = bh\n",
    "\\end{equation} \n",
    "\n",
    "We can also use the 2D Cartesian coordinate system $(x, y)$ with the origin passing through its center, and $x$-axis parallel with its base $b$. Equation (\\ref{eqA}) becomes \n",
    "\n",
    "\\begin{equation} \\label{eqAxy00}\n",
    "A \\underset{\\text{ general }}{=} \\int_A dA \\underset{\\text{ rectangle }}{=} \\int_{-h/2}^{h/2} \\left[\\int_{-b/2}^{b/2} dx \\right] dy = b \\int_{-h/2}^{h/2}  dy  = bh\n",
    "\\end{equation}  \n",
    "\n",
    "The use of two different coordinates gives the same value. This coordinate independent feature of the area evaluation is important to note. The code to get all these done is as follows. "
   ]
  },
  {
   "cell_type": "code",
   "execution_count": 2,
   "id": "0b35fbe3",
   "metadata": {
    "ExecuteTime": {
     "end_time": "2024-03-28T14:30:05.158386Z",
     "start_time": "2024-03-28T14:30:04.898212Z"
    }
   },
   "outputs": [
    {
     "name": "stdout",
     "output_type": "stream",
     "text": [
      "Area of rectangle, in (x',y') = b*h;  in (x,y) = b*h\n"
     ]
    }
   ],
   "source": [
    "x, y, xp, yp, b, h = sp.symbols(\"x, y, xp, yp, b, h\")\n",
    "Ap =  sp.integrate(sp.integrate(1, (yp, 0, h)), (xp, 0, b))\n",
    "A  =  sp.integrate(sp.integrate(1, (xp, -b/2, b/2)), (yp, -h/2, h/2))\n",
    "print(f\"Area of rectangle, in (x',y') = {Ap};  in (x,y) = {A}\")"
   ]
  },
  {
   "cell_type": "markdown",
   "id": "1ad77a27",
   "metadata": {},
   "source": [
    "The code can be modified for computing the area of more complicated shapes. "
   ]
  },
  {
   "cell_type": "markdown",
   "id": "d4197d71",
   "metadata": {},
   "source": [
    "If the shape is **circular** with radius of $a$, we can use the polar coordinate system $(r, 𝜃)$ with its origin at the center of the circle, and the integral becomes \n",
    "\n",
    "\\begin{equation} \\label{eqArt}\n",
    "A \\underset{\\text{ circular }}{=} \\int_0^a \\left(\\int_0^{2\\pi} rd𝜃 \\right) dr = 2\\pi \\int_0^a r dr = \\pi a^2\n",
    "\\end{equation} \n",
    "\n",
    "If the shape is totally irregular, we need to cut it into very small pieces without gap and overlap, called meshing, typically to rectangles and/or triangles, each of which the areas can be computed with ease, and then sum all these areas up. This is essentially a numerical discrete evaluation of Eq.(\\ref{eqA}). Assume the area is then divided into $n$ small area $∆A_i$. The total area becomes, \n",
    "\n",
    "\\begin{equation} \\label{eqAint}\n",
    "A =\\sum _{i=1}^n  ∆A_i \\underset{n→∞\\\\ ∆A_i → 0}{=} \\int_A  dA\n",
    "\\end{equation}  \n",
    "\n",
    "which is essentially Eq.(\\ref{eqA}).  \n",
    "\n",
    "It is important to note that $A$ is global measure of an area. It does not give any information on the shape of the area. In other words, many areas with different shape can have the same $A$ value. It has only 0th order of information on a given area.  "
   ]
  },
  {
   "cell_type": "markdown",
   "id": "6de96b08",
   "metadata": {},
   "source": [
    "#### Area of a composite area \n",
    "\n",
    "Because of the summation form of the definition, the area calculation can be done for a complicated area consisting of multiple regular sub-areas for which the area can be found with ease. Assuming there are $m$ regular sub-areas, the general formulas are as follows. \n",
    "\n",
    "\\begin{equation} \\label{eqAm}\n",
    "A=\\sum_{i=1}^m A_i    \n",
    "\\end{equation}  \n",
    "\n",
    "where $A_i$ is the area of the $i$th sub-area.  A list of formulas for calculating areas of various relatively regular areas can be found at wikipage on [area](https://en.wikipedia.org/wiki/Area). \n",
    "\n",
    "Again, because the area is a scalar and independent of the coordinate, any coordinate transformation does not affect its value.  "
   ]
  },
  {
   "cell_type": "markdown",
   "id": "0ba2a904",
   "metadata": {},
   "source": [
    "### First moment of area\n",
    "\n",
    "#### Definition\n",
    "\n",
    "The concept of area and its calculation are quite straightforward and were taught in elementary schools. The concept, its calculation, and property of the \"first moment of area\" are, however, much less trivial and there is quite confusing in the open literature. It is typically introduced in high-schools. \n",
    "\n",
    "It is a measure of the spatial distribution of an area in relation to an axis. Therefore, it depends on the reference axis of a coordinate system used to evaluate it. It gives the 1st order of information on a given area. The shape of it matters. Its definition is given as follows. \n",
    "\n",
    "Consider a given area A of arbitrary shape. \n",
    "\n",
    "1. First, a Cartesian coordinate system $(x, y)$ is introduced, and the coordinates for any point in the area can be found.\n",
    "\n",
    "2. The area is then divided into $n$ small area $∆A_i$. The coordinates of the center in within $∆A_i$ is found and denoted as $(x_i, y_i)$. \n",
    "\n",
    "The first moments of area A are defined as, \n",
    "\n",
    "\\begin{equation} \\label{eqQxy}\n",
    "Q_{x} =\\sum _{i=1}^n \\underset{ \\text{ arm wrt } x}{y_i}\\,∆A_i \\underset{n→∞\\\\ ∆A_i → 0}{=}\n",
    " \\int_A y\\, dA \\\\\n",
    "Q_{y} =\\sum _{i=1}^n \\underset{ \\text{ arm wrt } y}{x_i}\\,∆A_i \\underset{n→∞\\\\ ∆A_i → 0}{=}\n",
    " \\int_A x\\, dA  \n",
    "\\end{equation}  \n",
    "\n",
    "The unit for first moment of area is [$m^3$]. \n",
    "\n",
    "We reiterate that the first moment of an area is with-respect-to (wrt) the reference axis in a coordinate system. **A coordinate transformation, translational or rotational, will affect its values**. The first moment of an area has two components: $Q_{x}$ and $Q_{y}$ and needs one index. **It is a vector**, a first order tensor, and the coordinate rotational transformation rule for vectors (discussed in Chapter 2) apply. \n",
    "\n",
    "The effects of a translation of the coordinate system is revealed in the next example.  "
   ]
  },
  {
   "cell_type": "markdown",
   "id": "7ecb414b",
   "metadata": {},
   "source": [
    "#### First moment of a composite area \n",
    "\n",
    "Because of the summation form of the definition, first moment of area calculation can be done for a complicated area consisting of multiple regular sub-areas (for which the center and area can be found with ease). Assuming there are $m$ regular sub-areas, the general formulas are as follows. \n",
    "\n",
    "\\begin{equation} \\label{eqQxym}\n",
    "Q_{x} =\\sum_{i=1}^m  y_i A_i  \\\\\n",
    "Q_{y} =\\sum_{i=1}^m  x_i A_i   \n",
    "\\end{equation}  \n",
    "\n",
    "where $A_i$ is the area of the $i$th sub-area, and $x_i, y_i$ are coordinates of the center of the $i$th sub-area with respect to coordinate system $(x,y)$. "
   ]
  },
  {
   "cell_type": "markdown",
   "id": "b209ac69",
   "metadata": {},
   "source": [
    "#### Example: the first moment of area of a rectangle\n",
    "\n",
    "Consider a rectangle with base $b$ and height $h$, as shown in Fig.\\ref{image:Rect_Qxy}. We use two Cartesian coordinate systems: $(x',y')$ that pass through its two edges, and $(x,y)$ that pass through its two middle lines, and the center of the rectangle.\n",
    "\n",
    "<img src=\"./images/Rect_Qxy.png\" alt=\" \" width=\"200\"/><br>\n",
    "\\begin{figure}\n",
    "  \\includegraphics[width=5cm]{}\n",
    "  \\caption{\\label{image:Rect_Qxy} A rectangle area and Cartesian coordinates set for evaluating its first moment of area. Two Cartesian coordinate systems are used.}\n",
    "\\end{figure}\n",
    "\n",
    "1. Calculate the first moment of area of the rectangle with respect to $x'$- and $y'$-axis. \n",
    "2. Calculate the same with respect to $x$- and $y$-axis."
   ]
  },
  {
   "cell_type": "markdown",
   "id": "11544917",
   "metadata": {},
   "source": [
    "**Solution to 1**: using the coordinate system $(x',y')$ and Eq.(\\ref{eqQxy}), we obtain: \n",
    "\n",
    "\\begin{equation} \\label{eqRQxy}\n",
    "Q_{x'} = \\int_A y'\\, dA = \\int_0^b dx' \\int_0^h y'\\, dy' = b \\int_0^h y'\\, dy' = \\frac{bh^2}{2} \\\\\n",
    "Q_{y'} = \\int_A x'\\, dA = \\int_0^h dy' \\int_0^b x'\\, dx' = h \\int_0^b x'\\, dx' = \\frac{hb^2}{2}   \n",
    "\\end{equation}  \n",
    "\n",
    "We see clearly that the shape, the value of $a$ and $b$, of the rectangle will affect the first moments value. The **shape does matter** for the first moments of area. \n",
    "\n",
    "**Solution to 2**: using the coordinate system $(x,y)$ and Eq.(\\ref{eqQxy}), we obtain: \n",
    "\n",
    "\\begin{equation} \\label{eqRQxy0}\n",
    "Q_{x} = \\int_A y\\, dA = \\int_{-b/2}^{b/2} dx \\int_{-h/2}^{h/2} y\\, dy = b \\int_{-h/2}^{h/2} y\\, dy =0 \\\\\n",
    "Q_{y} = \\int_A x\\, dA = \\int_{-h/2}^{h/2} dy \\int_{-b/2}^{b/2} x\\, dx = h \\int_{-b/2}^{b/2} x\\, dx =0   \n",
    "\\end{equation}  \n",
    "\n",
    "The code to get all these done is as follows. "
   ]
  },
  {
   "cell_type": "code",
   "execution_count": 3,
   "id": "658ec43f",
   "metadata": {
    "ExecuteTime": {
     "end_time": "2024-03-28T14:44:56.989332Z",
     "start_time": "2024-03-28T14:44:53.881164Z"
    }
   },
   "outputs": [
    {
     "name": "stdout",
     "output_type": "stream",
     "text": [
      "1st moments of area of rectangle: Q_x', Q_y':\n"
     ]
    },
    {
     "data": {
      "image/png": "[encoded data removed]",
      "text/latex": [
       "$\\displaystyle \\left[\\begin{matrix}\\frac{b h^{2}}{2}\\\\\\frac{b^{2} h}{2}\\end{matrix}\\right]$"
      ],
      "text/plain": [
       "⎡   2⎤\n",
       "⎢b⋅h ⎥\n",
       "⎢────⎥\n",
       "⎢ 2  ⎥\n",
       "⎢    ⎥\n",
       "⎢ 2  ⎥\n",
       "⎢b ⋅h⎥\n",
       "⎢────⎥\n",
       "⎣ 2  ⎦"
      ]
     },
     "execution_count": 3,
     "metadata": {},
     "output_type": "execute_result"
    }
   ],
   "source": [
    "x, y, xp, yp, b, h = sp.symbols(\"x, y, xp, yp, b, h\")\n",
    "Q_xp =  sp.integrate(sp.integrate(yp, (yp, 0, h)), (xp, 0, b))\n",
    "Q_yp =  sp.integrate(sp.integrate(xp, (xp, 0, b)), (yp, 0, h))\n",
    "Qp = sp.Matrix([Q_xp, Q_yp]) \n",
    "gr.printM(Qp, \"1st moments of area of rectangle: Q_x', Q_y':\")"
   ]
  },
  {
   "cell_type": "code",
   "execution_count": 16,
   "id": "b41e4452",
   "metadata": {
    "ExecuteTime": {
     "end_time": "2024-03-23T12:06:01.564158Z",
     "start_time": "2024-03-23T12:05:59.497879Z"
    }
   },
   "outputs": [
    {
     "name": "stdout",
     "output_type": "stream",
     "text": [
      "1st moments of area of rectangle: Q_x, Q_y:\n"
     ]
    },
    {
     "data": {
      "image/png": "[encoded data removed]",
      "text/latex": [
       "$\\displaystyle \\left[\\begin{matrix}0\\\\0\\end{matrix}\\right]$"
      ],
      "text/plain": [
       "⎡0⎤\n",
       "⎢ ⎥\n",
       "⎣0⎦"
      ]
     },
     "execution_count": 16,
     "metadata": {},
     "output_type": "execute_result"
    }
   ],
   "source": [
    "Q_x =  sp.integrate(sp.integrate(y, (y, -h/2, h/2)), (x, -b/2, b/2))\n",
    "Q_y =  sp.integrate(sp.integrate(x, (x, -b/2, b/2)), (y, -h/2, h/2))\n",
    "Q = sp.Matrix([Q_x, Q_y]) \n",
    "gr.printM(Q, \"1st moments of area of rectangle: Q_x, Q_y:\")"
   ]
  },
  {
   "cell_type": "markdown",
   "id": "4e748f54",
   "metadata": {},
   "source": [
    "We found that \n",
    "\n",
    "1) moments of an area are coordinate dependent. \n",
    "\n",
    "2) When the reference axis passes through the center of the area, the first moment of the area becomes zero. This lead the definition of the concept of centroid. "
   ]
  },
  {
   "cell_type": "markdown",
   "id": "0347bff7",
   "metadata": {},
   "source": [
    "#### Centroid of an area\n",
    "\n",
    "The centroid of an area denoted as $(\\bar{x},\\bar{y}) $ is defined based on the first moment of area. The formula is as follows:  \n",
    "\n",
    "\\begin{equation} \\label{eqCndrd}\n",
    "\\bar{x} = \\frac{\\int_A x\\, dA }{\\int_A dA }  \\\\\n",
    "\\bar{y} = \\frac{\\int_A y\\, dA }{\\int_A dA }   \n",
    "\\end{equation}  \n",
    "\n",
    "From this definition, and because the area $A$ is not zero (we are not interested in discussing any area that is zero), it is clear that \n",
    "\n",
    "> the centroid is zero, if and only if the first moments are zero. \n",
    "\n",
    "This is means that if the coordinates are set at the centroid of the area, the first moment vanishes. "
   ]
  },
  {
   "cell_type": "markdown",
   "id": "1d1646a8",
   "metadata": {},
   "source": [
    "For the rectangular area given in the previous section, in the $(x',y')$ coordinate system, the centroid is found as \n",
    "\n",
    "\\begin{equation} \\label{eqRCndrd}\n",
    "\\bar{x'} = \\frac{\\int_A x'\\, dA }{\\int_A dA } = \\frac{\\tfrac{b^2h}{2}}{bh} = \\frac{b}{2}\\\\\n",
    "\\bar{y'} = \\frac{\\int_A y'\\, dA }{\\int_A dA } = \\frac{\\tfrac{bh^2}{2}}{bh} = \\frac{h}{2} \n",
    "\\end{equation}  \n",
    "\n",
    "Therefore, the centroid is the coordinates of the center of the area in the given reference coordinate system. If the $(x,y)$ coordinate system, the centroid is then found as \n",
    "\n",
    "\\begin{equation} \\label{eqRCndrp}\n",
    "\\bar{x} = \\frac{\\int_A x\\, dA }{\\int_A dA } = \\frac{0}{bh} = 0\\\\\n",
    "\\bar{y} = \\frac{\\int_A y\\, dA }{\\int_A dA } = \\frac{0}{bh} = 0 \n",
    "\\end{equation}  \n",
    "\n",
    "This confirms that the center of the area is right at the origin of the $(x,y)$ coordinate system. \n",
    "\n",
    "In many applications, it is often convenient to set our reference coordinate system with the origin at the center of the area of interest, because at which its first moments are all zero, and formulation can be significantly simplified. However, we do not usually know the location of the center for a given arbitrary area. This is what we can do: \n",
    "\n",
    "> First, set up any coordinate system as reference, and use Eq.(\\ref{eqCndrd}) to find the centroid. Then, move the coordinate system to have its origin at the centroid. \n",
    "\n",
    "Equation (\\ref{eqCndrd}) is thus useful in many applications involving areas. "
   ]
  },
  {
   "cell_type": "markdown",
   "id": "080125fe",
   "metadata": {},
   "source": [
    "#### Centroid for composite areas\n",
    "\n",
    "Consider a composite area with $m$ regular sub-areas, its centroid can be computed using, \n",
    "\n",
    "\\begin{equation} \\label{eqCxym}\n",
    "\\bar{x} =\\frac{\\sum_{i=1}^m  \\bar{x}_i A_i}{\\sum_{i=1}^m A_i}  \\\\\n",
    "\\bar{y} =\\frac{\\sum_{i=1}^m  \\bar{y}_i A_i}{\\sum_{i=1}^m A_i}   \n",
    "\\end{equation}  \n",
    "\n",
    "where $A_i$ is the area of the $i$th sub-area, and $x_i, y_i$ are the centroid of the $i$th sub-area with respect to the common coordinate system $(x,y)$. "
   ]
  },
  {
   "cell_type": "markdown",
   "id": "4e091e59",
   "metadata": {},
   "source": [
    "#### Example: centroid of an I-beam \n",
    "\n",
    "Consider an I-beam with basic shape shown in Fig.\\ref{image:I-BeamCrossSection}. \n",
    "\n",
    "<img src=\"./images/I-BeamCrossSection.png\" alt=\" \" width=\"450\"/><br>\n",
    "\\begin{figure}\n",
    "  \\includegraphics[width=5cm]{}\n",
    "  \\caption{\\label{image:I-BeamCrossSection} Schematic view of an I-beam. Left: generic cross-section with rounded concave corners to avoid stress concentration. Right: idealized cross-section for analysis. The image on the left is from Poutrelle métallique at wikipedia commons under the CC BY 3.0 license.}\n",
    "\\end{figure}\n",
    "\n",
    "Its dimensions (mm) are given as follows: \n",
    "\n",
    "> beam height: $h_b=200$; width of flange on top: $w_{ft}=100$; width of flange at bottom: $w_{fb}=150$;  thickness of flange on top: $t_{ft}= 20$; thickness of flange at bottom: $t_{fb}= 18$; web thickness: $t_w=10$. \n",
    "\n",
    "Determine the centroid of the I-beam. "
   ]
  },
  {
   "cell_type": "markdown",
   "id": "ad138156",
   "metadata": {},
   "source": [
    "**Solution**: we write the following code to get it done using Eq.(\\ref{eqCxym}). \n",
    "First, we write a code function for computing of centroid of an I-beam, which will be used for multiple times in this book. "
   ]
  },
  {
   "cell_type": "code",
   "execution_count": 2,
   "id": "5e3fd523",
   "metadata": {
    "ExecuteTime": {
     "end_time": "2024-03-27T12:17:18.859334Z",
     "start_time": "2024-03-27T12:17:18.851345Z"
    }
   },
   "outputs": [],
   "source": [
    "def centroid_I(hb, wft, wfb, tft, tfb, tw):\n",
    "    '''Compute the centroid of an I-beam made of rectangles. \n",
    "    The reference coordinate is on the bottom edge with the left-bottom \n",
    "    corner as the origin. The code can be used for any composite area \n",
    "    with up to 3 rectangles. For a T beam, for example, just set tfb=0. \n",
    "    The whole area must be left-right symmetric. \n",
    "    Inputs: \n",
    "    hb:  beam height (total)\n",
    "    wft: width of flange on top\n",
    "    wfb: width of flange at bottom\n",
    "    tft: thickness of flange on top\n",
    "    tfb: thickness of flange at bottom\n",
    "    tw:  web thickness\n",
    "    Return: \n",
    "    x_bar, y_bar: the centroid of the composite area. \n",
    "    A: The total area\n",
    "    Ai: areas of each rectangles \n",
    "    '''\n",
    "    width_ai  = np.array([wft, tw,         wfb])            \n",
    "    height_bi = np.array([tft, hb-tft-tfb, tfb])            \n",
    "    xi_bar    = np.array([wfb/2,  wfb/2,  wfb/2])\n",
    "    yi_bar    = np.array([hb-tft/2, (hb-tft-tfb)/2+tfb, tfb/2])\n",
    "\n",
    "    Ai = width_ai*height_bi\n",
    "    A = np.sum(Ai)\n",
    "    print(f\"Areas of sub-areas = {Ai} [L^2]\")\n",
    "    print(f\"Areas of I-beam = {A} [L^2]\")\n",
    "\n",
    "    x_bar = np.sum(xi_bar*Ai)/A\n",
    "    y_bar = np.sum(yi_bar*Ai)/A\n",
    "\n",
    "    print(f\"The centroid [L]):\\n x = {x_bar} \\n y = {y_bar}\")\n",
    "    return x_bar, y_bar, A, Ai"
   ]
  },
  {
   "cell_type": "markdown",
   "id": "c33ee18d",
   "metadata": {},
   "source": [
    "Using the code function given above, the centroid can be found with ease. "
   ]
  },
  {
   "cell_type": "code",
   "execution_count": 3,
   "id": "dc0c64a0",
   "metadata": {
    "ExecuteTime": {
     "end_time": "2024-03-27T12:17:24.752394Z",
     "start_time": "2024-03-27T12:17:24.745406Z"
    }
   },
   "outputs": [
    {
     "name": "stdout",
     "output_type": "stream",
     "text": [
      "Areas of sub-areas = [2.0000e-03 1.6200e-03 2.7000e-03] [L^2]\n",
      "Areas of I-beam = 0.00632 [L^2]\n",
      "The centroid [L]):\n",
      " x = 0.075 \n",
      " y = 0.0893481012658228\n"
     ]
    }
   ],
   "source": [
    "# preparing data: \n",
    "hb =.200; wft=.100; wfb=.150; tft=.020; tfb=.018; tw=.010    # (m)\n",
    "\n",
    "# call the code function: \n",
    "x_bar, y_bar, A, Ai = centroid_I(hb, wft, wfb, tft, tfb, tw)"
   ]
  },
  {
   "cell_type": "markdown",
   "id": "845d7f95",
   "metadata": {},
   "source": [
    "#### Example: compute the first moment of an area, using centroid\n",
    "\n",
    "Consider again a rectangle with base $b$ and height $h$ shown in Fig.\\ref{image:Rect_Qxy}. Because of its simple geometry, we know its centroid based on a Cartesian coordinate systems. For example, when we use $(x',y')$ as the reference coordinate system, its centroid is at $\\bar{x}'=b/2, \\bar{y}'=h/2$. Calculate the first moment of the rectangle using the known centroid.  "
   ]
  },
  {
   "cell_type": "markdown",
   "id": "6bf2ae98",
   "metadata": {},
   "source": [
    "**Solution**: using Eq.(\\ref{eqCndrd}), we have \n",
    "\n",
    "\\begin{equation} \\label{eqCntrdQ}\n",
    "Q_{x'} = \\bar{y}' \\int_A dA = \\bar{y}' A  \\\\\n",
    "Q_{y'} = \\bar{x}' \\int_A dA = \\bar{x}' A  \n",
    "\\end{equation}  \n",
    "\n",
    "Substituting $\\bar{x}'=a/2$, $\\bar{y}'=b/2$, and $A=ab$ for rectangle into Eq.(\\ref{eqCntrdQ}), we obtain: \n",
    "\n",
    "\\begin{equation} \\label{eqRCndrQ}\n",
    "Q_{x'} = \\bar{y}' A = \\frac{h}{2} bh = \\frac{bh^2}{2} \\\\\n",
    "Q_{y'} = \\bar{x}' A = \\frac{b}{2} bh = \\frac{hb^2}{2} \n",
    "\\end{equation}  \n",
    "\n",
    "which is the same as the results given in Eq.(\\ref{eqRQxy}). \n",
    "\n",
    "Equation (\\ref{eqCntrdQ}) is useful for regular areas for which the centroid and area are readily available. "
   ]
  },
  {
   "cell_type": "markdown",
   "id": "711c280a",
   "metadata": {},
   "source": [
    "####  First moment of area, coordinate rotation\n",
    "\n",
    "Because the first moment of an area has two components: $Q_{x}$ and $Q_{y}$ with one index. The coordinate rotational transformation rule follows that for vectors discussed in Chapter 2. Consider a new Cartesian coordinate system $(x', y')$ that is rotated by an angle 𝜃 from the current coordinate $(x, y)$. Assume the first moments of area are known in $(x, y)$. We would like to find the first moments of the same area with respect to the rotated $(x', y')$. Using the transformation matrix defined in Chapter 2, the new coordinates is given by  \n",
    "\n",
    "\\begin{equation} \\label{eqxxpMI} \n",
    "\\begin{bmatrix} x'\\\\ y' \\end{bmatrix} = \\underbrace{\\begin{bmatrix}\n",
    "\\cos\\theta & \\sin\\theta \\\\\n",
    "-\\sin\\theta & \\cos\\theta \\end{bmatrix}}_{\\mathbf{T}} \\begin{bmatrix} x\\\\ y \\end{bmatrix}\n",
    "\\end{equation}\n",
    "\n",
    "The first moments of area in $(x', y')$ becomes, \n",
    "\n",
    "\\begin{equation} \\label{eqQxyp}\n",
    "Q_{x'} = \\int_A y'\\, dA = \\int_A (-x\\sin𝜃+y\\cos𝜃) = -Q_{y}\\sin𝜃+Q_{x}\\cos𝜃 \\\\\n",
    "Q_{y'} = \\int_A x'\\, dA = \\int_A ( x\\cos𝜃+y\\sin𝜃) =  Q_{y}\\cos𝜃+Q_{x}\\sin𝜃 \n",
    "\\end{equation} \n",
    "\n",
    "In matrix form, it becomes,\n",
    "\n",
    "\\begin{equation} \\label{eqQxypM}\n",
    "\\begin{bmatrix} Q_{x'}\\\\ Q_{y'} \\end{bmatrix} = \\underbrace{\\begin{bmatrix}\n",
    " \\cos\\theta & -\\sin\\theta \\\\\n",
    " \\sin\\theta & \\cos\\theta \\end{bmatrix}}_{\\mathbf{T}^\\top} \\begin{bmatrix} Q_{x}\\\\ Q_{y}\\end{bmatrix}\n",
    "\\end{equation} \n",
    "\n",
    "This means that the transformed first moments use the transpose of the transformation matrix $\\mathbf{T}$. If both $Q_{x}$ and $Q_{y}$ are zero, both $Q_{x'}$ and $Q_{y'}$ will also be zero. This always true because if the origin of the original coordinate is at the centroid, any rotated coordinate will have the same origin."
   ]
  },
  {
   "cell_type": "markdown",
   "id": "fb84f57c",
   "metadata": {},
   "source": [
    "### Second moment of area\n",
    "\n",
    "#### Definition\n",
    "\n",
    "One can increase the order of the integrand by one, when performing area integral. This constructs the second moments of an area. The formula is as follows. \n",
    "\n",
    "\\begin{equation} \\label{eqIxy}\n",
    "I_{xx} = \\int_A y^2\\, dA \\\\\n",
    "I_{yy} = \\int_A x^2\\, dA \\\\\n",
    "I_{xy} = \\int_A xy\\, dA  \n",
    "\\end{equation}  \n",
    "\n",
    "It has three components and carries two indexes. The first moment of an area extracts the 1st order of information from the area. One can naturally expect that a second moment of an area shall extract 2nd order information from it. We need to find way to calculate it. "
   ]
  },
  {
   "cell_type": "markdown",
   "id": "cdb7be58",
   "metadata": {},
   "source": [
    "#### Second moment of area for regular areas\n",
    "\n",
    "For areas with regular shape, we derive formulas and the calculation can be done analytically. Consider again the rectangular area shown in Fig.\\ref{image:Rect_Qxy}. We use Cartesian coordinate system $(x, y)$, and let the $x$- and $y-$axis on the middle lines of the rectangle, we have\n",
    " \n",
    "\\begin{equation} \\label{eqRIxy}\n",
    "\\begin{split}\n",
    "I_{xx} &= \\int_A y^2\\, dA = \\int_{-b/2}^{b/2} dx \\int_{-h/2}^{h/2} y^2\\, dy = b \\int_{-h/2}^{h/2} y^2\\, dy = \\frac{bh^3}{12} \\\\\n",
    "I_{yy} &= \\int_A x^2\\, dA = \\int_{-h/2}^{h/2} dy \\int_{-b/2}^{b/2} x^2\\, dy = h \\int_{-b/2}^{b/2} x^2\\, dy = \\frac{hb^3}{12} \\\\\n",
    "I_{xy} &= \\int_A xy\\, dA = \\int_{-b/2}^{b/2} xdx \\int_{-h/2}^{h/2} y\\, dy = 0 \n",
    "\\end{split}\n",
    "\\end{equation}  \n",
    "\n",
    "Here we see the benefit of having the coordinate going through the centroid of the area. Using the similar integration technique, second moment of area for other regular shapes can be found. The code to get this done is as follows. "
   ]
  },
  {
   "cell_type": "code",
   "execution_count": 24,
   "id": "23df6bfd",
   "metadata": {
    "ExecuteTime": {
     "end_time": "2024-03-23T12:48:13.908769Z",
     "start_time": "2024-03-23T12:48:12.329282Z"
    }
   },
   "outputs": [
    {
     "name": "stdout",
     "output_type": "stream",
     "text": [
      "2nd moments of area of rectangle:\n"
     ]
    },
    {
     "data": {
      "image/png": "[encoded data removed]",
      "text/latex": [
       "$\\displaystyle \\left[\\begin{matrix}\\frac{b h^{3}}{12} & 0\\\\0 & \\frac{b^{3} h}{12}\\end{matrix}\\right]$"
      ],
      "text/plain": [
       "⎡   3      ⎤\n",
       "⎢b⋅h       ⎥\n",
       "⎢────   0  ⎥\n",
       "⎢ 12       ⎥\n",
       "⎢          ⎥\n",
       "⎢       3  ⎥\n",
       "⎢      b ⋅h⎥\n",
       "⎢ 0    ────⎥\n",
       "⎣       12 ⎦"
      ]
     },
     "execution_count": 24,
     "metadata": {},
     "output_type": "execute_result"
    }
   ],
   "source": [
    "Ixx =  sp.integrate(sp.integrate(y**2, (y, -h/2, h/2)), (x, -b/2, b/2))\n",
    "Iyy =  sp.integrate(sp.integrate(x**2, (x, -b/2, b/2)), (y, -h/2, h/2))\n",
    "Ixy =  sp.integrate(sp.integrate( x*y, (y, -h/2, h/2)), (x, -b/2, b/2))\n",
    "I = sp.Matrix([[Ixx, -Ixy], [-Ixy, Iyy]]) \n",
    "gr.printM(I, \"2nd moments of area of rectangle:\")"
   ]
  },
  {
   "cell_type": "markdown",
   "id": "257b8a9e",
   "metadata": {},
   "source": [
    "We found in the rectangle case, $I_{xy}=0$. This is because the area is symmetric. For general shape it is not. A list of second moment of area for various regular shape can be found at the [wikipage](https://en.wikipedia.org/wiki/List_of_second_moments_of_area). "
   ]
  },
  {
   "cell_type": "markdown",
   "id": "ad3ba085",
   "metadata": {},
   "source": [
    "#### Second moment of area, coordinate translation \n",
    "\n",
    "Consider a new Cartesian coordinate system $(x', y')$ that is created by a translation of $(x,y)$, and we found the centroid of the area as $\\bar{x}$ and $\\bar{y}$ in reference to $(x', y')$. The second moment of the area in reference to $(x', y')$ can be found as,\n",
    "\n",
    "\\begin{equation} \\label{eqRIxyp}\n",
    "\\begin{split}\n",
    "I_{x'x'} &= \\int_A y'^2\\, dA = \\int_A (y+\\bar{y})^2\\, dA= I_{xx} +\\bar{y'}^2 A \\\\\n",
    "I_{y'y'} &= \\int_A x'^2\\, dA = \\int_A (x+\\bar{x})^2\\, dA= I_{yy} +\\bar{x'}^2 A \\\\\n",
    "I_{x'y'} &= \\int_A y'^2\\, dA = \\int_A (x+\\bar{x})(y+\\bar{y})\\, dA= I_{xy} +\\bar{x'}\\bar{y'} A  \n",
    "\\end{split}\n",
    "\\end{equation}\n",
    "\n",
    "where $I_{xx}$, $I_{yy}$ and $I_{xy}$ are these 2nd moments of area with respect to coordinates $(x, y)$ that are passing through the centroid. In the derivation above, we used the fact that the first moments of area with respect to $x$ and $y$ are all zero, leading to the simple coordinate translation rule for these 2nd moments of area. Equation (\\ref{eqRIxyp}) is useful when calculating the 2nd moment of a composite area consisting of multiple regular sub-areas for which their 2nd moment of area and centroids are readily available. "
   ]
  },
  {
   "cell_type": "markdown",
   "id": "5133f693",
   "metadata": {},
   "source": [
    "#### Second moments of composite areas\n",
    "\n",
    "Consider a composite area with $m$ regular sub-areas, its 2nd moments of area can be computed using, \n",
    "\n",
    "\\begin{equation} \\label{eqIxym}\n",
    "I_{x'x'} = \\sum_{k=1}^m  I_{xx, k}  + \\bar{y'_k}^2 A_k \\\\\n",
    "I_{y'y'} = \\sum_{k=1}^m  I_{yy, k}  + \\bar{x'_k}^2 A_k \\\\\n",
    "I_{x'y'} = \\sum_{k=1}^m  I_{xy, k}  + \\bar{x'_k}\\bar{y'_k}^2 A_k\n",
    "\\end{equation}  \n",
    "\n",
    "where $I_{ij, k} (i=x,y; j=x,y)$ is the second moments of the $k$th sub-area, with respect to its own coordinate the $(x_k,y_k)$ that goes through its own center. And $\\bar{x'_k}$ and $\\bar{y'_k}$ the centroid of the $k$th sub-area with respect to the common coordinate system $(x',y')$ for the whole area. \n",
    "\n",
    "Note that in practice, we often set the common coordinate system $(x',y')$ going through the centroid of the whole area, so that the obtained second moments are in reference to center of the whole area. This can be easily done by shifting the coordinates, after the global centroid is found, using for example centroid_I(). We will demonstrate this in the example section. "
   ]
  },
  {
   "cell_type": "markdown",
   "id": "5c3a0023",
   "metadata": {},
   "source": [
    "#### Example: second moments of an I-beam \n",
    "\n",
    "Consider an I-beam with basic shape shown in Fig.\\ref{image:I-BeamCrossSection}. \n",
    "\n",
    "Its dimensions (mm) are given as follows: \n",
    "\n",
    "> beam height: $h_b=200$; width of flange on top: $w_{ft}=100$; width of flange at bottom: $w_{fb}=150$; ; thickness of flange on top: $t_{ft}= 20$; thickness of flange at bottom: $t_{fb}= 18$; web thickness: $t_w=10$. \n",
    "\n",
    "Determine the second moments of the I-beam. "
   ]
  },
  {
   "cell_type": "markdown",
   "id": "68940940",
   "metadata": {},
   "source": [
    "**Solution**: we write a code to get it done using Eq.(\\ref{eqIxym}). \n",
    "First, we write a code function for computing of second moment of an I-beam, using centroids of sub-areas. "
   ]
  },
  {
   "cell_type": "code",
   "execution_count": 8,
   "id": "ad5c339c",
   "metadata": {
    "ExecuteTime": {
     "end_time": "2024-03-27T12:23:40.494753Z",
     "start_time": "2024-03-27T12:23:40.483763Z"
    }
   },
   "outputs": [],
   "source": [
    "def secondMoments_I(hb, wft, wfb, tft, tfb, tw, cxi, cyi, sy=True):\n",
    "    '''Compute the second moments of I-beam cross-sections made of  \n",
    "    rectangles. The reference coordinate is on the bottom edge with  \n",
    "    cthe left-bottom orner as the origin and x-axis on the bottom edge. \n",
    "    The code can be used for any composite area \n",
    "    with up to 3 rectangles. For a T beam, for example, just set tfb=0. \n",
    "    Inputs: \n",
    "    hb:  beam height (total)\n",
    "    wft: width of flange on top\n",
    "    wfb: width of flange at bottom\n",
    "    tft: thickness of flange on top\n",
    "    tfb: thickness of flange at bottom\n",
    "    tw:  web thickness\n",
    "    cxi, cyi: centers of each sub-area wrt the common coordinates. \n",
    "    sy:  if True (I-, T-beam), cxi, cyi are not used, computed here in. \n",
    "         Otherwise, the provided cxi, cyi will be used here.\n",
    "    Return: \n",
    "    Ixx, Iyy, Ixy: 2nd moments\n",
    "    x_bar, y_bar: the centroid  \n",
    "    A: The total area\n",
    "    Ai: areas of each rectangles\n",
    "    '''\n",
    "    width_ai  = np.array([wft, tw,         wfb])   \n",
    "    height_bi = np.array([tft, hb-tft-tfb, tfb])   \n",
    "    \n",
    "    # when whole area is symmetric with respect to y-axis:     \n",
    "    if sy:    #compute the centers (cxi, cyi) for each sub-area. \n",
    "        cxi = np.array([wfb/2,  wfb/2,  wfb/2])\n",
    "        cyi = np.array([hb-tft/2, (hb-tft-tfb)/2+tfb, tfb/2])\n",
    "\n",
    "    print(f\"Center of sub-areas [L]:\\n x = {cxi} \\n y = {cyi}\")\n",
    "    \n",
    "    Ai = width_ai*height_bi\n",
    "    A = np.sum(Ai)\n",
    "    print(f\"Areas of sub-areas = {Ai} [L^2]\")\n",
    "    print(f\"Areas of I-beam = {A} [L^2]\")\n",
    "\n",
    "    x_bar = np.sum(cxi*Ai)/A\n",
    "    y_bar = np.sum(cyi*Ai)/A\n",
    "\n",
    "    print(f\"The centroid = ({x_bar}, {y_bar}) [L]\")\n",
    "    \n",
    "    # shifts the coordinates to the centroid of the whole area:\n",
    "    xi_bar = cxi - x_bar\n",
    "    yi_bar = cyi - y_bar\n",
    "    \n",
    "    print(f\"New center of sub-areas [L]:\\n x = {xi_bar}\\n y = {yi_bar}\")\n",
    "    \n",
    "    Ixx = np.sum(width_ai*height_bi**3/12 + yi_bar**2 * Ai)\n",
    "    Iyy = np.sum(height_bi*width_ai**3/12 + xi_bar**2 * Ai)\n",
    "    Ixy = np.sum(xi_bar*yi_bar * Ai)\n",
    "    \n",
    "    print(f\"2nd moments [L^4]:\\n Ixx = {Ixx}\\n Iyy = {Iyy}\\n Ixy = {Ixy}\")\n",
    "    \n",
    "    return Ixx, Iyy, Ixy, x_bar, y_bar, xi_bar, yi_bar, A, Ai"
   ]
  },
  {
   "cell_type": "code",
   "execution_count": 9,
   "id": "a5a17a31",
   "metadata": {
    "ExecuteTime": {
     "end_time": "2024-03-27T12:23:45.713744Z",
     "start_time": "2024-03-27T12:23:45.697788Z"
    }
   },
   "outputs": [
    {
     "name": "stdout",
     "output_type": "stream",
     "text": [
      "Center of sub-areas [L]:\n",
      " x = [7.5000e-02 7.5000e-02 7.5000e-02] \n",
      " y = [1.9000e-01 1.0000e-01 1.0000e-02]\n",
      "Areas of sub-areas = [2.0000e-03 1.6000e-03 3.0000e-03] [L^2]\n",
      "Areas of I-beam = 0.0066 [L^2]\n",
      "The centroid = (0.075, 0.08636363636363638) [L]\n",
      "New center of sub-areas [L]:\n",
      " x = [0.0000e+00 0.0000e+00 0.0000e+00]\n",
      " y = [1.0364e-01 1.3636e-02 -7.6364e-02]\n",
      "2nd moments [L^4]:\n",
      " Ixx = 4.2852727272727287e-05\n",
      " Iyy = 7.304999999999999e-06\n",
      " Ixy = 0.0\n"
     ]
    }
   ],
   "source": [
    "# preparing data: \n",
    "#hb =.060; wft=.050; wfb=.050; tft=.01; tfb=.0; tw=.01   # T-beam (m)\n",
    "hb =.200; wft=.100; wfb=.150; tft=.02; tfb=.02; tw=.01   # I-beam (m)\n",
    "\n",
    "# call the code function for 2nd moment calculation: \n",
    "I_xx, I_yy, I_xy, x_bar, y_bar, xi_bar, yi_bar, A, Ai =\\\n",
    "      secondMoments_I(hb, wft, wfb, tft, tfb, tw, [0]*2, [0]*2, sy=True)"
   ]
  },
  {
   "cell_type": "markdown",
   "id": "2b3d6fee",
   "metadata": {},
   "source": [
    "Because the cross-section of the I-beam is symmetric with respect to $y$-axis, the product moment of area $I_{xy}$ found is zero. If the cross-section of the beam is asymmetric, $I_{xy}$ will not be zero. The flowing code computes the second moments of an S-beam without left-right symmetry. \n",
    "\n",
    "#### Example: second moments of an S-beam \n",
    "\n",
    "Consider an S-beam with basic shape shown in Fig.\\ref{image:S-BeamCrossSection}. \n",
    "\n",
    "<img src=\"./images/S-BeamCrossSection.png\" alt=\" \" width=\"180\"/><br>\n",
    "\\begin{figure}\n",
    "  \\includegraphics[width=5cm]{}\n",
    "  \\caption{\\label{image:S-BeamCrossSection} Schematic view of an S-beam.}\n",
    "\\end{figure}\n",
    "\n",
    "Its dimensions (mm) are given as follows: \n",
    "\n",
    "> beam height: $h_b=200$; width of flange on top: $w_{ft}=80$; width of flange at bottom: $w_{fb}=80$;  thickness of flange on top: $t_{ft}= 15$; thickness of flange at bottom: $t_{fb}= 15$; web thickness: $t_w=10$. \n",
    "\n",
    "Determine the centroid of the S-beam. \n",
    "\n",
    "**Solution**: Because the cross-section is asymmetric, we need to compute the centroids of these 3 rectangles of the S-beam, and then feed these to secondMoments_I() to compute the 2nd moments of areas. The code is as follows. "
   ]
  },
  {
   "cell_type": "code",
   "execution_count": 27,
   "id": "d50fde8f",
   "metadata": {
    "ExecuteTime": {
     "end_time": "2024-03-23T12:59:40.650143Z",
     "start_time": "2024-03-23T12:59:40.630571Z"
    }
   },
   "outputs": [
    {
     "name": "stdout",
     "output_type": "stream",
     "text": [
      "Center of sub-areas (L):\n",
      " x = [1.1000e-01 7.5000e-02 4.0000e-02] \n",
      " y = [1.9250e-01 1.0000e-01 7.5000e-03]\n",
      "Areas of sub-areas = [1.2000e-03 1.7000e-03 1.2000e-03] (L^2)\n",
      "Areas of I-beam = 0.0040999999999999995 (L^2)\n",
      "The centroid = (0.075, 0.1) (L)\n",
      "New center of sub-areas (L):\n",
      " x = [3.5000e-02 0.0000e+00 -3.5000e-02]\n",
      " y = [9.2500e-02 -1.3878e-17 -9.2500e-02]\n",
      "2nd moments (L)^4:\n",
      " Ixx = 2.467416666666666e-05\n",
      " Iyy = 4.2341666666666675e-06\n",
      " Ixy = 7.770000000000002e-06\n"
     ]
    }
   ],
   "source": [
    "# preparing data: \n",
    "# hb =.2; wft=.1; wfb=.1; tft=.02; tfb=.02; tw=.02            # S-beam \n",
    "hb =.2; wft=.08; wfb=.08; tft=.015; tfb=.015; tw=.01          # S-beam \n",
    "\n",
    "# whole area is asymmetric with respect to y-axis, compute the centroid: \n",
    "cxi = np.array([(wfb-tw)+wft/2, wfb-tw/2, wfb/2]) # from top to bottom\n",
    "cyi = np.array([hb-tft/2, (hb-tft-tfb)/2+tfb, tfb/2])\n",
    "\n",
    "# call the code function: \n",
    "I_xx, I_yy, I_xy, x_bar, y_bar, xi_bar, yi_bar, A, Ai =\\\n",
    "       secondMoments_I(hb, wft, wfb, tft, tfb, tw, cxi, cyi, sy=False)"
   ]
  },
  {
   "cell_type": "markdown",
   "id": "dd83b8e4",
   "metadata": {},
   "source": [
    "Indeed, the product moment of area of this S-beam is nonzero. "
   ]
  },
  {
   "cell_type": "markdown",
   "id": "f48dce27",
   "metadata": {},
   "source": [
    "#### Second moment of area, coordinate rotation \n",
    "\n",
    "Consider a new Cartesian coordinate system $\\mathbf{x'}=(x', y')$ that is rotated by an angle 𝜃 from the current coordinate $\\mathbf{x}=(x, y)$ under which all the 2nd moments of area are known. Suppose $(x, y)$ pass through the centroid of the whole area. We would like to find the 2nd moment of the same area with respect to the rotated $(x', y')$. The formula can be derived using the coordinate transformation rule for coordinate vector discussed in Chapter 2. The new coordinates is given by Eq.(\\ref{eqxxpMI}). Substituting it into Eq.(\\ref{eqIxy}) gives, \n",
    "\n",
    "\\begin{equation} \\label{eqRIxyR}\n",
    "\\begin{split}\n",
    "I_{x'x'} &= \\int_A y'^2\\, dA = \\int_A (-x\\sin𝜃+y\\cos𝜃)^2\\, dA \\\\\n",
    "         &= I_{xx}\\cos^2𝜃 +I_{yy}\\sin^2𝜃 -2I_{xy}\\sin𝜃 \\cos𝜃 \\\\\n",
    "I_{y'y'} &= \\int_A x'^2\\, dA = \\int_A (x\\cos𝜃+y\\sin𝜃)^2\\, dA \\\\\n",
    "         &= I_{xx}\\sin^2𝜃 +I_{yy}\\cos^2𝜃 +2I_{xy}\\sin𝜃 \\cos𝜃 \\\\ \n",
    "I_{x'y'} &= \\int_A x'y'\\, dA = \\int_A (-x\\sin𝜃+y\\cos𝜃)(x\\cos𝜃+y\\sin𝜃) \\, dA \\\\\n",
    "         &= (I_{xx}-I_{yy})\\sin𝜃\\cos𝜃 +I_{xy}(\\cos𝜃^2-\\sin^2𝜃) \n",
    "\\end{split}\n",
    "\\end{equation}\n",
    "\n",
    "where $I_{xx}$, $I_{yy}$ and $I_{xy}$ are these 2nd moments of area with respect to coordinates $(x, y)$ that are passing through the centroid.  Equation (\\ref{eqRIxyR}) is useful when calculating the 2nd moment of an area when coordinates rotate. "
   ]
  },
  {
   "cell_type": "markdown",
   "id": "222e323f",
   "metadata": {},
   "source": [
    "Comparing Eq.(\\ref{eqRIxyR}) with the expression for 2D stresses transformation given in Chapter 2, we found that these are exactly the same, if $I_{xx}$ corresponds $𝜎_{xx}$, $I_{yy}$ corresponds $𝜎_{yy}$, and $-I_{xy}$ corresponds $𝜎_{xy}$. In other words, if we form a 2D tensor: \n",
    "\n",
    "\\begin{equation} \\label{eqIM} \n",
    "\\begin{bmatrix}\n",
    "I_{xx} & -I_{xy} \\\\\n",
    "-I_{xy} & I_{yy} \\end{bmatrix}\n",
    "\\end{equation}\n",
    "\n",
    "The same coordinate transformation (rotation) rule apply. Therefore, the double angle formulas for stress transformation given in Chapter 2 can also be used, which gives \n",
    "\n",
    "\\begin{equation} \\label{eqMohrI}\n",
    "\\begin{split}\n",
    "I_{x'x'}&=\\frac{1}{2}(I_{xx}+I_{yy})+\\frac{1}{2}(I_{xx}-I_{yy})\\cos 2\\theta +I_{xy}\\sin 2\\theta \\\\\n",
    "I_{y'y'}&=\\frac{1}{2}(I_{xx}+I_{yy})-\\frac{1}{2}(I_{xx}-I_{yy})\\cos 2\\theta -I_{xy}\\sin 2\\theta \\\\\n",
    "I_{x'y'}&=\\frac{1}{2}(I_{xx}-I_{yy})\\sin 2\\theta + I_{xy}\\cos 2\\theta\n",
    "\\end{split}\n",
    "\\end{equation}\n",
    "\n",
    "Because of the double angle formula, it is clear that if the rotation of the coordinates is $180^\\circ$, there is no effect at all to all 2nd moments. For example, the x-right, y-up coordinate pair is the same as the x-left and y-down coordinate pair. "
   ]
  },
  {
   "cell_type": "markdown",
   "id": "c1dc57da",
   "metadata": {},
   "source": [
    "#### Principal second moments of area\n",
    "\n",
    "As we did for stress tensor, we can rotate the coordinate to an angle, at which $I_{x'y'}$ vanishes. Such an angle is found from the 3rd equation in Eq.(\\ref{eqMohrI}), which gives,\n",
    "\n",
    "\\begin{equation} \\label{eqt2tI}\n",
    "\\tan 2\\theta = -\\frac{2I_{xy}}{I_{xx}-I_{yy}} \n",
    "\\end{equation}\n",
    "\n",
    "The axis with $I_{x'y'}=0$ is called **principal axis**. The corresponding second moments of area are called **principal moments of area**. This double angle formula is convenient for calculating the rotation angle needed to arrive at the principal axis. A list of principal moments of are for various regular shape can be found at the [wikipage](https://en.wikipedia.org/wiki/List_of_second_moments_of_area). "
   ]
  },
  {
   "cell_type": "markdown",
   "id": "aebd4fba",
   "metadata": {},
   "source": [
    "#### Example: second moments of area after coordinate rotation\n",
    "\n",
    "Using the second moments of area obtained in the previous example, compute the new second moments of area when the coordinates are rotated by $30^\\circ$. \n",
    "\n",
    "**Solution**: We write first the following code function to do this work, which can be used for future works. "
   ]
  },
  {
   "cell_type": "code",
   "execution_count": 28,
   "id": "a0235428",
   "metadata": {
    "ExecuteTime": {
     "end_time": "2024-03-23T13:05:08.229777Z",
     "start_time": "2024-03-23T13:05:08.219716Z"
    }
   },
   "outputs": [],
   "source": [
    "def Ixx2IXX(Ixx, Iyy, Ixy, 𝜃):\n",
    "    '''Coordinate transformation for second moments of area.\n",
    "    Ixx, Iyy, Ixy: for original (x,y) \n",
    "    IXX, IYY, IXY: for (X,Y) that is 𝜃-rotated from (x,y)\n",
    "    '''\n",
    "    c = np.cos(𝜃); s = np.sin(𝜃)\n",
    "    c2= c**2;      s2= s**2;  cs = c*s\n",
    "    IXX = Ixx*c2 + Iyy*s2 - 2*Ixy*cs \n",
    "    IYY = Ixx*s2 + Iyy*c2 + 2*Ixy*cs \n",
    "    IXY = (Ixx-Iyy)*cs + Ixy*(c2 - s2) \n",
    "    \n",
    "    return IXX, IYY, IXY"
   ]
  },
  {
   "cell_type": "markdown",
   "id": "baf80021",
   "metadata": {},
   "source": [
    "Find the new second moments of area using Ixx2IXX(). "
   ]
  },
  {
   "cell_type": "code",
   "execution_count": 29,
   "id": "3f9db0a2",
   "metadata": {
    "ExecuteTime": {
     "end_time": "2024-03-23T13:05:18.691127Z",
     "start_time": "2024-03-23T13:05:18.676169Z"
    }
   },
   "outputs": [
    {
     "name": "stdout",
     "output_type": "stream",
     "text": [
      "2nd moment of area wrt the principal axis (m^4):\n",
      "IXX= 1.2835e-05, IYY= 1.6073e-05,IXY= 1.2736e-05\n"
     ]
    }
   ],
   "source": [
    "#Ixx = 3.936e-05; Iyy = 9.840e-06; Ixy = 1.440e-06             # (m^4)\n",
    "Ixx = I_xx   \n",
    "Iyy = I_yy  \n",
    "Ixy = I_xy \n",
    "\n",
    "𝜃 = 30.0\n",
    "IXX, IYY, IXY = Ixx2IXX(Ixx, Iyy, Ixy, np.deg2rad(𝜃))\n",
    "print(f\"2nd moment of area wrt the principal axis (m^4):\\n\"\n",
    "      f\"IXX= {IXX:.4e}, IYY= {IYY:.4e},IXY= {IXY:.4e}\")"
   ]
  },
  {
   "cell_type": "markdown",
   "id": "2b61ca7b",
   "metadata": {},
   "source": [
    "#### Example: the principal second moments of area\n",
    "\n",
    "Using the second moments of area obtained in the previous example, compute the principal second moments of area, and its direction. \n",
    "\n",
    "**Solution**: "
   ]
  },
  {
   "cell_type": "code",
   "execution_count": 30,
   "id": "44a3d946",
   "metadata": {
    "ExecuteTime": {
     "end_time": "2024-03-23T13:05:44.703138Z",
     "start_time": "2024-03-23T13:05:44.689175Z"
    }
   },
   "outputs": [
    {
     "name": "stdout",
     "output_type": "stream",
     "text": [
      "Angle to the principal axis 𝜃 = -0.3250220453336827 (rad)\n",
      "Angle to the principal axis 𝜃 = -9.311195723164865∘\n"
     ]
    }
   ],
   "source": [
    "# Compute the angle 𝜃 from to principle axis for the 2nd moment: \n",
    "#Ixx = 3.936e-05; Iyy = 9.840e-06; Ixy = 1.440e-06             # (m^4)\n",
    "\n",
    "tan2𝜃 = -2*Ixy/(Ixx-Iyy)\n",
    "𝜃 = np.arctan(tan2𝜃)/2 \n",
    "print(f\"Angle to the principal axis 𝜃 = {𝜃} (rad)\")\n",
    "print(f\"Angle to the principal axis 𝜃 = {𝜃*90/np.pi}∘\")"
   ]
  },
  {
   "cell_type": "code",
   "execution_count": 31,
   "id": "2631b75c",
   "metadata": {
    "ExecuteTime": {
     "end_time": "2024-03-23T13:06:03.142173Z",
     "start_time": "2024-03-23T13:06:03.132195Z"
    }
   },
   "outputs": [
    {
     "name": "stdout",
     "output_type": "stream",
     "text": [
      "2nd moment of area wrt the principal axis (m^4):\n",
      "IXX= 2.7292e-05, IYY= 1.6159e-06,IXY= 0.0000e+00\n"
     ]
    }
   ],
   "source": [
    "# Compute the principle 2nd moment of area: \n",
    "\n",
    "IXX, IYY, IXY = Ixx2IXX(Ixx, Iyy, Ixy,  𝜃)            \n",
    "print(f\"2nd moment of area wrt the principal axis (m^4):\\n\"\n",
    "      f\"IXX= {IXX:.4e}, IYY= {IYY:.4e},IXY= {IXY:.4e}\")"
   ]
  },
  {
   "cell_type": "markdown",
   "id": "1cad44b7",
   "metadata": {},
   "source": [
    "#### Use of eigenvalue solver\n",
    "\n",
    "It is not recommended, but we can also use eigenvalue solver to find the principle axis for the 2nd moments. However, we need some extra work to determine the sign of the angle of the direction cosines. The details is as follows.  \n",
    "\n",
    "First, form the I tensor, and invoke an eigenvalue solver. "
   ]
  },
  {
   "cell_type": "code",
   "execution_count": 32,
   "id": "1b2c93c5",
   "metadata": {
    "ExecuteTime": {
     "end_time": "2024-03-23T13:07:20.947731Z",
     "start_time": "2024-03-23T13:07:20.931774Z"
    }
   },
   "outputs": [
    {
     "name": "stdout",
     "output_type": "stream",
     "text": [
      "Eigenvalues of I = [2.7292e-05 1.6159e-06]\n",
      "Eigenvectors of I: \n",
      "[[9.4764e-01 3.1933e-01]\n",
      " [-3.1933e-01 9.4764e-01]]\n",
      "Principal axis (arccos(x,x') =±0.3250220453336826 (rad)\n",
      "Principal axis (arccos(x,y') =±1.8958183721285793 (rad)\n"
     ]
    }
   ],
   "source": [
    "#Ixx = 3.936e-05; Iyy = 9.840e-06; Ixy = 1.440e-06             # (m^4)\n",
    "\n",
    "I = np.array([[ Ixx, -Ixy],\n",
    "              [-Ixy,  Iyy]])\n",
    "e, v = lg.eig(I)\n",
    "print(f\"Eigenvalues of I = {e}\")    # This gives principle IXX and TYY\n",
    "\n",
    "print(f\"Eigenvectors of I: \\n{v}\")  # This gives the direction cosines\n",
    "print(f\"Principal axis (arccos(x,x') =±{np.arccos(v[0,0])} (rad)\")\n",
    "print(f\"Principal axis (arccos(x,y') =±{np.arccos(v[1,0])} (rad)\")"
   ]
  },
  {
   "cell_type": "markdown",
   "id": "a329acff",
   "metadata": {
    "ExecuteTime": {
     "end_time": "2024-01-15T21:16:36.353116Z",
     "start_time": "2024-01-15T21:16:36.330968Z"
    }
   },
   "source": [
    "We obtained the same values for the principal 2nd moment of area. Because the cosine value can correspond to both positive and negative angles. We need to determine the sign of angle between $x$ and $x'$. This can be done by computing $I_{XX}$, $I_{YY}$ and $I_{XY}$ (or just $I_{XY}$) using the positive angle and negative angle, using our code function Ixx2IXX(). We should choose the one that gives $I_{XY}=0$. The code is as follows. "
   ]
  },
  {
   "cell_type": "code",
   "execution_count": 33,
   "id": "ce9f66a5",
   "metadata": {
    "ExecuteTime": {
     "end_time": "2024-03-23T13:08:14.478649Z",
     "start_time": "2024-03-23T13:08:14.463683Z"
    }
   },
   "outputs": [
    {
     "name": "stdout",
     "output_type": "stream",
     "text": [
      "2nd moment of area wrt the principal axis (m^4):\n",
      "IXX= 1.7887e-05, IYY= 1.1021e-05,IXY= 1.2371e-05\n",
      "\n",
      "2nd moment of area wrt the principal axis (m^4):\n",
      "IXX= 2.7292e-05, IYY= 1.6159e-06,IXY= 8.4703e-22\n"
     ]
    }
   ],
   "source": [
    "n1 = np.arccos(v[0,0])  # arccos(x,x')\n",
    "\n",
    "IXX, IYY, IXY = Ixx2IXX(Ixx, Iyy, Ixy,  n1)            # take positive\n",
    "print(f\"2nd moment of area wrt the principal axis (m^4):\\n\"\n",
    "      f\"IXX= {IXX:.4e}, IYY= {IYY:.4e},IXY= {IXY:.4e}\")\n",
    "\n",
    "IXX, IYY, IXY = Ixx2IXX(Ixx, Iyy, Ixy, -n1)            # take negative\n",
    "print(f\"\\n2nd moment of area wrt the principal axis (m^4):\\n\"\n",
    "      f\"IXX= {IXX:.4e}, IYY= {IYY:.4e},IXY= {IXY:.4e}\")"
   ]
  },
  {
   "cell_type": "markdown",
   "id": "5deefc7e",
   "metadata": {},
   "source": [
    "We shall then choose the negative sign. We can compare the results with that obtained using Eq.(\\ref{eqt2tI}). "
   ]
  },
  {
   "cell_type": "code",
   "execution_count": 34,
   "id": "3f605f55",
   "metadata": {
    "ExecuteTime": {
     "end_time": "2024-03-23T13:08:29.165215Z",
     "start_time": "2024-03-23T13:08:29.153212Z"
    }
   },
   "outputs": [
    {
     "name": "stdout",
     "output_type": "stream",
     "text": [
      "Principal axis (arccos(x,x') =-0.3250220453336826 (rad)\n",
      "Principal axis (arccos(x,x') =-18.622391446329726∘\n",
      "𝜃1 to the principal axis = -0.3250220453336827 (rad)\n"
     ]
    }
   ],
   "source": [
    "print(f\"Principal axis (arccos(x,x') =-{np.arccos(v[0,0])} (rad)\")\n",
    "print(f\"Principal axis (arccos(x,x') =-{np.arccos(v[0,0])*180/np.pi}∘\")\n",
    "print(f\"𝜃1 to the principal axis = {np.arctan(-2*Ixy/(Ixx-Iyy))/2} (rad)\")"
   ]
  },
  {
   "cell_type": "markdown",
   "id": "c21cb2d0",
   "metadata": {},
   "source": [
    "We obtained the same results. \n",
    "\n",
    "The other principle axis should be orthogonal to $𝜃_1$, and we are done. If interested, readers can also do the same to determine the sign of the 2nd cosine angle between $x$ and $y'$: "
   ]
  },
  {
   "cell_type": "code",
   "execution_count": 35,
   "id": "b141c8a5",
   "metadata": {
    "ExecuteTime": {
     "end_time": "2024-03-23T13:08:55.238416Z",
     "start_time": "2024-03-23T13:08:55.222343Z"
    }
   },
   "outputs": [
    {
     "name": "stdout",
     "output_type": "stream",
     "text": [
      "2nd moment of area wrt the principal axis (m^4):\n",
      "IXX= 1.1021e-05, IYY= 1.7887e-05,IXY= -1.2371e-05\n",
      "\n",
      "2nd moment of area wrt the principal axis (m^4):\n",
      "IXX= 1.6159e-06, IYY= 2.7292e-05,IXY= 0.0000e+00\n"
     ]
    }
   ],
   "source": [
    "n2 = np.arccos(v[1,0])  # arccos(x,y')\n",
    "\n",
    "IXX, IYY, IXY = Ixx2IXX(Ixx, Iyy, Ixy,  n2)            # take positive\n",
    "print(f\"2nd moment of area wrt the principal axis (m^4):\\n\"\n",
    "      f\"IXX= {IXX:.4e}, IYY= {IYY:.4e},IXY= {IXY:.4e}\")\n",
    "\n",
    "IXX, IYY, IXY = Ixx2IXX(Ixx, Iyy, Ixy, -n2)            # take negative\n",
    "print(f\"\\n2nd moment of area wrt the principal axis (m^4):\\n\"\n",
    "      f\"IXX= {IXX:.4e}, IYY= {IYY:.4e},IXY= {IXY:.4e}\")"
   ]
  },
  {
   "cell_type": "markdown",
   "id": "aee57d92",
   "metadata": {
    "ExecuteTime": {
     "end_time": "2024-01-15T21:57:44.247066Z",
     "start_time": "2024-01-15T21:57:44.225168Z"
    }
   },
   "source": [
    "We shall take that negative sign also. "
   ]
  },
  {
   "cell_type": "code",
   "execution_count": 36,
   "id": "83167ed1",
   "metadata": {
    "ExecuteTime": {
     "end_time": "2024-03-23T13:09:10.876247Z",
     "start_time": "2024-03-23T13:09:10.865151Z"
    }
   },
   "outputs": [
    {
     "name": "stdout",
     "output_type": "stream",
     "text": [
      "Principal axis (arccos(x,y') =-1.8958183721285793 (rad)\n",
      "Principal axis (arccos(x,y') =-108.62239144632973∘\n"
     ]
    }
   ],
   "source": [
    "print(f\"Principal axis (arccos(x,y') =-{n2} (rad)\")\n",
    "print(f\"Principal axis (arccos(x,y') =-{n2*180/np.pi}∘\") "
   ]
  },
  {
   "cell_type": "markdown",
   "id": "659f6531",
   "metadata": {},
   "source": [
    "This additional work is because the eigenvalue solver gives only the direction cosine values. However, the arcos function is multivalued in $[-\\pi, \\pi]$. Only one of which is the correct answer to our mechanics problem. All these computations are very fast, and takes only milliseconds, but we do need to figure out how to find the correct one. In contrast, Eq.(\\ref{eqt2tI}) is easier to use, because $\\arctan(x)$ is single-valued for $x$ in $[-\\infty, \\infty]$. "
   ]
  },
  {
   "cell_type": "markdown",
   "id": "fd081c6c",
   "metadata": {},
   "source": [
    "### Polar moment of area\n",
    "\n",
    "We have seen the Polar moment of area, $J$, in Chapter 9 when study bars subjected to torsion. It is the stiffness of the bar from the shape and size of the cross-sectional area. We have derived the formula for compute its value for a circular cross-sectional area: $J_z=\\frac{\\pi R^4}{2}$, where $R$ is the radius of the cross-section. We now present a general approach for computing $J_z$ for other shapes of areas, using the second moment of areas $I_{xx}$ and $I_{yy}$, and the perpendicular axis theorem. \n",
    "\n",
    "#### Perpendicular axis theorem\n",
    "\n",
    "The theorem is expressed as\n",
    "\n",
    "\\begin{equation} \\label{eqJI}\n",
    "J_z =  I_{xx}+ I_{yy} \n",
    "\\end{equation}\n",
    "\n",
    "Because we know how to compute $I_{xx}$ and $I_{yy}$ for a given area. This theorem gives a straight forward method to compute $J_z$ for the same area. On the other hand, if we know $J_z$ it can also help to obtain $I_{xx}$ and $I_{yy}$. "
   ]
  },
  {
   "cell_type": "markdown",
   "id": "3d5b5542",
   "metadata": {},
   "source": [
    "#### Proof of the perpendicular axis theorem\n",
    "\n",
    "The proof is straightforward and needs only to use the Pythagorean theorem: \n",
    "\n",
    "\\begin{equation} \\label{eqJr2}\n",
    "\\begin{split}\n",
    "J_z & = \\int_A r^{2} dA \\\\\n",
    "& = \\int_A (x^2 + y^2) dA \\\\\n",
    "& = \\int_A  x^2  dA + \\int_A   y^2 dA \\\\\n",
    "& = I_{xx}+ I_{yy} \n",
    "\\end{split}\n",
    "\\end{equation}\n",
    "\n",
    "#### Other useful cases\n",
    "\n",
    "If the area is **rotational symmetric**, such as circles and hollow circles, we have:\n",
    "\n",
    "\\begin{equation} \\label{eqJ2I}\n",
    "J_z = 2 I_{xx}  \\;\\; \\text{ or } \\;\\;  J_z = 2 I_{yy} \n",
    "\\end{equation}\n",
    "\n",
    "For an **annulus** (hollow circles) area with inner radius $R_I$ and outer radius $R_O$, the second polar  moment of area $J$ is calculated using \n",
    "\n",
    "\\begin{equation} \\label{eqJab}\n",
    "\\boxed{\n",
    "J_z=\\int_A r^2 dA =  2𝜋 \\int_a^b r^3 dr = \\frac{𝜋(R_O^4-R_I^4)}{2} }\n",
    "\\end{equation}\n",
    "\n",
    "Using Eq.(\\ref{eqJ2I}), we have the 2nd moment of area for an annulus area: \n",
    "\n",
    "\\begin{equation} \\label{eqIii}\n",
    "\\boxed{\n",
    "I_{xx}=I_{yy}=\\frac{1}{2}J_z=\\frac{𝜋(R_O^4-R_I^4)}{4} }\n",
    "\\end{equation}\n",
    "\n",
    "For a **circular** (solid) area with radius $R$, we have\n",
    "\n",
    "\\begin{equation} \\label{eqsIii}\n",
    "\\boxed{\n",
    "I_{xx}=I_{yy}=\\frac{1}{2}J_z=\\frac{𝜋R^4}{4} }\n",
    "\\end{equation}\n",
    "\n",
    "A list of second moments and polar moment of area of some other shapes can be found at the [wikipage](https://en.wikipedia.org/wiki/List_of_second_moments_of_area)."
   ]
  },
  {
   "cell_type": "markdown",
   "id": "7cef83bd",
   "metadata": {},
   "source": [
    "### Remarks\n",
    "\n",
    "This section studies properties of areas, related to mechanics of materials. Area is the most basic property and used in all mechanics problems. The first and second moments of area are particularly useful in beam members. The polar moment of area is essential for bars subjected to torsion. \n",
    "\n",
    "For irregular shape of areas, we do not usually have closed-form formulas for their properties. Because all these properties can be computed vai integration, one can always compute these via numerical integration without much difficulty.  \n",
    "\n",
    "For standard beams that produced in the industry, the cross-sections may not be regular. Often these properties are provided by the manufactures or standardized database. Designers can directly make use of those. \n",
    "\n",
    "Except area, all these properties change when the coordinates transforms. The formulas are essentially the same as we do for vectors (first order tensor) and stress tensor (2nd order tensor). The rule for transformation has been provided together with codes. "
   ]
  }
 ],
 "metadata": {
  "kernelspec": {
   "display_name": "Python 3 (ipykernel)",
   "language": "python",
   "name": "python3"
  },
  "language_info": {
   "codemirror_mode": {
    "name": "ipython",
    "version": 3
   },
   "file_extension": ".py",
   "mimetype": "text/x-python",
   "name": "python",
   "nbconvert_exporter": "python",
   "pygments_lexer": "ipython3",
   "version": "3.9.16"
  },
  "latex_envs": {
   "LaTeX_envs_menu_present": true,
   "autoclose": true,
   "autocomplete": true,
   "bibliofile": "biblio.bib",
   "cite_by": "apalike",
   "current_citInitial": 1,
   "eqLabelWithNumbers": true,
   "eqNumInitial": 1,
   "hotkeys": {
    "equation": "Ctrl-E",
    "itemize": "Ctrl-I"
   },
   "labels_anchors": true,
   "latex_user_defs": false,
   "report_style_numbering": true,
   "user_envs_cfg": false
  },
  "toc": {
   "base_numbering": "10",
   "nav_menu": {},
   "number_sections": true,
   "sideBar": true,
   "skip_h1_title": true,
   "title_cell": "Table of Contents",
   "title_sidebar": "Contents",
   "toc_cell": true,
   "toc_position": {
    "height": "calc(100% - 180px)",
    "left": "10px",
    "top": "150px",
    "width": "165px"
   },
   "toc_section_display": true,
   "toc_window_display": false
  },
  "varInspector": {
   "cols": {
    "lenName": 16,
    "lenType": 16,
    "lenVar": 40
   },
   "kernels_config": {
    "python": {
     "delete_cmd_postfix": "",
     "delete_cmd_prefix": "del ",
     "library": "var_list.py",
     "varRefreshCmd": "print(var_dic_list())"
    },
    "r": {
     "delete_cmd_postfix": ") ",
     "delete_cmd_prefix": "rm(",
     "library": "var_list.r",
     "varRefreshCmd": "cat(var_dic_list()) "
    }
   },
   "types_to_exclude": [
    "module",
    "function",
    "builtin_function_or_method",
    "instance",
    "_Feature"
   ],
   "window_display": false
  }
 },
 "nbformat": 4,
 "nbformat_minor": 5
}
