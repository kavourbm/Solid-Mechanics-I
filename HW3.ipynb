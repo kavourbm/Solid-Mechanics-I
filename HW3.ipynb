{
 "cells": [
  {
   "cell_type": "markdown",
   "id": "b304cbcf",
   "metadata": {},
   "source": [
    "# Homeworks for SM-I course"
   ]
  },
  {
   "cell_type": "markdown",
   "id": "17e6b181",
   "metadata": {},
   "source": [
    "# Homework 3: Understanding displacements, strains and coordinate transformation"
   ]
  },
  {
   "cell_type": "markdown",
   "id": "3dfc91fa",
   "metadata": {},
   "source": [
    "Consider a 3D solid brick shown\n",
    "\n",
    "<img src=\"images/SolidBrick.png\" alt=\" \" width=\"200\"/><br>\n",
    "\n",
    "\n",
    "The displacements are given in the following formulas.   \n",
    "\n",
    "\\begin{equation}\n",
    "\\begin{split}\n",
    "u &= c_1 + c_2 xyz\\\\\n",
    "v &= c_3 + c_4 xyz\\\\\n",
    "w &= c_5 + c_6 xyz\n",
    "\\end{split}\n",
    "\\end{equation}\n",
    "\n",
    "where $c_1, c_2, ..., c_6 $ are constants. Through a measurement, the displacements at point E are found as $(0.004, 0.002, -0.004)$ (m), and point F are found as $(-0.004, -0.002, 0.004)$ (m)."
   ]
  },
  {
   "cell_type": "markdown",
   "id": "9ffe6e09",
   "metadata": {},
   "source": [
    "1) Determine the functions for all the displacement components.  \n",
    "\n",
    "2) Compute the gradient of the displacement vector functions.  \n",
    "\n",
    "3) Compute the strain functions in the solid, and the values of the strains at pint E. \n",
    "\n",
    "4) Compute the normal strains at point E along the $\\overrightarrow{OE}$ direction, and that along $\\overrightarrow{CE}$ direction.  \n",
    "\n",
    "5) Compute the shear strains at point E between $\\overrightarrow{EG}$ and $\\overrightarrow{EB}$.\n",
    "\n",
    "6) Compute the principal strains, and strain invariants. \n",
    "\n",
    "7) Rotate the coordinates by $30^°$ about $y$-axis, and find the displacements at point E in the new coordinates system. \n",
    "\n",
    "8) Rotate the coordinates by $30^°$ about $y$-axis, and find the strains at point E in the new coordinates system. "
   ]
  },
  {
   "cell_type": "code",
   "execution_count": 732,
   "id": "0afabc9b",
   "metadata": {},
   "outputs": [],
   "source": [
    "# Place curse in this cell, and press Ctrl+Enter to import dependences. \n",
    "import sys                         # for accessing the computer system\n",
    "sys.path.append('../grbin/')  # Change to the directory in your system \n",
    "\n",
    "from commonImports import *      # Import dependences from '../grbin/'\n",
    "import grcodes as gr                 # Import the module of the author\n",
    "#importlib.reload(gr)            # When grcodes is modified, reload it\n",
    "\n",
    "from continuum_mechanics import vector \n",
    "init_printing(use_unicode=True)      # For latex-like quality printing \n",
    "np.set_printoptions(precision=4,suppress=True)  # Digits in print-outs"
   ]
  },
  {
   "cell_type": "markdown",
   "id": "d28fbd01",
   "metadata": {},
   "source": [
    "1. "
   ]
  },
  {
   "cell_type": "code",
   "execution_count": 733,
   "id": "c8050b67",
   "metadata": {},
   "outputs": [],
   "source": [
    "x, y, z = symbols(\"x, y, z\")             # define symbolic coordinates\n",
    "c1, c2, c3, c4, c5, c6 = symbols(\"c_1, c_2, c_3, c_4, c_5, c_6\")     \n",
    "u = c1+c2*x*y*z\n",
    "v = c3+c4*x*y*z\n",
    "w = c5+c6*x*y*z\n",
    "xE = {x:3/2, y:1, z:2}                        # Coordinates at point E\n",
    "xF = {x:0, y:1, z:2}                          # Coordinates at point F\n",
    "dE = [0.004, 0.002, -0.004]   # × 1e-3                    # displacment at point E\n",
    "dF = [-0.004, -0.002, 0.004]  # x 1e-3                    # displacment at point F \n",
    "sln_cs1=sp.solve([u.subs(xE)-dE[0],v.subs(xE)-dE[1],w.subs(xE)-dE[2]],\n",
    "                [c1, c3, c5])\n",
    "u = u.subs(sln_cs1)\n",
    "v = v.subs(sln_cs1)\n",
    "w = w.subs(sln_cs1)\n",
    "sln_cs2=sp.solve([u.subs(xF)-dF[0],v.subs(xF)-dF[1],w.subs(xF)-dF[2]],\n",
    "                [c2, c4, c6])"
   ]
  },
  {
   "cell_type": "code",
   "execution_count": 734,
   "id": "ca16d613",
   "metadata": {},
   "outputs": [
    {
     "name": "stdout",
     "output_type": "stream",
     "text": [
      "The displacement functions are found as:\n"
     ]
    },
    {
     "data": {
      "text/latex": [
       "$\\displaystyle \\left[\\begin{matrix}0.002667 x y z - 0.004 & 0.001333 x y z - 0.002 & - 0.002667 x y z + 0.004\\end{matrix}\\right]$"
      ],
      "text/plain": [
       "[0.002667⋅x⋅y⋅z - 0.004  0.001333⋅x⋅y⋅z - 0.002  -0.002667⋅x⋅y⋅z + 0.004]"
      ]
     },
     "execution_count": 734,
     "metadata": {},
     "output_type": "execute_result"
    }
   ],
   "source": [
    "U = Matrix([u.subs(sln_cs2), v.subs(sln_cs2), w.subs(sln_cs2)])\n",
    "gr.printM(U.T, 'The displacement functions are found as:')"
   ]
  },
  {
   "cell_type": "markdown",
   "id": "e4016964",
   "metadata": {},
   "source": [
    "2. "
   ]
  },
  {
   "cell_type": "code",
   "execution_count": 735,
   "id": "3899c7ca",
   "metadata": {},
   "outputs": [
    {
     "name": "stdout",
     "output_type": "stream",
     "text": [
      "Displacement gradient\n"
     ]
    },
    {
     "data": {
      "text/latex": [
       "$\\displaystyle \\left[\\begin{matrix}0.002667 y z & 0.001333 y z & - 0.002667 y z\\\\0.002667 x z & 0.001333 x z & - 0.002667 x z\\\\0.002667 x y & 0.001333 x y & - 0.002667 x y\\end{matrix}\\right]$"
      ],
      "text/plain": [
       "⎡0.002667⋅y⋅z  0.001333⋅y⋅z  -0.002667⋅y⋅z⎤\n",
       "⎢                                         ⎥\n",
       "⎢0.002667⋅x⋅z  0.001333⋅x⋅z  -0.002667⋅x⋅z⎥\n",
       "⎢                                         ⎥\n",
       "⎣0.002667⋅x⋅y  0.001333⋅x⋅y  -0.002667⋅x⋅y⎦"
      ]
     },
     "execution_count": 735,
     "metadata": {},
     "output_type": "execute_result"
    }
   ],
   "source": [
    "np.set_printoptions(precision=4,suppress=True)\n",
    "\n",
    "# the gradient of the displacement vector functions\n",
    "U_g = vector.grad_vec(U)\n",
    "printM(U_g, 'Displacement gradient', n_dgt=4)"
   ]
  },
  {
   "cell_type": "markdown",
   "id": "266cdb87",
   "metadata": {},
   "source": [
    "3. "
   ]
  },
  {
   "cell_type": "code",
   "execution_count": 736,
   "id": "7e16bad9",
   "metadata": {},
   "outputs": [
    {
     "name": "stdout",
     "output_type": "stream",
     "text": [
      "Strain tensor (small) functions\n"
     ]
    },
    {
     "data": {
      "text/latex": [
       "$\\displaystyle \\left[\\begin{matrix}0.002667 y z & 0.001333 x z + 0.0006667 y z & 0.001333 x y - 0.001333 y z\\\\0.001333 x z + 0.0006667 y z & 0.001333 x z & 0.0006667 x y - 0.001333 x z\\\\0.001333 x y - 0.001333 y z & 0.0006667 x y - 0.001333 x z & - 0.002667 x y\\end{matrix}\\right]$"
      ],
      "text/plain": [
       "⎡        0.002667⋅y⋅z          0.001333⋅x⋅z + 0.0006667⋅y⋅z  0.001333⋅x⋅y - 0.\n",
       "⎢                                                                             \n",
       "⎢0.001333⋅x⋅z + 0.0006667⋅y⋅z          0.001333⋅x⋅z          0.0006667⋅x⋅y - 0\n",
       "⎢                                                                             \n",
       "⎣0.001333⋅x⋅y - 0.001333⋅y⋅z   0.0006667⋅x⋅y - 0.001333⋅x⋅z         -0.002667⋅\n",
       "\n",
       "001333⋅y⋅z ⎤\n",
       "           ⎥\n",
       ".001333⋅x⋅z⎥\n",
       "           ⎥\n",
       "x⋅y        ⎦"
      ]
     },
     "execution_count": 736,
     "metadata": {},
     "output_type": "execute_result"
    }
   ],
   "source": [
    "strains = 0.5*(U_g +U_g.T)\n",
    "printM(strains,'Strain tensor (small) functions', n_dgt=4)"
   ]
  },
  {
   "cell_type": "code",
   "execution_count": 737,
   "id": "ab3e2637",
   "metadata": {},
   "outputs": [
    {
     "name": "stdout",
     "output_type": "stream",
     "text": [
      "Strain tensor values:\n"
     ]
    },
    {
     "data": {
      "text/latex": [
       "$\\displaystyle \\left[\\begin{matrix}0.005333 & 0.005333 & -0.0006667\\\\0.005333 & 0.004 & -0.003\\\\-0.0006667 & -0.003 & -0.004\\end{matrix}\\right]$"
      ],
      "text/plain": [
       "⎡ 0.005333   0.005333  -0.0006667⎤\n",
       "⎢                                ⎥\n",
       "⎢ 0.005333    0.004      -0.003  ⎥\n",
       "⎢                                ⎥\n",
       "⎣-0.0006667   -0.003     -0.004  ⎦"
      ]
     },
     "execution_count": 737,
     "metadata": {},
     "output_type": "execute_result"
    }
   ],
   "source": [
    "Ev = strains.subs(xE)                         # values of the strains\n",
    "printM(Ev, 'Strain tensor values:', n_dgt=4)"
   ]
  },
  {
   "cell_type": "markdown",
   "id": "96c50c5b",
   "metadata": {},
   "source": [
    "4. "
   ]
  },
  {
   "cell_type": "code",
   "execution_count": 738,
   "id": "d5ddf804",
   "metadata": {},
   "outputs": [
    {
     "name": "stdout",
     "output_type": "stream",
     "text": [
      "The fiber direction N = [0.5571 0.3714 0.7428]\n",
      "Normal strain on fiber N  = 0.0000\n",
      "The fiber direction M = [0. 0. 2.]\n",
      "Normal strain on fiber M = -0.0160\n"
     ]
    }
   ],
   "source": [
    "Ev = np.array(Ev)\n",
    "\n",
    "# normal strain at point E along OE direction:\n",
    "N_OE = np.array([1.5/np.sqrt((1.5**2)+(1**2)+(2**2)),1./np.sqrt((1.5**2)+(1**2)+(2**2)),2./np.sqrt((1.5**2)+(1**2)+(2**2))]) # fiber along O->E\n",
    "print(f'The fiber direction N = {N_OE}')\n",
    "\n",
    "EN_OE = N_OE@Ev@N_OE                     # Normal strain of fiber O->E\n",
    "print(f'Normal strain on fiber N  = {EN_OE:.4f}')\n",
    "\n",
    "# normal strain at point E along CF direction:\n",
    "N_CF = np.array([0, 0, 2.])                        # fiber along E->F\n",
    "print(f'The fiber direction M = {N_CF}')\n",
    "EN_CF = N_CF@Ev@N_CF                      #Normal strain of fiber E->F\n",
    "print(f'Normal strain on fiber M = {EN_CF:.4f}')"
   ]
  },
  {
   "cell_type": "markdown",
   "id": "eb82bc43",
   "metadata": {},
   "source": [
    "5. "
   ]
  },
  {
   "cell_type": "code",
   "execution_count": 739,
   "id": "5fe6302a",
   "metadata": {},
   "outputs": [
    {
     "name": "stdout",
     "output_type": "stream",
     "text": [
      "Shear strain between two fibers = -0.0044\n",
      "Engineering shear strain between two fibers = -0.0089\n"
     ]
    }
   ],
   "source": [
    "N_EG = np.array([1.5/np.sqrt((1.5**2)+(1**2)),1./np.sqrt((1.5**2)+(1**2)),0]) # fiber along E->G\n",
    "\n",
    "N_EB = np.array([0,0,2]) # fiber along E->B\n",
    "\n",
    "E_OP = N_EG@Ev@N_EB          #Shear strain between fiber E->G and E->B\n",
    "print(f'Shear strain between two fibers = {E_OP:.4f}')\n",
    "print(f'Engineering shear strain between two fibers = {2.*E_OP:.4f}')"
   ]
  },
  {
   "cell_type": "markdown",
   "id": "20ef729d",
   "metadata": {},
   "source": [
    "6. "
   ]
  },
  {
   "cell_type": "code",
   "execution_count": 740,
   "id": "56b3f8b5",
   "metadata": {},
   "outputs": [
    {
     "name": "stdout",
     "output_type": "stream",
     "text": [
      "Principal straines (Eigenvalues) = [ 0.0105 -0.     -0.0051]\n"
     ]
    }
   ],
   "source": [
    "Ev2 = np.array([[0.005333,0.005333,-0.000667],[0.005333,0.004000,-0.003000],[-0.000667,-0.003000,-0.004000]])\n",
    "eigenValues, eigenVectors = gr.M_eigen(Ev2)\n",
    "print('Principal straines (Eigenvalues) =',eigenValues)"
   ]
  },
  {
   "cell_type": "markdown",
   "id": "11999850",
   "metadata": {},
   "source": [
    "7. "
   ]
  },
  {
   "cell_type": "code",
   "execution_count": 741,
   "id": "07b022f7",
   "metadata": {},
   "outputs": [
    {
     "name": "stdout",
     "output_type": "stream",
     "text": [
      "Transformation tensor 30.00°, w.r.t. y:\n",
      "[[ 0.866  0.    -0.5  ]\n",
      " [ 0.     1.     0.   ]\n",
      " [ 0.5    0.     0.866]]\n"
     ]
    }
   ],
   "source": [
    "about, theta = 'y', 30.                    # rotation angle and axis\n",
    "Ty, about = gr.transferM(theta, about = about)\n",
    "print(f'Transformation tensor {theta:3.2f}°, w.r.t. {about}:\\n{Ty}')"
   ]
  },
  {
   "cell_type": "code",
   "execution_count": 742,
   "id": "fa1e3235",
   "metadata": {},
   "outputs": [
    {
     "name": "stdout",
     "output_type": "stream",
     "text": [
      "Displacement formulas in the new coordinates\n"
     ]
    },
    {
     "data": {
      "text/latex": [
       "$\\displaystyle \\left[\\begin{matrix}0.002667 x y z - 0.004\\\\0.001333 x y z - 0.002\\\\- 0.002667 x y z + 0.004\\end{matrix}\\right]$"
      ],
      "text/plain": [
       "⎡0.002667⋅x⋅y⋅z - 0.004 ⎤\n",
       "⎢                       ⎥\n",
       "⎢0.001333⋅x⋅y⋅z - 0.002 ⎥\n",
       "⎢                       ⎥\n",
       "⎣-0.002667⋅x⋅y⋅z + 0.004⎦"
      ]
     },
     "execution_count": 742,
     "metadata": {},
     "output_type": "execute_result"
    }
   ],
   "source": [
    "T = gr.transferMs() \n",
    "TU = U.subs(list(zip(T, Matrix(Ty))))\n",
    "gr.printM(TU, 'Displacement formulas in the new coordinates',n_dgt=4)"
   ]
  },
  {
   "cell_type": "code",
   "execution_count": 743,
   "id": "f4a6e715",
   "metadata": {},
   "outputs": [
    {
     "name": "stdout",
     "output_type": "stream",
     "text": [
      "Displacements in the new coordinates\n"
     ]
    },
    {
     "data": {
      "text/latex": [
       "$\\displaystyle \\left[\\begin{matrix}0.004\\\\0.002\\\\-0.004\\end{matrix}\\right]$"
      ],
      "text/plain": [
       "⎡0.004 ⎤\n",
       "⎢      ⎥\n",
       "⎢0.002 ⎥\n",
       "⎢      ⎥\n",
       "⎣-0.004⎦"
      ]
     },
     "execution_count": 743,
     "metadata": {},
     "output_type": "execute_result"
    }
   ],
   "source": [
    "dE30 = Matrix([TU[0].subs(xE),TU[1].subs(xE),TU[2].subs(xE)])\n",
    "gr.printM(dE30, 'Displacements in the new coordinates',n_dgt=4)"
   ]
  },
  {
   "cell_type": "markdown",
   "id": "f09c8c29",
   "metadata": {},
   "source": [
    "8. "
   ]
  },
  {
   "cell_type": "code",
   "execution_count": 744,
   "id": "84bcdfbe",
   "metadata": {},
   "outputs": [],
   "source": [
    "E = Matrix([[\"\\u03B5_11\", \"\\u03B5_12\", \"\\u03B5_13\"],\n",
    "            [\"\\u03B5_12\", \"\\u03B5_22\", \"\\u03B5_23\"],\n",
    "            [\"\\u03B5_13\", \"\\u03B5_23\", \"\\u03B5_33\"]])\n",
    "\n",
    "ES = gr.Tensor2_transfer(T,E)  # use the same function used for stress\n",
    "ES = Matrix(ES)"
   ]
  },
  {
   "cell_type": "code",
   "execution_count": 745,
   "id": "ca78fe90",
   "metadata": {},
   "outputs": [
    {
     "name": "stdout",
     "output_type": "stream",
     "text": [
      "Stress formulas in the new coordinates\n"
     ]
    },
    {
     "data": {
      "text/latex": [
       "$\\displaystyle \\left[\\begin{matrix}0.75 ε_{11} - 0.866 ε_{13} + 0.25 ε_{33} & 0.866 ε_{12} - 0.5 ε_{23} & 0.433 ε_{11} + 0.5 ε_{13} - 0.433 ε_{33}\\\\0.866 ε_{12} - 0.5 ε_{23} & 1.0 ε_{22} & 0.5 ε_{12} + 0.866 ε_{23}\\\\0.433 ε_{11} + 0.5 ε_{13} - 0.433 ε_{33} & 0.5 ε_{12} + 0.866 ε_{23} & 0.25 ε_{11} + 0.866 ε_{13} + 0.75 ε_{33}\\end{matrix}\\right]$"
      ],
      "text/plain": [
       "⎡0.75⋅ε₁₁ - 0.866⋅ε₁₃ + 0.25⋅ε₃₃  0.866⋅ε₁₂ - 0.5⋅ε₂₃  0.433⋅ε₁₁ + 0.5⋅ε₁₃ - 0\n",
       "⎢                                                                             \n",
       "⎢      0.866⋅ε₁₂ - 0.5⋅ε₂₃              1.0⋅ε₂₂              0.5⋅ε₁₂ + 0.866⋅ε\n",
       "⎢                                                                             \n",
       "⎣0.433⋅ε₁₁ + 0.5⋅ε₁₃ - 0.433⋅ε₃₃  0.5⋅ε₁₂ + 0.866⋅ε₂₃  0.25⋅ε₁₁ + 0.866⋅ε₁₃ + \n",
       "\n",
       ".433⋅ε₃₃⎤\n",
       "        ⎥\n",
       "₂₃      ⎥\n",
       "        ⎥\n",
       "0.75⋅ε₃₃⎦"
      ]
     },
     "execution_count": 745,
     "metadata": {},
     "output_type": "execute_result"
    }
   ],
   "source": [
    "TES = ES.subs(list(zip(T, Matrix(Ty))))\n",
    "gr.printM(TES, 'Stress formulas in the new coordinates',n_dgt=4)"
   ]
  },
  {
   "cell_type": "code",
   "execution_count": 746,
   "id": "8f434cf5",
   "metadata": {},
   "outputs": [
    {
     "name": "stdout",
     "output_type": "stream",
     "text": [
      "Strain values in the new coordinates\n"
     ]
    },
    {
     "data": {
      "text/latex": [
       "$\\displaystyle \\left[\\begin{matrix}0.003577 & 0.006119 & 0.003708\\\\0.006119 & 0.004 & 6.842 \\cdot 10^{-5}\\\\0.003708 & 6.842 \\cdot 10^{-5} & -0.002244\\end{matrix}\\right]$"
      ],
      "text/plain": [
       "⎡0.003577  0.006119  0.003708 ⎤\n",
       "⎢                             ⎥\n",
       "⎢0.006119   0.004    6.842e-5 ⎥\n",
       "⎢                             ⎥\n",
       "⎣0.003708  6.842e-5  -0.002244⎦"
      ]
     },
     "execution_count": 746,
     "metadata": {},
     "output_type": "execute_result"
    }
   ],
   "source": [
    "TTSv=TES.subs(list(zip(E,Matrix(Ev2))))\n",
    "gr.printM(TTSv, 'Strain values in the new coordinates', n_dgt=4) "
   ]
  }
 ],
 "metadata": {
  "kernelspec": {
   "display_name": "Python 3 (ipykernel)",
   "language": "python",
   "name": "python3"
  },
  "language_info": {
   "codemirror_mode": {
    "name": "ipython",
    "version": 3
   },
   "file_extension": ".py",
   "mimetype": "text/x-python",
   "name": "python",
   "nbconvert_exporter": "python",
   "pygments_lexer": "ipython3",
   "version": "3.11.3"
  },
  "latex_envs": {
   "LaTeX_envs_menu_present": true,
   "autoclose": true,
   "autocomplete": true,
   "bibliofile": "biblio.bib",
   "cite_by": "apalike",
   "current_citInitial": 1,
   "eqLabelWithNumbers": true,
   "eqNumInitial": 1,
   "hotkeys": {
    "equation": "Ctrl-E",
    "itemize": "Ctrl-I"
   },
   "labels_anchors": false,
   "latex_user_defs": false,
   "report_style_numbering": true,
   "user_envs_cfg": false
  },
  "toc": {
   "base_numbering": "2",
   "nav_menu": {},
   "number_sections": true,
   "sideBar": true,
   "skip_h1_title": true,
   "title_cell": "Table of Contents",
   "title_sidebar": "Contents",
   "toc_cell": false,
   "toc_position": {
    "height": "calc(100% - 180px)",
    "left": "10px",
    "top": "150px",
    "width": "165.562px"
   },
   "toc_section_display": true,
   "toc_window_display": true
  },
  "varInspector": {
   "cols": {
    "lenName": 16,
    "lenType": 16,
    "lenVar": 40
   },
   "kernels_config": {
    "python": {
     "delete_cmd_postfix": "",
     "delete_cmd_prefix": "del ",
     "library": "var_list.py",
     "varRefreshCmd": "print(var_dic_list())"
    },
    "r": {
     "delete_cmd_postfix": ") ",
     "delete_cmd_prefix": "rm(",
     "library": "var_list.r",
     "varRefreshCmd": "cat(var_dic_list()) "
    }
   },
   "types_to_exclude": [
    "module",
    "function",
    "builtin_function_or_method",
    "instance",
    "_Feature"
   ],
   "window_display": false
  }
 },
 "nbformat": 4,
 "nbformat_minor": 5
}
