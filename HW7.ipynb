{
 "cells": [
  {
   "cell_type": "markdown",
   "id": "e6d99eea",
   "metadata": {},
   "source": [
    "# Homeworks for SM-I course\n",
    "\n",
    "Important: \n",
    "\n",
    "1). Please download the latest grcodes, images, and related chapters before working on the homework. \n",
    "\n",
    "2). Both pdf files and the source codes must be submitted, or the work will not be marked.  "
   ]
  },
  {
   "cell_type": "markdown",
   "id": "4dcadcba",
   "metadata": {},
   "source": [
    "## Homework 7: \n",
    "\n",
    "**Question:** Shafts with hollow cross-section subject to a torque"
   ]
  },
  {
   "cell_type": "markdown",
   "id": "0c6c5355",
   "metadata": {},
   "source": [
    "Consider a uniform bar made of Grade-304 stainless steel with shear modulus $ G=85 $ GPa. The cross-section is hollow circular with inner radius of $ a=48 $ mm, outer radius of $ b=50 $ mm. The length of the bar is $ L=0.7m $. It is fixed at $z=0$, and is subjected to a torque of $ T=900 $ Nm at $ z=L $, as shown below.  \n",
    "\n",
    "<img src=\"images/CylinderBarT.png\" alt=\" \" width=\"580\"/><br>\n",
    "\n",
    "Stress on a hollow cylindrical cross-section of a uniform bar.\n",
    "\n",
    "\n",
    "\n",
    "Using the exact formulas calculate: \n",
    "\n",
    "1. The maximum shear stress on the cross-section in the shaft.\n",
    "\n",
    "2. The twist angle at $x=L$.\n",
    "\n",
    "3. The stress components on the cross-section and by the lateral surface in the Cartesian coordinates on the $x$-axis. \n",
    "\n",
    "4. The stress components on the cross-section and by the lateral surface in the Cartesian coordinates at $30^∘$ from the $x$-axis. \n",
    "\n",
    "5. The stress components on the cross-section and by the lateral surface in the Cartesian coordinates on the $y$-axis. \n",
    "\n",
    "6. Compute the principle stresses in the shaft.\n",
    "\n",
    "7. Compute the maximum shear stress in the shaft. \n",
    "\n",
    "8. Assume the wall of the shaft is thin, using the formulas for thin-wall cross-section, repeat items 1 and 2. Compare the results obtained with those obtained using the exact formulas. \n",
    "\n",
    "9. Using the same amount of material, but create a square cross-section with the same thickness. Repeat items 1 and 2. Compare the results obtained with those obtained in item 8. "
   ]
  },
  {
   "cell_type": "code",
   "execution_count": 165,
   "id": "762f56c5",
   "metadata": {},
   "outputs": [],
   "source": [
    "# Place curse in this cell, and press Ctrl+Enter to import dependences. \n",
    "import sys                         # for accessing the computer system\n",
    "sys.path.append('../grbin/')  # Change to the directory in your system \n",
    "\n",
    "from commonImports import *       # Import dependences from '../grbin/'\n",
    "import grcodes as gr                 # Import the module of the author\n",
    "#importlib.reload(gr)            # When grcodes is modified, reload it\n",
    "\n",
    "from continuum_mechanics import vector \n",
    "init_printing(use_unicode=True)      # For latex-like quality printing \n",
    "np.set_printoptions(precision=4,suppress=True, \n",
    "       formatter={'float': '{:0.4e}'.format})   # Digits in print-outs"
   ]
  },
  {
   "cell_type": "markdown",
   "id": "c6fb57d8",
   "metadata": {},
   "source": [
    "1. "
   ]
  },
  {
   "cell_type": "code",
   "execution_count": 166,
   "id": "f6fe6542",
   "metadata": {},
   "outputs": [
    {
     "name": "stdout",
     "output_type": "stream",
     "text": [
      "The polar second moment of area J = 1.4790e-06 (m^4)\n",
      "The maximum shear stress on the cross-section = 3.0425e+01 (MPa)\n"
     ]
    }
   ],
   "source": [
    "T = 900 # Nm, torque\n",
    "a = 0.048; b = 0.05 # m, radii\n",
    "J = np.pi * (b**4 - a**4)/2\n",
    "\n",
    "print(f\"The polar second moment of area J = {J:.4e} (m^4)\")\n",
    "\n",
    "maxshear = T*b/J\n",
    "\n",
    "print(f\"The maximum shear stress on the cross-section = {maxshear*1.0e-6:.4e} (MPa)\")"
   ]
  },
  {
   "cell_type": "markdown",
   "id": "1a2096e3",
   "metadata": {},
   "source": [
    "2. "
   ]
  },
  {
   "cell_type": "code",
   "execution_count": 167,
   "id": "2919ac09",
   "metadata": {},
   "outputs": [
    {
     "name": "stdout",
     "output_type": "stream",
     "text": [
      "Twist angle at x = L = 5.0112e-03 rad or 2.8712e-01°\n"
     ]
    }
   ],
   "source": [
    "G = 85e9 # Pa\n",
    "L = .7 # m\n",
    "theta_t = T/(G*J)\n",
    "\n",
    "print(f\"Twist angle at x = L = {(theta_t*L):.4e} rad or {np.degrees(theta_t*L):.4e}°\")"
   ]
  },
  {
   "cell_type": "markdown",
   "id": "9b3add2c",
   "metadata": {},
   "source": [
    "3. "
   ]
  },
  {
   "cell_type": "code",
   "execution_count": 168,
   "id": "dbb5361a",
   "metadata": {},
   "outputs": [
    {
     "name": "stdout",
     "output_type": "stream",
     "text": [
      "On x-axis: σzx=-0.0000e+00; σzy=3.0425e+01 (MPa)\n"
     ]
    }
   ],
   "source": [
    "theta3 = 0.0 # On the x-axis, 𝜃=0\n",
    "x = b*np.cos(np.deg2rad(theta3))\n",
    "y = b*np.sin(np.deg2rad(theta3))\n",
    "szx3 = -theta_t*G*y\n",
    "szy3 = theta_t*G*x\n",
    "\n",
    "print(f\"On x-axis: σzx={szx3*1.0e-6:.4e}; σzy={szy3*1.0e-6:.4e} (MPa)\")"
   ]
  },
  {
   "cell_type": "markdown",
   "id": "2a0b5a56",
   "metadata": {},
   "source": [
    "4. "
   ]
  },
  {
   "cell_type": "code",
   "execution_count": 169,
   "id": "1bccf7d6",
   "metadata": {},
   "outputs": [
    {
     "name": "stdout",
     "output_type": "stream",
     "text": [
      "at 30°: σzx = -1.5213e+01; σzy = 2.6349e+01 (MPa)\n"
     ]
    }
   ],
   "source": [
    "theta4 = 30\n",
    "rad = theta4*np.pi/180.\n",
    "x = b*np.cos(np.deg2rad(theta4))\n",
    "y = b*np.sin(np.deg2rad(theta4))\n",
    "szx4 =-theta_t*G*y\n",
    "szy4 = theta_t*G*x\n",
    "print(f\"at 30°: σzx = {szx4*1.0e-6:.4e}; σzy = {szy4*1.0e-6:.4e} (MPa)\")"
   ]
  },
  {
   "cell_type": "markdown",
   "id": "1c62285f",
   "metadata": {},
   "source": [
    "5. "
   ]
  },
  {
   "cell_type": "code",
   "execution_count": 170,
   "id": "7a20a50b",
   "metadata": {},
   "outputs": [
    {
     "name": "stdout",
     "output_type": "stream",
     "text": [
      "On y-axis: σzx=-3.0425e+01; σzy=1.8630e-15 (MPa)\n"
     ]
    }
   ],
   "source": [
    "theta5 = 90.0 # On the y-axis, 𝜃=90\n",
    "x = b*np.cos(np.deg2rad(theta5))\n",
    "y = b*np.sin(np.deg2rad(theta5))\n",
    "szx5 = -theta_t*G*y\n",
    "szy5 = theta_t*G*x\n",
    "\n",
    "print(f\"On y-axis: σzx={szx5*1.0e-6:.4e}; σzy={szy5*1.0e-6:.4e} (MPa)\")"
   ]
  },
  {
   "cell_type": "markdown",
   "id": "e5b368de",
   "metadata": {},
   "source": [
    "6. "
   ]
  },
  {
   "cell_type": "code",
   "execution_count": 171,
   "id": "1233beeb",
   "metadata": {},
   "outputs": [],
   "source": [
    "def principalS(S):\n",
    "    '''Compute the principal stresses and their directions.\n",
    "    inputs: \n",
    "       S: given stress tensor, numpy array\n",
    "    return: \n",
    "       principal stresses (eigenValues), their direction cosines\n",
    "       (eigenVectors) ranked by its values. Right-hand-rule is enforced\n",
    "    '''\n",
    "    eigenValues, eigenVectors = lg.eig(S)  \n",
    "\n",
    "    #Sort in order\n",
    "    idx = eigenValues.argsort()[::-1]   \n",
    "    eigenValues = eigenValues[idx]\n",
    "    eigenVectors = eigenVectors[:,idx]\n",
    "    print('Pricipal stress (Eigenvalues):\\n',eigenValues,'\\n')\n",
    "    \n",
    "    # make the first element in the first vector positive (optional):\n",
    "    #eigenVectors[0,:] = eigenVectors[0,:]/np.sign(eigenVectors[0,0])\n",
    "\n",
    "    # Determine the sign for given eigenVector-1 and eigenVector-3\n",
    "    eigenVectors[:,2] = np.cross(eigenVectors[:,0], eigenVectors[:,1])\n",
    "\n",
    "    angle = np.arccos(eigenVectors[0,0])*180/np.pi       # in degree \n",
    "    print(f'Principal stress directions:\\n{eigenVectors}\\n')\n",
    "    print(f\"Possible angles (n1,x)={angle}∘ or {180-angle}∘\")\n",
    "    \n",
    "    return eigenValues, eigenVectors"
   ]
  },
  {
   "cell_type": "code",
   "execution_count": 172,
   "id": "fae6eff3",
   "metadata": {},
   "outputs": [
    {
     "name": "stdout",
     "output_type": "stream",
     "text": [
      "at 90°: σzx = -3.0425e+07; σzy = 1.8630e-09 (Pa) \n",
      "\n",
      "Pricipal stress (Eigenvalues):\n",
      " [3.0425e+07 5.2380e-74 -3.0425e+07] \n",
      "\n",
      "Principal stress directions:\n",
      "[[7.0711e-01 6.1232e-17 7.0711e-01]\n",
      " [-4.3298e-17 1.0000e+00 -4.3298e-17]\n",
      " [-7.0711e-01 7.0373e-50 7.0711e-01]]\n",
      "\n",
      "Possible angles (n1,x)=45.00000000000001∘ or 135.0∘\n",
      "\n",
      " 𝜏_max = 3.0425e+07(Pa)\n"
     ]
    }
   ],
   "source": [
    "theta6 = 90.0 # use the stress components on suface-y\n",
    "x = b*np.cos(np.deg2rad(theta6)); y = b*np.sin(np.deg2rad(theta6))\n",
    "szx6 = -theta_t*G*y\n",
    "szy6 = theta_t*G*x\n",
    "print(f\"at 90°: σzx = {szx6:.4e}; σzy = {szy6:.4e} (Pa) \\n\")\n",
    "s_np = np.array([[0,0,szx6],[0,0,szy6],[szx6,szy6,0]], dtype = float)\n",
    "eigs, eigvs = principalS(s_np)\n",
    "print(f\"\\n 𝜏_max = {(eigs[0]-eigs[-1])/2:.4e}(Pa)\")"
   ]
  },
  {
   "cell_type": "markdown",
   "id": "d829122d",
   "metadata": {},
   "source": [
    "7. "
   ]
  },
  {
   "cell_type": "code",
   "execution_count": 173,
   "id": "01694239",
   "metadata": {},
   "outputs": [
    {
     "data": {
      "text/plain": [
       "array([[3.0425e+07, -1.3173e-09, 1.7993e-10],\n",
       "       [-1.3173e-09, 0.0000e+00, 1.3173e-09],\n",
       "       [-1.7993e-10, 1.3173e-09, -3.0425e+07]])"
      ]
     },
     "execution_count": 173,
     "metadata": {},
     "output_type": "execute_result"
    }
   ],
   "source": [
    "T7, _ = gr.transferM(45., about = 'y') # rotation axis, angle\n",
    "T7@s_np@T7.T"
   ]
  },
  {
   "cell_type": "markdown",
   "id": "f9986f05",
   "metadata": {},
   "source": [
    "8. "
   ]
  },
  {
   "cell_type": "code",
   "execution_count": 174,
   "id": "734e405d",
   "metadata": {},
   "outputs": [
    {
     "name": "stdout",
     "output_type": "stream",
     "text": [
      "The polar second moment of area J = 1.2566e-11 (m^4)\n",
      "The maximum shear stress on the cross-section = 7.1620e+04 (MPa)\n"
     ]
    }
   ],
   "source": [
    "t = b-a\n",
    "R = (b-a)/2\n",
    "J = 2*np.pi*(R**3)*t\n",
    "\n",
    "print(f\"The polar second moment of area J = {J:.4e} (m^4)\")\n",
    "\n",
    "maxshear = T*R/J\n",
    "\n",
    "print(f\"The maximum shear stress on the cross-section = {maxshear*1.0e-6:.4e} (MPa)\")"
   ]
  },
  {
   "cell_type": "code",
   "execution_count": 175,
   "id": "d2b65200",
   "metadata": {},
   "outputs": [
    {
     "name": "stdout",
     "output_type": "stream",
     "text": [
      "Twist angle at x = L = 5.8981e+02 rad or 3.3794e+04°\n"
     ]
    }
   ],
   "source": [
    "G = 85e9 # Pa\n",
    "L = .7 # m\n",
    "theta_t = T/(G*J)\n",
    "\n",
    "print(f\"Twist angle at x = L = {(theta_t*L):.4e} rad or {np.degrees(theta_t*L):.4e}°\")"
   ]
  },
  {
   "cell_type": "markdown",
   "id": "1ad8fe77",
   "metadata": {},
   "source": [
    "9. "
   ]
  },
  {
   "cell_type": "code",
   "execution_count": 176,
   "id": "ce5ea3ed",
   "metadata": {},
   "outputs": [
    {
     "name": "stdout",
     "output_type": "stream",
     "text": [
      "The polar second moment of area J = 2.0000e-12 (m^4)\n",
      "The maximum shear stress on the cross-section = 4.5000e+05 (MPa)\n"
     ]
    }
   ],
   "source": [
    "J = 4*(R**4)/((4*R)/t)\n",
    "\n",
    "print(f\"The polar second moment of area J = {J:.4e} (m^4)\")\n",
    "\n",
    "maxshear = T*R/J\n",
    "\n",
    "print(f\"The maximum shear stress on the cross-section = {maxshear*1.0e-6:.4e} (MPa)\")"
   ]
  },
  {
   "cell_type": "code",
   "execution_count": 177,
   "id": "e6ca73bd",
   "metadata": {},
   "outputs": [
    {
     "name": "stdout",
     "output_type": "stream",
     "text": [
      "Twist angle at x = L = 3.7059e+03 rad or 2.1233e+05°\n"
     ]
    }
   ],
   "source": [
    "G = 85e9 # Pa\n",
    "L = .7 # m\n",
    "theta_t = T/(G*J)\n",
    "\n",
    "print(f\"Twist angle at x = L = {(theta_t*L):.4e} rad or {np.degrees(theta_t*L):.4e}°\")"
   ]
  }
 ],
 "metadata": {
  "kernelspec": {
   "display_name": "Python 3 (ipykernel)",
   "language": "python",
   "name": "python3"
  },
  "language_info": {
   "codemirror_mode": {
    "name": "ipython",
    "version": 3
   },
   "file_extension": ".py",
   "mimetype": "text/x-python",
   "name": "python",
   "nbconvert_exporter": "python",
   "pygments_lexer": "ipython3",
   "version": "3.11.3"
  },
  "latex_envs": {
   "LaTeX_envs_menu_present": true,
   "autoclose": true,
   "autocomplete": true,
   "bibliofile": "biblio.bib",
   "cite_by": "apalike",
   "current_citInitial": 1,
   "eqLabelWithNumbers": true,
   "eqNumInitial": 1,
   "hotkeys": {
    "equation": "Ctrl-E",
    "itemize": "Ctrl-I"
   },
   "labels_anchors": false,
   "latex_user_defs": false,
   "report_style_numbering": true,
   "user_envs_cfg": false
  },
  "toc": {
   "base_numbering": "2",
   "nav_menu": {},
   "number_sections": true,
   "sideBar": true,
   "skip_h1_title": true,
   "title_cell": "Table of Contents",
   "title_sidebar": "Contents",
   "toc_cell": false,
   "toc_position": {
    "height": "calc(100% - 180px)",
    "left": "10px",
    "top": "150px",
    "width": "165.562px"
   },
   "toc_section_display": true,
   "toc_window_display": false
  },
  "varInspector": {
   "cols": {
    "lenName": 16,
    "lenType": 16,
    "lenVar": 40
   },
   "kernels_config": {
    "python": {
     "delete_cmd_postfix": "",
     "delete_cmd_prefix": "del ",
     "library": "var_list.py",
     "varRefreshCmd": "print(var_dic_list())"
    },
    "r": {
     "delete_cmd_postfix": ") ",
     "delete_cmd_prefix": "rm(",
     "library": "var_list.r",
     "varRefreshCmd": "cat(var_dic_list()) "
    }
   },
   "types_to_exclude": [
    "module",
    "function",
    "builtin_function_or_method",
    "instance",
    "_Feature"
   ],
   "window_display": false
  }
 },
 "nbformat": 4,
 "nbformat_minor": 5
}
