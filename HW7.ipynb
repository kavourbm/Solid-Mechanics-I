{
 "cells": [
  {
   "cell_type": "markdown",
   "id": "e6d99eea",
   "metadata": {},
   "source": [
    "# Homeworks for SM-I course\n",
    "\n",
    "Important: \n",
    "\n",
    "1). Please download the latest grcodes, images, and related chapters before working on the homework. \n",
    "\n",
    "2). Both pdf files and the source codes must be submitted, or the work will not be marked.  "
   ]
  },
  {
   "cell_type": "markdown",
   "id": "4dcadcba",
   "metadata": {},
   "source": [
    "## Homework 7: \n",
    "\n",
    "**Question:** Shafts with hollow cross-section subject to a torque"
   ]
  },
  {
   "cell_type": "markdown",
   "id": "0c6c5355",
   "metadata": {},
   "source": [
    "Consider a uniform bar made of Grade-304 stainless steel with shear modulus $G=$85 GPa. The cross-section is hollow circular with inner radius of $a=48$mm, outer radius of $b=50$ mm. The length of the bar is $L=0.7m$. It is fixed at $z=0$, and is subjected to a torque of $T=900 $Nm at $z=L$, as shown in Fig.\\ref{image:CylinderBarT}.  \n",
    "\n",
    "<img src=\"/images/CylinderBarT.png\" alt=\" \" width=\"580\"/><br>\n",
    "\n",
    "Stress on a hollow cylindrical cross-section of a uniform bar.\n",
    "\n",
    "\n",
    "\n",
    "Using the exact formulas calculate: \n",
    "\n",
    "1. The maximum shear stress on the cross-section in the shaft.\n",
    "\n",
    "2. The twist angle at $x=L$.\n",
    "\n",
    "3. The stress components on the cross-section and by the lateral surface in the Cartesian coordinates on the $x$-axis. \n",
    "\n",
    "4. The stress components on the cross-section and by the lateral surface in the Cartesian coordinates at $30^∘$ from the $x$-axis. \n",
    "\n",
    "5. The stress components on the cross-section and by the lateral surface in the Cartesian coordinates on the $y$-axis. \n",
    "\n",
    "6. Compute the principle stresses in the shaft.\n",
    "\n",
    "7. Compute the maximum shear stress in the shaft. \n",
    "\n",
    "8. Assume the wall of the shaft is thin, using the formulas for thin-wall cross-section, repeat items 1 and 2. Compare the results obtained with those obtained using the exact formulas. \n",
    "\n",
    "9. Using the same amount of material, but create a square cross-section with the same thickness. Repeat items 1 and 2. Compare the results obtained with those obtained in item 8. "
   ]
  }
 ],
 "metadata": {
  "kernelspec": {
   "display_name": "Python 3 (ipykernel)",
   "language": "python",
   "name": "python3"
  },
  "language_info": {
   "codemirror_mode": {
    "name": "ipython",
    "version": 3
   },
   "file_extension": ".py",
   "mimetype": "text/x-python",
   "name": "python",
   "nbconvert_exporter": "python",
   "pygments_lexer": "ipython3",
   "version": "3.9.7"
  },
  "latex_envs": {
   "LaTeX_envs_menu_present": true,
   "autoclose": true,
   "autocomplete": true,
   "bibliofile": "biblio.bib",
   "cite_by": "apalike",
   "current_citInitial": 1,
   "eqLabelWithNumbers": true,
   "eqNumInitial": 1,
   "hotkeys": {
    "equation": "Ctrl-E",
    "itemize": "Ctrl-I"
   },
   "labels_anchors": false,
   "latex_user_defs": false,
   "report_style_numbering": true,
   "user_envs_cfg": false
  },
  "toc": {
   "base_numbering": "2",
   "nav_menu": {},
   "number_sections": true,
   "sideBar": true,
   "skip_h1_title": true,
   "title_cell": "Table of Contents",
   "title_sidebar": "Contents",
   "toc_cell": false,
   "toc_position": {
    "height": "calc(100% - 180px)",
    "left": "10px",
    "top": "150px",
    "width": "165.562px"
   },
   "toc_section_display": true,
   "toc_window_display": false
  },
  "varInspector": {
   "cols": {
    "lenName": 16,
    "lenType": 16,
    "lenVar": 40
   },
   "kernels_config": {
    "python": {
     "delete_cmd_postfix": "",
     "delete_cmd_prefix": "del ",
     "library": "var_list.py",
     "varRefreshCmd": "print(var_dic_list())"
    },
    "r": {
     "delete_cmd_postfix": ") ",
     "delete_cmd_prefix": "rm(",
     "library": "var_list.r",
     "varRefreshCmd": "cat(var_dic_list()) "
    }
   },
   "types_to_exclude": [
    "module",
    "function",
    "builtin_function_or_method",
    "instance",
    "_Feature"
   ],
   "window_display": false
  }
 },
 "nbformat": 4,
 "nbformat_minor": 5
}
