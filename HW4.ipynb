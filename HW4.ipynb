{
 "cells": [
  {
   "cell_type": "markdown",
   "id": "2998f529",
   "metadata": {},
   "source": [
    "# Homeworks for SM-I course"
   ]
  },
  {
   "cell_type": "markdown",
   "id": "3fcfc53b",
   "metadata": {},
   "source": [
    "# Homework 4: Understanding stresses, strains and constitutive relations"
   ]
  },
  {
   "cell_type": "markdown",
   "id": "4eddc6b3",
   "metadata": {},
   "source": [
    "Consider a thin square wing spar made of aluminum alloy that can be treated as a homogeneous isotropic material with Young's modulus $E$ and Poisson's ratio $𝜈$. It is subjected to uniform stress loading along all edges, as shown in the figure below. Because it is thin, and no force is applied in the $z$-direction, it can be treated a plane stress problem in x-y plane. The data are given as $E=80 GPa$, $𝜈=1/3$,$𝜎_{yy}=150 MPa$, and $L=100mm$. \n",
    "\n",
    "<img src=\"images/SquareBiaxial.png\" alt=\" \" width=\"300\"/><br>\n",
    "\n",
    "1) Derive the formulas for computing the strain components. \n",
    "\n",
    "2) Determine the stress load $𝜎_{xx}$ (in terms of $𝜎_{yy}$), under the condition that wing spar width remains unchanged. Compute the numerical value for given data. \n",
    "\n",
    "3) Determine the strain and elongation in the $y$-direction, under the same condition given in 2). Compute the numerical value for given data. \n",
    "\n",
    "4) Using the coordinate transformation rule, determine the elongation of the diagonal AC, under the same condition given in 2).\n",
    "\n",
    "5) Determine the area change of the wing spar, under the same condition given in 2). "
   ]
  },
  {
   "cell_type": "markdown",
   "id": "d5ce6116",
   "metadata": {},
   "source": [
    "1. "
   ]
  },
  {
   "cell_type": "code",
   "execution_count": null,
   "id": "6be2cecd",
   "metadata": {},
   "outputs": [],
   "source": []
  }
 ],
 "metadata": {
  "kernelspec": {
   "display_name": "Python 3 (ipykernel)",
   "language": "python",
   "name": "python3"
  },
  "language_info": {
   "codemirror_mode": {
    "name": "ipython",
    "version": 3
   },
   "file_extension": ".py",
   "mimetype": "text/x-python",
   "name": "python",
   "nbconvert_exporter": "python",
   "pygments_lexer": "ipython3",
   "version": "3.9.16"
  },
  "latex_envs": {
   "LaTeX_envs_menu_present": true,
   "autoclose": true,
   "autocomplete": true,
   "bibliofile": "biblio.bib",
   "cite_by": "apalike",
   "current_citInitial": 1,
   "eqLabelWithNumbers": true,
   "eqNumInitial": 1,
   "hotkeys": {
    "equation": "Ctrl-E",
    "itemize": "Ctrl-I"
   },
   "labels_anchors": false,
   "latex_user_defs": false,
   "report_style_numbering": true,
   "user_envs_cfg": false
  },
  "toc": {
   "base_numbering": "2",
   "nav_menu": {},
   "number_sections": true,
   "sideBar": true,
   "skip_h1_title": true,
   "title_cell": "Table of Contents",
   "title_sidebar": "Contents",
   "toc_cell": false,
   "toc_position": {
    "height": "calc(100% - 180px)",
    "left": "10px",
    "top": "150px",
    "width": "165.562px"
   },
   "toc_section_display": true,
   "toc_window_display": false
  },
  "varInspector": {
   "cols": {
    "lenName": 16,
    "lenType": 16,
    "lenVar": 40
   },
   "kernels_config": {
    "python": {
     "delete_cmd_postfix": "",
     "delete_cmd_prefix": "del ",
     "library": "var_list.py",
     "varRefreshCmd": "print(var_dic_list())"
    },
    "r": {
     "delete_cmd_postfix": ") ",
     "delete_cmd_prefix": "rm(",
     "library": "var_list.r",
     "varRefreshCmd": "cat(var_dic_list()) "
    }
   },
   "types_to_exclude": [
    "module",
    "function",
    "builtin_function_or_method",
    "instance",
    "_Feature"
   ],
   "window_display": false
  }
 },
 "nbformat": 4,
 "nbformat_minor": 5
}
