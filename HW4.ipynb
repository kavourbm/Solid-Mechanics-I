{
 "cells": [
  {
   "cell_type": "markdown",
   "id": "2998f529",
   "metadata": {},
   "source": [
    "# Homeworks for SM-I course"
   ]
  },
  {
   "cell_type": "markdown",
   "id": "3fcfc53b",
   "metadata": {},
   "source": [
    "# Homework 4: Understanding stresses, strains and constitutive relations"
   ]
  },
  {
   "cell_type": "markdown",
   "id": "4eddc6b3",
   "metadata": {},
   "source": [
    "Consider a thin square wing spar made of aluminum alloy that can be treated as a homogeneous isotropic material with Young's modulus $E$ and Poisson's ratio $𝜈$. It is subjected to uniform stress loading along all edges, as shown in the figure below. Because it is thin, and no force is applied in the $z$-direction, it can be treated a plane stress problem in x-y plane. The data are given as $E=80 GPa$, $𝜈=1/3$,$𝜎_{yy}=150 MPa$, and $L=100mm$. \n",
    "\n",
    "<img src=\"images/SquareBiaxial.png\" alt=\" \" width=\"300\"/><br>\n",
    "\n",
    "1) Derive the formulas for computing the strain components. \n",
    "\n",
    "2) Determine the stress load $𝜎_{xx}$ (in terms of $𝜎_{yy}$), under the condition that wing spar width remains unchanged. Compute the numerical value for given data. \n",
    "\n",
    "3) Determine the strain and elongation in the $y$-direction, under the same condition given in 2). Compute the numerical value for given data. \n",
    "\n",
    "4) Using the coordinate transformation rule, determine the elongation of the diagonal AC, under the same condition given in 2).\n",
    "\n",
    "5) Determine the area change of the wing spar, under the same condition given in 2). "
   ]
  },
  {
   "cell_type": "code",
   "execution_count": 248,
   "id": "76cc6b7d",
   "metadata": {},
   "outputs": [],
   "source": [
    "# Place curse in this cell, and press Ctrl+Enter to import dependences. \n",
    "import sys                         # for accessing the computer system\n",
    "sys.path.append('../grbin/')  # Change to the directory in your system \n",
    "\n",
    "from commonImports import *      # Import dependences from '../grbin/'\n",
    "import grcodes as gr                 # Import the module of the author\n",
    "#importlib.reload(gr)            # When grcodes is modified, reload it\n",
    "\n",
    "from continuum_mechanics import vector \n",
    "init_printing(use_unicode=True)      # For latex-like quality printing \n",
    "np.set_printoptions(precision=4,suppress=True)  # Digits in print-outs"
   ]
  },
  {
   "cell_type": "markdown",
   "id": "d5ce6116",
   "metadata": {},
   "source": [
    "1. "
   ]
  },
  {
   "cell_type": "markdown",
   "id": "cd898986",
   "metadata": {},
   "source": [
    "No force in $z$ means this can be treated as a plane-stress problem"
   ]
  },
  {
   "cell_type": "markdown",
   "id": "a4cdbb36",
   "metadata": {},
   "source": [
    "$\n",
    "\\begin{bmatrix}\n",
    "\\sigma_{xx} \\\\\n",
    "\\sigma_{yy} \\\\\n",
    "\\sigma_{xy} \n",
    "\\end{bmatrix} = \\begin{bmatrix}\n",
    "c_{xx} & c_{xy} & 0 \\\\\n",
    "c_{xy} & c_{yy} & 0 \\\\\n",
    "0 & 0 & c_{zz}\n",
    "\\end{bmatrix} \\begin{bmatrix}\n",
    "\\epsilon_{xx} \\\\\n",
    "\\epsilon_{yy} \\\\\n",
    "2 \\epsilon_{xy}\n",
    "\\end{bmatrix} \\\\\n",
    "\\begin{bmatrix}\n",
    "\\sigma_{xx} \\\\\n",
    "\\sigma_{yy} \\\\\n",
    "\\sigma_{xy} \n",
    "\\end{bmatrix} = \\frac{E}{(1-v^2)} \\begin{bmatrix}\n",
    "1 & v & 0 \\\\\n",
    "v & 1 & 0 \\\\\n",
    "0 & 0 & \\frac{(1-v)}{2}\n",
    "\\end{bmatrix} \\begin{bmatrix}\n",
    "\\epsilon_{xx} \\\\\n",
    "\\epsilon_{yy} \\\\\n",
    "2 \\epsilon_{xy}\n",
    "\\end{bmatrix} \\\\\n",
    "\\begin{bmatrix}\n",
    "\\sigma_{xx} \\\\\n",
    "\\sigma_{yy} \\\\\n",
    "\\sigma_{xy} \n",
    "\\end{bmatrix} = \\begin{bmatrix}\n",
    "\\frac{E}{(1-v^2)} & \\frac{E v}{(1-v^2)} & 0 \\\\\n",
    "\\frac{E v}{(1-v^2)} & \\frac{E}{(1-v^2)} & 0 \\\\\n",
    "0 & 0 & \\frac{E(\\frac{1}{2}-\\frac{v}{2})}{1-v^2}\n",
    "\\end{bmatrix} \\begin{bmatrix}\n",
    "\\epsilon_{xx} \\\\\n",
    "\\epsilon_{yy} \\\\\n",
    "2 \\epsilon_{xy}\n",
    "\\end{bmatrix}\n",
    "$"
   ]
  },
  {
   "cell_type": "markdown",
   "id": "73036fa3",
   "metadata": {},
   "source": [
    "$\n",
    "\\sigma_{xx} = \\epsilon_{xx} \\frac{E}{(1-v^2)} + \\epsilon_{yy} \\frac{E v}{1-v^2} \\\\\n",
    "\\sigma_{yy} = \\epsilon_{xx} \\frac{E v}{(1-v^2)} + \\epsilon_{yy} \\frac{E}{1-v^2} \\\\\n",
    "\\sigma_{xy} = 2 \\epsilon_{xy} \\frac{E (\\frac{1}{2} - \\frac{v}{2})}{1-v^2}\n",
    "$"
   ]
  },
  {
   "cell_type": "markdown",
   "id": "977da4d2",
   "metadata": {},
   "source": [
    "Rearrainging and solving:"
   ]
  },
  {
   "cell_type": "markdown",
   "id": "b4148be9",
   "metadata": {},
   "source": [
    "$\n",
    "\\epsilon_{xx} = \\frac{1}{E} (\\sigma_{xx} - v \\sigma_{yy}) \\\\\n",
    "\\epsilon_{yy} = \\frac{1}{E} (\\sigma_{yy} - v \\sigma_{xx}) \\\\\n",
    "\\epsilon_{xy} = \\frac{\\sigma_{xy} (1+v)}{E} \\\\\n",
    "$"
   ]
  },
  {
   "cell_type": "markdown",
   "id": "f292367c",
   "metadata": {},
   "source": [
    "Additionally, strain in $z$ is non-zero:"
   ]
  },
  {
   "cell_type": "markdown",
   "id": "7bd21597",
   "metadata": {},
   "source": [
    "$\n",
    "\\epsilon_{zz} = -\\frac{v}{E} (\\sigma_{xx} + \\sigma_{yy})\n",
    "$"
   ]
  },
  {
   "cell_type": "code",
   "execution_count": 249,
   "id": "04262ec7",
   "metadata": {},
   "outputs": [],
   "source": [
    "sxx, syy, sxy, exx, eyy, exy, ezz = sp.symbols(\"sxx, syy, sxy, exx, eyy, exy, ezz\")\n",
    "E, v = sp.symbols(\"E, v\")\n",
    "\n",
    "C = (E/(1-(v**2)))*np.array([[1,v,0],[v,1,0],[0,0,((1-v)/2)]])\n",
    "\n",
    "stress = C*np.array([[exx],[eyy],[2*exy]])\n",
    "\n",
    "exx = (1/E)*(sxx-(v*syy))\n",
    "eyy = (1/E)*(syy-(v*sxx))\n",
    "exy = ((sxy*(1+v))/E)\n",
    "ezz = -1*(v/E)*(sxx+syy)"
   ]
  },
  {
   "cell_type": "markdown",
   "id": "8950f423",
   "metadata": {},
   "source": [
    "2. "
   ]
  },
  {
   "cell_type": "markdown",
   "id": "d7e1a573",
   "metadata": {},
   "source": [
    "$\n",
    "\\epsilon_{xx} = 0 = \\frac{1}{E} (\\sigma_{xx} - v \\sigma_{yy}) \\\\\n",
    "v \\sigma_{yy} = \\sigma_{xx} \\\\\n",
    "$"
   ]
  },
  {
   "cell_type": "code",
   "execution_count": 250,
   "id": "2dc84e17",
   "metadata": {},
   "outputs": [
    {
     "name": "stdout",
     "output_type": "stream",
     "text": [
      "Stress in xx: 50.00 MPa\n"
     ]
    }
   ],
   "source": [
    "vnum = 1/3\n",
    "Syy = 150 # MPa\n",
    "\n",
    "Sxx = vnum*Syy\n",
    "\n",
    "print(\"Stress in xx: %3.2f MPa\" % (Sxx))"
   ]
  },
  {
   "cell_type": "markdown",
   "id": "dee3ea7c",
   "metadata": {},
   "source": [
    "3. "
   ]
  },
  {
   "cell_type": "code",
   "execution_count": 251,
   "id": "05eb99e9",
   "metadata": {},
   "outputs": [],
   "source": [
    "def transferM(theta, about = 'z'):\n",
    "    '''Create a transformation matrix for coordinate transformation (numpy)\\\n",
    "    Input theta: rotation angle in degree \\\n",
    "          about: the axis of the rotation is about \\\n",
    "    Return: numpy array of transformation matrix of shape (3,3)'''\n",
    "    from scipy.stats import ortho_group\n",
    "    \n",
    "    n = 3        # 3-dimensonal problem\n",
    "    c, s = np.cos(np.deg2rad(theta)), np.sin(np.deg2rad(theta))\n",
    "    #T = np.zeros((n,n))\n",
    "    \n",
    "    if about == 'z':\n",
    "        # rotates about z by theta \n",
    "        T = np.array([[ c, s, 0.],\n",
    "                      [-s, c, 0.],\n",
    "                      [0.,0., 1.]]) \n",
    "    elif about == 'y':\n",
    "        # rotates about y by theta \n",
    "        T = np.array([[ c, 0.,-s],\n",
    "                      [0., 1.,0.],\n",
    "                      [s, 0., c]])  \n",
    "    elif about == 'x':\n",
    "        # rotates about x by theta \n",
    "        T = np.array([[ 1.,0., 0.],\n",
    "                      [ 0., c, s],\n",
    "                      [ 0.,-s, c]])\n",
    "    else: # randomly generated unitary matrix->transformation matrix, no theta\n",
    "        T = ortho_group.rvs(dim=n)          # Generate a random matrix\n",
    "        T[2,:] = np.cross(T[0,:], T[1,:])   # Enforce the righ-hand rule\n",
    "        \n",
    "    return T, about"
   ]
  },
  {
   "cell_type": "code",
   "execution_count": 252,
   "id": "9cc54cb3",
   "metadata": {},
   "outputs": [
    {
     "data": {
      "text/plain": [
       "array([[ 0.    ,  0.    ,  0.    ],\n",
       "       [ 0.    ,  0.0017,  0.    ],\n",
       "       [ 0.    ,  0.    , -0.0008]])"
      ]
     },
     "execution_count": 252,
     "metadata": {},
     "output_type": "execute_result"
    }
   ],
   "source": [
    "Enum = 80e3 # MPa\n",
    "\n",
    "strainmatrix = np.array([[float(exx.subs({E:Enum,v:vnum,sxx:Sxx,syy:Syy})),0,0],[0,float(eyy.subs({E:Enum,v:vnum,sxx:Sxx,syy:Syy})),0],[0,0,float(ezz.subs({E:Enum,v:vnum,sxx:Sxx,syy:Syy}))]])\n",
    "\n",
    "strainmatrix"
   ]
  },
  {
   "cell_type": "code",
   "execution_count": 253,
   "id": "daf6ac01",
   "metadata": {},
   "outputs": [
    {
     "name": "stdout",
     "output_type": "stream",
     "text": [
      "Strain: 0.001667\n",
      "Elongation: 0.16666667 mm\n"
     ]
    }
   ],
   "source": [
    "L = 100*(10**-3)\n",
    "\n",
    "theta3 = 90\n",
    "\n",
    "T3, about = transferM(theta3)\n",
    "\n",
    "strain3 = T3@strainmatrix@T3.T\n",
    "\n",
    "print(\"Strain: %3.6f\" % (strain3[0,0]))\n",
    "print(\"Elongation: %3.8f mm\" % (L*strain3[0,0]*1000))"
   ]
  },
  {
   "cell_type": "markdown",
   "id": "9fa9f186",
   "metadata": {},
   "source": [
    "4. "
   ]
  },
  {
   "cell_type": "code",
   "execution_count": 254,
   "id": "ec9873f6",
   "metadata": {},
   "outputs": [
    {
     "name": "stdout",
     "output_type": "stream",
     "text": [
      "Strain: 0.000833\n",
      "Elongation: 0.11785113 mm\n"
     ]
    }
   ],
   "source": [
    "theta4 = 45 \n",
    "\n",
    "T4, about = transferM(theta4)\n",
    "\n",
    "strain4 = T4@strainmatrix@T4.T\n",
    "\n",
    "print(\"Strain: %3.6f\" % (strain4[0,0]))\n",
    "print(\"Elongation: %3.8f mm\" % (np.sqrt(2)*L*strain4[0,0]*1000))"
   ]
  },
  {
   "cell_type": "markdown",
   "id": "eecc18ef",
   "metadata": {},
   "source": [
    "5. "
   ]
  },
  {
   "cell_type": "code",
   "execution_count": 255,
   "id": "2c9e9bd5",
   "metadata": {},
   "outputs": [
    {
     "name": "stdout",
     "output_type": "stream",
     "text": [
      "The change in area is 16.67 mm^2\n"
     ]
    }
   ],
   "source": [
    "areachange = ((L*1000)*((L+(L*strain3[0,0]))*1000))-((L*1000)*(L*1000))\n",
    "\n",
    "print(\"The change in area is %3.2f mm^2\" % (areachange))"
   ]
  }
 ],
 "metadata": {
  "kernelspec": {
   "display_name": "Python 3 (ipykernel)",
   "language": "python",
   "name": "python3"
  },
  "language_info": {
   "codemirror_mode": {
    "name": "ipython",
    "version": 3
   },
   "file_extension": ".py",
   "mimetype": "text/x-python",
   "name": "python",
   "nbconvert_exporter": "python",
   "pygments_lexer": "ipython3",
   "version": "3.11.3"
  },
  "latex_envs": {
   "LaTeX_envs_menu_present": true,
   "autoclose": true,
   "autocomplete": true,
   "bibliofile": "biblio.bib",
   "cite_by": "apalike",
   "current_citInitial": 1,
   "eqLabelWithNumbers": true,
   "eqNumInitial": 1,
   "hotkeys": {
    "equation": "Ctrl-E",
    "itemize": "Ctrl-I"
   },
   "labels_anchors": false,
   "latex_user_defs": false,
   "report_style_numbering": true,
   "user_envs_cfg": false
  },
  "toc": {
   "base_numbering": "2",
   "nav_menu": {},
   "number_sections": true,
   "sideBar": true,
   "skip_h1_title": true,
   "title_cell": "Table of Contents",
   "title_sidebar": "Contents",
   "toc_cell": false,
   "toc_position": {
    "height": "calc(100% - 180px)",
    "left": "10px",
    "top": "150px",
    "width": "165.562px"
   },
   "toc_section_display": true,
   "toc_window_display": false
  },
  "varInspector": {
   "cols": {
    "lenName": 16,
    "lenType": 16,
    "lenVar": 40
   },
   "kernels_config": {
    "python": {
     "delete_cmd_postfix": "",
     "delete_cmd_prefix": "del ",
     "library": "var_list.py",
     "varRefreshCmd": "print(var_dic_list())"
    },
    "r": {
     "delete_cmd_postfix": ") ",
     "delete_cmd_prefix": "rm(",
     "library": "var_list.r",
     "varRefreshCmd": "cat(var_dic_list()) "
    }
   },
   "types_to_exclude": [
    "module",
    "function",
    "builtin_function_or_method",
    "instance",
    "_Feature"
   ],
   "window_display": false
  }
 },
 "nbformat": 4,
 "nbformat_minor": 5
}
