{
 "cells": [
  {
   "cell_type": "markdown",
   "id": "2998f529",
   "metadata": {},
   "source": [
    "# Homeworks for SM-I course"
   ]
  },
  {
   "cell_type": "markdown",
   "id": "3fcfc53b",
   "metadata": {},
   "source": [
    "# Homework 4: Understanding stresses, strains and constitutive relations"
   ]
  },
  {
   "cell_type": "markdown",
   "id": "4eddc6b3",
   "metadata": {},
   "source": [
    "Consider a thin square wing spar made of aluminum alloy that can be treated as a homogeneous isotropic material with Young's modulus $E$ and Poisson's ratio $𝜈$. It is subjected to uniform stress loading along all edges, as shown in the figure below. Because it is thin, and no force is applied in the $z$-direction, it can be treated a plane stress problem in x-y plane. The data are given as $E=80 GPa$, $𝜈=1/3$,$𝜎_{yy}=150 MPa$, and $L=100mm$. \n",
    "\n",
    "<img src=\"images/SquareBiaxial.png\" alt=\" \" width=\"300\"/><br>\n",
    "\n",
    "1) Derive the formulas for computing the strain components. \n",
    "\n",
    "2) Determine the stress load $𝜎_{xx}$ (in terms of $𝜎_{yy}$), under the condition that wing spar width remains unchanged. Compute the numerical value for given data. \n",
    "\n",
    "3) Determine the strain and elongation in the $y$-direction, under the same condition given in 2). Compute the numerical value for given data. \n",
    "\n",
    "4) Using the coordinate transformation rule, determine the elongation of the diagonal AC, under the same condition given in 2).\n",
    "\n",
    "5) Determine the area change of the wing spar, under the same condition given in 2). "
   ]
  },
  {
   "cell_type": "code",
   "execution_count": 150,
   "id": "76cc6b7d",
   "metadata": {},
   "outputs": [],
   "source": [
    "# Place curse in this cell, and press Ctrl+Enter to import dependences. \n",
    "import sys                         # for accessing the computer system\n",
    "sys.path.append('../grbin/')  # Change to the directory in your system \n",
    "\n",
    "from commonImports import *      # Import dependences from '../grbin/'\n",
    "import grcodes as gr                 # Import the module of the author\n",
    "#importlib.reload(gr)            # When grcodes is modified, reload it\n",
    "\n",
    "from continuum_mechanics import vector \n",
    "init_printing(use_unicode=True)      # For latex-like quality printing \n",
    "np.set_printoptions(precision=4,suppress=True)  # Digits in print-outs"
   ]
  },
  {
   "cell_type": "markdown",
   "id": "d5ce6116",
   "metadata": {},
   "source": [
    "1. "
   ]
  },
  {
   "cell_type": "markdown",
   "id": "2c0f73d6",
   "metadata": {},
   "source": [
    "$\n",
    "\\epsilon_{xx} = \\sigma_{xx}/E \\\\\n",
    "\\epsilon_{yy} = \\sigma_{yy}/E \\\\\n",
    "\\epsilon_{yy} = -v\\epsilon_{xx} \\\\\n",
    "$\n",
    "\\\n",
    "Equations: \\\n",
    "$ \\sigma_{yy} $, $ E $, and $ v $ are given \\\n",
    "\\\n",
    "$\n",
    "\\epsilon_{yy} = \\sigma_{yy}/E \\\\\n",
    "\\epsilon_{xx} = -v(\\sigma_{yy}/E)\n",
    "$"
   ]
  },
  {
   "cell_type": "markdown",
   "id": "8950f423",
   "metadata": {},
   "source": [
    "2. "
   ]
  },
  {
   "cell_type": "markdown",
   "id": "886f5088",
   "metadata": {},
   "source": [
    "$\n",
    "\\epsilon_{xx} = \\sigma_{xx}/E \\\\\n",
    "\\epsilon_{xx} = -v(\\sigma_{yy}/E) \\\\\n",
    "\\sigma_{xx}/E = -v(\\sigma_{yy}/E) \\\\\n",
    "\\sigma_{xx} = -v\\sigma_{yy}\n",
    "$"
   ]
  },
  {
   "cell_type": "code",
   "execution_count": 151,
   "id": "2dc84e17",
   "metadata": {},
   "outputs": [
    {
     "name": "stdout",
     "output_type": "stream",
     "text": [
      "Stress in xx: -50.00 MPa\n"
     ]
    }
   ],
   "source": [
    "v = 1/3\n",
    "Syy = 150 # MPa\n",
    "\n",
    "Sxx = -1*v*Syy\n",
    "\n",
    "print(\"Stress in xx: %3.2f MPa\" % (Sxx))"
   ]
  },
  {
   "cell_type": "markdown",
   "id": "dee3ea7c",
   "metadata": {},
   "source": [
    "3. "
   ]
  },
  {
   "cell_type": "markdown",
   "id": "3ed9a290",
   "metadata": {},
   "source": [
    "$\n",
    "\\epsilon_{yy} = \\frac{\\Delta L}{L} \\\\\n",
    "\\epsilon_{yy} = \\frac{1}{E} \\sigma_{yy} \\\\\n",
    "\\frac{\\Delta L}{L} = \\frac{1}{E} \\sigma_{yy} \\\\\n",
    "\\Delta L = \\frac{L}{E} \\sigma_{yy}\n",
    "$"
   ]
  },
  {
   "cell_type": "code",
   "execution_count": 152,
   "id": "52ab9e33",
   "metadata": {},
   "outputs": [
    {
     "name": "stdout",
     "output_type": "stream",
     "text": [
      "Strain in yy: 0.21\n",
      "Deformation in yy: 20.83 mm\n"
     ]
    }
   ],
   "source": [
    "E = 80 * (10^3) # MPa\n",
    "\n",
    "Eyy = (1/E)*Syy\n",
    "\n",
    "print(\"Strain in yy: %3.2f\" % (Eyy))\n",
    "\n",
    "L = 100 # mm\n",
    "\n",
    "deltaL = (L/E)*Syy\n",
    "\n",
    "print(\"Deformation in yy: %3.2f mm\" % (deltaL))"
   ]
  },
  {
   "cell_type": "markdown",
   "id": "9fa9f186",
   "metadata": {},
   "source": [
    "4. "
   ]
  },
  {
   "cell_type": "code",
   "execution_count": 153,
   "id": "b7c3b80e",
   "metadata": {},
   "outputs": [],
   "source": [
    "def apply_symmetry(C4, key = \"all\", tol=1.e-2):\n",
    "    if key == \"all\" or key == \"ij\":\n",
    "        for k in range(3):\n",
    "            for l in range(3):\n",
    "                for i in range(3):\n",
    "                    for j in range(i+1,3):\n",
    "                        if abs(C4[j,i,k,l]) <= tol:\n",
    "                            C4[j,i,k,l]=C4[i,j,k,l]\n",
    "                            \n",
    "    if key == \"all\" or key == \"kl\":\n",
    "        for k in range(3):\n",
    "            for l in range(k+1,3):\n",
    "                for i in range(3):\n",
    "                    for j in range(3):\n",
    "                        if abs(C4[i,j,l,k]) <= tol:\n",
    "                            C4[i,j,l,k]=C4[i,j,k,l]\n",
    "                            \n",
    "    if key == \"all\" or key == \"ijkl\":\n",
    "        for k in range(3):\n",
    "            for l in range(3):\n",
    "                for i in range(k+1,3):\n",
    "                    for j in range(l+1,3):\n",
    "                        if abs(C4[i,j,k,l]) <= tol:\n",
    "                            C4[i,j,k,l]=C4[k,l,i,j]\n",
    "    return C4"
   ]
  },
  {
   "cell_type": "code",
   "execution_count": 154,
   "id": "deb16365",
   "metadata": {},
   "outputs": [],
   "source": [
    "def C2toC4(C2):\n",
    "    '''To convert C(6,6) matrix (the Voigt notation) to  \n",
    "       4th tensor C(3,3,3,3).'''\n",
    "    C4 = np.zeros((3,3,3,3))                     #Initialization\n",
    "             \n",
    "    # Pass over all C(6,6) to parts of C(3,3,3,3)\n",
    "    C4[0,0,0,0],C4[0,0,1,1],C4[0,0,2,2] = C2[0,0],C2[0,1],C2[0,2]\n",
    "    C4[0,0,1,2],C4[0,0,0,2],C4[0,0,0,1] = C2[0,3],C2[0,4],C2[0,5]\n",
    "\n",
    "    C4[1,1,0,0],C4[1,1,1,1],C4[1,1,2,2] = C2[1,0],C2[1,1],C2[1,2]\n",
    "    C4[1,1,1,2],C4[1,1,0,2],C4[1,1,0,1] = C2[1,3],C2[1,4],C2[1,5]\n",
    "\n",
    "    C4[2,2,0,0],C4[2,2,1,1],C4[2,2,2,2] = C2[2,0],C2[2,1],C2[2,2]\n",
    "    C4[2,2,1,2],C4[2,2,0,2],C4[2,2,0,1] = C2[2,3],C2[2,4],C2[2,5]\n",
    "\n",
    "    C4[1,2,0,0],C4[1,2,1,1],C4[1,2,2,2] = C2[3,0],C2[3,1],C2[3,2]\n",
    "    C4[1,2,1,2],C4[1,2,0,2],C4[1,2,0,1] = C2[3,3],C2[3,4],C2[3,5]\n",
    "\n",
    "    C4[0,2,0,0],C4[0,2,1,1],C4[0,2,2,2] = C2[4,0],C2[4,1],C2[4,2]\n",
    "    C4[0,2,1,2],C4[0,2,0,2],C4[0,2,0,1] = C2[4,3],C2[4,4],C2[4,5]\n",
    "\n",
    "    C4[0,1,0,0],C4[0,1,1,1],C4[0,1,2,2] = C2[5,0],C2[5,1],C2[5,2]\n",
    "    C4[0,1,1,2],C4[0,1,0,2],C4[0,1,0,1] = C2[5,3],C2[5,4],C2[5,5]\n",
    "                             \n",
    "    # Imporse (minor) symmetric conditions\n",
    "    apply_symmetry(C4, key = \"all\", tol=1.e-4)\n",
    "    \n",
    "    return C4"
   ]
  },
  {
   "cell_type": "code",
   "execution_count": 155,
   "id": "69c2b7ac",
   "metadata": {},
   "outputs": [],
   "source": [
    "def C4toC2(C4):\n",
    "    '''To convert 4th tensor C(3,3,3,3) to C(6,6) matrix \n",
    "       (the Voigt notation).'''\n",
    "    C2 = np.zeros((6,6))\n",
    "    C2[0,0],C2[0,1],C2[0,2]=C4[0,0,0,0],C4[0,0,1,1],C4[0,0,2,2]\n",
    "    C2[0,3],C2[0,4],C2[0,5]=C4[0,0,1,2],C4[0,0,0,2],C4[0,0,0,1]\n",
    "\n",
    "    C2[1,0],C2[1,1],C2[1,2]=C4[1,1,0,0],C4[1,1,1,1],C4[1,1,2,2]\n",
    "    C2[1,3],C2[1,4],C2[1,5]=C4[1,1,1,2],C4[1,1,0,2],C4[1,1,0,1]\n",
    "\n",
    "    C2[2,0],C2[2,1],C2[2,2]=C4[2,2,0,0],C4[2,2,1,1],C4[2,2,2,2]\n",
    "    C2[2,3],C2[2,4],C2[2,5]=C4[2,2,1,2],C4[2,2,0,2],C4[2,2,0,1]\n",
    "\n",
    "    C2[3,0],C2[3,1],C2[3,2]=C4[1,2,0,0],C4[1,2,1,1],C4[1,2,2,2]\n",
    "    C2[3,3],C2[3,4],C2[3,5]=C4[1,2,1,2],C4[1,2,0,2],C4[1,2,0,1]\n",
    "\n",
    "    C2[4,0],C2[4,1],C2[4,2]=C4[0,2,0,0],C4[0,2,1,1],C4[0,2,2,2]\n",
    "    C2[4,3],C2[4,4],C2[4,5]=C4[0,2,1,2],C4[0,2,0,2],C4[0,2,0,1]\n",
    "\n",
    "    C2[5,0],C2[5,1],C2[5,2]=C4[0,1,0,0],C4[0,1,1,1],C4[0,1,2,2]\n",
    "    C2[5,3],C2[5,4],C2[5,5]=C4[0,1,1,2],C4[0,1,0,2],C4[0,1,0,1]\n",
    "    \n",
    "    return C2"
   ]
  },
  {
   "cell_type": "code",
   "execution_count": 156,
   "id": "5c583313",
   "metadata": {},
   "outputs": [],
   "source": [
    "def E_SnC3Dsp(E1, E2, E3, m12, m13, m23, G23, G13, G12):\n",
    "    '''Compute the S and C matrix in Voigt notation for given Young's  \n",
    "    moduli and Poisson's ratios of orthotropic materials for 3D prolems.\n",
    "    '''\n",
    "    S = sp.zeros(6,6)               #initialization\n",
    "    m21, m31, m32 = m12/E1*E2, m13/E1*E3, m23/E2*E3\n",
    "    # compute the compliance matrix S \n",
    "    S[0,0], S[1,1], S[2,2] = 1/E1, 1/E2, 1/E3 \n",
    "    S[0,1], S[0,2], S[1,2] = -m21/E2, -m31/E2, -m32/E3\n",
    "    S[3,3], S[4,4], S[5,5] = 1/G23, 1/G13, 1/G12 \n",
    "    S[1,0], S[2,0], S[2,1] = S[0,1], S[0,2], S[1,2]\n",
    "    \n",
    "    # compute C matrix\n",
    "    C = S.inv()\n",
    "    \n",
    "    return C, S"
   ]
  },
  {
   "cell_type": "code",
   "execution_count": 157,
   "id": "4a08f5db",
   "metadata": {},
   "outputs": [],
   "source": [
    "def transferM(theta, about = 'z'):\n",
    "    '''Create a transformation matrix for coordinate transformation (numpy)\\\n",
    "    Input theta: rotation angle in degree \\\n",
    "          about: the axis of the rotation is about \\\n",
    "    Return: numpy array of transformation matrix of shape (3,3)'''\n",
    "    from scipy.stats import ortho_group\n",
    "    \n",
    "    n = 3        # 3-dimensonal problem\n",
    "    c, s = np.cos(np.deg2rad(theta)), np.sin(np.deg2rad(theta))\n",
    "    #T = np.zeros((n,n))\n",
    "    \n",
    "    if about == 'z':\n",
    "        # rotates about z by theta \n",
    "        T = np.array([[ c, s, 0.],\n",
    "                      [-s, c, 0.],\n",
    "                      [0.,0., 1.]]) \n",
    "    elif about == 'y':\n",
    "        # rotates about y by theta \n",
    "        T = np.array([[ c, 0.,-s],\n",
    "                      [0., 1.,0.],\n",
    "                      [s, 0., c]])  \n",
    "    elif about == 'x':\n",
    "        # rotates about x by theta \n",
    "        T = np.array([[ 1.,0., 0.],\n",
    "                      [ 0., c, s],\n",
    "                      [ 0.,-s, c]])\n",
    "    else: # randomly generated unitary matrix->transformation matrix, no theta\n",
    "        T = ortho_group.rvs(dim=n)          # Generate a random matrix\n",
    "        T[2,:] = np.cross(T[0,:], T[1,:])   # Enforce the righ-hand rule\n",
    "        \n",
    "    return T, about\n"
   ]
  },
  {
   "cell_type": "code",
   "execution_count": 158,
   "id": "e3e27714",
   "metadata": {},
   "outputs": [
    {
     "data": {
      "text/latex": [
       "$\\displaystyle \\left[\\begin{matrix}1080.0 & 540.0 & 540.0 & 0 & 0 & 0\\\\540.0 & 1080.0 & 540.0 & 0 & 0 & 0\\\\540.0 & 540.0 & 1080.0 & 0 & 0 & 0\\\\0 & 0 & 0 & 270.0 & 0 & 0\\\\0 & 0 & 0 & 0 & 270.0 & 0\\\\0 & 0 & 0 & 0 & 0 & 270.0\\end{matrix}\\right]$"
      ],
      "text/plain": [
       "⎡1080.0  540.0   540.0     0      0      0  ⎤\n",
       "⎢                                           ⎥\n",
       "⎢540.0   1080.0  540.0     0      0      0  ⎥\n",
       "⎢                                           ⎥\n",
       "⎢540.0   540.0   1080.0    0      0      0  ⎥\n",
       "⎢                                           ⎥\n",
       "⎢  0       0       0     270.0    0      0  ⎥\n",
       "⎢                                           ⎥\n",
       "⎢  0       0       0       0    270.0    0  ⎥\n",
       "⎢                                           ⎥\n",
       "⎣  0       0       0       0      0    270.0⎦"
      ]
     },
     "execution_count": 158,
     "metadata": {},
     "output_type": "execute_result"
    }
   ],
   "source": [
    "G = 0.5*E/(1+v)\n",
    "\n",
    "C0, S = E_SnC3Dsp(E,E,E,v,v,v,G,G,G)\n",
    "\n",
    "C0"
   ]
  },
  {
   "cell_type": "code",
   "execution_count": 159,
   "id": "aae28de0",
   "metadata": {},
   "outputs": [],
   "source": [
    "T, _ = transferM(45, about = 'random')"
   ]
  },
  {
   "cell_type": "code",
   "execution_count": 160,
   "id": "e0dab4d5",
   "metadata": {},
   "outputs": [],
   "source": [
    "def Tensor4_transfer(T,C4):\n",
    "    \n",
    "    C4 = np.tensordot( T, C4, axes=([1],[0]))  # contract i\n",
    "    C4 = np.tensordot( T, C4, axes=([1],[1]))  # contract j\n",
    "    C4 = np.tensordot(C4,  T, axes=([3],[1]))  # contract l\n",
    "    C4 = np.tensordot(C4,  T, axes=([2],[1]))  # contract k\n",
    "\n",
    "    return C4"
   ]
  },
  {
   "cell_type": "code",
   "execution_count": 161,
   "id": "ece4de72",
   "metadata": {},
   "outputs": [
    {
     "data": {
      "text/plain": [
       "array([[1080.,  540.,  540.,    0.,    0.,    0.],\n",
       "       [ 540., 1080.,  540.,    0.,    0.,    0.],\n",
       "       [ 540.,  540., 1080.,    0.,    0.,    0.],\n",
       "       [   0.,    0.,    0.,  270.,    0.,    0.],\n",
       "       [   0.,    0.,    0.,    0.,  270.,    0.],\n",
       "       [   0.,    0.,    0.,    0.,    0.,  270.]])"
      ]
     },
     "execution_count": 161,
     "metadata": {},
     "output_type": "execute_result"
    }
   ],
   "source": [
    "C4 = C2toC4(C0)\n",
    "\n",
    "Cp = Tensor4_transfer(T,C4)\n",
    "\n",
    "C2 = C4toC2(Cp)\n",
    "\n",
    "C2"
   ]
  },
  {
   "cell_type": "code",
   "execution_count": 162,
   "id": "6ed4e46a",
   "metadata": {},
   "outputs": [
    {
     "name": "stdout",
     "output_type": "stream",
     "text": [
      "The change in length AC is 15.42 mm\n"
     ]
    }
   ],
   "source": [
    "# Validation\n",
    "\n",
    "originalAC = np.sqrt((L**2)+(L**2))\n",
    "\n",
    "newAC = np.sqrt((L**2)+((L+deltaL)**2))\n",
    "\n",
    "print(\"The change in length AC is %3.2f mm\" % (newAC-originalAC))"
   ]
  },
  {
   "cell_type": "markdown",
   "id": "eecc18ef",
   "metadata": {},
   "source": [
    "5. "
   ]
  },
  {
   "cell_type": "code",
   "execution_count": 163,
   "id": "2c9e9bd5",
   "metadata": {},
   "outputs": [
    {
     "name": "stdout",
     "output_type": "stream",
     "text": [
      "The change in area is 2083.33 mm^2\n"
     ]
    }
   ],
   "source": [
    "areachange = L*deltaL\n",
    "\n",
    "print(\"The change in area is %3.2f mm^2\" % (areachange))"
   ]
  }
 ],
 "metadata": {
  "kernelspec": {
   "display_name": "Python 3 (ipykernel)",
   "language": "python",
   "name": "python3"
  },
  "language_info": {
   "codemirror_mode": {
    "name": "ipython",
    "version": 3
   },
   "file_extension": ".py",
   "mimetype": "text/x-python",
   "name": "python",
   "nbconvert_exporter": "python",
   "pygments_lexer": "ipython3",
   "version": "3.11.3"
  },
  "latex_envs": {
   "LaTeX_envs_menu_present": true,
   "autoclose": true,
   "autocomplete": true,
   "bibliofile": "biblio.bib",
   "cite_by": "apalike",
   "current_citInitial": 1,
   "eqLabelWithNumbers": true,
   "eqNumInitial": 1,
   "hotkeys": {
    "equation": "Ctrl-E",
    "itemize": "Ctrl-I"
   },
   "labels_anchors": false,
   "latex_user_defs": false,
   "report_style_numbering": true,
   "user_envs_cfg": false
  },
  "toc": {
   "base_numbering": "2",
   "nav_menu": {},
   "number_sections": true,
   "sideBar": true,
   "skip_h1_title": true,
   "title_cell": "Table of Contents",
   "title_sidebar": "Contents",
   "toc_cell": false,
   "toc_position": {
    "height": "calc(100% - 180px)",
    "left": "10px",
    "top": "150px",
    "width": "165.562px"
   },
   "toc_section_display": true,
   "toc_window_display": false
  },
  "varInspector": {
   "cols": {
    "lenName": 16,
    "lenType": 16,
    "lenVar": 40
   },
   "kernels_config": {
    "python": {
     "delete_cmd_postfix": "",
     "delete_cmd_prefix": "del ",
     "library": "var_list.py",
     "varRefreshCmd": "print(var_dic_list())"
    },
    "r": {
     "delete_cmd_postfix": ") ",
     "delete_cmd_prefix": "rm(",
     "library": "var_list.r",
     "varRefreshCmd": "cat(var_dic_list()) "
    }
   },
   "types_to_exclude": [
    "module",
    "function",
    "builtin_function_or_method",
    "instance",
    "_Feature"
   ],
   "window_display": false
  }
 },
 "nbformat": 4,
 "nbformat_minor": 5
}
