{
 "cells": [
  {
   "cell_type": "markdown",
   "metadata": {
    "toc": true
   },
   "source": [
    "<h1>Table of Contents<span class=\"tocSkip\"></span></h1>\n",
    "<div class=\"toc\"><ul class=\"toc-item\"><li><span><a href=\"#Forces-and-Stresses\" data-toc-modified-id=\"Forces-and-Stresses-3\"><span class=\"toc-item-num\">3&nbsp;&nbsp;</span>Forces and Stresses</a></span><ul class=\"toc-item\"><li><span><a href=\"#Introduction\" data-toc-modified-id=\"Introduction-3.1\"><span class=\"toc-item-num\">3.1&nbsp;&nbsp;</span>Introduction</a></span><ul class=\"toc-item\"><li><span><a href=\"#Types-of-forces\" data-toc-modified-id=\"Types-of-forces-3.1.1\"><span class=\"toc-item-num\">3.1.1&nbsp;&nbsp;</span>Types of forces</a></span></li></ul></li><li><span><a href=\"#Example:-a-bar-subjected-to-a-point-force\" data-toc-modified-id=\"Example:-a-bar-subjected-to-a-point-force-3.2\"><span class=\"toc-item-num\">3.2&nbsp;&nbsp;</span>Example: a bar subjected to a point force</a></span></li><li><span><a href=\"#Example:-a-bar-subjected-to-a-distributed-force\" data-toc-modified-id=\"Example:-a-bar-subjected-to-a-distributed-force-3.3\"><span class=\"toc-item-num\">3.3&nbsp;&nbsp;</span>Example: a bar subjected to a distributed force</a></span><ul class=\"toc-item\"><li><span><a href=\"#Derivation-of-equilibrium-equation\" data-toc-modified-id=\"Derivation-of-equilibrium-equation-3.3.1\"><span class=\"toc-item-num\">3.3.1&nbsp;&nbsp;</span>Derivation of equilibrium equation</a></span></li><li><span><a href=\"#Stress-solution-to-1D-equilibrium-equation\" data-toc-modified-id=\"Stress-solution-to-1D-equilibrium-equation-3.3.2\"><span class=\"toc-item-num\">3.3.2&nbsp;&nbsp;</span>Stress solution to 1D equilibrium equation</a></span></li></ul></li><li><span><a href=\"#Force-vectors-in-higher-dimensions\" data-toc-modified-id=\"Force-vectors-in-higher-dimensions-3.4\"><span class=\"toc-item-num\">3.4&nbsp;&nbsp;</span>Force vectors in higher dimensions</a></span><ul class=\"toc-item\"><li><span><a href=\"#Graphic-representation-of-force-vectors\" data-toc-modified-id=\"Graphic-representation-of-force-vectors-3.4.1\"><span class=\"toc-item-num\">3.4.1&nbsp;&nbsp;</span>Graphic representation of force vectors</a></span></li><li><span><a href=\"#Components-of-a-force,-orthogonal-projection\" data-toc-modified-id=\"Components-of-a-force,-orthogonal-projection-3.4.2\"><span class=\"toc-item-num\">3.4.2&nbsp;&nbsp;</span>Components of a force, orthogonal projection</a></span></li><li><span><a href=\"#Equivalence-of-force-vector-and-its-components\" data-toc-modified-id=\"Equivalence-of-force-vector-and-its-components-3.4.3\"><span class=\"toc-item-num\">3.4.3&nbsp;&nbsp;</span>Equivalence of force vector and its components</a></span></li><li><span><a href=\"#Force-vector-in-transformed-coordinates\" data-toc-modified-id=\"Force-vector-in-transformed-coordinates-3.4.4\"><span class=\"toc-item-num\">3.4.4&nbsp;&nbsp;</span>Force vector in transformed coordinates</a></span></li></ul></li><li><span><a href=\"#General-measure-of-stresses-in-3D-solids\" data-toc-modified-id=\"General-measure-of-stresses-in-3D-solids-3.5\"><span class=\"toc-item-num\">3.5&nbsp;&nbsp;</span>General measure of stresses in 3D solids</a></span><ul class=\"toc-item\"><li><span><a href=\"#General-definition-of-stress\" data-toc-modified-id=\"General-definition-of-stress-3.5.1\"><span class=\"toc-item-num\">3.5.1&nbsp;&nbsp;</span>General definition of stress</a></span></li><li><span><a href=\"#Normal-stress-on-a-surface\" data-toc-modified-id=\"Normal-stress-on-a-surface-3.5.2\"><span class=\"toc-item-num\">3.5.2&nbsp;&nbsp;</span>Normal stress on a surface</a></span></li><li><span><a href=\"#Shear-stresses-on-a-surface\" data-toc-modified-id=\"Shear-stresses-on-a-surface-3.5.3\"><span class=\"toc-item-num\">3.5.3&nbsp;&nbsp;</span>Shear stresses on a surface</a></span></li><li><span><a href=\"#Stress-representation-on-a-coordinate-system\" data-toc-modified-id=\"Stress-representation-on-a-coordinate-system-3.5.4\"><span class=\"toc-item-num\">3.5.4&nbsp;&nbsp;</span>Stress representation on a coordinate system</a></span></li><li><span><a href=\"#Shear-stress-equivalence,-symmetric-tensor\" data-toc-modified-id=\"Shear-stress-equivalence,-symmetric-tensor-3.5.5\"><span class=\"toc-item-num\">3.5.5&nbsp;&nbsp;</span>Shear stress equivalence, symmetric tensor</a></span></li><li><span><a href=\"#Dimensionality-and-stresses\" data-toc-modified-id=\"Dimensionality-and-stresses-3.5.6\"><span class=\"toc-item-num\">3.5.6&nbsp;&nbsp;</span>Dimensionality and stresses</a></span></li></ul></li><li><span><a href=\"#Traction-vector-on-an-arbitrary-surface\" data-toc-modified-id=\"Traction-vector-on-an-arbitrary-surface-3.6\"><span class=\"toc-item-num\">3.6&nbsp;&nbsp;</span>Traction vector on an arbitrary surface</a></span><ul class=\"toc-item\"><li><span><a href=\"#Formulation\" data-toc-modified-id=\"Formulation-3.6.1\"><span class=\"toc-item-num\">3.6.1&nbsp;&nbsp;</span>Formulation</a></span></li><li><span><a href=\"#Stress-vector-projection\" data-toc-modified-id=\"Stress-vector-projection-3.6.2\"><span class=\"toc-item-num\">3.6.2&nbsp;&nbsp;</span>Stress vector projection</a></span></li><li><span><a href=\"#Area-projection\" data-toc-modified-id=\"Area-projection-3.6.3\"><span class=\"toc-item-num\">3.6.3&nbsp;&nbsp;</span>Area projection</a></span></li><li><span><a href=\"#Traction-on-a-boundary-surface\" data-toc-modified-id=\"Traction-on-a-boundary-surface-3.6.4\"><span class=\"toc-item-num\">3.6.4&nbsp;&nbsp;</span>Traction on a boundary surface</a></span></li><li><span><a href=\"#Stress-vector-projection,-again\" data-toc-modified-id=\"Stress-vector-projection,-again-3.6.5\"><span class=\"toc-item-num\">3.6.5&nbsp;&nbsp;</span>Stress vector projection, again</a></span></li><li><span><a href=\"#Example:-computation-stresses-on-a-given-surface\" data-toc-modified-id=\"Example:-computation-stresses-on-a-given-surface-3.6.6\"><span class=\"toc-item-num\">3.6.6&nbsp;&nbsp;</span>Example: computation stresses on a given surface</a></span></li></ul></li><li><span><a href=\"#Coordinate-transformation-of-2nd-order-tensor-(stress)\" data-toc-modified-id=\"Coordinate-transformation-of-2nd-order-tensor-(stress)-3.7\"><span class=\"toc-item-num\">3.7&nbsp;&nbsp;</span>Coordinate transformation of 2nd order tensor (stress)</a></span><ul class=\"toc-item\"><li><span><a href=\"#Formulation-by-simple-inspection\" data-toc-modified-id=\"Formulation-by-simple-inspection-3.7.1\"><span class=\"toc-item-num\">3.7.1&nbsp;&nbsp;</span>Formulation by simple inspection</a></span></li><li><span><a href=\"#Inverse-transformation\" data-toc-modified-id=\"Inverse-transformation-3.7.2\"><span class=\"toc-item-num\">3.7.2&nbsp;&nbsp;</span>Inverse transformation</a></span></li><li><span><a href=\"#Python-example:-stress-tensor-under-coordinate-transformation\" data-toc-modified-id=\"Python-example:-stress-tensor-under-coordinate-transformation-3.7.3\"><span class=\"toc-item-num\">3.7.3&nbsp;&nbsp;</span>Python example: stress tensor under coordinate transformation</a></span><ul class=\"toc-item\"><li><span><a href=\"#Using-of-matrix-formulation\" data-toc-modified-id=\"Using-of-matrix-formulation-3.7.3.1\"><span class=\"toc-item-num\">3.7.3.1&nbsp;&nbsp;</span>Using of matrix formulation</a></span></li><li><span><a href=\"#Use-of-tensor-operation\" data-toc-modified-id=\"Use-of-tensor-operation-3.7.3.2\"><span class=\"toc-item-num\">3.7.3.2&nbsp;&nbsp;</span>Use of tensor operation</a></span></li></ul></li><li><span><a href=\"#Transformation-of-stress-tensor-in-2D\" data-toc-modified-id=\"Transformation-of-stress-tensor-in-2D-3.7.4\"><span class=\"toc-item-num\">3.7.4&nbsp;&nbsp;</span>Transformation of stress tensor in 2D</a></span><ul class=\"toc-item\"><li><span><a href=\"#Example:-Uniaxial-stress-after-a-coordinate-transformation\" data-toc-modified-id=\"Example:-Uniaxial-stress-after-a-coordinate-transformation-3.7.4.1\"><span class=\"toc-item-num\">3.7.4.1&nbsp;&nbsp;</span>Example: Uniaxial stress after a coordinate transformation</a></span></li><li><span><a href=\"#Example:-A-general-stress-state-under-coordinate-transformation\" data-toc-modified-id=\"Example:-A-general-stress-state-under-coordinate-transformation-3.7.4.2\"><span class=\"toc-item-num\">3.7.4.2&nbsp;&nbsp;</span>Example: A general stress state under coordinate transformation</a></span></li></ul></li></ul></li><li><span><a href=\"#Principle-stresses\" data-toc-modified-id=\"Principle-stresses-3.8\"><span class=\"toc-item-num\">3.8&nbsp;&nbsp;</span>Principle stresses</a></span><ul class=\"toc-item\"><li><span><a href=\"#Eigenvalue-problem\" data-toc-modified-id=\"Eigenvalue-problem-3.8.1\"><span class=\"toc-item-num\">3.8.1&nbsp;&nbsp;</span>Eigenvalue problem</a></span></li><li><span><a href=\"#Characteristic-equation,-polynomial\" data-toc-modified-id=\"Characteristic-equation,-polynomial-3.8.2\"><span class=\"toc-item-num\">3.8.2&nbsp;&nbsp;</span>Characteristic equation, polynomial</a></span></li><li><span><a href=\"#Python-code-for-finding-principle-stresses-and-their-directions\" data-toc-modified-id=\"Python-code-for-finding-principle-stresses-and-their-directions-3.8.3\"><span class=\"toc-item-num\">3.8.3&nbsp;&nbsp;</span>Python code for finding principle stresses and their directions</a></span></li><li><span><a href=\"#Example:-computing-the-principal-stresses-and-principal-directions,-case-1\" data-toc-modified-id=\"Example:-computing-the-principal-stresses-and-principal-directions,-case-1-3.8.4\"><span class=\"toc-item-num\">3.8.4&nbsp;&nbsp;</span>Example: computing the principal stresses and principal directions, case-1</a></span></li></ul></li><li><span><a href=\"#Determination-of-the-principle-axis-angle\" data-toc-modified-id=\"Determination-of-the-principle-axis-angle-3.9\"><span class=\"toc-item-num\">3.9&nbsp;&nbsp;</span>Determination of the principle axis angle</a></span><ul class=\"toc-item\"><li><span><a href=\"#2D-cases\" data-toc-modified-id=\"2D-cases-3.9.1\"><span class=\"toc-item-num\">3.9.1&nbsp;&nbsp;</span>2D cases</a></span></li><li><span><a href=\"#Example:-computing-the-principal-stresses-and-principal-directions,-case-2\" data-toc-modified-id=\"Example:-computing-the-principal-stresses-and-principal-directions,-case-2-3.9.2\"><span class=\"toc-item-num\">3.9.2&nbsp;&nbsp;</span>Example: computing the principal stresses and principal directions, case-2</a></span></li><li><span><a href=\"#Closed-form-formulas-for-pure-2D-stress-states\" data-toc-modified-id=\"Closed-form-formulas-for-pure-2D-stress-states-3.9.3\"><span class=\"toc-item-num\">3.9.3&nbsp;&nbsp;</span>Closed-form formulas for pure 2D stress states</a></span><ul class=\"toc-item\"><li><span><a href=\"#Detailed-formulation\" data-toc-modified-id=\"Detailed-formulation-3.9.3.1\"><span class=\"toc-item-num\">3.9.3.1&nbsp;&nbsp;</span>Detailed formulation</a></span></li><li><span><a href=\"#Numerical-example:-a-pure-2D-case\" data-toc-modified-id=\"Numerical-example:-a-pure-2D-case-3.9.3.2\"><span class=\"toc-item-num\">3.9.3.2&nbsp;&nbsp;</span>Numerical example: a pure 2D case</a></span></li></ul></li><li><span><a href=\"#The-maximum-shear-stress-of-2D-stress-states\" data-toc-modified-id=\"The-maximum-shear-stress-of-2D-stress-states-3.9.4\"><span class=\"toc-item-num\">3.9.4&nbsp;&nbsp;</span>The maximum shear stress of 2D stress states</a></span></li><li><span><a href=\"#3D-cases-*\" data-toc-modified-id=\"3D-cases-*-3.9.5\"><span class=\"toc-item-num\">3.9.5&nbsp;&nbsp;</span>3D cases *</a></span></li></ul></li><li><span><a href=\"#Stress-invariants\" data-toc-modified-id=\"Stress-invariants-3.10\"><span class=\"toc-item-num\">3.10&nbsp;&nbsp;</span>Stress invariants</a></span></li><li><span><a href=\"#Special-stresses\" data-toc-modified-id=\"Special-stresses-3.11\"><span class=\"toc-item-num\">3.11&nbsp;&nbsp;</span>Special stresses</a></span><ul class=\"toc-item\"><li><span><a href=\"#Octahedral-stress\" data-toc-modified-id=\"Octahedral-stress-3.11.1\"><span class=\"toc-item-num\">3.11.1&nbsp;&nbsp;</span>Octahedral stress</a></span></li><li><span><a href=\"#The-von-Mises-stress\" data-toc-modified-id=\"The-von-Mises-stress-3.11.2\"><span class=\"toc-item-num\">3.11.2&nbsp;&nbsp;</span>The von Mises stress</a></span></li><li><span><a href=\"#The-strain-energy-stress\" data-toc-modified-id=\"The-strain-energy-stress-3.11.3\"><span class=\"toc-item-num\">3.11.3&nbsp;&nbsp;</span>The strain energy stress</a></span></li><li><span><a href=\"#Python-code-for-computing-various-stresses\" data-toc-modified-id=\"Python-code-for-computing-various-stresses-3.11.4\"><span class=\"toc-item-num\">3.11.4&nbsp;&nbsp;</span>Python code for computing various stresses</a></span></li><li><span><a href=\"#Example:-computation-of-various-stresses\" data-toc-modified-id=\"Example:-computation-of-various-stresses-3.11.5\"><span class=\"toc-item-num\">3.11.5&nbsp;&nbsp;</span>Example: computation of various stresses</a></span></li></ul></li><li><span><a href=\"#Mohr-circles,-geometric-representation\" data-toc-modified-id=\"Mohr-circles,-geometric-representation-3.12\"><span class=\"toc-item-num\">3.12&nbsp;&nbsp;</span>Mohr circles, geometric representation</a></span><ul class=\"toc-item\"><li><span><a href=\"#Formulation-for-2D-stress-states\" data-toc-modified-id=\"Formulation-for-2D-stress-states-3.12.1\"><span class=\"toc-item-num\">3.12.1&nbsp;&nbsp;</span>Formulation for 2D stress states</a></span></li><li><span><a href=\"#Mohr-Circle-and-stress-states\" data-toc-modified-id=\"Mohr-Circle-and-stress-states-3.12.2\"><span class=\"toc-item-num\">3.12.2&nbsp;&nbsp;</span>Mohr Circle and stress states</a></span></li><li><span><a href=\"#Mohr-circle-for-3D-stress-states-*\" data-toc-modified-id=\"Mohr-circle-for-3D-stress-states-*-3.12.3\"><span class=\"toc-item-num\">3.12.3&nbsp;&nbsp;</span>Mohr circle for 3D stress states *</a></span></li></ul></li><li><span><a href=\"#Python-code-for-plotting-Mohr-circle-*\" data-toc-modified-id=\"Python-code-for-plotting-Mohr-circle-*-3.13\"><span class=\"toc-item-num\">3.13&nbsp;&nbsp;</span>Python code for plotting Mohr circle *</a></span><ul class=\"toc-item\"><li><span><a href=\"#A-uniaxial-stress-state\" data-toc-modified-id=\"A-uniaxial-stress-state-3.13.1\"><span class=\"toc-item-num\">3.13.1&nbsp;&nbsp;</span>A uniaxial stress state</a></span></li><li><span><a href=\"#A-two-dimensional-(2D)-stress-state\" data-toc-modified-id=\"A-two-dimensional-(2D)-stress-state-3.13.2\"><span class=\"toc-item-num\">3.13.2&nbsp;&nbsp;</span>A two-dimensional (2D) stress state</a></span></li><li><span><a href=\"#A-three-dimensional-(3D)-stress-state\" data-toc-modified-id=\"A-three-dimensional-(3D)-stress-state-3.13.3\"><span class=\"toc-item-num\">3.13.3&nbsp;&nbsp;</span>A three-dimensional (3D) stress state</a></span></li></ul></li><li><span><a href=\"#Remarks\" data-toc-modified-id=\"Remarks-3.14\"><span class=\"toc-item-num\">3.14&nbsp;&nbsp;</span>Remarks</a></span></li></ul></li></ul></div>"
   ]
  },
  {
   "cell_type": "markdown",
   "metadata": {},
   "source": [
    "Let us import necessary external modules or dependence for later use in this chapter."
   ]
  },
  {
   "cell_type": "code",
   "execution_count": 1,
   "metadata": {
    "ExecuteTime": {
     "end_time": "2024-01-23T12:17:02.774839Z",
     "start_time": "2024-01-23T12:17:00.337827Z"
    }
   },
   "outputs": [],
   "source": [
    "# Place curse in this cell, and press Ctrl+Enter to import dependences. \n",
    "import sys                         # for accessing the computer system\n",
    "sys.path.append('../grbin/')  # Change to the directory in your system \n",
    "\n",
    "from commonImports import *       # Import dependences from '../grbin/'\n",
    "import grcodes as gr                 # Import the module of the author\n",
    "#importlib.reload(gr)            # When grcodes is modified, reload it\n",
    "\n",
    "from continuum_mechanics import vector \n",
    "init_printing(use_unicode=True)      # For latex-like quality printing \n",
    "np.set_printoptions(precision=4,suppress=True)  # Digits in print-outs"
   ]
  },
  {
   "cell_type": "markdown",
   "metadata": {},
   "source": [
    "## Forces and Stresses"
   ]
  },
  {
   "cell_type": "markdown",
   "metadata": {
    "ExecuteTime": {
     "end_time": "2022-09-16T14:46:17.658953Z",
     "start_time": "2022-09-16T14:46:17.639164Z"
    }
   },
   "source": [
    "### Introduction\n",
    "\n",
    "A force is a typical vector familiar to readers in almost all disciplines, not just in mechanics of materials. When a solid material is subject to the action of a force, stresses may result in the material. This chapter examines the force-stress relations. "
   ]
  },
  {
   "cell_type": "markdown",
   "metadata": {
    "ExecuteTime": {
     "end_time": "2022-09-16T14:46:17.658953Z",
     "start_time": "2022-09-16T14:46:17.639164Z"
    }
   },
   "source": [
    "#### Types of forces\n",
    "\n",
    "There are mainly two types of force in terms of its spatial distribution features: concentrated force (or point force), and distributed force. \n",
    "\n",
    "A **concentrated force** acts at a point in a solid material or at a point on the surface of a solid material. It carries a force unit  denoted as $[F]$. In the international unit, it is often Newton denoted as $[N]$. \n",
    "\n",
    "A **distributed force** acts over area or volume in solid material, or over an area on the surface of solid material. It is also often called **body force**. If it is over an area, the unit is $[F/L^2]$, where $L$ stands for a length unit. In the international unit, it is often meter $[m]$ or millimeter $[mm]$. A typical distributed force is the pressure on the surface of a solid, which can be exerted by air, water, or granular materials. If the distributed force is over an volume, the unit of force denoted as $[F/L^3]$. A typical case is the gravity force over solid material. Another often encountered cases are the centrifugal force and electromagnetic forces.   \n",
    "\n",
    "Note that truly concentrated or point force does not exist in practical applications in engineering. It is an idealized case of a distributed force over an every small area or volume. For conveniences in analysis, we lump it to a point, and treat it as a concentrated or point force, when our interest in studying it effects a distance away from it.  \n",
    "\n",
    "To study how a force is related to stress, let us first look at a simple one-dimensional (1D) case. "
   ]
  },
  {
   "cell_type": "markdown",
   "metadata": {},
   "source": [
    "### Example: a bar subjected to a point force\n",
    "\n",
    "Consider a solid with simple geometry of a straight bar with uniform cross-section made of isotropic linear elastic material. Its dimension of the cross-section is far smaller than its length $L$. \n",
    "\n",
    "In addition, the bar is fixed at the left-end, and subjected to a force at the right-end in the longitudinal direction denoted by the 1D coordinate $x$, as shown in Fig.\\ref{image:bar1D}.  \n",
    "\n",
    "<img src=\"./images/bar1D.png\" alt=\" \" width=\"450\"/><br>\n",
    "\\begin{figure}\n",
    "  \\includegraphics[width=5cm]{}\n",
    "  \\caption{\\label{image:bar1D} A bar fixed at its left-end and subjected to a force  $f_x$ at its right-end. One-dimensional coordinate $x$ is taken along the axial direction of the bar. When a cut is made to expose the cross-section surface, we see the stress $σ_{xx}$. Its distribution on the cross-section is uniform.}\n",
    "\\end{figure}\n",
    "\n",
    "Under these conditions, we assume that stress within the bar is uniform over its cross-section, and also uniform along its axial direction $x$. Hence the bar can be treated as 1D solid. The stress can be given as \n",
    "\n",
    "\\begin{equation} \\label{eqsbar}\n",
    "σ_{xx}= \\frac{f_x}{A_x} \n",
    "\\end{equation} \n",
    "\n",
    "where $f_x$ is the force in the $x$-direction. It is applied at a fixed location: $x=l$ $[L]$. The unit of force is in general denoted as $[F]$, which is often Newton $[N]$, and $A_x$ $[L^2]$ is the area of the cross-section that is **perpendicular** to its axial axis $x$. The stress has a unit of  $[F/L^2]$. The stress distribution on the cross-section is assumed uniform. \n",
    "\n",
    "Note here that the stress $σ_{xx}$ carries two subscripts. The first $x$ stands for the surface direction of the cross-section on which the stress is on, and the second $x$ stands for the direction of the stress. We note: \n",
    "\n",
    "> Stress in solid material depends on both **direction** of the force that causes the stress, and the direction of the **surface** on which is stress is on. It carries two subscripts to fully denote its feature.  \n",
    "\n",
    "With this conventional use of subscripts, the stress is precisely described in a given coordinate system. We call $σ_{xx}$ a **normal stress**, because its direction is normal to the cross-section surface. \n",
    "\n",
    "If our concern is confined in 1D problems, we can drop the two subscript and denote the stress simply as $σ$. One may see this notation often in the literature. For us, however, the concern is 3D in general, and 1D is just a special case. We shall stick on the two subscripts notation. Also, in general stresses are 2nd order tensors, and shall always carry two subscripts. We drop the subscripts and use simple notation of $σ$ only when there is no possibility of misleading.  \n",
    "\n",
    "For this 1D case, we have the simple force-stress relationship Eq.(\\ref{eqsbar}). If the bar is uniform in cross-section, $A_x$ is constant. Since $f_x$ is at a fix location if is a constant too (does not change with $x$). Therefore, $σ_{xx}$ is also constant. Its derivative with respect to $x$ will be zero. \n",
    "\n",
    "\\begin{equation} \\label{eqds0}\n",
    "\\frac{dσ_{xx}}{dx} = 0\n",
    "\\end{equation} \n",
    "\n",
    "Note that since our problem is 1D, the dimension and shape of the cross-section of the bar are immaterial. All we need is the bar is long, so that the stress is uniformly distributed over the cross-section. In fact, all the variables we deal with are all on its axial $x$-axis. "
   ]
  },
  {
   "cell_type": "markdown",
   "metadata": {},
   "source": [
    "### Example: a bar subjected to a distributed force \n",
    "\n",
    "#### Derivation of equilibrium equation \n",
    "\n",
    "Assume the external force applied to the bar is a body force $b_x$ distributed along the bar axial axis, as shown in Fig.\\ref{image:bar1D_FBD}.  \n",
    "\n",
    "<img src=\"./images/bar1D_FBD.png\" alt=\" \" width=\"450\"/><br>\n",
    "\\begin{figure}\n",
    "  \\includegraphics[width=5cm]{}\n",
    "  \\caption{\\label{image:bar1D_FBD} A bar fixed at its left-end and subjected to a body force $b_x$ distributed along the bar axial axis. A free-body digram with length $dx$ is shown with all the forces on it.}\n",
    "\\end{figure}"
   ]
  },
  {
   "cell_type": "markdown",
   "metadata": {},
   "source": [
    "Assume that stress is uniform over its cross-section, but it will not be uniform along its axial direction $x$, because of the distributed body force. The stress will be a function of the coordinate $x$. \n",
    "\n",
    "To analyze the stress at a location $x$ in the bar, we assume that the function of stress is sufficient smooth and hence **differentiable** at least for once. We can then cut off a free-body with an infinitely small $dx$, and look at the equilibrium condition for the free-body. The diagram is shown also in Fig.\\ref{image:bar1D_FBD}. We then put all the forces involved on the free-body diagram. Using the condition that all forces in the $x$-direction must be zero gives, \n",
    "\n",
    "\\begin{equation} \\label{eqFx0}\n",
    "\\sum F_x = 0:  \\;\\; -N_x + (N_x+dN_x) + b_x A_x dx = 0\n",
    "\\end{equation} \n",
    "\n",
    "where $N_x$ is the internal force in the $x$-direction on the cross-section of the bar. Because the normal of the left cross-section of the free-body is in the negative direction of $x$-axis, the positive internal force $N_x$ on the left cross-section is leftward. Equation (\\ref{eqFx0}) can be rewritten as  \n",
    "\n",
    "\\begin{equation} \\label{eqdNx0}\n",
    "\\frac{dN_x}{dx} + b_x A_x = 0 \n",
    "\\end{equation} "
   ]
  },
  {
   "cell_type": "markdown",
   "metadata": {},
   "source": [
    "The stress $σ_{xx}$ on the cross-section should be \n",
    "\n",
    "\\begin{equation} \\label{eqsxx}\n",
    "σ_{xx}=\\frac{N_x}{A_x} \n",
    "\\end{equation} \n",
    "\n",
    "Substituting Eq.(\\ref{eqsxx}) into Eq.(\\ref{eqdNx0}) gives,\n",
    "\n",
    "\\begin{equation} \\label{eqdsxx0}\n",
    "\\boxed{\\frac{dσ_{xx}}{dx} + b_x = 0 }\n",
    "\\end{equation} \n",
    "\n",
    "This is the **equilibrium equation** in terms of stress for 1D bars. \n",
    "\n",
    "Equation (\\ref{eqdsxx0}) can be rewritten as \n",
    "\n",
    "\\begin{equation} \\label{eqdsbx}\n",
    "\\frac{dσ_{xx}}{dx} = - b_x \n",
    "\\end{equation} \n",
    "\n",
    "This means that $\\frac{dσ_{xx}}{dx}$ is negated externally applied body force. Thus, for 1D cases, the derivative of the stress is called **divergence** of the stress. Equilibrium equation (\\ref{eqdsxx0}) states that the **stress divergence** is compensated by the externally **body force**. If there is no body force, the stress will not diverge, its derivative will be zero, as seen in Eq.(\\ref{eqds0}) for the previous example where we have only a point force at the right-end and no body force is involved.   "
   ]
  },
  {
   "cell_type": "markdown",
   "metadata": {},
   "source": [
    "#### Stress solution to 1D equilibrium equation\n",
    "\n",
    "Equation (\\ref{eqdsbx}) is a differential equation of stress. If the body force is an integrable function of $x$, we can found the stress solution analytically. As a simple example, if $b_x$ is constant, we have the general stress solution: \n",
    "\n",
    "\\begin{equation} \\label{eqsbx}\n",
    "σ_{xx} = - b_x x + c\n",
    "\\end{equation} \n",
    "\n",
    "where $c$ is the integral constant. It can be determined using boundary condition (BC). For our problem defined in Fig.\\ref{image:bar1D_FBD}, the stress BC is \n",
    "\n",
    "\\begin{equation} \\label{eqsxL}\n",
    "\\text{At } \\;\\; x = L: \\;\\; σ_{xx}=0  \n",
    "\\end{equation} \n",
    "\n",
    "Using BC Eq.(\\ref{eqsxL}) in Eq.(\\ref{eqsbx}), we found:\n",
    "\n",
    "\\begin{equation} \\label{eqsc}\n",
    "c =  b_x L \n",
    "\\end{equation} \n",
    "\n",
    "The final solution becomes,\n",
    "\n",
    "\\begin{equation} \\label{eqfsbx}\n",
    "σ_{xx} = - b_x x +b_x L = b_x (L-x)\n",
    "\\end{equation} \n",
    "\n",
    "It is a linear function of $x$. It is zero at $x=L$ and has a maximum of $σ_{xx} = b_x L$ at $x=0$.\n",
    "\n",
    "Readers may set body force $b_x$ to another integrable function, such a polynomial or trigonometric function and then find the stress solution along the bar. Readers may consider cases with concentrated force $f$ at $x=L$, in addition to the body force.  "
   ]
  },
  {
   "cell_type": "markdown",
   "metadata": {},
   "source": [
    "### Force vectors in higher dimensions\n",
    "\n",
    "Forces are vectors. Thus, in higher dimensions we need a proper description for it. "
   ]
  },
  {
   "cell_type": "markdown",
   "metadata": {},
   "source": [
    "#### Graphic representation of force vectors\n",
    "\n",
    "Consider an arbitrary force acting at the center of a rigid block denoted as $\\mathbf{f}$ in $\\mathbb{R}^{3}$, as shown in Fig.\\ref{image:ForceVector}. It can be decomposed into three components, as discussed in the previous chapter. \n",
    "\n",
    "<img src=\"./images/ForceVector.png\" alt=\" \" width=\"350\"/><br>\n",
    "\\begin{figure}\n",
    "  \\includegraphics[width=5cm]{}\n",
    "  \\caption{\\label{image:ForceVector} A force $\\mathbf{f}$ acting at the center of a rigid block. It can be decomposed into three components $f_1, f_2$ and $f_3$ on three axes of an orthogonal coordinate system, respectively, following the orthogonal projection rule.}\n",
    "\\end{figure}"
   ]
  },
  {
   "cell_type": "markdown",
   "metadata": {},
   "source": [
    "#### Components of a force, orthogonal projection\n",
    "\n",
    "We first decompose it to two vectors: a vertical component $f_3\\mathbf{i}_3$ and $\\mathbf{f}_s$ following the **orthogonal projection rule**. The $\\mathbf{f}_s$ is then further decomposed into two vectors: $f_1\\mathbf{i}_1$ and $f_2\\mathbf{i}_2$ following also the orthogonal projection rule. This process results in three components of $\\mathbf{f}$: $f_1, f_2$ and $f_3$, respectively, on $x_1$-, $x_2$-, and $x_3$-axis. The force vector can written uniquely as\n",
    "\n",
    "\\begin{equation} \\label{eqavctf}\n",
    "\\mathbf{f} = \\begin{bmatrix}f_1\\\\f_2\\\\f_3\\end{bmatrix}\n",
    "\\end{equation} "
   ]
  },
  {
   "cell_type": "markdown",
   "metadata": {},
   "source": [
    "#### Equivalence of force vector and its components\n",
    "\n",
    "It is clear that this representation of a vector is **unique** under a fixed coordinate, meaning that any change, in length or in direction, in $\\mathbf{f}$ will results in unique changes in values of $f_1, f_2$ and $f_3$, and vice versa, so long the **orthogonal projection** rule is followed. This mutual unique representation ensures the **equivalent** representation, meaning that force vector $\\mathbf{f}$ are equivalent to its components $f_1, f_2$ and $f_3$ in terms of mechanics effect. "
   ]
  },
  {
   "cell_type": "markdown",
   "metadata": {},
   "source": [
    "#### Force vector in transformed coordinates\n",
    "\n",
    "Note that when the coordinate system transformations, the values of $f_1, f_2$ and $f_3$ change according to the orthogonal projection rule, but the basic property, amplitude and direction, of vector $\\mathbf{f}$ do not change. Therefore, force vectors are tensor. It is of order one, because its components have only one index. \n",
    "\n",
    "Consider a force vector $\\mathbf{f}$ in coordinate $\\mathbf{x}$, and the rotated coordinate $\\mathbf{x}'$. Using the transformation tensor $\\mathbf{T}$ defined in the previous chapter, the values of vector $\\mathbf{f}'$  becomes: \n",
    "\n",
    "\\begin{equation} \\label{eqfp}\n",
    "\\boxed{f_i'=a_{ij}f_{j}}\n",
    "\\end{equation}\n",
    "\n",
    "where $f'_i$ is obtained following the orthogonal projection rule. On the right hand side of Eq.(\\ref{eqfp}), we see that the **2nd index** $j$ of $\\mathbf{T}$ is **contracted** with the index of $\\mathbf{f}$. This leave one index $i$, meaning that the outcome is a new vector. "
   ]
  },
  {
   "cell_type": "markdown",
   "metadata": {},
   "source": [
    "In matrix notation, we have\n",
    "\n",
    "\\begin{equation} \\label{eqTMfp}\n",
    "\\boxed{\\mathbf{f}'=\\mathbf{T}\\mathbf{f} }\n",
    "\\end{equation}\n",
    "\n",
    "which achieves the correct contraction through the standard matrix multiplication rule.\n",
    "\n",
    "Because $\\mathbf{T}$ is unitary, the inverse transformation can be simply done using the transpose of $\\mathbf{T}$:\n",
    "\n",
    "\\begin{equation} \\label{eqTMvpI}\n",
    "\\mathbf{f}=\\mathbf{T}^\\top \\mathbf{f}' \n",
    "\\end{equation}\n",
    "\n",
    "Or in the indicial notation: \n",
    "\n",
    "\\begin{equation} \\label{eqfpI}\n",
    "f_i=a_{ji}f_{j}'\n",
    "\\end{equation}\n",
    "\n",
    "All we need is to **swap the order of the two indexes** of $a_{ij}$, which is equivalent to the transpose to the matrix $\\mathbf{T}$ in matrix multiplication. "
   ]
  },
  {
   "cell_type": "markdown",
   "metadata": {},
   "source": [
    "### General measure of stresses in 3D solids\n",
    "\n",
    "#### General definition of stress\n",
    "\n",
    "Consider a three-dimensional (3D) solid with arbitrary geometry. It is constrained so that it cannot have any rigid-body displacements, and is loaded by point forces and/or distributed forces like pressure, resulting in stresses distributed over the solid. A schematic drawing is given in Fig.\\ref{image:StressDef}.  \n",
    "\n",
    "<img src=\"./images/StressDef.png\" alt=\" \" width=\"400\"/><br>\n",
    "\\begin{figure}\n",
    "  \\includegraphics[width=5cm]{}\n",
    "  \\caption{\\label{image:StressDef} A (3D) solid with arbitrary geometry. It is constrained and loaded by forces and/or distributed forces like pressures. An imaginary plane-P cuts off a part of the solid and expose a surface with unit normal $\\mathbf{n}$. Stress analysis can then be done on the surface-$\\mathbf{n}$.}\n",
    "\\end{figure}"
   ]
  },
  {
   "cell_type": "markdown",
   "metadata": {},
   "source": [
    "To view the stresses inside the solids, we use an imaginary plane-P to cut off a part of the solid and expose a surface with unit normal direction of $\\mathbf{n}$. Because any surface can be identified by its normal, let us called it surface-$\\mathbf{n}$ for convenience in our analysis. The effect of the cut-off part is replaced by a force vector $\\mathbf{f}$ that can be in arbitrary direction changing from location to location. This force results in stresses distributed over the surface-$\\mathbf{n}$, meaning that the value and direction of the stresses vary also from location to location. \n",
    "\n",
    "Now, look at a small area $\\Delta A_n$ on the surface-$\\mathbf{n}$. The force on $\\Delta A_n$ becomes $\\Delta \\mathbf{f}$, and a stress vector $\\mathbf{σ}_n$ on it caused by $\\Delta \\mathbf{f}$ can be obtained using,\n",
    "\n",
    "\\begin{equation} \\label{eqsnvec}\n",
    "\\mathbf{σ}_n=\\lim_{\\Delta A_n \\to 0} \\frac{\\Delta \\mathbf{f}}{\\Delta A_n} \n",
    "\\end{equation} \n",
    "\n",
    "The direction of stress vector $\\mathbf{σ}_n$ is the same as $\\mathbf{f}$ at the limit. Notice that $\\mathbf{n}$ stands for the surface of the stress vector is on (not the direction of the stress!). If $\\mathbf{n}$ is taken as the direction of the $x$-axis of the Cartesian coordinate system, we shall have $\\mathbf{σ}_i$ defined, which is the stress vector is on surface $\\mathbf{i}$. The same argument applies to $\\mathbf{σ}_j$ and $\\mathbf{σ}_k$."
   ]
  },
  {
   "cell_type": "markdown",
   "metadata": {},
   "source": [
    "#### Normal stress on a surface\n",
    "\n",
    "Force vector $\\Delta \\mathbf{f}$ can be decomposed, via orthogonal projections, to normal force vector $\\Delta f_n \\mathbf{n}$ in the normal direction of the surface and shear force vector $\\Delta \\mathbf{f}_s$ on the surface. We obtain,\n",
    "\n",
    "\\begin{equation} \\label{eqsPn}\n",
    "\\sigma_{nn}=\\lim_{\\Delta A_n \\to 0} \\frac{\\Delta f_n}{\\Delta A_n} \n",
    "\\end{equation} \n",
    "\n",
    "where stress $\\sigma_{nn}$ is the normal stress component on the surface-$\\mathbf{n}$. Its direction is indicated by the 2nd subscript $\\mathbf{n}$. Hence, $\\sigma_{nn}$ is the stress on surface $\\mathbf{n}$ (the 1st index) and in the direction of $\\mathbf{n}$ (the 2nd index).  If $\\mathbf{n}$ is taken as the direction of the $x$-axis of the Cartesian coordinate system, we shall have $\\mathbf{σ}_{xx}$ defined, which is the normal stress on surface $\\mathbf{i}$. The same argument applies also to $\\mathbf{σ}_{yy}$ and $\\mathbf{σ}_{zz}$."
   ]
  },
  {
   "cell_type": "markdown",
   "metadata": {},
   "source": [
    "#### Shear stresses on a surface\n",
    "\n",
    "The shear force vector $\\Delta \\mathbf{f}_s$ results in a stress vector expressed as \n",
    "\n",
    "\\begin{equation} \\label{eqsnsv}\n",
    "\\mathbf{σ}_{\\mathbf{s}}=\\lim_{\\Delta_n A \\to 0} \\frac{\\Delta \\mathbf{f}_s}{\\Delta A_n} \n",
    "\\end{equation} \n",
    "\n",
    "The direction of stress vector $\\mathbf{σ}_{\\mathbf{s}}$ is the same as $\\mathbf{f}_s$ at the limit. \n",
    "\n",
    "Notice that $\\mathbf{σ}_{\\mathbf{n}}$ and $\\mathbf{σ}_{\\mathbf{s}}$ are at the same point in the same surface, following the orthogonal projection rule. "
   ]
  },
  {
   "cell_type": "markdown",
   "metadata": {},
   "source": [
    "Next, to quantify the shear stress vector $\\mathbf{σ}_{\\mathbf{s}}$, we introduce a two-dimensional (2D) orthogonal coordinate system ($r, q$) on the surface, as shown in Fig.\\ref{image:ShearForcesOnP} \n",
    "\n",
    "<img src=\"./images/ShearForcesOnP.png\" alt=\" \" width=\"200\"/><br>\n",
    "\\begin{figure}\n",
    "  \\includegraphics[width=5cm]{}\n",
    "  \\caption{\\label{image:ShearForcesOnP} The shear force on surface-$\\mathbf{n}$ (plane P) and its components on the $r-q$ coordinates that are orthogonal.}\n",
    "\\end{figure}"
   ]
  },
  {
   "cell_type": "markdown",
   "metadata": {},
   "source": [
    "The force component $\\Delta f_r $ results in the following shear stress component on the surface.  \n",
    "\n",
    "\\begin{equation} \\label{eqsPr}\n",
    "\\sigma_{nr}=\\lim_{\\Delta A_n \\to 0} \\frac{\\Delta f_r}{\\Delta A_n} \n",
    "\\end{equation} \n",
    "\n",
    "where $\\sigma_{nr}$ is the stress component on the $r$-axis. \n",
    "\n",
    "The force component $\\Delta f_q $ results in: \n",
    "\n",
    "\\begin{equation} \\label{eqsPq}\n",
    "\\sigma_{nq}=\\lim_{\\Delta A_n \\to 0} \\frac{\\Delta f_q}{\\Delta A_n} \n",
    "\\end{equation} \n",
    "\n",
    "where $\\sigma_{nq}$ is the stress component on the $q$-axis. "
   ]
  },
  {
   "cell_type": "markdown",
   "metadata": {},
   "source": [
    "The choice of coordinates $r$ and $q$ can be arbitrary, as long as they both are orthogonal, and follow the right-hand-rule with $\\mathbf{n}$: $\\mathbf{n}=\\mathbf{i}_r\\times \\mathbf{i}_q$, where $\\mathbf{i}_r$ and $\\mathbf{i}_q$ are unit vectors, respectively, on the $r$- and $q$-axes. \n",
    "\n",
    "In summary, we obtain three stress components on the surface-$\\mathbf{n}$ at the center of $\\Delta A_n$: normal stress $\\sigma_{nn}$, shear stresses $\\sigma_{nr}$, and $\\sigma_{nq}$. The directions of these three stress components are orthogonal. These three stress components quantify completely and uniquely the stress vector $\\mathbf{σ}_{n}$ on the surface at the center of $\\Delta A_n$ for a given coordinate system. \n",
    "\n",
    "In the Cartesian coordinate system, suppose $\\mathbf{n}$ is taken as the direction of the $z$-axis, $r$ is taken as the $x$-axis, $q$ is taken as the $y$-axis, we shall have normal stress $\\mathbf{σ}_{xx}$, shear stress $\\mathbf{σ}_{xy}$ and shear stress $\\mathbf{σ}_{zx}$. These stresses all on the same surface $x$, but pointing, respectively, to $x$, $y$, and $z$ directions. "
   ]
  },
  {
   "cell_type": "markdown",
   "metadata": {},
   "source": [
    "Let state some important **Remarks:** \n",
    "\n",
    "+ All stress measure depends on the area of the surface, in addition to its direction. Thus, **there must be two indexes for a stress component**. This is the root reason for stress to be 2nd order tensors. \n",
    "\n",
    "+ At a point on a surface in 3D solid, there are in general **three stress components**: one normal and two shears. **The directions of these three stress components are orthogonal**, as long as the coordinates used are orthogonal. "
   ]
  },
  {
   "cell_type": "markdown",
   "metadata": {},
   "source": [
    "#### Stress representation on a coordinate system\n",
    "\n",
    "Consider a point in a stressed solid. To view all the stress components at the point, we must expose the surfaces surrounding the point. From the discussion above, we know that each surface can have a total of three stress components: one normal and two shears. To present these stress components on surfaces that are orthogonal with each other, we cut a small cube from the solid surrounding that point, as shown in Fig.\\ref{image:StressesOnCub}. These surfaces on the cube are along with the Cartesian coordinates and hence orthogonal.  \n",
    "\n",
    "<img src=\"./images/StressesOnCub.png\" alt=\" \" width=\"350\"/><br>\n",
    "\\begin{figure}\n",
    "  \\includegraphics[width=5cm]{}\n",
    "  \\caption{\\label{image:StressesOnCub} Stress components on surfaces of a cube in a Cartesian coordinate system. There are three pairs of orthogonal surfaces: surface-x, -y, and -z. Each pair has an opposite normal. The directions of these three stress components on a surface are orthogonal.}\n",
    "\\end{figure} "
   ]
  },
  {
   "cell_type": "markdown",
   "metadata": {},
   "source": [
    "There are six surfaces on the cube, forming three pairs of surfaces with opposite direction. All these pairs of surfaces are infinitely close to represent the point. A Cartesian coordinate is defined with three axes: $x$, $y$ and $z$, all being perpendicular to these pair of surfaces. On each of these six surfaces, we put three stress components on it. We now choose $r$ and $q$ in-line with $x$, or $y$ or $z$, so that the orthogonality is followed. We require also the right-hand-rule is observed. All these stress components are now shown in Fig.\\ref{image:StressesOnCub}. "
   ]
  },
  {
   "cell_type": "markdown",
   "metadata": {},
   "source": [
    "On any pair of opposite surfaces the stress components should be the same, because these surfaces are infinitely close. But their directions are opposite, because of the opposite surface direction. Therefore, there are a total of nine stress components on the cub representing the stress states at the point. The notation convention is as follows. \n",
    "\n",
    "\\begin{equation} \\label{eqsij}\n",
    "\\boxed{\\sigma_{\\underbrace{i}_{\\text{surface that stress is on }}\\;  \\underbrace{j}_{\\text{direction of the stress}}} }\n",
    "\\end{equation} \n",
    "\n",
    "in which $i,j=x,y,z$ (or 1,2,3). Thus, these indexes covers all the nine stress components uniquely. "
   ]
  },
  {
   "cell_type": "markdown",
   "metadata": {},
   "source": [
    "#### Shear stress equivalence, symmetric tensor\n",
    "\n",
    "Let us examine the relationship between a pair of shear stresses: $\\sigma_{yz}$ and $\\sigma_{zy}$, by considering the mechanics requirement of equilibrium conditions, using Fig.\\ref{image:ShearEquivalence} \n",
    "\n",
    "<img src=\"./images/ShearEquivalence.png\" alt=\" \" width=\"350\"/><br>\n",
    "\\begin{figure}\n",
    "  \\includegraphics[width=5cm]{}\n",
    "  \\caption{\\label{image:ShearEquivalence} Moment equilibrium about the axis of A-A'. All the stress components on the cube that contribute to the moment are in red.}\n",
    "\\end{figure}"
   ]
  },
  {
   "cell_type": "markdown",
   "metadata": {},
   "source": [
    "We look at the moment equilibrium about the axis of A-A' in the $x$-direction. The stress components that contribute to such a moment are in red: a pair of $\\sigma_{yz}$ on the $y$-planes, and pair of $\\sigma_{zy}$ on the $z$-planes.  Because of the orthogonality, all other stresses contribute nothing to the moment about A-A'. The equilibrium law requires the total moment caused by the forces resulted from these stresses being zero, we have: \n",
    "\n",
    "\\begin{equation} \\label{eqM0}\n",
    "\\underbrace{(\\sigma_{yz} dx dz)}_{\\text{force }} \\underbrace{dy}_{\\text{ arm }} -\n",
    "\\underbrace{(\\sigma_{zy} dx dy)}_{\\text{force }} \\underbrace{dz}_{\\text{ arm }} =0\n",
    "\\end{equation} \n",
    "\n",
    "which leads to the shear stress equivalence for $\\sigma_{yz}$ and $\\sigma_{zy}$: \n",
    "\n",
    "\\begin{equation} \\label{eqsseq}\n",
    "\\sigma_{yz}=\\sigma_{zy} \n",
    "\\end{equation} \n",
    "\n",
    "Note that the forgoing equation holds regardless the actual length of $dx$ or $dy$, or $dz$, so long the coordinates are orthogonal. "
   ]
  },
  {
   "cell_type": "markdown",
   "metadata": {},
   "source": [
    "Similarly, by examine the moment equilibrium about other two axes in other two directions, we can obtain \n",
    "\n",
    "\\begin{equation} \\label{eqsseq2}\n",
    "\\sigma_{xz}=\\sigma_{zx} \\\\\n",
    "\\sigma_{xy}=\\sigma_{yx} \n",
    "\\end{equation} \n",
    "\n",
    "Readers may try to get one of these equations in Eq.(\\ref{eqsseq2}). Equations (\\ref{eqsseq}) and (\\ref{eqsseq2}) are known as the **shear stress equivalence**. It can be written in indicial notation as,\n",
    "\n",
    "\\begin{equation} \\label{eqsseqij}\n",
    "\\sigma_{ij}=\\sigma_{ji}  \\;\\; \\forall i,j=1,2,3\n",
    "\\end{equation} \n",
    "\n",
    "Because of these three equivalence conditions, the number of independent stress components become six.  \n",
    "\n",
    "Equations (\\ref{eqsseqij}) is known as the symmetry of stress components, and hence the stress tensor is thus said a **symmetric tensor**: their indexes are interchangeable. It is all rooted at the **shear stress equivalence**, as the consequence of the mechanics **equilibrium condition**. As stated in the Noether's theorem \"every differentiable symmetry of the action of a physical system with conservative forces has a corresponding conservation law\". "
   ]
  },
  {
   "cell_type": "markdown",
   "metadata": {},
   "source": [
    "#### Dimensionality and stresses\n",
    "\n",
    "Stress in mechanics of materials in general is a symmetric tensor of 2nd order, as discussed above. It can be written in indicial notation simply as $\\sigma_{ij}$. For 1D problems, $i$ and $j$ have a range of 1, for 2D problems, $i$ and $j$ with a range of 2, and for 3D problems, a range of 3. \n",
    "\n",
    "It has also the following three form of matrix representations: \n",
    "\n",
    "\\begin{equation} \\label{eqsM}\n",
    "\\mathbf{σ}=[\\sigma_{ij}]=\\begin{bmatrix}\n",
    "σ_{11} & σ_{12} & σ_{13}\\\\\n",
    "σ_{21} & σ_{22} & σ_{23}\\\\\n",
    "σ_{31} & σ_{32} & σ_{33}\\end{bmatrix} =\\begin{bmatrix}\n",
    "σ_{xx} & σ_{xy} & σ_{xz}\\\\\n",
    "σ_{yx} & σ_{yy} & σ_{yz}\\\\\n",
    "σ_{zx} & σ_{zy} & σ_{zz}\\end{bmatrix}\n",
    "\\end{equation} \n",
    "\n",
    "Because the stress tensor is symmetric, in space $\\mathbb{R}^3$, the matrix is a  3$\\times 3$ symmetric matrix \\cite{boresi1985advanced,liu2013finite,liusmoothed}. We have only 6 independent components. This book use all these three notation interchangeably. \n",
    "\n",
    "In space $\\mathbb{R}^2$, it is a 2$\\times 2$ symmetric matrix, it has only 3 components. Eq. (\\ref{eqsM}) becomes,\n",
    "\n",
    "\\begin{equation} \\label{eqsM2D}\n",
    "\\mathbf{σ}=[\\sigma_{ij}]=\\begin{bmatrix}\n",
    "σ_{11} & σ_{12} \\\\\n",
    "σ_{12} & σ_{22} \\end{bmatrix} = \\begin{bmatrix}\n",
    "σ_{xx} & σ_{xy} \\\\\n",
    "σ_{yx} & σ_{yy}  \\end{bmatrix}\n",
    "\\end{equation} \n",
    "\n",
    "In space $\\mathbb{R}^1$, it is a scalar, and hence there is only 1 component. One may write it in any of these forms: $σ_{11}$, $σ_{xx}$, or simply $σ$. This is the case we examined at the beginning of this chapter. "
   ]
  },
  {
   "cell_type": "markdown",
   "metadata": {},
   "source": [
    "The analysis given above shall establish an accurate concept about the stresses and stress tensor. \n",
    "\n",
    "It is the right time to re-enforce the concept, by writing the following code to create in computer the stress tensor. First, define stress tensor for later symbolic computations.  "
   ]
  },
  {
   "cell_type": "code",
   "execution_count": 54,
   "metadata": {
    "ExecuteTime": {
     "end_time": "2024-01-22T13:48:43.608680Z",
     "start_time": "2024-01-22T13:48:42.553677Z"
    }
   },
   "outputs": [
    {
     "data": {
      "text/latex": [
       "$\\displaystyle \\left[\\begin{matrix}σ_{11} & σ_{12} & σ_{13}\\\\σ_{21} & σ_{22} & σ_{23}\\\\σ_{31} & σ_{32} & σ_{33}\\end{matrix}\\right]$"
      ],
      "text/plain": [
       "⎡σ₁₁  σ₁₂  σ₁₃⎤\n",
       "⎢             ⎥\n",
       "⎢σ₂₁  σ₂₂  σ₂₃⎥\n",
       "⎢             ⎥\n",
       "⎣σ₃₁  σ₃₂  σ₃₃⎦"
      ]
     },
     "execution_count": 54,
     "metadata": {},
     "output_type": "execute_result"
    }
   ],
   "source": [
    "# define stress components as symbolic variable\n",
    "s11, s12, s13 = \"\\u03C3_11\", \"\\u03C3_12\", \"\\u03C3_13\" \n",
    "s21, s22, s23 = \"\\u03C3_21\", \"\\u03C3_22\", \"\\u03C3_23\" \n",
    "s31, s32, s33 = \"\\u03C3_31\", \"\\u03C3_32\", \"\\u03C3_33\" \n",
    "\n",
    "S = MatrixSymbol('S', 3, 3)\n",
    "\n",
    "S = Matrix([[s11, s12, s13],\n",
    "            [s21, s22, s23],\n",
    "            [s31, s32, s33]])\n",
    "S                                  # a stress tensor"
   ]
  },
  {
   "cell_type": "markdown",
   "metadata": {},
   "source": [
    "Stresses in 2D can be obtained by simply slicing in Python. "
   ]
  },
  {
   "cell_type": "code",
   "execution_count": 57,
   "metadata": {
    "ExecuteTime": {
     "end_time": "2024-01-22T13:51:41.727175Z",
     "start_time": "2024-01-22T13:51:40.804894Z"
    }
   },
   "outputs": [
    {
     "data": {
      "image/png": "[encoded data removed]",
      "text/latex": [
       "$\\displaystyle σ_{11}$"
      ],
      "text/plain": [
       "σ₁₁"
      ]
     },
     "execution_count": 57,
     "metadata": {},
     "output_type": "execute_result"
    }
   ],
   "source": [
    "S[0,0]"
   ]
  },
  {
   "cell_type": "code",
   "execution_count": 3,
   "metadata": {
    "ExecuteTime": {
     "end_time": "2024-01-22T12:06:30.856778Z",
     "start_time": "2024-01-22T12:06:29.103304Z"
    }
   },
   "outputs": [
    {
     "data": {
      "text/latex": [
       "$\\displaystyle \\left[\\begin{matrix}σ_{11} & σ_{12}\\\\σ_{21} & σ_{22}\\end{matrix}\\right]$"
      ],
      "text/plain": [
       "⎡σ₁₁  σ₁₂⎤\n",
       "⎢        ⎥\n",
       "⎣σ₂₁  σ₂₂⎦"
      ]
     },
     "execution_count": 3,
     "metadata": {},
     "output_type": "execute_result"
    }
   ],
   "source": [
    "S2D = S[:2,:2]\n",
    "S2D"
   ]
  },
  {
   "cell_type": "markdown",
   "metadata": {},
   "source": [
    "Further, the stress in 1D can be obtained by simply indexing in Python. "
   ]
  },
  {
   "cell_type": "code",
   "execution_count": 5,
   "metadata": {
    "ExecuteTime": {
     "end_time": "2023-09-05T19:30:30.652566Z",
     "start_time": "2023-09-05T19:30:29.149286Z"
    }
   },
   "outputs": [
    {
     "data": {
      "image/png": "[encoded data removed]",
      "text/latex": [
       "$\\displaystyle σ_{11}$"
      ],
      "text/plain": [
       "σ₁₁"
      ]
     },
     "execution_count": 5,
     "metadata": {},
     "output_type": "execute_result"
    }
   ],
   "source": [
    "S[0,0]"
   ]
  },
  {
   "cell_type": "markdown",
   "metadata": {},
   "source": [
    "### Traction vector on an arbitrary surface \n",
    "\n",
    "#### Formulation\n",
    "\n",
    "Suppose we know the stress tensor $\\mathbf{σ}$ (in nine components) at a point in solid. We would like to know the traction on a pre-specified surface with normal direction of $\\mathbf{n}=(n_1, n_2, n_3)$, in which $n_1, n_2, n_3$ are the direction cosines for the unit normal vector of the surface-$\\mathbf{n}$. We shall have:\n",
    "\n",
    "\\begin{equation} \\label{eqlmn}\n",
    "n_1=\\cos(x,n)\\\\\n",
    "n_2=\\cos(y,n)\\\\\n",
    "n_3=\\cos(z,n) \n",
    "\\end{equation}\n",
    "\n",
    "The setting is shown in Figure \\ref{image:StressesOnP}. Note in the literature, some authors may use $\\mathbf{n}=(l,m,n)$ to denote these direction cosines. \n",
    "\n",
    "<img src=\"./images/StressesOnP.png\" alt=\" \" width=\"350\"/><br>\n",
    "\\begin{figure}\n",
    "  \\includegraphics[width=5cm]{}\n",
    "  \\caption{\\label{image:StressesOnP} Stresses on an arbitrary surface-$\\mathbf{n}$ for a point in solid with stress tensor given.}\n",
    "\\end{figure}"
   ]
  },
  {
   "cell_type": "markdown",
   "metadata": {},
   "source": [
    "#### Stress vector projection\n",
    "\n",
    "First, the stress vector $\\boldsymbol\\sigma_{n}$ on surface-$\\mathbf{n}$ can be projected orthogonally on the $x, y$ and $z$ directions, or $x_1, x_2$ and $x_3$ directions in indicial notation, and can be expressed as follows. \n",
    "\n",
    "\\begin{equation} \\label{eqSvP}\n",
    "\\mathbf{σ}_{n}= \\sigma_{nx}\\mathbf{i}_1+\\sigma_{ny}\\mathbf{i}_2 +\\sigma_{nz}\\mathbf{i}_3\n",
    "\\end{equation} \n",
    "\n",
    "where $\\mathbf{i}_1, \\mathbf{i}_2$, and $\\mathbf{i}_3$ are, respectively, the unit vectors on the $x_1, x_2$ and $x_3$-axes. These unit vectors are also denoted in literature as $\\mathbf{i}, \\mathbf{j}$, and $\\mathbf{k}$. \n",
    "\n",
    "Equation (\\ref{eqSvP}) can be written as\n",
    "\n",
    "\\begin{equation} \\label{eqSvPi}\n",
    "\\mathbf{σ}_{n}= \\sigma_{ni}\\mathbf{i}_i\n",
    "\\end{equation} \n",
    "\n",
    "in which $\\sigma_{n1}=\\sigma_{nx}, \\sigma_{n2}=\\sigma_{ny}$, and $\\sigma_{n3}=\\sigma_{nz}$. Equation (\\ref{eqSvPi}) or (\\ref{eqSvP}) is a result from stress vector projection. "
   ]
  },
  {
   "cell_type": "markdown",
   "metadata": {},
   "source": [
    "#### Area projection\n",
    "\n",
    "The forces resulted from $\\sigma_{ni}, i=1,2,3$ should be **in equilibrium** with the forces resulted from the given nine stress components. Consider first the components in the $x$-direction, we have: \n",
    "\n",
    "\\begin{equation} \\label{eqSvPAs}\n",
    "\\sigma_{nx}A_n= A_x\\sigma_{xx} +A_y\\sigma_{yx}+A_z\\sigma_{zx} \\\\\n",
    "\\end{equation} \n",
    "\n",
    "where $A_n$ is the area of surface-$\\mathbf{n}$, $A_x$ is the area of surface-x, $A_y$  the area of surface-y, and $A_z$ the area of surface-z, as shown in Figure \\ref{image:StressesOnP}. These areas have the following relationship:\n",
    "\n",
    "\\begin{equation} \\label{eqAs}\n",
    "\\begin{split}\n",
    "A_x&=n_1 A_n\\\\\n",
    "A_y&=n_2 A_n\\\\\n",
    "A_z&=n_3 A_n \n",
    "\\end{split}\n",
    "\\end{equation} "
   ]
  },
  {
   "cell_type": "markdown",
   "metadata": {},
   "source": [
    "This is because $A_x$ is the **orthogonal projection** of $A_n$ along the $x$ direction, $A_y$ is that along $y$ direction, and $A_z$ is that along $z$. Equation(\\ref{eqSvPAs}) becomes, \n",
    "\n",
    "\\begin{equation} \\label{eqSvPlmn}\n",
    "\\sigma_{nx} = n_1 \\sigma_{xx} +n_2\\sigma_{yx}+n_3\\sigma_{zx} \\;\\; \\text{ on surface-$\\mathbf{n}$ in $x$-direction} \n",
    "\\end{equation} \n",
    "\n",
    "This is the stress on surface-$\\mathbf{n}$ in the $x$-direction. Similarly, we have: \n",
    "\n",
    "\\begin{equation} \\label{eqSvPxyz}\n",
    "\\sigma_{ny}= n_1\\sigma_{xy} +n_2\\sigma_{yy}+n_3\\sigma_{zy} \\;\\; \\text{ on surface-$\\mathbf{n}$ in $y$-direction} \\\\\n",
    "\\sigma_{nz}= n_1\\sigma_{xz} +n_2\\sigma_{yz}+n_3\\sigma_{zz} \\;\\; \\text{ on surface-$\\mathbf{n}$ in $z$-direction} \n",
    "\\end{equation} \n",
    "\n",
    "It is clear that Eqs.(\\ref{eqSvPlmn}) and (\\ref{eqSvPxyz}) is the consequence of the orthogonal projections of the area and in equilibrium condition.  Three expressions in Eqs.(\\ref{eqSvPlmn}) and (\\ref{eqSvPxyz}) can be written simply in a single equation in indicial notation: \n",
    "\n",
    "\\begin{equation} \\label{eqSvPj}\n",
    "\\sigma_{nj}= n_i\\sigma_{ij}\n",
    "\\end{equation}"
   ]
  },
  {
   "cell_type": "markdown",
   "metadata": {},
   "source": [
    "Notice that the contraction occurs on the **first axis of the stress tensor**, leaving a single index $j$, producing a vector tensor on the given surface-$\\mathbf{n}$. In matrix notation, we have the following formula with dot-product to achieve the needed contraction on the first axis of the stress tensor. \n",
    "\n",
    "\\begin{equation} \\label{eqTractionM}\n",
    "\\mathbf{σ}_{n}=\\mathbf{n} \\cdot \\mathbf{σ}\n",
    "\\end{equation}\n",
    "\n",
    "Or in matrix form (following matrix-vector multiplication rule): \n",
    "\n",
    "\\begin{equation} \\label{eqSplanen}\n",
    "\\underbrace{\\begin{bmatrix} σ_{nx} \\\\ σ_{ny} \\\\ σ_{nz}  \\end{bmatrix} }_{\\mathbf{σ}_n}\n",
    "= \\underbrace{ \\begin{bmatrix}\n",
    "σ_{xx} & σ_{yx} & σ_{zx}\\\\\n",
    "σ_{xy} & σ_{yy} & σ_{zy}\\\\\n",
    "σ_{xz} & σ_{yz} & σ_{zz}\\end{bmatrix}}_{\\mathbf{σ}^\\top} \\underbrace{\\begin{bmatrix} n_1 \\\\ n_2 \\\\ n_3  \\end{bmatrix}}_{\\mathbf{n}} \n",
    "\\end{equation}\n",
    "\n",
    "This means the the stress vector on surface-$\\mathbf{n}$ is the orthogonal projection of the stress tensor on the unit normal vector $\\mathbf{n}$. Note that the stress vector are written in components in the $x$-, $y$-, and $z$-axes. "
   ]
  },
  {
   "cell_type": "markdown",
   "metadata": {},
   "source": [
    "#### Traction on a boundary surface\n",
    "\n",
    "When the surface-$\\mathbf{n}$ is on a boundary surface of a solid, Eq.(\\ref{eqSvPj}), $\\sigma_{ni}$ shall give the **traction** applied on the boundary surface and is often denoted as $t_{i}$. It is written as\n",
    "\n",
    "\\begin{equation} \\label{eqti}\n",
    "\\boxed{t_{j}= n_i\\sigma_{ij} }\n",
    "\\end{equation}\n",
    "or \n",
    "\\begin{equation} \\label{eqSvtxyz}\n",
    "t_{x}= n_1\\sigma_{xx} +n_2\\sigma_{yx}+n_3\\sigma_{zx} \\\\\n",
    "t_{y}= n_1\\sigma_{xy} +n_2\\sigma_{yy}+n_3\\sigma_{zy} \\\\\n",
    "t_{z}= n_1\\sigma_{xz} +n_2\\sigma_{yz}+n_3\\sigma_{zz}  \n",
    "\\end{equation} \n",
    "\n",
    "This equation bridges the internal stresses $\\sigma_{ij}$ with the externally applied tractions on the boundary of the solid $t_{j}$. It is thus frequently used in expressing the **stress boundary conditions**. Notice that this set of equations satisfy the equilibrium conditions, meaning that the tractions on the boundary at a point in solid is uniquely determined by stress states at the point. If, for example, surface-$\\mathbf{n}$ is the surface-$x$ (the surface normal is the $x$-axis), we have $\\mathbf{n}=(1,0,0)$, and \n",
    "\n",
    "\\begin{equation} \\label{eqStx}\n",
    "t_{x}= \\sigma_{xx} \\;\\; t_{y}= \\sigma_{xy} \\;\\; t_{z}= \\sigma_{xz} \n",
    "\\end{equation} \n",
    "\n",
    "If surface-$\\mathbf{n}$ is the negative surface-$x$, we have $\\mathbf{n}=(-1,0,0)$, and \n",
    "\n",
    "\\begin{equation} \\label{eqSt-x}\n",
    "t_{x}= -\\sigma_{xx} \\;\\; t_{y}= -\\sigma_{xy} \\;\\; t_{z}= -\\sigma_{xz} \n",
    "\\end{equation} \n",
    "\n",
    "Equations (\\ref{eqStx}) and (\\ref{eqSt-x}) is a typical relationship between the external stress $t_i$ and internal stress $\\sigma_{ij}$. \n",
    "\n",
    "Readers may figure out these relations, if the boundary of a solid at a point is in the $y$- or $z$-direction, both positive and negative.   "
   ]
  },
  {
   "cell_type": "markdown",
   "metadata": {},
   "source": [
    "#### Stress vector projection, again\n",
    "\n",
    "Once the stress vector on surface-$\\mathbf{n}$ is obtained, one can then compute the normal stress on surface-$\\mathbf{n}$, by projecting the components of the stress vector onto the unit normal $\\mathbf{n}$ of the surface.\n",
    " \n",
    "\\begin{equation} \\label{eqSvPij}\n",
    "\\sigma_{nn}= n_i\\sigma_{ij}n_j\n",
    "\\end{equation} \n",
    "\n",
    "This time the contraction occurs on the 2nd axis of the stress tensor. It can be achieved with the dot-product of the traction vector on the left with the unit normal $\\mathbf{n}$ of the plane on the right. This is the **orthogonal projection** of $\\mathbf{σ}_{n}$ on direction $\\mathbf{n}$. At the end, both indexes of the stress tensor are contracted, producing just a scalar, which is the normal stress on the normal direction of the surface-$\\mathbf{n}$. \n",
    "\n",
    "The alternative formula in vector operation is given as follows.\n",
    "\n",
    "\\begin{equation} \\label{eqPnM}\n",
    "\\sigma_{nn}= \\mathbf{σ}_{n}\\cdot \\mathbf{n}\n",
    "\\end{equation}\n",
    "\n",
    "Equations (\\ref{eqSvPij}) and (\\ref{eqPnM}) are identical. "
   ]
  },
  {
   "cell_type": "markdown",
   "metadata": {},
   "source": [
    "The magnitude of the shear stress vector on surface-$\\mathbf{n}$ can be computed using the Pythagorean Theorem (also a type of orthogonal projection), \n",
    "\n",
    "\\begin{equation} \\label{eqPSc}\n",
    "\\sigma_{ns}= \\sqrt{|\\mathbf{σ}_{n}|^2- \\sigma_{nn}^2}= \\sqrt{\\sigma_{n1}^2+\\sigma_{n2}^2+\\sigma_{n3}^2- \\sigma_{nn}^2}\n",
    "\\end{equation}\n",
    "\n",
    "We see clearly that all the objects involved in the above process are tensors (of different order), because all these operations follows the orthogonal projection rule and the law of equilibrium. \n",
    "\n",
    "Let us write the following Numpy codes to compute stresses on a given surface. "
   ]
  },
  {
   "cell_type": "markdown",
   "metadata": {},
   "source": [
    " #### Example: computation stresses on a given surface\n",
    "    \n",
    "This example computes stresses on a given surface for a given stress state with nine stress components. For the convenience in future possible uses, we write a simple function for this kind of tasks. "
   ]
  },
  {
   "cell_type": "code",
   "execution_count": 3,
   "metadata": {
    "ExecuteTime": {
     "end_time": "2024-01-21T14:27:28.735170Z",
     "start_time": "2024-01-21T14:27:28.720170Z"
    }
   },
   "outputs": [],
   "source": [
    "def stressOnN(S,N):\n",
    "    '''Compute the traction (stress vector), normal stress, and \\\n",
    "    magnitude of the shear stress on a surface with normal vector N\n",
    "    Input S: stress tensor in matrix form with 9 components\\\n",
    "          N: normal vector of the surface\n",
    "    Return: S_N (traction), S_NN (normal stress), S_NS (shear stress)\n",
    "    '''\n",
    "\n",
    "    N = N/np.linalg.norm(N) # normalize vector N -> unit normal vector\n",
    "\n",
    "    # Compute the traction vector on the surface with normal N\n",
    "    S_N = np.dot(N,S)\n",
    "    \n",
    "    # Compute the normal stress on surface in the normal N direction\n",
    "    S_NN = np.dot(S_N,N)\n",
    "    \n",
    "    # compute the magnitude of the shear stress on the surface\n",
    "    S_NS = np.sqrt(S_N.dot(S_N)-S_NN**2)\n",
    "    \n",
    "    return S_N, S_NN, S_NS"
   ]
  },
  {
   "cell_type": "code",
   "execution_count": 4,
   "metadata": {
    "ExecuteTime": {
     "end_time": "2024-01-21T14:27:32.322684Z",
     "start_time": "2024-01-21T14:27:32.260013Z"
    }
   },
   "outputs": [
    {
     "name": "stdout",
     "output_type": "stream",
     "text": [
      "Stress Tensor (MPa) :\n",
      "[[1. 0. 0.]\n",
      " [0. 0. 0.]\n",
      " [0. 0. 0.]]\n",
      "A surface with normal direction N = [1. 0. 0.]\n",
      "\n",
      "Traction (stress vector) on the surface = [1. 0. 0.] MPa\n",
      "Normal stress on the surface = 1.0000 MPa\n",
      "The magnitude of the shear stress on surface=0.0000 MPa\n"
     ]
    }
   ],
   "source": [
    "# Uniaxial loading case studied at the beigining of the chapter.\n",
    "\n",
    "# Given stress tensor (matrix) in MPa\n",
    "St = np.array([[1.,0., 0.],[0., 0., 0.],[0.,0.,0.]]) # only 𝜎xx. \n",
    "print(f'Stress Tensor (MPa) :\\n{St}')\n",
    "\n",
    "N = np.array([1.,0.,0.])  # the surface normal is positive x-direction\n",
    "print(f'A surface with normal direction N = {N}\\n')\n",
    "\n",
    "S_N, S_NN, S_NS = stressOnN(St,N)\n",
    "print(f'Traction (stress vector) on the surface = {S_N} MPa')\n",
    "print(f'Normal stress on the surface = {S_NN:2.4f} MPa')\n",
    "print(f'The magnitude of the shear stress on surface={S_NS:2.4f} MPa')"
   ]
  },
  {
   "cell_type": "markdown",
   "metadata": {},
   "source": [
    "Readers may consider the surface is in the negative $x$-direction (with N = np.array([-1.,0.,0.])) (or any other direction), and run the code. Then think carefully about the results obtained for this simple problem, until it makes sense. Readers may also create artificial by-axial stress state say, $𝜎_{xx}=1$ and $𝜎_{yy}=2$ with all other components zero, and then perform the tests again using the code given. \n",
    "\n",
    "The following is a more general stress state case. "
   ]
  },
  {
   "cell_type": "code",
   "execution_count": 6,
   "metadata": {
    "ExecuteTime": {
     "end_time": "2024-01-21T14:28:03.233040Z",
     "start_time": "2024-01-21T14:28:03.217567Z"
    }
   },
   "outputs": [
    {
     "name": "stdout",
     "output_type": "stream",
     "text": [
      "Stress Tensor (MPa) :\n",
      "[[-10.  15.   0.]\n",
      " [ 15.  30.   0.]\n",
      " [  0.   0.   0.]]\n",
      "A surface with normal direction N = [1. 2. 1.]\n",
      "\n",
      "Traction (stress vector) on the surface = [ 8.165  30.6186  0.    ] MPa\n",
      "Normal stress on the surface = 28.3333 MPa\n",
      "The magnitude of the shear stress on surface=14.1912 MPa\n"
     ]
    }
   ],
   "source": [
    "# stress state used in Example 2.1 in \n",
    "# Ref: Advanced Mechanics of Materials, by Boresi and Schmidt\n",
    "np.set_printoptions(precision=4,suppress=True)\n",
    "\n",
    "# Given stress matrix in MPa\n",
    "Sv = np.array([[-10.,15., 0.],[15.,30., 0.],[0.,0.,0.]]) #Example 2.1\n",
    "print(f'Stress Tensor (MPa) :\\n{Sv}')\n",
    "\n",
    "N = np.array([1.,2.,1.])               # normal vector of the surface \n",
    "print(f'A surface with normal direction N = {N}\\n')\n",
    "\n",
    "S_P, S_PN, S_PS = stressOnN(Sv,N)\n",
    "print(f'Traction (stress vector) on the surface = {S_P} MPa')\n",
    "print(f'Normal stress on the surface = {S_PN:2.4f} MPa')\n",
    "print(f'The magnitude of the shear stress on surface={S_PS:2.4f} MPa')"
   ]
  },
  {
   "cell_type": "markdown",
   "metadata": {},
   "source": [
    "###  Coordinate transformation of 2nd order tensor (stress)\n",
    "\n",
    "#### Formulation by simple inspection\n",
    "\n",
    "Let us now re-write Eq.(\\ref{eqSvPij}) to include the precise meaning of each of the indexes. \n",
    " \n",
    "\\begin{equation} \\label{eqSvPijd}\n",
    "\\sigma_{nn}= n_i\\sigma_{ij}n_j \\\\[9pt]\n",
    "\\sigma_{\\underbrace{n}_{\\text{ surface-index }} \\underbrace{n}_{\\text{  direction-index}}}=\n",
    "\\underbrace{n_i}_{\\text{a surface comp.}} \\sigma_{\\underbrace{i}_{\\text{contract with surface}} \\underbrace{j}_{\\text{contract with direction}}} \\underbrace{n_j}_{\\text{a direction comp.}}\n",
    "\\end{equation} \n",
    "\n",
    "After the coordinate transformation from the coordinate system of $x_1, x_2$ and $x_3$ to a new coordinate $x'_1, x'_2$ and $x'_3$, the $n_i$ should be replaced by $a_{ri}$ and the $n_j$ should be replaced by $a_{sj}$ (see Eq.(\\ref{eqTMdef})). This is because the surface now could be one of the three axes $x'_1, x'_2$ and $x'_3$, and the direction could also be one of the three directions $x'_1, x'_2$ and $x'_3$, when all these three axes of the coordinate rotates rigidly together. The surface-index should go with the free index $r$, and the direction-index should go with the free index $s$. All the contraction operations stay unchanged, leaving with 2 indexes, resulting in a new description of the same stress tensor. After this indexation matching, the new components of the stress tensor in the new coordinate are computed using \n",
    "\n",
    "\\begin{equation} \\label{eqST}\n",
    "\\boxed{ \\sigma_{rs}'=a_{ri}\\sigma_{ij} a_{sj} }\n",
    "\\end{equation}"
   ]
  },
  {
   "cell_type": "markdown",
   "metadata": {},
   "source": [
    "This is the formulation for **stress tensor transformation rule**  using indicial notation. \n",
    "\n",
    "Alternatively, we may use the matrix notation and matrix multiplication rule that achieves the same contraction effects, and the formula should be: \n",
    "\n",
    "\\begin{equation} \\label{eqSTM}\n",
    "\\boxed{ \\mathbf{σ}'=\\mathbf{T}\\mathbf{σ}\\mathbf{T}^\\top }\n",
    "\\end{equation}\n",
    "\n",
    "The $\\mathbf{T}$ sits on the left ensures the contraction is on the first index of $\\mathbf{σ}$ (with the 2nd index of $\\mathbf{T}$), and $\\mathbf{T}$ sits on the right ensures the contraction is on the 2nd index of $\\mathbf{σ}$ and the transpose is needed so that the contraction is with the 2nd index of $\\mathbf{T}$. "
   ]
  },
  {
   "cell_type": "markdown",
   "metadata": {},
   "source": [
    "#### Inverse transformation \n",
    "\n",
    "Because $\\mathbf{T}$ is unitary, the inverse transformation can be simply done using the transpose of $\\mathbf{T}$:\n",
    "\n",
    "\\begin{equation} \\label{eqSTMI}\n",
    "\\mathbf{σ}=\\mathbf{T}^\\top \\mathbf{σ}'\\mathbf{T} \n",
    "\\end{equation}\n",
    "\n",
    "Or in the indicial notation: \n",
    "\n",
    "\\begin{equation} \\label{eqSTI}\n",
    "\\sigma_{rs}=a_{ir}\\sigma_{ij}' a_{js}\n",
    "\\end{equation}"
   ]
  },
  {
   "cell_type": "markdown",
   "metadata": {},
   "source": [
    "All we need is to swap the order of the two indexes of $a_{ij}$ for reverse transformation.\n",
    "\n",
    "It is seen that transformation of a 2nd order stress tensor requires two times of operation by the transformation matrix $\\mathbf{T}$. \n",
    "\n",
    "Notice that in all these mathematical rules of (forward) transformation we seen so far, the contractions are always with the 2nd index of $\\mathbf{T}$. This is because it refers to the axes of the base coordinate, as defined in  Eq.(2.\\ref{eqTMdef}).\n",
    "\n",
    "Let us write the following Numpy codes to compute stresses after a coordinate transformation, using both matrix and indicial notations. "
   ]
  },
  {
   "cell_type": "markdown",
   "metadata": {},
   "source": [
    "#### Python example: stress tensor under coordinate transformation\n",
    "\n",
    "Consider a stress tensor in 3D solids represented originally in a coordinate system $\\mathbf{x}$. When the coordinates is transformed (rotated) to a new coordinate $\\mathbf{x}'$, we compute the new components of the same stress tensor in the new coordinate system. \n",
    "\n",
    "First, an arbitrary stress tensor in the coordinate system $\\mathbf{x}$ can be written using the following code. In coordinate transformation operations, it is more convenient to use the indicial notation: $x$:1, $y$:2, and $z$:3. We shall also make use of the symmetry properties of the stress tensor. \n",
    "\n",
    "##### Using of matrix formulation "
   ]
  },
  {
   "cell_type": "code",
   "execution_count": 7,
   "metadata": {
    "ExecuteTime": {
     "end_time": "2024-01-21T14:28:12.401354Z",
     "start_time": "2024-01-21T14:28:10.112100Z"
    }
   },
   "outputs": [
    {
     "data": {
      "image/png": "[encoded data removed]",
      "text/latex": [
       "$\\displaystyle \\left[\\begin{matrix}a_{11} & a_{12} & a_{13}\\\\a_{21} & a_{22} & a_{23}\\\\a_{31} & a_{32} & a_{33}\\end{matrix}\\right]$"
      ],
      "text/plain": [
       "⎡a₁₁  a₁₂  a₁₃⎤\n",
       "⎢             ⎥\n",
       "⎢a₂₁  a₂₂  a₂₃⎥\n",
       "⎢             ⎥\n",
       "⎣a₃₁  a₃₂  a₃₃⎦"
      ]
     },
     "execution_count": 7,
     "metadata": {},
     "output_type": "execute_result"
    }
   ],
   "source": [
    "T = gr.transferMs()\n",
    "T"
   ]
  },
  {
   "cell_type": "code",
   "execution_count": 8,
   "metadata": {
    "ExecuteTime": {
     "end_time": "2024-01-21T14:28:21.132898Z",
     "start_time": "2024-01-21T14:28:19.766849Z"
    }
   },
   "outputs": [
    {
     "data": {
      "text/latex": [
       "$\\displaystyle \\left[\\begin{matrix}a_{11} \\left(a_{11} σ_{11} + a_{12} σ_{21} + a_{13} σ_{31}\\right) + a_{12} \\left(a_{11} σ_{12} + a_{12} σ_{22} + a_{13} σ_{32}\\right) + a_{13} \\left(a_{11} σ_{13} + a_{12} σ_{23} + a_{13} σ_{33}\\right)\\\\a_{11} \\left(a_{21} σ_{11} + a_{22} σ_{21} + a_{23} σ_{31}\\right) + a_{12} \\left(a_{21} σ_{12} + a_{22} σ_{22} + a_{23} σ_{32}\\right) + a_{13} \\left(a_{21} σ_{13} + a_{22} σ_{23} + a_{23} σ_{33}\\right)\\\\a_{11} \\left(a_{31} σ_{11} + a_{32} σ_{21} + a_{33} σ_{31}\\right) + a_{12} \\left(a_{31} σ_{12} + a_{32} σ_{22} + a_{33} σ_{32}\\right) + a_{13} \\left(a_{31} σ_{13} + a_{32} σ_{23} + a_{33} σ_{33}\\right)\\end{matrix}\\right]$"
      ],
      "text/plain": [
       "⎡a₁₁⋅(a₁₁⋅σ₁₁ + a₁₂⋅σ₂₁ + a₁₃⋅σ₃₁) + a₁₂⋅(a₁₁⋅σ₁₂ + a₁₂⋅σ₂₂ + a₁₃⋅σ₃₂) + a₁₃⋅(\n",
       "⎢                                                                             \n",
       "⎢a₁₁⋅(a₂₁⋅σ₁₁ + a₂₂⋅σ₂₁ + a₂₃⋅σ₃₁) + a₁₂⋅(a₂₁⋅σ₁₂ + a₂₂⋅σ₂₂ + a₂₃⋅σ₃₂) + a₁₃⋅(\n",
       "⎢                                                                             \n",
       "⎣a₁₁⋅(a₃₁⋅σ₁₁ + a₃₂⋅σ₂₁ + a₃₃⋅σ₃₁) + a₁₂⋅(a₃₁⋅σ₁₂ + a₃₂⋅σ₂₂ + a₃₃⋅σ₃₂) + a₁₃⋅(\n",
       "\n",
       "a₁₁⋅σ₁₃ + a₁₂⋅σ₂₃ + a₁₃⋅σ₃₃)⎤\n",
       "                            ⎥\n",
       "a₂₁⋅σ₁₃ + a₂₂⋅σ₂₃ + a₂₃⋅σ₃₃)⎥\n",
       "                            ⎥\n",
       "a₃₁⋅σ₁₃ + a₃₂⋅σ₂₃ + a₃₃⋅σ₃₃)⎦"
      ]
     },
     "execution_count": 8,
     "metadata": {},
     "output_type": "execute_result"
    }
   ],
   "source": [
    "Sp=T@S@T.T        # S: stress tensor; @: the shorthand of np.matmul \n",
    "Sp[:,0]           # print out the first column of S-prime"
   ]
  },
  {
   "cell_type": "markdown",
   "metadata": {},
   "source": [
    "This is the general formula for the first column stress components after the coordinate transformation with $\\mathbf{T}$. Others can be easily printed out as follows. Notice that $\\mathbf{T}$ is applied from both sides, because $\\mathbf{S}$ is a 2nd order tensor. "
   ]
  },
  {
   "cell_type": "code",
   "execution_count": 6,
   "metadata": {
    "ExecuteTime": {
     "end_time": "2023-10-24T20:47:34.858263Z",
     "start_time": "2023-10-24T20:47:33.397037Z"
    }
   },
   "outputs": [
    {
     "data": {
      "text/latex": [
       "$\\displaystyle \\left[\\begin{matrix}a_{21} \\left(a_{11} σ_{11} + a_{12} σ_{21} + a_{13} σ_{31}\\right) + a_{22} \\left(a_{11} σ_{12} + a_{12} σ_{22} + a_{13} σ_{32}\\right) + a_{23} \\left(a_{11} σ_{13} + a_{12} σ_{23} + a_{13} σ_{33}\\right)\\\\a_{21} \\left(a_{21} σ_{11} + a_{22} σ_{21} + a_{23} σ_{31}\\right) + a_{22} \\left(a_{21} σ_{12} + a_{22} σ_{22} + a_{23} σ_{32}\\right) + a_{23} \\left(a_{21} σ_{13} + a_{22} σ_{23} + a_{23} σ_{33}\\right)\\\\a_{21} \\left(a_{31} σ_{11} + a_{32} σ_{21} + a_{33} σ_{31}\\right) + a_{22} \\left(a_{31} σ_{12} + a_{32} σ_{22} + a_{33} σ_{32}\\right) + a_{23} \\left(a_{31} σ_{13} + a_{32} σ_{23} + a_{33} σ_{33}\\right)\\end{matrix}\\right]$"
      ],
      "text/plain": [
       "⎡a₂₁⋅(a₁₁⋅σ₁₁ + a₁₂⋅σ₂₁ + a₁₃⋅σ₃₁) + a₂₂⋅(a₁₁⋅σ₁₂ + a₁₂⋅σ₂₂ + a₁₃⋅σ₃₂) + a₂₃⋅(\n",
       "⎢                                                                             \n",
       "⎢a₂₁⋅(a₂₁⋅σ₁₁ + a₂₂⋅σ₂₁ + a₂₃⋅σ₃₁) + a₂₂⋅(a₂₁⋅σ₁₂ + a₂₂⋅σ₂₂ + a₂₃⋅σ₃₂) + a₂₃⋅(\n",
       "⎢                                                                             \n",
       "⎣a₂₁⋅(a₃₁⋅σ₁₁ + a₃₂⋅σ₂₁ + a₃₃⋅σ₃₁) + a₂₂⋅(a₃₁⋅σ₁₂ + a₃₂⋅σ₂₂ + a₃₃⋅σ₃₂) + a₂₃⋅(\n",
       "\n",
       "a₁₁⋅σ₁₃ + a₁₂⋅σ₂₃ + a₁₃⋅σ₃₃)⎤\n",
       "                            ⎥\n",
       "a₂₁⋅σ₁₃ + a₂₂⋅σ₂₃ + a₂₃⋅σ₃₃)⎥\n",
       "                            ⎥\n",
       "a₃₁⋅σ₁₃ + a₃₂⋅σ₂₃ + a₃₃⋅σ₃₃)⎦"
      ]
     },
     "execution_count": 6,
     "metadata": {},
     "output_type": "execute_result"
    }
   ],
   "source": [
    "Sp[:,1]           # print out the 2nd column"
   ]
  },
  {
   "cell_type": "code",
   "execution_count": 7,
   "metadata": {
    "ExecuteTime": {
     "end_time": "2023-10-24T20:47:43.981530Z",
     "start_time": "2023-10-24T20:47:42.813061Z"
    }
   },
   "outputs": [
    {
     "data": {
      "text/latex": [
       "$\\displaystyle \\left[\\begin{matrix}a_{31} \\left(a_{11} σ_{11} + a_{12} σ_{21} + a_{13} σ_{31}\\right) + a_{32} \\left(a_{11} σ_{12} + a_{12} σ_{22} + a_{13} σ_{32}\\right) + a_{33} \\left(a_{11} σ_{13} + a_{12} σ_{23} + a_{13} σ_{33}\\right)\\\\a_{31} \\left(a_{21} σ_{11} + a_{22} σ_{21} + a_{23} σ_{31}\\right) + a_{32} \\left(a_{21} σ_{12} + a_{22} σ_{22} + a_{23} σ_{32}\\right) + a_{33} \\left(a_{21} σ_{13} + a_{22} σ_{23} + a_{23} σ_{33}\\right)\\\\a_{31} \\left(a_{31} σ_{11} + a_{32} σ_{21} + a_{33} σ_{31}\\right) + a_{32} \\left(a_{31} σ_{12} + a_{32} σ_{22} + a_{33} σ_{32}\\right) + a_{33} \\left(a_{31} σ_{13} + a_{32} σ_{23} + a_{33} σ_{33}\\right)\\end{matrix}\\right]$"
      ],
      "text/plain": [
       "⎡a₃₁⋅(a₁₁⋅σ₁₁ + a₁₂⋅σ₂₁ + a₁₃⋅σ₃₁) + a₃₂⋅(a₁₁⋅σ₁₂ + a₁₂⋅σ₂₂ + a₁₃⋅σ₃₂) + a₃₃⋅(\n",
       "⎢                                                                             \n",
       "⎢a₃₁⋅(a₂₁⋅σ₁₁ + a₂₂⋅σ₂₁ + a₂₃⋅σ₃₁) + a₃₂⋅(a₂₁⋅σ₁₂ + a₂₂⋅σ₂₂ + a₂₃⋅σ₃₂) + a₃₃⋅(\n",
       "⎢                                                                             \n",
       "⎣a₃₁⋅(a₃₁⋅σ₁₁ + a₃₂⋅σ₂₁ + a₃₃⋅σ₃₁) + a₃₂⋅(a₃₁⋅σ₁₂ + a₃₂⋅σ₂₂ + a₃₃⋅σ₃₂) + a₃₃⋅(\n",
       "\n",
       "a₁₁⋅σ₁₃ + a₁₂⋅σ₂₃ + a₁₃⋅σ₃₃)⎤\n",
       "                            ⎥\n",
       "a₂₁⋅σ₁₃ + a₂₂⋅σ₂₃ + a₂₃⋅σ₃₃)⎥\n",
       "                            ⎥\n",
       "a₃₁⋅σ₁₃ + a₃₂⋅σ₂₃ + a₃₃⋅σ₃₃)⎦"
      ]
     },
     "execution_count": 7,
     "metadata": {},
     "output_type": "execute_result"
    }
   ],
   "source": [
    "Sp[:,2]           # print out the 3rd column"
   ]
  },
  {
   "cell_type": "markdown",
   "metadata": {
    "ExecuteTime": {
     "end_time": "2022-09-16T22:17:35.497313Z",
     "start_time": "2022-09-16T22:17:35.484351Z"
    }
   },
   "source": [
    "##### Use of tensor operation\n",
    "\n",
    "Alternatively, we can use indicial notation, and np.tensordot() to have the same transformation done. Let us write the following Numpy codes to do so. "
   ]
  },
  {
   "cell_type": "code",
   "execution_count": 9,
   "metadata": {
    "ExecuteTime": {
     "end_time": "2024-01-21T14:28:34.613638Z",
     "start_time": "2024-01-21T14:28:34.599124Z"
    }
   },
   "outputs": [],
   "source": [
    "def Tensor2_transfer(T,S):\n",
    "    '''Coordinate transformation for 2nd order tensors\n",
    "    '''\n",
    "    S_ = np.tensordot(T , S, axes=([1],[0])) # spesify contracting exes\n",
    "    S_ = np.tensordot(S_, T, axes=([1],[1]))\n",
    "    return S_"
   ]
  },
  {
   "cell_type": "code",
   "execution_count": 10,
   "metadata": {
    "ExecuteTime": {
     "end_time": "2024-01-21T14:28:37.689149Z",
     "start_time": "2024-01-21T14:28:36.395707Z"
    }
   },
   "outputs": [
    {
     "name": "stdout",
     "output_type": "stream",
     "text": [
      "Transformed stresses (first column only):\n"
     ]
    },
    {
     "data": {
      "text/latex": [
       "$\\displaystyle \\left[\\begin{matrix}a_{11} \\left(a_{11} σ_{11} + a_{12} σ_{21} + a_{13} σ_{31}\\right) + a_{12} \\left(a_{11} σ_{12} + a_{12} σ_{22} + a_{13} σ_{32}\\right) + a_{13} \\left(a_{11} σ_{13} + a_{12} σ_{23} + a_{13} σ_{33}\\right)\\\\a_{11} \\left(a_{21} σ_{11} + a_{22} σ_{21} + a_{23} σ_{31}\\right) + a_{12} \\left(a_{21} σ_{12} + a_{22} σ_{22} + a_{23} σ_{32}\\right) + a_{13} \\left(a_{21} σ_{13} + a_{22} σ_{23} + a_{23} σ_{33}\\right)\\\\a_{11} \\left(a_{31} σ_{11} + a_{32} σ_{21} + a_{33} σ_{31}\\right) + a_{12} \\left(a_{31} σ_{12} + a_{32} σ_{22} + a_{33} σ_{32}\\right) + a_{13} \\left(a_{31} σ_{13} + a_{32} σ_{23} + a_{33} σ_{33}\\right)\\end{matrix}\\right]$"
      ],
      "text/plain": [
       "⎡a₁₁⋅(a₁₁⋅σ₁₁ + a₁₂⋅σ₂₁ + a₁₃⋅σ₃₁) + a₁₂⋅(a₁₁⋅σ₁₂ + a₁₂⋅σ₂₂ + a₁₃⋅σ₃₂) + a₁₃⋅(\n",
       "⎢                                                                             \n",
       "⎢a₁₁⋅(a₂₁⋅σ₁₁ + a₂₂⋅σ₂₁ + a₂₃⋅σ₃₁) + a₁₂⋅(a₂₁⋅σ₁₂ + a₂₂⋅σ₂₂ + a₂₃⋅σ₃₂) + a₁₃⋅(\n",
       "⎢                                                                             \n",
       "⎣a₁₁⋅(a₃₁⋅σ₁₁ + a₃₂⋅σ₂₁ + a₃₃⋅σ₃₁) + a₁₂⋅(a₃₁⋅σ₁₂ + a₃₂⋅σ₂₂ + a₃₃⋅σ₃₂) + a₁₃⋅(\n",
       "\n",
       "a₁₁⋅σ₁₃ + a₁₂⋅σ₂₃ + a₁₃⋅σ₃₃)⎤\n",
       "                            ⎥\n",
       "a₂₁⋅σ₁₃ + a₂₂⋅σ₂₃ + a₂₃⋅σ₃₃)⎥\n",
       "                            ⎥\n",
       "a₃₁⋅σ₁₃ + a₃₂⋅σ₂₃ + a₃₃⋅σ₃₃)⎦"
      ]
     },
     "execution_count": 10,
     "metadata": {},
     "output_type": "execute_result"
    }
   ],
   "source": [
    "TS = Tensor2_transfer(T, S)\n",
    "TS = Matrix(TS)\n",
    "print(f\"Transformed stresses (first column only):\")\n",
    "TS[:,0]"
   ]
  },
  {
   "cell_type": "markdown",
   "metadata": {},
   "source": [
    "#### Transformation of stress tensor in 2D\n",
    "\n",
    "For stress states at any point in 2D, the expression is manageble, and be derived explicitly. The transformation rule is the same as Eq.(\\ref{eqSTM}). Assuming the new coordinates are X-Y rotated from the original x-y cooridinates by $\\theta$, the Sympy derivation for the expressions for stresses in X-Y is as follows. "
   ]
  },
  {
   "cell_type": "code",
   "execution_count": 65,
   "metadata": {
    "ExecuteTime": {
     "end_time": "2024-01-20T16:01:25.635090Z",
     "start_time": "2024-01-20T16:01:24.429344Z"
    }
   },
   "outputs": [
    {
     "data": {
      "text/latex": [
       "$\\displaystyle \\left[\\begin{matrix}σ_{xx} & σ_{xy}\\\\σ_{yx} & σ_{yy}\\end{matrix}\\right]$"
      ],
      "text/plain": [
       "⎡σₓₓ   σ_xy⎤\n",
       "⎢          ⎥\n",
       "⎣σ_yx  σ_yy⎦"
      ]
     },
     "execution_count": 65,
     "metadata": {},
     "output_type": "execute_result"
    }
   ],
   "source": [
    "# define stress components as symbolic variable for 2D stresses \n",
    "sxx, syy, sxy, syx = \"\\u03C3_xx\", \"\\u03C3_yy\", \"\\u03C3_xy\", \"\\u03C3_yx\"\n",
    "\n",
    "S2D = Matrix([[sxx, sxy],\n",
    "              [syx, syy]])\n",
    "S2D                                  # a stress tensor"
   ]
  },
  {
   "cell_type": "code",
   "execution_count": 84,
   "metadata": {
    "ExecuteTime": {
     "end_time": "2024-01-20T16:12:45.441026Z",
     "start_time": "2024-01-20T16:12:44.474163Z"
    },
    "scrolled": true
   },
   "outputs": [
    {
     "data": {
      "text/latex": [
       "$\\displaystyle \\left[\\begin{matrix}\\cos{\\left(𝜃 \\right)} & \\sin{\\left(𝜃 \\right)}\\\\- \\sin{\\left(𝜃 \\right)} & \\cos{\\left(𝜃 \\right)}\\end{matrix}\\right]$"
      ],
      "text/plain": [
       "⎡cos(𝜃)   sin(𝜃)⎤\n",
       "⎢               ⎥\n",
       "⎣-sin(𝜃)  cos(𝜃)⎦"
      ]
     },
     "execution_count": 84,
     "metadata": {},
     "output_type": "execute_result"
    }
   ],
   "source": [
    "𝜃 = symbols(\"𝜃\")                      # rotation angle of X-Y from x-y\n",
    "T2D = gr.transferMts(𝜃)[0:2,0:2]\n",
    "T2D"
   ]
  },
  {
   "cell_type": "code",
   "execution_count": 85,
   "metadata": {
    "ExecuteTime": {
     "end_time": "2024-01-20T16:13:11.267629Z",
     "start_time": "2024-01-20T16:13:10.152425Z"
    }
   },
   "outputs": [
    {
     "name": "stdout",
     "output_type": "stream",
     "text": [
      "σ_XX in the rotated coordinate X-Y=\n"
     ]
    },
    {
     "data": {
      "image/png": "[encoded data removed]",
      "text/latex": [
       "$\\displaystyle σ_{xx} \\cos^{2}{\\left(𝜃 \\right)} + σ_{xy} \\sin{\\left(𝜃 \\right)} \\cos{\\left(𝜃 \\right)} + σ_{yx} \\sin{\\left(𝜃 \\right)} \\cos{\\left(𝜃 \\right)} + σ_{yy} \\sin^{2}{\\left(𝜃 \\right)}$"
      ],
      "text/plain": [
       "       2                                                        2   \n",
       "σₓₓ⋅cos (𝜃) + σ_xy⋅sin(𝜃)⋅cos(𝜃) + σ_yx⋅sin(𝜃)⋅cos(𝜃) + σ_yy⋅sin (𝜃)"
      ]
     },
     "execution_count": 85,
     "metadata": {},
     "output_type": "execute_result"
    }
   ],
   "source": [
    "S2Dp = T2D @ S2D @ T2D.T  # S2D: stress tensor in 2D, obtained earlier\n",
    "sXX  = S2Dp[0,0].expand()\n",
    "gr.printM(sXX, 'σ_XX in the rotated coordinate X-Y=')"
   ]
  },
  {
   "cell_type": "code",
   "execution_count": 86,
   "metadata": {
    "ExecuteTime": {
     "end_time": "2024-01-20T16:13:17.389258Z",
     "start_time": "2024-01-20T16:13:16.261338Z"
    }
   },
   "outputs": [
    {
     "name": "stdout",
     "output_type": "stream",
     "text": [
      "σ_YY in the rotated coordinate X-Y=\n"
     ]
    },
    {
     "data": {
      "image/png": "[encoded data removed]",
      "text/latex": [
       "$\\displaystyle σ_{xx} \\sin^{2}{\\left(𝜃 \\right)} - σ_{xy} \\sin{\\left(𝜃 \\right)} \\cos{\\left(𝜃 \\right)} - σ_{yx} \\sin{\\left(𝜃 \\right)} \\cos{\\left(𝜃 \\right)} + σ_{yy} \\cos^{2}{\\left(𝜃 \\right)}$"
      ],
      "text/plain": [
       "       2                                                        2   \n",
       "σₓₓ⋅sin (𝜃) - σ_xy⋅sin(𝜃)⋅cos(𝜃) - σ_yx⋅sin(𝜃)⋅cos(𝜃) + σ_yy⋅cos (𝜃)"
      ]
     },
     "execution_count": 86,
     "metadata": {},
     "output_type": "execute_result"
    }
   ],
   "source": [
    "sYY = S2Dp[1,1].expand()\n",
    "gr.printM(sYY, 'σ_YY in the rotated coordinate X-Y=')"
   ]
  },
  {
   "cell_type": "code",
   "execution_count": 87,
   "metadata": {
    "ExecuteTime": {
     "end_time": "2024-01-20T16:13:21.372806Z",
     "start_time": "2024-01-20T16:13:20.299593Z"
    }
   },
   "outputs": [
    {
     "name": "stdout",
     "output_type": "stream",
     "text": [
      "σ_XY in the rotated coordinate X-Y=\n"
     ]
    },
    {
     "data": {
      "image/png": "[encoded data removed]",
      "text/latex": [
       "$\\displaystyle - σ_{xx} \\sin{\\left(𝜃 \\right)} \\cos{\\left(𝜃 \\right)} + σ_{xy} \\cos^{2}{\\left(𝜃 \\right)} - σ_{yx} \\sin^{2}{\\left(𝜃 \\right)} + σ_{yy} \\sin{\\left(𝜃 \\right)} \\cos{\\left(𝜃 \\right)}$"
      ],
      "text/plain": [
       "                             2              2                        \n",
       "-σₓₓ⋅sin(𝜃)⋅cos(𝜃) + σ_xy⋅cos (𝜃) - σ_yx⋅sin (𝜃) + σ_yy⋅sin(𝜃)⋅cos(𝜃)"
      ]
     },
     "execution_count": 87,
     "metadata": {},
     "output_type": "execute_result"
    }
   ],
   "source": [
    "sXY = S2Dp[0,1].expand()\n",
    "gr.printM(sXY, 'σ_XY in the rotated coordinate X-Y=')"
   ]
  },
  {
   "cell_type": "markdown",
   "metadata": {},
   "source": [
    "The formulas are summarized, with regrouping, as follows. \n",
    "\n",
    "\\begin{equation} \\label{eqSXY}\n",
    "\\begin{split}\n",
    "σ_{XX} &= σ_{xx} \\cos^2𝜃 + σ_{yy} \\sin^2𝜃 + 2 σ_{xy} \\sin𝜃 \\cos𝜃 \\\\\n",
    "σ_{YY} &= σ_{xx} \\sin^2𝜃 + σ_{yy} \\cos^2𝜃 - 2 σ_{xy} \\sin𝜃 \\cos𝜃 \\\\\n",
    "σ_{XY} &=  σ_{xy} \\cos^2𝜃- σ_{xy} \\sin^2𝜃 + (σ_{yy} - σ_{xx}) \\sin𝜃 \\cos𝜃   \n",
    "\\end{split}\n",
    "\\end{equation}"
   ]
  },
  {
   "cell_type": "markdown",
   "metadata": {},
   "source": [
    "Readers may find these formulas frequently in the literature. It will be used to derive the Mohr circle later.  Note that the 2D stresses can also computed easily by treating 2D stresses as a special case of 3D ones. \n",
    "\n",
    "Let us look at some specific examples.  \n",
    "\n",
    "##### Example: Uniaxial stress after a coordinate transformation\n",
    "\n",
    "Consider a simple  uniaxial loading case studied at the beginning of the chapter."
   ]
  },
  {
   "cell_type": "code",
   "execution_count": 70,
   "metadata": {
    "ExecuteTime": {
     "end_time": "2024-01-20T16:03:15.050093Z",
     "start_time": "2024-01-20T16:03:12.647434Z"
    }
   },
   "outputs": [
    {
     "name": "stdout",
     "output_type": "stream",
     "text": [
      "Given stress matrix\n"
     ]
    },
    {
     "data": {
      "image/png": "[encoded data removed]",
      "text/latex": [
       "$\\displaystyle \\left[\\begin{matrix}1.0 & 0 & 0\\\\0 & 0 & 0\\\\0 & 0 & 0\\end{matrix}\\right]$"
      ],
      "text/plain": [
       "⎡1.0  0  0⎤\n",
       "⎢         ⎥\n",
       "⎢ 0   0  0⎥\n",
       "⎢         ⎥\n",
       "⎣ 0   0  0⎦"
      ]
     },
     "execution_count": 70,
     "metadata": {},
     "output_type": "execute_result"
    }
   ],
   "source": [
    "# Given stress matrix in MPa\n",
    "S_xx = Matrix([[1.,0., 0.],[0., 0., 0.],[0.,0.,0.]]) # It has only 𝜎xx. \n",
    "printM(S_xx, 'Given stress matrix', n_dgt=4) "
   ]
  },
  {
   "cell_type": "markdown",
   "metadata": {},
   "source": [
    "Let us rotation the coordinate by 45 degrees about the $z$ axis. The transformation matrix becomes:  "
   ]
  },
  {
   "cell_type": "code",
   "execution_count": 71,
   "metadata": {
    "ExecuteTime": {
     "end_time": "2024-01-20T16:03:18.152145Z",
     "start_time": "2024-01-20T16:03:18.134783Z"
    }
   },
   "outputs": [
    {
     "name": "stdout",
     "output_type": "stream",
     "text": [
      "Transformation tensor 45.00°, w.r.t. z:\n",
      "[[ 0.7071  0.7071  0.    ]\n",
      " [-0.7071  0.7071  0.    ]\n",
      " [ 0.      0.      1.    ]]\n"
     ]
    }
   ],
   "source": [
    "# Create transformation matrix. \n",
    "about, 𝜃 = 'z', 45.                   # rotation axis and angle\n",
    "Tr, _ = gr.transferM(𝜃, about = about)\n",
    "print(f'Transformation tensor {𝜃:3.2f}°, w.r.t. {about}:\\n{Tr}')"
   ]
  },
  {
   "cell_type": "code",
   "execution_count": 72,
   "metadata": {
    "ExecuteTime": {
     "end_time": "2024-01-20T16:03:35.484013Z",
     "start_time": "2024-01-20T16:03:33.333402Z"
    }
   },
   "outputs": [
    {
     "name": "stdout",
     "output_type": "stream",
     "text": [
      "Stress after forwad transfer\n"
     ]
    },
    {
     "data": {
      "image/png": "[encoded data removed]",
      "text/latex": [
       "$\\displaystyle \\left[\\begin{matrix}0.5 & -0.5 & 0\\\\-0.5 & 0.5 & 0\\\\0 & 0 & 0\\end{matrix}\\right]$"
      ],
      "text/plain": [
       "⎡0.5   -0.5  0⎤\n",
       "⎢             ⎥\n",
       "⎢-0.5  0.5   0⎥\n",
       "⎢             ⎥\n",
       "⎣ 0     0    0⎦"
      ]
     },
     "execution_count": 72,
     "metadata": {},
     "output_type": "execute_result"
    }
   ],
   "source": [
    "TTS = Matrix(Tensor2_transfer(Tr, S_xx))\n",
    "printM(TTS, 'Stress after forwad transfer', n_dgt=4) "
   ]
  },
  {
   "cell_type": "markdown",
   "metadata": {},
   "source": [
    "This means that uniaxial stress state of $ σ_{xx}=1$ in $(x, y, z)$ has a shear stress components of $ σ_{XY}=−0.5$ in 45 degree rotated coordinate $(X, Y, Z)$ with respect to $z$, shown in Fig.\\ref{image:Bar45}.\n",
    "\n",
    "<img src=\"./images/Bar45.png\" alt=\" \" width=\"480\"/><br>\n",
    "\\begin{figure}\n",
    "  \\includegraphics[width=5cm]{}\n",
    "  \\caption{\\label{image:Bar45} Stresses in $(X, Y, Z)$ in a bar subjected to a uniaxial force in the $x$-direction.}\n",
    "\\end{figure}. \n",
    "\n",
    "This is a reason many ductile materials fail at an angle close to 45 degree when it is subjected to uniaxial tension. This is also a reason many brittle materials fails at an angle close to 45 degree when subjecting uniaxial compression.\n",
    "\n",
    "We can now transform the coordinate back: "
   ]
  },
  {
   "cell_type": "code",
   "execution_count": 73,
   "metadata": {
    "ExecuteTime": {
     "end_time": "2024-01-20T16:04:33.833436Z",
     "start_time": "2024-01-20T16:04:31.783208Z"
    }
   },
   "outputs": [
    {
     "name": "stdout",
     "output_type": "stream",
     "text": [
      "Stress after forwad & inverse transfer\n"
     ]
    },
    {
     "data": {
      "image/png": "[encoded data removed]",
      "text/latex": [
       "$\\displaystyle \\left[\\begin{matrix}1.0 & 0 & 0\\\\0 & 0 & 0\\\\0 & 0 & 0\\end{matrix}\\right]$"
      ],
      "text/plain": [
       "⎡1.0  0  0⎤\n",
       "⎢         ⎥\n",
       "⎢ 0   0  0⎥\n",
       "⎢         ⎥\n",
       "⎣ 0   0  0⎦"
      ]
     },
     "execution_count": 73,
     "metadata": {},
     "output_type": "execute_result"
    }
   ],
   "source": [
    "TTSb = Matrix(Tensor2_transfer(Matrix(Tr).T, TTS))\n",
    "printM(TTSb, 'Stress after forwad & inverse transfer', n_dgt=4) "
   ]
  },
  {
   "cell_type": "markdown",
   "metadata": {},
   "source": [
    "Let us generate a random transformation matrix, and use it do a coordinate transformation. "
   ]
  },
  {
   "cell_type": "code",
   "execution_count": 74,
   "metadata": {
    "ExecuteTime": {
     "end_time": "2024-01-20T16:04:38.106993Z",
     "start_time": "2024-01-20T16:04:38.096022Z"
    }
   },
   "outputs": [
    {
     "name": "stdout",
     "output_type": "stream",
     "text": [
      "Transformation tensor 0.00°, w.r.t. random:\n",
      "[[-0.5481  0.6208 -0.5605]\n",
      " [ 0.6631  0.731   0.1612]\n",
      " [ 0.5098 -0.2833 -0.8123]]\n"
     ]
    }
   ],
   "source": [
    "# Create random transformation matrix. \n",
    "about, 𝜃 = 'random', 0.            # rotation angle is not used\n",
    "Tr, _ = gr.transferM(𝜃, about = about)\n",
    "print(f'Transformation tensor {𝜃:3.2f}°, w.r.t. {about}:\\n{Tr}')"
   ]
  },
  {
   "cell_type": "code",
   "execution_count": 75,
   "metadata": {
    "ExecuteTime": {
     "end_time": "2024-01-20T16:04:45.973623Z",
     "start_time": "2024-01-20T16:04:43.719063Z"
    }
   },
   "outputs": [
    {
     "name": "stdout",
     "output_type": "stream",
     "text": [
      "Stress after forwad transfer\n"
     ]
    },
    {
     "data": {
      "image/png": "[encoded data removed]",
      "text/latex": [
       "$\\displaystyle \\left[\\begin{matrix}0.3004 & -0.3634 & -0.2794\\\\-0.3634 & 0.4397 & 0.338\\\\-0.2794 & 0.338 & 0.2599\\end{matrix}\\right]$"
      ],
      "text/plain": [
       "⎡0.3004   -0.3634  -0.2794⎤\n",
       "⎢                         ⎥\n",
       "⎢-0.3634  0.4397    0.338 ⎥\n",
       "⎢                         ⎥\n",
       "⎣-0.2794   0.338   0.2599 ⎦"
      ]
     },
     "execution_count": 75,
     "metadata": {},
     "output_type": "execute_result"
    }
   ],
   "source": [
    "TTS = Matrix(Tensor2_transfer(Tr, S_xx))\n",
    "printM(TTS, 'Stress after forwad transfer', n_dgt=4) "
   ]
  },
  {
   "cell_type": "markdown",
   "metadata": {},
   "source": [
    "We see that the simple uniaxial stress state becomes a full matrix, and all the components become nonzero, in some rotated coordinates. Because the transformation is invertible, one can also expect that a complicated stress state can have a simpler representation in a rotated coordinates. \n",
    "\n",
    "Let us rotate the coordinates back. "
   ]
  },
  {
   "cell_type": "code",
   "execution_count": 76,
   "metadata": {
    "ExecuteTime": {
     "end_time": "2024-01-20T16:05:37.104197Z",
     "start_time": "2024-01-20T16:05:35.211249Z"
    }
   },
   "outputs": [
    {
     "name": "stdout",
     "output_type": "stream",
     "text": [
      "Stress after forwad & inverse transfer\n"
     ]
    },
    {
     "data": {
      "image/png": "[encoded data removed]",
      "text/latex": [
       "$\\displaystyle \\left[\\begin{matrix}1.0 & 5.551 \\cdot 10^{-17} & 5.551 \\cdot 10^{-17}\\\\6.83 \\cdot 10^{-17} & 2.956 \\cdot 10^{-17} & 1.547 \\cdot 10^{-17}\\\\8.138 \\cdot 10^{-17} & -1.747 \\cdot 10^{-18} & 1.752 \\cdot 10^{-17}\\end{matrix}\\right]$"
      ],
      "text/plain": [
       "⎡   1.0     5.551e-17   5.551e-17⎤\n",
       "⎢                                ⎥\n",
       "⎢6.83e-17   2.956e-17   1.547e-17⎥\n",
       "⎢                                ⎥\n",
       "⎣8.138e-17  -1.747e-18  1.752e-17⎦"
      ]
     },
     "execution_count": 76,
     "metadata": {},
     "output_type": "execute_result"
    }
   ],
   "source": [
    "TTSb = Matrix(Tensor2_transfer(Matrix(Tr).T, TTS))\n",
    "printM(TTSb, 'Stress after forwad & inverse transfer', n_dgt=4) "
   ]
  },
  {
   "cell_type": "markdown",
   "metadata": {},
   "source": [
    "We recovered the original uniaxial stress state (to machine accuracy). \n",
    "\n",
    "**Remark:** To perform an inverse transformation, all we need to use the transposed transformation matrix, or reverse the indexes of the transformation tensor. This applies to arbitrary transformation matrix, because it is unitary. \n",
    "\n",
    "##### Example: A general stress state under coordinate transformation\n",
    "\n",
    "Let us look at a more general stress state. "
   ]
  },
  {
   "cell_type": "code",
   "execution_count": 77,
   "metadata": {
    "ExecuteTime": {
     "end_time": "2024-01-20T16:06:41.094207Z",
     "start_time": "2024-01-20T16:06:39.288908Z"
    }
   },
   "outputs": [
    {
     "name": "stdout",
     "output_type": "stream",
     "text": [
      "Stress state in values:\n"
     ]
    },
    {
     "data": {
      "image/png": "[encoded data removed]",
      "text/latex": [
       "$\\displaystyle \\left[\\begin{matrix}8 & 2 & 3\\\\2 & 7 & 1\\\\3 & 1 & 5\\end{matrix}\\right]$"
      ],
      "text/plain": [
       "⎡8  2  3⎤\n",
       "⎢       ⎥\n",
       "⎢2  7  1⎥\n",
       "⎢       ⎥\n",
       "⎣3  1  5⎦"
      ]
     },
     "execution_count": 77,
     "metadata": {},
     "output_type": "execute_result"
    }
   ],
   "source": [
    "# define the stress state: \n",
    "\n",
    "S_value=Matrix([[8, 2, 3], \n",
    "                [2, 7, 1], \n",
    "                [3, 1, 5]])   # stress values are given arbitrarily\n",
    "print(f'Stress state in values:')\n",
    "S.subs(list(zip(S,S_value)))"
   ]
  },
  {
   "cell_type": "markdown",
   "metadata": {},
   "source": [
    "Let us rotation the coordinate by 60 degrees about the $z$ axis. The transformation matrix becomes:  "
   ]
  },
  {
   "cell_type": "code",
   "execution_count": 98,
   "metadata": {
    "ExecuteTime": {
     "end_time": "2024-01-20T16:22:48.483085Z",
     "start_time": "2024-01-20T16:22:48.470106Z"
    }
   },
   "outputs": [
    {
     "name": "stdout",
     "output_type": "stream",
     "text": [
      "Transformation tensor 60.00°, w.r.t. z:\n",
      "[[ 0.5    0.866  0.   ]\n",
      " [-0.866  0.5    0.   ]\n",
      " [ 0.     0.     1.   ]]\n"
     ]
    }
   ],
   "source": [
    "# Create transformation matrix. \n",
    "about, 𝜃 = 'z', 60                    # rotation axis and angle\n",
    "Tr, _ = gr.transferM(𝜃, about = about)\n",
    "print(f'Transformation tensor {𝜃:3.2f}°, w.r.t. {about}:\\n{Tr}')"
   ]
  },
  {
   "cell_type": "code",
   "execution_count": 99,
   "metadata": {
    "ExecuteTime": {
     "end_time": "2024-01-20T16:24:55.898948Z",
     "start_time": "2024-01-20T16:24:54.860026Z"
    }
   },
   "outputs": [
    {
     "name": "stdout",
     "output_type": "stream",
     "text": [
      "Stress (1st column) formulas in new coordinates\n"
     ]
    },
    {
     "data": {
      "text/latex": [
       "$\\displaystyle \\left[\\begin{matrix}0.25 σ_{11} + 0.433 σ_{12} + 0.433 σ_{21} + 0.75 σ_{22}\\\\- 0.433 σ_{11} - 0.75 σ_{12} + 0.25 σ_{21} + 0.433 σ_{22}\\\\0.5 σ_{31} + 0.866 σ_{32}\\end{matrix}\\right]$"
      ],
      "text/plain": [
       "⎡0.25⋅σ₁₁ + 0.433⋅σ₁₂ + 0.433⋅σ₂₁ + 0.75⋅σ₂₂ ⎤\n",
       "⎢                                            ⎥\n",
       "⎢-0.433⋅σ₁₁ - 0.75⋅σ₁₂ + 0.25⋅σ₂₁ + 0.433⋅σ₂₂⎥\n",
       "⎢                                            ⎥\n",
       "⎣            0.5⋅σ₃₁ + 0.866⋅σ₃₂             ⎦"
      ]
     },
     "execution_count": 99,
     "metadata": {},
     "output_type": "execute_result"
    }
   ],
   "source": [
    "# This time use the formula derived earlier for stransformed stresses.\n",
    "# The results can be obtained by simple substritutions. \n",
    "TS = Matrix(Tensor2_transfer(T, S))         # re-generate the formula  \n",
    "T = gr.transferMs()           # re-generate the transformation matrix\n",
    "\n",
    "# Substitute matrix T with values in Tr. We use zip to create a \n",
    "# list of tuples, which tuple pairs T_ij with Tr_ij: \n",
    "TTS = TS.subs(list(zip(T, Matrix(Tr))))          \n",
    "gr.printM(TTS[:,0], 'Stress (1st column) formulas in new coordinates')"
   ]
  },
  {
   "cell_type": "code",
   "execution_count": 101,
   "metadata": {
    "ExecuteTime": {
     "end_time": "2024-01-20T16:26:00.921079Z",
     "start_time": "2024-01-20T16:25:58.465161Z"
    }
   },
   "outputs": [
    {
     "name": "stdout",
     "output_type": "stream",
     "text": [
      "Stresses (1st column) in the new coordinates\n"
     ]
    },
    {
     "data": {
      "image/png": "[encoded data removed]",
      "text/latex": [
       "$\\displaystyle \\left[\\begin{matrix}8.982 & -1.433 & 2.366\\\\-1.433 & 6.018 & -2.098\\\\2.366 & -2.098 & 5.0\\end{matrix}\\right]$"
      ],
      "text/plain": [
       "⎡8.982   -1.433  2.366 ⎤\n",
       "⎢                      ⎥\n",
       "⎢-1.433  6.018   -2.098⎥\n",
       "⎢                      ⎥\n",
       "⎣2.366   -2.098   5.0  ⎦"
      ]
     },
     "execution_count": 101,
     "metadata": {},
     "output_type": "execute_result"
    }
   ],
   "source": [
    "TTSv=Matrix(TTS.subs(list(zip(S, Matrix(S_value)))))  # Subs. stresses \n",
    "gr.printM(TTSv, 'Stresses (1st column) in the new coordinates')"
   ]
  },
  {
   "cell_type": "markdown",
   "metadata": {
    "ExecuteTime": {
     "end_time": "2022-09-23T21:56:29.825867Z",
     "start_time": "2022-09-23T21:56:29.813676Z"
    }
   },
   "source": [
    "These are the stress components after transformation. We can now transform the coordinate back: "
   ]
  },
  {
   "cell_type": "code",
   "execution_count": 102,
   "metadata": {
    "ExecuteTime": {
     "end_time": "2024-01-20T16:26:27.351617Z",
     "start_time": "2024-01-20T16:26:25.467631Z"
    }
   },
   "outputs": [
    {
     "name": "stdout",
     "output_type": "stream",
     "text": [
      "Stress after forwad & inverse transfer\n"
     ]
    },
    {
     "data": {
      "image/png": "[encoded data removed]",
      "text/latex": [
       "$\\displaystyle \\left[\\begin{matrix}8.0 & 2.0 & 3.0\\\\2.0 & 7.0 & 1.0\\\\3.0 & 1.0 & 5.0\\end{matrix}\\right]$"
      ],
      "text/plain": [
       "⎡8.0  2.0  3.0⎤\n",
       "⎢             ⎥\n",
       "⎢2.0  7.0  1.0⎥\n",
       "⎢             ⎥\n",
       "⎣3.0  1.0  5.0⎦"
      ]
     },
     "execution_count": 102,
     "metadata": {},
     "output_type": "execute_result"
    }
   ],
   "source": [
    "TTSvb = Matrix(Tensor2_transfer(Tr.T, TTSv))\n",
    "printM(TTSvb, 'Stress after forwad & inverse transfer', n_dgt=4) "
   ]
  },
  {
   "cell_type": "markdown",
   "metadata": {},
   "source": [
    "Let us now look a randomly generated matrix that may or may be a stress state, and subject it to coordinate transformation, using a randomly generated transformation matrix.  "
   ]
  },
  {
   "cell_type": "code",
   "execution_count": 93,
   "metadata": {
    "ExecuteTime": {
     "end_time": "2024-01-20T16:16:01.298939Z",
     "start_time": "2024-01-20T16:16:01.284976Z"
    }
   },
   "outputs": [
    {
     "name": "stdout",
     "output_type": "stream",
     "text": [
      "Randomly generated matrix M (asymmetric): \n",
      "[[ 0.0912  1.0913 -1.947 ]\n",
      " [-1.3863 -2.2965  2.4098]\n",
      " [ 1.7278  2.2046  0.7948]]\n"
     ]
    }
   ],
   "source": [
    "np.random.seed(8)                     # set a seed for reproducibility\n",
    "M = np.random.randn(3,3)                    # Generate a random matrix\n",
    "\n",
    "about, theta = 'random', 0.                  # angle theta is not used\n",
    "Tr, _ = gr.transferM(theta, about = about)                  # random T. \n",
    "\n",
    "print(f'Randomly generated matrix M (asymmetric): \\n{M}')"
   ]
  },
  {
   "cell_type": "code",
   "execution_count": 94,
   "metadata": {
    "ExecuteTime": {
     "end_time": "2024-01-20T16:16:11.580215Z",
     "start_time": "2024-01-20T16:16:09.487222Z"
    }
   },
   "outputs": [
    {
     "name": "stdout",
     "output_type": "stream",
     "text": [
      "Stress after forwad coordinate transformtion\n"
     ]
    },
    {
     "data": {
      "image/png": "[encoded data removed]",
      "text/latex": [
       "$\\displaystyle \\left[\\begin{matrix}-1.886 & -3.557 & 1.229\\\\-0.2874 & -1.248 & 0.507\\\\-1.742 & 0.9192 & 1.724\\end{matrix}\\right]$"
      ],
      "text/plain": [
       "⎡-1.886   -3.557  1.229⎤\n",
       "⎢                      ⎥\n",
       "⎢-0.2874  -1.248  0.507⎥\n",
       "⎢                      ⎥\n",
       "⎣-1.742   0.9192  1.724⎦"
      ]
     },
     "execution_count": 94,
     "metadata": {},
     "output_type": "execute_result"
    }
   ],
   "source": [
    "TM = Matrix(Tensor2_transfer(Tr,M)) # use random transformation matrix\n",
    "printM(TM, 'Stress after forwad coordinate transformtion', n_dgt=4) "
   ]
  },
  {
   "cell_type": "code",
   "execution_count": 95,
   "metadata": {
    "ExecuteTime": {
     "end_time": "2024-01-20T16:16:16.000269Z",
     "start_time": "2024-01-20T16:16:14.179083Z"
    }
   },
   "outputs": [
    {
     "name": "stdout",
     "output_type": "stream",
     "text": [
      "Stress after forwad & inverse transformtion\n"
     ]
    },
    {
     "data": {
      "image/png": "[encoded data removed]",
      "text/latex": [
       "$\\displaystyle \\left[\\begin{matrix}0.0912 & 1.091 & -1.947\\\\-1.386 & -2.296 & 2.41\\\\1.728 & 2.205 & 0.7948\\end{matrix}\\right]$"
      ],
      "text/plain": [
       "⎡0.0912  1.091   -1.947⎤\n",
       "⎢                      ⎥\n",
       "⎢-1.386  -2.296   2.41 ⎥\n",
       "⎢                      ⎥\n",
       "⎣1.728   2.205   0.7948⎦"
      ]
     },
     "execution_count": 95,
     "metadata": {},
     "output_type": "execute_result"
    }
   ],
   "source": [
    "TMb = Matrix(Tensor2_transfer(Tr.T,TM))\n",
    "printM(TMb, 'Stress after forwad & inverse transformtion', n_dgt=4) "
   ]
  },
  {
   "cell_type": "markdown",
   "metadata": {},
   "source": [
    "We obtained the original stress state. \n",
    "\n",
    "**Remark:** To perform an **inverse** transformation, all we need to use the **transposed** transformation matrix, or reverse the indexes of the transformation tensor. This applies to arbitrary matrix. This is because of the unitary property of the transformation matrix. "
   ]
  },
  {
   "cell_type": "markdown",
   "metadata": {},
   "source": [
    "This example shows that any matrix can be a 2nd tensor, provided it follows the rule of transformation defined in Eq.(\\ref{eqST}). The contains in the matrix is not the point. How the behavior of the contains under a coordinate transformation is. "
   ]
  },
  {
   "cell_type": "markdown",
   "metadata": {},
   "source": [
    "### Principle stresses\n",
    "\n",
    "For a given stress state, one can find a set of principal stresses, by rotating the coordinates to some particular angles, where all the shear stress components vanishes and has only normal stresses. Such a normal stress is called the **principal stress**. Assuming such a plane is found with a unit normal denoted as $\\mathbf{n}=[n_1 ;\\;\\; n_2 ;\\;\\; n_3]^\\top$. Such a plane is called **principle plane**, and $\\mathbf{n}$ is called a **principal axis**. On a principal plane, the stress vector $\\mathbf{σ}_{n}$ must be in the same direction of $\\mathbf{n}$, because there is only a normal stress on that plane. It can be written as \n",
    "\n",
    "\\begin{equation} \\label{eqnormalS}\n",
    "\\mathbf{σ}_{n} = 𝜎 \\mathbf{n}\n",
    "\\end{equation} \n",
    "\n",
    "where 𝜎 is the amplitude of the normal stress. It is yet unknown. The components of the normal stress vector $\\mathbf{σ}_{n}$ should be \n",
    "\n",
    "\\begin{equation} \\label{eqnormalSi}\n",
    "𝜎_{nx} = 𝜎 n_1; \\;\\; 𝜎_{ny} = 𝜎 n_2; \\;\\; 𝜎_{nz} = 𝜎 n_3 \n",
    "\\end{equation} \n",
    "\n",
    "Substituting these into Eq.(\\ref{eqSvPlmn}) and (eqSvPxyz), we obtain: \n",
    "  \n",
    "\\begin{equation} \\label{eqSvPn}\n",
    "𝜎 n_1 = n_1 𝜎_{xx} +n_2𝜎_{yx}+n_3𝜎_{zx} \\\\\n",
    "𝜎 n_2 = n_1 𝜎_{xy} +n_2𝜎_{yy}+n_3𝜎_{zy}  \\\\\n",
    "𝜎 n_3 = n_1 𝜎_{xz} +n_2𝜎_{yz}+n_3𝜎_{zz}  \n",
    "\\end{equation} \n",
    "\n",
    "which can be re-arranged to \n",
    "\n",
    "\\begin{equation} \\label{eqSiPn}\n",
    "n_1 (𝜎_{xx}-𝜎) +n_2𝜎_{yx}+n_3𝜎_{zx} =0\\\\\n",
    "n_1 𝜎_{xy} +n_2(𝜎_{yy}-𝜎)+n_3𝜎_{zy} =0 \\\\\n",
    "n_1 𝜎_{xz} +n_2𝜎_{yz}+n_3(𝜎_{zz}-𝜎) =0  \n",
    "\\end{equation} \n",
    "\n",
    "In matrix form: \n",
    "\n",
    "\\begin{equation} \\label{eqSiPnM}\n",
    "\\left(\\underbrace{\\begin{bmatrix}\n",
    "𝜎_{xx} & σ_{yx} & σ_{zx}\\\\\n",
    "σ_{xy} & 𝜎_{yy} & σ_{zy}\\\\\n",
    "σ_{xz} & σ_{yz} & 𝜎_{zz}\\end{bmatrix}}_{\\mathbf{σ}^\\top=\\mathbf{σ}} -𝜎 \\underbrace{\\begin{bmatrix}1 & 0 & 0\\\\0 & 1 & 0\\\\0 & 0 & 1\\end{bmatrix}}_{\\mathbf{I}} \\right) \\underbrace{\\begin{bmatrix} n_1 \\\\ n_2 \\\\ n_3  \\end{bmatrix}}_{\\mathbf{n}}\n",
    "= \\underbrace{\\begin{bmatrix} 0 \\\\ 0 \\\\0 \\end{bmatrix}}_{\\mathbf{0}}\n",
    "\\end{equation}\n",
    "\n",
    "Here, we used the symmetry property of the stress tensor. "
   ]
  },
  {
   "cell_type": "markdown",
   "metadata": {},
   "source": [
    "#### Eigenvalue problem\n",
    "\n",
    "Equation (\\ref{eqSiPnM}) is a typical eigenvalue equation. It can be written in a concise form of\n",
    "\n",
    "\\begin{equation} \\label{eqEigdef2}\n",
    "\\boxed{[\\mathbf{σ}-𝜎 \\mathbf{I}]\\mathbf{n}=\\mathbf{0} }\n",
    "\\end{equation}\n",
    "\n",
    "where $σ$ is an unknown stress called **eigenvalue** in mathematical term, $\\mathbf{I}$ is the identity matrix that has the same dimension of stress tensor $\\mathbf{σ}$, and $\\mathbf{n}$ is called **eigenvector** related to the vector of the direction cosines of $\\mathbf{n}$. Equation (\\ref{eqEigdef2}) is in fact a linear algebraic system equation with $\\mathbf{n}$ being the unknown vector, but the system matrix contains a unknown $σ$. We need to solve the eigenvalue equation to find $σ$ and its corresponding vector $\\mathbf{n}$.  \n",
    "\n",
    "Because this linear algebraic system is homogeneous (the right-hand-side is zero). The solution exists only if \n",
    "\n",
    "\\begin{equation} \\label{eqEigdet}\n",
    "\\det(\\mathbf{σ}-𝜎 \\mathbf{I})=0  \\; \\; \\text{or } \\; \\; |\\mathbf{σ}-𝜎 \\mathbf{I}|=0\n",
    "\\end{equation}\n",
    "\n",
    "Equation (\\ref{eqEigdet}) can then be used to find the eigenvalue $σ$. "
   ]
  },
  {
   "cell_type": "markdown",
   "metadata": {},
   "source": [
    "#### Characteristic equation, polynomial \n",
    "\n",
    "For stresses in 3D solids, the determinate in Eq.(\\ref{eqEigdet}) results in a polynomial equation of order of 3 in $\\sigma$ (implying the problem becomes a nonlinear one). The polynomial equation is known as the **characteristic equation**, for which there always be $3$ roots (complex in general, real if $\\mathbf{σ}$ is symmetric) of $\\sigma$. Therefore, $\\sigma$ is also called **characteristic values**. These three characteristic values are the principal stresses denoted as $\\sigma_1,\\sigma_2$, and $\\sigma_3$. This essentially proves the existence of 3 principal stresses. \n",
    "\n",
    "Substituting each of these eigenvalues back to  Eq.(\\ref{eqEigdef2})  $\\mathbf{n}$ can be solved with the help of the normalization condition:\n",
    "\n",
    "\\begin{equation} \\label{eqN2}\n",
    "\\boxed{ n_1^2+n_2^2+n_3^2=1  \\;\\; or \\;\\; n_i n_i =1 }\n",
    "\\end{equation}\n",
    "\n",
    "Notice that this equation is also nonlinear in $n_i$. "
   ]
  },
  {
   "cell_type": "markdown",
   "metadata": {},
   "source": [
    "This results in the eigenvector corresponding to the principle axes. Because Eq.(\\ref{eqEigdef2}) is homogeneous   and $\\mathbf{σ}$ is a square matrix, the solutions for eigenvectors always exists. In fact, the eigenvector is not unique up to a scalar. This is simply because an eigenvector that satisfy the homogeneous equation (\\ref{eqEigdef2}), any its scalar multiples will also satisfy it. \n",
    "\n",
    "Because the problem becomes nonlinear, we are expecting multiple solutions for the eigenvectors (in $n_i$). We shall choose these eigenvectors relevant to mechanics of materials problems following the right-hand rule. This can be ensured by, for example, computing $\\mathbf{n}_3$ using the cross-product of $\\mathbf{n}_1$ towards $\\mathbf{n}_2$: \n",
    "\n",
    "\\begin{equation} \\label{eqRHR}\n",
    "\\mathbf{n}_3 = \\mathbf{n}_1 \\times \\mathbf{n}_2 \n",
    "\\end{equation}\n",
    "\n",
    "These eigenvectors correspond to the principle stresses, and give the direction cosines of the principal axes. "
   ]
  },
  {
   "cell_type": "markdown",
   "metadata": {},
   "source": [
    "#### Python code for finding principle stresses and their directions\n",
    "\n",
    "Eigenvalue problems can be solved routinely. We write the following code function for solving eigenvalue problems for stresses in 3D solid materials. "
   ]
  },
  {
   "cell_type": "code",
   "execution_count": 68,
   "metadata": {
    "ExecuteTime": {
     "end_time": "2024-01-22T14:11:15.252473Z",
     "start_time": "2024-01-22T14:11:15.238506Z"
    }
   },
   "outputs": [],
   "source": [
    "def principalS(S):\n",
    "    '''Compute the principal stresses and their direction cosines.\n",
    "    inputs: \n",
    "       S: given stress tensor, numpy array\n",
    "    return: \n",
    "       principal stresses (eigenValues), their direction cosines\n",
    "       (eigenVectors) ranked by its values. Right-hand-rule is enforced\n",
    "    '''\n",
    "    eigenValues, eigenVectors = lg.eig(S)  \n",
    "\n",
    "    #Sort in order\n",
    "    idx = eigenValues.argsort()[::-1]   \n",
    "    eigenValues = eigenValues[idx]\n",
    "    eigenVectors = eigenVectors[:,idx]\n",
    "    print('Pricipal stress (Eigenvalues):\\n',eigenValues,'\\n')\n",
    "    \n",
    "    # make the first element in the first vector positive (optional):\n",
    "    #eigenVectors[0,:] = eigenVectors[0,:]/np.sign(eigenVectors[0,0])\n",
    "\n",
    "    # Determine the sign for given eigenVector-1 and eigenVector-3\n",
    "    eigenVectors[:,2] = np.cross(eigenVectors[:,0], eigenVectors[:,1])\n",
    "\n",
    "    angle = np.arccos(eigenVectors[0,0])*180/np.pi       # in degree \n",
    "    print(f'Principal stress directions:\\n{eigenVectors}\\n')\n",
    "    print(f\"Possible angles (n1,x)={angle}∘ or {180-angle}∘\")\n",
    "    \n",
    "    return eigenValues, eigenVectors"
   ]
  },
  {
   "cell_type": "markdown",
   "metadata": {},
   "source": [
    "#### Example: computing the principal stresses and principal directions, case-1\n",
    "\n",
    "This example is studied in \\cite{boresi1985advanced}. We write the following code for this problems, using our code function principalS(). "
   ]
  },
  {
   "cell_type": "code",
   "execution_count": 81,
   "metadata": {
    "ExecuteTime": {
     "end_time": "2024-01-21T16:16:50.138304Z",
     "start_time": "2024-01-21T16:16:50.118195Z"
    },
    "scrolled": true
   },
   "outputs": [
    {
     "name": "stdout",
     "output_type": "stream",
     "text": [
      "Stress state:\n",
      "[[-10  15   0]\n",
      " [ 15  30   0]\n",
      " [  0   0   0]]\n",
      "\n",
      "Pricipal stress (Eigenvalues):\n",
      " [ 35.   0. -15.] \n",
      "\n",
      "Principal stress directions:\n",
      "[[-0.3162  0.     -0.9487]\n",
      " [-0.9487  0.      0.3162]\n",
      " [ 0.      1.      0.    ]]\n",
      "\n",
      "Possible angles (N1,x)=108.43494882292201∘ or 71.56505117707799∘\n"
     ]
    }
   ],
   "source": [
    "# Advanced Mechanics of Materials, by Boresi and Schmidt\n",
    "# Example 2.1 Principal Stresses and Principal Directions\n",
    "\n",
    "St = np.array([[-10, 15, 0], [15, 30, 0], [0, 0, 0]])  # stress tensor\n",
    "\n",
    "print(f'Stress state:\\n{St}\\n')\n",
    "\n",
    "eigenValues, eigenVectors = principalS(St)"
   ]
  },
  {
   "cell_type": "markdown",
   "metadata": {},
   "source": [
    "The solution is found with a single line of code. The computation takes microseconds. \n",
    "\n",
    "We got two angles. Let us determine which one is the correct angle for the principle stress axis.  "
   ]
  },
  {
   "cell_type": "markdown",
   "metadata": {},
   "source": [
    "### Determination of the principle axis angle\n",
    "\n",
    "Note that because eigenvector is not unique, because an $\\mathbf{n}$ satisfying Eq.(\\ref{eqEigdef2}), $-\\mathbf{n}$ satisfies also Eq.(\\ref{eqEigdef2}). Therefore, a direction cosine, say $n_1$, can be set as both negative and positive, so long $n_2$ and $n_3$ changing their signs accordingly. This creates problems, if one would want to find precise angle of the principal axis. "
   ]
  },
  {
   "cell_type": "markdown",
   "metadata": {},
   "source": [
    "####  2D cases\n",
    "\n",
    "Consider first 2D cases, say one of the principal axis is already in a coordinate axis $z$. Therefore, the angle we need to find out is in the $x-y$ plane. In this case, both $\\arccos(n_1)$ and  $[\\pi/2 - \\arccos(n_1)]$, could be the angle of a principal axis, where $n_1$ is the first element in the first eigenvector from an eigenvalue solver. However, only one of these is correct. Additional procedure is thus required to find the correct one. The detailed process is as follows. \n",
    "\n",
    "1. Using the angle $\\arccos(n_1)$, create an transformation matrix $\\mathbf{T}$. \n",
    "\n",
    "2. Perform the coordinate transformation to the original given stresses. \n",
    "\n",
    "3. Check whether the corresponding shear stresses in the transformed stresses are zero. If yes, $\\arccos(n_1)$ the correct direction of the principle axis. We are done. \n",
    "\n",
    "4. Otherwise, use $[\\pi/2 - \\arccos(n_1)]$, create $\\mathbf{T}$, perform again the coordinate transformation to the original given stresses, and double check whether the shear stresses are zero. It should be, or something else went wrong.  \n",
    "\n",
    "Let us us take a look at some examples.  "
   ]
  },
  {
   "cell_type": "markdown",
   "metadata": {},
   "source": [
    "The solution is found with a single line of code. The computation takes microseconds. \n",
    "\n",
    "We got two angles. Let us determine which one is the correct angle for the principle stress axis. Note that in 2D cases, we need only worry about one angle between ($n_1,x$), because the others are perpendicular to it. "
   ]
  },
  {
   "cell_type": "code",
   "execution_count": 83,
   "metadata": {
    "ExecuteTime": {
     "end_time": "2024-01-21T16:20:17.520977Z",
     "start_time": "2024-01-21T16:20:17.501982Z"
    }
   },
   "outputs": [
    {
     "name": "stdout",
     "output_type": "stream",
     "text": [
      "𝜃= 108.43494882292201\n"
     ]
    }
   ],
   "source": [
    "# Get the angle (in degree): \n",
    "𝜃 = np.arccos(eigenVectors[0,0])*180/np.pi\n",
    "print('𝜃=',𝜃) "
   ]
  },
  {
   "cell_type": "code",
   "execution_count": 84,
   "metadata": {
    "ExecuteTime": {
     "end_time": "2024-01-21T16:20:19.932886Z",
     "start_time": "2024-01-21T16:20:19.916697Z"
    }
   },
   "outputs": [
    {
     "data": {
      "text/plain": [
       "array([[-0.3162,  0.9487,  0.    ],\n",
       "       [-0.9487, -0.3162,  0.    ],\n",
       "       [ 0.    ,  0.    ,  1.    ]])"
      ]
     },
     "execution_count": 84,
     "metadata": {},
     "output_type": "execute_result"
    }
   ],
   "source": [
    "# Form the transformation matrix: \n",
    "T𝜃 = gr.transferM(𝜃, about = 'z')[0]\n",
    "T𝜃"
   ]
  },
  {
   "cell_type": "code",
   "execution_count": 311,
   "metadata": {
    "ExecuteTime": {
     "end_time": "2024-01-20T23:38:37.174467Z",
     "start_time": "2024-01-20T23:38:37.155554Z"
    }
   },
   "outputs": [
    {
     "data": {
      "text/plain": [
       "array([[ 17., -24.,   0.],\n",
       "       [-24.,   3.,   0.],\n",
       "       [  0.,   0.,   0.]])"
      ]
     },
     "execution_count": 311,
     "metadata": {},
     "output_type": "execute_result"
    }
   ],
   "source": [
    "# Perform the tansformation to the stress tensor\n",
    "T𝜃@St@T𝜃.T"
   ]
  },
  {
   "cell_type": "markdown",
   "metadata": {},
   "source": [
    "We got an incorrect result, because the shear stress is nonzero. The angle $[\\pi/2 - 𝜃]$ is must be the correct one. Let us check it out further, using $[\\pi/2 - 𝜃]$. "
   ]
  },
  {
   "cell_type": "code",
   "execution_count": 86,
   "metadata": {
    "ExecuteTime": {
     "end_time": "2024-01-21T16:24:02.329678Z",
     "start_time": "2024-01-21T16:24:02.313719Z"
    }
   },
   "outputs": [
    {
     "data": {
      "text/plain": [
       "array([[ 0.3162,  0.9487,  0.    ],\n",
       "       [-0.9487,  0.3162,  0.    ],\n",
       "       [ 0.    ,  0.    ,  1.    ]])"
      ]
     },
     "execution_count": 86,
     "metadata": {},
     "output_type": "execute_result"
    }
   ],
   "source": [
    "# Form the transformation matrix: \n",
    "T𝜃 = gr.transferM(180-𝜃, about = 'z')[0]\n",
    "T𝜃"
   ]
  },
  {
   "cell_type": "code",
   "execution_count": 87,
   "metadata": {
    "ExecuteTime": {
     "end_time": "2024-01-21T16:24:07.779757Z",
     "start_time": "2024-01-21T16:24:07.763250Z"
    }
   },
   "outputs": [
    {
     "data": {
      "text/plain": [
       "array([[ 35.,  -0.,   0.],\n",
       "       [  0., -15.,   0.],\n",
       "       [  0.,   0.,   0.]])"
      ]
     },
     "execution_count": 87,
     "metadata": {},
     "output_type": "execute_result"
    }
   ],
   "source": [
    "# Perform the tansformation to the stress tensor\n",
    "T𝜃@St@T𝜃.T"
   ]
  },
  {
   "cell_type": "markdown",
   "metadata": {},
   "source": [
    "We got the correct principle stresses and the shear stress is zero. The angle $[\\pi/2 - 𝜃]$ is a correct one. \n",
    "\n",
    "#### Example: computing the principal stresses and principal directions, case-2\n",
    "\n",
    "Let us use the same example as the previous one, but change the stress state a little as follows. "
   ]
  },
  {
   "cell_type": "code",
   "execution_count": 69,
   "metadata": {
    "ExecuteTime": {
     "end_time": "2024-01-22T14:11:22.905020Z",
     "start_time": "2024-01-22T14:11:22.824560Z"
    }
   },
   "outputs": [
    {
     "name": "stdout",
     "output_type": "stream",
     "text": [
      "Stress state:\n",
      "[[ 10  15   0]\n",
      " [ 15 -30   0]\n",
      " [  0   0   0]]\n",
      "\n",
      "Pricipal stress (Eigenvalues):\n",
      " [ 15.   0. -35.] \n",
      "\n",
      "Principal stress directions:\n",
      "[[ 0.9487  0.      0.3162]\n",
      " [ 0.3162  0.     -0.9487]\n",
      " [ 0.      1.      0.    ]]\n",
      "\n",
      "Possible angles (n1,x)=18.434948822922017∘ or 161.56505117707798∘\n"
     ]
    }
   ],
   "source": [
    "# St= np.array([[-10, 15, 0], [15, 30, 0], [0, 0, 0]])      # original \n",
    "St =  np.array([[10, 15, 0], [15, -30, 0], [0, 0, 0]])    # new stress \n",
    "\n",
    "print(f'Stress state:\\n{St}\\n')\n",
    "\n",
    "eigenValues, eigenVectors = principalS(St)"
   ]
  },
  {
   "cell_type": "markdown",
   "metadata": {},
   "source": [
    "We again got two pairs of angles, positive and negative. Let us determine which one is the correct angle for the principle stress axis.  "
   ]
  },
  {
   "cell_type": "code",
   "execution_count": 89,
   "metadata": {
    "ExecuteTime": {
     "end_time": "2024-01-21T16:25:53.243315Z",
     "start_time": "2024-01-21T16:25:53.236160Z"
    }
   },
   "outputs": [
    {
     "name": "stdout",
     "output_type": "stream",
     "text": [
      "𝜃= 18.434948822922017\n"
     ]
    }
   ],
   "source": [
    "# Get the angle (in degree): \n",
    "𝜃 = np.arccos(eigenVectors[0,0])*180/np.pi\n",
    "print('𝜃=',𝜃) "
   ]
  },
  {
   "cell_type": "code",
   "execution_count": 90,
   "metadata": {
    "ExecuteTime": {
     "end_time": "2024-01-21T16:25:56.939302Z",
     "start_time": "2024-01-21T16:25:56.917540Z"
    }
   },
   "outputs": [
    {
     "data": {
      "text/plain": [
       "array([[ 0.9487,  0.3162,  0.    ],\n",
       "       [-0.3162,  0.9487,  0.    ],\n",
       "       [ 0.    ,  0.    ,  1.    ]])"
      ]
     },
     "execution_count": 90,
     "metadata": {},
     "output_type": "execute_result"
    }
   ],
   "source": [
    "# Form the transformation matrix: \n",
    "T𝜃 = gr.transferM(𝜃, about = 'z')[0]\n",
    "T𝜃"
   ]
  },
  {
   "cell_type": "code",
   "execution_count": 91,
   "metadata": {
    "ExecuteTime": {
     "end_time": "2024-01-21T16:25:59.410817Z",
     "start_time": "2024-01-21T16:25:59.397813Z"
    }
   },
   "outputs": [
    {
     "data": {
      "text/plain": [
       "array([[ 15.,  -0.,   0.],\n",
       "       [ -0., -35.,   0.],\n",
       "       [  0.,   0.,   0.]])"
      ]
     },
     "execution_count": 91,
     "metadata": {},
     "output_type": "execute_result"
    }
   ],
   "source": [
    "# Perform the tansformation to the stress tensor\n",
    "T𝜃@St@T𝜃.T"
   ]
  },
  {
   "cell_type": "markdown",
   "metadata": {},
   "source": [
    "This time we got the correct principle stresses and the shear stress is zero. The 𝜃 found is the correct one.\n",
    "\n",
    "Just for double checking, let us perform the transformation matrix using $(180-𝜃)$."
   ]
  },
  {
   "cell_type": "code",
   "execution_count": 92,
   "metadata": {
    "ExecuteTime": {
     "end_time": "2024-01-21T16:26:58.798070Z",
     "start_time": "2024-01-21T16:26:58.775680Z"
    }
   },
   "outputs": [
    {
     "data": {
      "text/plain": [
       "array([[-0.9487,  0.3162,  0.    ],\n",
       "       [-0.3162, -0.9487,  0.    ],\n",
       "       [ 0.    ,  0.    ,  1.    ]])"
      ]
     },
     "execution_count": 92,
     "metadata": {},
     "output_type": "execute_result"
    }
   ],
   "source": [
    "# Form the transformation matrix: \n",
    "T𝜃 = gr.transferM(180-𝜃, about = 'z')[0]\n",
    "T𝜃"
   ]
  },
  {
   "cell_type": "code",
   "execution_count": 93,
   "metadata": {
    "ExecuteTime": {
     "end_time": "2024-01-21T16:27:01.916357Z",
     "start_time": "2024-01-21T16:27:01.908376Z"
    }
   },
   "outputs": [
    {
     "data": {
      "text/plain": [
       "array([[ -3.,  24.,   0.],\n",
       "       [ 24., -17.,   0.],\n",
       "       [  0.,   0.,   0.]])"
      ]
     },
     "execution_count": 93,
     "metadata": {},
     "output_type": "execute_result"
    }
   ],
   "source": [
    "# Perform the tansformation to the stress tensor\n",
    "T𝜃@St@T𝜃.T"
   ]
  },
  {
   "cell_type": "markdown",
   "metadata": {},
   "source": [
    "We got incorrect principle stresses and the shear stress is zero, using $(180-𝜃)$. Only 𝜃 is the correct one angle for the principle stress axis, as shown earlier. "
   ]
  },
  {
   "cell_type": "markdown",
   "metadata": {},
   "source": [
    "#### Closed-form formulas for pure 2D stress states\n",
    "\n",
    "##### Detailed formulation\n",
    "\n",
    "In these two examples given above, all the stress components related to $z$ are zero. Therefore, it is pure 2D stress state. For any such a pure 2D case, we can find the closed-form formulas for the principal stresses and its directions. The Python code is as follows. We assume that $σ_{12}=σ_{21}$ is not zero, or the stress is already on the principal plane. "
   ]
  },
  {
   "cell_type": "code",
   "execution_count": 5,
   "metadata": {
    "ExecuteTime": {
     "end_time": "2024-01-22T19:14:35.562266Z",
     "start_time": "2024-01-22T19:14:34.604099Z"
    }
   },
   "outputs": [
    {
     "data": {
      "text/latex": [
       "$\\displaystyle \\left[\\begin{matrix}σ_{11} & σ_{12}\\\\σ_{21} & σ_{22}\\end{matrix}\\right]$"
      ],
      "text/plain": [
       "⎡σ₁₁  σ₁₂⎤\n",
       "⎢        ⎥\n",
       "⎣σ₂₁  σ₂₂⎦"
      ]
     },
     "execution_count": 5,
     "metadata": {},
     "output_type": "execute_result"
    }
   ],
   "source": [
    "σ11, σ12, σ21, σ22, 𝜃=symbols('σ_11, σ_12, σ_21, σ_22, 𝜃', real = True)\n",
    "S2D = Matrix([[σ11, σ12], [σ21, σ22]])\n",
    "S2D                               # form an arbitrary 2D stress tensor  "
   ]
  },
  {
   "cell_type": "code",
   "execution_count": 11,
   "metadata": {
    "ExecuteTime": {
     "end_time": "2024-01-22T19:32:02.068128Z",
     "start_time": "2024-01-22T19:32:00.769455Z"
    }
   },
   "outputs": [
    {
     "data": {
      "text/latex": [
       "$\\displaystyle \\left[\\begin{matrix}\\cos{\\left(𝜃 \\right)} & \\sin{\\left(𝜃 \\right)}\\\\- \\sin{\\left(𝜃 \\right)} & \\cos{\\left(𝜃 \\right)}\\end{matrix}\\right]$"
      ],
      "text/plain": [
       "⎡cos(𝜃)   sin(𝜃)⎤\n",
       "⎢               ⎥\n",
       "⎣-sin(𝜃)  cos(𝜃)⎦"
      ]
     },
     "execution_count": 11,
     "metadata": {},
     "output_type": "execute_result"
    }
   ],
   "source": [
    "T2D = gr.transf_YPRs(𝜃, about = 'z')[0][:2,:2]    # get T for 2D cases\n",
    "T2D"
   ]
  },
  {
   "cell_type": "code",
   "execution_count": 59,
   "metadata": {
    "ExecuteTime": {
     "end_time": "2024-01-22T20:47:25.360037Z",
     "start_time": "2024-01-22T20:47:23.416443Z"
    }
   },
   "outputs": [
    {
     "data": {
      "text/latex": [
       "$\\displaystyle \\left[\\begin{matrix}σ_{11} \\cos^{2}{\\left(𝜃 \\right)} + σ_{12} \\sin{\\left(2 𝜃 \\right)} + σ_{22} \\sin^{2}{\\left(𝜃 \\right)} & - \\frac{σ_{11} \\sin{\\left(2 𝜃 \\right)}}{2} + σ_{12} \\cos{\\left(2 𝜃 \\right)} + \\frac{σ_{22} \\sin{\\left(2 𝜃 \\right)}}{2}\\\\- \\frac{σ_{11} \\sin{\\left(2 𝜃 \\right)}}{2} + σ_{12} \\cos{\\left(2 𝜃 \\right)} + \\frac{σ_{22} \\sin{\\left(2 𝜃 \\right)}}{2} & σ_{11} \\sin^{2}{\\left(𝜃 \\right)} - σ_{12} \\sin{\\left(2 𝜃 \\right)} + σ_{22} \\cos^{2}{\\left(𝜃 \\right)}\\end{matrix}\\right]$"
      ],
      "text/plain": [
       "⎡         2                            2         σ₁₁⋅sin(2⋅𝜃)                 \n",
       "⎢  σ₁₁⋅cos (𝜃) + σ₁₂⋅sin(2⋅𝜃) + σ₂₂⋅sin (𝜃)    - ──────────── + σ₁₂⋅cos(2⋅𝜃) +\n",
       "⎢                                                     2                       \n",
       "⎢                                                                             \n",
       "⎢  σ₁₁⋅sin(2⋅𝜃)                  σ₂₂⋅sin(2⋅𝜃)           2                     \n",
       "⎢- ──────────── + σ₁₂⋅cos(2⋅𝜃) + ────────────    σ₁₁⋅sin (𝜃) - σ₁₂⋅sin(2⋅𝜃) + \n",
       "⎣       2                             2                                       \n",
       "\n",
       " σ₂₂⋅sin(2⋅𝜃)⎤\n",
       " ────────────⎥\n",
       "      2      ⎥\n",
       "             ⎥\n",
       "       2     ⎥\n",
       "σ₂₂⋅cos (𝜃)  ⎥\n",
       "             ⎦"
      ]
     },
     "execution_count": 59,
     "metadata": {},
     "output_type": "execute_result"
    }
   ],
   "source": [
    "S_𝜃 = T2D@S2D@T2D.T                    # perform stress transformation\n",
    "S_𝜃 = sp.simplify(S_𝜃.subs(σ21,σ12))      # use stress tensor symmetry\n",
    "S_𝜃"
   ]
  },
  {
   "cell_type": "markdown",
   "metadata": {},
   "source": [
    "The results are the same as those we obtained in Eq.(\\ref{eqSXY}). To obtained the angle 𝜃 of the principal plane, we shall set the off-diagonal term to zero. This gives an equation that can be solved for 𝜃."
   ]
  },
  {
   "cell_type": "code",
   "execution_count": 60,
   "metadata": {
    "ExecuteTime": {
     "end_time": "2024-01-22T20:47:30.355639Z",
     "start_time": "2024-01-22T20:47:27.706022Z"
    }
   },
   "outputs": [
    {
     "name": "stdout",
     "output_type": "stream",
     "text": [
      "The rotation angles 𝜃 should be:\n"
     ]
    },
    {
     "data": {
      "text/latex": [
       "$\\displaystyle \\left[\\begin{matrix}\\operatorname{atan}{\\left(\\frac{- σ_{11} + σ_{22} + \\sqrt{σ_{11}^{2} - 2 σ_{11} σ_{22} + 4 σ_{12}^{2} + σ_{22}^{2}}}{2 σ_{12}} \\right)}\\\\- \\operatorname{atan}{\\left(\\frac{σ_{11} - σ_{22} + \\sqrt{σ_{11}^{2} - 2 σ_{11} σ_{22} + 4 σ_{12}^{2} + σ_{22}^{2}}}{2 σ_{12}} \\right)}\\end{matrix}\\right]$"
      ],
      "text/plain": [
       "⎡    ⎛                __________________________________⎞⎤\n",
       "⎢    ⎜               ╱    2                    2      2 ⎟⎥\n",
       "⎢    ⎜-σ₁₁ + σ₂₂ + ╲╱  σ₁₁  - 2⋅σ₁₁⋅σ₂₂ + 4⋅σ₁₂  + σ₂₂  ⎟⎥\n",
       "⎢atan⎜──────────────────────────────────────────────────⎟⎥\n",
       "⎢    ⎝                      2⋅σ₁₂                       ⎠⎥\n",
       "⎢                                                        ⎥\n",
       "⎢     ⎛               __________________________________⎞⎥\n",
       "⎢     ⎜              ╱    2                    2      2 ⎟⎥\n",
       "⎢     ⎜σ₁₁ - σ₂₂ + ╲╱  σ₁₁  - 2⋅σ₁₁⋅σ₂₂ + 4⋅σ₁₂  + σ₂₂  ⎟⎥\n",
       "⎢-atan⎜─────────────────────────────────────────────────⎟⎥\n",
       "⎣     ⎝                      2⋅σ₁₂                      ⎠⎦"
      ]
     },
     "execution_count": 60,
     "metadata": {},
     "output_type": "execute_result"
    }
   ],
   "source": [
    "sln𝜃 = sp.solve(S_𝜃[0,1], 𝜃)      # set the diagonal term 0, and find 𝜃\n",
    "sln𝜃 = sp.Matrix(sln𝜃)\n",
    "gr.printM(sln𝜃, 'The rotation angles 𝜃 should be:')"
   ]
  },
  {
   "cell_type": "markdown",
   "metadata": {},
   "source": [
    "The solution exists, because $σ_{12}$ is nonzero. We need to simplify the solution, so that formulas to be derived later can be well displayed. To do this, we locate the term with square root. It is ease to see this term is positive. "
   ]
  },
  {
   "cell_type": "code",
   "execution_count": 61,
   "metadata": {
    "ExecuteTime": {
     "end_time": "2024-01-22T20:47:33.543373Z",
     "start_time": "2024-01-22T20:47:32.530763Z"
    }
   },
   "outputs": [
    {
     "data": {
      "image/png": "[encoded data removed]",
      "text/latex": [
       "$\\displaystyle \\sqrt{σ_{11}^{2} - 2 σ_{11} σ_{22} + 4 σ_{12}^{2} + σ_{22}^{2}}$"
      ],
      "text/plain": [
       "   __________________________________\n",
       "  ╱    2                    2      2 \n",
       "╲╱  σ₁₁  - 2⋅σ₁₁⋅σ₂₂ + 4⋅σ₁₂  + σ₂₂  "
      ]
     },
     "execution_count": 61,
     "metadata": {},
     "output_type": "execute_result"
    }
   ],
   "source": [
    "sr  = symbols(\"s_r\", positive = True) \n",
    "sr_ = sln𝜃[0].args[0].args[2].args[1]         # use args() to locate it\n",
    "sr_"
   ]
  },
  {
   "cell_type": "code",
   "execution_count": 62,
   "metadata": {
    "ExecuteTime": {
     "end_time": "2024-01-22T20:47:42.451947Z",
     "start_time": "2024-01-22T20:47:41.431858Z"
    }
   },
   "outputs": [
    {
     "data": {
      "text/latex": [
       "$\\displaystyle \\left[\\begin{matrix}\\operatorname{atan}{\\left(\\frac{s_{r} - σ_{11} + σ_{22}}{2 σ_{12}} \\right)}\\\\- \\operatorname{atan}{\\left(\\frac{s_{r} + σ_{11} - σ_{22}}{2 σ_{12}} \\right)}\\end{matrix}\\right]$"
      ],
      "text/plain": [
       "⎡    ⎛sᵣ - σ₁₁ + σ₂₂⎞ ⎤\n",
       "⎢atan⎜──────────────⎟ ⎥\n",
       "⎢    ⎝    2⋅σ₁₂     ⎠ ⎥\n",
       "⎢                     ⎥\n",
       "⎢     ⎛sᵣ + σ₁₁ - σ₂₂⎞⎥\n",
       "⎢-atan⎜──────────────⎟⎥\n",
       "⎣     ⎝    2⋅σ₁₂     ⎠⎦"
      ]
     },
     "execution_count": 62,
     "metadata": {},
     "output_type": "execute_result"
    }
   ],
   "source": [
    "sln𝜃 = sln𝜃.subs(sr_, sr)  # use sr to replacement it to make it shorter\n",
    "sln𝜃                      # nice looking concise solution! "
   ]
  },
  {
   "cell_type": "code",
   "execution_count": 63,
   "metadata": {
    "ExecuteTime": {
     "end_time": "2024-01-22T20:47:47.715505Z",
     "start_time": "2024-01-22T20:47:45.187570Z"
    }
   },
   "outputs": [
    {
     "data": {
      "text/latex": [
       "$\\displaystyle \\left[\\begin{matrix}\\frac{s_{r}^{2} σ_{22} - 2 s_{r} σ_{11} σ_{22} + 4 s_{r} σ_{12}^{2} + 2 s_{r} σ_{22}^{2} + σ_{11}^{2} σ_{22} - 2 σ_{11} σ_{22}^{2} + 4 σ_{12}^{2} σ_{22} + σ_{22}^{3}}{s_{r}^{2} - 2 s_{r} σ_{11} + 2 s_{r} σ_{22} + σ_{11}^{2} - 2 σ_{11} σ_{22} + 4 σ_{12}^{2} + σ_{22}^{2}} & \\frac{σ_{12} \\left(- s_{r}^{2} + σ_{11}^{2} - 2 σ_{11} σ_{22} + 4 σ_{12}^{2} + σ_{22}^{2}\\right)}{s_{r}^{2} - 2 s_{r} σ_{11} + 2 s_{r} σ_{22} + σ_{11}^{2} - 2 σ_{11} σ_{22} + 4 σ_{12}^{2} + σ_{22}^{2}}\\\\\\frac{σ_{12} \\left(- s_{r}^{2} + σ_{11}^{2} - 2 σ_{11} σ_{22} + 4 σ_{12}^{2} + σ_{22}^{2}\\right)}{s_{r}^{2} - 2 s_{r} σ_{11} + 2 s_{r} σ_{22} + σ_{11}^{2} - 2 σ_{11} σ_{22} + 4 σ_{12}^{2} + σ_{22}^{2}} & \\frac{s_{r}^{2} σ_{11} - 2 s_{r} σ_{11}^{2} + 2 s_{r} σ_{11} σ_{22} - 4 s_{r} σ_{12}^{2} + σ_{11}^{3} - 2 σ_{11}^{2} σ_{22} + 4 σ_{11} σ_{12}^{2} + σ_{11} σ_{22}^{2}}{s_{r}^{2} - 2 s_{r} σ_{11} + 2 s_{r} σ_{22} + σ_{11}^{2} - 2 σ_{11} σ_{22} + 4 σ_{12}^{2} + σ_{22}^{2}}\\end{matrix}\\right]$"
      ],
      "text/plain": [
       "⎡  2                              2           2      2                2       \n",
       "⎢sᵣ ⋅σ₂₂ - 2⋅sᵣ⋅σ₁₁⋅σ₂₂ + 4⋅sᵣ⋅σ₁₂  + 2⋅sᵣ⋅σ₂₂  + σ₁₁ ⋅σ₂₂ - 2⋅σ₁₁⋅σ₂₂  + 4⋅σ₁\n",
       "⎢─────────────────────────────────────────────────────────────────────────────\n",
       "⎢                 2                            2                    2      2  \n",
       "⎢               sᵣ  - 2⋅sᵣ⋅σ₁₁ + 2⋅sᵣ⋅σ₂₂ + σ₁₁  - 2⋅σ₁₁⋅σ₂₂ + 4⋅σ₁₂  + σ₂₂   \n",
       "⎢                                                                             \n",
       "⎢                          ⎛    2      2                    2      2⎞         \n",
       "⎢                      σ₁₂⋅⎝- sᵣ  + σ₁₁  - 2⋅σ₁₁⋅σ₂₂ + 4⋅σ₁₂  + σ₂₂ ⎠         \n",
       "⎢               ────────────────────────────────────────────────────────────  \n",
       "⎢                 2                            2                    2      2  \n",
       "⎣               sᵣ  - 2⋅sᵣ⋅σ₁₁ + 2⋅sᵣ⋅σ₂₂ + σ₁₁  - 2⋅σ₁₁⋅σ₂₂ + 4⋅σ₁₂  + σ₂₂   \n",
       "\n",
       " 2          3                            ⎛    2      2                    2   \n",
       "₂ ⋅σ₂₂ + σ₂₂                         σ₁₂⋅⎝- sᵣ  + σ₁₁  - 2⋅σ₁₁⋅σ₂₂ + 4⋅σ₁₂  + \n",
       "─────────────                 ────────────────────────────────────────────────\n",
       "                                2                            2                \n",
       "                              sᵣ  - 2⋅sᵣ⋅σ₁₁ + 2⋅sᵣ⋅σ₂₂ + σ₁₁  - 2⋅σ₁₁⋅σ₂₂ + 4\n",
       "                                                                              \n",
       "                 2               2                          2      3        2 \n",
       "               sᵣ ⋅σ₁₁ - 2⋅sᵣ⋅σ₁₁  + 2⋅sᵣ⋅σ₁₁⋅σ₂₂ - 4⋅sᵣ⋅σ₁₂  + σ₁₁  - 2⋅σ₁₁ ⋅\n",
       "               ───────────────────────────────────────────────────────────────\n",
       "                                2                            2                \n",
       "                              sᵣ  - 2⋅sᵣ⋅σ₁₁ + 2⋅sᵣ⋅σ₂₂ + σ₁₁  - 2⋅σ₁₁⋅σ₂₂ + 4\n",
       "\n",
       "   2⎞                      ⎤\n",
       "σ₂₂ ⎠                      ⎥\n",
       "────────────               ⎥\n",
       "    2      2               ⎥\n",
       "⋅σ₁₂  + σ₂₂                ⎥\n",
       "                           ⎥\n",
       "               2          2⎥\n",
       "σ₂₂ + 4⋅σ₁₁⋅σ₁₂  + σ₁₁⋅σ₂₂ ⎥\n",
       "───────────────────────────⎥\n",
       "    2      2               ⎥\n",
       "⋅σ₁₂  + σ₂₂                ⎦"
      ]
     },
     "execution_count": 63,
     "metadata": {},
     "output_type": "execute_result"
    }
   ],
   "source": [
    "# Substitute the solution into  S_𝜃 obtained earlier:\n",
    "S_diagonalized = sp.simplify(S_𝜃.subs(𝜃, sln𝜃[0]))\n",
    "S_diagonalized"
   ]
  },
  {
   "cell_type": "code",
   "execution_count": 64,
   "metadata": {
    "ExecuteTime": {
     "end_time": "2024-01-22T20:47:53.754150Z",
     "start_time": "2024-01-22T20:47:51.631868Z"
    }
   },
   "outputs": [
    {
     "data": {
      "image/png": "[encoded data removed]",
      "text/latex": [
       "$\\displaystyle 0$"
      ],
      "text/plain": [
       "0"
      ]
     },
     "execution_count": 64,
     "metadata": {},
     "output_type": "execute_result"
    }
   ],
   "source": [
    "# Check whether the off-diagonal term is 0:\n",
    "sp.simplify(S_diagonalized[1,0].subs({sr:sr_}))  "
   ]
  },
  {
   "cell_type": "markdown",
   "metadata": {},
   "source": [
    "The stress matrix is diagonalized with the principal stresses on the diagonal terms. "
   ]
  },
  {
   "cell_type": "code",
   "execution_count": 65,
   "metadata": {
    "ExecuteTime": {
     "end_time": "2024-01-22T20:47:58.961009Z",
     "start_time": "2024-01-22T20:47:57.688771Z"
    }
   },
   "outputs": [
    {
     "name": "stdout",
     "output_type": "stream",
     "text": [
      "Principal stresses for pure 2D problems:\n"
     ]
    },
    {
     "data": {
      "text/latex": [
       "$\\displaystyle \\left[\\begin{matrix}\\frac{s_{r}^{2} σ_{22} - 2 s_{r} σ_{11} σ_{22} + 4 s_{r} σ_{12}^{2} + 2 s_{r} σ_{22}^{2} + σ_{11}^{2} σ_{22} - 2 σ_{11} σ_{22}^{2} + 4 σ_{12}^{2} σ_{22} + σ_{22}^{3}}{s_{r}^{2} - 2 s_{r} σ_{11} + 2 s_{r} σ_{22} + σ_{11}^{2} - 2 σ_{11} σ_{22} + 4 σ_{12}^{2} + σ_{22}^{2}}\\\\\\frac{s_{r}^{2} σ_{11} - 2 s_{r} σ_{11}^{2} + 2 s_{r} σ_{11} σ_{22} - 4 s_{r} σ_{12}^{2} + σ_{11}^{3} - 2 σ_{11}^{2} σ_{22} + 4 σ_{11} σ_{12}^{2} + σ_{11} σ_{22}^{2}}{s_{r}^{2} - 2 s_{r} σ_{11} + 2 s_{r} σ_{22} + σ_{11}^{2} - 2 σ_{11} σ_{22} + 4 σ_{12}^{2} + σ_{22}^{2}}\\end{matrix}\\right]$"
      ],
      "text/plain": [
       "⎡  2                              2           2      2                2       \n",
       "⎢sᵣ ⋅σ₂₂ - 2⋅sᵣ⋅σ₁₁⋅σ₂₂ + 4⋅sᵣ⋅σ₁₂  + 2⋅sᵣ⋅σ₂₂  + σ₁₁ ⋅σ₂₂ - 2⋅σ₁₁⋅σ₂₂  + 4⋅σ₁\n",
       "⎢─────────────────────────────────────────────────────────────────────────────\n",
       "⎢                 2                            2                    2      2  \n",
       "⎢               sᵣ  - 2⋅sᵣ⋅σ₁₁ + 2⋅sᵣ⋅σ₂₂ + σ₁₁  - 2⋅σ₁₁⋅σ₂₂ + 4⋅σ₁₂  + σ₂₂   \n",
       "⎢                                                                             \n",
       "⎢  2               2                          2      3        2               \n",
       "⎢sᵣ ⋅σ₁₁ - 2⋅sᵣ⋅σ₁₁  + 2⋅sᵣ⋅σ₁₁⋅σ₂₂ - 4⋅sᵣ⋅σ₁₂  + σ₁₁  - 2⋅σ₁₁ ⋅σ₂₂ + 4⋅σ₁₁⋅σ₁\n",
       "⎢─────────────────────────────────────────────────────────────────────────────\n",
       "⎢                 2                            2                    2      2  \n",
       "⎣               sᵣ  - 2⋅sᵣ⋅σ₁₁ + 2⋅sᵣ⋅σ₂₂ + σ₁₁  - 2⋅σ₁₁⋅σ₂₂ + 4⋅σ₁₂  + σ₂₂   \n",
       "\n",
       " 2          3⎤\n",
       "₂ ⋅σ₂₂ + σ₂₂ ⎥\n",
       "─────────────⎥\n",
       "             ⎥\n",
       "             ⎥\n",
       "             ⎥\n",
       " 2          2⎥\n",
       "₂  + σ₁₁⋅σ₂₂ ⎥\n",
       "─────────────⎥\n",
       "             ⎥\n",
       "             ⎦"
      ]
     },
     "execution_count": 65,
     "metadata": {},
     "output_type": "execute_result"
    }
   ],
   "source": [
    "S_principal = sp.Matrix([S_diagonalized[0,0], S_diagonalized[1,1]])\n",
    "gr.printM(S_principal,  'Principal stresses for pure 2D problems:')"
   ]
  },
  {
   "cell_type": "markdown",
   "metadata": {},
   "source": [
    "We finally obtained the closed-form formulas for the principal stresses: $σ_{1}$ and $σ_{2}$. It can drastically simplified manually to give:\n",
    "\n",
    "\\begin{equation} \\label{eqPS2D}\n",
    "σ_{1} = \\frac{s_{r} σ_{22} - σ_{11} σ_{22} + 2 σ_{12}^{2} + σ_{22}^{2} }{s_{r}  -  σ_{11} + σ_{22} }\\\\\n",
    "σ_{2} = \\frac{s_{r} σ_{11} + σ_{11} σ_{22} - 2 σ_{12}^{2} - σ_{11}^{2} }{s_{r}  -  σ_{11} + σ_{22} } \n",
    "\\end{equation} \n",
    "\n",
    "where $s_{r}$ is given by \n",
    "\n",
    "\\begin{equation} \\label{eqSr2D}\n",
    "s_{r} = \\sqrt{σ_{11}^{2} - 2 σ_{11} σ_{22} + 4 σ_{12}^{2} + σ_{22}^2} = \\sqrt{(σ_{11} - σ_{22})^2 + 4 σ_{12}^2} \n",
    "\\end{equation} \n",
    "\n",
    "which is clearly always positive. These two principle stress can now written in Python code as: "
   ]
  },
  {
   "cell_type": "code",
   "execution_count": 66,
   "metadata": {
    "ExecuteTime": {
     "end_time": "2024-01-22T20:48:29.367691Z",
     "start_time": "2024-01-22T20:48:29.339680Z"
    }
   },
   "outputs": [],
   "source": [
    "s_denom = sr-σ11+σ22 \n",
    "𝜎1_ = (sr*σ22-σ11*σ22+2*σ12**2+σ22**2)/s_denom \n",
    "𝜎2_ = (sr*σ11+σ11*σ22-2*σ12**2-σ11**2)/s_denom"
   ]
  },
  {
   "cell_type": "markdown",
   "metadata": {},
   "source": [
    "The following code checks whether the manual simplification is done correctly, results in zero difference. "
   ]
  },
  {
   "cell_type": "code",
   "execution_count": 49,
   "metadata": {
    "ExecuteTime": {
     "end_time": "2024-01-22T20:43:08.175386Z",
     "start_time": "2024-01-22T20:43:07.754397Z"
    },
    "scrolled": true
   },
   "outputs": [
    {
     "name": "stdout",
     "output_type": "stream",
     "text": [
      "0 0\n"
     ]
    }
   ],
   "source": [
    "print(sp.simplify(S_principal[0]-𝜎1_).subs(sr, sr_), \n",
    "      sp.simplify(S_principal[1]-𝜎2_).subs(sr, sr_))"
   ]
  },
  {
   "cell_type": "markdown",
   "metadata": {},
   "source": [
    "Equation (\\ref{eqPS2D}) can be further simplified by multiplying $s_r + (σ_{11} - σ_{22})$ to both the denominator and the numerator. This gives the following forms that are often found in the textbooks via other methods (the Mohr cricle).  \n",
    "\n",
    "\\begin{equation} \\label{eqPS2DF}\n",
    "\\boxed{\n",
    "σ_{1} = \\frac{σ_{11}+σ_{22}}{2} + \\sqrt{σ_{12}^{2}+ \\left(\\frac{σ_{11}-σ_{22}}{2}\\right)^2} \\\\\n",
    "σ_{2} = \\frac{σ_{11}+σ_{22}}{2} - \\sqrt{σ_{12}^{2}+ \\left(\\frac{σ_{11}-σ_{22}}{2}\\right)^2} }\n",
    "\\end{equation} \n",
    "\n",
    "These further simplifications for these principle stress were done using the following Python codes. "
   ]
  },
  {
   "cell_type": "code",
   "execution_count": 67,
   "metadata": {
    "ExecuteTime": {
     "end_time": "2024-01-22T20:51:31.670367Z",
     "start_time": "2024-01-22T20:51:30.461272Z"
    }
   },
   "outputs": [
    {
     "data": {
      "image/png": "[encoded data removed]",
      "text/latex": [
       "$\\displaystyle 4 σ_{12}^{2}$"
      ],
      "text/plain": [
       "     2\n",
       "4⋅σ₁₂ "
      ]
     },
     "execution_count": 67,
     "metadata": {},
     "output_type": "execute_result"
    }
   ],
   "source": [
    "s_denom = sp.denom(𝜎1_)    # get the demominator and miltiply the term\n",
    "s_denom = (s_denom*(sr + (σ11-σ22))).subs(sr, sr_).simplify()\n",
    "s_denom                                         # simplied denominator"
   ]
  },
  {
   "cell_type": "code",
   "execution_count": 68,
   "metadata": {
    "ExecuteTime": {
     "end_time": "2024-01-22T20:54:22.513194Z",
     "start_time": "2024-01-22T20:54:21.195432Z"
    }
   },
   "outputs": [
    {
     "name": "stdout",
     "output_type": "stream",
     "text": [
      "Simplified principal stresses for pure 2D problems, 𝜎1:\n"
     ]
    },
    {
     "data": {
      "image/png": "[encoded data removed]",
      "text/latex": [
       "$\\displaystyle \\frac{σ_{11}}{2} + \\frac{σ_{22}}{2} + \\frac{\\sqrt{4 σ_{12}^{2} + \\left(σ_{11} - σ_{22}\\right)^{2}}}{2}$"
      ],
      "text/plain": [
       "               _______________________\n",
       "              ╱      2              2 \n",
       "σ₁₁   σ₂₂   ╲╱  4⋅σ₁₂  + (σ₁₁ - σ₂₂)  \n",
       "─── + ─── + ──────────────────────────\n",
       " 2     2                2             "
      ]
     },
     "execution_count": 68,
     "metadata": {},
     "output_type": "execute_result"
    }
   ],
   "source": [
    "dic = {σ11**2-2*σ11*σ22+σ22**2: (σ11-σ22)**2}     # identity for subs.\n",
    "\n",
    "s_numer = sp.numer(𝜎1_)      # get the numerator and miltiply the term\n",
    "s_numer = sp.simplify((s_numer*(sr + (σ11-σ22))).subs(sr, sr_))\n",
    "𝜎1 = (s_numer/s_denom).subs(dic).simplify()\n",
    "gr.printM(𝜎1,'Simplified principal stresses for pure 2D problems, 𝜎1:')"
   ]
  },
  {
   "cell_type": "code",
   "execution_count": 69,
   "metadata": {
    "ExecuteTime": {
     "end_time": "2024-01-22T20:54:54.818973Z",
     "start_time": "2024-01-22T20:54:53.267515Z"
    }
   },
   "outputs": [
    {
     "name": "stdout",
     "output_type": "stream",
     "text": [
      "Simplified principal stresses for pure 2D problems, 𝜎2:\n"
     ]
    },
    {
     "data": {
      "image/png": "[encoded data removed]",
      "text/latex": [
       "$\\displaystyle \\frac{σ_{11}}{2} + \\frac{σ_{22}}{2} - \\frac{\\sqrt{4 σ_{12}^{2} + \\left(σ_{11} - σ_{22}\\right)^{2}}}{2}$"
      ],
      "text/plain": [
       "               _______________________\n",
       "              ╱      2              2 \n",
       "σ₁₁   σ₂₂   ╲╱  4⋅σ₁₂  + (σ₁₁ - σ₂₂)  \n",
       "─── + ─── - ──────────────────────────\n",
       " 2     2                2             "
      ]
     },
     "execution_count": 69,
     "metadata": {},
     "output_type": "execute_result"
    }
   ],
   "source": [
    "s_numer = sp.numer(𝜎2_)    # Do the same for the 2nd princiipal stress\n",
    "s_numer = sp.simplify((s_numer*(sr + (σ11-σ22))).subs(sr, sr_))\n",
    "𝜎2 = (s_numer/s_denom).subs(dic).simplify()\n",
    "gr.printM(𝜎2,'Simplified principal stresses for pure 2D problems, 𝜎2:')"
   ]
  },
  {
   "cell_type": "code",
   "execution_count": 84,
   "metadata": {
    "ExecuteTime": {
     "end_time": "2024-01-22T21:01:43.793094Z",
     "start_time": "2024-01-22T21:01:42.477223Z"
    }
   },
   "outputs": [
    {
     "data": {
      "image/png": "[encoded data removed]",
      "text/latex": [
       "$\\displaystyle σ_{11} + σ_{22}$"
      ],
      "text/plain": [
       "σ₁₁ + σ₂₂"
      ]
     },
     "execution_count": 84,
     "metadata": {},
     "output_type": "execute_result"
    }
   ],
   "source": [
    "𝜎1 + 𝜎2                        # an important finding: 𝜎1+𝜎2 = σ11-σ22 "
   ]
  },
  {
   "cell_type": "code",
   "execution_count": 83,
   "metadata": {
    "ExecuteTime": {
     "end_time": "2024-01-22T21:01:40.383960Z",
     "start_time": "2024-01-22T21:01:38.338853Z"
    }
   },
   "outputs": [
    {
     "data": {
      "image/png": "[encoded data removed]",
      "text/latex": [
       "$\\displaystyle σ_{11} σ_{22} - σ_{12}^{2}$"
      ],
      "text/plain": [
       "             2\n",
       "σ₁₁⋅σ₂₂ - σ₁₂ "
      ]
     },
     "execution_count": 83,
     "metadata": {},
     "output_type": "execute_result"
    }
   ],
   "source": [
    "(𝜎1*𝜎2).simplify()  # another important finding: 𝜎1*𝜎2 = σ11*σ22-σ12^2"
   ]
  },
  {
   "cell_type": "markdown",
   "metadata": {},
   "source": [
    "These two principal stresses given in Eq.(\\ref{eqPS2D}) are in fact the eigenvalues.\n",
    "The eigenvectors are the transpose of the 2D transformation matrix, which gives the direction of the principal axes. "
   ]
  },
  {
   "cell_type": "code",
   "execution_count": 99,
   "metadata": {
    "ExecuteTime": {
     "end_time": "2024-01-22T15:22:27.011593Z",
     "start_time": "2024-01-22T15:22:27.002583Z"
    }
   },
   "outputs": [],
   "source": [
    "#T2D.T     # Eigenvectors for pure 2D stress states, remove # to check"
   ]
  },
  {
   "cell_type": "markdown",
   "metadata": {},
   "source": [
    "##### Numerical example: a pure 2D case\n",
    "\n",
    "Let us use the same stress tensor given in the previous example, but take the nonzero stresses that gives a pure 2D stress state. The following codes compute the numerical results using the formulas derived. "
   ]
  },
  {
   "cell_type": "code",
   "execution_count": 56,
   "metadata": {
    "ExecuteTime": {
     "end_time": "2024-01-22T20:46:46.712459Z",
     "start_time": "2024-01-22T20:46:46.698497Z"
    }
   },
   "outputs": [
    {
     "name": "stdout",
     "output_type": "stream",
     "text": [
      "A pure 2D stress tensor: \n",
      "[[ 10  15]\n",
      " [ 15 -30]] \n"
     ]
    }
   ],
   "source": [
    "St =  np.array([[10, 15, 0], [15, -30, 0], [0, 0, 0]])  # stress in 3D \n",
    "S2Dt = St[:2,:2]      # take these nonzero stresses and form a pure 2D \n",
    "print(f'A pure 2D stress tensor: \\n{S2Dt} ')"
   ]
  },
  {
   "cell_type": "code",
   "execution_count": 57,
   "metadata": {
    "ExecuteTime": {
     "end_time": "2024-01-22T20:46:50.873496Z",
     "start_time": "2024-01-22T20:46:50.847932Z"
    }
   },
   "outputs": [
    {
     "name": "stdout",
     "output_type": "stream",
     "text": [
      "𝜎1 value = 15\n",
      "𝜎2 value = -35\n"
     ]
    }
   ],
   "source": [
    "# Create a list to substitute the simbolic stress with numerical values\n",
    "s_list = list(zip(S2D,Matrix(S2Dt)))   \n",
    "\n",
    "print(f'𝜎1 value = {𝜎1.subs(sr,sr_).subs(s_list)}')\n",
    "print(f'𝜎2 value = {𝜎2.subs(sr,sr_).subs(s_list)}')"
   ]
  },
  {
   "cell_type": "code",
   "execution_count": 71,
   "metadata": {
    "ExecuteTime": {
     "end_time": "2024-01-22T20:55:57.720768Z",
     "start_time": "2024-01-22T20:55:57.639810Z"
    }
   },
   "outputs": [
    {
     "name": "stdout",
     "output_type": "stream",
     "text": [
      "𝜃1 value=18.4349488229220\n",
      "𝜃2 value=-71.5650511770780\n"
     ]
    }
   ],
   "source": [
    "print(f'𝜃1 value={sln𝜃[0].subs(sr,sr_).subs(s_list).evalf()*180/np.pi}')\n",
    "print(f'𝜃2 value={sln𝜃[1].subs(sr,sr_).subs(s_list).evalf()*180/np.pi}')"
   ]
  },
  {
   "cell_type": "code",
   "execution_count": 73,
   "metadata": {
    "ExecuteTime": {
     "end_time": "2024-01-22T20:56:12.064401Z",
     "start_time": "2024-01-22T20:56:09.232022Z"
    }
   },
   "outputs": [
    {
     "data": {
      "image/png": "[encoded data removed]",
      "text/latex": [
       "$\\displaystyle \\left[\\begin{matrix}0.948683298050514 & -0.316227766016838\\\\0.316227766016838 & 0.948683298050514\\end{matrix}\\right]$"
      ],
      "text/plain": [
       "⎡0.948683298050514  -0.316227766016838⎤\n",
       "⎢                                     ⎥\n",
       "⎣0.316227766016838  0.948683298050514 ⎦"
      ]
     },
     "execution_count": 73,
     "metadata": {},
     "output_type": "execute_result"
    }
   ],
   "source": [
    "# Eigenvectors in numerical value: \n",
    "(T2D.T).subs(𝜃, sln𝜃[0]).subs(sr,sr_).subs(s_list).evalf()"
   ]
  },
  {
   "cell_type": "markdown",
   "metadata": {
    "ExecuteTime": {
     "end_time": "2024-01-22T15:24:30.700919Z",
     "start_time": "2024-01-22T15:24:30.688951Z"
    }
   },
   "source": [
    "We obtained the same results, up to the periodicity. \n",
    "\n",
    "#### The maximum shear stress of 2D stress states\n",
    "\n",
    "The above approach can also be used to find the maximum shear stress for any given  2D stress states, with some minor changes. The codes are as follows.  "
   ]
  },
  {
   "cell_type": "code",
   "execution_count": 74,
   "metadata": {
    "ExecuteTime": {
     "end_time": "2024-01-22T20:56:54.852443Z",
     "start_time": "2024-01-22T20:56:53.966195Z"
    }
   },
   "outputs": [],
   "source": [
    "σ11, σ12, σ22, 𝜃 = symbols('σ_11, σ_12, σ_22, 𝜃', real = True)\n",
    "S2D = Matrix([[σ11, σ12], [σ12, σ22]])       # form a 2D stress tensor\n",
    "\n",
    "T2D = gr.transf_YPRs(𝜃, about = 'z')[0][:2,:2]    # get T for 2D cases\n",
    "S_𝜃 = sp.simplify(T2D@S2D@T2D.T)       # perform stress transformation"
   ]
  },
  {
   "cell_type": "code",
   "execution_count": 75,
   "metadata": {
    "ExecuteTime": {
     "end_time": "2024-01-22T20:57:01.079797Z",
     "start_time": "2024-01-22T20:56:57.359204Z"
    }
   },
   "outputs": [
    {
     "name": "stdout",
     "output_type": "stream",
     "text": [
      "The angle where the maximum shear stress is:\n"
     ]
    },
    {
     "data": {
      "text/latex": [
       "$\\displaystyle \\left[\\begin{matrix}\\operatorname{atan}{\\left(\\frac{2 σ_{12} - \\sqrt{σ_{11}^{2} - 2 σ_{11} σ_{22} + 4 σ_{12}^{2} + σ_{22}^{2}}}{σ_{11} - σ_{22}} \\right)}\\\\\\operatorname{atan}{\\left(\\frac{2 σ_{12} + \\sqrt{σ_{11}^{2} - 2 σ_{11} σ_{22} + 4 σ_{12}^{2} + σ_{22}^{2}}}{σ_{11} - σ_{22}} \\right)}\\end{matrix}\\right]$"
      ],
      "text/plain": [
       "⎡    ⎛           __________________________________⎞⎤\n",
       "⎢    ⎜          ╱    2                    2      2 ⎟⎥\n",
       "⎢    ⎜2⋅σ₁₂ - ╲╱  σ₁₁  - 2⋅σ₁₁⋅σ₂₂ + 4⋅σ₁₂  + σ₂₂  ⎟⎥\n",
       "⎢atan⎜─────────────────────────────────────────────⎟⎥\n",
       "⎢    ⎝                  σ₁₁ - σ₂₂                  ⎠⎥\n",
       "⎢                                                   ⎥\n",
       "⎢    ⎛           __________________________________⎞⎥\n",
       "⎢    ⎜          ╱    2                    2      2 ⎟⎥\n",
       "⎢    ⎜2⋅σ₁₂ + ╲╱  σ₁₁  - 2⋅σ₁₁⋅σ₂₂ + 4⋅σ₁₂  + σ₂₂  ⎟⎥\n",
       "⎢atan⎜─────────────────────────────────────────────⎟⎥\n",
       "⎣    ⎝                  σ₁₁ - σ₂₂                  ⎠⎦"
      ]
     },
     "execution_count": 75,
     "metadata": {},
     "output_type": "execute_result"
    }
   ],
   "source": [
    "# Find the maximum of the shear stress in S_𝜃:\n",
    "𝜏_diff_𝜃 = S_𝜃[0,1].diff(𝜃)                    # get the derivative it\n",
    "𝜃_𝜏max = Matrix(sp.solve(𝜏_diff_𝜃, 𝜃))       # set is to 0, and find 𝜃\n",
    "\n",
    "gr.printM(𝜃_𝜏max,'The angle where the maximum shear stress is:')"
   ]
  },
  {
   "cell_type": "code",
   "execution_count": 76,
   "metadata": {
    "ExecuteTime": {
     "end_time": "2024-01-22T20:57:04.929178Z",
     "start_time": "2024-01-22T20:57:03.415070Z"
    }
   },
   "outputs": [
    {
     "data": {
      "image/png": "[encoded data removed]",
      "text/latex": [
       "$\\displaystyle \\sqrt{σ_{11}^{2} - 2 σ_{11} σ_{22} + 4 σ_{12}^{2} + σ_{22}^{2}}$"
      ],
      "text/plain": [
       "   __________________________________\n",
       "  ╱    2                    2      2 \n",
       "╲╱  σ₁₁  - 2⋅σ₁₁⋅σ₂₂ + 4⋅σ₁₂  + σ₂₂  "
      ]
     },
     "execution_count": 76,
     "metadata": {},
     "output_type": "execute_result"
    }
   ],
   "source": [
    "sr  = symbols(\"s_r\", positive = True) \n",
    "sr_ = 𝜃_𝜏max[0].args[0].args[1].args[0].args[1]\n",
    "sr_ "
   ]
  },
  {
   "cell_type": "code",
   "execution_count": 77,
   "metadata": {
    "ExecuteTime": {
     "end_time": "2024-01-22T20:57:08.583427Z",
     "start_time": "2024-01-22T20:57:07.082224Z"
    }
   },
   "outputs": [
    {
     "name": "stdout",
     "output_type": "stream",
     "text": [
      "The angle where the maximum shear stress is:\n"
     ]
    },
    {
     "data": {
      "text/latex": [
       "$\\displaystyle \\left[\\begin{matrix}\\operatorname{atan}{\\left(\\frac{- s_{r} + 2 σ_{12}}{σ_{11} - σ_{22}} \\right)}\\\\\\operatorname{atan}{\\left(\\frac{s_{r} + 2 σ_{12}}{σ_{11} - σ_{22}} \\right)}\\end{matrix}\\right]$"
      ],
      "text/plain": [
       "⎡    ⎛-sᵣ + 2⋅σ₁₂⎞⎤\n",
       "⎢atan⎜───────────⎟⎥\n",
       "⎢    ⎝ σ₁₁ - σ₂₂ ⎠⎥\n",
       "⎢                 ⎥\n",
       "⎢    ⎛sᵣ + 2⋅σ₁₂⎞ ⎥\n",
       "⎢atan⎜──────────⎟ ⎥\n",
       "⎣    ⎝σ₁₁ - σ₂₂ ⎠ ⎦"
      ]
     },
     "execution_count": 77,
     "metadata": {},
     "output_type": "execute_result"
    }
   ],
   "source": [
    "𝜃_𝜏max = Matrix(𝜃_𝜏max).subs(sr_, sr)\n",
    "gr.printM(𝜃_𝜏max,'The angle where the maximum shear stress is:')"
   ]
  },
  {
   "cell_type": "markdown",
   "metadata": {},
   "source": [
    "We now substitute these angles to the shear stress expression, going thorough a series of simplification process to obtained the closed-from formula for the maximum shear stress. The code is as follows. "
   ]
  },
  {
   "cell_type": "code",
   "execution_count": 78,
   "metadata": {
    "ExecuteTime": {
     "end_time": "2024-01-22T20:57:16.083728Z",
     "start_time": "2024-01-22T20:57:13.630693Z"
    }
   },
   "outputs": [
    {
     "name": "stdout",
     "output_type": "stream",
     "text": [
      "The maximum shear stress is:\n"
     ]
    },
    {
     "data": {
      "image/png": "[encoded data removed]",
      "text/latex": [
       "$\\displaystyle \\frac{\\sqrt{4 σ_{12}^{2} + \\left(σ_{11} - σ_{22}\\right)^{2}}}{2}$"
      ],
      "text/plain": [
       "   _______________________\n",
       "  ╱      2              2 \n",
       "╲╱  4⋅σ₁₂  + (σ₁₁ - σ₂₂)  \n",
       "──────────────────────────\n",
       "            2             "
      ]
     },
     "execution_count": 78,
     "metadata": {},
     "output_type": "execute_result"
    }
   ],
   "source": [
    "𝜏_max = S_𝜃[0,1].subs(𝜃, 𝜃_𝜏max[0]).simplify()\n",
    "𝜏_max = 𝜏_max.subs(sr**2, sr_**2).simplify().subs(sr_, sr)\\\n",
    "             .subs(sr_**2, sr**2).simplify().subs(sr, sr_)\n",
    "\n",
    "𝜏_max = 𝜏_max.subs(σ11**2-2*σ11*σ22+σ22**2,  (σ11-σ22)**2).simplify()\n",
    "gr.printM(𝜏_max,'The maximum shear stress is:')"
   ]
  },
  {
   "cell_type": "markdown",
   "metadata": {},
   "source": [
    "We now write the formula in the following form that often found the the textbooks. \n",
    "\n",
    "\\begin{equation} \\label{eqtmax}\n",
    "\\boxed{\n",
    "𝜏_{max} = \\sqrt{ σ_{12}^2 + \\left(\\frac{σ_{11} - σ_{22}}{2}\\right)^{2}} }\n",
    "\\end{equation} \n",
    "\n",
    "This means the maximum shear stress consists the shear stress $σ_{12}$ and the contribution from the differences of the normal stresses. If one uses the 2nd angle, we shall get the same formula but with a negative sign. We will derive the same formula via other means later. \n",
    "\n",
    "Assume we know the principle stresses $σ_1$ and $σ_2$, and using these two to compute the maximum stress, we should have\n",
    "\n",
    "\\begin{equation} \\label{eqtamxp}\n",
    "\\boxed{\n",
    "𝜏_{max} = \\pm \\frac{σ_{1} - σ_{2}}{2} }\n",
    "\\end{equation} \n",
    "\n",
    "This means that the maximum shear stress is half the difference of the principal stresses. Thus, if we already obtained the principal stresses, computing the maximum shear stress is easy. "
   ]
  },
  {
   "cell_type": "markdown",
   "metadata": {},
   "source": [
    "#### 3D cases *\n",
    "\n",
    "Let us now consider the general cases of 3D stress states. In such a case, all these 6 stress components may not be zero. We need to find the principal stress and the precise angles for the principal stresses. This problem becomes quite complicated, and the solution cannot be found in the existing textbooks and open literature, to the best knowledge of the author. The author has found an effective method to get this done, and the strategy is given as follows. \n",
    "\n",
    "1. Create the transformation matrix using the Yaw, Pitch, and Roll formulation given in the previous chapter, in, for example, Sympy formulas. \n",
    "\n",
    "2. Perform the coordinate transformation to any given general stress state, which leads to three expressions for shear stresses on all the off-diagonal terms. These expressions will be in the Yaw angle 𝜃, Pitch angle 𝛽, and Roll angle 𝛾, and is in general quite complicated full-page long formulas. \n",
    "\n",
    "3. Force these three expressions to zero to find the angles, 𝜃, 𝛽, 𝛾. This can be done using an equation solver.\n",
    "\n",
    "Because of the tensor properties, we know that the solution for 𝜃, 𝛽, 𝛾 exists. \n",
    "\n",
    "This procedure is essentially a diagonalization procedure. It produces a diagonal stress matrix. It not only finds the angles, 𝜃, 𝛽, 𝛾, but also these principal stresses that are on the diagonal.   \n",
    "\n",
    "The following are the codes to get it done.  "
   ]
  },
  {
   "cell_type": "code",
   "execution_count": 85,
   "metadata": {
    "ExecuteTime": {
     "end_time": "2024-01-22T21:02:55.124092Z",
     "start_time": "2024-01-22T21:02:53.822273Z"
    }
   },
   "outputs": [
    {
     "name": "stdout",
     "output_type": "stream",
     "text": [
      "Ty=, Matrix([[cos(𝛽), 0, -sin(𝛽)], [0, 1, 0], [sin(𝛽), 0, cos(𝛽)]]), \n",
      "Tx=, Matrix([[1, 0, 0], [0, cos(𝛾), sin(𝛾)], [0, -sin(𝛾), cos(𝛾)]])\n"
     ]
    },
    {
     "data": {
      "text/latex": [
       "$\\displaystyle \\left[\\begin{matrix}\\cos{\\left(𝜃 \\right)} & \\sin{\\left(𝜃 \\right)} & 0\\\\- \\sin{\\left(𝜃 \\right)} & \\cos{\\left(𝜃 \\right)} & 0\\\\0 & 0 & 1\\end{matrix}\\right]$"
      ],
      "text/plain": [
       "⎡cos(𝜃)   sin(𝜃)  0⎤\n",
       "⎢                  ⎥\n",
       "⎢-sin(𝜃)  cos(𝜃)  0⎥\n",
       "⎢                  ⎥\n",
       "⎣   0       0     1⎦"
      ]
     },
     "execution_count": 85,
     "metadata": {},
     "output_type": "execute_result"
    }
   ],
   "source": [
    "# define variables for angle of rotation\n",
    "𝜃, 𝛽, 𝛾 = symbols(\"𝜃, 𝛽, 𝛾\")  \n",
    "\n",
    "# Create the matrices for Yaw, Pitch, and Roll for transformations: \n",
    "Tz = gr.transf_YPRs(𝜃, about = 'z')[0]\n",
    "Ty = gr.transf_YPRs(𝛽, about = 'y')[0]\n",
    "Tx = gr.transf_YPRs(𝛾, about = 'x')[0]\n",
    "\n",
    "print(f'Ty=, {Ty}, \\nTx=, {Tx}')\n",
    "Tz      # take a look at one of these"
   ]
  },
  {
   "cell_type": "code",
   "execution_count": 86,
   "metadata": {
    "ExecuteTime": {
     "end_time": "2024-01-22T21:03:00.977256Z",
     "start_time": "2024-01-22T21:02:59.668682Z"
    }
   },
   "outputs": [
    {
     "data": {
      "text/latex": [
       "$\\displaystyle \\left[\\begin{matrix}\\cos{\\left(𝛽 \\right)} \\cos{\\left(𝜃 \\right)} & \\sin{\\left(𝛽 \\right)} \\sin{\\left(𝛾 \\right)} \\cos{\\left(𝜃 \\right)} + \\sin{\\left(𝜃 \\right)} \\cos{\\left(𝛾 \\right)} & - \\sin{\\left(𝛽 \\right)} \\cos{\\left(𝛾 \\right)} \\cos{\\left(𝜃 \\right)} + \\sin{\\left(𝛾 \\right)} \\sin{\\left(𝜃 \\right)}\\\\- \\sin{\\left(𝜃 \\right)} \\cos{\\left(𝛽 \\right)} & - \\sin{\\left(𝛽 \\right)} \\sin{\\left(𝛾 \\right)} \\sin{\\left(𝜃 \\right)} + \\cos{\\left(𝛾 \\right)} \\cos{\\left(𝜃 \\right)} & \\sin{\\left(𝛽 \\right)} \\sin{\\left(𝜃 \\right)} \\cos{\\left(𝛾 \\right)} + \\sin{\\left(𝛾 \\right)} \\cos{\\left(𝜃 \\right)}\\\\\\sin{\\left(𝛽 \\right)} & - \\sin{\\left(𝛾 \\right)} \\cos{\\left(𝛽 \\right)} & \\cos{\\left(𝛽 \\right)} \\cos{\\left(𝛾 \\right)}\\end{matrix}\\right]$"
      ],
      "text/plain": [
       "⎡cos(𝛽)⋅cos(𝜃)   sin(𝛽)⋅sin(𝛾)⋅cos(𝜃) + sin(𝜃)⋅cos(𝛾)   -sin(𝛽)⋅cos(𝛾)⋅cos(𝜃) \n",
       "⎢                                                                             \n",
       "⎢-sin(𝜃)⋅cos(𝛽)  -sin(𝛽)⋅sin(𝛾)⋅sin(𝜃) + cos(𝛾)⋅cos(𝜃)  sin(𝛽)⋅sin(𝜃)⋅cos(𝛾) +\n",
       "⎢                                                                             \n",
       "⎣    sin(𝛽)                 -sin(𝛾)⋅cos(𝛽)                          cos(𝛽)⋅cos\n",
       "\n",
       "+ sin(𝛾)⋅sin(𝜃)⎤\n",
       "               ⎥\n",
       " sin(𝛾)⋅cos(𝜃) ⎥\n",
       "               ⎥\n",
       "(𝛾)            ⎦"
      ]
     },
     "execution_count": 86,
     "metadata": {},
     "output_type": "execute_result"
    }
   ],
   "source": [
    "# Construct the tansformation matrix for Yaw, Pitch and Roll. \n",
    "T_ypr = Tz@Ty@Tx\n",
    "T_ypr"
   ]
  },
  {
   "cell_type": "code",
   "execution_count": 87,
   "metadata": {
    "ExecuteTime": {
     "end_time": "2024-01-22T21:03:03.515424Z",
     "start_time": "2024-01-22T21:03:03.409603Z"
    }
   },
   "outputs": [],
   "source": [
    "# Define a stress tensor: \n",
    "St =  np.array([[10, 15, 8], [15, -30, 5], [8, 5, 9]]) # stress matrix\n",
    "\n",
    "# Perform coordinate transformation to the given stress tensor. \n",
    "S_ypr = T_ypr@St@T_ypr.T\n",
    "\n",
    "#S_ypr[0,1]    # reader may take a look at one shear stress (1/3 page) "
   ]
  },
  {
   "cell_type": "markdown",
   "metadata": {
    "ExecuteTime": {
     "end_time": "2024-01-21T15:46:33.812486Z",
     "start_time": "2024-01-21T15:46:30.726704Z"
    }
   },
   "source": [
    "These three share stress components will be in $S_{ypr}[0,1], S_{ypr}[0,2], S_{ypr}[1,2]$. Alls these must be zero, which provides three equations. We shall solve these equations for these three angles: 𝜃, 𝛽, 𝛾.\n",
    "This set of equations are nonlinear. There are many Python methods to solve this type of equations. Here, we use scipy.optimize.fsolve() for this task. "
   ]
  },
  {
   "cell_type": "code",
   "execution_count": 88,
   "metadata": {
    "ExecuteTime": {
     "end_time": "2024-01-22T21:03:12.243937Z",
     "start_time": "2024-01-22T21:03:10.005179Z"
    }
   },
   "outputs": [
    {
     "data": {
      "image/png": "[encoded data removed]",
      "text/latex": [
       "$\\displaystyle \\left[ 10.7685926296899, \\  7.56582183504705, \\  9.59290586151537\\right]$"
      ],
      "text/plain": [
       "[10.7685926296899, 7.56582183504705, 9.59290586151537]"
      ]
     },
     "execution_count": 88,
     "metadata": {},
     "output_type": "execute_result"
    }
   ],
   "source": [
    "# Import the external solver: fsolve: \n",
    "from scipy.optimize import fsolve\n",
    "\n",
    "# Create these three equations: \n",
    "eqns = lambda x: [S_ypr[0,1].subs({𝜃:x[0], 𝛽:x[1], 𝛾:x[2]}),\n",
    "                  S_ypr[0,2].subs({𝜃:x[0], 𝛽:x[1], 𝛾:x[2]}), \n",
    "                  S_ypr[1,2].subs({𝜃:x[0], 𝛽:x[1], 𝛾:x[2]})]\n",
    "\n",
    "eqns([0.1, 0.1, 0.1])     # test the lambda function defined"
   ]
  },
  {
   "cell_type": "code",
   "execution_count": 93,
   "metadata": {
    "ExecuteTime": {
     "end_time": "2024-01-22T22:36:15.204946Z",
     "start_time": "2024-01-22T22:36:12.703897Z"
    }
   },
   "outputs": [
    {
     "data": {
      "image/png": "[encoded data removed]",
      "text/latex": [
       "$\\displaystyle \\left[ 10.7685926296899, \\  7.56582183504705, \\  9.59290586151537\\right]$"
      ],
      "text/plain": [
       "[10.7685926296899, 7.56582183504705, 9.59290586151537]"
      ]
     },
     "execution_count": 93,
     "metadata": {},
     "output_type": "execute_result"
    }
   ],
   "source": [
    "# Import the external solver: fsolve: \n",
    "from scipy.optimize import fsolve\n",
    "\n",
    "# Create these three equations: \n",
    "eqns = lambda x: [S_ypr[0,1].subs({𝜃:x[0], 𝛽:x[1], 𝛾:x[2]}),\n",
    "                  S_ypr[0,2].subs({𝜃:x[0], 𝛽:x[1], 𝛾:x[2]}), \n",
    "                  S_ypr[1,2].subs({𝜃:x[0], 𝛽:x[1], 𝛾:x[2]})]\n",
    "\n",
    "eqns([0.1, 0.1, 0.1])     # test the lambda function defined"
   ]
  },
  {
   "cell_type": "markdown",
   "metadata": {},
   "source": [
    "For solving an nonlinear equations, we often needs to give an initial guess, which can be essentially arbitrary. We set it with random values, but make these values to small so that the solutions found can be near zero. This is because our functions are nonlinear, sinusoidal and periodical. The solutions exist in practically $(-\\infty, \\infty)$. We would like to have the primary solutions within $(-\\pi, \\pi)$."
   ]
  },
  {
   "cell_type": "code",
   "execution_count": 94,
   "metadata": {
    "ExecuteTime": {
     "end_time": "2024-01-22T22:36:21.868244Z",
     "start_time": "2024-01-22T22:36:20.902524Z"
    }
   },
   "outputs": [
    {
     "name": "stdout",
     "output_type": "stream",
     "text": [
      "Solution, 𝜃, 𝛽, 𝛾 = [ 0.3839 -0.6111  0.173 ] (rad)\n",
      "Solution, 𝜃, 𝛽, 𝛾 = [ 21.9951 -35.0143   9.9117] (degree)\n"
     ]
    }
   ],
   "source": [
    "init_guess = np.random.randn(3)/999.                   # make it small \n",
    "#print(init_guess)\n",
    "\n",
    "# Solve the set of three equations numerically: \n",
    "sln = fsolve(eqns, init_guess)\n",
    "\n",
    "print(f'Solution, 𝜃, 𝛽, 𝛾 = {sln} (rad)')\n",
    "print(f'Solution, 𝜃, 𝛽, 𝛾 = {sln*180/np.pi} (degree)') "
   ]
  },
  {
   "cell_type": "markdown",
   "metadata": {
    "ExecuteTime": {
     "end_time": "2024-01-21T17:51:54.275129Z",
     "start_time": "2024-01-21T17:51:54.248916Z"
    }
   },
   "source": [
    "We find the solutions in a few seconds. \n",
    "\n",
    "Finally, we can check the results, by using these 𝜃, 𝛽, 𝛾 angles found to perform coordinate trans formation: "
   ]
  },
  {
   "cell_type": "code",
   "execution_count": 92,
   "metadata": {
    "ExecuteTime": {
     "end_time": "2024-01-22T21:03:55.109026Z",
     "start_time": "2024-01-22T21:03:52.929106Z"
    }
   },
   "outputs": [
    {
     "name": "stdout",
     "output_type": "stream",
     "text": [
      "Principal stresses found\n"
     ]
    },
    {
     "data": {
      "image/png": "[encoded data removed]",
      "text/latex": [
       "$\\displaystyle \\left[\\begin{matrix}21.679 & 1.5933 \\cdot 10^{-12} & 1.9362 \\cdot 10^{-12}\\\\1.5932 \\cdot 10^{-12} & -35.115 & -3.8591 \\cdot 10^{-13}\\\\1.9376 \\cdot 10^{-12} & -3.8594 \\cdot 10^{-13} & 2.4368\\end{matrix}\\right]$"
      ],
      "text/plain": [
       "⎡  21.679    1.5933e-12   1.9362e-12 ⎤\n",
       "⎢                                    ⎥\n",
       "⎢1.5932e-12    -35.115    -3.8591e-13⎥\n",
       "⎢                                    ⎥\n",
       "⎣1.9376e-12  -3.8594e-13    2.4368   ⎦"
      ]
     },
     "execution_count": 92,
     "metadata": {},
     "output_type": "execute_result"
    }
   ],
   "source": [
    "T_ypr_ = T_ypr.subs({𝜃:sln[0], 𝛽:sln[1], 𝛾:sln[2]})\n",
    "S_ypr_ = T_ypr_@St@T_ypr_.T\n",
    "gr.printM(S_ypr_, 'Principal stresses found',n_dgt=5)   "
   ]
  },
  {
   "cell_type": "markdown",
   "metadata": {},
   "source": [
    "We obtained all the expected results. This process is summarized in the whole process into a code function for future use.  "
   ]
  },
  {
   "cell_type": "code",
   "execution_count": 154,
   "metadata": {
    "ExecuteTime": {
     "end_time": "2024-01-21T19:18:06.562996Z",
     "start_time": "2024-01-21T19:18:06.548037Z"
    },
    "scrolled": true
   },
   "outputs": [],
   "source": [
    "def principalS_ypr(St):    \n",
    "    '''Diagonalization of a stress tensor in 3D, through cooridinate \n",
    "    transformation via Yaw, Pitch and Roll. \n",
    "    Input: St: Stress tensor, array like, 3 by 3\n",
    "    return: 𝜃, 𝛽, 𝛾: Yaw, Pitch and Roll angles, in rad. \n",
    "            TS_ypr: Diagonalized stress matrix array like, 3 by 3\n",
    "    '''\n",
    "    from scipy.optimize import fsolve\n",
    "    \n",
    "    𝜃, 𝛽, 𝛾 = symbols(\"𝜃, 𝛽, 𝛾\")  # Angles for  Yaw, Pitch and Roll\n",
    "\n",
    "    # Create the matrices for Yaw, Pitch, and Roll for transformations: \n",
    "    Tz = gr.transf_YPRs(𝜃, about = 'z')[0]\n",
    "    Ty = gr.transf_YPRs(𝛽, about = 'y')[0]\n",
    "    Tx = gr.transf_YPRs(𝛾, about = 'x')[0]\n",
    "    #print(f'Ty=, {Ty}, \\nTx=, {Tx}, \\nTz=, {Tz}')\n",
    "\n",
    "    # Construct the tansformation matrix for Yaw, Pitch and Roll. \n",
    "    T_ypr = Tz@Ty@Tx\n",
    " \n",
    "    # Perform coordinate transformation to the given stress tensor. \n",
    "    S_ypr = T_ypr@St@T_ypr.T\n",
    "\n",
    "    # Create these three equations: \n",
    "    eqns = lambda x: [S_ypr[0,1].subs({𝜃:x[0], 𝛽:x[1], 𝛾:x[2]}),\n",
    "                      S_ypr[0,2].subs({𝜃:x[0], 𝛽:x[1], 𝛾:x[2]}), \n",
    "                      S_ypr[1,2].subs({𝜃:x[0], 𝛽:x[1], 𝛾:x[2]})]\n",
    "\n",
    "    # Give an initial guess randomly: \n",
    "    init_guess = np.random.randn(3)/999.               # make it small \n",
    " \n",
    "    # Solve the set of three equations numerically: \n",
    "    sln = fsolve(eqns, init_guess)\n",
    "    print(f'Solution, 𝜃, 𝛽, 𝛾 = {sln} (rad)')\n",
    "    print(f'Solution, 𝜃, 𝛽, 𝛾 = {sln*180/np.pi} (degree)') \n",
    "\n",
    "    # Finally, we can check the results, use 𝜃, 𝛽, 𝛾  found to \n",
    "    # perform coordinate trans formation: \n",
    "    T_ypr_ = T_ypr.subs({𝜃:sln[0], 𝛽:sln[1], 𝛾:sln[2]})\n",
    "    S_ypr_ = T_ypr_@St@T_ypr_.T\n",
    "\n",
    "    return 𝜃, 𝛽, 𝛾, S_ypr_ "
   ]
  },
  {
   "cell_type": "code",
   "execution_count": 151,
   "metadata": {
    "ExecuteTime": {
     "end_time": "2024-01-21T19:14:26.091036Z",
     "start_time": "2024-01-21T19:14:22.583728Z"
    }
   },
   "outputs": [
    {
     "name": "stdout",
     "output_type": "stream",
     "text": [
      "Solution, 𝜃, 𝛽, 𝛾 = [ 0.3839 -0.6111  0.173 ] (rad)\n",
      "Solution, 𝜃, 𝛽, 𝛾 = [ 21.9951 -35.0143   9.9117] (degree)\n",
      "Principal stresses found\n"
     ]
    },
    {
     "data": {
      "image/png": "[encoded data removed]",
      "text/latex": [
       "$\\displaystyle \\left[\\begin{matrix}21.679 & -4.0454 \\cdot 10^{-11} & -4.5837 \\cdot 10^{-11}\\\\-4.0453 \\cdot 10^{-11} & -35.115 & 2.7052 \\cdot 10^{-11}\\\\-4.5838 \\cdot 10^{-11} & 2.7053 \\cdot 10^{-11} & 2.4368\\end{matrix}\\right]$"
      ],
      "text/plain": [
       "⎡  21.679     -4.0454e-11  -4.5837e-11⎤\n",
       "⎢                                     ⎥\n",
       "⎢-4.0453e-11    -35.115    2.7052e-11 ⎥\n",
       "⎢                                     ⎥\n",
       "⎣-4.5838e-11  2.7053e-11     2.4368   ⎦"
      ]
     },
     "execution_count": 151,
     "metadata": {},
     "output_type": "execute_result"
    }
   ],
   "source": [
    "#St = np.array([[-10, 15, 0], [15, 30, 0], [0, 0, 0]]) # stress tensor\n",
    "St =  np.array([[10, 15, 8], [15, -30, 5], [8, 5, 9]]) # stress matrix\n",
    "𝜃, 𝛽, 𝛾, S_ypr_ = principalS_ypr(St)   \n",
    "\n",
    "gr.printM(S_ypr_, 'Principal stresses found',n_dgt=5)   "
   ]
  },
  {
   "cell_type": "markdown",
   "metadata": {},
   "source": [
    "The code function can, of course, be used for finding the angles for these 2D examples studied earlier: "
   ]
  },
  {
   "cell_type": "code",
   "execution_count": 152,
   "metadata": {
    "ExecuteTime": {
     "end_time": "2024-01-21T19:15:53.233575Z",
     "start_time": "2024-01-21T19:15:50.922480Z"
    }
   },
   "outputs": [
    {
     "name": "stdout",
     "output_type": "stream",
     "text": [
      "Solution, 𝜃, 𝛽, 𝛾 = [-0.3218 -0.     -0.    ] (rad)\n",
      "Solution, 𝜃, 𝛽, 𝛾 = [-18.4349  -0.      -0.    ] (degree)\n",
      "Principal stresses found\n"
     ]
    },
    {
     "data": {
      "image/png": "[encoded data removed]",
      "text/latex": [
       "$\\displaystyle \\left[\\begin{matrix}-15.0 & -3.5527 \\cdot 10^{-15} & 2.4351 \\cdot 10^{-13}\\\\-1.7764 \\cdot 10^{-15} & 35.0 & -1.8166 \\cdot 10^{-13}\\\\2.4351 \\cdot 10^{-13} & -1.8166 \\cdot 10^{-13} & -3.0103 \\cdot 10^{-27}\\end{matrix}\\right]$"
      ],
      "text/plain": [
       "⎡   -15.0     -3.5527e-15  2.4351e-13 ⎤\n",
       "⎢                                     ⎥\n",
       "⎢-1.7764e-15     35.0      -1.8166e-13⎥\n",
       "⎢                                     ⎥\n",
       "⎣2.4351e-13   -1.8166e-13  -3.0103e-27⎦"
      ]
     },
     "execution_count": 152,
     "metadata": {},
     "output_type": "execute_result"
    }
   ],
   "source": [
    "St = np.array([[-10, 15, 0], [15, 30, 0], [0, 0, 0]]) # stress tensor\n",
    "𝜃, 𝛽, 𝛾, S_ypr_ = principalS_ypr(St)   \n",
    "\n",
    "gr.printM(S_ypr_, 'Principal stresses found',n_dgt=5)   "
   ]
  },
  {
   "cell_type": "markdown",
   "metadata": {},
   "source": [
    "The results are the same as we obtained earlier. Because this example is a 2D stress states, the pitch and roll angles are zero. \n",
    "\n",
    "We can also test it for stress tensor generated randomly: "
   ]
  },
  {
   "cell_type": "code",
   "execution_count": 153,
   "metadata": {
    "ExecuteTime": {
     "end_time": "2024-01-21T19:17:25.884688Z",
     "start_time": "2024-01-21T19:17:22.253646Z"
    }
   },
   "outputs": [
    {
     "name": "stdout",
     "output_type": "stream",
     "text": [
      "Stress state:\n",
      "[[ 0.623  -0.6418  0.319 ]\n",
      " [-0.6418  0.8583  0.0253]\n",
      " [ 0.319   0.0253 -1.9638]]\n",
      "\n",
      "Solution, 𝜃, 𝛽, 𝛾 = [ 0.7117 -0.1298  0.0381] (rad)\n",
      "Solution, 𝜃, 𝛽, 𝛾 = [40.7784 -7.4375  2.1819] (degree)\n",
      "Principal stresses found\n"
     ]
    },
    {
     "data": {
      "image/png": "[encoded data removed]",
      "text/latex": [
       "$\\displaystyle \\left[\\begin{matrix}0.12046 & -1.5494 \\cdot 10^{-11} & 1.8487 \\cdot 10^{-11}\\\\-1.5494 \\cdot 10^{-11} & 1.4035 & 2.2475 \\cdot 10^{-11}\\\\1.8487 \\cdot 10^{-11} & 2.2475 \\cdot 10^{-11} & -2.0064\\end{matrix}\\right]$"
      ],
      "text/plain": [
       "⎡  0.12046    -1.5494e-11  1.8487e-11⎤\n",
       "⎢                                    ⎥\n",
       "⎢-1.5494e-11    1.4035     2.2475e-11⎥\n",
       "⎢                                    ⎥\n",
       "⎣1.8487e-11   2.2475e-11    -2.0064  ⎦"
      ]
     },
     "execution_count": 153,
     "metadata": {},
     "output_type": "execute_result"
    }
   ],
   "source": [
    "n = 3\n",
    "St = np.random.randn(n,n)                   # Generate a random matrix\n",
    "St = (St + St.T)/2                           # random symmetric matrix\n",
    "print(f'Stress state:\\n{St}\\n')\n",
    "\n",
    "𝜃, 𝛽, 𝛾, S_ypr_ = principalS_ypr(St)   \n",
    "gr.printM(S_ypr_, 'Principal stresses found',n_dgt=5)   "
   ]
  },
  {
   "cell_type": "markdown",
   "metadata": {},
   "source": [
    "We obtained all these yaw, pitch, and roll angles, and the principal stresses in the diagonal terms in the output matrix.  "
   ]
  },
  {
   "cell_type": "markdown",
   "metadata": {},
   "source": [
    "### Stress invariants\n",
    "\n",
    "Nine stress components at any point in solid can form three stress invariants that do not change with the coordinates used. These three principal stresses do not change with coordinate transformations. The invariant property is essentially the feature of any $3\\times 3$ matrix, including the stress tensor matrix.\n",
    "\n",
    "In mechanics of materials, these three stress invariants are defined as follows, based on nine stress components or these three principal stresses. \n",
    "\n",
    "First, the trace of $\\mathbf{σ}$ gives the first stress invariant: \n",
    "\n",
    "\\begin{equation} \\label{eqI1}\n",
    "I_1=\\sigma_{11}+\\sigma_{22}+\\sigma_{33} = \\sigma_{1}+\\sigma_{2}+\\sigma_{3}\n",
    "\\end{equation}\n",
    "\n",
    "Second, the sum of the three minor determinants of $\\mathbf{σ}$ gives the 2nd stress invariant: \n",
    "\n",
    "\\begin{equation} \\label{eqI2}\n",
    "\\begin{split}\n",
    "I_2 &= \\begin{vmatrix} \\sigma_{11} & \\sigma_{12} \\\\ \\sigma_{12} & \\sigma_{22} \\end{vmatrix} \n",
    "   + \\begin{vmatrix} \\sigma_{11} & \\sigma_{13} \\\\ \\sigma_{13} & \\sigma_{33} \\end{vmatrix} \n",
    "   + \\begin{vmatrix} \\sigma_{22} & \\sigma_{23} \\\\ \\sigma_{23} & \\sigma_{33} \\end{vmatrix} \\\\ & = \n",
    "   \\sigma_{11}\\sigma_{22}+ \\sigma_{11}\\sigma_{33}+ \\sigma_{22}\\sigma_{33}-\\sigma_{12}^2-\\sigma_{13}^2-\\sigma_{23}^2 \\\\ & = \n",
    "   \\sigma_{1}\\sigma_{2}+ \\sigma_{1}\\sigma_{3}+ \\sigma_{2}\\sigma_{3}\n",
    "\\end{split}\n",
    "\\end{equation}"
   ]
  },
  {
   "cell_type": "markdown",
   "metadata": {},
   "source": [
    "Third, the determinant of $\\mathbf{σ}$ gives the 3nd stress invariant: \n",
    "\n",
    "\\begin{equation} \\label{eqI3}\n",
    "I_3= \\begin{vmatrix} \\sigma_{11} & \\sigma_{12} & \\sigma_{13} \\\\\n",
    "                     \\sigma_{12} & \\sigma_{22} & \\sigma_{23} \\\\\n",
    "                     \\sigma_{12} & \\sigma_{23} & \\sigma_{33} \\end{vmatrix} = \\sigma_{1}\\sigma_{2}\\sigma_{3}\n",
    "\\end{equation}\n",
    "\n",
    "For 2D cases, say in the $x-y$ plane, we shall have two stress invariants: \n",
    "\n",
    "\\begin{equation} \\label{eq2dI1}\n",
    "I_1=\\sigma_{11}+\\sigma_{22} = \\sigma_{1}+\\sigma_{2} \n",
    "\\end{equation}\n",
    "and\n",
    "\\begin{equation} \\label{eq2dI2}\n",
    "I_2= \\begin{vmatrix} \\sigma_{11} & \\sigma_{12} \\\\ \\sigma_{12} & \\sigma_{22} \\end{vmatrix} = \\sigma_{11} \\sigma_{22} - \\sigma^2_{12}  = \\sigma_{1} \\sigma_{2} \n",
    "\\end{equation}\n",
    "\n",
    "Because of the coordinate independent feature, the stress invariants are useful in establishing failure criteria. A solid material failing or not should not depend on the coordinates used to find the stress values. It is a physical property of the material itself.   "
   ]
  },
  {
   "cell_type": "markdown",
   "metadata": {},
   "source": [
    "### Special stresses\n",
    "\n",
    "#### Octahedral stress\n",
    "Once the principal stresses are found, we know the principal axes. The so-called octahedral surface is defined in the principal axes with direction cosines of $\\mathbf{n}=(n_1,n_2,n_3)=(\\frac{1}{\\sqrt{3}}, \\frac{1}{\\sqrt{3}}, \\frac{1}{\\sqrt{3}})$, as shown in the figure on the left of Fig.\\ref{image:OctahedralPlane}. \n",
    "\n",
    "\\begin{figure}\n",
    "  \\includegraphics[width=20cm]{./images/OctahedralPlane.png}\n",
    "  \\caption{\\label{image:OctahedralPlane} The octahedral surface is defined on the principal axes of stresses. Its three normal components are the same: $n_1=n_2=n_3=1/\\sqrt{3}$.}\n",
    "\\end{figure}\n",
    "\n",
    "Note that there is a total of eight octahedral surfaces for a point in solid, as shown in figure on the right in Fig.\\ref{image:OctahedralPlane}. "
   ]
  },
  {
   "cell_type": "markdown",
   "metadata": {},
   "source": [
    "On the octahedral surface, there is a special stress called octaheral stress. It has two components, octaheral normal stress $\\sigma_{oct}$ and octaheral shear stress $\\tau_{oct}$. They can be written as\n",
    "\n",
    "\\begin{equation} \\label{eqOct}\n",
    "\\sigma_{oct}=\\frac{1}{3}I_1=\\frac{1}{3}(\\sigma_{1}+\\sigma_{2}+\\sigma_{3}) \\\\\n",
    "\\tau_{oct}=\\sqrt{\\frac{2}{9}I_1^2-\\frac{2}{3}I_2} =\\frac{1}{3}\\sqrt{(\\sigma_{1}-\\sigma_{2})^2+(\\sigma_{1}-\\sigma_{3})^2+(\\sigma_{2}-\\sigma_{3})^2}\n",
    "\\end{equation}\n",
    "\n",
    "Notice that these octahedral stresses are written in stress invariants, and hence are also invariants. Alternatively, octaheral stress can also be written in nine components. \n",
    "\n",
    "\\begin{equation} \\label{eqOct9}\n",
    "\\sigma_{oct}= \\frac{1}{3}(\\sigma_{11}+\\sigma_{22}+\\sigma_{33})\\\\\n",
    "\\tau_{oct}=\\frac{1}{3}\\sqrt{(\\sigma_{11}-\\sigma_{22})^2+(\\sigma_{22}-\\sigma_{33})^2+(\\sigma_{33}-\\sigma_{11})^2+6(\\sigma_{11}^2-\\sigma_{13}^2-\\sigma_{23}^2)}\n",
    "\\end{equation}\n",
    "\n",
    "These stresses can be used in failure criteria. "
   ]
  },
  {
   "cell_type": "markdown",
   "metadata": {},
   "source": [
    "#### The von Mises stress\n",
    "\n",
    "The well-known von Mises stress is widely used in failure criteria for ductile materials. It is related to the distortional energy density in stressed solids and the octahedral shear stress $\\tau_{oct}$. The von Mises stress is computed using the \n",
    "\n",
    "\\begin{equation} \\label{eqvmp}\n",
    "\\sigma_{vm}= \\sqrt{\\frac{1}{2}[(\\sigma_{1}-\\sigma_{2})^2+(\\sigma_{1}-\\sigma_{3})^2+(\\sigma_{2}-\\sigma_{3})^2]} = \\frac{3}{\\sqrt{2}} \\tau_{oct}\n",
    "\\end{equation}\n",
    "\n",
    "The von Mises stress relates to the octahedral shear stress by a constant factor. \n",
    "\n",
    "Alternatively, the von Mises stress can also be written in nine components. \n",
    "\n",
    "\\begin{equation} \\label{eqvm9}\n",
    "\\sigma_{vm}= \\sqrt{\\frac{1}{2}[(\\sigma_{11}-\\sigma_{22})^2+(\\sigma_{22}-\\sigma_{33})^2+(\\sigma_{33}-\\sigma_{11})^2+6(\\sigma_{11}^2-\\sigma_{13}^2-\\sigma_{23}^2)]}\n",
    "\\end{equation}"
   ]
  },
  {
   "cell_type": "markdown",
   "metadata": {},
   "source": [
    "#### The strain energy stress\n",
    "\n",
    "The strain-energy stress is in failure criteria based on the (total) strain-energy density. It is the effective stress that gives the strain-energy density:\n",
    "\n",
    "\\begin{equation} \\label{eqU0}\n",
    "U_0=\\frac{1}{2E} \\underbrace{[\\sigma_{1}^2+\\sigma_{2}^2+\\sigma_{3}^2-2\\nu(\\sigma_{2}\\sigma_{3}+\\sigma_{1}\\sigma_{3}+\\sigma_{1}\\sigma_{2})]}_{\\sigma_{energy}^2} = \\frac{1}{2E}\\sigma_{energy}^2\n",
    "\\end{equation}\n",
    "\n",
    "where the strain-energy stress is defined as\n",
    "\n",
    "\\begin{equation} \\label{eqsee}\n",
    "\\sigma_{energy}= \\sqrt{\\sigma_{1}^2+\\sigma_{2}^2+\\sigma_{3}^2-2\\nu(\\sigma_{2}\\sigma_{3}+\\sigma_{1}\\sigma_{3}+\\sigma_{1}\\sigma_{2})} \n",
    "\\end{equation}\n",
    "\n",
    "We will study the strain energy in greater detail in a later chapter. For now we use it as defined above.  "
   ]
  },
  {
   "cell_type": "markdown",
   "metadata": {},
   "source": [
    "#### Python code for computing various stresses\n",
    "    \n",
    "We write some useful functions for easy computation of various special stresses, for a given stress state with nine stress components at the point, including the principal stresses, stress invariants, the octahedral stress, mean stress, mean stress tensor, deviatoric stress tensor, and the von Mises stress, \n",
    "\n",
    "Our idea is to first conduct eigenvalue analysis for the given stress matrix, and then compute all the other stresses using the eigenvalues. Because the stress matrix is very small (3 by 3) symmetric matrix, the time taken for this is not noticeable. This makes the formulas for all the other types of stress simple and the code is much easier to read. "
   ]
  },
  {
   "cell_type": "code",
   "execution_count": 103,
   "metadata": {
    "ExecuteTime": {
     "end_time": "2023-11-08T20:28:34.172402Z",
     "start_time": "2023-11-08T20:28:34.059009Z"
    }
   },
   "outputs": [],
   "source": [
    "def M_eigen(stressMatrix):\n",
    "    '''Compute the eigenvalues and eigenvectors for given stress matrix \n",
    "    Input stressMatrix: the stress matrix with 9 components.\n",
    "    Return: the eigenvaluesare shorted in descending\n",
    "    order, and the eigenvectors will be sorted accordingly. The sign \n",
    "    for eigenVectors are also adjusted based on the right-hand rule. \n",
    "    '''\n",
    "    eigenValues, eigenVectors = lg.eig(stressMatrix)  \n",
    "\n",
    "    #Sort in order\n",
    "    idx = eigenValues.argsort()[::-1]   \n",
    "    eigenValues = eigenValues[idx]\n",
    "    eigenVectors = eigenVectors[:,idx]\n",
    "\n",
    "    # Determine the sign for given eigenVector-1 and eigenVector-3\n",
    "    eigenVectors[2,:] = np.cross(eigenVectors[0,:], eigenVectors[1,:])\n",
    "    return eigenValues, eigenVectors\n",
    "\n",
    "def von_Mises(e):                    \n",
    "    '''Compute the von Mises stress using principal stresses\n",
    "    Input e: eigenvalues of the stress matrix or principal stresses\n",
    "    '''\n",
    "    vonMises=np.sqrt(((e[0]-e[1])**2+(e[0]-e[2])**2+(e[1]-e[2])**2)/2.)\n",
    "    return vonMises\n",
    "\n",
    "def Oct_stress(e):                    \n",
    "    '''Compute the octahedral shear stress using principal stresses\n",
    "    Input e: eigenvalues of the stress matrix or principal stresses\n",
    "    '''\n",
    "    sigma_oct= np.sum(e)/3. \n",
    "    tau_oct=np.sqrt((e[0]-e[1])**2+(e[0]-e[2])**2+(e[1]-e[2])**2)/3. \n",
    "    return sigma_oct, tau_oct\n",
    "\n",
    "def energy_stress(e,nu):                    \n",
    "    '''Compute the strain-energy stress using principal stresses\n",
    "    Input e: eigenvalues of the stress matrix or principal stresses\n",
    "         nu: Poission's ratio.\n",
    "    '''\n",
    "    U_stress=np.sqrt(e[0]**2+e[1]**2+e[2]**2-2*nu*(e[1]*e[2]+\n",
    "                     e[0]*e[2]+e[0]*e[1]))\n",
    "    return U_stress\n",
    "\n",
    "def M_invariant(e):                    \n",
    "    '''Compute the 3 stress/strain invariants using principal stresses\n",
    "    Input e: eigenvalues of the stress matrix or principal stresses\n",
    "    '''\n",
    "    I1 = np.sum(e)\n",
    "    I2 = e[0]*e[1]+e[1]*e[2]+e[0]*e[2]\n",
    "    I3 = e[0]*e[1]*e[2]\n",
    "    return I1, I2, I3\n",
    "\n",
    "def meanDeviator(stressM,e):                    \n",
    "    '''Compute the mean stress, mean stress tensor, deviatoric stress \n",
    "    tensor.\n",
    "    input stressM: given stress (or any) matrix with 9 components\n",
    "    Input e: eigenvalues of the stress matrix or principal stresse\n",
    "    Input stressM: The stress matrix\n",
    "    '''\n",
    "    meanStress = np.mean(e)\n",
    "    meanMatrix = np.diag([meanStress,meanStress,meanStress])\n",
    "    deviatorM = stressM - meanMatrix\n",
    "    return meanStress, meanMatrix, deviatorM"
   ]
  },
  {
   "cell_type": "markdown",
   "metadata": {
    "ExecuteTime": {
     "end_time": "2023-09-05T20:58:59.711579Z",
     "start_time": "2023-09-05T20:58:59.661745Z"
    }
   },
   "source": [
    "#### Example: computation of various stresses\n",
    "\n",
    "Let us do an numerical example using the codes written above. "
   ]
  },
  {
   "cell_type": "code",
   "execution_count": 105,
   "metadata": {
    "ExecuteTime": {
     "end_time": "2023-11-08T20:31:59.680328Z",
     "start_time": "2023-11-08T20:31:59.640292Z"
    }
   },
   "outputs": [
    {
     "name": "stdout",
     "output_type": "stream",
     "text": [
      "The given stress tensor =\n",
      "[[80. 20. 40.]\n",
      " [20. 60. 10.]\n",
      " [40. 10. 20.]]\n",
      "\n",
      "Principal stresses (Eigenvalues) =  [110.  50.   0.]\n",
      "Eigenvectors:\n",
      "[[-0.8165  0.3651 -0.4472]\n",
      " [-0.4082 -0.9129 -0.    ]\n",
      " [-0.4082  0.1826  0.8944]]\n",
      "Orthogonal:\n",
      "[[ 1.  0. -0.]\n",
      " [ 0.  1. -0.]\n",
      " [-0. -0.  1.]]\n",
      "\n",
      "The first  stress invariant I1=160.00000\n",
      "The second stress invariant I2=5500.00000\n",
      "The third  stress invariant I3=  0.00000\n",
      "\n",
      "The octahedral normal stress is  53.33333\n",
      "The octahedral shear stress is  44.96913\n",
      "\n",
      "The von Mises stress is  95.39392\n",
      "\n",
      "The strain-energy stress is 106.30146\n",
      "\n",
      "The maximum shear stress is  55.00000\n",
      "\n",
      "The mean stress =  53.33333\n",
      "The mean stress tensor:\n",
      "[[53.3333  0.      0.    ]\n",
      " [ 0.     53.3333  0.    ]\n",
      " [ 0.      0.     53.3333]]\n",
      "The deviatoric stress tensor:\n",
      "[[ 26.6667  20.      40.    ]\n",
      " [ 20.       6.6667  10.    ]\n",
      " [ 40.      10.     -33.3333]]\n"
     ]
    }
   ],
   "source": [
    "# Example 2.5 Stress Invariants: \n",
    "# from Ref: Advanced Mechanics of Materials, by Boresi and Schmidt\n",
    "\n",
    "np.set_printoptions(precision=4,suppress=True)\n",
    "\n",
    "# Given stress matrix\n",
    "#Sv = np.array([[-10.,15., 0.],[15.,30., 0.],[0.,0.,0.]]) #Example 2.1\n",
    "Sv = np.array([[80.,20, 40],[20., 60, 10],[40., 10, 20]]) #Example 2.5 \n",
    "print(f'The given stress tensor =\\n{Sv}\\n')\n",
    "\n",
    "eigenValues, eigenVectors = M_eigen(Sv)\n",
    "print('Principal stresses (Eigenvalues) = ',eigenValues)\n",
    "print(f'Eigenvectors:\\n{eigenVectors}')\n",
    "print(f'Orthogonal:\\n{eigenVectors.dot(eigenVectors.T)}\\n')\n",
    "\n",
    "I1, I2, I3 = M_invariant(eigenValues)\n",
    "print(f'The first  stress invariant I1={I1:9.5f}')\n",
    "print(f'The second stress invariant I2={I2:9.5f}')\n",
    "print(f'The third  stress invariant I3={I3:9.5f}\\n')\n",
    "\n",
    "sigma_oct, tau_oct = Oct_stress(eigenValues) \n",
    "print(f'The octahedral normal stress is {sigma_oct:9.5f}')\n",
    "print(f'The octahedral shear stress is {tau_oct:9.5f}\\n')\n",
    "\n",
    "vonMises = von_Mises(eigenValues)\n",
    "print(f'The von Mises stress is {vonMises:9.5f}\\n')\n",
    "\n",
    "U_stress = energy_stress(eigenValues, 0.3)\n",
    "print(f'The strain-energy stress is {U_stress:9.5f}\\n')\n",
    "\n",
    "Tau_max =0.5*(eigenValues[0]-eigenValues[2])\n",
    "print(f'The maximum shear stress is {Tau_max:9.5f}\\n')\n",
    "\n",
    "meanStress, meanMatrix, deviatorM = meanDeviator(Sv,eigenValues)\n",
    "print(f'The mean stress = {meanStress:9.5f}')\n",
    "print(f'The mean stress tensor:\\n{meanMatrix}')\n",
    "print(f'The deviatoric stress tensor:\\n{deviatorM}')"
   ]
  },
  {
   "cell_type": "markdown",
   "metadata": {},
   "source": [
    "### Mohr circles, geometric representation   \n",
    "\n",
    "Mohr Circle is a geometric representation of tensors of 2nd order. This section discusses construction of Mohr circles for both 2D and 3D stress states. It is written in reference to the wiki page on [Mohr circle](https://en.wikipedia.org/wiki/Mohr%27s_circle) and Ref.\\cite{boresi1985advanced}. We note that Mohr circles are now mainly used for geometric view of stress states. For computing these stress components values, it is more convenient to use the formulas or code we derived before. "
   ]
  },
  {
   "cell_type": "markdown",
   "metadata": {},
   "source": [
    "#### Formulation for 2D stress states\n",
    "\n",
    "To derive the equations for the Mohr circle, we consider 2D cases, including the plane stress and plane strain, as long as the stress components are given in the $x-y$ coordinate system. \n",
    "\n",
    "Consider a point in 2D solid. Its state of stress is represented by infinitely small square shown in Fig.\\ref{image:SijOnSqaure.png}. \n",
    "\n",
    "<img src=\"./images/SijOnSqaure.png\" width=\"200\"/> <br>\n",
    "\\begin{figure}\n",
    "  \\includegraphics[width=5cm]{}\n",
    "  \\caption{\\label{image:SijOnSqaure}  2D stress state on the surfaces of an infinitely small square, and a surface-X with inclined angle $\\theta$.}\n",
    "\\end{figure}\n",
    "\n",
    "Using Eq.(\\ref{eqSXY}) and the double angle formulas for sine and cosine, we shall have the stresses in $X-Y$ system that is rotated by $\\theta$ with respect to the $x-y$ system. The code to derive these equations is given as follows.  "
   ]
  },
  {
   "cell_type": "code",
   "execution_count": 106,
   "metadata": {
    "ExecuteTime": {
     "end_time": "2023-11-08T20:34:20.679543Z",
     "start_time": "2023-11-08T20:34:17.449947Z"
    }
   },
   "outputs": [
    {
     "data": {
      "image/png": "[encoded data removed]",
      "text/latex": [
       "$\\displaystyle \\frac{σ_{xx} \\cos{\\left(2 𝜃 \\right)}}{2} + \\frac{σ_{xx}}{2} + \\frac{σ_{xy} \\sin{\\left(2 𝜃 \\right)}}{2} + \\frac{σ_{yx} \\sin{\\left(2 𝜃 \\right)}}{2} - \\frac{σ_{yy} \\cos{\\left(2 𝜃 \\right)}}{2} + \\frac{σ_{yy}}{2}$"
      ],
      "text/plain": [
       "σₓₓ⋅cos(2⋅𝜃)   σₓₓ   σ_xy⋅sin(2⋅𝜃)   σ_yx⋅sin(2⋅𝜃)   σ_yy⋅cos(2⋅𝜃)   σ_yy\n",
       "──────────── + ─── + ───────────── + ───────────── - ───────────── + ────\n",
       "     2          2          2               2               2          2  "
      ]
     },
     "execution_count": 106,
     "metadata": {},
     "output_type": "execute_result"
    }
   ],
   "source": [
    "to2𝜃 = {sp.cos(𝜃)**2:(1+sp.cos(2*𝜃))/2, sp.sin(𝜃)**2:(1-sp.cos(2*𝜃))/2,\n",
    "        sp.sin(𝜃)*cos(𝜃):sp.sin(2*𝜃)/2}\n",
    "\n",
    "# Use sXX is obtained in codes just before Eq.(38).\n",
    "sXX.subs(to2𝜃).factor().expand() "
   ]
  },
  {
   "cell_type": "code",
   "execution_count": 107,
   "metadata": {
    "ExecuteTime": {
     "end_time": "2023-11-08T20:34:33.895136Z",
     "start_time": "2023-11-08T20:34:32.414881Z"
    }
   },
   "outputs": [
    {
     "data": {
      "image/png": "[encoded data removed]",
      "text/latex": [
       "$\\displaystyle - \\frac{σ_{xx} \\cos{\\left(2 𝜃 \\right)}}{2} + \\frac{σ_{xx}}{2} - \\frac{σ_{xy} \\sin{\\left(2 𝜃 \\right)}}{2} - \\frac{σ_{yx} \\sin{\\left(2 𝜃 \\right)}}{2} + \\frac{σ_{yy} \\cos{\\left(2 𝜃 \\right)}}{2} + \\frac{σ_{yy}}{2}$"
      ],
      "text/plain": [
       "  σₓₓ⋅cos(2⋅𝜃)   σₓₓ   σ_xy⋅sin(2⋅𝜃)   σ_yx⋅sin(2⋅𝜃)   σ_yy⋅cos(2⋅𝜃)   σ_yy\n",
       "- ──────────── + ─── - ───────────── - ───────────── + ───────────── + ────\n",
       "       2          2          2               2               2          2  "
      ]
     },
     "execution_count": 107,
     "metadata": {},
     "output_type": "execute_result"
    }
   ],
   "source": [
    "sYY.subs(to2θ).factor().expand()"
   ]
  },
  {
   "cell_type": "code",
   "execution_count": 108,
   "metadata": {
    "ExecuteTime": {
     "end_time": "2023-11-08T20:36:48.113788Z",
     "start_time": "2023-11-08T20:36:46.172553Z"
    }
   },
   "outputs": [
    {
     "data": {
      "image/png": "[encoded data removed]",
      "text/latex": [
       "$\\displaystyle - \\frac{σ_{xx} \\sin{\\left(2 𝜃 \\right)}}{2} + \\frac{σ_{xy} \\cos{\\left(2 𝜃 \\right)}}{2} + \\frac{σ_{xy}}{2} + \\frac{σ_{yx} \\cos{\\left(2 𝜃 \\right)}}{2} - \\frac{σ_{yx}}{2} + \\frac{σ_{yy} \\sin{\\left(2 𝜃 \\right)}}{2}$"
      ],
      "text/plain": [
       "  σₓₓ⋅sin(2⋅𝜃)   σ_xy⋅cos(2⋅𝜃)   σ_xy   σ_yx⋅cos(2⋅𝜃)   σ_yx   σ_yy⋅sin(2⋅𝜃)\n",
       "- ──────────── + ───────────── + ──── + ───────────── - ──── + ─────────────\n",
       "       2               2          2           2          2           2      "
      ]
     },
     "execution_count": 108,
     "metadata": {},
     "output_type": "execute_result"
    }
   ],
   "source": [
    "sXY.subs(to2θ).factor(sp.sin(2*𝜃)).expand()"
   ]
  },
  {
   "cell_type": "markdown",
   "metadata": {},
   "source": [
    "These results are summarized as: \n",
    "\n",
    "\\begin{equation} \\label{eqMohr2d} \n",
    "\\boxed{\n",
    "\\begin{split}\n",
    "\\sigma_{XX}&=\\frac{1}{2}(\\sigma_{xx}+\\sigma_{yy})+\\frac{1}{2}(\\sigma_{xx}-\\sigma_{yy})\\cos 2\\theta +\\sigma_{{xy}}\\sin 2\\theta \\\\\n",
    "\\sigma_{YY}&=\\frac{1}{2}(\\sigma_{xx}+\\sigma_{yy})-\\frac{1}{2}(\\sigma_{xx}-\\sigma_{yy})\\cos 2\\theta -\\sigma_{{xy}}\\sin 2\\theta \\\\\n",
    "\\sigma_{XY}&=-\\frac{1}{2}(\\sigma_{xx}-\\sigma_{yy})\\sin 2\\theta +\\sigma_{xy}\\cos 2\\theta\n",
    "\\end{split} }\n",
    "\\end{equation}\n",
    "\n",
    "where $\\theta$ is the rotation angle of the coordinate from $x-y$ to $X-Y$."
   ]
  },
  {
   "cell_type": "markdown",
   "metadata": {},
   "source": [
    "Next, using the stress invariants Eqs.(\\ref{eq2dI1}) and (\\ref{eq2dI2}), we shall have,\n",
    "\n",
    "\\begin{equation} \\label{eqMohrinv}\n",
    "\\sigma_{XX}+\\sigma_{YY}= \\sigma_{xx}+\\sigma_{yy} \\\\\n",
    "\\sigma_{XX}\\sigma_{YY}-\\sigma^2_{XY}= \\sigma_{xx}\\sigma_{yy}- \\sigma^2_{xy}\n",
    "\\end{equation}\n",
    "\n",
    "Using Eqs.(\\ref{eqMohr2d}) and with the help of Eq.(\\ref{eqMohrinv}), we obtain,\n",
    "\n",
    "\\begin{equation} \\label{eqMohrCircle0}\n",
    "\\left[\\sigma_{XX}-\\tfrac{1}{2}(\\sigma_{xx}+\\sigma_{yy})\\right]^2+\\sigma_{XY}^2=\\left[{\\tfrac{1}{2}}(\\sigma_{xx}-\\sigma_{yy})\\right]^2+\\sigma_{xy}^2 \n",
    "\\end{equation}\n",
    "or\n",
    "\\begin{equation} \\label{eqMohrCircle}\n",
    "(\\sigma_{XX}-\\sigma_{\\mathrm{avg}})^2+\\sigma_{XY}^2=R^{2}\n",
    "\\end{equation}"
   ]
  },
  {
   "cell_type": "markdown",
   "metadata": {},
   "source": [
    "where $\\sigma_{\\mathrm{avg}}={\\tfrac{1}{2}}(\\sigma_{xx}+\\sigma_{yy})$ is the average or mean stress. \n",
    "\n",
    "Equation (\\ref{eqMohr2d}) is clearly for a circle in the $\\sigma_{XX}∼\\sigma_{XY}$ coordination system with the center at $(\\sigma_{\\mathrm{avg}}, 0)$ and the radius given by \n",
    "\n",
    "\\begin{equation} \\label{eqMohrR}\n",
    "\\boxed{ R=\\sqrt{\\left[\\tfrac{1}{2}(\\sigma_{xx}-\\sigma_{yy})\\right]^2+\\sigma_{xy}^2} }\n",
    "\\end{equation}"
   ]
  },
  {
   "cell_type": "markdown",
   "metadata": {},
   "source": [
    "####  Mohr Circle and stress states\n",
    "\n",
    "Figure \\ref{image:Mohr_Circle_plane_stress} shows the detailed relationship between the a Mohr Circle and the 2D stress states. It is constructed using the equations given in the previous section. All the states of 2D stresses are located on the circle. The initial stress state before the coordinate transformation is at points A and B. The principle stress state corresponds to the points C and E on the axis of zero shear stress. The stress state after the coordinate rotating an arbitrary $\\theta$ corresponds to point D. Note that the angle $\\theta$ in the $x-y$ coordinate corresponds to $2\\theta$ in the Mohr circle. The angle of $2\\theta_{p1}$ to the principle stress state is computed using \n",
    "\n",
    "\\begin{equation} \\label{eq2q}\n",
    "\\boxed{ \\tan 2\\theta_{p1}=\\frac{2\\sigma_{xy}}{\\sigma_{yy}-\\sigma_{xx}} }\n",
    "\\end{equation} \n",
    "<br>\n",
    "\n",
    "<img src=\"./images/Mohr_Circle_plane_stress.png\" width=\"500\"/> <br>\n",
    "\\begin{figure}\n",
    "  \\includegraphics[width=5cm]{}\n",
    "  \\caption{\\label{image:Mohr_Circle_plane_stress}  Mohr Circle for 2D stress states at a point in solid. $\\sigma_n, \\tau_n, \\sigma_x, \\sigma_y, \\tau_{xy}$ in the figure correspond respectively to $\\sigma_{XX}, \\sigma_{XY}, \\sigma_{xx}, \\sigma_{yy}, \\sigma_{xy}$ in the text. Wikimedia Commons, by Sanpaz under the CC BY-SA 3.0 license.}\n",
    "\\end{figure}"
   ]
  },
  {
   "cell_type": "markdown",
   "metadata": {},
   "source": [
    "#### Mohr circle for 3D stress states *\n",
    "\n",
    "To construct the Mohr circle for stress states at a point in a 3D solid, we assume that the values of the principal stresses $\\sigma_1, \\sigma_2, \\sigma_3$ and their principal directions $n_1, n_2, n_3$ are known. For example, found via an eigenvalue analysis, which is easy to do. These principle stresses are ranked so that $\\sigma_1>\\sigma_2>\\sigma_3$ together with the corresponding principal axis. \n",
    "\n",
    "We can then consider the principal stress state with principal axes as the initial state. Using Eq.(\\ref{eqSvPij}) for $\\sigma_{ij}$ being the principle stresses, the normal stress on the plane with normal $\\mathbf{n}$ with respect to the principle axes is given by \n",
    " \n",
    "\\begin{equation} \\label{eqSnn}\n",
    "\\sigma_{nn}= n_i\\sigma_{ij}n_j = n_1^2\\sigma_1 + n_2^2\\sigma_2+n_3^2\\sigma_3\n",
    "\\end{equation} "
   ]
  },
  {
   "cell_type": "markdown",
   "metadata": {},
   "source": [
    "This is because all $\\sigma_{ij}=0$ for $i\\ne j$ and $\\sigma_{ij} =\\sigma_{i}$ for $i=j$ at the initial state. \n",
    "\n",
    "Using Eq.(\\ref{eqPSc}) the share stress on the plane with $\\mathbf{n}$ is given by\n",
    "\n",
    "\\begin{equation} \\label{eqSns}\n",
    "\\sigma^2_{ns}= \\sigma^2_{1}+\\sigma^2_{2}+\\sigma^2_{3}- \\sigma^2_{nn}\n",
    "\\end{equation}\n",
    "\n",
    "In addition, we have (from the orthogonality of the coordinates):\n",
    "\n",
    "\\begin{equation} \\label{eqni21}\n",
    "n_1^{2}+n_2^{2}+n_3^{2}=1\n",
    "\\end{equation}"
   ]
  },
  {
   "cell_type": "markdown",
   "metadata": {},
   "source": [
    "We can solve the system of three equations (\\ref{eqSnn}), (\\ref{eqSns}), (\\ref{eqni21}) for three unknowns $n_1^{2}$, $n_2^{2}$, and $n_3^{2}$. The results are as follows. \n",
    " \n",
    "\\begin{equation} \\label{eqn213}\n",
    "\\begin{aligned}n_1^{2}&={\\frac{\\sigma_{ns}^{2}+(\\sigma_{nn}-\\sigma_2)(\\sigma_{nn}-\\sigma_3)}{(\\sigma_1-\\sigma_2)(\\sigma_1-\\sigma_3)}}\\geq 0\\\\\n",
    "n_2^{2}&={\\frac{\\sigma_{ns}^{2}+(\\sigma_{nn}-\\sigma_3)(\\sigma_{nn}-\\sigma_1)}{(\\sigma_2-\\sigma_3)(\\sigma_2-\\sigma_1)}}\\geq 0\\\\n_3^{2}&={\\frac{\\sigma_{ns}^{2}+(\\sigma_{nn}-\\sigma_1)(\\sigma_{nn}-\\sigma_2)}{(\\sigma_3-\\sigma_1)(\\sigma_3-\\sigma_2)}}\\geq 0.\\end{aligned}\n",
    "\\end{equation}\n",
    "\n",
    "The \"$\\ge 0$\" on the right-hand-side of the equation is because of the square of $n_i$. \n",
    "\n",
    "Next, because $\\sigma_1>\\sigma_2>\\sigma_3$, the numerators in Eq.(\\ref{eqn213}) satisfy\n",
    "\n",
    "\\begin{equation} \\label{eqnfm}\n",
    "\\sigma_{ns}^{2}+(\\sigma_{nn}-\\sigma_2)(\\sigma_{nn}-\\sigma_3)\\geq 0, \\; \\because\n",
    "\\sigma_1-\\sigma_2>0, \\sigma_1-\\sigma_3>0 \\\\\n",
    "\\sigma_{ns}^{2}+(\\sigma_{nn}-\\sigma_3)(\\sigma_{nn}-\\sigma_1)\\leq 0, \\;\\because \\sigma_2-\\sigma_3>0, \\sigma_2-\\sigma_1<0 \\\\\n",
    "\\sigma_{ns}^{2}+(\\sigma_{nn}-\\sigma_1)(\\sigma_{nn}-\\sigma_2)\\geq 0, \\;\\because \\sigma_3-\\sigma_1<0, \\sigma_3-\\sigma_2<0.\n",
    "\\end{equation}\n",
    "\n",
    "The foregoing equations can be rewritten as\n",
    "\n",
    "\\begin{equation} \\label{eqnfm2}\n",
    "\\begin{aligned}\\sigma_{ns}^{2}+\\left[\\sigma_{nn}-{\\tfrac{1}{2}}(\\sigma_2+\\sigma_3)\\right]^{2}\\geq \\left({\\tfrac{1}{2}}(\\sigma_2-\\sigma_3)\\right)^{2}\\\\\\sigma_{ns}^{2}+\\left[\\sigma_{nn}-{\\tfrac{1}{2}}(\\sigma_1+\\sigma_3)\\right]^{2}\\leq \\left({\\tfrac{1}{2}}(\\sigma_1-\\sigma_3)\\right)^{2}\\\\\\sigma_{ns}^{2}+\\left[\\sigma_{nn}-{\\tfrac{1}{2}}(\\sigma_1+\\sigma_2)\\right]^{2}\\geq \\left({\\tfrac{1}{2}}(\\sigma_1-\\sigma_2)\\right)^{2}\\\\\\end{aligned}\n",
    "\\end{equation}\n",
    "\n",
    "These are the equations of three circles in the coordinate $\\sigma_{nn}-\\sigma_{ns}$ denoted as $C_1$, $C_2$, and $C_3$. Their radii are given respectively as\n",
    "\n",
    "\\begin{equation} \\label{eqR13}\n",
    "R_1={\\tfrac{1}{2}}(\\sigma_2-\\sigma_3) \\\\ \n",
    "R_2={\\tfrac{1}{2}}(\\sigma_1-\\sigma_3) \\\\ \n",
    "R_3={\\tfrac{1}{2}}(\\sigma_1-\\sigma_2)\n",
    "\\end{equation}\n",
    "\n",
    "Their centres are at  \n",
    "\n",
    "\\begin{equation} \\label{eqctr13}\n",
    "\\left(\\tfrac{1}{2}(\\sigma_2+\\sigma_3),0\\right) \\\\\n",
    "\\left(\\tfrac{1}{2}(\\sigma_1+\\sigma_3),0\\right) \\\\\n",
    "\\left(\\tfrac{1}{2}(\\sigma_1+\\sigma_2),0\\right)\n",
    "\\end{equation}\n",
    "\n",
    "Equations (\\ref{eqnfm2}) are the Mohr circles for 3D stress states. The inequality means that the stress states at any point in solid $(\\sigma_{nn},\\sigma_{ns})$ shall be on these circles or within the shaded green area enclosed by these circles shown in Figure \\ref{image:Mohr_Circle3D}. \n",
    "\n",
    "<img src=\"./images/Mohr_Circle3D.png\" width=\"400\"/> <br>\n",
    "\\begin{figure}\n",
    "  \\includegraphics[width=5cm]{}\n",
    "  \\caption{\\label{image:Mohr_Circle3D}  Mohr Circle for 3D stress states at a point in solid. $\\sigma_n, \\tau_n$ in the figure correspond respectively to $\\sigma_{nn}, \\sigma_{ns}$ in the text. Wikimedia Commons in public domain, by Sanpaz.}\n",
    "\\end{figure}"
   ]
  },
  {
   "cell_type": "markdown",
   "metadata": {},
   "source": [
    "### Python code for plotting Mohr circle *\n",
    "\n",
    "Python code are openly available for producing Mohr circles for both 2D and 3D. We import the following external modules to do so. "
   ]
  },
  {
   "cell_type": "code",
   "execution_count": 110,
   "metadata": {
    "ExecuteTime": {
     "end_time": "2023-11-08T21:05:41.423299Z",
     "start_time": "2023-11-08T21:05:41.331651Z"
    }
   },
   "outputs": [],
   "source": [
    "from continuum_mechanics.visualization import mohr2d, mohr3d \n",
    "from continuum_mechanics.visualization import traction_circle"
   ]
  },
  {
   "cell_type": "markdown",
   "metadata": {},
   "source": [
    "#### A uniaxial stress state\n",
    "\n",
    "Consider the uniaxial stress state studied a few times. We can define it as a 2D stress state in $x-y$ plane. \n",
    "\n",
    "\\begin{equation} \\label{eq1Dpt}\n",
    "\\begin{bmatrix}\n",
    "\\sigma_{xx} & \\sigma_{xy} \\\\\n",
    "\\sigma_{yx} & \\sigma_{yy}\n",
    "\\end{bmatrix} = \\begin{bmatrix}  \n",
    "1 & 0 \\\\\n",
    "0 & 0 \n",
    "\\end{bmatrix} \n",
    "\\end{equation}\n",
    "\n",
    "This stress tensor can be represented in single Mohr circle, by simply using "
   ]
  },
  {
   "cell_type": "code",
   "execution_count": 111,
   "metadata": {
    "ExecuteTime": {
     "end_time": "2023-11-08T21:05:45.503379Z",
     "start_time": "2023-11-08T21:05:44.646315Z"
    }
   },
   "outputs": [
    {
     "data": {
      "image/png": "[encoded data removed]",
      "text/plain": [
       "<Figure size 3000x2000 with 1 Axes>"
      ]
     },
     "metadata": {},
     "output_type": "display_data"
    }
   ],
   "source": [
    "SM = Matrix([[1, 0],\n",
    "             [0, 0]])\n",
    "mohr2d(SM);"
   ]
  },
  {
   "cell_type": "markdown",
   "metadata": {},
   "source": [
    "The initial stress state before the coordinate transformation is at points A and B. The center is the mean stress, and the radius is the absolute value of the maximum shear stress. The principle stress state corresponds to the two points on the axis of zero shear stress. In this example, it is the original state. We found again that the maximum shear stress is 0.5, which is the same as we obtained in Section 3.7.4??. It is at $𝜃=\\pm 45$ degree (2𝜃=\\pm 90 degree). "
   ]
  },
  {
   "cell_type": "markdown",
   "metadata": {},
   "source": [
    "#### A two-dimensional (2D) stress state\n",
    "\n",
    "Consider 2D solid in $x-y$ plane with general stress state given as: \n",
    "\n",
    "\\begin{equation} \\label{eq2Dpt}\n",
    "\\begin{bmatrix}\n",
    "\\sigma_{xx} & \\sigma_{xy} \\\\\n",
    "\\sigma_{yx} & \\sigma_{yy}\n",
    "\\end{bmatrix} = \\begin{bmatrix}  \n",
    "3 & -1 \\\\\n",
    "-1 & 2 \n",
    "\\end{bmatrix} \n",
    "\\end{equation}\n",
    "\n",
    "The Mohr Circle can be produced by simply using "
   ]
  },
  {
   "cell_type": "code",
   "execution_count": 112,
   "metadata": {
    "ExecuteTime": {
     "end_time": "2023-11-08T21:11:03.833499Z",
     "start_time": "2023-11-08T21:11:02.863834Z"
    }
   },
   "outputs": [
    {
     "data": {
      "image/png": "[encoded data removed]",
      "text/plain": [
       "<Figure size 3000x2000 with 1 Axes>"
      ]
     },
     "metadata": {},
     "output_type": "display_data"
    }
   ],
   "source": [
    "SM = Matrix([[3, -1],\n",
    "             [-1, 2]])\n",
    "mohr2d(SM);"
   ]
  },
  {
   "cell_type": "markdown",
   "metadata": {},
   "source": [
    "The initial stress state before the coordinate transformation is at points A and B. The center is the mean stress,and the radius is the absolute value of the maximum shear stress. The principle stress state corresponds to the two points on the axis of zero shear stress. "
   ]
  },
  {
   "cell_type": "markdown",
   "metadata": {},
   "source": [
    "#### A three-dimensional (3D) stress state\n",
    "Consider general problems in 3D. The stress tensor will be in space $\\mathbb{R}^3$, and can be represented in Mohr circles, and there are in general three of them connected together. Below is an example.   "
   ]
  },
  {
   "cell_type": "code",
   "execution_count": 130,
   "metadata": {
    "ExecuteTime": {
     "end_time": "2022-10-02T11:49:22.937272Z",
     "start_time": "2022-10-02T11:49:22.601258Z"
    },
    "scrolled": false
   },
   "outputs": [
    {
     "data": {
      "image/png": "[encoded data removed]",
      "text/plain": [
       "<Figure size 1200x800 with 1 Axes>"
      ]
     },
     "metadata": {
      "needs_background": "light"
     },
     "output_type": "display_data"
    }
   ],
   "source": [
    "mohr3d(Matrix([[2, 1, 3],  # given the stresses at a point in 3D solid\n",
    "               [1, 9, 2],\n",
    "               [3, 2, 7]]));"
   ]
  },
  {
   "cell_type": "markdown",
   "metadata": {},
   "source": [
    "The three principle stresses (the initial stress state) are at the \"kissing\" points of these three circles, corresponding to zero shear stress.  The centers  of these three circles are the average values of a pair of the principle stresses. The radius of each circle is the absolute value of a maximum shear stresses. The maximum shear stress if the radius of the largest circle.   "
   ]
  },
  {
   "cell_type": "markdown",
   "metadata": {},
   "source": [
    "### Remarks\n",
    "\n",
    "This chapter discusses first how the stress tensor (order 2) are resulted from the external force tensor (order 1) all defined in an orthogonal coordinate system, and then the status of stress and its change when the coordinate system rotates. \n",
    "\n",
    "1. The value of the stress tensor depends on both the force tensor, and the surface of the stress is on. This is the root reason why a stress tensor has two indexes and hence being a 2nd order tensor. \n",
    "\n",
    "2. In all the formulas derived for the stress tensor, orthogonal projections for both forces and areas are strictly followed. \n",
    "\n",
    "3. When coordinate rotates, the presentation of the stress tensor changes. It uses twice the transformation matrix, because it is a second order tensor. \n",
    "\n",
    "4. There are three stress invariants, which do not change with the coordinate transformation. Special stresses are defined using these invariant property of stresses. These special stress will be used in establishing failure criteria. \n",
    "\n",
    "5. At the principal axises, the shear stress components vanishes, and only the normal stresses present, which are called principal stresses. These are invariant. \n",
    "\n",
    "6. Principal stresses and the axises can be found using the eigenvalue solver provided in this chapter. \n",
    "\n",
    "7. Mohr circle is a geometric representation of stresses in 2D and 3D. It is useful to intuitively locate the principal stresses and maximum shear stresses. "
   ]
  },
  {
   "cell_type": "markdown",
   "metadata": {},
   "source": [
    "# References\n",
    "\n",
    "[<a id=\"cit-boresi1985advanced\" href=\"#call-boresi1985advanced\">1</a>] Arthur Peter Boresi, Richard Joseph Schmidt and Omar M Sidebottom, ``_Advanced mechanics of materials_'',  John Wiley \\& Sons, New York, 1985.\n",
    "\n",
    "[<a id=\"cit-liu2013finite\" href=\"#call-liu2013finite\">2</a>] GR Liu and Siu Sin Quek, ``_The finite element method: a practical course_'',  Butterworth-Heinemann, 2013.\n",
    "\n",
    "[<a id=\"cit-liusmoothed\" href=\"#call-liusmoothed\">3</a>] G.R. Liu and TT Nguyen, ``_Smoothed finite element methods_'',  Taylor and Francis Group, NewYork, 2010.\n",
    "\n"
   ]
  }
 ],
 "metadata": {
  "kernelspec": {
   "display_name": "Python 3 (ipykernel)",
   "language": "python",
   "name": "python3"
  },
  "language_info": {
   "codemirror_mode": {
    "name": "ipython",
    "version": 3
   },
   "file_extension": ".py",
   "mimetype": "text/x-python",
   "name": "python",
   "nbconvert_exporter": "python",
   "pygments_lexer": "ipython3",
   "version": "3.9.7"
  },
  "latex_envs": {
   "LaTeX_envs_menu_present": true,
   "autoclose": true,
   "autocomplete": true,
   "bibliofile": "../biblio.bib",
   "cite_by": "number",
   "current_citInitial": 1,
   "eqLabelWithNumbers": true,
   "eqNumInitial": 1,
   "hotkeys": {
    "equation": "Ctrl-E",
    "itemize": "Ctrl-I"
   },
   "labels_anchors": true,
   "latex_user_defs": false,
   "report_style_numbering": false,
   "user_envs_cfg": false
  },
  "toc": {
   "base_numbering": "3",
   "nav_menu": {},
   "number_sections": true,
   "sideBar": true,
   "skip_h1_title": true,
   "title_cell": "Table of Contents",
   "title_sidebar": "Contents",
   "toc_cell": true,
   "toc_position": {
    "height": "659.333px",
    "left": "23px",
    "top": "79.125px",
    "width": "165px"
   },
   "toc_section_display": true,
   "toc_window_display": true
  },
  "varInspector": {
   "cols": {
    "lenName": 16,
    "lenType": 16,
    "lenVar": 40
   },
   "kernels_config": {
    "python": {
     "delete_cmd_postfix": "",
     "delete_cmd_prefix": "del ",
     "library": "var_list.py",
     "varRefreshCmd": "print(var_dic_list())"
    },
    "r": {
     "delete_cmd_postfix": ") ",
     "delete_cmd_prefix": "rm(",
     "library": "var_list.r",
     "varRefreshCmd": "cat(var_dic_list()) "
    }
   },
   "types_to_exclude": [
    "module",
    "function",
    "builtin_function_or_method",
    "instance",
    "_Feature"
   ],
   "window_display": false
  }
 },
 "nbformat": 4,
 "nbformat_minor": 4
}
