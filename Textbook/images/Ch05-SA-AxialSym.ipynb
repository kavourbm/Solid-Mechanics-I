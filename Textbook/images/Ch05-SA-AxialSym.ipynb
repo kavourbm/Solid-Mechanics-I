{
 "cells": [
  {
   "cell_type": "markdown",
   "id": "50ebeda5",
   "metadata": {
    "toc": true
   },
   "source": [
    "<h1>Table of Contents<span class=\"tocSkip\"></span></h1>\n",
    "<div class=\"toc\"><ul class=\"toc-item\"><li><span><a href=\"#Axial-symmetrical-problems,-without-body-force\" data-toc-modified-id=\"Axial-symmetrical-problems,-without-body-force-5\"><span class=\"toc-item-num\">5&nbsp;&nbsp;</span>Axial symmetrical problems, without body force</a></span><ul class=\"toc-item\"><li><span><a href=\"#Basic-equations\" data-toc-modified-id=\"Basic-equations-5.1\"><span class=\"toc-item-num\">5.1&nbsp;&nbsp;</span>Basic equations</a></span></li><li><span><a href=\"#The-general-solution-for-1D-biharmonic-equation\" data-toc-modified-id=\"The-general-solution-for-1D-biharmonic-equation-5.2\"><span class=\"toc-item-num\">5.2&nbsp;&nbsp;</span>The general solution for 1D biharmonic equation</a></span></li><li><span><a href=\"#General-formulas-for-stresses\" data-toc-modified-id=\"General-formulas-for-stresses-5.3\"><span class=\"toc-item-num\">5.3&nbsp;&nbsp;</span>General formulas for stresses</a></span></li><li><span><a href=\"#General-formulas-for-strains\" data-toc-modified-id=\"General-formulas-for-strains-5.4\"><span class=\"toc-item-num\">5.4&nbsp;&nbsp;</span>General formulas for strains</a></span></li><li><span><a href=\"#General-formulas-for-displacements\" data-toc-modified-id=\"General-formulas-for-displacements-5.5\"><span class=\"toc-item-num\">5.5&nbsp;&nbsp;</span>General formulas for displacements</a></span></li><li><span><a href=\"#Example:-pressurized-disks-and-cylinders\" data-toc-modified-id=\"Example:-pressurized-disks-and-cylinders-5.6\"><span class=\"toc-item-num\">5.6&nbsp;&nbsp;</span>Example: pressurized disks and cylinders</a></span><ul class=\"toc-item\"><li><span><a href=\"#Case-I:-the-simplest-case\" data-toc-modified-id=\"Case-I:-the-simplest-case-5.6.1\"><span class=\"toc-item-num\">5.6.1&nbsp;&nbsp;</span>Case I: the simplest case</a></span></li><li><span><a href=\"#Case-II:--pressurized-disks-and-cylinders\" data-toc-modified-id=\"Case-II:--pressurized-disks-and-cylinders-5.6.2\"><span class=\"toc-item-num\">5.6.2&nbsp;&nbsp;</span>Case II:  pressurized disks and cylinders</a></span><ul class=\"toc-item\"><li><span><a href=\"#Stress-solution\" data-toc-modified-id=\"Stress-solution-5.6.2.1\"><span class=\"toc-item-num\">5.6.2.1&nbsp;&nbsp;</span>Stress solution</a></span></li><li><span><a href=\"#Some-important-findings-from-the-stress-solution\" data-toc-modified-id=\"Some-important-findings-from-the-stress-solution-5.6.2.2\"><span class=\"toc-item-num\">5.6.2.2&nbsp;&nbsp;</span>Some important findings from the stress solution</a></span></li><li><span><a href=\"#Displacement-solution\" data-toc-modified-id=\"Displacement-solution-5.6.2.3\"><span class=\"toc-item-num\">5.6.2.3&nbsp;&nbsp;</span>Displacement solution</a></span></li></ul></li></ul></li></ul></li></ul></div>"
   ]
  },
  {
   "cell_type": "markdown",
   "id": "304bc51f",
   "metadata": {},
   "source": [
    "Let us import necessary external modules or dependence for later use in this chapter."
   ]
  },
  {
   "cell_type": "code",
   "execution_count": 1,
   "id": "9e4d048b",
   "metadata": {
    "ExecuteTime": {
     "end_time": "2023-10-13T11:54:55.924455Z",
     "start_time": "2023-10-13T11:54:48.035692Z"
    }
   },
   "outputs": [],
   "source": [
    "# Place curse in this cell, and press Ctrl+Enter to import dependences. \n",
    "import sys                         # for accessing the computer system\n",
    "sys.path.append('../grbin/')  # Change to the directory in your system \n",
    "\n",
    "from commonImports import *      # Import dependences from '../grbin/'\n",
    "import grcodes as gr                 # Import the module of the author\n",
    "#importlib.reload(gr)            # When grcodes is modified, reload it\n",
    "\n",
    "from continuum_mechanics import vector \n",
    "from continuum_mechanics.solids import sym_grad, strain_stress\n",
    "init_printing(use_unicode=True)      # For latex-like quality printing \n",
    "np.set_printoptions(precision=4,suppress=True)  # Digits in print-outs"
   ]
  },
  {
   "cell_type": "markdown",
   "id": "fa748b6f",
   "metadata": {},
   "source": [
    "## Axial symmetrical problems, without body force\n",
    "\n",
    "### Basic equations\n",
    "\n",
    "In engineering applications, many structure components are made of axial symmetric. For example, types of disks. For these problems, the solution procedure can be simplified:\n",
    "\n",
    "1. All the variables do not depend on $\\theta$.\n",
    "\n",
    "2. The displacement component $u_{𝜃}$ vanishes, because it is not axial symmetric. \n",
    "\n",
    "3. The shear stress $𝜎_{r𝜃}$ vanishes, because it is not axial symmetric. \n",
    "\n",
    "Under these conditions, the relationship between the stresses and stress-function is reduced to \n",
    "\n",
    "\\begin{equation} \\label{eqSSpsy}\n",
    "\\begin{split}\n",
    "𝜎_{rr} &=\\frac{1}{r}\\frac{∂𝜙}{∂ r} \\\\\n",
    "𝜎_{𝜃𝜃} &=\\frac{∂^2𝜙}{∂ r^2}\n",
    "\\end{split}\n",
    "\\end{equation}\n",
    "\n",
    "The biharmonic of the stress-function is simplified and its compatibility equation is reduced to \n",
    "\n",
    "\\begin{equation} \\label{eq4phisy}\n",
    "\\begin{split}\n",
    "\\nabla^4𝜙 &= \\nabla^2\\nabla^2𝜙 =\\bigg(\\frac{\\partial^2 }{\\partial r^2}   + \\frac{1 }{r}\\frac{\\partial }{\\partial r} \\bigg) \\bigg(\\frac{\\partial^2 𝜙}{\\partial r^2}   + \\frac{1 }{r}\\frac{\\partial 𝜙}{\\partial r} \\bigg) \\\\\n",
    "&=\\frac{∂^4𝜙}{∂r^4} + \\frac{2 }{r} \\frac{∂^3𝜙}{∂r^3}  - \\frac{1}{r^2}\\frac{∂^2𝜙}{∂r^2} \n",
    " +\\frac{1}{r^3}\\frac{∂𝜙}{∂r}  = 0\n",
    "\\end{split}\n",
    "\\end{equation} "
   ]
  },
  {
   "cell_type": "markdown",
   "id": "b4f46a23",
   "metadata": {},
   "source": [
    "This is a 1D 4th order differential equation (DE) with only one independent variable $r$. It has an interesting chained differential form: \n",
    "\n",
    "\\begin{equation} \\label{eq4phichb}\n",
    "\\nabla^4𝜙 =\\frac{d }{d r} \\left\\{ r\\frac{d }{d r} \n",
    "\\left[\\frac{1}{r} \\frac{d }{d r} \\bigg( r\\frac{d 𝜙}{d r} \\bigg) \\right] \\right\\} =0\n",
    "\\end{equation} \n",
    "\n",
    "This chained structure allows us to integrate it in stages to find the solution for the stress function, which can be done by hand. It is even easier using Sympy, which is what we will do. \n",
    "\n",
    "Below is a Sympy code that solves Eq.(\\ref{eq4phisy}) directly. "
   ]
  },
  {
   "cell_type": "markdown",
   "id": "f9ee2f45",
   "metadata": {},
   "source": [
    "In addition, the strain-displacement relation is reduced to:    \n",
    "\n",
    "\\begin{equation} \\label{eqErt}\n",
    "\\begin{split}\n",
    "ε_{rr}&=\\frac{\\partial u_r}{\\partial r}\\\\\n",
    "ε_{𝜃𝜃}&=\\frac{ u_r}{r}\\\\\n",
    "2ε_{r𝜃}&=0\n",
    "\\end{split}\n",
    "\\end{equation} "
   ]
  },
  {
   "cell_type": "markdown",
   "id": "108b22fe",
   "metadata": {},
   "source": [
    "### The general solution for 1D biharmonic equation\n",
    "\n",
    "We use Sympy to obtain directly the general solution for the 1D 4th biharmic DE, Eq.(\\ref{eq4phisy})."
   ]
  },
  {
   "cell_type": "code",
   "execution_count": 2,
   "id": "efa31c9a",
   "metadata": {
    "ExecuteTime": {
     "end_time": "2023-10-13T11:59:45.589054Z",
     "start_time": "2023-10-13T11:59:41.353454Z"
    }
   },
   "outputs": [
    {
     "name": "stdout",
     "output_type": "stream",
     "text": [
      "The general solution to ∇^4𝜙=0 with constants\n"
     ]
    },
    {
     "data": {
      "image/png": "[encoded data removed]",
      "text/latex": [
       "$\\displaystyle 𝜙{\\left(r \\right)} = C_{1} + C_{2} r^{2} + C_{3} r^{2} \\log{\\left(r \\right)} + C_{4} \\log{\\left(r \\right)}$"
      ],
      "text/plain": [
       "                2       2                   \n",
       "𝜙(r) = C₁ + C₂⋅r  + C₃⋅r ⋅log(r) + C₄⋅log(r)"
      ]
     },
     "execution_count": 2,
     "metadata": {},
     "output_type": "execute_result"
    }
   ],
   "source": [
    "# Solve ∇^4𝜙=0 for general solution:\n",
    "r = sp.symbols('r', nonnegative=True)       # define symbolic variable\n",
    "𝜙 = sp.Function('𝜙')(r)                  # define the stress function\n",
    "lap = diff(diff(𝜙,r),r)+(1/r)*diff(𝜙, r)  # define Laplacian operator\n",
    "bih = diff(diff(lap,r),r)+ (1/r)*diff(lap,r)     #bi-harmonic operator\n",
    "\n",
    "diff_eq = sp.Eq(bih, 0)                 # define differential equation\n",
    "\n",
    "g_sln = sp.dsolve(diff_eq, 𝜙)        # solve the differential equation\n",
    "\n",
    "gr.printM(g_sln, 'The general solution to ∇^4𝜙=0 with constants')"
   ]
  },
  {
   "cell_type": "markdown",
   "id": "ee882dd4",
   "metadata": {},
   "source": [
    "This is the general expression for stress function for problems without body force. It has 4 arbitrary constants. We can reset the constants, for consistence in author's notation convention (reader may do this differently or leave it as it is). Because these constants are to be determined later, their notation is immaterial. We thus write: \n",
    "\n",
    "\\begin{equation} \\label{eqPhiSln}\n",
    " \\phi(r)= c_{0} \\log{\\left(r \\right)} + c_{1} r^{2} \\log{\\left(r \\right)} + c_{2} r^{2} + c_{3}\n",
    "\\end{equation}\n",
    "\n",
    "The Python code is "
   ]
  },
  {
   "cell_type": "code",
   "execution_count": 7,
   "id": "84e918b0",
   "metadata": {
    "ExecuteTime": {
     "end_time": "2023-10-13T12:02:20.926818Z",
     "start_time": "2023-10-13T12:02:18.216886Z"
    }
   },
   "outputs": [
    {
     "data": {
      "image/png": "[encoded data removed]",
      "text/latex": [
       "$\\displaystyle c_{0} \\log{\\left(r \\right)} + c_{1} r^{2} \\log{\\left(r \\right)} + c_{2} r^{2} + c_{3}$"
      ],
      "text/plain": [
       "                2              2     \n",
       "c₀⋅log(r) + c₁⋅r ⋅log(r) + c₂⋅r  + c₃"
      ]
     },
     "execution_count": 7,
     "metadata": {},
     "output_type": "execute_result"
    }
   ],
   "source": [
    "c0, c1, c2, c3 = symbols('c0, c1, c2, c3')      #integration constants\n",
    "𝜙 = 𝑐0*sp.log(𝑟)+𝑐1*𝑟**2*sp.log(𝑟)+𝑐2*𝑟**2+𝑐3          #reset constants\n",
    "𝜙"
   ]
  },
  {
   "cell_type": "markdown",
   "id": "92bcfeb4",
   "metadata": {},
   "source": [
    "These 4 arbitrary constants can be determined based on the setting of the actual problem. \n",
    "\n",
    "### General formulas for stresses \n",
    "\n",
    "We can now compute stresses using Eq.(\\ref{eqSSpsy}), which involves only differentiations. "
   ]
  },
  {
   "cell_type": "code",
   "execution_count": 8,
   "id": "db5c4cc2",
   "metadata": {
    "ExecuteTime": {
     "end_time": "2023-10-13T12:02:26.615142Z",
     "start_time": "2023-10-13T12:02:24.191251Z"
    }
   },
   "outputs": [
    {
     "data": {
      "image/png": "[encoded data removed]",
      "text/latex": [
       "$\\displaystyle \\frac{c_{0}}{r^{2}} + 2 c_{1} \\log{\\left(r \\right)} + c_{1} + 2 c_{2}$"
      ],
      "text/plain": [
       "c₀                          \n",
       "── + 2⋅c₁⋅log(r) + c₁ + 2⋅c₂\n",
       " 2                          \n",
       "r                           "
      ]
     },
     "execution_count": 8,
     "metadata": {},
     "output_type": "execute_result"
    }
   ],
   "source": [
    "𝜎_rr = (diff(𝜙,r)/r).expand()                     # differentiate once\n",
    "𝜎_rr"
   ]
  },
  {
   "cell_type": "code",
   "execution_count": 9,
   "id": "7121b629",
   "metadata": {
    "ExecuteTime": {
     "end_time": "2023-10-13T12:02:29.695803Z",
     "start_time": "2023-10-13T12:02:27.378357Z"
    }
   },
   "outputs": [
    {
     "data": {
      "image/png": "[encoded data removed]",
      "text/latex": [
       "$\\displaystyle - \\frac{c_{0}}{r^{2}} + 2 c_{1} \\log{\\left(r \\right)} + 3 c_{1} + 2 c_{2}$"
      ],
      "text/plain": [
       "  c₀                            \n",
       "- ── + 2⋅c₁⋅log(r) + 3⋅c₁ + 2⋅c₂\n",
       "   2                            \n",
       "  r                             "
      ]
     },
     "execution_count": 9,
     "metadata": {},
     "output_type": "execute_result"
    }
   ],
   "source": [
    "𝜎_𝜃𝜃 = (diff(diff(𝜙,r),r)).expand()              # differentiate twice\n",
    "𝜎_𝜃𝜃"
   ]
  },
  {
   "cell_type": "markdown",
   "id": "5de45f1d",
   "metadata": {},
   "source": [
    "We obtain the general formulas for stresses for any axial symmetrical problem without body force: \n",
    "\n",
    "\\begin{equation} \\label{eqSaxsy}\n",
    "\\begin{split}\n",
    "𝜎_{rr} &=\\frac{1}{r}\\frac{∂𝜙}{∂ r}= \\frac{c_{0}}{r^{2}} + 2 c_{1} \\log{\\left(r \\right)} + c_{1} + 2 c_{2} \\\\\n",
    "𝜎_{𝜃𝜃} &=\\frac{∂^2𝜙}{∂ r^2} =- \\frac{c_{0}}{r^{2}} + 2 c_{1} \\log{\\left(r \\right)} + 3 c_{1} + 2 c_{2} \\\\\n",
    "𝜎_{r𝜃} &=0 \n",
    "\\end{split}\n",
    "\\end{equation}"
   ]
  },
  {
   "cell_type": "markdown",
   "id": "a66967fc",
   "metadata": {},
   "source": [
    "### General formulas for strains \n",
    "\n",
    "Consider a plane stress problem. We can now obtain the general formulas for strains using the constitutive equation (with zero shear stress): \n",
    "\n",
    "\\begin{equation} \\label{eqESij2D4}\n",
    "\\varepsilon_{rr}=\\frac{1}{E}(\\sigma_{rr}-\\nu\\sigma_{𝜃𝜃})\\\\\n",
    "\\varepsilon_{𝜃𝜃}=\\frac{1}{E}(\\sigma_{𝜃𝜃}-\\nu\\sigma_{rr})\\\\\n",
    "\\varepsilon_{r𝜃}=0\n",
    "\\end{equation}\n",
    "\n",
    "Note that the constitutive equation in polar coordinates is the same as that in the Cartesian coordinates. "
   ]
  },
  {
   "cell_type": "code",
   "execution_count": 10,
   "id": "54d2c30d",
   "metadata": {
    "ExecuteTime": {
     "end_time": "2023-10-13T12:02:34.915153Z",
     "start_time": "2023-10-13T12:02:33.585471Z"
    }
   },
   "outputs": [
    {
     "data": {
      "image/png": "[encoded data removed]",
      "text/latex": [
       "$\\displaystyle \\frac{\\frac{c_{0}}{r^{2}} + 2 c_{1} \\log{\\left(r \\right)} + c_{1} + 2 c_{2} - 𝜈 \\left(- \\frac{c_{0}}{r^{2}} + 2 c_{1} \\log{\\left(r \\right)} + 3 c_{1} + 2 c_{2}\\right)}{E}$"
      ],
      "text/plain": [
       "c₀                               ⎛  c₀                            ⎞\n",
       "── + 2⋅c₁⋅log(r) + c₁ + 2⋅c₂ - 𝜈⋅⎜- ── + 2⋅c₁⋅log(r) + 3⋅c₁ + 2⋅c₂⎟\n",
       " 2                               ⎜   2                            ⎟\n",
       "r                                ⎝  r                             ⎠\n",
       "───────────────────────────────────────────────────────────────────\n",
       "                                 E                                 "
      ]
     },
     "execution_count": 10,
     "metadata": {},
     "output_type": "execute_result"
    }
   ],
   "source": [
    "E, 𝜈 = symbols('E, 𝜈')                            # material constants\n",
    "𝜀_rr = (𝜎_rr - 𝜈*𝜎_𝜃𝜃)/E\n",
    "𝜀_rr"
   ]
  },
  {
   "cell_type": "code",
   "execution_count": 11,
   "id": "47589dd8",
   "metadata": {
    "ExecuteTime": {
     "end_time": "2023-10-13T12:02:37.412639Z",
     "start_time": "2023-10-13T12:02:36.020289Z"
    }
   },
   "outputs": [
    {
     "data": {
      "image/png": "[encoded data removed]",
      "text/latex": [
       "$\\displaystyle \\frac{- \\frac{c_{0}}{r^{2}} + 2 c_{1} \\log{\\left(r \\right)} + 3 c_{1} + 2 c_{2} - 𝜈 \\left(\\frac{c_{0}}{r^{2}} + 2 c_{1} \\log{\\left(r \\right)} + c_{1} + 2 c_{2}\\right)}{E}$"
      ],
      "text/plain": [
       "  c₀                                 ⎛c₀                          ⎞\n",
       "- ── + 2⋅c₁⋅log(r) + 3⋅c₁ + 2⋅c₂ - 𝜈⋅⎜── + 2⋅c₁⋅log(r) + c₁ + 2⋅c₂⎟\n",
       "   2                                 ⎜ 2                          ⎟\n",
       "  r                                  ⎝r                           ⎠\n",
       "───────────────────────────────────────────────────────────────────\n",
       "                                 E                                 "
      ]
     },
     "execution_count": 11,
     "metadata": {},
     "output_type": "execute_result"
    }
   ],
   "source": [
    "𝜀_𝜃𝜃 = (𝜎_𝜃𝜃 - 𝜈*𝜎_rr)/E\n",
    "𝜀_𝜃𝜃"
   ]
  },
  {
   "cell_type": "markdown",
   "id": "f7539c02",
   "metadata": {},
   "source": [
    "### General formulas for displacements\n",
    "\n",
    "Using the 1st equation in Eq.(\\ref{eqErt}), we obtain $\\frac{\\partial u_r}{\\partial r}=ε_{rr}$, and hence we obtain $u_r$ by integrating once: "
   ]
  },
  {
   "cell_type": "code",
   "execution_count": 12,
   "id": "2281a425",
   "metadata": {
    "ExecuteTime": {
     "end_time": "2023-10-13T12:02:58.322421Z",
     "start_time": "2023-10-13T12:02:56.402782Z"
    }
   },
   "outputs": [
    {
     "data": {
      "image/png": "[encoded data removed]",
      "text/latex": [
       "$\\displaystyle C + \\frac{- r \\left(c_{1} 𝜈 + c_{1} + 2 c_{2} 𝜈 - 2 c_{2}\\right) - \\frac{c_{0} 𝜈 + c_{0}}{r}}{E} + \\frac{\\left(- 2 c_{1} r 𝜈 + 2 c_{1} r\\right) \\log{\\left(r \\right)}}{E}$"
      ],
      "text/plain": [
       "                                     c₀⋅𝜈 + c₀                              \n",
       "    -r⋅(c₁⋅𝜈 + c₁ + 2⋅c₂⋅𝜈 - 2⋅c₂) - ─────────                              \n",
       "                                         r       (-2⋅c₁⋅r⋅𝜈 + 2⋅c₁⋅r)⋅log(r)\n",
       "C + ────────────────────────────────────────── + ───────────────────────────\n",
       "                        E                                     E             "
      ]
     },
     "execution_count": 12,
     "metadata": {},
     "output_type": "execute_result"
    }
   ],
   "source": [
    "C = symbols('C') \n",
    "u_r = sp.integrate(𝜀_rr,(r)) + C           # c is an integral constant\n",
    "u_r"
   ]
  },
  {
   "cell_type": "markdown",
   "id": "6d0798b3",
   "metadata": {},
   "source": [
    "Next, using the 2nd equation in Eq.(\\ref{eqErt}), we need $rε_{𝜃𝜃}-u_r=0$. However, $rε_{𝜃𝜃}-u_r$ is found as, "
   ]
  },
  {
   "cell_type": "code",
   "execution_count": 13,
   "id": "180e10f0",
   "metadata": {
    "ExecuteTime": {
     "end_time": "2023-10-13T12:03:12.637548Z",
     "start_time": "2023-10-13T12:03:10.285641Z"
    }
   },
   "outputs": [
    {
     "data": {
      "image/png": "[encoded data removed]",
      "text/latex": [
       "$\\displaystyle - C + \\frac{4 c_{1} r}{E}$"
      ],
      "text/plain": [
       "     4⋅c₁⋅r\n",
       "-C + ──────\n",
       "       E   "
      ]
     },
     "execution_count": 13,
     "metadata": {},
     "output_type": "execute_result"
    }
   ],
   "source": [
    "(r*𝜀_𝜃𝜃-u_r).simplify()                          # form ∂𝑢𝜃/∂𝜃"
   ]
  },
  {
   "cell_type": "markdown",
   "id": "d1faa32b",
   "metadata": {},
   "source": [
    "This gives:\n",
    "\n",
    "\\begin{equation} \\label{eqCc1}\n",
    "C=\\frac{4 c_{1} r}{E}\n",
    "\\end{equation} \n",
    "\n",
    "Because $C$ can only be a constant. For Eq.(\\ref{eqCc1}) to be satisfied, we must have $c_1=0$ and $C=0$. "
   ]
  },
  {
   "cell_type": "code",
   "execution_count": 14,
   "id": "aa71170b",
   "metadata": {
    "ExecuteTime": {
     "end_time": "2023-10-13T12:03:39.482684Z",
     "start_time": "2023-10-13T12:03:38.209897Z"
    }
   },
   "outputs": [
    {
     "data": {
      "image/png": "[encoded data removed]",
      "text/latex": [
       "$\\displaystyle - \\frac{c_{0} 𝜈}{E r} - \\frac{c_{0}}{E r} - \\frac{2 c_{2} r 𝜈}{E} + \\frac{2 c_{2} r}{E}$"
      ],
      "text/plain": [
       "  c₀⋅𝜈    c₀   2⋅c₂⋅r⋅𝜈   2⋅c₂⋅r\n",
       "- ──── - ─── - ──────── + ──────\n",
       "  E⋅r    E⋅r      E         E   "
      ]
     },
     "execution_count": 14,
     "metadata": {},
     "output_type": "execute_result"
    }
   ],
   "source": [
    "u_rg = u_r.subs({C:0, c1:0}).expand()\n",
    "u_rg"
   ]
  },
  {
   "cell_type": "markdown",
   "id": "0f1f9fc5",
   "metadata": {},
   "source": [
    "Finally, we obtain the general expressions for displacements: \n",
    "\n",
    "\\begin{equation} \\label{equv}\n",
    "\\begin{split}\n",
    "u_r&= -c_{0}\\frac{(1+𝜈)}{E}\\frac{1}{r} + 2c_{2}\\frac{(1-𝜈)}{E}r \\\\\n",
    "\\end{split}\n",
    "\\end{equation} \n",
    "\n",
    "There are a total of 2 constants: $c_0$ and $c_2$. These need to be determined by the boundary conditions (BCs). \n",
    "\n",
    "Note that Eq.(\\ref{equv}) is for 2D plane stress problems. If the problem is plane strain, for example a cylindrical long pipe, Eq.(\\ref{equv}) is still valid via the following replacements. \n",
    "\n",
    "\\begin{equation} \\label{eqStrs2Strn}\n",
    "\\text{first: substitute } \\; \\nu \\; \\text{ by } \\; \\frac{\\nu}{(1-\\nu)}\\\\\n",
    "\\text{then: substitute } \\; E \\; \\text{ by } \\; \\frac{E}{(1-\\nu^2)}\\\\\n",
    "\\text{no change in } \\; G\n",
    "\\end{equation}  "
   ]
  },
  {
   "cell_type": "markdown",
   "id": "6c0aee3c",
   "metadata": {},
   "source": [
    "### Example: pressurized disks and cylinders \n",
    "\n",
    "Consider a disk that is subjected to internal pressure $p_i$ and pressure $p_o$ on the outer surface, as shown in Fig.\\ref{image:Disk_p}. Assuming the body force is zero, determine the stresses and the displacement within the disk. \n",
    "\n",
    "<img src=\"./images/Disk_p.png\" alt=\" \" width=\"250\"/><br>\n",
    "\\begin{figure}\n",
    "  \\includegraphics[width=5cm]{}\n",
    "  \\caption{\\label{image:Disk_p} A disk subjected to pressure at inner and outer surfaces.}\n",
    "\\end{figure}\n",
    "\n",
    "This problem is clear axial symmetric, and the formulas given in the previous section can be used. \n",
    "\n",
    "Let us use Python to find the solutions in stresses. First, we need to find the stress function $\\nabla^4\\phi=0$, because the body force is zero. The general solution is given in Eq.(\\ref{eqPhiSln}).\n",
    "\n",
    "The general solution for the stresses are given in Eq.(\\ref{eqSaxsy})\n",
    "\n",
    "\n",
    "\\begin{equation} \\label{eqSaxsyb}\n",
    "\\begin{split}\n",
    "𝜎_{rr} &=\\frac{1}{r}\\frac{∂𝜙}{∂ r}= \\frac{c_{0}}{r^{2}} + c_{1} (2\\log r + 1) + 2 c_{2} \\\\\n",
    "𝜎_{𝜃𝜃} &=\\frac{∂^2𝜙}{∂ r^2} =- \\frac{c_{0}}{r^{2}} + c_{1} (2\\log r + 3) + 2 c_{2} \\\\\n",
    "𝜎_{r𝜃} &=0 \n",
    "\\end{split}\n",
    "\\end{equation}"
   ]
  },
  {
   "cell_type": "markdown",
   "id": "19f2398d",
   "metadata": {},
   "source": [
    "This is the general formulas for stresses. It has 3 arbitrary constants, which can be determined based on the setting of the actual problem. We can consider a few cases. "
   ]
  },
  {
   "cell_type": "markdown",
   "id": "65706f4c",
   "metadata": {},
   "source": [
    "#### Case I: the simplest case \n",
    "\n",
    "If the axial symmetric domain does not have a hole in the center, $c_0$ and $c_1$ shall be zero, for a meaningful finite solution. In this case, the solution for the stresses are\n",
    "\n",
    "\\begin{equation} \\label{eqSaxs1}\n",
    "𝜎_{rr}  = 𝜎_{𝜃𝜃} = 2 c_{2} \n",
    "\\end{equation}\n",
    "\n",
    "They both are a constant. If the externally apply uniform stress is $𝜎$, we have $ 𝜎_{rr}=𝜎_{𝜃𝜃}=𝜎$. The constant $c_2$ is then found as $c_2=𝜎/2$. \n",
    "\n",
    "The displacement is found as:  \n",
    "\n",
    "\\begin{equation} \\label{equvc1}\n",
    "u_r= \\frac{(1-𝜈)𝜎}{E} r  \n",
    "\\end{equation} \n",
    "\n",
    "It grows linearly with $r$. Equation (\\ref{equvc1}) is very similar to the displacement for a 1D bar fixed one end, which is $u_x= \\frac{𝜎}{E} x$. The only difference is the Poisson's effect. Because the disk is constrained within its plane, resulting a smaller displacement. "
   ]
  },
  {
   "cell_type": "markdown",
   "id": "7cf5fbb7",
   "metadata": {},
   "source": [
    "#### Case II:  pressurized disks and cylinders\n",
    "\n",
    "##### Stress solution\n",
    "\n",
    "If there is a hole at the origin ($r=0$), other solutions possible. Let us find the solution. From the 2nd equation in Eq.(\\ref{eqSaxsy}), we know that $c_1$ must be zero, because the term $ \\frac{4 c_{1} r 𝜃}{E}$ is multi-valued. For example, if we set $𝜃=𝜃_1$ and $𝜃=𝜃_1+2\\pi$ for any given $𝜃_1$ and $r$, we will have two different values for the displacement. This is not possible, because these two points are at the same location. Therefore, this kind of multiple valued term is not allowed for meaningful solutions. \n",
    "\n",
    "Setting $c_1=0$ in Eq.(\\ref{eqSaxsy}), we have: "
   ]
  },
  {
   "cell_type": "markdown",
   "id": "7019780d",
   "metadata": {},
   "source": [
    "\\begin{equation} \\label{eqSB0}\n",
    "\\begin{split}\n",
    "𝜎_{rr} &= \\frac{c_{0}}{r^{2}}  + 2 c_{2} \\\\\n",
    "𝜎_{𝜃𝜃} &= - \\frac{c_{0}}{r^{2}} + 2 c_{2} \\\\\n",
    "𝜎_{r𝜃} &=0 \n",
    "\\end{split}\n",
    "\\end{equation}\n",
    "\n",
    "We write the following code to determine these two constants, $c_0$ and $c_2$, using stress boundary conditions. Using Eq.(\\ref{eqSB0}) we have: "
   ]
  },
  {
   "cell_type": "code",
   "execution_count": 15,
   "id": "e925501f",
   "metadata": {
    "ExecuteTime": {
     "end_time": "2023-10-13T12:10:28.597058Z",
     "start_time": "2023-10-13T12:10:26.250515Z"
    }
   },
   "outputs": [
    {
     "data": {
      "image/png": "[encoded data removed]",
      "text/latex": [
       "$\\displaystyle \\frac{c_{0}}{r^{2}} + 2 c_{2}$"
      ],
      "text/plain": [
       "c₀       \n",
       "── + 2⋅c₂\n",
       " 2       \n",
       "r        "
      ]
     },
     "execution_count": 15,
     "metadata": {},
     "output_type": "execute_result"
    }
   ],
   "source": [
    "r = sp.symbols(\"r\", nonnegative=True)\n",
    "c0, c2 = sp.symbols(\"c0, c2\")\n",
    "𝜎_rr = c0/r**2 + 2*c2                # the general solution for stress\n",
    "𝜎_rr"
   ]
  },
  {
   "cell_type": "code",
   "execution_count": 16,
   "id": "7b8602da",
   "metadata": {
    "ExecuteTime": {
     "end_time": "2023-10-13T12:10:31.094766Z",
     "start_time": "2023-10-13T12:10:28.742856Z"
    }
   },
   "outputs": [
    {
     "data": {
      "image/png": "[encoded data removed]",
      "text/latex": [
       "$\\displaystyle - \\frac{c_{0}}{r^{2}} + 2 c_{2}$"
      ],
      "text/plain": [
       "  c₀       \n",
       "- ── + 2⋅c₂\n",
       "   2       \n",
       "  r        "
      ]
     },
     "execution_count": 16,
     "metadata": {},
     "output_type": "execute_result"
    }
   ],
   "source": [
    "r = sp.symbols(\"r\", nonnegative=True)\n",
    "c0, c2 = sp.symbols(\"c0, c2\")\n",
    "𝜎_𝜃𝜃 = -c0/r**2 + 2*c2               # the general solution for stress\n",
    "𝜎_𝜃𝜃"
   ]
  },
  {
   "cell_type": "markdown",
   "id": "990a18c6",
   "metadata": {},
   "source": [
    "Because the disk is pressurized from both inner $r=a$ and outer $r=b$ surfaces, we have: "
   ]
  },
  {
   "cell_type": "code",
   "execution_count": 17,
   "id": "e16b931a",
   "metadata": {
    "ExecuteTime": {
     "end_time": "2023-10-13T12:10:40.596564Z",
     "start_time": "2023-10-13T12:10:37.882345Z"
    }
   },
   "outputs": [
    {
     "data": {
      "image/png": "[encoded data removed]",
      "text/latex": [
       "$\\displaystyle \\left\\{ c_{0} : \\frac{a^{2} b^{2} p_{i} - a^{2} b^{2} p_{o}}{a^{2} - b^{2}}, \\  c_{2} : \\frac{- a^{2} p_{i} + b^{2} p_{o}}{2 a^{2} - 2 b^{2}}\\right\\}$"
      ],
      "text/plain": [
       "⎧     2  2       2  2            2       2   ⎫\n",
       "⎪    a ⋅b ⋅pᵢ - a ⋅b ⋅pₒ      - a ⋅pᵢ + b ⋅pₒ⎪\n",
       "⎨c₀: ───────────────────, c₂: ───────────────⎬\n",
       "⎪           2    2                 2      2  ⎪\n",
       "⎩          a  - b               2⋅a  - 2⋅b   ⎭"
      ]
     },
     "execution_count": 17,
     "metadata": {},
     "output_type": "execute_result"
    }
   ],
   "source": [
    "a, b, pi, po = sp.symbols(\"a, b, p_i, p_o\")\n",
    "cs=sp.solve([𝜎_rr.subs(r,a)+pi, 𝜎_rr.subs(r,b)+po],[c0,c2])\n",
    "cs"
   ]
  },
  {
   "cell_type": "markdown",
   "id": "d4f510b5",
   "metadata": {},
   "source": [
    "We finally found these two constants that meet the conditions on both surfaces. By substituting these constants back to the expressions of the stresses, we obtain: "
   ]
  },
  {
   "cell_type": "code",
   "execution_count": 18,
   "id": "7a1512e2",
   "metadata": {
    "ExecuteTime": {
     "end_time": "2023-10-13T12:10:58.723003Z",
     "start_time": "2023-10-13T12:10:55.848755Z"
    }
   },
   "outputs": [
    {
     "data": {
      "image/png": "[encoded data removed]",
      "text/latex": [
       "$\\displaystyle - \\frac{- a^{2} b^{2} p_{i} + a^{2} b^{2} p_{o} + a^{2} p_{i} r^{2} - b^{2} p_{o} r^{2}}{r^{2} \\left(a - b\\right) \\left(a + b\\right)}$"
      ],
      "text/plain": [
       " ⎛   2  2       2  2       2     2    2     2⎞ \n",
       "-⎝- a ⋅b ⋅pᵢ + a ⋅b ⋅pₒ + a ⋅pᵢ⋅r  - b ⋅pₒ⋅r ⎠ \n",
       "───────────────────────────────────────────────\n",
       "                2                              \n",
       "               r ⋅(a - b)⋅(a + b)              "
      ]
     },
     "execution_count": 18,
     "metadata": {},
     "output_type": "execute_result"
    }
   ],
   "source": [
    "𝜎_rr = 𝜎_rr.subs({c0:cs[c0], c2:cs[c2]}).expand()\n",
    "𝜎_rr.factor()"
   ]
  },
  {
   "cell_type": "code",
   "execution_count": 19,
   "id": "749d7896",
   "metadata": {
    "ExecuteTime": {
     "end_time": "2023-10-13T12:11:01.916139Z",
     "start_time": "2023-10-13T12:10:59.479488Z"
    }
   },
   "outputs": [
    {
     "data": {
      "image/png": "[encoded data removed]",
      "text/latex": [
       "$\\displaystyle - \\frac{a^{2} b^{2} p_{i} - a^{2} b^{2} p_{o} + a^{2} p_{i} r^{2} - b^{2} p_{o} r^{2}}{r^{2} \\left(a - b\\right) \\left(a + b\\right)}$"
      ],
      "text/plain": [
       " ⎛ 2  2       2  2       2     2    2     2⎞ \n",
       "-⎝a ⋅b ⋅pᵢ - a ⋅b ⋅pₒ + a ⋅pᵢ⋅r  - b ⋅pₒ⋅r ⎠ \n",
       "─────────────────────────────────────────────\n",
       "               2                             \n",
       "              r ⋅(a - b)⋅(a + b)             "
      ]
     },
     "execution_count": 19,
     "metadata": {},
     "output_type": "execute_result"
    }
   ],
   "source": [
    "𝜎_𝜃𝜃 = 𝜎_𝜃𝜃.subs({c0:cs[c0], c2:cs[c2]}).expand()\n",
    "𝜎_𝜃𝜃.factor()"
   ]
  },
  {
   "cell_type": "markdown",
   "id": "92061162",
   "metadata": {},
   "source": [
    "The stresses in a disk (or cylinder) pressurized from both inner $r=a$ and outer $r=b$ surfaces are found as follows. \n",
    "\n",
    "\\begin{equation} \\label{eqDiskpio}\n",
    "\\begin{split}\n",
    "𝜎_{rr}&=\\displaystyle - \\frac{- a^{2} b^{2} p_{i} + a^{2} b^{2} p_{o} + a^{2} p_{i} r^{2} - b^{2} p_{o} r^{2}}{r^{2} \\left(a - b\\right) \\left(a + b\\right)} \\\\\n",
    "𝜎_{𝜃𝜃}&=\\displaystyle - \\frac{- a^{2} b^{2} p_{i} + a^{2} b^{2} p_{o} + a^{2} p_{i} r^{2} - b^{2} p_{o} r^{2}}{r^{2} \\left(a - b\\right) \\left(a + b\\right)}\\\\\n",
    "\\end{split}\n",
    "\\end{equation} \n",
    "\n",
    "with $𝜎_{r𝜃}=0$. In this equation, $p_i$ is the pressure on the inner at $r=a$, and $p_o$ is the pressure on the outer $r=b$. \n",
    "\n",
    "Assume $p_o=0$, we have: "
   ]
  },
  {
   "cell_type": "code",
   "execution_count": 20,
   "id": "14ee3ffe",
   "metadata": {
    "ExecuteTime": {
     "end_time": "2023-10-13T12:11:37.622970Z",
     "start_time": "2023-10-13T12:11:34.119363Z"
    }
   },
   "outputs": [
    {
     "data": {
      "image/png": "[encoded data removed]",
      "text/latex": [
       "$\\displaystyle - \\frac{a^{2} p_{i} \\left(- b + r\\right) \\left(b + r\\right)}{r^{2} \\left(a - b\\right) \\left(a + b\\right)}$"
      ],
      "text/plain": [
       "  2                     \n",
       "-a ⋅pᵢ⋅(-b + r)⋅(b + r) \n",
       "────────────────────────\n",
       "    2                   \n",
       "   r ⋅(a - b)⋅(a + b)   "
      ]
     },
     "execution_count": 20,
     "metadata": {},
     "output_type": "execute_result"
    }
   ],
   "source": [
    "𝜎_rrpi = 𝜎_rr.subs({po: 0}).expand()\n",
    "𝜎_rrpi.factor()                              # stress 𝜎_rr when po=0"
   ]
  },
  {
   "cell_type": "code",
   "execution_count": 21,
   "id": "605a94e8",
   "metadata": {
    "ExecuteTime": {
     "end_time": "2023-10-13T12:11:41.045165Z",
     "start_time": "2023-10-13T12:11:38.547530Z"
    }
   },
   "outputs": [
    {
     "data": {
      "image/png": "[encoded data removed]",
      "text/latex": [
       "$\\displaystyle - \\frac{a^{2} p_{i} \\left(b^{2} + r^{2}\\right)}{r^{2} \\left(a - b\\right) \\left(a + b\\right)}$"
      ],
      "text/plain": [
       "  2    ⎛ 2    2⎞  \n",
       "-a ⋅pᵢ⋅⎝b  + r ⎠  \n",
       "──────────────────\n",
       " 2                \n",
       "r ⋅(a - b)⋅(a + b)"
      ]
     },
     "execution_count": 21,
     "metadata": {},
     "output_type": "execute_result"
    }
   ],
   "source": [
    "𝜎_𝜃𝜃pi = 𝜎_𝜃𝜃.subs({po: 0}).expand()\n",
    "𝜎_𝜃𝜃pi.factor()                              # stress 𝜎_𝜃𝜃 when po=0"
   ]
  },
  {
   "cell_type": "code",
   "execution_count": 22,
   "id": "07a473db",
   "metadata": {
    "ExecuteTime": {
     "end_time": "2023-10-13T12:11:44.210614Z",
     "start_time": "2023-10-13T12:11:42.004449Z"
    }
   },
   "outputs": [
    {
     "data": {
      "image/png": "[encoded data removed]",
      "text/latex": [
       "$\\displaystyle \\frac{b^{2} p_{o} \\left(- a + r\\right) \\left(a + r\\right)}{r^{2} \\left(a - b\\right) \\left(a + b\\right)}$"
      ],
      "text/plain": [
       " 2                    \n",
       "b ⋅pₒ⋅(-a + r)⋅(a + r)\n",
       "──────────────────────\n",
       "   2                  \n",
       "  r ⋅(a - b)⋅(a + b)  "
      ]
     },
     "execution_count": 22,
     "metadata": {},
     "output_type": "execute_result"
    }
   ],
   "source": [
    "𝜎_rrpo = 𝜎_rr.subs({pi: 0}).expand()\n",
    "𝜎_rrpo.factor()                              # stress 𝜎_rr when pi=0"
   ]
  },
  {
   "cell_type": "code",
   "execution_count": 23,
   "id": "395f5507",
   "metadata": {
    "ExecuteTime": {
     "end_time": "2023-10-13T12:11:47.357260Z",
     "start_time": "2023-10-13T12:11:45.172294Z"
    }
   },
   "outputs": [
    {
     "data": {
      "image/png": "[encoded data removed]",
      "text/latex": [
       "$\\displaystyle \\frac{b^{2} p_{o} \\left(a^{2} + r^{2}\\right)}{r^{2} \\left(a - b\\right) \\left(a + b\\right)}$"
      ],
      "text/plain": [
       "  2    ⎛ 2    2⎞  \n",
       " b ⋅pₒ⋅⎝a  + r ⎠  \n",
       "──────────────────\n",
       " 2                \n",
       "r ⋅(a - b)⋅(a + b)"
      ]
     },
     "execution_count": 23,
     "metadata": {},
     "output_type": "execute_result"
    }
   ],
   "source": [
    "𝜎_𝜃𝜃po = 𝜎_𝜃𝜃.subs({pi: 0}).expand()\n",
    "𝜎_𝜃𝜃po.factor()                              # stress 𝜎_𝜃𝜃 when pi=0"
   ]
  },
  {
   "cell_type": "code",
   "execution_count": 41,
   "id": "38aca2df",
   "metadata": {
    "ExecuteTime": {
     "end_time": "2023-10-12T20:44:29.740381Z",
     "start_time": "2023-10-12T20:44:29.724324Z"
    }
   },
   "outputs": [],
   "source": [
    "#print(𝜎_rrpo.factor()) #print(𝜎_𝜃𝜃po.factor())\n",
    "#𝜎_rrpo = b**2*p_o*(-a + r)*(a + r)/(r**2*(a - b)*(a + b))\n",
    "#𝜎_𝜃𝜃po = b**2*p_o*(a**2 + r**2)/(r**2*(a - b)*(a + b))"
   ]
  },
  {
   "cell_type": "markdown",
   "id": "23192281",
   "metadata": {},
   "source": [
    "##### Some important findings from the stress solution\n",
    "\n",
    "We write down the stresses in the disk, when $p_i=0$, for further examination. \n",
    "\n",
    "\\begin{equation} \\label{eqDisk_po}\n",
    "\\begin{split}\n",
    "𝜎_{rr}&=\\frac{b^{2} (r^2 - a^2) }{r^{2} (a^2 - b^2)} p_{o} \\;\\;\\; \\text{ always negative (in compression)} \\\\\n",
    "𝜎_{𝜃𝜃}&=\\frac{b^{2} (r^2 + a^2) }{r^{2} (a^2 - b^2)} p_{o} \\;\\;\\; \\text{ always positive (in tension)}\n",
    "\\end{split}\n",
    "\\end{equation} "
   ]
  },
  {
   "cell_type": "code",
   "execution_count": 24,
   "id": "feed8f8c",
   "metadata": {
    "ExecuteTime": {
     "end_time": "2023-10-13T12:12:24.681036Z",
     "start_time": "2023-10-13T12:12:23.165589Z"
    }
   },
   "outputs": [
    {
     "data": {
      "image/png": "[encoded data removed]",
      "text/plain": [
       "<Figure size 2000x1250 with 1 Axes>"
      ]
     },
     "metadata": {},
     "output_type": "display_data"
    }
   ],
   "source": [
    "# SymPy expressions to Python functions: \n",
    "func1 = sp.lambdify(r, 𝜎_rrpi.subs({a:1, b:5, pi:1}), 'numpy')\n",
    "func2 = sp.lambdify(r, 𝜎_𝜃𝜃pi.subs({a:1, b:5, pi:1}), 'numpy')\n",
    "\n",
    "labels=[r'$𝜎_{rr},a=1,b=5,pi=1$',r'$𝜎_{𝜃𝜃},a=1,b=5,pi=1$']\n",
    "\n",
    "x_data  = np.linspace(1, 5, 400)              #  r values for the plot\n",
    "y_data = [func1(x_data), func2(x_data)]                 # funcs values \n",
    "\n",
    "gr.plot_fs(x_data, y_data, labels, 'r', 'stresses', 'Disk_pi')"
   ]
  },
  {
   "cell_type": "markdown",
   "id": "94f42d3b",
   "metadata": {},
   "source": [
    "We notice a few important findings from Eq.(\\ref{eqDisk_po}):\n",
    "\n",
    "1. $𝜎_{rr}$ is always negative, meaning that the disk is compressed in the axial direction. \n",
    "\n",
    "2. $𝜎_{𝜃𝜃}$ is always positive, meaning that the disk is stretched in the hoop direction, known as the **hoop stress**.\n",
    "\n",
    "3. $𝜎_{𝜃𝜃}$ has a maximum at the inner surface: \n",
    "\n",
    "\\begin{equation} \\label{eqHoopMax}\n",
    "𝜎_{𝜃𝜃}^{max}=\\frac{(a^2+b^2)p_i}{ b^2 - a^2}  \n",
    "\\end{equation} \n",
    "\n",
    "4. $𝜎_{𝜃𝜃}^{max}$ is always larger than $p_i$. It reduces with increasing $b$, but will never be reduced below $p_i$, however much material is added outside.\n",
    "\n",
    "5. $𝜎_{𝜃𝜃}^{max}$ approaches $\\infty$, when $b \\to a$. This means that the hoop stress grows very fast with respect to the inner pressure, if the disk is very thin. This is why a balloon can be inflated effectively with the internal pressure. \n",
    "\n",
    "This solution of Eq.(\\ref{eqDisk_po}) will be used later when studying stress concentration on a hole in plates."
   ]
  },
  {
   "cell_type": "markdown",
   "id": "85f69886",
   "metadata": {},
   "source": [
    "##### Displacement solution\n",
    "\n",
    "By substituting $c_0$ and $c_2$ into Eq.(\\ref{equv}), we obtain the formula for the displacement. "
   ]
  },
  {
   "cell_type": "code",
   "execution_count": 48,
   "id": "62ad9e55",
   "metadata": {
    "ExecuteTime": {
     "end_time": "2023-10-12T21:14:29.025399Z",
     "start_time": "2023-10-12T21:14:26.290952Z"
    },
    "scrolled": true
   },
   "outputs": [
    {
     "data": {
      "image/png": "[encoded data removed]",
      "text/latex": [
       "$\\displaystyle \\frac{p_{i} \\left(- a^{2} b^{2} 𝜈 - a^{2} b^{2} + a^{2} r^{2} 𝜈 - a^{2} r^{2}\\right) + p_{o} \\left(a^{2} b^{2} 𝜈 + a^{2} b^{2} - b^{2} r^{2} 𝜈 + b^{2} r^{2}\\right)}{E r \\left(a^{2} - b^{2}\\right)}$"
      ],
      "text/plain": [
       "   ⎛   2  2      2  2    2  2      2  2⎞      ⎛ 2  2      2  2    2  2      2 \n",
       "pᵢ⋅⎝- a ⋅b ⋅𝜈 - a ⋅b  + a ⋅r ⋅𝜈 - a ⋅r ⎠ + pₒ⋅⎝a ⋅b ⋅𝜈 + a ⋅b  - b ⋅r ⋅𝜈 + b ⋅\n",
       "──────────────────────────────────────────────────────────────────────────────\n",
       "                                      ⎛ 2    2⎞                               \n",
       "                                  E⋅r⋅⎝a  - b ⎠                               \n",
       "\n",
       " 2⎞\n",
       "r ⎠\n",
       "───\n",
       "   \n",
       "   "
      ]
     },
     "execution_count": 48,
     "metadata": {},
     "output_type": "execute_result"
    }
   ],
   "source": [
    "u_rpipo = u_rg.subs({c0:cs[c0], c2:cs[c2]}).expand()\n",
    "u_rpipo.factor(pi, po)"
   ]
  },
  {
   "cell_type": "markdown",
   "id": "11e26c33",
   "metadata": {},
   "source": [
    "Rearranging the terms in the result, we have\n",
    "\n",
    "\\begin{equation} \\label{equvf}\n",
    "\\begin{split}\n",
    "u_r&=\\frac{1}{E(a^2 - b^2)} \\bigg[ p_{i} \\bigg( a^2 (𝜈-1)r - a^2 b^2 (1+𝜈)\\frac{1}{r} \\bigg) \\\\\n",
    "&+ p_{o} \\left(b^2 (1-𝜈) r+a^2 b^2 (1+𝜈)\\frac{1}{r} \\right) \\bigg]\n",
    "\\end{split}\n",
    "\\end{equation} \n",
    "\n",
    "This formula allow us to conveniently set either $p_i$ or $p_o$ to zero. "
   ]
  }
 ],
 "metadata": {
  "kernelspec": {
   "display_name": "Python 3 (ipykernel)",
   "language": "python",
   "name": "python3"
  },
  "language_info": {
   "codemirror_mode": {
    "name": "ipython",
    "version": 3
   },
   "file_extension": ".py",
   "mimetype": "text/x-python",
   "name": "python",
   "nbconvert_exporter": "python",
   "pygments_lexer": "ipython3",
   "version": "3.9.16"
  },
  "latex_envs": {
   "LaTeX_envs_menu_present": true,
   "autoclose": true,
   "autocomplete": true,
   "bibliofile": "../biblio.bib",
   "cite_by": "apalike",
   "current_citInitial": 1,
   "eqLabelWithNumbers": true,
   "eqNumInitial": 1,
   "hotkeys": {
    "equation": "Ctrl-E",
    "itemize": "Ctrl-I"
   },
   "labels_anchors": false,
   "latex_user_defs": false,
   "report_style_numbering": true,
   "user_envs_cfg": false
  },
  "toc": {
   "base_numbering": "5",
   "nav_menu": {},
   "number_sections": true,
   "sideBar": true,
   "skip_h1_title": true,
   "title_cell": "Table of Contents",
   "title_sidebar": "Contents",
   "toc_cell": true,
   "toc_position": {
    "height": "calc(100% - 180px)",
    "left": "10px",
    "top": "150px",
    "width": "263.239px"
   },
   "toc_section_display": true,
   "toc_window_display": false
  },
  "varInspector": {
   "cols": {
    "lenName": 16,
    "lenType": 16,
    "lenVar": 40
   },
   "kernels_config": {
    "python": {
     "delete_cmd_postfix": "",
     "delete_cmd_prefix": "del ",
     "library": "var_list.py",
     "varRefreshCmd": "print(var_dic_list())"
    },
    "r": {
     "delete_cmd_postfix": ") ",
     "delete_cmd_prefix": "rm(",
     "library": "var_list.r",
     "varRefreshCmd": "cat(var_dic_list()) "
    }
   },
   "types_to_exclude": [
    "module",
    "function",
    "builtin_function_or_method",
    "instance",
    "_Feature"
   ],
   "window_display": false
  }
 },
 "nbformat": 4,
 "nbformat_minor": 5
}
