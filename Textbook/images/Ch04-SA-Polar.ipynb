{
 "cells": [
  {
   "cell_type": "markdown",
   "id": "63b221f5",
   "metadata": {
    "toc": true
   },
   "source": [
    "<h1>Table of Contents<span class=\"tocSkip\"></span></h1>\n",
    "<div class=\"toc\"><ul class=\"toc-item\"><li><span><a href=\"#Formulation-and-Solution-in-Curvilinear-Coordinates\" data-toc-modified-id=\"Formulation-and-Solution-in-Curvilinear-Coordinates-4\"><span class=\"toc-item-num\">4&nbsp;&nbsp;</span>Formulation and Solution in Curvilinear Coordinates</a></span><ul class=\"toc-item\"><li><span><a href=\"#Polar-coordinate-system\" data-toc-modified-id=\"Polar-coordinate-system-4.1\"><span class=\"toc-item-num\">4.1&nbsp;&nbsp;</span>Polar coordinate system</a></span><ul class=\"toc-item\"><li><span><a href=\"#Transformation-between-coordinates-in-Cartesian-and-polar--systems\" data-toc-modified-id=\"Transformation-between-coordinates-in-Cartesian-and-polar--systems-4.1.1\"><span class=\"toc-item-num\">4.1.1&nbsp;&nbsp;</span>Transformation between coordinates in Cartesian and polar  systems</a></span></li><li><span><a href=\"#Sympy-definition\" data-toc-modified-id=\"Sympy-definition-4.1.2\"><span class=\"toc-item-num\">4.1.2&nbsp;&nbsp;</span>Sympy definition</a></span></li><li><span><a href=\"#Jacobian-matrix,-derivatives-of-coordinates-of-Cartesian-and-polar-systems\" data-toc-modified-id=\"Jacobian-matrix,-derivatives-of-coordinates-of-Cartesian-and-polar-systems-4.1.3\"><span class=\"toc-item-num\">4.1.3&nbsp;&nbsp;</span>Jacobian matrix, derivatives of coordinates of Cartesian and polar systems</a></span><ul class=\"toc-item\"><li><span><a href=\"#General-definition-of-Jacobian-matrix\" data-toc-modified-id=\"General-definition-of-Jacobian-matrix-4.1.3.1\"><span class=\"toc-item-num\">4.1.3.1&nbsp;&nbsp;</span>General definition of Jacobian matrix</a></span></li><li><span><a href=\"#Vectors-of-coordinate-functions\" data-toc-modified-id=\"Vectors-of-coordinate-functions-4.1.3.2\"><span class=\"toc-item-num\">4.1.3.2&nbsp;&nbsp;</span>Vectors of coordinate functions</a></span></li></ul></li><li><span><a href=\"#Transformation-of-gradient-of-a-function-between-Cartesian-and--polar-coordinates\" data-toc-modified-id=\"Transformation-of-gradient-of-a-function-between-Cartesian-and--polar-coordinates-4.1.4\"><span class=\"toc-item-num\">4.1.4&nbsp;&nbsp;</span>Transformation of gradient of a function between Cartesian and  polar coordinates</a></span></li></ul></li><li><span><a href=\"#Displacements-in-polar-coordinate-system\" data-toc-modified-id=\"Displacements-in-polar-coordinate-system-4.2\"><span class=\"toc-item-num\">4.2&nbsp;&nbsp;</span>Displacements in polar coordinate system</a></span></li><li><span><a href=\"#Strains-in-the-polar-coordinate-system\" data-toc-modified-id=\"Strains-in-the-polar-coordinate-system-4.3\"><span class=\"toc-item-num\">4.3&nbsp;&nbsp;</span>Strains in the polar coordinate system</a></span><ul class=\"toc-item\"><li><span><a href=\"#Strategy-for-deriving-$ε_{rr}$\" data-toc-modified-id=\"Strategy-for-deriving-$ε_{rr}$-4.3.1\"><span class=\"toc-item-num\">4.3.1&nbsp;&nbsp;</span>Strategy for deriving $ε_{rr}$</a></span></li><li><span><a href=\"#Sympy-code-for-deriving-$ε_{rr}$\" data-toc-modified-id=\"Sympy-code-for-deriving-$ε_{rr}$-4.3.2\"><span class=\"toc-item-num\">4.3.2&nbsp;&nbsp;</span>Sympy code for deriving $ε_{rr}$</a></span></li><li><span><a href=\"#Strategy-for-deriving-$ε_{𝜃𝜃}$\" data-toc-modified-id=\"Strategy-for-deriving-$ε_{𝜃𝜃}$-4.3.3\"><span class=\"toc-item-num\">4.3.3&nbsp;&nbsp;</span>Strategy for deriving $ε_{𝜃𝜃}$</a></span></li><li><span><a href=\"#Sympy-code-for-deriving-$ε_{𝜃𝜃}$\" data-toc-modified-id=\"Sympy-code-for-deriving-$ε_{𝜃𝜃}$-4.3.4\"><span class=\"toc-item-num\">4.3.4&nbsp;&nbsp;</span>Sympy code for deriving $ε_{𝜃𝜃}$</a></span></li><li><span><a href=\"#Strategy-for-deriving-$ε_{r𝜃}$\" data-toc-modified-id=\"Strategy-for-deriving-$ε_{r𝜃}$-4.3.5\"><span class=\"toc-item-num\">4.3.5&nbsp;&nbsp;</span>Strategy for deriving $ε_{r𝜃}$</a></span></li><li><span><a href=\"#Sympy-code-for-deriving-$ε_{r𝜃}$\" data-toc-modified-id=\"Sympy-code-for-deriving-$ε_{r𝜃}$-4.3.6\"><span class=\"toc-item-num\">4.3.6&nbsp;&nbsp;</span>Sympy code for deriving $ε_{r𝜃}$</a></span></li></ul></li><li><span><a href=\"#Relations-of-the-1st-derivatives-of-vector-components-in-Cartesian-and-polar-coordinates\" data-toc-modified-id=\"Relations-of-the-1st-derivatives-of-vector-components-in-Cartesian-and-polar-coordinates-4.4\"><span class=\"toc-item-num\">4.4&nbsp;&nbsp;</span>Relations of the 1st derivatives of vector components in Cartesian and polar coordinates</a></span></li><li><span><a href=\"#Derivatives-of-a-scalar-function-in-cylindrical-coordinate\" data-toc-modified-id=\"Derivatives-of-a-scalar-function-in-cylindrical-coordinate-4.5\"><span class=\"toc-item-num\">4.5&nbsp;&nbsp;</span>Derivatives of a scalar function in cylindrical coordinate</a></span><ul class=\"toc-item\"><li><span><a href=\"#Coordinates-and-Jacobian-matrix\" data-toc-modified-id=\"Coordinates-and-Jacobian-matrix-4.5.1\"><span class=\"toc-item-num\">4.5.1&nbsp;&nbsp;</span>Coordinates and Jacobian matrix</a></span></li><li><span><a href=\"#Gradient-of-a-scalar-function\" data-toc-modified-id=\"Gradient-of-a-scalar-function-4.5.2\"><span class=\"toc-item-num\">4.5.2&nbsp;&nbsp;</span>Gradient of a scalar function</a></span></li><li><span><a href=\"#Hessian-matrix-of-a-scalar-function\" data-toc-modified-id=\"Hessian-matrix-of-a-scalar-function-4.5.3\"><span class=\"toc-item-num\">4.5.3&nbsp;&nbsp;</span>Hessian matrix of a scalar function</a></span></li><li><span><a href=\"#Laplace-operator-in-polar-coordinate\" data-toc-modified-id=\"Laplace-operator-in-polar-coordinate-4.5.4\"><span class=\"toc-item-num\">4.5.4&nbsp;&nbsp;</span>Laplace operator in polar coordinate</a></span></li><li><span><a href=\"#Bi-harmonic-in-polar-coordinate\" data-toc-modified-id=\"Bi-harmonic-in-polar-coordinate-4.5.5\"><span class=\"toc-item-num\">4.5.5&nbsp;&nbsp;</span>Bi-harmonic in polar coordinate</a></span></li></ul></li><li><span><a href=\"#Stresses-in-the-cylindrical-coordinate-system\" data-toc-modified-id=\"Stresses-in-the-cylindrical-coordinate-system-4.6\"><span class=\"toc-item-num\">4.6&nbsp;&nbsp;</span>Stresses in the cylindrical coordinate system</a></span><ul class=\"toc-item\"><li><span><a href=\"#Stress-functions-defined-in--the-cylindrical-coordinate-system\" data-toc-modified-id=\"Stress-functions-defined-in--the-cylindrical-coordinate-system-4.6.1\"><span class=\"toc-item-num\">4.6.1&nbsp;&nbsp;</span>Stress functions defined in  the cylindrical coordinate system</a></span></li><li><span><a href=\"#Equilibrium-equations-in-the-cylindrical-coordinate-system\" data-toc-modified-id=\"Equilibrium-equations-in-the-cylindrical-coordinate-system-4.6.2\"><span class=\"toc-item-num\">4.6.2&nbsp;&nbsp;</span>Equilibrium equations in the cylindrical coordinate system</a></span></li></ul></li><li><span><a href=\"#Derivatives-of-a-scalar-function-in-spherical-coordinate\" data-toc-modified-id=\"Derivatives-of-a-scalar-function-in-spherical-coordinate-4.7\"><span class=\"toc-item-num\">4.7&nbsp;&nbsp;</span>Derivatives of a scalar function in spherical coordinate</a></span><ul class=\"toc-item\"><li><span><a href=\"#Spherical-coordinates\" data-toc-modified-id=\"Spherical-coordinates-4.7.1\"><span class=\"toc-item-num\">4.7.1&nbsp;&nbsp;</span>Spherical coordinates</a></span></li><li><span><a href=\"#Laplace-operator-in--spherical-coordinates\" data-toc-modified-id=\"Laplace-operator-in--spherical-coordinates-4.7.2\"><span class=\"toc-item-num\">4.7.2&nbsp;&nbsp;</span>Laplace operator in  spherical coordinates</a></span></li></ul></li><li><span><a href=\"#Stresses-in-the-spherical-coordinate-system\" data-toc-modified-id=\"Stresses-in-the-spherical-coordinate-system-4.8\"><span class=\"toc-item-num\">4.8&nbsp;&nbsp;</span>Stresses in the spherical coordinate system</a></span><ul class=\"toc-item\"><li><span><a href=\"#Stress-functions-defined-in--the-spherical-coordinate-system\" data-toc-modified-id=\"Stress-functions-defined-in--the-spherical-coordinate-system-4.8.1\"><span class=\"toc-item-num\">4.8.1&nbsp;&nbsp;</span>Stress functions defined in  the spherical coordinate system</a></span></li><li><span><a href=\"#Equilibrium-equations-in-the-spherical-coordinate-system\" data-toc-modified-id=\"Equilibrium-equations-in-the-spherical-coordinate-system-4.8.2\"><span class=\"toc-item-num\">4.8.2&nbsp;&nbsp;</span>Equilibrium equations in the spherical coordinate system</a></span></li></ul></li><li><span><a href=\"#Other-useful-equations-in-polar-coordinates\" data-toc-modified-id=\"Other-useful-equations-in-polar-coordinates-4.9\"><span class=\"toc-item-num\">4.9&nbsp;&nbsp;</span>Other useful equations in polar coordinates</a></span><ul class=\"toc-item\"><li><span><a href=\"#Stresses-in-stress-functions-in-the-polar-coordinate-system\" data-toc-modified-id=\"Stresses-in-stress-functions-in-the-polar-coordinate-system-4.9.1\"><span class=\"toc-item-num\">4.9.1&nbsp;&nbsp;</span>Stresses in stress functions in the polar coordinate system</a></span></li><li><span><a href=\"#Compatibility-equations-in-terms-of-stresses-in-the-polar-coordinates\" data-toc-modified-id=\"Compatibility-equations-in-terms-of-stresses-in-the-polar-coordinates-4.9.2\"><span class=\"toc-item-num\">4.9.2&nbsp;&nbsp;</span>Compatibility equations in terms of stresses in the polar coordinates</a></span></li><li><span><a href=\"#Compatibility-equations--in-terms-of-stress-function--in-the-polar-coordinates\" data-toc-modified-id=\"Compatibility-equations--in-terms-of-stress-function--in-the-polar-coordinates-4.9.3\"><span class=\"toc-item-num\">4.9.3&nbsp;&nbsp;</span>Compatibility equations  in terms of stress function  in the polar coordinates</a></span></li></ul></li><li><span><a href=\"#Solution-strategy-in-solving-problems-in-polar-coordinates\" data-toc-modified-id=\"Solution-strategy-in-solving-problems-in-polar-coordinates-4.10\"><span class=\"toc-item-num\">4.10&nbsp;&nbsp;</span>Solution strategy in solving problems in polar coordinates</a></span></li></ul></li></ul></div>"
   ]
  },
  {
   "cell_type": "markdown",
   "id": "4210117c",
   "metadata": {},
   "source": [
    "## Formulation and Solution in Curvilinear Coordinates"
   ]
  },
  {
   "cell_type": "markdown",
   "id": "8ef4fafc",
   "metadata": {},
   "source": [
    "In the previous chapter, we have found useful solutions to some solid mechanics problems, and also experienced difficulties when solving problems in multi-dimensions. It is found that for quite a large class of problems, we can formulate and solve them in different coordinate systems. For example, if the problem domain is axial symmetric, one can use cylindrical coordinate system, and the equations can be converted into one-dimensional and solved. \n",
    "\n",
    "There are many types of coordinate systems, for different types of problems. One of the often used set of coordinate systems is known as the orthogonal curvilinear coordinate systems, including the Cartesian, polar, cylindrical, and spherical coordinate systems, just to mane a few. Many studies have been carried out in the past, and interested readers may explore starting from the wikipage on [Curvilinear coordinates](https://en.wikipedia.org/wiki/Curvilinear_coordinate). Useful Python tools are also available at [Continuum Mechanics](https://continuum-mechanics.readthedocs.io), which will also be used in this book. \n",
    "\n",
    "In essence, in an orthogonal curvilinear coordinate system each point is an intersection of three curved surfaces. These surfaces intersect each other at right angles at least locally. The curves of these surface intersections become the curved coordinate axes. Each coordinate carries a so-called **scale factor** denoted as $(\\alpha, \\beta, \\gamma)$ in 3D. For the Cartesian coordinates $(x, y, z)$, the three scale factors are (1, 1, 1), and hence is treated as the base coordinate system. Any other curvilinear coordinate, each of the factors are, in general, functions of $x, y, z$. These scale factors play a key role in transformations between a curvilinear coordinate system and the Cartesian coordinate system. With proper transformations, many expressions derived in the Cartesian coordinate system can be used to derive the corresponding ones in the curvilinear coordinate system, which will be done often in this book. With this simply introduction, we are now ready to present formulations and solutions in curvilinear coordinates, with focuses on polar and cylindrical coordinate systems, which are most often used. The procedures, techniques, and Python codes presented are important and can be extended to any other curvilinear coordinate systems.  "
   ]
  },
  {
   "cell_type": "markdown",
   "id": "a93dd2c2",
   "metadata": {},
   "source": [
    "Let us import necessary external modules or dependence for later use in this chapter."
   ]
  },
  {
   "cell_type": "code",
   "execution_count": 2,
   "id": "1e29c217",
   "metadata": {
    "ExecuteTime": {
     "end_time": "2023-10-12T10:30:34.732607Z",
     "start_time": "2023-10-12T10:30:34.513031Z"
    }
   },
   "outputs": [],
   "source": [
    "# Place curse in this cell, and press Ctrl+Enter to import dependences. \n",
    "import sys                         # for accessing the computer system\n",
    "sys.path.append('../grbin/')  # Change to the directory in your system \n",
    "\n",
    "from commonImports import *      # Import dependences from '../grbin/'\n",
    "import grcodes as gr                 # Import the module of the author\n",
    "#importlib.reload(gr)            # When grcodes is modified, reload it\n",
    "\n",
    "from continuum_mechanics import vector \n",
    "from continuum_mechanics.solids import sym_grad, strain_stress\n",
    "init_printing(use_unicode=True)      # For latex-like quality printing \n",
    "np.set_printoptions(precision=4,suppress=True)  # Digits in print-outs"
   ]
  },
  {
   "cell_type": "markdown",
   "id": "124831ef",
   "metadata": {},
   "source": [
    "### Polar coordinate system\n",
    "\n",
    "#### Transformation between coordinates in Cartesian and polar  systems\n",
    "\n",
    "Polar coordinate system is the simplest curvilinear coordinate system. As a start, we present procedures, techniques, and Pyhon codes for polar coordinate system, in relation to the Cartesian coordinate system that are familiar to us. \n",
    "\n",
    "Assume polar coordinates $r$ and $\\theta$ is defined in the Cartesian coordinate system $x$ and $y$, as shown in Fig.\\ref{image:Polar_xy}. \n",
    "\n",
    "<img src=\"./images/Polar_xy.png\" alt=\" \" width=\"250\"/><br>\n",
    "\\begin{figure}\n",
    "  \\includegraphics[width=5cm]{}\n",
    "  \\caption{\\label{image:Polar_xy} Polar coordinate system defined in the Cartesian coordinate system.}\n",
    "\\end{figure}"
   ]
  },
  {
   "cell_type": "markdown",
   "id": "c83a0226",
   "metadata": {},
   "source": [
    "Consider a point $P$ in $\\mathbb{R}^2$. It is represented in the Cartesian coordinates by $(x, y)$. The same point is represented in the polar coordinates by $(r, \\theta)$. Both sets of coordinate systems share the same origin $(0, 0)$. The relation between these two sets of coordinates can be found via geometric relations. When $x$ and $y$ are written in $r$ and $\\theta$, we have:\n",
    "\n",
    "\\begin{equation} \\label{eqxyrt}\n",
    "x = r\\cos\\theta, \\;\\; y = r\\sin\\theta\n",
    "\\end{equation}  \n",
    "\n",
    "When $r$ and $\\theta$ are expressed in $x$ and $y$, we have: \n",
    "\n",
    "\\begin{equation} \\label{eqrtxy}\n",
    "r = \\sqrt{x^2+y^2}, \\;\\; \\theta=\\arctan\\tfrac{y}{x}\n",
    "\\end{equation} \n",
    "\n",
    "where $0\\le r \\lt \\infty$, and $0\\le \\theta \\lt 2\\pi$ with $\\theta=\\pi/2$ for $x=0$ and $y>0$, and $\\theta=\\tfrac{3\\pi}{2}$ for $x=0$ and $y<0$. It is clear that $r$ and $\\theta$ are a functions of $x$ and $y$ and differentiable, and vice versa. "
   ]
  },
  {
   "cell_type": "markdown",
   "id": "596ab21f",
   "metadata": {
    "ExecuteTime": {
     "end_time": "2023-09-30T00:43:00.328593Z",
     "start_time": "2023-09-30T00:43:00.305655Z"
    }
   },
   "source": [
    "#### Sympy definition"
   ]
  },
  {
   "cell_type": "code",
   "execution_count": 5,
   "id": "3db20267",
   "metadata": {
    "ExecuteTime": {
     "end_time": "2023-10-12T10:39:18.685721Z",
     "start_time": "2023-10-12T10:39:18.671710Z"
    }
   },
   "outputs": [],
   "source": [
    "x, y, 𝜃=sp.symbols('x, y, 𝜃', real=True)   # define symbolic variables\n",
    "r = sp.symbols('r', nonnegative=True)"
   ]
  },
  {
   "cell_type": "code",
   "execution_count": 6,
   "id": "9cc745ba",
   "metadata": {
    "ExecuteTime": {
     "end_time": "2023-10-12T10:39:25.928056Z",
     "start_time": "2023-10-12T10:39:20.012004Z"
    }
   },
   "outputs": [
    {
     "name": "stdout",
     "output_type": "stream",
     "text": [
      "[x, y]^T:\n"
     ]
    },
    {
     "data": {
      "text/latex": [
       "$\\displaystyle \\left[\\begin{matrix}r \\cos{\\left(𝜃 \\right)}\\\\r \\sin{\\left(𝜃 \\right)}\\end{matrix}\\right]$"
      ],
      "text/plain": [
       "⎡r⋅cos(𝜃)⎤\n",
       "⎢        ⎥\n",
       "⎣r⋅sin(𝜃)⎦"
      ]
     },
     "execution_count": 6,
     "metadata": {},
     "output_type": "execute_result"
    }
   ],
   "source": [
    "fx = r*sp.cos(𝜃)              # fx: Carte. coord. x expressed in polar\n",
    "fy = r*sp.sin(𝜃)    \n",
    "fc = sp.Matrix([fx,fy])    # vector of Carte. coords. written in polar\n",
    "gr.printM(fc, \"[x, y]^T:\")"
   ]
  },
  {
   "cell_type": "code",
   "execution_count": 7,
   "id": "4613e258",
   "metadata": {
    "ExecuteTime": {
     "end_time": "2023-10-12T10:41:18.600874Z",
     "start_time": "2023-10-12T10:41:15.759824Z"
    }
   },
   "outputs": [
    {
     "name": "stdout",
     "output_type": "stream",
     "text": [
      "[r, 𝜃]^T:\n"
     ]
    },
    {
     "data": {
      "image/png": "[encoded data removed]",
      "text/latex": [
       "$\\displaystyle \\left[\\begin{matrix}\\sqrt{x^{2} + y^{2}}\\\\\\operatorname{atan}{\\left(\\frac{y}{x} \\right)}\\end{matrix}\\right]$"
      ],
      "text/plain": [
       "⎡   _________⎤\n",
       "⎢  ╱  2    2 ⎥\n",
       "⎢╲╱  x  + y  ⎥\n",
       "⎢            ⎥\n",
       "⎢      ⎛y⎞   ⎥\n",
       "⎢  atan⎜─⎟   ⎥\n",
       "⎣      ⎝x⎠   ⎦"
      ]
     },
     "execution_count": 7,
     "metadata": {},
     "output_type": "execute_result"
    }
   ],
   "source": [
    "fr=sp.sqrt(x**2+y**2)      # fr: polar coord. x expressed in Cartesian\n",
    "f𝜃=sp.atan(y/x)\n",
    "fp = sp.Matrix([fr,f𝜃])    # vector of polar coords. written in Carte.\n",
    "gr.printM(fp, \"[r, 𝜃]^T:\")"
   ]
  },
  {
   "cell_type": "markdown",
   "id": "fa9b9449",
   "metadata": {},
   "source": [
    "#### Jacobian matrix, derivatives of coordinates of Cartesian and polar systems\n",
    "\n",
    "In addition to the transformation between the coordinates, the derivatives of coordinates in Cartesian and polar coordinate system are extremely useful in our derivations. Such derivatives form the well-known **Jacobian matrix**. "
   ]
  },
  {
   "cell_type": "markdown",
   "id": "0987f2e5",
   "metadata": {},
   "source": [
    "##### General definition of Jacobian matrix"
   ]
  },
  {
   "cell_type": "markdown",
   "id": "967c911b",
   "metadata": {},
   "source": [
    "Because the Jacobian matrix is used in many types of problem, including solid mechanics, it may be worth to establish its general definition. \n",
    "\n",
    "Consider an arbitrary vector of differentiable functions of several variables. We known that the gradient of such an vector is a matrix. It contains all its first-order partial derivatives. Suppose $\\mathbf{f}$ is defined as mapping: $\\mathbb{R}^n \\to \\mathbb{R}^m$."
   ]
  },
  {
   "cell_type": "markdown",
   "id": "533188b3",
   "metadata": {},
   "source": [
    "\\begin{equation} \\label{eqfnm}\n",
    "\\mathbf{f}=\\begin{bmatrix}f_1(x_1, x_2,...,x_n)\\\\ f_2(x_1, x_2,...,x_n) \\\\ \\vdots \\\\ f_m(x_1, x_2,...,x_n)\\end{bmatrix}\n",
    "\\end{equation} "
   ]
  },
  {
   "cell_type": "markdown",
   "id": "81199304",
   "metadata": {},
   "source": [
    "The Jacobian matrix of $\\mathbf{f}$ is defined as an $m\\times n$ matrix, denoted by $\\mathbf{J}$ in the form of \n",
    "\n",
    "\\begin{equation} \\label{eqJ}\n",
    "\\begin{split}\n",
    "\\mathbf{J}&=\\big[J_{ij}\\big]=\\bigg[\\frac{\\partial f_i}{\\partial x_j}\\bigg]=\\begin{bmatrix}\n",
    "\\dfrac{\\partial\\mathbf{f}}{\\partial x_1} &\\dfrac{\\partial\\mathbf{f}}{\\partial x_2} &\\cdots &\\dfrac{\\partial\\mathbf{f}}{\\partial x_{n}}\\end{bmatrix} \\\\\n",
    "&=\\begin{bmatrix}\\nabla^\\top f_{1}\\\\ \\nabla^\\top f_{2}\\\\ \\vdots \\\\ \\nabla^\\top f_{m}\\end{bmatrix}\n",
    "=\\begin{bmatrix}\\dfrac{\\partial f_{1}}{\\partial x_{1}} &\\dfrac{\\partial f_{1}}{\\partial x_{2}}& \\cdots &\\dfrac{\\partial f_{1}}{\\partial x_{n}}\\\\\n",
    "\\dfrac{\\partial f_{2}}{\\partial x_{1}} &\\dfrac{\\partial f_{2}}{\\partial x_{2}}& \\cdots &\\dfrac{\\partial f_{2}}{\\partial x_{n}}\\\\\n",
    "\\vdots &\\vdots &\\ddots &\\vdots \\\\\n",
    "\\dfrac{\\partial f_{m}}{\\partial x_{1}} &\\dfrac{\\partial f_{m}}{\\partial x_{2}} &\\cdots &\\dfrac{\\partial f_{m}}{\\partial x_{n}}\\end{bmatrix}\n",
    "\\end{split}\n",
    "\\end{equation} "
   ]
  },
  {
   "cell_type": "markdown",
   "id": "62fb44d2",
   "metadata": {},
   "source": [
    "##### Vectors of coordinate functions\n",
    "\n",
    "Now, let us form a vector of functions of coordinates as follows.\n",
    "\n",
    "\\begin{equation} \\label{eqfpc}\n",
    "\\mathbf{f}=\\begin{bmatrix}r(x, y)\\\\ \\theta(x, y)\\end{bmatrix}\n",
    "=\\begin{bmatrix}\\sqrt{x^2+y^2}\\\\ \\arctan\\tfrac{y}{x} \\end{bmatrix}\n",
    "\\end{equation} \n",
    "\n",
    "The Jacobian matrix of $\\mathbf{f}$ becomes,  \n",
    "\n",
    "\\begin{equation} \\label{eqJrtxy}\n",
    "\\mathbf{J} =\\begin{bmatrix}\\dfrac{\\partial r}{\\partial x} &\\dfrac{\\partial r}{\\partial y}\\\\\n",
    "\\dfrac{\\partial \\theta}{\\partial x} &\\dfrac{\\partial \\theta}{\\partial y} \\end{bmatrix}\n",
    "\\end{equation} \n",
    "\n",
    "It contains the partial derivatives of $r$ and $\\theta$ with respect to $x$ and $y$. Naturally, the Jacobian matrix is expected useful, when we transform the derivatives of a function in between these two coordinate systems. \n",
    "\n",
    "These derivatives the Jacobian matrix can be obtained easily via differentiation by hand, and even easier by Sympy. "
   ]
  },
  {
   "cell_type": "code",
   "execution_count": 8,
   "id": "4f14c116",
   "metadata": {
    "ExecuteTime": {
     "end_time": "2023-10-12T10:48:56.926964Z",
     "start_time": "2023-10-12T10:48:55.483876Z"
    }
   },
   "outputs": [
    {
     "data": {
      "image/png": "[encoded data removed]",
      "text/latex": [
       "$\\displaystyle \\left[\\begin{matrix}\\frac{x}{\\sqrt{x^{2} + y^{2}}} & \\frac{y}{\\sqrt{x^{2} + y^{2}}}\\\\- \\frac{y}{x^{2} \\left(1 + \\frac{y^{2}}{x^{2}}\\right)} & \\frac{1}{x \\left(1 + \\frac{y^{2}}{x^{2}}\\right)}\\end{matrix}\\right]$"
      ],
      "text/plain": [
       "⎡     x             y      ⎤\n",
       "⎢────────────  ────────────⎥\n",
       "⎢   _________     _________⎥\n",
       "⎢  ╱  2    2     ╱  2    2 ⎥\n",
       "⎢╲╱  x  + y    ╲╱  x  + y  ⎥\n",
       "⎢                          ⎥\n",
       "⎢    -y             1      ⎥\n",
       "⎢───────────    ────────── ⎥\n",
       "⎢   ⎛     2⎞      ⎛     2⎞ ⎥\n",
       "⎢ 2 ⎜    y ⎟      ⎜    y ⎟ ⎥\n",
       "⎢x ⋅⎜1 + ──⎟    x⋅⎜1 + ──⎟ ⎥\n",
       "⎢   ⎜     2⎟      ⎜     2⎟ ⎥\n",
       "⎣   ⎝    x ⎠      ⎝    x ⎠ ⎦"
      ]
     },
     "execution_count": 8,
     "metadata": {},
     "output_type": "execute_result"
    }
   ],
   "source": [
    "J_fp = fp.jacobian([x,y]) \n",
    "J_fp                                                       # print out"
   ]
  },
  {
   "cell_type": "markdown",
   "id": "20c6b929",
   "metadata": {},
   "source": [
    "This is written in $x$ and $y$. It can and is often written in $r$ and $𝜃$:"
   ]
  },
  {
   "cell_type": "code",
   "execution_count": 9,
   "id": "ad5b1fb8",
   "metadata": {
    "ExecuteTime": {
     "end_time": "2023-10-12T10:49:12.699855Z",
     "start_time": "2023-10-12T10:49:11.876052Z"
    }
   },
   "outputs": [
    {
     "data": {
      "text/latex": [
       "$\\displaystyle \\left[\\begin{matrix}\\cos{\\left(𝜃 \\right)} & \\sin{\\left(𝜃 \\right)}\\\\- \\frac{\\sin{\\left(𝜃 \\right)}}{r} & \\frac{\\cos{\\left(𝜃 \\right)}}{r}\\end{matrix}\\right]$"
      ],
      "text/plain": [
       "⎡ cos(𝜃)   sin(𝜃)⎤\n",
       "⎢                ⎥\n",
       "⎢-sin(𝜃)   cos(𝜃)⎥\n",
       "⎢────────  ──────⎥\n",
       "⎣   r        r   ⎦"
      ]
     },
     "execution_count": 9,
     "metadata": {},
     "output_type": "execute_result"
    }
   ],
   "source": [
    "J_fp = simplify(J_fp.subs({x:r*sp.cos(𝜃),y:r*sp.sin(𝜃)}))\n",
    "J_fp                                                       # print out"
   ]
  },
  {
   "cell_type": "markdown",
   "id": "99ae71c3",
   "metadata": {},
   "source": [
    "We can obtain the inverse of the Jacobian matrix with ease: "
   ]
  },
  {
   "cell_type": "code",
   "execution_count": 12,
   "id": "f19d8e4e",
   "metadata": {
    "ExecuteTime": {
     "end_time": "2023-10-03T22:34:08.567828Z",
     "start_time": "2023-10-03T22:34:06.332372Z"
    }
   },
   "outputs": [
    {
     "data": {
      "text/latex": [
       "$\\displaystyle \\left[\\begin{matrix}\\cos{\\left(𝜃 \\right)} & - r \\sin{\\left(𝜃 \\right)}\\\\\\sin{\\left(𝜃 \\right)} & r \\cos{\\left(𝜃 \\right)}\\end{matrix}\\right]$"
      ],
      "text/plain": [
       "⎡cos(𝜃)  -r⋅sin(𝜃)⎤\n",
       "⎢                 ⎥\n",
       "⎣sin(𝜃)  r⋅cos(𝜃) ⎦"
      ]
     },
     "execution_count": 12,
     "metadata": {},
     "output_type": "execute_result"
    }
   ],
   "source": [
    "sp.simplify(J_fp.inv())"
   ]
  },
  {
   "cell_type": "markdown",
   "id": "6144fa82",
   "metadata": {},
   "source": [
    "Alternatively, let us do the reverse transformation: write $x$ and $y$ in terms of $r$ and $\\theta$, and then compute the Jacobian matrix. "
   ]
  },
  {
   "cell_type": "code",
   "execution_count": 50,
   "id": "66f5ce5b",
   "metadata": {
    "ExecuteTime": {
     "end_time": "2023-10-02T18:02:12.969324Z",
     "start_time": "2023-10-02T18:02:10.523027Z"
    }
   },
   "outputs": [
    {
     "data": {
      "text/latex": [
       "$\\displaystyle \\left[\\begin{matrix}\\cos{\\left(𝜃 \\right)} & - r \\sin{\\left(𝜃 \\right)}\\\\\\sin{\\left(𝜃 \\right)} & r \\cos{\\left(𝜃 \\right)}\\end{matrix}\\right]$"
      ],
      "text/plain": [
       "⎡cos(𝜃)  -r⋅sin(𝜃)⎤\n",
       "⎢                 ⎥\n",
       "⎣sin(𝜃)  r⋅cos(𝜃) ⎦"
      ]
     },
     "execution_count": 50,
     "metadata": {},
     "output_type": "execute_result"
    }
   ],
   "source": [
    "J_fc = fc.jacobian([r,𝜃])\n",
    "J_fc"
   ]
  },
  {
   "cell_type": "markdown",
   "id": "6a923e36",
   "metadata": {},
   "source": [
    "This is the inverse of J_fp obtained earlier, as expected. Notice that the Jacobian is not unitary, which is different from the coordinate transformation matrix $\\mathbf{T}$ discussed earlier. "
   ]
  },
  {
   "cell_type": "markdown",
   "id": "aad2cc8e",
   "metadata": {},
   "source": [
    "#### Transformation of gradient of a function between Cartesian and  polar coordinates\n",
    "\n",
    "Consider a scalar function $f$ that is given in Cartesian coordinates $x$ and $y$. The same function can be easily written as a function of $r$ and $\\theta$, by using Eq.(\\ref{eqxyrt}). Often, we need to write the gradient (derivatives) of the function with respect to $x$ and $y$, in terms of $r$, $\\theta$ and the gradient  of the function with respect to $r$ and $\\theta$. This can be done by the chain rule of differentiation: \n",
    "\n",
    "\\begin{equation} \\label{eqdfcp}\n",
    "\\dfrac{\\partial f}{\\partial x} = \\dfrac{\\partial f}{\\partial r}\\dfrac{\\partial r}{\\partial x} +\\dfrac{\\partial f}{\\partial \\theta}\\dfrac{\\partial \\theta}{\\partial x} =\\dfrac{\\partial f}{\\partial r}\\cos\\theta -\\dfrac{\\partial f}{\\partial \\theta}\\dfrac{\\sin\\theta}{r} \\\\\n",
    "\\dfrac{\\partial f}{\\partial y} = \\dfrac{\\partial f}{\\partial r}\\dfrac{\\partial r}{\\partial y} +\\dfrac{\\partial f}{\\partial \\theta}\\dfrac{\\partial \\theta}{\\partial y} =\\dfrac{\\partial f}{\\partial r}\\sin\\theta +\\dfrac{\\partial f}{\\partial \\theta}\\dfrac{\\cos\\theta}{r} \n",
    "\\end{equation}  "
   ]
  },
  {
   "cell_type": "markdown",
   "id": "9d9e1720",
   "metadata": {},
   "source": [
    "In matrix form, it becomes:\n",
    "\n",
    "\\begin{equation} \\label{eqdfcpM}\n",
    "\\begin{bmatrix}\\dfrac{\\partial f}{\\partial x}\\\\ \\dfrac{\\partial f}{\\partial y} \\end{bmatrix}\n",
    "=  \\left[\\begin{matrix}\\cos{\\left(𝜃 \\right)} & - \\frac{\\sin{\\left(𝜃 \\right)}}{r}\\\\\\sin{\\left(𝜃 \\right)} & \\frac{\\cos{\\left(𝜃 \\right)}}{r}\\end{matrix}\\right] \\begin{bmatrix}\\dfrac{\\partial f}{\\partial r}\\\\ \\dfrac{\\partial f}{\\partial \\theta} \\end{bmatrix} = \\mathbf{J}^\\top \\begin{bmatrix}\\dfrac{\\partial f}{\\partial r}\\\\ \\dfrac{\\partial f}{\\partial \\theta} \\end{bmatrix}\n",
    "\\end{equation} \n",
    "\n",
    "This is one of the many cases where the Jacobian matrix is useful. We can use the following code to get this gradient transformation done. "
   ]
  },
  {
   "cell_type": "code",
   "execution_count": 10,
   "id": "8ae29df7",
   "metadata": {
    "ExecuteTime": {
     "end_time": "2023-10-12T10:57:53.161958Z",
     "start_time": "2023-10-12T10:57:52.460335Z"
    }
   },
   "outputs": [
    {
     "data": {
      "text/latex": [
       "$\\displaystyle \\left[\\begin{matrix}\\frac{\\partial}{\\partial r} f{\\left(r,𝜃 \\right)}\\\\\\frac{\\partial}{\\partial 𝜃} f{\\left(r,𝜃 \\right)}\\end{matrix}\\right]$"
      ],
      "text/plain": [
       "⎡∂          ⎤\n",
       "⎢──(f(r, 𝜃))⎥\n",
       "⎢∂r         ⎥\n",
       "⎢           ⎥\n",
       "⎢∂          ⎥\n",
       "⎢──(f(r, 𝜃))⎥\n",
       "⎣∂𝜃         ⎦"
      ]
     },
     "execution_count": 10,
     "metadata": {},
     "output_type": "execute_result"
    }
   ],
   "source": [
    "f       = sp.Function('f')(r,𝜃)                 # any scalar function\n",
    "f_r,f_𝜃 = sp.diff(f,r), sp.diff(f,𝜃)                # its derivatives\n",
    "f_rt    = sp.Matrix([f_r, f_𝜃])                      # for the vector\n",
    "f_rt"
   ]
  },
  {
   "cell_type": "code",
   "execution_count": 14,
   "id": "8ce88dbe",
   "metadata": {
    "ExecuteTime": {
     "end_time": "2023-10-03T22:34:21.643799Z",
     "start_time": "2023-10-03T22:34:19.232994Z"
    }
   },
   "outputs": [
    {
     "data": {
      "text/latex": [
       "$\\displaystyle \\left[\\begin{matrix}\\cos{\\left(𝜃 \\right)} \\frac{\\partial}{\\partial r} f{\\left(r,𝜃 \\right)} - \\frac{\\sin{\\left(𝜃 \\right)} \\frac{\\partial}{\\partial 𝜃} f{\\left(r,𝜃 \\right)}}{r}\\\\\\sin{\\left(𝜃 \\right)} \\frac{\\partial}{\\partial r} f{\\left(r,𝜃 \\right)} + \\frac{\\cos{\\left(𝜃 \\right)} \\frac{\\partial}{\\partial 𝜃} f{\\left(r,𝜃 \\right)}}{r}\\end{matrix}\\right]$"
      ],
      "text/plain": [
       "⎡                            ∂          ⎤\n",
       "⎢                     sin(𝜃)⋅──(f(r, 𝜃))⎥\n",
       "⎢       ∂                    ∂𝜃         ⎥\n",
       "⎢cos(𝜃)⋅──(f(r, 𝜃)) - ──────────────────⎥\n",
       "⎢       ∂r                    r         ⎥\n",
       "⎢                                       ⎥\n",
       "⎢                            ∂          ⎥\n",
       "⎢                     cos(𝜃)⋅──(f(r, 𝜃))⎥\n",
       "⎢       ∂                    ∂𝜃         ⎥\n",
       "⎢sin(𝜃)⋅──(f(r, 𝜃)) + ──────────────────⎥\n",
       "⎣       ∂r                    r         ⎦"
      ]
     },
     "execution_count": 14,
     "metadata": {},
     "output_type": "execute_result"
    }
   ],
   "source": [
    "f_xy2rt = sp.simplify(J_fp.T*f_rt)   # transformation of the gradient\n",
    "f_xy2rt"
   ]
  },
  {
   "cell_type": "markdown",
   "id": "fea9d823",
   "metadata": {
    "ExecuteTime": {
     "end_time": "2023-09-29T00:14:08.896479Z",
     "start_time": "2023-09-29T00:14:08.875872Z"
    }
   },
   "source": [
    "This is the results given in the right-hand side of Eq.(\\ref{eqdfcpM}).\n",
    "\n",
    "The reverse transformation can be done simply using the inverse of the Jacobian matrix. "
   ]
  },
  {
   "cell_type": "markdown",
   "id": "c2e62675",
   "metadata": {},
   "source": [
    "### Displacements in polar coordinate system\n",
    "\n",
    "Consider a vector of functions, for example, the displacement vector that we encounter often in solid mechanics. It is represented in the Cartesian coordinates by $(x, y)$ with two component functions $u_x$ and $u_y$. In the polar coordinate system $(r, \\theta)$, the displacement vector at the same point is represented as $(u_r, u_\\theta)$, as shown in Fig.\\ref{image:Polar_xy}. We need to derive $u_x$ and $u_y$ in terms of $u_r$ and $u_\\theta$, verse versa, and all expressed in the independent variable $r$ and $\\theta$. This require as coordinate transformation. \n",
    "\n",
    "Because the displacement is a vector, and both Cartesian and polar coordinate systems are orthogonal, a transformation between them follows the coordinate transformation rule for 1st order tensor, as discussed in detail in Chapter 2. In Sympy we have: "
   ]
  },
  {
   "cell_type": "code",
   "execution_count": 11,
   "id": "2d66ca36",
   "metadata": {
    "ExecuteTime": {
     "end_time": "2023-10-12T11:03:19.316415Z",
     "start_time": "2023-10-12T11:03:18.595705Z"
    }
   },
   "outputs": [
    {
     "name": "stdout",
     "output_type": "stream",
     "text": [
      "Displacements in Cartesian coordinates [ux, uy]^T=\n"
     ]
    },
    {
     "data": {
      "text/latex": [
       "$\\displaystyle \\left[\\begin{matrix}\\operatorname{u_{r}}{\\left(r,𝜃 \\right)} \\cos{\\left(𝜃 \\right)} - \\operatorname{u_{𝜃}}{\\left(r,𝜃 \\right)} \\sin{\\left(𝜃 \\right)}\\\\\\operatorname{u_{r}}{\\left(r,𝜃 \\right)} \\sin{\\left(𝜃 \\right)} + \\operatorname{u_{𝜃}}{\\left(r,𝜃 \\right)} \\cos{\\left(𝜃 \\right)}\\end{matrix}\\right]$"
      ],
      "text/plain": [
       "⎡uᵣ(r, 𝜃)⋅cos(𝜃) - u_𝜃(r, 𝜃)⋅sin(𝜃)⎤\n",
       "⎢                                  ⎥\n",
       "⎣uᵣ(r, 𝜃)⋅sin(𝜃) + u_𝜃(r, 𝜃)⋅cos(𝜃)⎦"
      ]
     },
     "execution_count": 11,
     "metadata": {},
     "output_type": "execute_result"
    }
   ],
   "source": [
    "ur  = Function('u_r')(r, 𝜃)            # define displacements in polar\n",
    "u𝜃  = Function('u_𝜃')(r, 𝜃)\n",
    "ur𝜃 = Matrix([ur, u𝜃])                  # form the displacement vector\n",
    "\n",
    "T = Matrix([[ sp.cos(𝜃), sp.sin(𝜃)],        # T: Transformation matrix\n",
    "            [-sp.sin(𝜃), sp.cos(𝜃)]])             # Cartesian to Polar\n",
    "\n",
    "uxy = T.T@ur𝜃                                # T.T: Polar to Cartesian\n",
    "gr.printM(uxy, \"Displacements in Cartesian coordinates [ux, uy]^T=\")"
   ]
  },
  {
   "cell_type": "markdown",
   "id": "a66b2d58",
   "metadata": {},
   "source": [
    "We obtain the expression of displacements in the Cartesian coordinates written in independent variable $r$ and $\\theta$: \n",
    "\n",
    "\\begin{equation} \\label{equxyrt}\n",
    "\\begin{bmatrix} u_x \\\\ u_y \\end{bmatrix}\n",
    "=  \\underbrace{\\left[\\begin{matrix} \\cos 𝜃 & - \\sin 𝜃 \\\\ \\sin 𝜃 & \\cos 𝜃 \\end{matrix}\\right] }_{\\mathbf{T}^\\top} \\begin{bmatrix} u_r \\\\ u_𝜃 \\end{bmatrix}\n",
    "= \\left[\\begin{matrix}u_{r} \\cos 𝜃 - u_{𝜃} \\sin 𝜃 \\\\u_{r} \\sin 𝜃 + u_{𝜃} \\cos 𝜃 \\end{matrix}\\right]\n",
    "\\end{equation} \n",
    "\n",
    "The reverse transformation should be\n",
    "\n",
    "\\begin{equation} \\label{equrtxy}\n",
    "\\begin{bmatrix} u_r \\\\ u_𝜃 \\end{bmatrix}\n",
    "=  \\underbrace{\\left[\\begin{matrix} \\cos 𝜃 & \\sin 𝜃 \\\\ -\\sin 𝜃 & \\cos 𝜃 \\end{matrix}\\right] }_{\\mathbf{T}} \\begin{bmatrix} u_x \\\\ u_y \\end{bmatrix}\n",
    "= \\left[\\begin{matrix}u_{x} \\cos 𝜃 + u_{y} \\sin 𝜃 \\\\-u_{x} \\sin 𝜃 + u_{y} \\cos 𝜃 \\end{matrix}\\right]\n",
    "\\end{equation} \n",
    "\n",
    "Notice that when $\\theta=0$, we have $r=x$, $u_r=u_x$, and $u_𝜃=u_y$. when $\\theta=\\pi/2$, we have $r=y$, $u_r=u_y$, and $u_𝜃=-u_x$, as expected. This type of correspondence is important and will be frequently made use of in our derivations for all field variables. We note again that the transformation matrix $\\mathbf{T}$ is unitary and and hence we can use its transpose in place of its inverse. "
   ]
  },
  {
   "cell_type": "markdown",
   "id": "c0aac519",
   "metadata": {},
   "source": [
    "### Strains in the polar coordinate system\n",
    "\n",
    "Strains are given in terms of the derivatives of the displacements, and the expression is given in Eq.(3.\\ref{}) in the Cartesian coordinate system. We can now derive the same in the polar coordinate system. This time we need to use the Jacobian matrix. \n",
    "\n",
    "#### Strategy for deriving $ε_{rr}$\n",
    "\n",
    "Let us first derive the expression for the normal strain $ε_{rr}$. It should relate to $\\tfrac{\\partial u_r}{\\partial r}$, which relates to $\\tfrac{\\partial u_x}{\\partial r}$ and $\\tfrac{\\partial u_x}{\\partial 𝜃}$, and which, in turn, can be obtained using the Jacobian. To do so, we form a vector function with two components $\\tfrac{\\partial u_x}{\\partial r}$ and $\\tfrac{\\partial u_x}{\\partial 𝜃}$. When the Jacobian acts on this vector function, it shall produce a general expression for a new vector function with components of $\\tfrac{\\partial u_r}{\\partial r}$ and $\\tfrac{\\partial u_r}{\\partial 𝜃}$. The former gives $ε_{rr}$, when setting $\\theta=0$. The latter shall contributes to $ε_{r𝜃}$, which will be used later when deriving expression for $ε_{r𝜃}$. The Sympy code to get all these done is given as follows. \n",
    "\n",
    "#### Sympy code for deriving $ε_{rr}$"
   ]
  },
  {
   "cell_type": "code",
   "execution_count": 12,
   "id": "c45c041b",
   "metadata": {
    "ExecuteTime": {
     "end_time": "2023-10-12T11:09:29.248660Z",
     "start_time": "2023-10-12T11:09:26.563243Z"
    }
   },
   "outputs": [
    {
     "data": {
      "image/png": "[encoded data removed]",
      "text/latex": [
       "$\\displaystyle - \\frac{\\sin{\\left(2 𝜃 \\right)} \\frac{\\partial}{\\partial r} \\operatorname{u_{𝜃}}{\\left(r,𝜃 \\right)}}{2} + \\frac{\\cos{\\left(2 𝜃 \\right)} \\frac{\\partial}{\\partial r} \\operatorname{u_{r}}{\\left(r,𝜃 \\right)}}{2} + \\frac{\\frac{\\partial}{\\partial r} \\operatorname{u_{r}}{\\left(r,𝜃 \\right)}}{2} + \\frac{\\operatorname{u_{r}}{\\left(r,𝜃 \\right)} \\sin^{2}{\\left(𝜃 \\right)}}{r} + \\frac{\\operatorname{u_{𝜃}}{\\left(r,𝜃 \\right)} \\sin{\\left(2 𝜃 \\right)}}{2 r} + \\frac{\\sin^{2}{\\left(𝜃 \\right)} \\frac{\\partial}{\\partial 𝜃} \\operatorname{u_{𝜃}}{\\left(r,𝜃 \\right)}}{r} - \\frac{\\sin{\\left(2 𝜃 \\right)} \\frac{\\partial}{\\partial 𝜃} \\operatorname{u_{r}}{\\left(r,𝜃 \\right)}}{2 r}$"
      ],
      "text/plain": [
       "           ∂                        ∂              ∂                          \n",
       "  sin(2⋅𝜃)⋅──(u_𝜃(r, 𝜃))   cos(2⋅𝜃)⋅──(uᵣ(r, 𝜃))   ──(uᵣ(r, 𝜃))               \n",
       "           ∂r                       ∂r             ∂r             uᵣ(r, 𝜃)⋅sin\n",
       "- ────────────────────── + ───────────────────── + ──────────── + ────────────\n",
       "            2                        2                  2                r    \n",
       "\n",
       "                               2    ∂                        ∂           \n",
       "2                           sin (𝜃)⋅──(u_𝜃(r, 𝜃))   sin(2⋅𝜃)⋅──(uᵣ(r, 𝜃))\n",
       " (𝜃)   u_𝜃(r, 𝜃)⋅sin(2⋅𝜃)           ∂𝜃                       ∂𝜃          \n",
       "──── + ────────────────── + ───────────────────── - ─────────────────────\n",
       "              2⋅r                     r                      2⋅r         "
      ]
     },
     "execution_count": 12,
     "metadata": {},
     "output_type": "execute_result"
    }
   ],
   "source": [
    "ux = uxy[0] #ur*sp.cos(𝜃) - u𝜃*sp.sin(𝜃)   # disp. ux written in polar\n",
    "ux_r, ux_𝜃 = diff(ux,r), diff(ux,𝜃)    # diffs of ux wrt polar coords.\n",
    "\n",
    "ux_r𝜃 = Matrix([ux_r, ux_𝜃])                    # form vector function\n",
    "\n",
    "ur_r = (J_fp.T@ux_r𝜃)[0].expand().simplify().expand()   # use Jacobian\n",
    "ur_r"
   ]
  },
  {
   "cell_type": "markdown",
   "id": "59143646",
   "metadata": {},
   "source": [
    "This is the general expression for $\\tfrac{\\partial u_r}{\\partial r}$ for arbitrary $\\theta$. To have it relate to the strains in the Cartesian coordinates, we purposely set $\\theta$ to zero, so that $r=x$ and we have $\\tfrac{\\partial u_r}{\\partial r}=\\tfrac{\\partial u_x}{\\partial x}=ε_{xx}$, which is also the normal strain $ε_{rr}$. We thus have:  "
   ]
  },
  {
   "cell_type": "code",
   "execution_count": 13,
   "id": "1ee381fe",
   "metadata": {
    "ExecuteTime": {
     "end_time": "2023-10-12T11:14:01.186979Z",
     "start_time": "2023-10-12T11:13:59.645730Z"
    },
    "scrolled": true
   },
   "outputs": [
    {
     "data": {
      "image/png": "[encoded data removed]",
      "text/latex": [
       "$\\displaystyle \\frac{d}{d r} \\operatorname{u_{r}}{\\left(r,0 \\right)}$"
      ],
      "text/plain": [
       "d           \n",
       "──(uᵣ(r, 0))\n",
       "dr          "
      ]
     },
     "execution_count": 13,
     "metadata": {},
     "output_type": "execute_result"
    }
   ],
   "source": [
    "ε_rr = ur_r.subs({𝜃:0})                         # set 𝜃=0, to get ε_rr \n",
    "ε_rr"
   ]
  },
  {
   "cell_type": "markdown",
   "id": "0be32b37",
   "metadata": {},
   "source": [
    "This gives $ε_{rr}=\\tfrac{\\partial u_r}{\\partial r}$. It means that \n",
    "\n",
    "\\begin{equation} \\label{eqc11p}\n",
    "\\frac{\\partial u_x}{\\partial x}= \\frac{\\partial u_r}{ \\partial r}\n",
    "\\end{equation} \n",
    "\n",
    "In other words, at any common point in a solid, the rate change in length in the x-direction in the Cartesian coordinate system is the same as that in the r-direction in the polar coordinate system. This is also because the scale factor for the 1st coordinate ($r$) is 1 and hence the length measure is unchanged. \n",
    "\n",
    "Equation (\\ref{eqc11p}) applies to the 1st component of any vector undergoes a transformation from Cartesian to polar coordinate. \n",
    "\n",
    "When we set $\\theta=\\pi/2$, we have $r=y$ and  $\\tfrac{\\partial u_r}{\\partial r}=\\tfrac{\\partial u_y}{\\partial y}=ε_{yy}$, which is also the normal strain $ε_{𝜃𝜃}$. Let us try this: "
   ]
  },
  {
   "cell_type": "code",
   "execution_count": 14,
   "id": "b08e5099",
   "metadata": {
    "ExecuteTime": {
     "end_time": "2023-10-12T11:14:04.575908Z",
     "start_time": "2023-10-12T11:14:03.872571Z"
    },
    "scrolled": true
   },
   "outputs": [
    {
     "data": {
      "text/latex": [
       "$\\displaystyle \\frac{\\operatorname{u_{r}}{\\left(r,\\frac{\\pi}{2} \\right)}}{r} + \\frac{\\left. \\frac{\\partial}{\\partial 𝜃} \\operatorname{u_{𝜃}}{\\left(r,𝜃 \\right)} \\right|_{\\substack{ 𝜃=\\frac{\\pi}{2} }}}{r}$"
      ],
      "text/plain": [
       "           ⎛∂            ⎞│   \n",
       "  ⎛   π⎞   ⎜──(u_𝜃(r, 𝜃))⎟│  π\n",
       "uᵣ⎜r, ─⎟   ⎝∂𝜃           ⎠│𝜃=─\n",
       "  ⎝   2⎠                     2\n",
       "──────── + ───────────────────\n",
       "   r                r         "
      ]
     },
     "execution_count": 14,
     "metadata": {},
     "output_type": "execute_result"
    }
   ],
   "source": [
    "ε_𝜃𝜃 = ur_r.subs({𝜃:sp.pi/2})               # set 𝜃=sp.pi/2 gives ε_𝜃𝜃\n",
    "ε_𝜃𝜃"
   ]
  },
  {
   "cell_type": "markdown",
   "id": "e799f570",
   "metadata": {
    "ExecuteTime": {
     "end_time": "2023-10-12T11:14:11.102126Z",
     "start_time": "2023-10-12T11:14:11.090116Z"
    }
   },
   "source": [
    "The same can be obtained using:"
   ]
  },
  {
   "cell_type": "code",
   "execution_count": 15,
   "id": "2ab053e8",
   "metadata": {
    "ExecuteTime": {
     "end_time": "2023-10-12T11:14:10.120670Z",
     "start_time": "2023-10-12T11:14:08.312602Z"
    }
   },
   "outputs": [
    {
     "data": {
      "image/png": "[encoded data removed]",
      "text/latex": [
       "$\\displaystyle \\frac{\\sin{\\left(2 𝜃 \\right)} \\frac{\\partial}{\\partial r} \\operatorname{u_{r}}{\\left(r,𝜃 \\right)}}{2} + \\frac{\\cos{\\left(2 𝜃 \\right)} \\frac{\\partial}{\\partial r} \\operatorname{u_{𝜃}}{\\left(r,𝜃 \\right)}}{2} - \\frac{\\frac{\\partial}{\\partial r} \\operatorname{u_{𝜃}}{\\left(r,𝜃 \\right)}}{2} - \\frac{\\operatorname{u_{r}}{\\left(r,𝜃 \\right)} \\sin{\\left(2 𝜃 \\right)}}{2 r} - \\frac{\\operatorname{u_{𝜃}}{\\left(r,𝜃 \\right)} \\cos^{2}{\\left(𝜃 \\right)}}{r} - \\frac{\\sin{\\left(2 𝜃 \\right)} \\frac{\\partial}{\\partial 𝜃} \\operatorname{u_{𝜃}}{\\left(r,𝜃 \\right)}}{2 r} + \\frac{\\cos^{2}{\\left(𝜃 \\right)} \\frac{\\partial}{\\partial 𝜃} \\operatorname{u_{r}}{\\left(r,𝜃 \\right)}}{r}$"
      ],
      "text/plain": [
       "         ∂                       ∂               ∂                            \n",
       "sin(2⋅𝜃)⋅──(uᵣ(r, 𝜃))   cos(2⋅𝜃)⋅──(u_𝜃(r, 𝜃))   ──(u_𝜃(r, 𝜃))                \n",
       "         ∂r                      ∂r              ∂r              uᵣ(r, 𝜃)⋅sin(\n",
       "───────────────────── + ────────────────────── - ───────────── - ─────────────\n",
       "          2                       2                    2                2⋅r   \n",
       "\n",
       "                                    ∂                  2    ∂           \n",
       "                    2      sin(2⋅𝜃)⋅──(u_𝜃(r, 𝜃))   cos (𝜃)⋅──(uᵣ(r, 𝜃))\n",
       "2⋅𝜃)   u_𝜃(r, 𝜃)⋅cos (𝜃)            ∂𝜃                      ∂𝜃          \n",
       "──── - ───────────────── - ────────────────────── + ────────────────────\n",
       "               r                    2⋅r                      r          "
      ]
     },
     "execution_count": 15,
     "metadata": {},
     "output_type": "execute_result"
    }
   ],
   "source": [
    "ur_𝜃 = (J_fp.T@ux_r𝜃)[1].expand().simplify().expand()   # use Jacobian\n",
    "ur_𝜃"
   ]
  },
  {
   "cell_type": "code",
   "execution_count": 17,
   "id": "4ae93fa4",
   "metadata": {
    "ExecuteTime": {
     "end_time": "2023-10-12T11:14:39.850792Z",
     "start_time": "2023-10-12T11:14:39.048873Z"
    },
    "scrolled": true
   },
   "outputs": [
    {
     "data": {
      "text/latex": [
       "$\\displaystyle - \\frac{\\operatorname{u_{𝜃}}{\\left(r,0 \\right)}}{r} + \\frac{\\left. \\frac{\\partial}{\\partial 𝜃} \\operatorname{u_{r}}{\\left(r,𝜃 \\right)} \\right|_{\\substack{ 𝜃=0 }}}{r}$"
      ],
      "text/plain": [
       "              ⎛∂           ⎞│   \n",
       "              ⎜──(uᵣ(r, 𝜃))⎟│   \n",
       "  u_𝜃(r, 0)   ⎝∂𝜃          ⎠│𝜃=0\n",
       "- ───────── + ──────────────────\n",
       "      r               r         "
      ]
     },
     "execution_count": 17,
     "metadata": {},
     "output_type": "execute_result"
    }
   ],
   "source": [
    "ur_𝜃.subs({𝜃:0})                         # set 𝜃=0, to get ε_rr "
   ]
  },
  {
   "cell_type": "markdown",
   "id": "cd36ffea",
   "metadata": {},
   "source": [
    "This gives: \n",
    "\n",
    "\\begin{equation} \\label{eqc12p}\n",
    "\\frac{\\partial u_x}{\\partial y}= \\frac{\\partial u_r}{ r\\partial 𝜃} - \\frac{u_𝜃}{r}\n",
    "\\end{equation} "
   ]
  },
  {
   "cell_type": "markdown",
   "id": "2cf3de2c",
   "metadata": {},
   "source": [
    "We can obtain $ε_{𝜃𝜃}$ using also the following strategy. \n",
    "\n",
    "#### Strategy for deriving $ε_{𝜃𝜃}$\n",
    "\n",
    "We know that the normal strain $ε_{𝜃𝜃}$ should relate to $\\tfrac{\\partial u_𝜃}{\\partial 𝜃}$, which relates to $\\tfrac{\\partial u_y}{\\partial r}$ and $\\tfrac{\\partial u_y}{\\partial 𝜃}$ both can be obtained using the Jacobian. To do so, we form a vector function with two components $\\tfrac{\\partial u_y}{\\partial r}$ and $\\tfrac{\\partial u_y}{\\partial 𝜃}$. When the Jacobian acts on this vector function, it produces a general expression for a new vector function with components $\\tfrac{\\partial u_𝜃}{\\partial r}$ and $\\tfrac{\\partial u_𝜃}{\\partial 𝜃}$. The latter gives $ε_{𝜃𝜃}$, when $\\theta$ is set to zero. The former shall contributes to $ε_{r𝜃}$, which will be used later when deriving expression for $ε_{r𝜃}$.  The Sympy code to get all these done is given as follows. \n",
    "\n",
    "#### Sympy code for deriving $ε_{𝜃𝜃}$"
   ]
  },
  {
   "cell_type": "code",
   "execution_count": 18,
   "id": "1be3437f",
   "metadata": {
    "ExecuteTime": {
     "end_time": "2023-10-12T11:15:37.528708Z",
     "start_time": "2023-10-12T11:15:35.660141Z"
    }
   },
   "outputs": [
    {
     "data": {
      "image/png": "[encoded data removed]",
      "text/latex": [
       "$\\displaystyle \\frac{\\sin{\\left(2 𝜃 \\right)} \\frac{\\partial}{\\partial r} \\operatorname{u_{𝜃}}{\\left(r,𝜃 \\right)}}{2} - \\frac{\\cos{\\left(2 𝜃 \\right)} \\frac{\\partial}{\\partial r} \\operatorname{u_{r}}{\\left(r,𝜃 \\right)}}{2} + \\frac{\\frac{\\partial}{\\partial r} \\operatorname{u_{r}}{\\left(r,𝜃 \\right)}}{2} + \\frac{\\operatorname{u_{r}}{\\left(r,𝜃 \\right)} \\cos{\\left(2 𝜃 \\right)}}{2 r} + \\frac{\\operatorname{u_{r}}{\\left(r,𝜃 \\right)}}{2 r} - \\frac{\\operatorname{u_{𝜃}}{\\left(r,𝜃 \\right)} \\sin{\\left(2 𝜃 \\right)}}{2 r} + \\frac{\\sin{\\left(2 𝜃 \\right)} \\frac{\\partial}{\\partial 𝜃} \\operatorname{u_{r}}{\\left(r,𝜃 \\right)}}{2 r} + \\frac{\\cos{\\left(2 𝜃 \\right)} \\frac{\\partial}{\\partial 𝜃} \\operatorname{u_{𝜃}}{\\left(r,𝜃 \\right)}}{2 r} + \\frac{\\frac{\\partial}{\\partial 𝜃} \\operatorname{u_{𝜃}}{\\left(r,𝜃 \\right)}}{2 r}$"
      ],
      "text/plain": [
       "         ∂                        ∂              ∂                            \n",
       "sin(2⋅𝜃)⋅──(u_𝜃(r, 𝜃))   cos(2⋅𝜃)⋅──(uᵣ(r, 𝜃))   ──(uᵣ(r, 𝜃))                 \n",
       "         ∂r                       ∂r             ∂r             uᵣ(r, 𝜃)⋅cos(2\n",
       "────────────────────── - ───────────────────── + ──────────── + ──────────────\n",
       "          2                        2                  2                2⋅r    \n",
       "\n",
       "                                               ∂                       ∂      \n",
       "                                      sin(2⋅𝜃)⋅──(uᵣ(r, 𝜃))   cos(2⋅𝜃)⋅──(u_𝜃(\n",
       "⋅𝜃)   uᵣ(r, 𝜃)   u_𝜃(r, 𝜃)⋅sin(2⋅𝜃)            ∂𝜃                      ∂𝜃     \n",
       "─── + ──────── - ────────────────── + ───────────────────── + ────────────────\n",
       "        2⋅r             2⋅r                    2⋅r                     2⋅r    \n",
       "\n",
       "         ∂            \n",
       "r, 𝜃))   ──(u_𝜃(r, 𝜃))\n",
       "         ∂𝜃           \n",
       "────── + ─────────────\n",
       "              2⋅r     "
      ]
     },
     "execution_count": 18,
     "metadata": {},
     "output_type": "execute_result"
    }
   ],
   "source": [
    "uy = uxy[1] #ur*sp.sin(𝜃) + u𝜃*sp.cos(𝜃)   # disp. uy written in polar\n",
    "uy_r, uy_𝜃 = diff(uy,r), diff(uy,𝜃)    # diffs of uy wrt polar coords.\n",
    "\n",
    "uy_r𝜃 = Matrix([uy_r, uy_𝜃])                    # form vector function\n",
    "\n",
    "u𝜃_𝜃 = (J_fp.T@uy_r𝜃)[1].simplify().expand()            # use Jacobian \n",
    "u𝜃_𝜃"
   ]
  },
  {
   "cell_type": "markdown",
   "id": "85b31dba",
   "metadata": {},
   "source": [
    "This is the general expression for $\\tfrac{\\partial u_𝜃}{\\partial 𝜃}$. When $\\theta$ is set to zero, we have $y=𝜃$, and hence $\\tfrac{\\partial u_𝜃}{\\partial 𝜃}=\\tfrac{\\partial u_y}{\\partial y}=ε_{yy}$, which is also the normal strain $ε_{𝜃𝜃}$: "
   ]
  },
  {
   "cell_type": "code",
   "execution_count": 19,
   "id": "fd1ed43b",
   "metadata": {
    "ExecuteTime": {
     "end_time": "2023-10-12T11:15:59.070136Z",
     "start_time": "2023-10-12T11:15:58.369455Z"
    },
    "scrolled": false
   },
   "outputs": [
    {
     "data": {
      "text/latex": [
       "$\\displaystyle \\frac{\\operatorname{u_{r}}{\\left(r,0 \\right)}}{r} + \\frac{\\left. \\frac{\\partial}{\\partial 𝜃} \\operatorname{u_{𝜃}}{\\left(r,𝜃 \\right)} \\right|_{\\substack{ 𝜃=0 }}}{r}$"
      ],
      "text/plain": [
       "           ⎛∂            ⎞│   \n",
       "           ⎜──(u_𝜃(r, 𝜃))⎟│   \n",
       "uᵣ(r, 0)   ⎝∂𝜃           ⎠│𝜃=0\n",
       "──────── + ───────────────────\n",
       "   r                r         "
      ]
     },
     "execution_count": 19,
     "metadata": {},
     "output_type": "execute_result"
    }
   ],
   "source": [
    "ε_𝜃𝜃 = u𝜃_𝜃.subs({𝜃:0}).simplify().expand() #:sp.pi/2})\n",
    "ε_𝜃𝜃"
   ]
  },
  {
   "cell_type": "markdown",
   "id": "63cfb513",
   "metadata": {},
   "source": [
    "This gives $ε_{𝜃𝜃}=\\tfrac{u_r}{r}+\\tfrac{\\partial u_𝜃}{r \\partial 𝜃}$. In comparison with $ε_{yy}= \\tfrac{\\partial u_y}{\\partial y}$ that relates to only one displacement component $u_y$, while $ε_{𝜃𝜃}$ relates to both $u_r$ and $u_𝜃$. This is because in the transformation of the derivatives of a vector function, not only the coordinates is changed, but also the vector function components are also changed, when the coordinate changes. In this Cartesian to polar coordinates case, we conclude that \n",
    "\n",
    "\\begin{equation} \\label{eqc22p}\n",
    "\\frac{\\partial u_y}{\\partial y}=\\frac{u_r}{r}+\\frac{\\partial u_𝜃}{r \\partial 𝜃}\n",
    "\\end{equation} \n",
    "\n",
    "This is also because the scale factor for the 2nd coordinate ($\\theta$) is $r$ and hence the length measure is changed. \n",
    "\n",
    "Equation (\\ref{eqc22p}) applies to the 2nd component of any vector undergoes a transformation from Cartesian to polar coordinate. \n",
    "\n",
    "Note also that when $\\theta=\\pi/2$, we have $𝜃=-x$, $u_𝜃=-u_x$, and hence $\\tfrac{\\partial u_𝜃}{\\partial 𝜃}=\\tfrac{\\partial u_x}{\\partial x}=ε_{xx}$, which is also the normal strain $ε_{rr}$. Let us try this: "
   ]
  },
  {
   "cell_type": "code",
   "execution_count": 20,
   "id": "e14f83ea",
   "metadata": {
    "ExecuteTime": {
     "end_time": "2023-10-12T11:17:33.384713Z",
     "start_time": "2023-10-12T11:17:31.957294Z"
    },
    "scrolled": true
   },
   "outputs": [
    {
     "data": {
      "image/png": "[encoded data removed]",
      "text/latex": [
       "$\\displaystyle \\frac{d}{d r} \\operatorname{u_{r}}{\\left(r,\\frac{\\pi}{2} \\right)}$"
      ],
      "text/plain": [
       "d ⎛  ⎛   π⎞⎞\n",
       "──⎜uᵣ⎜r, ─⎟⎟\n",
       "dr⎝  ⎝   2⎠⎠"
      ]
     },
     "execution_count": 20,
     "metadata": {},
     "output_type": "execute_result"
    }
   ],
   "source": [
    "ε_rr = u𝜃_𝜃.subs({𝜃:sp.pi/2}).simplify().expand() \n",
    "ε_rr"
   ]
  },
  {
   "cell_type": "markdown",
   "id": "1b7516d3",
   "metadata": {},
   "source": [
    "which is the same as the $ε_{rr}$ obtained earlier. "
   ]
  },
  {
   "cell_type": "code",
   "execution_count": 21,
   "id": "b02cd548",
   "metadata": {
    "ExecuteTime": {
     "end_time": "2023-10-12T11:17:37.679476Z",
     "start_time": "2023-10-12T11:17:35.917252Z"
    },
    "scrolled": true
   },
   "outputs": [
    {
     "data": {
      "image/png": "[encoded data removed]",
      "text/latex": [
       "$\\displaystyle \\frac{\\sin{\\left(2 𝜃 \\right)} \\frac{\\partial}{\\partial r} \\operatorname{u_{r}}{\\left(r,𝜃 \\right)}}{2} + \\frac{\\cos{\\left(2 𝜃 \\right)} \\frac{\\partial}{\\partial r} \\operatorname{u_{𝜃}}{\\left(r,𝜃 \\right)}}{2} + \\frac{\\frac{\\partial}{\\partial r} \\operatorname{u_{𝜃}}{\\left(r,𝜃 \\right)}}{2} - \\frac{\\operatorname{u_{r}}{\\left(r,𝜃 \\right)} \\sin{\\left(2 𝜃 \\right)}}{2 r} - \\frac{\\operatorname{u_{𝜃}}{\\left(r,𝜃 \\right)} \\cos{\\left(2 𝜃 \\right)}}{2 r} + \\frac{\\operatorname{u_{𝜃}}{\\left(r,𝜃 \\right)}}{2 r} - \\frac{\\sin{\\left(2 𝜃 \\right)} \\frac{\\partial}{\\partial 𝜃} \\operatorname{u_{𝜃}}{\\left(r,𝜃 \\right)}}{2 r} + \\frac{\\cos{\\left(2 𝜃 \\right)} \\frac{\\partial}{\\partial 𝜃} \\operatorname{u_{r}}{\\left(r,𝜃 \\right)}}{2 r} - \\frac{\\frac{\\partial}{\\partial 𝜃} \\operatorname{u_{r}}{\\left(r,𝜃 \\right)}}{2 r}$"
      ],
      "text/plain": [
       "         ∂                       ∂               ∂                            \n",
       "sin(2⋅𝜃)⋅──(uᵣ(r, 𝜃))   cos(2⋅𝜃)⋅──(u_𝜃(r, 𝜃))   ──(u_𝜃(r, 𝜃))                \n",
       "         ∂r                      ∂r              ∂r              uᵣ(r, 𝜃)⋅sin(\n",
       "───────────────────── + ────────────────────── + ───────────── - ─────────────\n",
       "          2                       2                    2                2⋅r   \n",
       "\n",
       "                                                 ∂                        ∂   \n",
       "                                        sin(2⋅𝜃)⋅──(u_𝜃(r, 𝜃))   cos(2⋅𝜃)⋅──(u\n",
       "2⋅𝜃)   u_𝜃(r, 𝜃)⋅cos(2⋅𝜃)   u_𝜃(r, 𝜃)            ∂𝜃                       ∂𝜃  \n",
       "──── - ────────────────── + ───────── - ────────────────────── + ─────────────\n",
       "              2⋅r              2⋅r               2⋅r                      2⋅r \n",
       "\n",
       "           ∂           \n",
       "ᵣ(r, 𝜃))   ──(uᵣ(r, 𝜃))\n",
       "           ∂𝜃          \n",
       "──────── - ────────────\n",
       "               2⋅r     "
      ]
     },
     "execution_count": 21,
     "metadata": {},
     "output_type": "execute_result"
    }
   ],
   "source": [
    "u𝜃_r = (J_fp.T@uy_r𝜃)[0].simplify().expand()            # use Jacobian \n",
    "u𝜃_r"
   ]
  },
  {
   "cell_type": "code",
   "execution_count": 22,
   "id": "2ec0ae03",
   "metadata": {
    "ExecuteTime": {
     "end_time": "2023-10-12T11:17:41.667371Z",
     "start_time": "2023-10-12T11:17:40.909310Z"
    },
    "scrolled": true
   },
   "outputs": [
    {
     "data": {
      "image/png": "[encoded data removed]",
      "text/latex": [
       "$\\displaystyle \\frac{d}{d r} \\operatorname{u_{𝜃}}{\\left(r,0 \\right)}$"
      ],
      "text/plain": [
       "d            \n",
       "──(u_𝜃(r, 0))\n",
       "dr           "
      ]
     },
     "execution_count": 22,
     "metadata": {},
     "output_type": "execute_result"
    }
   ],
   "source": [
    "u𝜃_r.subs({𝜃:0}).simplify().expand()"
   ]
  },
  {
   "cell_type": "markdown",
   "id": "a286d641",
   "metadata": {},
   "source": [
    "This gives: \n",
    "\n",
    "\\begin{equation} \\label{eqc21p}\n",
    "\\frac{\\partial u_y}{\\partial x}= \\frac{\\partial u_𝜃}{\\partial r} \n",
    "\\end{equation} "
   ]
  },
  {
   "cell_type": "markdown",
   "id": "891dea14",
   "metadata": {},
   "source": [
    "#### Strategy for deriving $ε_{r𝜃}$\n",
    "\n",
    "Finally, we derive the expression for the shear strain $ε_{r𝜃}$. It should be the average of $\\tfrac{\\partial u_r}{\\partial 𝜃}$ and $\\tfrac{\\partial u_𝜃}{\\partial r}$ both have already obtained earlier. Readers may recall how this is done in the Cartesian coordination, and then make a comparison for better comprehension. The Sympy code to get all these done is given as follows. \n",
    "\n",
    "#### Sympy code for deriving $ε_{r𝜃}$"
   ]
  },
  {
   "cell_type": "code",
   "execution_count": 23,
   "id": "a9436632",
   "metadata": {
    "ExecuteTime": {
     "end_time": "2023-10-12T11:19:53.639065Z",
     "start_time": "2023-10-12T11:19:52.630870Z"
    }
   },
   "outputs": [
    {
     "data": {
      "image/png": "[encoded data removed]",
      "text/latex": [
       "$\\displaystyle \\frac{\\left(\\sin{\\left(𝜃 \\right)} \\frac{\\partial}{\\partial r} \\operatorname{u_{r}}{\\left(r,𝜃 \\right)} + \\cos{\\left(𝜃 \\right)} \\frac{\\partial}{\\partial r} \\operatorname{u_{𝜃}}{\\left(r,𝜃 \\right)}\\right) \\cos{\\left(𝜃 \\right)}}{2} + \\frac{\\left(- \\sin{\\left(𝜃 \\right)} \\frac{\\partial}{\\partial r} \\operatorname{u_{𝜃}}{\\left(r,𝜃 \\right)} + \\cos{\\left(𝜃 \\right)} \\frac{\\partial}{\\partial r} \\operatorname{u_{r}}{\\left(r,𝜃 \\right)}\\right) \\sin{\\left(𝜃 \\right)}}{2} + \\frac{\\left(- \\operatorname{u_{r}}{\\left(r,𝜃 \\right)} \\sin{\\left(𝜃 \\right)} - \\operatorname{u_{𝜃}}{\\left(r,𝜃 \\right)} \\cos{\\left(𝜃 \\right)} - \\sin{\\left(𝜃 \\right)} \\frac{\\partial}{\\partial 𝜃} \\operatorname{u_{𝜃}}{\\left(r,𝜃 \\right)} + \\cos{\\left(𝜃 \\right)} \\frac{\\partial}{\\partial 𝜃} \\operatorname{u_{r}}{\\left(r,𝜃 \\right)}\\right) \\cos{\\left(𝜃 \\right)}}{2 r} - \\frac{\\left(\\operatorname{u_{r}}{\\left(r,𝜃 \\right)} \\cos{\\left(𝜃 \\right)} - \\operatorname{u_{𝜃}}{\\left(r,𝜃 \\right)} \\sin{\\left(𝜃 \\right)} + \\sin{\\left(𝜃 \\right)} \\frac{\\partial}{\\partial 𝜃} \\operatorname{u_{r}}{\\left(r,𝜃 \\right)} + \\cos{\\left(𝜃 \\right)} \\frac{\\partial}{\\partial 𝜃} \\operatorname{u_{𝜃}}{\\left(r,𝜃 \\right)}\\right) \\sin{\\left(𝜃 \\right)}}{2 r}$"
      ],
      "text/plain": [
       "⎛       ∂                     ∂            ⎞          ⎛         ∂             \n",
       "⎜sin(𝜃)⋅──(uᵣ(r, 𝜃)) + cos(𝜃)⋅──(u_𝜃(r, 𝜃))⎟⋅cos(𝜃)   ⎜- sin(𝜃)⋅──(u_𝜃(r, 𝜃)) \n",
       "⎝       ∂r                    ∂r           ⎠          ⎝         ∂r            \n",
       "─────────────────────────────────────────────────── + ────────────────────────\n",
       "                         2                                                    \n",
       "\n",
       "         ∂           ⎞          ⎛                                             \n",
       "+ cos(𝜃)⋅──(uᵣ(r, 𝜃))⎟⋅sin(𝜃)   ⎜-uᵣ(r, 𝜃)⋅sin(𝜃) - u_𝜃(r, 𝜃)⋅cos(𝜃) - sin(𝜃)⋅\n",
       "         ∂r          ⎠          ⎝                                             \n",
       "───────────────────────────── + ──────────────────────────────────────────────\n",
       "  2                                                                        2⋅r\n",
       "\n",
       "∂                      ∂           ⎞          ⎛                               \n",
       "──(u_𝜃(r, 𝜃)) + cos(𝜃)⋅──(uᵣ(r, 𝜃))⎟⋅cos(𝜃)   ⎜uᵣ(r, 𝜃)⋅cos(𝜃) - u_𝜃(r, 𝜃)⋅sin\n",
       "∂𝜃                     ∂𝜃          ⎠          ⎝                               \n",
       "─────────────────────────────────────────── - ────────────────────────────────\n",
       "                                                                              \n",
       "\n",
       "             ∂                     ∂            ⎞       \n",
       "(𝜃) + sin(𝜃)⋅──(uᵣ(r, 𝜃)) + cos(𝜃)⋅──(u_𝜃(r, 𝜃))⎟⋅sin(𝜃)\n",
       "             ∂𝜃                    ∂𝜃           ⎠       \n",
       "────────────────────────────────────────────────────────\n",
       "          2⋅r                                           "
      ]
     },
     "execution_count": 23,
     "metadata": {},
     "output_type": "execute_result"
    }
   ],
   "source": [
    "ur𝜃_𝜃r = ((J_fp.T@ux_r𝜃)[1] + (J_fp.T@uy_r𝜃)[0])/2\n",
    "ur𝜃_𝜃r"
   ]
  },
  {
   "cell_type": "code",
   "execution_count": 24,
   "id": "3e844e33",
   "metadata": {
    "ExecuteTime": {
     "end_time": "2023-10-12T11:20:02.530828Z",
     "start_time": "2023-10-12T11:20:01.611913Z"
    }
   },
   "outputs": [
    {
     "data": {
      "text/latex": [
       "$\\displaystyle \\frac{\\frac{d}{d r} \\operatorname{u_{𝜃}}{\\left(r,0 \\right)}}{2} - \\frac{\\operatorname{u_{𝜃}}{\\left(r,0 \\right)}}{2 r} + \\frac{\\left. \\frac{\\partial}{\\partial 𝜃} \\operatorname{u_{r}}{\\left(r,𝜃 \\right)} \\right|_{\\substack{ 𝜃=0 }}}{2 r}$"
      ],
      "text/plain": [
       "d                           ⎛∂           ⎞│   \n",
       "──(u_𝜃(r, 0))               ⎜──(uᵣ(r, 𝜃))⎟│   \n",
       "dr              u_𝜃(r, 0)   ⎝∂𝜃          ⎠│𝜃=0\n",
       "───────────── - ───────── + ──────────────────\n",
       "      2            2⋅r             2⋅r        "
      ]
     },
     "execution_count": 24,
     "metadata": {},
     "output_type": "execute_result"
    }
   ],
   "source": [
    "ε_r𝜃 = ur𝜃_𝜃r.subs({𝜃:0}).expand() # or set to sp.pi/2 (sign reversed)  \n",
    "ε_r𝜃"
   ]
  },
  {
   "cell_type": "markdown",
   "id": "62563f33",
   "metadata": {},
   "source": [
    "This gives $2ε_{r𝜃}=\\tfrac{\\partial u_r}{r \\partial 𝜃}+\\tfrac{\\partial u_𝜃}{\\partial r}-\\tfrac{ u_𝜃}{r }$. \n",
    "\n",
    "The strain-displacement relation in polar coordinate system is summarized as follows for future reference.  \n",
    "\n",
    "\\begin{equation} \\label{eqErt}\n",
    "\\begin{split}\n",
    "ε_{rr}&=\\frac{\\partial u_r}{\\partial r}\\\\\n",
    "ε_{𝜃𝜃}&=\\frac{ u_r}{r}+\\frac{\\partial u_𝜃}{r \\partial 𝜃}\\\\\n",
    "2ε_{r𝜃}&=\\frac{\\partial u_r}{r \\partial 𝜃}+\\frac{\\partial u_𝜃}{\\partial r}-\\frac{u_𝜃}{r}\n",
    "\\end{split}\n",
    "\\end{equation} \n",
    "\n",
    "Readers may pay attention to the unit-less in each of the terms, as they all are for strains. "
   ]
  },
  {
   "cell_type": "markdown",
   "id": "b188143f",
   "metadata": {},
   "source": [
    "### Relations of the 1st derivatives of vector components in Cartesian and polar coordinates \n",
    "\n",
    "A vector tensor (displacements, forces, etc.) should be independent of the coordinates used. Its components, however, will change when the coordinate system changes. This same is true for the derivatives of the components, as we have shown in the previous section. The relations of the first derivatives of vector tensor components in Cartesian and polar coordinates can be summarized as follows.  \n",
    "\n",
    "\\begin{equation} \\label{eqcpij}\n",
    "\\begin{split}\n",
    "\\frac{\\partial v_x}{\\partial x}&=\\frac{\\partial v_r}{\\partial r}\\\\\n",
    "\\frac{\\partial v_y}{\\partial y}&=\\frac{ v_r}{r}+\\frac{\\partial v_𝜃}{r \\partial 𝜃}\\\\\n",
    "\\frac{\\partial v_x}{\\partial y}&= \\frac{\\partial v_r}{ r\\partial 𝜃} - \\frac{v_𝜃}{r}\\\\\n",
    "\\frac{\\partial v_y}{\\partial x}&= \\frac{\\partial v_𝜃}{\\partial r} \\\\\n",
    "\\end{split}\n",
    "\\end{equation} \n",
    "\n",
    "where $\\mathbf{v}=[v_x, v_y]^\\top=[v_r, v_𝜃]^\\top$ is an arbitrary vector in $\\mathbb{R}^2$ in the Cartesian and polar coordinates. "
   ]
  },
  {
   "cell_type": "markdown",
   "id": "6828ee8b",
   "metadata": {},
   "source": [
    "\\begin{equation} \\label{eqcpijM}\n",
    "\\begin{bmatrix}\n",
    "\\frac{\\partial v_x}{\\partial x} & \\frac{\\partial v_x}{\\partial y} \\\\\n",
    "\\frac{\\partial v_y}{\\partial x} & \\frac{\\partial v_y}{\\partial y} \\end{bmatrix}\n",
    "=\\begin{bmatrix}\n",
    "\\frac{\\partial v_r}{\\partial r} & \\frac{\\partial v_r}{r\\partial 𝜃} \\\\\n",
    "\\frac{\\partial v_𝜃}{\\partial r} & \\frac{\\partial v_𝜃}{r\\partial 𝜃} \\end{bmatrix}+\n",
    "\\begin{bmatrix}\n",
    "0 & -\\frac{v_𝜃}{r} \\\\\n",
    "0 & \\frac{v_r}{r}  \\end{bmatrix}\n",
    "\\end{equation} \n",
    "\n",
    "This is a useful set of relations in many operations involving coordinate transformation.  "
   ]
  },
  {
   "cell_type": "markdown",
   "id": "11534edc",
   "metadata": {},
   "source": [
    "### Derivatives of a scalar function in cylindrical coordinate\n",
    "\n",
    "#### Coordinates and Jacobian matrix\n",
    "\n",
    "We often need to write different order of derivatives of a scalar function in the Cartesian coordinate in terms of polar coordinates, for example, when derive stress formulas in terms of a stress function in the polar coordinate system. This section presents techniques for this kind of purposes, by considering a more general cylindrical coordinate system, as shown in Fig.\\ref{image:cylindricalCoords}. \n",
    "\n",
    "<img src=\"./images/cylindricalCoords.png\" alt=\" \" width=\"250\"/><br>\n",
    "\\begin{figure}\n",
    "  \\includegraphics[width=5cm]{}\n",
    "  \\caption{\\label{image:cylindricalCoords} Cylindrical coordinates with radial distance $r$, polar angle $\\theta$, and vertical axis $z$.}\n",
    "\\end{figure}\n",
    "\n",
    "Note that one can be reduced to polar system by simply omitting terms related $z$.\n",
    "\n",
    "We define the cylindrical coordinates in Sympy. "
   ]
  },
  {
   "cell_type": "code",
   "execution_count": 26,
   "id": "f9d8c3d2",
   "metadata": {
    "ExecuteTime": {
     "end_time": "2023-10-12T11:26:25.216233Z",
     "start_time": "2023-10-12T11:26:25.193614Z"
    }
   },
   "outputs": [],
   "source": [
    "x, y, z = sp.symbols(\"x, y, z\")                   # symbolic variables\n",
    "r, 𝜃, 𝜙 = sp.symbols(\"r, 𝜃, 𝜙 \")"
   ]
  },
  {
   "cell_type": "code",
   "execution_count": 27,
   "id": "16ba1ed2",
   "metadata": {
    "ExecuteTime": {
     "end_time": "2023-10-12T11:26:29.276069Z",
     "start_time": "2023-10-12T11:26:28.496824Z"
    }
   },
   "outputs": [
    {
     "data": {
      "text/latex": [
       "$\\displaystyle \\left[\\begin{matrix}r \\cos{\\left(𝜃 \\right)}\\\\r \\sin{\\left(𝜃 \\right)}\\\\z\\end{matrix}\\right]$"
      ],
      "text/plain": [
       "⎡r⋅cos(𝜃)⎤\n",
       "⎢        ⎥\n",
       "⎢r⋅sin(𝜃)⎥\n",
       "⎢        ⎥\n",
       "⎣   z    ⎦"
      ]
     },
     "execution_count": 27,
     "metadata": {},
     "output_type": "execute_result"
    }
   ],
   "source": [
    "# Cartesian to cylindrical\n",
    "xyz = vector.transform_coords(\"cylindrical\", (r, 𝜃, z)) \n",
    "xyz = Matrix(xyz)                             # convert it to a matrix\n",
    "xyz"
   ]
  },
  {
   "cell_type": "markdown",
   "id": "bd83de14",
   "metadata": {},
   "source": [
    "The cylindrical coordinates is a typical curvilinear coordinate system. It has scale factors with respect to the Cartesian coordinate system, which measure the length while moving along each of the coordinates: $r, 𝜃, z$. Let us print out these factors. "
   ]
  },
  {
   "cell_type": "code",
   "execution_count": 28,
   "id": "2a333731",
   "metadata": {
    "ExecuteTime": {
     "end_time": "2023-10-12T11:27:00.903851Z",
     "start_time": "2023-10-12T11:26:59.448051Z"
    }
   },
   "outputs": [
    {
     "data": {
      "image/png": "[encoded data removed]",
      "text/latex": [
       "$\\displaystyle \\left( 1, \\  r, \\  1\\right)$"
      ],
      "text/plain": [
       "(1, r, 1)"
      ]
     },
     "execution_count": 28,
     "metadata": {},
     "output_type": "execute_result"
    }
   ],
   "source": [
    "scale = vector.scale_coeff_coords(\"cylindrical\", (r, 𝜃, z))\n",
    "scale   # (𝛼, 𝛽, 𝛾)"
   ]
  },
  {
   "cell_type": "markdown",
   "id": "60d570cd",
   "metadata": {},
   "source": [
    "It is clear that only $\\theta$ needs a scale factor $r$ to produce a length in its direction. \n",
    "\n",
    "Let compute the gradient of the vector of coordinates defined earlier.  "
   ]
  },
  {
   "cell_type": "code",
   "execution_count": 29,
   "id": "537bfcee",
   "metadata": {
    "ExecuteTime": {
     "end_time": "2023-10-12T11:27:20.986258Z",
     "start_time": "2023-10-12T11:27:20.068013Z"
    }
   },
   "outputs": [
    {
     "data": {
      "text/latex": [
       "$\\displaystyle \\left[\\begin{matrix}\\left[\\begin{matrix}\\cos{\\left(𝜃 \\right)}\\\\\\sin{\\left(𝜃 \\right)}\\\\0\\end{matrix}\\right] & \\left[\\begin{matrix}- r \\sin{\\left(𝜃 \\right)}\\\\r \\cos{\\left(𝜃 \\right)}\\\\0\\end{matrix}\\right] & \\left[\\begin{matrix}0\\\\0\\\\1\\end{matrix}\\right]\\end{matrix}\\right]$"
      ],
      "text/plain": [
       "⎡⎡cos(𝜃)⎤  ⎡-r⋅sin(𝜃)⎤  ⎡0⎤⎤\n",
       "⎢⎢      ⎥  ⎢         ⎥  ⎢ ⎥⎥\n",
       "⎢⎢sin(𝜃)⎥  ⎢r⋅cos(𝜃) ⎥  ⎢0⎥⎥\n",
       "⎢⎢      ⎥  ⎢         ⎥  ⎢ ⎥⎥\n",
       "⎣⎣  0   ⎦  ⎣    0    ⎦  ⎣1⎦⎦"
      ]
     },
     "execution_count": 29,
     "metadata": {},
     "output_type": "execute_result"
    }
   ],
   "source": [
    "gradf = vector.grad(xyz, coords=(r, 𝜃, z),h_vec=scale) \n",
    "gradf.T"
   ]
  },
  {
   "cell_type": "markdown",
   "id": "36493860",
   "metadata": {},
   "source": [
    "We need to re-arrange it to a proper Jacobian matrix. "
   ]
  },
  {
   "cell_type": "code",
   "execution_count": 30,
   "id": "a811b0b0",
   "metadata": {
    "ExecuteTime": {
     "end_time": "2023-10-12T11:27:32.391944Z",
     "start_time": "2023-10-12T11:27:31.435669Z"
    }
   },
   "outputs": [
    {
     "data": {
      "text/latex": [
       "$\\displaystyle \\left[\\begin{matrix}\\cos{\\left(𝜃 \\right)} & \\sin{\\left(𝜃 \\right)} & 0\\\\- \\frac{\\sin{\\left(𝜃 \\right)}}{r} & \\frac{\\cos{\\left(𝜃 \\right)}}{r} & 0\\\\0 & 0 & 1\\end{matrix}\\right]$"
      ],
      "text/plain": [
       "⎡ cos(𝜃)   sin(𝜃)  0⎤\n",
       "⎢                   ⎥\n",
       "⎢-sin(𝜃)   cos(𝜃)   ⎥\n",
       "⎢────────  ──────  0⎥\n",
       "⎢   r        r      ⎥\n",
       "⎢                   ⎥\n",
       "⎣   0        0     1⎦"
      ]
     },
     "execution_count": 30,
     "metadata": {},
     "output_type": "execute_result"
    }
   ],
   "source": [
    "Jc = Matrix([gradf[0].T,gradf[1].T,gradf[2].T]).T\n",
    "Jp = simplify(Jc.inv())\n",
    "Jp"
   ]
  },
  {
   "cell_type": "markdown",
   "id": "88553dd2",
   "metadata": {},
   "source": [
    "This Jacobian matrix can be used to transfer gradient of an arbitrary scalar function in the cylinder coordinate system to the Cartesian one. \n",
    "\n",
    "#### Gradient of a scalar function"
   ]
  },
  {
   "cell_type": "markdown",
   "id": "e6e93d5d",
   "metadata": {},
   "source": [
    "We now ready to compute the gradient of the function in the cylinder coordinate system. We need the help of the Jacobian in the process. "
   ]
  },
  {
   "cell_type": "code",
   "execution_count": 32,
   "id": "b3c8f684",
   "metadata": {
    "ExecuteTime": {
     "end_time": "2023-10-12T11:31:14.086012Z",
     "start_time": "2023-10-12T11:31:12.249534Z"
    }
   },
   "outputs": [
    {
     "name": "stdout",
     "output_type": "stream",
     "text": [
      "The first derivatives [d𝜙/dx, d𝜙/dy, d𝜙/dz]^T=\n"
     ]
    },
    {
     "data": {
      "text/latex": [
       "$\\displaystyle \\left[\\begin{matrix}\\cos{\\left(𝜃 \\right)} \\frac{\\partial}{\\partial r} 𝜙{\\left(r,𝜃,z \\right)} - \\frac{\\sin{\\left(𝜃 \\right)} \\frac{\\partial}{\\partial 𝜃} 𝜙{\\left(r,𝜃,z \\right)}}{r}\\\\\\sin{\\left(𝜃 \\right)} \\frac{\\partial}{\\partial r} 𝜙{\\left(r,𝜃,z \\right)} + \\frac{\\cos{\\left(𝜃 \\right)} \\frac{\\partial}{\\partial 𝜃} 𝜙{\\left(r,𝜃,z \\right)}}{r}\\\\\\frac{\\partial}{\\partial z} 𝜙{\\left(r,𝜃,z \\right)}\\end{matrix}\\right]$"
      ],
      "text/plain": [
       "⎡                               ∂             ⎤\n",
       "⎢                        sin(𝜃)⋅──(𝜙(r, 𝜃, z))⎥\n",
       "⎢       ∂                       ∂𝜃            ⎥\n",
       "⎢cos(𝜃)⋅──(𝜙(r, 𝜃, z)) - ─────────────────────⎥\n",
       "⎢       ∂r                         r          ⎥\n",
       "⎢                                             ⎥\n",
       "⎢                               ∂             ⎥\n",
       "⎢                        cos(𝜃)⋅──(𝜙(r, 𝜃, z))⎥\n",
       "⎢       ∂                       ∂𝜃            ⎥\n",
       "⎢sin(𝜃)⋅──(𝜙(r, 𝜃, z)) + ─────────────────────⎥\n",
       "⎢       ∂r                         r          ⎥\n",
       "⎢                                             ⎥\n",
       "⎢               ∂                             ⎥\n",
       "⎢               ──(𝜙(r, 𝜃, z))                ⎥\n",
       "⎣               ∂z                            ⎦"
      ]
     },
     "execution_count": 32,
     "metadata": {},
     "output_type": "execute_result"
    }
   ],
   "source": [
    "𝜙 = sp.symbols(\"𝜙\", cls=sp.Function)   # define an arbitrary function\n",
    "\n",
    "# compute the gradient of the function: \n",
    "grad𝜙p = vector.grad(𝜙(r, 𝜃, z), coords=(r, 𝜃, z),h_vec=scale)\n",
    "\n",
    "grad𝜙c = Jp.T@grad𝜙p                           # tranfor the gradient\n",
    "gr.printM(grad𝜙c, 'The first derivatives [d𝜙/dx, d𝜙/dy, d𝜙/dz]^T=')"
   ]
  },
  {
   "cell_type": "markdown",
   "id": "3b154632",
   "metadata": {},
   "source": [
    "We obtain the first derivatives of an arbitrary scalar function $\\phi$ with respect to the Cartesian coordinates in the independent variable $r$ and $\\theta$: \n",
    "\n",
    "\\begin{equation} \\label{eqdpxyrt}\n",
    "\\begin{bmatrix} \\frac{d\\phi}{dx} \\\\ \\frac{d\\phi}{dy}  \\\\ \\frac{d\\phi}{dz} \\end{bmatrix}\n",
    "=  \\underbrace{\\begin{bmatrix}\n",
    "\\cos𝜃 & -\\frac{\\sin𝜃}{r} & 0 \\\\\n",
    "\\sin𝜃 &  \\frac{\\cos𝜃}{r} & 0 \\\\\n",
    "  0   &       0          & 1 \\end{bmatrix} }_{\\mathbf{J}^\\top} \n",
    "  \\begin{bmatrix}\\frac{d\\phi}{dr} \\\\ \\frac{d\\phi}{d𝜃}  \\\\ \\frac{d\\phi}{dz} \\end{bmatrix}\n",
    "= \\begin{bmatrix}\\cos𝜃 \\frac{\\partial 𝜙}{\\partial r}  - \\frac{\\sin𝜃 }{r}\\frac{\\partial 𝜙}{\\partial 𝜃}\\\\ \n",
    " \\sin𝜃 \\frac{\\partial 𝜙}{\\partial r}  + \\frac{\\cos𝜃}{r} \\frac{\\partial 𝜙}{\\partial 𝜃}\\\\\n",
    " \\frac{\\partial 𝜙}{\\partial z} \\end{bmatrix} \n",
    "\\end{equation} "
   ]
  },
  {
   "cell_type": "markdown",
   "id": "75b09b45",
   "metadata": {},
   "source": [
    "#### Hessian matrix of a scalar function\n",
    "\n",
    "Each component in the vector in right-hand-side of Eq.(\\ref{eqdpxyrt}) is the first derivative of the scalar function with respected to $x, y, z$, but written in $r, 𝜃, z$. We can compute the gradient of this vector again, which leads to the Hessian matrix of the scalar function. The code is as follows. "
   ]
  },
  {
   "cell_type": "code",
   "execution_count": 33,
   "id": "e1d91e44",
   "metadata": {
    "ExecuteTime": {
     "end_time": "2023-10-12T11:31:19.617956Z",
     "start_time": "2023-10-12T11:31:17.464824Z"
    }
   },
   "outputs": [
    {
     "name": "stdout",
     "output_type": "stream",
     "text": [
      "The Hessian matrix with all 2nd derivatives: \n"
     ]
    },
    {
     "data": {
      "text/latex": [
       "$\\displaystyle \\left[\\begin{matrix}\\frac{\\partial^{2}}{\\partial r^{2}} 𝜙{\\left(r,0.0,z \\right)} & \\frac{r \\left. \\frac{\\partial^{2}}{\\partial 𝜃\\partial r} 𝜙{\\left(r,𝜃,z \\right)} \\right|_{\\substack{ 𝜃=0.0 }} - \\left. \\frac{\\partial}{\\partial 𝜃} 𝜙{\\left(r,𝜃,z \\right)} \\right|_{\\substack{ 𝜃=0.0 }}}{r^{2}} & \\frac{\\partial^{2}}{\\partial z\\partial r} 𝜙{\\left(r,0.0,z \\right)}\\\\\\frac{\\left. \\frac{\\partial^{2}}{\\partial 𝜃\\partial r} 𝜙{\\left(r,𝜃,z \\right)} \\right|_{\\substack{ 𝜃=0.0 }}}{r} - \\frac{\\left. \\frac{\\partial}{\\partial 𝜃} 𝜙{\\left(r,𝜃,z \\right)} \\right|_{\\substack{ 𝜃=0.0 }}}{r^{2}} & \\frac{r \\frac{\\partial}{\\partial r} 𝜙{\\left(r,0.0,z \\right)} + \\left. \\frac{\\partial^{2}}{\\partial 𝜃^{2}} 𝜙{\\left(r,𝜃,z \\right)} \\right|_{\\substack{ 𝜃=0.0 }}}{r^{2}} & \\frac{\\left. \\frac{\\partial^{2}}{\\partial 𝜃\\partial z} 𝜙{\\left(r,𝜃,z \\right)} \\right|_{\\substack{ 𝜃=0.0 }}}{r}\\\\\\frac{\\partial^{2}}{\\partial z\\partial r} 𝜙{\\left(r,0.0,z \\right)} & \\frac{\\left. \\frac{\\partial^{2}}{\\partial 𝜃\\partial z} 𝜙{\\left(r,𝜃,z \\right)} \\right|_{\\substack{ 𝜃=0.0 }}}{r} & \\frac{\\partial^{2}}{\\partial z^{2}} 𝜙{\\left(r,0.0,z \\right)}\\end{matrix}\\right]$"
      ],
      "text/plain": [
       "⎡                                                      ⎛   2             ⎞│   \n",
       "⎢                                                      ⎜  ∂              ⎟│   \n",
       "⎢                  2                                 r⋅⎜─────(𝜙(r, 𝜃, z))⎟│   \n",
       "⎢                 ∂                                    ⎝∂𝜃 ∂r            ⎠│𝜃=0\n",
       "⎢                ───(𝜙(r, 0.0, z))                   ─────────────────────────\n",
       "⎢                  2                                                          \n",
       "⎢                ∂r                                                           \n",
       "⎢                                                                             \n",
       "⎢                                                                             \n",
       "⎢⎛   2             ⎞│                                      ∂                  \n",
       "⎢⎜  ∂              ⎟│        ⎛∂             ⎞│           r⋅──(𝜙(r, 0.0, z)) + \n",
       "⎢⎜─────(𝜙(r, 𝜃, z))⎟│        ⎜──(𝜙(r, 𝜃, z))⎟│             ∂r                 \n",
       "⎢⎝∂𝜃 ∂r            ⎠│𝜃=0.0   ⎝∂𝜃            ⎠│𝜃=0.0                           \n",
       "⎢───────────────────────── - ──────────────────────      ─────────────────────\n",
       "⎢            r                          2                                     \n",
       "⎢                                      r                                      \n",
       "⎢                                                                             \n",
       "⎢                                                                 ⎛   2       \n",
       "⎢                                                                 ⎜  ∂        \n",
       "⎢                  2                                              ⎜─────(𝜙(r, \n",
       "⎢                 ∂                                               ⎝∂𝜃 ∂z      \n",
       "⎢               ─────(𝜙(r, 0.0, z))                               ────────────\n",
       "⎢               ∂z ∂r                                                         \n",
       "⎣                                                                             \n",
       "\n",
       "                                                      ⎤\n",
       "     ⎛∂             ⎞│                                ⎥\n",
       "   - ⎜──(𝜙(r, 𝜃, z))⎟│             2                  ⎥\n",
       ".0   ⎝∂𝜃            ⎠│𝜃=0.0       ∂                   ⎥\n",
       "───────────────────────────     ─────(𝜙(r, 0.0, z))   ⎥\n",
       " 2                              ∂z ∂r                 ⎥\n",
       "r                                                     ⎥\n",
       "                                                      ⎥\n",
       "⎛  2            ⎞│                                    ⎥\n",
       "⎜ ∂             ⎟│           ⎛   2             ⎞│     ⎥\n",
       "⎜───(𝜙(r, 𝜃, z))⎟│           ⎜  ∂              ⎟│     ⎥\n",
       "⎜  2            ⎟│           ⎜─────(𝜙(r, 𝜃, z))⎟│     ⎥\n",
       "⎝∂𝜃             ⎠│𝜃=0.0      ⎝∂𝜃 ∂z            ⎠│𝜃=0.0⎥\n",
       "───────────────────────      ─────────────────────────⎥\n",
       " 2                                       r            ⎥\n",
       "r                                                     ⎥\n",
       "                                                      ⎥\n",
       "      ⎞│                                              ⎥\n",
       "      ⎟│                                              ⎥\n",
       "𝜃, z))⎟│                           2                  ⎥\n",
       "      ⎠│𝜃=0.0                     ∂                   ⎥\n",
       "─────────────                    ───(𝜙(r, 0.0, z))    ⎥\n",
       "r                                  2                  ⎥\n",
       "                                 ∂z                   ⎦"
      ]
     },
     "execution_count": 33,
     "metadata": {},
     "output_type": "execute_result"
    }
   ],
   "source": [
    "d2𝜙x = vector.grad(grad𝜙c, coords=(r, 𝜃, z)) # gradient of a gradient\n",
    "d2𝜙x0 = simplify(d2𝜙x).subs({𝜃:0})           \n",
    "\n",
    "H = (Jp.T@d2𝜙x0).subs({𝜃:0})                          # transformation\n",
    "H = Matrix([H[0].T,H[1].T,H[2].T]).T    # re-arrange in Hessian matrix\n",
    "gr.printM(H, 'The Hessian matrix with all 2nd derivatives: ')"
   ]
  },
  {
   "cell_type": "markdown",
   "id": "5aa9cd6f",
   "metadata": {},
   "source": [
    "The Hessian matrix contains all the possible 2nd derivatives in both Cartesian and polar coordinate systems. We re-type it in a more readable form: \n",
    "\n",
    "\\begin{equation} \\label{eqHessian}\n",
    "\\begin{bmatrix}\n",
    "\\frac{∂^2𝜙}{∂ x^2}  &  \\frac{∂^2𝜙}{∂ y∂ x} &  \\frac{∂^2𝜙}{∂ z∂ x} \\\\\n",
    "\\frac{∂^2𝜙}{∂ x∂ y} &  \\frac{∂^2𝜙}{∂ y^2}  &  \\frac{∂^2𝜙}{∂ z∂ y} \\\\\n",
    "\\frac{∂^2𝜙}{∂ x∂ z} &  \\frac{∂^2𝜙}{∂ y∂ z} &  \\frac{∂^2𝜙}{∂ z^2} \\end{bmatrix}=\n",
    "\\begin{bmatrix} \n",
    "\\frac{∂^2𝜙}{∂ r^2}  \n",
    "& \\frac{1}{r} \\frac{∂^2𝜙}{∂ 𝜃∂ r}-\\frac{1}{r^2}\\frac{∂ 𝜙}{∂ 𝜃}\n",
    "& \\frac{∂^2𝜙}{∂ z∂ r} \\\\\n",
    "\\frac{1}{r} \\frac{∂^2𝜙}{∂ 𝜃∂ r}-\\frac{1}{r^2}\\frac{∂ 𝜙}{∂ 𝜃} \n",
    "& \\frac{1}{r}\\frac{∂𝜙}{∂ r}+\\frac{1}{r^2}\\frac{∂^2𝜙}{∂ 𝜃^2}   \n",
    "& \\frac{1}{r} \\frac{∂^2𝜙}{∂ 𝜃∂ z} \\\\\n",
    "\\frac{∂^2𝜙}{∂ z∂ r}  & \\frac{1}{r}\\frac{∂^2𝜙}{∂ 𝜃∂ z} &\\frac{∂^2𝜙}{∂ z^2} \\end{bmatrix}\n",
    "\\end{equation} \n",
    "\n",
    "This gives correspondence of the 2nd derivatives in these two coordinate systems. It is seen that the Hessian matrix is symmetric. "
   ]
  },
  {
   "cell_type": "markdown",
   "id": "811e90ba",
   "metadata": {},
   "source": [
    "#### Laplace operator in polar coordinate\n",
    "\n",
    "If only the Laplace of the function, $\\nabla^2𝜙$, is needed, one may simply use vector.lap(). "
   ]
  },
  {
   "cell_type": "code",
   "execution_count": 34,
   "id": "6e51e36e",
   "metadata": {
    "ExecuteTime": {
     "end_time": "2023-10-12T11:32:46.335414Z",
     "start_time": "2023-10-12T11:32:45.225506Z"
    }
   },
   "outputs": [
    {
     "data": {
      "image/png": "[encoded data removed]",
      "text/latex": [
       "$\\displaystyle \\frac{\\partial^{2}}{\\partial r^{2}} 𝜙{\\left(r,𝜃,z \\right)} + \\frac{\\partial^{2}}{\\partial z^{2}} 𝜙{\\left(r,𝜃,z \\right)} + \\frac{\\frac{\\partial}{\\partial r} 𝜙{\\left(r,𝜃,z \\right)}}{r} + \\frac{\\frac{\\partial^{2}}{\\partial 𝜃^{2}} 𝜙{\\left(r,𝜃,z \\right)}}{r^{2}}$"
      ],
      "text/plain": [
       "                                                       2            \n",
       "                                                      ∂             \n",
       "                                    ∂                ───(𝜙(r, 𝜃, z))\n",
       "  2                 2               ──(𝜙(r, 𝜃, z))     2            \n",
       " ∂                 ∂                ∂r               ∂𝜃             \n",
       "───(𝜙(r, 𝜃, z)) + ───(𝜙(r, 𝜃, z)) + ────────────── + ───────────────\n",
       "  2                 2                     r                  2      \n",
       "∂r                ∂z                                        r       "
      ]
     },
     "execution_count": 34,
     "metadata": {},
     "output_type": "execute_result"
    }
   ],
   "source": [
    "lap = vector.lap(𝜙(r, 𝜃, z), coords=(r, 𝜃, z),h_vec=scale)\n",
    "sp.simplify(lap)"
   ]
  },
  {
   "cell_type": "markdown",
   "id": "04759515",
   "metadata": {},
   "source": [
    "\\begin{equation} \\label{eqLapc}\n",
    "\\nabla^2𝜙 = \\frac{\\partial^2𝜙}{\\partial x^2} + \\frac{\\partial^2𝜙}{\\partial y^2} +\\frac{\\partial^2𝜙}{\\partial z^2}=\n",
    "\\frac{\\partial^2𝜙}{\\partial r^2}   + \\frac{1 }{r}\\frac{\\partial 𝜙}{\\partial r} + \\frac{1}{r^2}\\frac{\\partial^2𝜙}{\\partial 𝜃^2} + \\frac{\\partial^2𝜙}{\\partial z^2} \n",
    "\\end{equation} \n",
    "\n",
    "These are the sum of the diagonal terms in the Hessian matrix. The Laplace operator $\\nabla^2$ can be written as,\n",
    "\n",
    "\\begin{equation} \\label{eqLapOp}\n",
    "\\nabla^2 = \\frac{\\partial^2 }{\\partial x^2} + \\frac{\\partial^2 }{\\partial y^2} +\\frac{\\partial^2 }{\\partial z^2}=\n",
    "\\frac{\\partial^2}{\\partial r^2}   + \\frac{1 }{r}\\frac{\\partial }{\\partial r} + \\frac{1}{r^2}\\frac{\\partial^2 }{\\partial 𝜃^2} + \\frac{\\partial^2}{\\partial z^2} \n",
    "\\end{equation} \n",
    "\n",
    " In polar coordinate system, we have:\n",
    "\n",
    "\\begin{equation} \\label{eqLapOpp}\n",
    "\\nabla^2 = \\frac{\\partial^2 }{\\partial x^2} + \\frac{\\partial^2 }{\\partial y^2} =\n",
    "\\frac{\\partial^2 }{\\partial r^2}   + \\frac{1 }{r}\\frac{\\partial }{\\partial r} + \\frac{1}{r^2}\\frac{\\partial^2 }{\\partial 𝜃^2}  \n",
    "\\end{equation} \n",
    "\n",
    "The last one will be used often in this book. "
   ]
  },
  {
   "cell_type": "markdown",
   "id": "1d8761de",
   "metadata": {},
   "source": [
    "#### Bi-harmonic in polar coordinate\n",
    "\n",
    "If the bi-harmonic, or double Laplace, in polar coordinate is needed, one may simply use vector.biharmonic(). "
   ]
  },
  {
   "cell_type": "code",
   "execution_count": 35,
   "id": "6c526f36",
   "metadata": {
    "ExecuteTime": {
     "end_time": "2023-10-12T11:33:54.525679Z",
     "start_time": "2023-10-12T11:33:53.220116Z"
    }
   },
   "outputs": [
    {
     "data": {
      "image/png": "[encoded data removed]",
      "text/latex": [
       "$\\displaystyle \\frac{\\partial^{4}}{\\partial r^{4}} 𝜙{\\left(r,𝜃,z \\right)} + \\frac{\\partial^{4}}{\\partial z^{4}} 𝜙{\\left(r,𝜃,z \\right)} + 2 \\frac{\\partial^{4}}{\\partial z^{2}\\partial r^{2}} 𝜙{\\left(r,𝜃,z \\right)} + \\frac{2 \\frac{\\partial^{3}}{\\partial r^{3}} 𝜙{\\left(r,𝜃,z \\right)}}{r} + \\frac{2 \\frac{\\partial^{3}}{\\partial z^{2}\\partial r} 𝜙{\\left(r,𝜃,z \\right)}}{r} - \\frac{\\frac{\\partial^{2}}{\\partial r^{2}} 𝜙{\\left(r,𝜃,z \\right)}}{r^{2}} + \\frac{2 \\frac{\\partial^{4}}{\\partial 𝜃^{2}\\partial r^{2}} 𝜙{\\left(r,𝜃,z \\right)}}{r^{2}} + \\frac{2 \\frac{\\partial^{4}}{\\partial 𝜃^{2}\\partial z^{2}} 𝜙{\\left(r,𝜃,z \\right)}}{r^{2}} + \\frac{\\frac{\\partial}{\\partial r} 𝜙{\\left(r,𝜃,z \\right)}}{r^{3}} - \\frac{2 \\frac{\\partial^{3}}{\\partial 𝜃^{2}\\partial r} 𝜙{\\left(r,𝜃,z \\right)}}{r^{3}} + \\frac{4 \\frac{\\partial^{2}}{\\partial 𝜃^{2}} 𝜙{\\left(r,𝜃,z \\right)}}{r^{4}} + \\frac{\\frac{\\partial^{4}}{\\partial 𝜃^{4}} 𝜙{\\left(r,𝜃,z \\right)}}{r^{4}}$"
      ],
      "text/plain": [
       "                                                                3             \n",
       "                                                               ∂              \n",
       "                                                            2⋅───(𝜙(r, 𝜃, z)) \n",
       "  4                 4                     4                     3             \n",
       " ∂                 ∂                     ∂                    ∂r              \n",
       "───(𝜙(r, 𝜃, z)) + ───(𝜙(r, 𝜃, z)) + 2⋅───────(𝜙(r, 𝜃, z)) + ───────────────── \n",
       "  4                 4                   2   2                       r         \n",
       "∂r                ∂z                  ∂z  ∂r                                  \n",
       "\n",
       "       3                   2                     4                       4    \n",
       "      ∂                   ∂                     ∂                       ∂     \n",
       "  2⋅──────(𝜙(r, 𝜃, z))   ───(𝜙(r, 𝜃, z))   2⋅───────(𝜙(r, 𝜃, z))   2⋅───────(𝜙\n",
       "      2                    2                   2   2                   2   2  \n",
       "    ∂z  ∂r               ∂r                  ∂𝜃  ∂r                  ∂𝜃  ∂z   \n",
       "+ ──────────────────── - ─────────────── + ───────────────────── + ───────────\n",
       "           r                     2                    2                       \n",
       "                                r                    r                       r\n",
       "\n",
       "                                   3                     2                 4  \n",
       "                                  ∂                     ∂                 ∂   \n",
       "(r, 𝜃, z))   ∂                2⋅──────(𝜙(r, 𝜃, z))   4⋅───(𝜙(r, 𝜃, z))   ───(𝜙\n",
       "             ──(𝜙(r, 𝜃, z))       2                      2                 4  \n",
       "             ∂r                 ∂𝜃  ∂r                 ∂𝜃                ∂𝜃   \n",
       "────────── + ────────────── - ──────────────────── + ───────────────── + ─────\n",
       "2                   3                   3                     4               \n",
       "                   r                   r                     r                \n",
       "\n",
       "          \n",
       "          \n",
       "(r, 𝜃, z))\n",
       "          \n",
       "          \n",
       "──────────\n",
       "   4      \n",
       "  r       "
      ]
     },
     "execution_count": 35,
     "metadata": {},
     "output_type": "execute_result"
    }
   ],
   "source": [
    "𝜙 = sp.symbols(\"𝜙\", cls=sp.Function)(r, 𝜃, z) # an arbitrary function\n",
    "\n",
    "bi_h = vector.biharmonic(𝜙, coords=(r, 𝜃, z),h_vec=scale)\n",
    "sp.simplify(bi_h) "
   ]
  },
  {
   "cell_type": "markdown",
   "id": "00a61183",
   "metadata": {},
   "source": [
    "We thus obtain: \n",
    "\n",
    "\\begin{equation} \\label{eqbih}\n",
    "\\begin{split}\n",
    "\\nabla^4𝜙 &=\\nabla^2 \\nabla^2𝜙 = \\bigg( \\frac{∂^2}{∂x^2}+\\frac{∂^2}{∂y^2} +\\frac{∂^2}{∂z^2} \\bigg)\\bigg( \\frac{∂^2𝜙}{∂x^2}+\\frac{∂^2𝜙}{∂y^2}  +\\frac{∂^2𝜙}{∂z^2}\\bigg) \\\\\n",
    "&=   \\frac{∂^4𝜙}{∂x^4} + \\frac{∂^4𝜙}{∂y^4} + \\frac{∂^4𝜙}{∂z^4}+2\\frac{∂^4𝜙}{∂y^2∂z^2} +2\\frac{∂^4𝜙}{∂x^2∂z^2}+2\\frac{∂^4𝜙}{∂x^2∂y^2}  \\\\\n",
    "&=\\frac{∂^4𝜙}{∂r^4}  + \\frac{∂^4𝜙}{∂z^4}  + 2 \\frac{∂^4𝜙}{∂z^2∂r^2}  + \\frac{2 }{r} \\frac{∂^3𝜙}{∂r^3} + \\frac{2}{r} \\frac{∂^3𝜙}{∂z^2∂r}  - \\frac{1}{r^2}\\frac{∂^2𝜙}{∂r^2} \\\\ \n",
    "& + \\frac{2 }{r^2} \\frac{∂^4𝜙}{∂𝜃^2∂r^2}  + \\frac{2 }{r^2} \\frac{∂^4𝜙}{∂𝜃^2∂z^2}+\\frac{1}{r^3}\\frac{∂𝜙}{∂r}  - \\frac{2}{r^3} \\frac{∂^3𝜙}{∂𝜃^2∂r}  + \\frac{4}{r^4} \\frac{∂^2𝜙}{∂𝜃^2}  + \\frac{1}{r^4}\\frac{∂^4𝜙}{∂𝜃^4} \n",
    "\\end{split}\n",
    "\\end{equation} \n",
    "\n",
    "This is also useful in our later operations. "
   ]
  },
  {
   "cell_type": "markdown",
   "id": "22993ed0",
   "metadata": {},
   "source": [
    "### Stresses in the cylindrical coordinate system\n",
    "\n",
    "#### Stress functions defined in  the cylindrical coordinate system\n",
    "We can now look at the stresses (functions) in the cylindrical coordinate system. We define first the stress tensor in Sympy. "
   ]
  },
  {
   "cell_type": "code",
   "execution_count": 36,
   "id": "8a554724",
   "metadata": {
    "ExecuteTime": {
     "end_time": "2023-10-12T11:34:58.961294Z",
     "start_time": "2023-10-12T11:34:58.122032Z"
    }
   },
   "outputs": [
    {
     "data": {
      "text/latex": [
       "$\\displaystyle \\left[\\begin{matrix}\\operatorname{σ_{rr}}{\\left(r,𝜃,z \\right)} & \\operatorname{σ_{r𝜃}}{\\left(r,𝜃,z \\right)} & \\operatorname{σ_{rz}}{\\left(r,𝜃,z \\right)}\\\\\\operatorname{σ_{𝜃r}}{\\left(r,𝜃,z \\right)} & \\operatorname{σ_{𝜃𝜃}}{\\left(r,𝜃,z \\right)} & \\operatorname{σ_{𝜃z}}{\\left(r,𝜃,z \\right)}\\\\\\operatorname{σ_{zr}}{\\left(r,𝜃,z \\right)} & \\operatorname{σ_{z𝜃}}{\\left(r,𝜃,z \\right)} & \\operatorname{σ_{zz}}{\\left(r,𝜃,z \\right)}\\end{matrix}\\right]$"
      ],
      "text/plain": [
       "⎡σᵣᵣ(r, 𝜃, z)   σ_r𝜃(r, 𝜃, z)  σ_rz(r, 𝜃, z)⎤\n",
       "⎢                                           ⎥\n",
       "⎢σ_𝜃r(r, 𝜃, z)  σ_𝜃𝜃(r, 𝜃, z)  σ_𝜃z(r, 𝜃, z)⎥\n",
       "⎢                                           ⎥\n",
       "⎣σ_zr(r, 𝜃, z)  σ_z𝜃(r, 𝜃, z)  σ_zz(r, 𝜃, z)⎦"
      ]
     },
     "execution_count": 36,
     "metadata": {},
     "output_type": "execute_result"
    }
   ],
   "source": [
    "Srr, Sr𝜃, Srz = symbols(\"\\u03C3_rr \\u03C3_r𝜃 \\u03C3_rz\", cls=Function)\n",
    "S𝜃r, S𝜃𝜃, S𝜃z = symbols(\"\\u03C3_𝜃r \\u03C3_𝜃𝜃 \\u03C3_𝜃z\", cls=Function)\n",
    "Szr, Sz𝜃, Szz = symbols(\"\\u03C3_zr \\u03C3_z𝜃 \\u03C3_zz\", cls=Function)\n",
    "\n",
    "S_cyl = Matrix([                        # stress in cylindrical cords.\n",
    "    [Srr(r, 𝜃, z), Sr𝜃(r, 𝜃, z), Srz(r, 𝜃, z)],\n",
    "    [S𝜃r(r, 𝜃, z), S𝜃𝜃(r, 𝜃, z), S𝜃z(r, 𝜃, z)],\n",
    "    [Szr(r, 𝜃, z), Sz𝜃(r, 𝜃, z), Szz(r, 𝜃, z)]])\n",
    "S_cyl                                 # a tensor of 9 stress function"
   ]
  },
  {
   "cell_type": "markdown",
   "id": "cdc7bf47",
   "metadata": {},
   "source": [
    "#### Equilibrium equations in the cylindrical coordinate system\n",
    "\n",
    "As discussed in Chapter 3, the divergence of the stress vector (formed by stress components in one of these $x$, $y$, and $z$ directions) at any point in the solid, together with the applied body-force at that point, leading to equilibrium equations. We shall now do the same to establish the equilibrium equations in cylindrical coordinate system. This can be done with ease using the following codes. "
   ]
  },
  {
   "cell_type": "code",
   "execution_count": 37,
   "id": "8bf5c637",
   "metadata": {
    "ExecuteTime": {
     "end_time": "2023-10-12T11:35:41.073403Z",
     "start_time": "2023-10-12T11:35:40.228361Z"
    }
   },
   "outputs": [
    {
     "data": {
      "text/latex": [
       "$\\displaystyle \\left[\\begin{matrix}\\frac{\\partial}{\\partial r} \\operatorname{σ_{rr}}{\\left(r,𝜃,z \\right)} + \\frac{\\partial}{\\partial z} \\operatorname{σ_{zr}}{\\left(r,𝜃,z \\right)} + \\frac{\\operatorname{σ_{rr}}{\\left(r,𝜃,z \\right)}}{r} - \\frac{\\operatorname{σ_{𝜃𝜃}}{\\left(r,𝜃,z \\right)}}{r} + \\frac{\\frac{\\partial}{\\partial 𝜃} \\operatorname{σ_{𝜃r}}{\\left(r,𝜃,z \\right)}}{r}\\\\\\frac{\\partial}{\\partial r} \\operatorname{σ_{r𝜃}}{\\left(r,𝜃,z \\right)} + \\frac{\\partial}{\\partial z} \\operatorname{σ_{z𝜃}}{\\left(r,𝜃,z \\right)} + \\frac{2 \\operatorname{σ_{r𝜃}}{\\left(r,𝜃,z \\right)}}{r} + \\frac{\\frac{\\partial}{\\partial 𝜃} \\operatorname{σ_{𝜃𝜃}}{\\left(r,𝜃,z \\right)}}{r}\\\\\\frac{\\partial}{\\partial r} \\operatorname{σ_{rz}}{\\left(r,𝜃,z \\right)} + \\frac{\\partial}{\\partial z} \\operatorname{σ_{zz}}{\\left(r,𝜃,z \\right)} + \\frac{\\operatorname{σ_{rz}}{\\left(r,𝜃,z \\right)}}{r} + \\frac{\\frac{\\partial}{\\partial 𝜃} \\operatorname{σ_{𝜃z}}{\\left(r,𝜃,z \\right)}}{r}\\end{matrix}\\right]$"
      ],
      "text/plain": [
       "⎡                                                                      ∂      \n",
       "⎢                                                                      ──(σ_𝜃r\n",
       "⎢∂                  ∂                   σᵣᵣ(r, 𝜃, z)   σ_𝜃𝜃(r, 𝜃, z)   ∂𝜃     \n",
       "⎢──(σᵣᵣ(r, 𝜃, z)) + ──(σ_zr(r, 𝜃, z)) + ──────────── - ───────────── + ───────\n",
       "⎢∂r                 ∂z                       r               r                \n",
       "⎢                                                                             \n",
       "⎢                                                                ∂            \n",
       "⎢                                                                ──(σ_𝜃𝜃(r, 𝜃,\n",
       "⎢      ∂                   ∂                   2⋅σ_r𝜃(r, 𝜃, z)   ∂𝜃           \n",
       "⎢      ──(σ_r𝜃(r, 𝜃, z)) + ──(σ_z𝜃(r, 𝜃, z)) + ─────────────── + ─────────────\n",
       "⎢      ∂r                  ∂z                         r                  r    \n",
       "⎢                                                                             \n",
       "⎢                                                               ∂             \n",
       "⎢                                                               ──(σ_𝜃z(r, 𝜃, \n",
       "⎢       ∂                   ∂                   σ_rz(r, 𝜃, z)   ∂𝜃            \n",
       "⎢       ──(σ_rz(r, 𝜃, z)) + ──(σ_zz(r, 𝜃, z)) + ───────────── + ──────────────\n",
       "⎣       ∂r                  ∂z                        r                 r     \n",
       "\n",
       "          ⎤\n",
       "(r, 𝜃, z))⎥\n",
       "          ⎥\n",
       "──────────⎥\n",
       " r        ⎥\n",
       "          ⎥\n",
       "          ⎥\n",
       " z))      ⎥\n",
       "          ⎥\n",
       "────      ⎥\n",
       "          ⎥\n",
       "          ⎥\n",
       "          ⎥\n",
       "z))       ⎥\n",
       "          ⎥\n",
       "───       ⎥\n",
       "          ⎦"
      ]
     },
     "execution_count": 37,
     "metadata": {},
     "output_type": "execute_result"
    }
   ],
   "source": [
    "# Compute the divergence of the stress vector:\n",
    "div_Scyl = vector.div_tensor(S_cyl.T, coords=(r, 𝜃, z),h_vec=scale)    \n",
    "\n",
    "div_Scyl = div_Scyl.expand()\n",
    "div_Scyl"
   ]
  },
  {
   "cell_type": "markdown",
   "id": "6abef7af",
   "metadata": {},
   "source": [
    "The equilibrium equations in cylindrical coordinate system are given as follows. \n",
    "\n",
    "\\begin{equation} \\label{eqEeqc}\n",
    "\\begin{bmatrix}\n",
    "\\frac{\\partial σ_{rr}}{\\partial r}+ \\frac{1}{r} \\frac{\\partial σ_{𝜃r}}{\\partial 𝜃} +\\frac{σ_{rr}-σ_{𝜃𝜃}}{r}+\\frac{\\partial σ_{zr}}{\\partial z}\\\\\n",
    "\\frac{\\partial σ_{r𝜃}}{\\partial r} +\\frac{1}{r} \\frac{\\partial σ_{𝜃𝜃}}{\\partial 𝜃}+\\frac{2 σ_{r𝜃} }{r}+\\frac{\\partial σ_{z𝜃}}{\\partial z}\\\\\n",
    "\\frac{\\partial σ_{rz}}{\\partial r}+ \\frac{1}{r} \\frac{\\partial σ_{𝜃z} }{\\partial 𝜃}+\\frac{σ_{rz}}{r}  +\\frac{\\partial σ_{zz}}{\\partial z}\\end{bmatrix} +\n",
    "\\begin{bmatrix} b_r \\\\ b_𝜃 \\\\ b_z \\end{bmatrix} =0\n",
    "\\end{equation} \n",
    "\n",
    "In the polar coordinate system, all terms related to z is omitted, and hence Eq. (\\ref{eqEeqc}) is reduced to \n",
    "\n",
    "\\begin{equation} \\label{eqEeqp}\n",
    "\\begin{bmatrix}\n",
    "\\frac{\\partial σ_{rr}}{\\partial r}+ \\frac{1}{r} \\frac{\\partial σ_{𝜃r}}{\\partial 𝜃} +\\frac{σ_{rr}-σ_{𝜃𝜃}}{r} \\\\\n",
    "\\frac{\\partial σ_{r𝜃}}{\\partial r} +\\frac{1}{r} \\frac{\\partial σ_{𝜃𝜃}}{\\partial 𝜃}+\\frac{2 σ_{r𝜃} }{r}  \\end{bmatrix} +\n",
    "\\begin{bmatrix} b_r \\\\ b_𝜃  \\end{bmatrix} =\\mathbf{0}\n",
    "\\end{equation} \n",
    "\n",
    "We will solve Eq.(\\ref{eqEeqp}) for a number of practically useful problems.  "
   ]
  },
  {
   "cell_type": "markdown",
   "id": "b7b04943",
   "metadata": {},
   "source": [
    "### Derivatives of a scalar function in spherical coordinate\n",
    "\n",
    "#### Spherical coordinates\n",
    "\n",
    "Consider the spherical coordinates $(r, \\theta, \\varphi)$ standing, respectively, for radial distance, polar angle, and azimuthal angle, as shown in Fig.\\ref{image:SphericalCoord}. \n",
    "\n",
    "<img src=\"./images/SphericalCoord.png\" alt=\" \" width=\"350\"/><br>\n",
    "\\begin{figure}\n",
    "  \\includegraphics[width=5cm]{}\n",
    "  \\caption{\\label{image:SphericalCoord} Spherical coordinates with radial distance $r$, polar angle $\\theta$, and azimuthal angle $\\varphi$. Images from en.wikipedia by Ag2gaeh under the CC BY-SA 4.0 license.}\n",
    "\\end{figure}"
   ]
  },
  {
   "cell_type": "markdown",
   "id": "0c64e692",
   "metadata": {},
   "source": [
    "Let us define the coordinates. "
   ]
  },
  {
   "cell_type": "code",
   "execution_count": 38,
   "id": "e81d0ed3",
   "metadata": {
    "ExecuteTime": {
     "end_time": "2023-10-12T11:49:30.422304Z",
     "start_time": "2023-10-12T11:49:29.108235Z"
    },
    "scrolled": true
   },
   "outputs": [
    {
     "name": "stdout",
     "output_type": "stream",
     "text": [
      "Spherical coordinates [x, y, z]^T = \n"
     ]
    },
    {
     "data": {
      "text/latex": [
       "$\\displaystyle \\left[\\begin{matrix}r \\sin{\\left(𝜃 \\right)} \\cos{\\left(p \\right)}\\\\r \\sin{\\left(p \\right)} \\sin{\\left(𝜃 \\right)}\\\\r \\sin{\\left(𝜃 \\right)}\\end{matrix}\\right]$"
      ],
      "text/plain": [
       "⎡r⋅sin(𝜃)⋅cos(p)⎤\n",
       "⎢               ⎥\n",
       "⎢r⋅sin(p)⋅sin(𝜃)⎥\n",
       "⎢               ⎥\n",
       "⎣   r⋅sin(𝜃)    ⎦"
      ]
     },
     "execution_count": 38,
     "metadata": {},
     "output_type": "execute_result"
    }
   ],
   "source": [
    "x, y, z = sp.symbols(\"x, y, z\") \n",
    "r, 𝜃, p = sp.symbols(\"r, 𝜃, p\")  # use p for phi (𝜑) to avoid conflict\n",
    "xyz_sph = vector.transform_coords(\"spherical\", (r, 𝜃, p))\n",
    "xyz_sph = Matrix(xyz_sph)\n",
    "gr.printM(xyz_sph, \"Spherical coordinates [x, y, z]^T = \")"
   ]
  },
  {
   "cell_type": "code",
   "execution_count": 39,
   "id": "cf8957ae",
   "metadata": {
    "ExecuteTime": {
     "end_time": "2023-10-12T11:49:32.872177Z",
     "start_time": "2023-10-12T11:49:31.956434Z"
    },
    "scrolled": true
   },
   "outputs": [
    {
     "data": {
      "image/png": "[encoded data removed]",
      "text/latex": [
       "$\\displaystyle \\left( 1, \\  r, \\  r \\sin{\\left(𝜃 \\right)}\\right)$"
      ],
      "text/plain": [
       "(1, r, r⋅sin(𝜃))"
      ]
     },
     "execution_count": 39,
     "metadata": {},
     "output_type": "execute_result"
    }
   ],
   "source": [
    "scale = vector.scale_coeff_coords(\"spherical\", (r, 𝜃, p))\n",
    "scale   # (𝛼, 𝛽, 𝛾)"
   ]
  },
  {
   "cell_type": "code",
   "execution_count": 40,
   "id": "71105c7d",
   "metadata": {
    "ExecuteTime": {
     "end_time": "2023-10-12T11:49:34.883585Z",
     "start_time": "2023-10-12T11:49:34.182305Z"
    }
   },
   "outputs": [
    {
     "data": {
      "text/latex": [
       "$\\displaystyle \\left[\\begin{matrix}\\sin{\\left(𝜃 \\right)} \\cos{\\left(p \\right)} & r \\cos{\\left(p \\right)} \\cos{\\left(𝜃 \\right)} & - r \\sin{\\left(p \\right)} \\sin{\\left(𝜃 \\right)}\\\\\\sin{\\left(p \\right)} \\sin{\\left(𝜃 \\right)} & r \\sin{\\left(p \\right)} \\cos{\\left(𝜃 \\right)} & r \\sin{\\left(𝜃 \\right)} \\cos{\\left(p \\right)}\\\\\\sin{\\left(𝜃 \\right)} & r \\cos{\\left(𝜃 \\right)} & 0\\end{matrix}\\right]$"
      ],
      "text/plain": [
       "⎡sin(𝜃)⋅cos(p)  r⋅cos(p)⋅cos(𝜃)  -r⋅sin(p)⋅sin(𝜃)⎤\n",
       "⎢                                                ⎥\n",
       "⎢sin(p)⋅sin(𝜃)  r⋅sin(p)⋅cos(𝜃)  r⋅sin(𝜃)⋅cos(p) ⎥\n",
       "⎢                                                ⎥\n",
       "⎣   sin(𝜃)         r⋅cos(𝜃)             0        ⎦"
      ]
     },
     "execution_count": 40,
     "metadata": {},
     "output_type": "execute_result"
    }
   ],
   "source": [
    "xyz_sph.jacobian([r, 𝜃, p])"
   ]
  },
  {
   "cell_type": "code",
   "execution_count": 41,
   "id": "62eb1ab3",
   "metadata": {
    "ExecuteTime": {
     "end_time": "2023-10-12T11:49:38.248116Z",
     "start_time": "2023-10-12T11:49:36.397953Z"
    }
   },
   "outputs": [
    {
     "name": "stdout",
     "output_type": "stream",
     "text": [
      "[r, 𝜃, p]^T:\n"
     ]
    },
    {
     "data": {
      "image/png": "[encoded data removed]",
      "text/latex": [
       "$\\displaystyle \\left[\\begin{matrix}\\sqrt{x^{2} + y^{2} + z^{2}}\\\\\\operatorname{acos}{\\left(\\frac{z}{\\sqrt{x^{2} + y^{2} + z^{2}}} \\right)}\\\\\\operatorname{acos}{\\left(\\frac{x}{\\sqrt{x^{2} + y^{2}}} \\right)}\\end{matrix}\\right]$"
      ],
      "text/plain": [
       "⎡      ______________   ⎤\n",
       "⎢     ╱  2    2    2    ⎥\n",
       "⎢   ╲╱  x  + y  + z     ⎥\n",
       "⎢                       ⎥\n",
       "⎢    ⎛        z        ⎞⎥\n",
       "⎢acos⎜─────────────────⎟⎥\n",
       "⎢    ⎜   ______________⎟⎥\n",
       "⎢    ⎜  ╱  2    2    2 ⎟⎥\n",
       "⎢    ⎝╲╱  x  + y  + z  ⎠⎥\n",
       "⎢                       ⎥\n",
       "⎢      ⎛     x      ⎞   ⎥\n",
       "⎢  acos⎜────────────⎟   ⎥\n",
       "⎢      ⎜   _________⎟   ⎥\n",
       "⎢      ⎜  ╱  2    2 ⎟   ⎥\n",
       "⎣      ⎝╲╱  x  + y  ⎠   ⎦"
      ]
     },
     "execution_count": 41,
     "metadata": {},
     "output_type": "execute_result"
    }
   ],
   "source": [
    "fr = sp.sqrt(x**2 + y**2 + z**2) \n",
    "f𝜃 = sp.acos(z/sp.sqrt(x**2 + y**2 + z**2))\n",
    "f𝜑 = sp.acos(x/sp.sqrt(x**2 + y**2) )\n",
    "fvs = sp.Matrix([fr, f𝜃, f𝜑])\n",
    "gr.printM(fvs, \"[r, 𝜃, p]^T:\")"
   ]
  },
  {
   "cell_type": "code",
   "execution_count": 42,
   "id": "9977e4cb",
   "metadata": {
    "ExecuteTime": {
     "end_time": "2023-10-12T11:49:45.905188Z",
     "start_time": "2023-10-12T11:49:44.096530Z"
    }
   },
   "outputs": [
    {
     "data": {
      "image/png": "[encoded data removed]",
      "text/latex": [
       "$\\displaystyle \\left[\\begin{matrix}\\frac{x}{\\sqrt{x^{2} + y^{2} + z^{2}}} & \\frac{y}{\\sqrt{x^{2} + y^{2} + z^{2}}} & \\frac{z}{\\sqrt{x^{2} + y^{2} + z^{2}}}\\\\\\frac{x z}{\\sqrt{- \\frac{z^{2}}{x^{2} + y^{2} + z^{2}} + 1} \\left(x^{2} + y^{2} + z^{2}\\right)^{\\frac{3}{2}}} & \\frac{y z}{\\sqrt{- \\frac{z^{2}}{x^{2} + y^{2} + z^{2}} + 1} \\left(x^{2} + y^{2} + z^{2}\\right)^{\\frac{3}{2}}} & - \\frac{- \\frac{z^{2}}{\\left(x^{2} + y^{2} + z^{2}\\right)^{\\frac{3}{2}}} + \\frac{1}{\\sqrt{x^{2} + y^{2} + z^{2}}}}{\\sqrt{- \\frac{z^{2}}{x^{2} + y^{2} + z^{2}} + 1}}\\\\- \\frac{- \\frac{x^{2}}{\\left(x^{2} + y^{2}\\right)^{\\frac{3}{2}}} + \\frac{1}{\\sqrt{x^{2} + y^{2}}}}{\\sqrt{- \\frac{x^{2}}{x^{2} + y^{2}} + 1}} & \\frac{x y}{\\left(x^{2} + y^{2}\\right)^{\\frac{3}{2}} \\sqrt{- \\frac{x^{2}}{x^{2} + y^{2}} + 1}} & 0\\end{matrix}\\right]$"
      ],
      "text/plain": [
       "⎡                     x                                             y         \n",
       "⎢             ─────────────────                             ───────────────── \n",
       "⎢                ______________                                ______________ \n",
       "⎢               ╱  2    2    2                                ╱  2    2    2  \n",
       "⎢             ╲╱  x  + y  + z                               ╲╱  x  + y  + z   \n",
       "⎢                                                                             \n",
       "⎢                                                                             \n",
       "⎢                                                                             \n",
       "⎢                                                                             \n",
       "⎢                                                                             \n",
       "⎢                                                                             \n",
       "⎢                    x⋅z                                           y⋅z        \n",
       "⎢────────────────────────────────────────────  ───────────────────────────────\n",
       "⎢      ____________________                          ____________________     \n",
       "⎢     ╱         2                         3/2       ╱         2               \n",
       "⎢    ╱         z            ⎛ 2    2    2⎞         ╱         z            ⎛ 2 \n",
       "⎢   ╱   - ──────────── + 1 ⋅⎝x  + y  + z ⎠        ╱   - ──────────── + 1 ⋅⎝x  \n",
       "⎢  ╱       2    2    2                           ╱       2    2    2          \n",
       "⎢╲╱       x  + y  + z                          ╲╱       x  + y  + z           \n",
       "⎢                                                                             \n",
       "⎢      ⎛        2                    ⎞                                        \n",
       "⎢      ⎜       x              1      ⎟                                        \n",
       "⎢     -⎜- ──────────── + ────────────⎟                                        \n",
       "⎢      ⎜           3/2      _________⎟                                        \n",
       "⎢      ⎜  ⎛ 2    2⎞        ╱  2    2 ⎟                                        \n",
       "⎢      ⎝  ⎝x  + y ⎠      ╲╱  x  + y  ⎠                             x⋅y        \n",
       "⎢     ─────────────────────────────────             ──────────────────────────\n",
       "⎢                 _______________                                      _______\n",
       "⎢                ╱       2                                   3/2      ╱       \n",
       "⎢               ╱       x                           ⎛ 2    2⎞        ╱       x\n",
       "⎢              ╱   - ─────── + 1                    ⎝x  + y ⎠   ⋅   ╱   - ────\n",
       "⎢             ╱       2    2                                       ╱       2  \n",
       "⎣           ╲╱       x  + y                                      ╲╱       x  +\n",
       "\n",
       "                                    z                     ⎤\n",
       "                            ─────────────────             ⎥\n",
       "                               ______________             ⎥\n",
       "                              ╱  2    2    2              ⎥\n",
       "                            ╲╱  x  + y  + z               ⎥\n",
       "                                                          ⎥\n",
       "                ⎛           2                           ⎞ ⎥\n",
       "                ⎜          z                   1        ⎟ ⎥\n",
       "               -⎜- ───────────────── + ─────────────────⎟ ⎥\n",
       "                ⎜                3/2      ______________⎟ ⎥\n",
       "                ⎜  ⎛ 2    2    2⎞        ╱  2    2    2 ⎟ ⎥\n",
       "                ⎝  ⎝x  + y  + z ⎠      ╲╱  x  + y  + z  ⎠ ⎥\n",
       "─────────────  ───────────────────────────────────────────⎥\n",
       "                              ____________________        ⎥\n",
       "          3/2                ╱         2                  ⎥\n",
       "   2    2⎞                  ╱         z                   ⎥\n",
       "+ y  + z ⎠                 ╱   - ──────────── + 1         ⎥\n",
       "                          ╱       2    2    2             ⎥\n",
       "                        ╲╱       x  + y  + z              ⎥\n",
       "                                                          ⎥\n",
       "                                                          ⎥\n",
       "                                                          ⎥\n",
       "                                                          ⎥\n",
       "                                                          ⎥\n",
       "                                                          ⎥\n",
       "                                                          ⎥\n",
       "────────                            0                     ⎥\n",
       "________                                                  ⎥\n",
       "2                                                         ⎥\n",
       "                                                          ⎥\n",
       "─── + 1                                                   ⎥\n",
       "  2                                                       ⎥\n",
       " y                                                        ⎦"
      ]
     },
     "execution_count": 42,
     "metadata": {},
     "output_type": "execute_result"
    }
   ],
   "source": [
    "J_sph = fvs.jacobian([x, y, z]) \n",
    "J_sph"
   ]
  },
  {
   "cell_type": "code",
   "execution_count": 43,
   "id": "047e2195",
   "metadata": {
    "ExecuteTime": {
     "end_time": "2023-10-12T11:49:53.239292Z",
     "start_time": "2023-10-12T11:49:51.670282Z"
    }
   },
   "outputs": [
    {
     "data": {
      "image/png": "[encoded data removed]",
      "text/latex": [
       "$\\displaystyle \\frac{x z}{\\sqrt{1 - \\frac{z^{2}}{r^{2}}} \\left(r^{2}\\right)^{\\frac{3}{2}}}$"
      ],
      "text/plain": [
       "         x⋅z          \n",
       "──────────────────────\n",
       "      ________        \n",
       "     ╱      2      3/2\n",
       "    ╱      z   ⎛ 2⎞   \n",
       "   ╱   1 - ── ⋅⎝r ⎠   \n",
       "  ╱         2         \n",
       "╲╱         r          "
      ]
     },
     "execution_count": 43,
     "metadata": {},
     "output_type": "execute_result"
    }
   ],
   "source": [
    "J_sph = simplify(J_sph.subs({x**2 + y**2 + z**2:r**2}))\n",
    "J_sph[1,0].simplify()"
   ]
  },
  {
   "cell_type": "markdown",
   "id": "6cbedb8f",
   "metadata": {},
   "source": [
    "We can convert each of the entries to expressions in the spherical coordinates. For example: "
   ]
  },
  {
   "cell_type": "code",
   "execution_count": 44,
   "id": "6d9b89b7",
   "metadata": {
    "ExecuteTime": {
     "end_time": "2023-10-12T11:49:55.839162Z",
     "start_time": "2023-10-12T11:49:54.269623Z"
    }
   },
   "outputs": [
    {
     "data": {
      "image/png": "[encoded data removed]",
      "text/latex": [
       "$\\displaystyle \\frac{r \\sin{\\left(𝜃 \\right)} \\cos{\\left(p \\right)}}{\\sqrt{r^{2}}}$"
      ],
      "text/plain": [
       "r⋅sin(𝜃)⋅cos(p)\n",
       "───────────────\n",
       "       ____    \n",
       "      ╱  2     \n",
       "    ╲╱  r      "
      ]
     },
     "execution_count": 44,
     "metadata": {},
     "output_type": "execute_result"
    }
   ],
   "source": [
    "J_sph = simplify(J_sph.subs({x:xyz_sph[0],y:xyz_sph[1],y:xyz_sph[2]}))\n",
    "J_sph[0,0].simplify()"
   ]
  },
  {
   "cell_type": "markdown",
   "id": "01ed3058",
   "metadata": {},
   "source": [
    "#### Laplace operator in  spherical coordinates\n",
    "\n",
    "If only the Laplace of the function, $\\nabla^2𝜙$, is needed, one may simply use vector.lap(). "
   ]
  },
  {
   "cell_type": "code",
   "execution_count": 45,
   "id": "eb706e41",
   "metadata": {
    "ExecuteTime": {
     "end_time": "2023-10-12T11:52:00.812188Z",
     "start_time": "2023-10-12T11:51:58.964404Z"
    },
    "scrolled": true
   },
   "outputs": [
    {
     "data": {
      "image/png": "[encoded data removed]",
      "text/latex": [
       "$\\displaystyle \\frac{\\partial^{2}}{\\partial r^{2}} 𝜙{\\left(r,𝜃,p \\right)} + \\frac{2 \\frac{\\partial}{\\partial r} 𝜙{\\left(r,𝜃,p \\right)}}{r} + \\frac{\\frac{\\partial^{2}}{\\partial 𝜃^{2}} 𝜙{\\left(r,𝜃,p \\right)}}{r^{2}} + \\frac{\\frac{\\partial}{\\partial 𝜃} 𝜙{\\left(r,𝜃,p \\right)}}{r^{2} \\tan{\\left(𝜃 \\right)}} + \\frac{\\frac{\\partial^{2}}{\\partial p^{2}} 𝜙{\\left(r,𝜃,p \\right)}}{r^{2} \\sin^{2}{\\left(𝜃 \\right)}}$"
      ],
      "text/plain": [
       "                                       2                                  2   \n",
       "                                      ∂                                  ∂    \n",
       "                    ∂                ───(𝜙(r, 𝜃, p))   ∂                ───(𝜙(\n",
       "  2               2⋅──(𝜙(r, 𝜃, p))     2               ──(𝜙(r, 𝜃, p))     2   \n",
       " ∂                  ∂r               ∂𝜃                ∂𝜃               ∂p    \n",
       "───(𝜙(r, 𝜃, p)) + ──────────────── + ─────────────── + ────────────── + ──────\n",
       "  2                      r                   2            2                 2 \n",
       "∂r                                          r            r ⋅tan(𝜃)         r ⋅\n",
       "\n",
       "         \n",
       "         \n",
       "r, 𝜃, p))\n",
       "         \n",
       "         \n",
       "─────────\n",
       "   2     \n",
       "sin (𝜃)  "
      ]
     },
     "execution_count": 45,
     "metadata": {},
     "output_type": "execute_result"
    }
   ],
   "source": [
    "𝜙 = sp.symbols(\"𝜙\", cls=sp.Function)(r, 𝜃, p) # an arbitrary function\n",
    "lap = vector.lap(𝜙, coords=(r, 𝜃, p),h_vec=scale)\n",
    "simplify(lap).expand()"
   ]
  },
  {
   "cell_type": "markdown",
   "id": "65cbfd48",
   "metadata": {},
   "source": [
    "### Stresses in the spherical coordinate system\n",
    "\n",
    "#### Stress functions defined in  the spherical coordinate system\n",
    "\n",
    "We can now look at the stresses (functions) in the spherical coordinate system. We define first the stress tensor in Sympy. "
   ]
  },
  {
   "cell_type": "code",
   "execution_count": 46,
   "id": "11fc763e",
   "metadata": {
    "ExecuteTime": {
     "end_time": "2023-10-12T11:52:10.692663Z",
     "start_time": "2023-10-12T11:52:09.842041Z"
    },
    "scrolled": true
   },
   "outputs": [
    {
     "data": {
      "text/latex": [
       "$\\displaystyle \\left[\\begin{matrix}\\operatorname{σ_{rr}}{\\left(r,𝜃,p \\right)} & \\operatorname{σ_{r𝜃}}{\\left(r,𝜃,p \\right)} & \\operatorname{σ_{rp}}{\\left(r,𝜃,p \\right)}\\\\\\operatorname{σ_{𝜃r}}{\\left(r,𝜃,p \\right)} & \\operatorname{σ_{𝜃𝜃}}{\\left(r,𝜃,p \\right)} & \\operatorname{σ_{𝜃p}}{\\left(r,𝜃,p \\right)}\\\\\\operatorname{σ_{pr}}{\\left(r,𝜃,p \\right)} & \\operatorname{σ_{p𝜃}}{\\left(r,𝜃,p \\right)} & \\operatorname{σ_{pp}}{\\left(r,𝜃,p \\right)}\\end{matrix}\\right]$"
      ],
      "text/plain": [
       "⎡σᵣᵣ(r, 𝜃, p)   σ_r𝜃(r, 𝜃, p)  σᵣₚ(r, 𝜃, p) ⎤\n",
       "⎢                                           ⎥\n",
       "⎢σ_𝜃r(r, 𝜃, p)  σ_𝜃𝜃(r, 𝜃, p)  σ_𝜃p(r, 𝜃, p)⎥\n",
       "⎢                                           ⎥\n",
       "⎣σₚᵣ(r, 𝜃, p)   σ_p𝜃(r, 𝜃, p)  σₚₚ(r, 𝜃, p) ⎦"
      ]
     },
     "execution_count": 46,
     "metadata": {},
     "output_type": "execute_result"
    }
   ],
   "source": [
    "Srr, Sr𝜃, Srp = symbols(\"\\u03C3_rr \\u03C3_r𝜃 \\u03C3_rp\", cls=Function) \n",
    "S𝜃r, S𝜃𝜃, S𝜃p = symbols(\"\\u03C3_𝜃r \\u03C3_𝜃𝜃 \\u03C3_𝜃p\", cls=Function) \n",
    "Spr, Sp𝜃, Spp = symbols(\"\\u03C3_pr \\u03C3_p𝜃 \\u03C3_pp\", cls=Function) \n",
    "\n",
    "#Ss = sp.symbols(\"Ss\", cls=sp.Function)       # stress in sphere cords.\n",
    "Ss = Matrix([\n",
    "    [Srr(r, 𝜃, p), Sr𝜃(r, 𝜃, p), Srp(r, 𝜃, p)],\n",
    "    [S𝜃r(r, 𝜃, p), S𝜃𝜃(r, 𝜃, p), S𝜃p(r, 𝜃, p)],\n",
    "    [Spr(r, 𝜃, p), Sp𝜃(r, 𝜃, p), Spp(r, 𝜃, p)]])\n",
    "Ss                   # a tensor of 9 functions: stress tensor function"
   ]
  },
  {
   "cell_type": "markdown",
   "id": "a3680a50",
   "metadata": {},
   "source": [
    "#### Equilibrium equations in the spherical coordinate system\n",
    "\n",
    "We compute the divergence of the stress vector to establish the equilibrium equations in spherical coordinate system, as we did for the cylindrical coordinates."
   ]
  },
  {
   "cell_type": "code",
   "execution_count": 47,
   "id": "e9978af3",
   "metadata": {
    "ExecuteTime": {
     "end_time": "2023-10-12T11:52:17.543465Z",
     "start_time": "2023-10-12T11:52:16.675789Z"
    }
   },
   "outputs": [
    {
     "data": {
      "text/latex": [
       "$\\displaystyle \\left[\\begin{matrix}\\frac{\\partial}{\\partial r} \\operatorname{σ_{rr}}{\\left(r,𝜃,p \\right)} - \\frac{\\operatorname{σ_{pp}}{\\left(r,𝜃,p \\right)}}{r} + \\frac{2 \\operatorname{σ_{rr}}{\\left(r,𝜃,p \\right)}}{r} + \\frac{\\operatorname{σ_{𝜃r}}{\\left(r,𝜃,p \\right)} \\cos{\\left(𝜃 \\right)}}{r \\sin{\\left(𝜃 \\right)}} - \\frac{\\operatorname{σ_{𝜃𝜃}}{\\left(r,𝜃,p \\right)}}{r} + \\frac{\\frac{\\partial}{\\partial 𝜃} \\operatorname{σ_{𝜃r}}{\\left(r,𝜃,p \\right)}}{r} + \\frac{\\frac{\\partial}{\\partial p} \\operatorname{σ_{pr}}{\\left(r,𝜃,p \\right)}}{r \\sin{\\left(𝜃 \\right)}}\\\\\\frac{\\partial}{\\partial r} \\operatorname{σ_{r𝜃}}{\\left(r,𝜃,p \\right)} - \\frac{\\operatorname{σ_{pp}}{\\left(r,𝜃,p \\right)} \\cos{\\left(𝜃 \\right)}}{r \\sin{\\left(𝜃 \\right)}} + \\frac{3 \\operatorname{σ_{r𝜃}}{\\left(r,𝜃,p \\right)}}{r} + \\frac{\\operatorname{σ_{𝜃𝜃}}{\\left(r,𝜃,p \\right)} \\cos{\\left(𝜃 \\right)}}{r \\sin{\\left(𝜃 \\right)}} + \\frac{\\frac{\\partial}{\\partial 𝜃} \\operatorname{σ_{𝜃𝜃}}{\\left(r,𝜃,p \\right)}}{r} + \\frac{\\frac{\\partial}{\\partial p} \\operatorname{σ_{p𝜃}}{\\left(r,𝜃,p \\right)}}{r \\sin{\\left(𝜃 \\right)}}\\\\\\frac{\\partial}{\\partial r} \\operatorname{σ_{rp}}{\\left(r,𝜃,p \\right)} + \\frac{2 \\operatorname{σ_{rp}}{\\left(r,𝜃,p \\right)}}{r} + \\frac{\\operatorname{σ_{𝜃p}}{\\left(r,𝜃,p \\right)} \\cos{\\left(𝜃 \\right)}}{r \\sin{\\left(𝜃 \\right)}} + \\frac{\\frac{\\partial}{\\partial 𝜃} \\operatorname{σ_{𝜃p}}{\\left(r,𝜃,p \\right)}}{r} + \\frac{\\frac{\\partial}{\\partial p} \\operatorname{σ_{pp}}{\\left(r,𝜃,p \\right)}}{r \\sin{\\left(𝜃 \\right)}}\\end{matrix}\\right]$"
      ],
      "text/plain": [
       "⎡                                                                             \n",
       "⎢                                                                             \n",
       "⎢∂                  σₚₚ(r, 𝜃, p)   2⋅σᵣᵣ(r, 𝜃, p)   σ_𝜃r(r, 𝜃, p)⋅cos(𝜃)   σ_𝜃\n",
       "⎢──(σᵣᵣ(r, 𝜃, p)) - ──────────── + ────────────── + ──────────────────── - ───\n",
       "⎢∂r                      r               r                r⋅sin(𝜃)            \n",
       "⎢                                                                             \n",
       "⎢                                                                             \n",
       "⎢                                                                             \n",
       "⎢   ∂                   σₚₚ(r, 𝜃, p)⋅cos(𝜃)   3⋅σ_r𝜃(r, 𝜃, p)   σ_𝜃𝜃(r, 𝜃, p)⋅\n",
       "⎢   ──(σ_r𝜃(r, 𝜃, p)) - ─────────────────── + ─────────────── + ──────────────\n",
       "⎢   ∂r                        r⋅sin(𝜃)               r                r⋅sin(𝜃)\n",
       "⎢                                                                             \n",
       "⎢                                                                          ∂  \n",
       "⎢                                                                          ──(\n",
       "⎢               ∂                  2⋅σᵣₚ(r, 𝜃, p)   σ_𝜃p(r, 𝜃, p)⋅cos(𝜃)   ∂𝜃 \n",
       "⎢               ──(σᵣₚ(r, 𝜃, p)) + ────────────── + ──────────────────── + ───\n",
       "⎣               ∂r                       r                r⋅sin(𝜃)            \n",
       "\n",
       "             ∂                   ∂               ⎤\n",
       "             ──(σ_𝜃r(r, 𝜃, p))   ──(σₚᵣ(r, 𝜃, p))⎥\n",
       "𝜃(r, 𝜃, p)   ∂𝜃                  ∂p              ⎥\n",
       "────────── + ───────────────── + ────────────────⎥\n",
       "   r                 r               r⋅sin(𝜃)    ⎥\n",
       "                                                 ⎥\n",
       "         ∂                   ∂                   ⎥\n",
       "         ──(σ_𝜃𝜃(r, 𝜃, p))   ──(σ_p𝜃(r, 𝜃, p))   ⎥\n",
       "cos(𝜃)   ∂𝜃                  ∂p                  ⎥\n",
       "────── + ───────────────── + ─────────────────   ⎥\n",
       "                 r                r⋅sin(𝜃)       ⎥\n",
       "                                                 ⎥\n",
       "                 ∂                               ⎥\n",
       "σ_𝜃p(r, 𝜃, p))   ──(σₚₚ(r, 𝜃, p))                ⎥\n",
       "                 ∂p                              ⎥\n",
       "────────────── + ────────────────                ⎥\n",
       "     r               r⋅sin(𝜃)                    ⎦"
      ]
     },
     "execution_count": 47,
     "metadata": {},
     "output_type": "execute_result"
    }
   ],
   "source": [
    "# Compute the divergence of the stress vector:\n",
    "div_Ss = vector.div_tensor(Ss.T, coords=(r, 𝜃, p),h_vec=scale)    \n",
    "\n",
    "div_Ss = div_Ss.expand()\n",
    "div_Ss"
   ]
  },
  {
   "cell_type": "markdown",
   "id": "ae8a7500",
   "metadata": {},
   "source": [
    "The equilibrium equations in spherical coordinate system are given as follows. \n",
    "\n",
    "\\begin{equation} \\label{eqEeqsph}\n",
    "\\begin{bmatrix}\n",
    "\\frac{\\partial σ_{rr}}{\\partial r}+ \\frac{1}{r}\\frac{\\partial σ_{𝜃r}}{\\partial 𝜃} + \\frac{1}{r \\sin𝜃}\\frac{\\partial σ_{pr}}{\\partial p} + \\frac{1}{r}\\big(2 σ_{rr}-σ_{𝜃𝜃} -σ_{pp} + σ_{𝜃r} \\cot𝜃 \\big) \\\\ \n",
    "\\frac{\\partial σ_{r𝜃}}{\\partial r}+ \\frac{1}{r}\\frac{\\partial σ_{𝜃𝜃}}{\\partial 𝜃} + \\frac{1}{r \\sin𝜃}\\frac{\\partial σ_{p𝜃}}{\\partial p} + \\frac{1}{r} \\big((σ_{𝜃𝜃} -σ_{pp})\\cot𝜃 +3 σ_{r𝜃}\\big) \\\\ \n",
    "\\frac{\\partial σ_{rp}}{\\partial r}+ \\frac{1}{r}\\frac{\\partial σ_{𝜃p}}{\\partial 𝜃}+ \\frac{1}{r \\sin𝜃}\\frac{\\partial σ_{pp}}{\\partial p}  + \\frac{1}{r}\\big(2 σ_{rp}+σ_{𝜃p} \\cot𝜃 \\big)\\end{bmatrix} +\n",
    "\\begin{bmatrix} b_r \\\\ b_𝜃 \\\\ b_p \\end{bmatrix} =0\n",
    "\\end{equation} "
   ]
  },
  {
   "cell_type": "markdown",
   "id": "18180c42",
   "metadata": {},
   "source": [
    "### Other useful equations in polar coordinates\n",
    "\n",
    "To solve problems in the polar coordinate system, we need a set of other equations expressed in the polar coordinates. These equations can be derived using the counterpart equations in the Cartesian coordinate system given in the previous chapter. This is done using the relations derived so far in the forgoing sections. "
   ]
  },
  {
   "cell_type": "markdown",
   "id": "f5231bfc",
   "metadata": {},
   "source": [
    "#### Stresses in stress functions in the polar coordinate system\n",
    "\n",
    "Using the relationship between the stresses and the stress-function in the Cartesian system, and the corresponding terms for 2nd derivatives in the Hessian matrix Eq.(\\ref{eqHessian}), the stresses in  the polar coordinates can be written in stress function $\\phi$ as follows.  \n",
    "\n",
    "\\begin{equation} \\label{eqSSp}\n",
    "\\begin{split}\n",
    "𝜎_{rr} &=\\frac{1}{r}\\frac{∂𝜙}{∂ r}+\\frac{1}{r^2}\\frac{∂^2𝜙}{∂ 𝜃^2}\\\\\n",
    "𝜎_{𝜃𝜃} &=\\frac{∂^2𝜙}{∂ r^2}\\\\\n",
    "𝜎_{r𝜃} &=\\frac{1}{r^2}\\frac{∂ 𝜙}{∂ 𝜃}-\\frac{1}{r} \\frac{∂^2𝜙}{∂ 𝜃∂ r} =-\\frac{∂}{∂r}\\bigg(\\frac{1}{r} \\frac{∂𝜙}{∂ 𝜃} \\bigg)\n",
    "\\end{split}\n",
    "\\end{equation}\n",
    "\n",
    "where $\\phi$ is stress function that has the following form (see, Eq.(\\ref{eqLapOpp})). \n",
    "\n",
    "\\begin{equation} \\label{eq4phip}\n",
    "\\begin{split}\n",
    "\\nabla^4𝜙 &= \\nabla^2\\nabla^2𝜙 =\\bigg(\\frac{\\partial^2 }{\\partial r^2}   + \\frac{1 }{r}\\frac{\\partial }{\\partial r} + \\frac{1}{r^2}\\frac{\\partial^2 }{\\partial 𝜃^2}\\bigg) \\bigg(\\frac{\\partial^2 𝜙}{\\partial r^2}   + \\frac{1 }{r}\\frac{\\partial 𝜙}{\\partial r} + \\frac{1}{r^2}\\frac{\\partial^2 𝜙}{\\partial 𝜃^2}\\bigg) \\\\\n",
    "&=\\frac{∂^4𝜙}{∂r^4} + \\frac{2 }{r} \\frac{∂^3𝜙}{∂r^3}  - \\frac{1}{r^2}\\frac{∂^2𝜙}{∂r^2} \n",
    "+ \\frac{2 }{r^2} \\frac{∂^4𝜙}{∂𝜃^2∂r^2} +\\frac{1}{r^3}\\frac{∂𝜙}{∂r}  - \\frac{2}{r^3} \\frac{∂^3𝜙}{∂𝜃^2∂r}  + \\frac{4}{r^4} \\frac{∂^2𝜙}{∂𝜃^2}  + \\frac{1}{r^4}\\frac{∂^4𝜙}{∂𝜃^4} \n",
    "\\end{split}\n",
    "\\end{equation} "
   ]
  },
  {
   "cell_type": "markdown",
   "id": "654c123f",
   "metadata": {},
   "source": [
    "#### Compatibility equations in terms of stresses in the polar coordinates\n",
    "\n",
    "The compatibility equation in stresses in the Cartesian coordinates is,\n",
    "\n",
    "\\begin{equation} \\label{eqEqLap}\n",
    " \\nabla^2(\\sigma_{xx}+\\sigma_{yy})=- \\kappa_\\nu \\left(\\frac{\\partial b_x}{\\partial x} + \\frac{\\partial b_y}{\\partial y} \\right)\n",
    "\\end{equation}\n",
    "\n",
    "where the right-hand-side is the divergence of the body force vector field (scaled by constant $\\kappa_\\nu$). Because the divergence of a vector field is a physical property of the field, its value should not be affected by the use of coordinates. The divergence for the same given force vector field in the polar coordinate system can be found as follows. "
   ]
  },
  {
   "cell_type": "code",
   "execution_count": 48,
   "id": "00c45f56",
   "metadata": {
    "ExecuteTime": {
     "end_time": "2023-10-12T15:19:56.719580Z",
     "start_time": "2023-10-12T15:19:55.227896Z"
    }
   },
   "outputs": [
    {
     "data": {
      "image/png": "[encoded data removed]",
      "text/latex": [
       "$\\displaystyle \\frac{\\partial}{\\partial r} \\operatorname{b_{r }}{\\left(r,𝜃,z \\right)} + \\frac{2 \\operatorname{b_{r }}{\\left(r,𝜃,z \\right)}}{r} + \\frac{\\operatorname{b_{𝜃 }}{\\left(r,𝜃,z \\right)}}{r \\tan{\\left(𝜃 \\right)}} + \\frac{\\frac{\\partial}{\\partial 𝜃} \\operatorname{b_{𝜃 }}{\\left(r,𝜃,z \\right)}}{r} + \\frac{\\frac{\\partial}{\\partial z} \\operatorname{b_{z }}{\\left(r,𝜃,z \\right)}}{r \\sin{\\left(𝜃 \\right)}}$"
      ],
      "text/plain": [
       "                                                      ∂                   ∂   \n",
       "                                                      ──(b_𝜃 (r, 𝜃, z))   ──(b\n",
       "∂                   2⋅b_r (r, 𝜃, z)   b_𝜃 (r, 𝜃, z)   ∂𝜃                  ∂z  \n",
       "──(b_r (r, 𝜃, z)) + ─────────────── + ───────────── + ───────────────── + ────\n",
       "∂r                         r             r⋅tan(𝜃)             r               \n",
       "\n",
       "             \n",
       "_z (r, 𝜃, z))\n",
       "             \n",
       "─────────────\n",
       " r⋅sin(𝜃)    "
      ]
     },
     "execution_count": 48,
     "metadata": {},
     "output_type": "execute_result"
    }
   ],
   "source": [
    "#br, b𝜃, bz = symbols(\"br, b𝜃, bz\", cls=Function) \n",
    "br = Function(\"b_r \")(r, 𝜃, z)\n",
    "b𝜃 = Function(\"b_𝜃 \")(r, 𝜃, z)\n",
    "bz = Function(\"b_z \")(r, 𝜃, z)\n",
    "bv = Matrix([br, b𝜃, bz])\n",
    "\n",
    "# Compute the divergence of the stress vector:\n",
    "div_bv = vector.div(bv, coords=(r, 𝜃, z), h_vec=scale).expand()    \n",
    "div_bv"
   ]
  },
  {
   "cell_type": "markdown",
   "id": "37c549ff",
   "metadata": {},
   "source": [
    "Removing the term related to $z$ from the forgoing result gives,\n",
    "\n",
    "\\begin{equation} \\label{eqDiv}\n",
    "\\left(\\frac{\\partial b_x}{\\partial x} + \\frac{\\partial b_y}{\\partial y} \\right)=\n",
    "\\frac{\\partial b_{r}}{\\partial r}+\\frac{b_{r}}{r}+ \\frac{1}{r}\\frac{\\partial b_{𝜃 }}{\\partial 𝜃} \n",
    "\\end{equation}\n",
    "\n",
    "Using Eq.(\\ref{eqEqLap}), the compatibility equations in stresses in the polar coordinates becomes, \n",
    "\n",
    "\\begin{equation} \\label{eqCompSp}\n",
    "\\left(\\frac{\\partial^2 }{\\partial r^2}+ \\frac{1 }{r}\\frac{\\partial }{\\partial r} + \\frac{1}{r^2}\\frac{\\partial^2 }{\\partial 𝜃^2} \\right) (\\sigma_{rr}+\\sigma_{𝜃𝜃})=- \\kappa_\\nu \\left(\\frac{\\partial b_{r}}{\\partial r}+\\frac{b_{r}}{r}+ \\frac{1}{r}\\frac{\\partial b_{𝜃 }}{\\partial 𝜃}\\right)\n",
    "\\end{equation}"
   ]
  },
  {
   "cell_type": "markdown",
   "id": "7a176b86",
   "metadata": {},
   "source": [
    "#### Compatibility equations  in terms of stress function  in the polar coordinates\n",
    "\n",
    "Or in the stress function,\n",
    "\n",
    "\\begin{equation} \\label{eqComppp}\n",
    "\\nabla^4\\phi = - \\kappa'_\\nu \\left(\\frac{\\partial b_{r}}{\\partial r}+\\frac{b_{r}}{r}+ \\frac{1}{r}\\frac{\\partial b_{𝜃 }}{\\partial 𝜃}\\right)\n",
    "\\end{equation}\n",
    "\n",
    "where the bi-harmonic $\\nabla^4\\phi$ is defined in Eq.(\\ref{eq4phip}). If $b_{r}=0$ and $b_{𝜃}$ is constant, we have\n",
    "\n",
    "\\begin{equation} \\label{eqd4pp}\n",
    "\\nabla^4\\phi =0\n",
    "\\end{equation}"
   ]
  },
  {
   "cell_type": "markdown",
   "id": "c314246a",
   "metadata": {},
   "source": [
    "### Solution strategy in solving problems in polar coordinates\n",
    "\n",
    "To solve problems in polar coordinates using the stress method, the procedure is outlined as follows.\n",
    "\n",
    "1. Find a stress function that satisfies the compatibility equation (\\ref{eqComppp}) or (\\ref{eqd4pp}), which shall contain integral constants in general.\n",
    "\n",
    "2. Find the stresses with the help of Eq.(\\ref{eqSSp}). \n",
    "\n",
    "3. Use the constitutive equation (that is the same as in the Cartesian coordinates) to connect the strains with the stresses. \n",
    "\n",
    "4. Write the displacements (and its differentials) in terms of the strains using Eq.(\\ref{eqErt}), and then in stress using the constitutive equations. \n",
    "\n",
    "5. Find the displacements vi integrations, and separation of equation technique. This leads to general displacement solution with constants to be determined. \n",
    "\n",
    "6. Use boundary conditions (stresses and/or displacements) to determine these constants. \n",
    "\n",
    "In the next chapters, we will use this strategy to solve a number of problems. "
   ]
  },
  {
   "cell_type": "markdown",
   "id": "e6d8b5a1",
   "metadata": {},
   "source": [
    "# References\n",
    "\n",
    "[<a id=\"cit-boresi1985advanced\" href=\"#call-boresi1985advanced\">1</a>] Arthur Peter Boresi, Richard Joseph Schmidt and Omar M Sidebottom, ``_Advanced mechanics of materials_'',  John Wiley \\& Sons, New York, 1985.\n",
    "\n",
    "[<a id=\"cit-liu2013finite\" href=\"#call-liu2013finite\">2</a>] GR Liu and Siu Sin Quek, ``_The finite element method: a practical course_'',  Butterworth-Heinemann, 2013.\n",
    "\n",
    "[<a id=\"cit-liusmoothed\" href=\"#call-liusmoothed\">3</a>] G.R. Liu and TT Nguyen, ``_Smoothed finite element methods_'',  Taylor and Francis Group, NewYork, 2010.\n",
    "\n"
   ]
  }
 ],
 "metadata": {
  "kernelspec": {
   "display_name": "Python 3 (ipykernel)",
   "language": "python",
   "name": "python3"
  },
  "language_info": {
   "codemirror_mode": {
    "name": "ipython",
    "version": 3
   },
   "file_extension": ".py",
   "mimetype": "text/x-python",
   "name": "python",
   "nbconvert_exporter": "python",
   "pygments_lexer": "ipython3",
   "version": "3.9.16"
  },
  "latex_envs": {
   "LaTeX_envs_menu_present": true,
   "autoclose": true,
   "autocomplete": true,
   "bibliofile": "../biblio.bib",
   "cite_by": "number",
   "current_citInitial": 1,
   "eqLabelWithNumbers": true,
   "eqNumInitial": 1,
   "hotkeys": {
    "equation": "Ctrl-E",
    "itemize": "Ctrl-I"
   },
   "labels_anchors": false,
   "latex_user_defs": false,
   "report_style_numbering": true,
   "user_envs_cfg": false
  },
  "toc": {
   "base_numbering": "4",
   "nav_menu": {},
   "number_sections": true,
   "sideBar": true,
   "skip_h1_title": true,
   "title_cell": "Table of Contents",
   "title_sidebar": "Contents",
   "toc_cell": true,
   "toc_position": {
    "height": "calc(100% - 180px)",
    "left": "10px",
    "top": "150px",
    "width": "275.925px"
   },
   "toc_section_display": true,
   "toc_window_display": false
  },
  "varInspector": {
   "cols": {
    "lenName": 16,
    "lenType": 16,
    "lenVar": 40
   },
   "kernels_config": {
    "python": {
     "delete_cmd_postfix": "",
     "delete_cmd_prefix": "del ",
     "library": "var_list.py",
     "varRefreshCmd": "print(var_dic_list())"
    },
    "r": {
     "delete_cmd_postfix": ") ",
     "delete_cmd_prefix": "rm(",
     "library": "var_list.r",
     "varRefreshCmd": "cat(var_dic_list()) "
    }
   },
   "types_to_exclude": [
    "module",
    "function",
    "builtin_function_or_method",
    "instance",
    "_Feature"
   ],
   "window_display": false
  }
 },
 "nbformat": 4,
 "nbformat_minor": 5
}
