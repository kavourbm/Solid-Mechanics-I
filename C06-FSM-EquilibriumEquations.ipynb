{
 "cells": [
  {
   "cell_type": "markdown",
   "metadata": {
    "toc": true
   },
   "source": [
    "<h1>Table of Contents<span class=\"tocSkip\"></span></h1>\n",
    "<div class=\"toc\"><ul class=\"toc-item\"><li><span><a href=\"#Equilibrium-Equations\" data-toc-modified-id=\"Equilibrium-Equations-6\"><span class=\"toc-item-num\">6&nbsp;&nbsp;</span>Equilibrium Equations</a></span><ul class=\"toc-item\"><li><span><a href=\"#Introduction\" data-toc-modified-id=\"Introduction-6.1\"><span class=\"toc-item-num\">6.1&nbsp;&nbsp;</span>Introduction</a></span></li><li><span><a href=\"#Equilibrium-equation-in-terms-of-stresses\" data-toc-modified-id=\"Equilibrium-equation-in-terms-of-stresses-6.2\"><span class=\"toc-item-num\">6.2&nbsp;&nbsp;</span>Equilibrium equation in terms of stresses</a></span><ul class=\"toc-item\"><li><span><a href=\"#Free-body-diagram\" data-toc-modified-id=\"Free-body-diagram-6.2.1\"><span class=\"toc-item-num\">6.2.1&nbsp;&nbsp;</span>Free body diagram</a></span></li></ul></li><li><span><a href=\"#Equilibrium-equations\" data-toc-modified-id=\"Equilibrium-equations-6.3\"><span class=\"toc-item-num\">6.3&nbsp;&nbsp;</span>Equilibrium equations</a></span><ul class=\"toc-item\"><li><span><a href=\"#Equilibrium-equation-in-$x$-direction\" data-toc-modified-id=\"Equilibrium-equation-in-$x$-direction-6.3.1\"><span class=\"toc-item-num\">6.3.1&nbsp;&nbsp;</span>Equilibrium equation in $x$-direction</a></span></li><li><span><a href=\"#Equilibrium-in-$y$--and-$z$-directions\" data-toc-modified-id=\"Equilibrium-in-$y$--and-$z$-directions-6.3.2\"><span class=\"toc-item-num\">6.3.2&nbsp;&nbsp;</span>Equilibrium in $y$- and $z$-directions</a></span></li><li><span><a href=\"#Equilibrium-equation-in-indicial-notation\" data-toc-modified-id=\"Equilibrium-equation-in-indicial-notation-6.3.3\"><span class=\"toc-item-num\">6.3.3&nbsp;&nbsp;</span>Equilibrium equation in indicial notation</a></span></li><li><span><a href=\"#Equilibrium-equation-in-2D-and-1D\" data-toc-modified-id=\"Equilibrium-equation-in-2D-and-1D-6.3.4\"><span class=\"toc-item-num\">6.3.4&nbsp;&nbsp;</span>Equilibrium equation in 2D and 1D</a></span></li><li><span><a href=\"#Equilibrium-equation-via-divergence-of-stress-tensor-function\" data-toc-modified-id=\"Equilibrium-equation-via-divergence-of-stress-tensor-function-6.3.5\"><span class=\"toc-item-num\">6.3.5&nbsp;&nbsp;</span>Equilibrium equation via divergence of stress tensor function</a></span></li></ul></li><li><span><a href=\"#Equilibrium-equations-in-displacements\" data-toc-modified-id=\"Equilibrium-equations-in-displacements-6.4\"><span class=\"toc-item-num\">6.4&nbsp;&nbsp;</span>Equilibrium equations in displacements</a></span><ul class=\"toc-item\"><li><span><a href=\"#General-formulation-in-3D\" data-toc-modified-id=\"General-formulation-in-3D-6.4.1\"><span class=\"toc-item-num\">6.4.1&nbsp;&nbsp;</span>General formulation in 3D</a></span></li><li><span><a href=\"#Formulations-of-2D-problems\" data-toc-modified-id=\"Formulations-of-2D-problems-6.4.2\"><span class=\"toc-item-num\">6.4.2&nbsp;&nbsp;</span>Formulations of 2D problems</a></span><ul class=\"toc-item\"><li><span><a href=\"#Plane-strain-problems\" data-toc-modified-id=\"Plane-strain-problems-6.4.2.1\"><span class=\"toc-item-num\">6.4.2.1&nbsp;&nbsp;</span>Plane strain problems</a></span></li><li><span><a href=\"#Plane-stress-problems\" data-toc-modified-id=\"Plane-stress-problems-6.4.2.2\"><span class=\"toc-item-num\">6.4.2.2&nbsp;&nbsp;</span>Plane stress problems</a></span></li></ul></li><li><span><a href=\"#Formulations-of-1D-bar-problems\" data-toc-modified-id=\"Formulations-of-1D-bar-problems-6.4.3\"><span class=\"toc-item-num\">6.4.3&nbsp;&nbsp;</span>Formulations of 1D bar problems</a></span><ul class=\"toc-item\"><li><span><a href=\"#1D-yz-constrained-problem\" data-toc-modified-id=\"1D-yz-constrained-problem-6.4.3.1\"><span class=\"toc-item-num\">6.4.3.1&nbsp;&nbsp;</span>1D yz-constrained problem</a></span></li><li><span><a href=\"#1D-y-constrained-problem\" data-toc-modified-id=\"1D-y-constrained-problem-6.4.3.2\"><span class=\"toc-item-num\">6.4.3.2&nbsp;&nbsp;</span>1D y-constrained problem</a></span></li><li><span><a href=\"#1D-bar-problem\" data-toc-modified-id=\"1D-bar-problem-6.4.3.3\"><span class=\"toc-item-num\">6.4.3.3&nbsp;&nbsp;</span>1D bar problem</a></span></li></ul></li></ul></li><li><span><a href=\"#Boundary-conditions\" data-toc-modified-id=\"Boundary-conditions-6.5\"><span class=\"toc-item-num\">6.5&nbsp;&nbsp;</span>Boundary conditions</a></span><ul class=\"toc-item\"><li><span><a href=\"#Displacement-boundary-conditions\" data-toc-modified-id=\"Displacement-boundary-conditions-6.5.1\"><span class=\"toc-item-num\">6.5.1&nbsp;&nbsp;</span>Displacement boundary conditions</a></span></li><li><span><a href=\"#Stress-boundary-conditions\" data-toc-modified-id=\"Stress-boundary-conditions-6.5.2\"><span class=\"toc-item-num\">6.5.2&nbsp;&nbsp;</span>Stress boundary conditions</a></span></li></ul></li><li><span><a href=\"#On-techniques-for-soling-solid-mechanics-problems\" data-toc-modified-id=\"On-techniques-for-soling-solid-mechanics-problems-6.6\"><span class=\"toc-item-num\">6.6&nbsp;&nbsp;</span>On techniques for soling solid mechanics problems</a></span></li><li><span><a href=\"#Remarks\" data-toc-modified-id=\"Remarks-6.7\"><span class=\"toc-item-num\">6.7&nbsp;&nbsp;</span>Remarks</a></span></li></ul></li></ul></div>"
   ]
  },
  {
   "cell_type": "code",
   "execution_count": 1,
   "metadata": {
    "ExecuteTime": {
     "end_time": "2023-11-11T11:17:57.519752Z",
     "start_time": "2023-11-11T11:17:49.953068Z"
    }
   },
   "outputs": [],
   "source": [
    "# Place curse in this cell, and press Ctrl+Enter to import dependences. \n",
    "import sys                         # for accessing the computer system\n",
    "sys.path.append('../grbin/')  # Change to the directory in your system \n",
    "\n",
    "from commonImports import *       # Import dependences from '../grbin/'\n",
    "import grcodes as gr                 # Import the module of the author\n",
    "#importlib.reload(gr)            # When grcodes is modified, reload it\n",
    "\n",
    "from continuum_mechanics import vector \n",
    "init_printing(use_unicode=True)      # For latex-like quality printing \n",
    "np.set_printoptions(precision=4,suppress=True)  # Digits in print-outs"
   ]
  },
  {
   "cell_type": "markdown",
   "metadata": {
    "ExecuteTime": {
     "end_time": "2022-09-16T14:46:17.658953Z",
     "start_time": "2022-09-16T14:46:17.639164Z"
    }
   },
   "source": [
    "## Equilibrium Equations\n",
    "\n",
    "### Introduction\n",
    "\n",
    "Consider a three-dimensional (3D) solid material occupying a physical domain $Ω$ bounded by $Γ$. The solid is subjected to body forces $\\mathbf{b}$ over $Ω$. The displacements of parts of the boundary $Γ_u$ is strained, rest of boundary $Γ_t$ is subjected traction forces $\\mathbf{t}$ that are given or zero, and $Γ=Γ_u ∪ Γ_t$, as shown in Fig.\\ref{image:3Dsolid}. \n",
    "\n",
    "<img src=\"./images/3Dsolid.png\" alt=\" \" width=\"300\"/>\n",
    "\\begin{figure}\n",
    "  \\includegraphics[width=5cm]{}\n",
    "  \\caption{\\label{image:3Dsolid} A 3D solid constrained on the displacement boundary $Γ_u$. It is loaded by body forces $\\mathbf{b}$ over the domain, traction forces $\\mathbf{t}$ over $Γ_t$.}\n",
    "\\end{figure}  \n",
    "\n",
    "In the previous chapters, we discussed where the stresses are coming from, how strains relate to displacements, and then how the stress and strain are related. We need now one more important piece: how the stress and forces are working together to satisfy the equilibrium conditions. This chapter provides this piece. The conclusion is: the divergence of the stresses at any point in solid material is compensated by the body force distributed in the solid, leading to the **equilibrium equation**. It governs the behavior of the loaded solid material inside its domain, and hence known as the **governing equations** for loaded solid materials.  "
   ]
  },
  {
   "cell_type": "markdown",
   "metadata": {},
   "source": [
    "### Equilibrium equation in terms of stresses\n",
    "\n",
    "Stresses in loaded solid materials will in general vary from location to location. In a coordinate system, they will be functions of coordinates. Therefore, a stress tensor becomes a tensor function. Such variations shall related to the equilibrium state of the loaded solid at any point within the solid. We examine such variations, leading to the one of the most important equation governing the behavior of the solid: the equilibrium equation.   \n",
    "\n",
    "#### Free body diagram\n",
    "\n",
    "Consider a solid material subjected to external forces, resulting in stresses distributed over the solids, in a way detained in Chapter 3. Assume the solid media is continuous, and the stresses are sufficiently smooth and hence their functions are **differentiable** at least at first order. \n",
    "\n",
    "We first derive the equilibrium based on the law of mechanics: the sum of all the forces at any point in solid must vanish. To do this, we isolate a small representative cell from the solid, which is a usual brick, as shown in Fig.\\ref{image:CubeEquilibrium}. The directions of all there surface of the brick a in $x$ or $y$ or $z$ directions.  \n",
    "\n",
    "<img src=\"./images/CubeEquilibrium.png\" alt=\" \" width=\"300\"/>\n",
    "\\begin{figure}\n",
    "  \\includegraphics[width=5cm]{}\n",
    "  \\caption{\\label{image:CubeEquilibrium} A representative infinitely small brick from a solid with dimensions of d$x$, d$y$, and d$z$. All stresses are on the six surfaces, and those in the $x$-direction are highlighted in red.  Because the stresses are functions, a change in coordinates results in change in stresses.}\n",
    "\\end{figure} "
   ]
  },
  {
   "cell_type": "markdown",
   "metadata": {},
   "source": [
    "### Equilibrium equations\n",
    "\n",
    "#### Equilibrium equation in $x$-direction\n",
    "\n",
    "Let us now consider, as an exmple, all the stress components only in the $x$-direction. The sum of the forces resulted from these stress components and the externally applied body-force must vanish. We thus have,\n",
    "\n",
    "\\begin{equation} \\label{eqEeqx}\n",
    "\\begin{split}\n",
    "(σ_{xx}+dσ_{xx})dydz-σ_{xx}dydz+&\\\\(σ_{yx}+dσ_{yx})dxdz-σ_{yx}dxdz+&\\\\\n",
    "(σ_{zx}+dσ_{zx})dxdy-σ_{zx}dxdy+&b_x dxdydz=\\rho \\ddot{u}_x dxdydz\n",
    "\\end{split}\n",
    "\\end{equation} \n",
    "\n",
    "where $b_x$ is the $x$ component of the external body-force vector $\\mathbf{b}$, which can also be a function of the coordinates and time $t$; $\\rho$ is the density of the solid; $\\ddot{u}_x$ is the $x$ component of the acceleration, due to $\\mathbf{b}$ changing with time, which is also a function of the coordinates. Equation (\\ref{eqEeqx}) can be simplified to\n",
    "\n",
    "\\begin{equation} \\label{eqEeqxs}\n",
    "dσ_{xx}dydz+dσ_{yx}dxdz+dσ_{zx}dxdy+b_x dxdydz=\\rho \\ddot{u}_x dxdydz\n",
    "\\end{equation} "
   ]
  },
  {
   "cell_type": "markdown",
   "metadata": {},
   "source": [
    "Because the stress components are differentiable, we have,\n",
    "\n",
    "\\begin{equation} \\label{eqds}\n",
    "dσ_{xx}=\\frac{\\partial σ_{xx}}{\\partial x} dx; \\;\\; dσ_{yx}=\\frac{\\partial σ_{yx}}{\\partial y} dy; \\;\\;dσ_{zx}=\\frac{\\partial σ_{zx}}{\\partial z} dz  \n",
    "\\end{equation} \n",
    "\n",
    "Substituting Eq.(\\ref{eqds}) into Eq.(\\ref{eqEeqxs}) leads to \n",
    "\n",
    "\\begin{equation} \\label{eqEeqx2}\n",
    "\\frac{\\partial σ_{xx}}{\\partial x} dxdydz+\\frac{\\partial σ_{yx}}{\\partial y} dydxdz+\\frac{\\partial σ_{zx}}{\\partial z} dzdxdy+b_x  dxdydz=\\rho \\ddot{u}_x dxdydz\n",
    "\\end{equation} \n",
    "\n",
    "which can be simplified (the volume $dxdydz$ is nonzero) to \n",
    "\n",
    "\\begin{equation} \\label{eqEeqxx}\n",
    "\\frac{\\partial σ_{xx}}{\\partial x} +\\frac{\\partial σ_{yx}}{\\partial y}  + \\frac{\\partial σ_{zx}}{\\partial z} +b_x =\\rho \\ddot{u}_x\n",
    "\\end{equation} \n",
    "\n",
    "This is the equation by enforcing the equilibrium of all these forces in the $x$-direction. "
   ]
  },
  {
   "cell_type": "markdown",
   "metadata": {},
   "source": [
    "Notice that all these three stress components Eq.(\\ref{eqEeqxx}) are the ones in the $x$-direction. Thus, we can form the following vector of these stresses: \n",
    "\n",
    "\\begin{equation} \\label{eqSxv}\n",
    "\\mathbf{σ}_x = \\begin{bmatrix} σ_{xx}\\\\ σ_{yx} \\\\ σ_{zx}\\end{bmatrix}\n",
    "\\end{equation} \n",
    "\n",
    "These stress components are on, respectively, $x$, $y$, and $z$ surfaces. These coordinates can vary. The sum of their derivatives $\\frac{\\partial σ_{xx}}{\\partial x} +\\frac{\\partial σ_{yx}}{\\partial y}  + \\frac{\\partial σ_{zx}}{\\partial z}$ (with respect to the coordinate variations) forms the so-called **divergence** of the stress vector. It is the spatial rate of all losses of stresses in the $x$-direction. It must be **compensated** by the external force (density) in the same $x$-direction in order to satisfy the equilibrium, which is Eq.(\\ref{eqEeqx2}). Note that we treat the inertia force as an externally applied force but with a negative sign. We shall discuss divergence in more detail in the next section. "
   ]
  },
  {
   "cell_type": "markdown",
   "metadata": {},
   "source": [
    "#### Equilibrium in $y$- and $z$-directions\n",
    "\n",
    "The same can be done for forces in the $y$- and $z$-directions, which gives \n",
    "\n",
    "\\begin{equation} \\label{eqEeqyz}\n",
    "\\frac{\\partial σ_{xy}}{\\partial x} +\\frac{\\partial σ_{yy}}{\\partial y}  + \\frac{\\partial σ_{zy}}{\\partial z} +b_y =\\rho \\ddot{u}_y\\\\\n",
    "\\frac{\\partial σ_{xz}}{\\partial x} +\\frac{\\partial σ_{yz}}{\\partial y}  + \\frac{\\partial σ_{zz}}{\\partial z} +b_z =\\rho \\ddot{u}_z \n",
    "\\end{equation} \n",
    "\n",
    "Equations (\\ref{eqEeqxx}) and (\\ref{eqEeqyz}) are the set of three equilibrium equations of 3D solids subjected to external body-forces $b_i, i=x,y,z$, each of which can be a function of the coordinates. \n",
    "\n",
    "#### Equilibrium equation in indicial notation\n",
    "\n",
    "In indicial notation, this set of equilibrium equations can be written simply as, \n",
    "\n",
    "\\begin{equation} \\label{eqEeqij0}\n",
    "σ_{ji,j}+b_i = \\rho \\ddot{u}_i  \\;\\; \\in \\Omega\n",
    "\\end{equation} \n",
    "\n",
    "This is the governing equation at any point in a loaded solid. Notice that the contraction is on the first index of the stress tensor. For static problems, we simply drop the the inertia term on the right-hand-side. In such cases, the unknowns in the unknowns in the governing equation are these 6 stress components. \n",
    "\n",
    "We assume the application of forces are all very slow and hence has no dynamic effect. The problem can be treated as a static problem, and Eq.(\\ref{eqEeqij0}) becomes, \n",
    "\n",
    "\\begin{equation} \\label{eqEeqij}\n",
    "σ_{ji,j}+b_i =0  \\;\\; \\in \\Omega\n",
    "\\end{equation} \n",
    "\n",
    "#### Equilibrium equation in 2D and 1D \n",
    "\n",
    "For 2D problems, the equilibrium equations can be obtained by simply removing all terms related to $z$, which gives:\n",
    "\n",
    "\\begin{equation} \\label{eqEeq2D}\n",
    "\\frac{\\partial σ_{xx}}{\\partial x} +\\frac{\\partial σ_{yx}}{\\partial y} +b_x =\\rho \\ddot{u}_x \\\\\n",
    "\\frac{\\partial σ_{xy}}{\\partial x} +\\frac{\\partial σ_{yy}}{\\partial y} +b_y =\\rho \\ddot{u}_y\n",
    "\\end{equation} \n",
    "\n",
    "Equation (\\ref{eqEeqij}) still holds for 2D problems, but the range of $i$ and $j$ is in 1 to 2. \n",
    "\n",
    "For 1D problems, the equilibrium equation is simply,  \n",
    "\n",
    "\\begin{equation} \\label{eqEeq1D}\n",
    "\\frac{\\partial σ_{xx}}{\\partial x} + b_x = \\rho \\ddot{u}\n",
    "\\end{equation} \n",
    "\n",
    "which is the equation we derived in the beginning of Chapter 3 (when omitting the inertia term). For 1D cases, we may drop the indexes, when all variables are treated as scalars. "
   ]
  },
  {
   "cell_type": "markdown",
   "metadata": {},
   "source": [
    "#### Equilibrium equation via divergence of stress tensor function \n",
    "\n",
    "In the previous section, we found that the divergence of the vector function becomes a single function of coordinates. Expanding this finding, we may expect that a divergence of a tensor function produces a vector function. We also found that  a stress vector divergence is directly related to the body force. We shall expect that stress tensor divergence relate to body force in all directions, leading to the set of equilibrium equations, but in a pure mathematical way. \n",
    "\n",
    "Consider a stress tensor that can be represented by a 3$\\times 3$ matrix in space $\\mathbb{R}^3$. We first define the stress tensor symbolically as follows. "
   ]
  },
  {
   "cell_type": "code",
   "execution_count": 5,
   "metadata": {
    "ExecuteTime": {
     "end_time": "2023-11-11T12:14:29.323110Z",
     "start_time": "2023-11-11T12:14:29.303166Z"
    }
   },
   "outputs": [],
   "source": [
    "Sxx, Sxy, Sxz = symbols(\"\\u03C3_xx \\u03C3_xy \\u03C3_xz\", cls=Function)\n",
    "Syx, Syy, Syz = symbols(\"\\u03C3_yx \\u03C3_yy \\u03C3_yz\", cls=Function)\n",
    "Szx, Szy, Szz = symbols(\"\\u03C3_zx \\u03C3_zy \\u03C3_zz\", cls=Function)"
   ]
  },
  {
   "cell_type": "markdown",
   "metadata": {},
   "source": [
    "Because each of the stress components could be a function of coordinates, we now define a tensor function: matrix of functions.  "
   ]
  },
  {
   "cell_type": "code",
   "execution_count": 6,
   "metadata": {
    "ExecuteTime": {
     "end_time": "2023-11-11T12:15:29.574875Z",
     "start_time": "2023-11-11T12:15:27.219702Z"
    },
    "scrolled": false
   },
   "outputs": [
    {
     "data": {
      "text/latex": [
       "$\\displaystyle \\left[\\begin{matrix}σ_{xx}{\\left(x,y,z \\right)} & σ_{xy}{\\left(x,y,z \\right)} & σ_{xz}{\\left(x,y,z \\right)}\\\\σ_{yx}{\\left(x,y,z \\right)} & σ_{yy}{\\left(x,y,z \\right)} & σ_{yz}{\\left(x,y,z \\right)}\\\\σ_{zx}{\\left(x,y,z \\right)} & σ_{zy}{\\left(x,y,z \\right)} & σ_{zz}{\\left(x,y,z \\right)}\\end{matrix}\\right]$"
      ],
      "text/plain": [
       "⎡σₓₓ(x, y, z)   σ_xy(x, y, z)  σ_xz(x, y, z)⎤\n",
       "⎢                                           ⎥\n",
       "⎢σ_yx(x, y, z)  σ_yy(x, y, z)  σ_yz(x, y, z)⎥\n",
       "⎢                                           ⎥\n",
       "⎣σ_zx(x, y, z)  σ_zy(x, y, z)  σ_zz(x, y, z)⎦"
      ]
     },
     "execution_count": 6,
     "metadata": {},
     "output_type": "execute_result"
    }
   ],
   "source": [
    "x, y, z = symbols(\"x, y, z\") \n",
    "\n",
    "Sf = Matrix([[Sxx(x, y, z), Sxy(x, y, z), Sxz(x, y, z)],\n",
    "             [Syx(x, y, z), Syy(x, y, z), Syz(x, y, z)],\n",
    "             [Szx(x, y, z), Szy(x, y, z), Szz(x, y, z)]])\n",
    "Sf           # a tensor of 9 functions: stress tensor function"
   ]
  },
  {
   "cell_type": "markdown",
   "metadata": {},
   "source": [
    "Notice that a column in the stress matrix is a vector of stresses in a direction. Let us now take the divergence of the tensor function: "
   ]
  },
  {
   "cell_type": "code",
   "execution_count": 7,
   "metadata": {
    "ExecuteTime": {
     "end_time": "2023-11-11T12:15:59.100176Z",
     "start_time": "2023-11-11T12:15:57.754437Z"
    }
   },
   "outputs": [
    {
     "data": {
      "text/latex": [
       "$\\displaystyle \\left[\\begin{matrix}\\frac{\\partial}{\\partial x} σ_{xx}{\\left(x,y,z \\right)} + \\frac{\\partial}{\\partial y} σ_{yx}{\\left(x,y,z \\right)} + \\frac{\\partial}{\\partial z} σ_{zx}{\\left(x,y,z \\right)}\\\\\\frac{\\partial}{\\partial x} σ_{xy}{\\left(x,y,z \\right)} + \\frac{\\partial}{\\partial y} σ_{yy}{\\left(x,y,z \\right)} + \\frac{\\partial}{\\partial z} σ_{zy}{\\left(x,y,z \\right)}\\\\\\frac{\\partial}{\\partial x} σ_{xz}{\\left(x,y,z \\right)} + \\frac{\\partial}{\\partial y} σ_{yz}{\\left(x,y,z \\right)} + \\frac{\\partial}{\\partial z} σ_{zz}{\\left(x,y,z \\right)}\\end{matrix}\\right]$"
      ],
      "text/plain": [
       "⎡∂                  ∂                   ∂                 ⎤\n",
       "⎢──(σₓₓ(x, y, z)) + ──(σ_yx(x, y, z)) + ──(σ_zx(x, y, z)) ⎥\n",
       "⎢∂x                 ∂y                  ∂z                ⎥\n",
       "⎢                                                         ⎥\n",
       "⎢∂                   ∂                   ∂                ⎥\n",
       "⎢──(σ_xy(x, y, z)) + ──(σ_yy(x, y, z)) + ──(σ_zy(x, y, z))⎥\n",
       "⎢∂x                  ∂y                  ∂z               ⎥\n",
       "⎢                                                         ⎥\n",
       "⎢∂                   ∂                   ∂                ⎥\n",
       "⎢──(σ_xz(x, y, z)) + ──(σ_yz(x, y, z)) + ──(σ_zz(x, y, z))⎥\n",
       "⎣∂x                  ∂y                  ∂z               ⎦"
      ]
     },
     "execution_count": 7,
     "metadata": {},
     "output_type": "execute_result"
    }
   ],
   "source": [
    "div_Sf = vector.div_tensor(Sf.T)         \n",
    "div_Sf"
   ]
  },
  {
   "cell_type": "code",
   "execution_count": 8,
   "metadata": {
    "ExecuteTime": {
     "end_time": "2023-11-11T12:16:16.797231Z",
     "start_time": "2023-11-11T12:16:14.558468Z"
    }
   },
   "outputs": [
    {
     "data": {
      "image/png": "[encoded data removed]",
      "text/latex": [
       "$\\displaystyle \\left( 3, \\  1\\right)$"
      ],
      "text/plain": [
       "(3, 1)"
      ]
     },
     "execution_count": 8,
     "metadata": {},
     "output_type": "execute_result"
    }
   ],
   "source": [
    "div_Sf.shape                                   # it should be a vector"
   ]
  },
  {
   "cell_type": "markdown",
   "metadata": {},
   "source": [
    "It becomes now a vector of length 3, as expected. Each component in this vector is the divergence of the vector of stresses in one of the three directions. This divergence is the spatial rate of loss of the stresses in the direction at any point in the solid, which should be compensated by the body-force applied at that point. The sum of them shall vanish for the solid staying in equilibrium. This is the equilibrium equation in terms of the stress components and given body-forces. \n",
    "\n",
    "\\begin{equation} \\label{eqEeq}\n",
    "\\begin{bmatrix}\n",
    "\\frac{\\partial}{\\partial x} \\operatorname{σ_{xx}}{\\left(x,y,z \\right)} + \\frac{\\partial}{\\partial y} \\operatorname{σ_{yx}}{\\left(x,y,z \\right)} + \\frac{\\partial}{\\partial z} \\operatorname{σ_{zx}}{\\left(x,y,z \\right)}\\\\ \\frac{\\partial}{\\partial x} \\operatorname{σ_{xy}}{\\left(x,y,z \\right)} + \\frac{\\partial}{\\partial y} \\operatorname{σ_{yy}}{\\left(x,y,z \\right)} + \\frac{\\partial}{\\partial z} \\operatorname{σ_{zy}}{\\left(x,y,z \\right)}\\\\ \\frac{\\partial}{\\partial x} \\operatorname{σ_{xz}}{\\left(x,y,z \\right)} + \\frac{\\partial}{\\partial y} \\operatorname{σ_{yz}}{\\left(x,y,z \\right)} + \\frac{\\partial}{\\partial z} \\operatorname{σ_{zz}}{\\left(x,y,z \\right)} \n",
    "\\end{bmatrix} + \\begin{bmatrix} b_x \\\\ b_y \\\\ b_z \\end{bmatrix} =\\rho \\begin{bmatrix} \\ddot{u}_x \\\\ \\ddot{u}_y \\\\ \\ddot{u}_z \\end{bmatrix} \n",
    "\\end{equation} \n",
    "\n",
    "which is the same as Eqs. (\\ref{eqEeqxx}) and (\\ref{eqEeqyz}).\n",
    "\n",
    "Note that the inertia force is treated as a body force (with negated sign).  "
   ]
  },
  {
   "cell_type": "markdown",
   "metadata": {},
   "source": [
    "**Remark**: The divergence of the stress vector (formed by stress components in one of these $x$, $y$, and $z$ directions) at any point in the solid, together with the applied body-force at that point, must vanish to ensure equilibrium. In other words, **the divergence of the stress tensor function together with the body-force vector shall vanish for the solid staying in equilibrium.** \n",
    "\n",
    "Finally, we mention that when working with other coordinate systems, derive equilibrium equations using the technique given in Section 5.2 can be quite challenging and prone to error. Using of divergence of stress tensor can be much easier in one code line, which can be done in future volumes of the book series when working with other curvilinear coordinate systems for more general high dimensional solid mechanics problems. "
   ]
  },
  {
   "cell_type": "markdown",
   "metadata": {},
   "source": [
    "### Equilibrium equations in displacements"
   ]
  },
  {
   "cell_type": "markdown",
   "metadata": {},
   "source": [
    "#### General formulation in 3D "
   ]
  },
  {
   "cell_type": "markdown",
   "metadata": {},
   "source": [
    "In Chapter 4 we derived a set of equations for small strains in terms of the derivatives of the displacements. In indicial notation, it is given as\n",
    "\n",
    "\\begin{equation} \\label{eqepsl7}\n",
    "\\varepsilon_{ij}=\\frac{1}{2}(u_{i,j} +u_{j,i})\n",
    "\\end{equation} \n",
    "\n",
    "In Chapter 5, we introduced the constitutive equation for elastic solids can be given in the most general form with 4th order elasticity tensor, \n",
    "\n",
    "\\begin{equation} \\label{eqsCe7}\n",
    "\\sigma_{ij}=C_{ijkl} \\varepsilon_{kl} \n",
    "\\end{equation}"
   ]
  },
  {
   "cell_type": "markdown",
   "metadata": {},
   "source": [
    "We shall now put all these together with Eq.(\\ref{eqEeqij}), to derive the equilibrium equations in term of displacements that have only 3 unknown displacement functions. First, substitute Eq.(\\ref{eqepsl7}) to Eq.(\\ref{eqsCe7}) gives, \n",
    "\n",
    "\\begin{equation} \\label{eqsCu}\n",
    "\\sigma_{ij}=\\frac{1}{2} C_{ijkl} (u_{k,l} +u_{l,k}) \n",
    "\\end{equation}\n",
    "\n",
    "Because $C_{ijkl}=C_{ijlk}$ (due to the symmetry of the strain tensor), the forgoing equation becomes:\n",
    "\n",
    "\\begin{equation} \\label{eqsCud}\n",
    "\\begin{split}\n",
    "\\sigma_{ij}&=\\frac{1}{2} C_{ijkl} (u_{k,l} +u_{l,k})& =\\frac{1}{2}[C_{ijkl} u_{k,l}+C_{ijkl}u_{l,k}] \\\\&=\\frac{1}{2}[C_{ijkl} u_{k,l}+C_{ijlk}u_{k,l}]\n",
    "&=\\frac{1}{2}[C_{ijkl} u_{k,l}+C_{ijkl}u_{k,l}] \n",
    "\\end{split}\n",
    "\\end{equation}\n",
    "Or\n",
    "\\begin{equation} \\label{eqsCudf}\n",
    "\\sigma_{ij} =C_{ijkl} u_{k,l}\n",
    "\\end{equation}\n",
    "\n",
    "We obtained the stresses in terms of the displacements. Next, we substitute Eq.(\\ref{eqsCudf}) to Eq.(\\ref{eqEeqij}), we arrived at: \n",
    "\n",
    "\\begin{equation} \\label{eqCeqij70}\n",
    "C_{ijkl} u_{k,lj} +b_i = \\rho \\ddot{u}_i   \\;\\; \\in \\Omega\n",
    "\\end{equation} \n",
    "\n",
    "For static problems, Equation (\\ref{eqCeqij70}) becomes,\n",
    "\n",
    "\\begin{equation} \\label{eqCeqij7}\n",
    "C_{ijkl} u_{k,lj} +b_i =0 \\;\\; \\in \\Omega\n",
    "\\end{equation} \n",
    "\n",
    "This is the equilibrium equation purely in  displacements. It is rather a quite complicated set of partial differential equations (PDEs), because of th 4th order tensor. It can be reduced using the Viot notation for specific type of materials. "
   ]
  },
  {
   "cell_type": "markdown",
   "metadata": {},
   "source": [
    "For isotropic materials, it was found that the 4th order tensor  has the following form. \n",
    "\n",
    "\\begin{equation} \\label{Cijkl-iso7}\n",
    "C_{ijkl}= G (\\delta_{ik}\\delta_{jl}+\\delta_{il}\\delta_{jk})+\\lambda \\delta_{ij}\\delta_{kl}\n",
    "\\end{equation}\n",
    "\n",
    "Substituting Eq.(\\ref{Cijkl-iso7}) into (\\ref{eqsCudf}), we obtain stresses in terms of the displacements: \n",
    "\n",
    "\\begin{equation} \\label{eqsd}\n",
    "\\begin{split}\n",
    "\\sigma_{ij}&=G (\\delta_{ik}\\delta_{jl} u_{k,l}+\\delta_{il}\\delta_{jk} u_{k,l})+\\lambda \\delta_{ij}\\delta_{kl} u_{k,l}\\\\&\n",
    "=G (u_{i,j}+ u_{j,i})+\\lambda \\delta_{ij} u_{k,k}\n",
    "\\end{split}\n",
    "\\end{equation}\n",
    "\n",
    "Using Eq.(\\ref{Cijkl-iso7}), we obtain the equilibrium equation in terms of the displacements: \n",
    "\n",
    "\\begin{equation} \\label{eqEEqd}\n",
    "G u_{i,jj}+(G+\\lambda) u_{j,ji}+b_i=\\rho \\ddot{u}_i \n",
    "\\end{equation}"
   ]
  },
  {
   "cell_type": "markdown",
   "metadata": {},
   "source": [
    "If we write Eq.(\\ref{eqEEqd}) explicitly, it has the form of\n",
    "\n",
    "\\begin{equation} \\label{eqEEqdd}\n",
    "G \\left(\\frac{∂^2 u}{∂ x^2}+\\frac{∂^2 u}{∂ y^2}+\\frac{∂^2 u}{∂ z^2} \\right) +\n",
    "(G+\\lambda) \\left(\\frac{∂^2 u}{∂ x^2}+\\frac{∂^2 v}{∂ x ∂ y}+\\frac{∂^2 w}{∂ x ∂ z} \\right)\n",
    " +b_x=\\rho \\ddot{u} \\\\\n",
    " G \\left(\\frac{∂^2 v}{∂ x^2}+\\frac{∂^2 v}{∂ y^2}+\\frac{∂^2 v}{∂ z^2} \\right) +\n",
    "(G+\\lambda) \\left(\\frac{∂^2 u}{∂x∂y}+\\frac{∂^2 v}{∂ y^2}+\\frac{∂^2 w}{∂ y ∂ z} \\right)\n",
    " +b_y=\\rho \\ddot{v} \\\\\n",
    " G \\left(\\frac{∂^2 w}{∂ x^2}+\\frac{∂^2 w}{∂ y^2}+\\frac{∂^2 w}{∂ z^2} \\right) +\n",
    "(G+\\lambda) \\left(\\frac{∂^2 u}{∂ x∂ z}+\\frac{∂^2 v}{ ∂ y∂ z}+\\frac{∂^2 w}{∂ z^2} \\right)\n",
    " +b_z=\\rho \\ddot{w}\n",
    "\\end{equation}\n",
    "\n",
    "This is truly a set of \"monster\" equations. Finding analytic solution in terms of displacement is difficult, except very few drastically simplified problems. "
   ]
  },
  {
   "cell_type": "markdown",
   "metadata": {},
   "source": [
    "#### Formulations of 2D problems\n",
    "\n",
    "There is a class of problems of solid mechanics having special features, which allow us to simplify it from 3D to 2D. Such 2D problems have two major types: plane stress and plane strain problems. \n",
    "\n",
    "##### Plane strain problems\n",
    "\n",
    "When one of the displacement components, $w$, is zero, we have a **Plane strain** problem. In this case, all the nonzero strains stay within the $x-y$ plane called in-plane strains, and all variables are not depending on $z$. A typical case is a dam built to block water flows, as shown in in Fig.\\ref{image:2DsolidStrain}. \n",
    "\n",
    "<img src=\"./images/2DsolidStrain.png\" alt=\" \" width=\"320\"/>\n",
    "\n",
    "\\begin{figure}\n",
    "  \\includegraphics[width=5cm]{}\n",
    "  \\caption{\\label{image:2DsolidStrain} The cross-section of a water dam subjected to water pressure.}\n",
    "\\end{figure} \n",
    "\n",
    "Because the dam is very long along the $z$-direction, and hence is rigid in the $z$-direction. In addition, the water pressure does not change in the $z$-direction, $w$ can be regarded as zero. The problem can be simplified as 2D, by considering only the 2D cross-section of the dam. Equation (\\ref{eqEEqdd}) can be reduced to \n",
    " \n",
    "\\begin{equation} \\label{eqEEq2d2}\n",
    "G \\left(\\frac{\\partial^2 u}{\\partial x^2}+\\frac{\\partial^2 u}{\\partial y^2} \\right) +\n",
    "(G+\\lambda) \\left(\\frac{\\partial^2 u}{\\partial x^2}+\\frac{\\partial^2 v}{\\partial x \\partial y} \\right)\n",
    " +b_x=\\rho \\ddot{u} \\\\\n",
    " G \\left(\\frac{\\partial^2 v}{\\partial x^2}+\\frac{\\partial^2 v}{\\partial y^2} \\right) +\n",
    "(G+\\lambda) \\left(\\frac{\\partial^2 u}{\\partial x^2}+\\frac{\\partial^2 v}{\\partial x \\partial y} \\right)\n",
    " +b_y=\\rho \\ddot{v} \n",
    "\\end{equation}\n",
    "\n",
    "For plane strain problems, the stress in the $z$-direction is not necessarily zero, and can be obtained from the in-plane stresses.  "
   ]
  },
  {
   "cell_type": "markdown",
   "metadata": {},
   "source": [
    "##### Plane stress problems\n",
    "\n",
    "When the stress components in one for the coordinate directions, say in $z$-direction, are zero, we have a **plane stress** problem. In such a case, all the nonzero stresses stay in the $x-y$ plane, and all the variables also do not depend on $z$. A typical case is a very thin plate. Its thickness in the $z$-direction is very small comparing to its other dimensions. In addition, all the external force on it is only within the $x-y$ plane. Because the two surfaces of the thin plate is free of stresses, all the stress components in the $z$-direction can be regarded as zero, as shown in Fig.\\ref{image:2DsolidStress}. \n",
    "\n",
    "<img src=\"./images/2DsolidStress.png\" alt=\" \" width=\"320\"/>\n",
    "\n",
    "\\begin{figure}\n",
    "  \\includegraphics[width=5cm]{}\n",
    "  \\caption{\\label{image:2DsolidStress} The cross-section of a thin plate subjected to loadings only with the plane of the plate.}\n",
    "\\end{figure} \n",
    "\n",
    "To obtain the governing problem for 2D plane stress problems, we simply replace $\\lambda=\\frac{2G\\nu}{1-2\\nu}$ in Eq.(\\ref{eqEEqdd}) with $\\frac{2G\\nu}{1-\\nu}$, because $\\nu$ needs to be replaced by $\\frac{\\nu}{1+\\nu}$ when converting plain strain problem to plane stress one, as discussed in the previous chapter. After such replacements followed by simplification, we obtain equilibrium equations for 2D plane stress problems:  \n",
    "\n",
    "\\begin{equation} \\label{eqEEq2d1}\n",
    "G \\left(\\frac{\\partial^2 u}{\\partial x^2}+\\frac{\\partial^2 u}{\\partial y^2} \\right) +\n",
    "G\\frac{1+\\nu}{1-\\nu} \\left(\\frac{\\partial^2 u}{\\partial x^2}+\\frac{\\partial^2 v}{\\partial x \\partial y} \\right)\n",
    " +b_x=\\rho \\ddot{u} \\\\\n",
    " G \\left(\\frac{\\partial^2 v}{\\partial x^2}+\\frac{\\partial^2 v}{\\partial y^2} \\right) +\n",
    "G\\frac{1+\\nu}{1-\\nu} \\left(\\frac{\\partial^2 u}{\\partial x^2}+\\frac{\\partial^2 v}{\\partial x \\partial y} \\right)\n",
    " +b_y=\\rho \\ddot{v} \n",
    "\\end{equation}\n",
    "\n",
    "The strain in the $z$-directions, strain $𝜀_{zz}$,  is not zero, because the thickness of the plate can change when it is loaded in the $x-y$ plane. It can be calculated using these in-plane strains.  \n",
    "\n",
    "The difference of these two types of 2D problems is only in the material constants on the front of these derivative terms. Therefore, they can be dealt with in largely the same way. Plane strain problems behave stiffer than the plane stress one, because of the displacement constrains on the $z$-direction. \n",
    "\n",
    "Note that even for 2D problems, seeking for analytical solution is still a challenge, and only for some simple problems with regular geometry. "
   ]
  },
  {
   "cell_type": "markdown",
   "metadata": {},
   "source": [
    "#### Formulations of 1D bar problems"
   ]
  },
  {
   "cell_type": "markdown",
   "metadata": {},
   "source": [
    "Consider one-dimensional (1D) problems defined in $x$-coordinate. We can have three types: 1D yz-constrained (both y- and z-directions are constrained), 1D y-constrained (or z-constrained), and 1D bar (with free circumferential surface). \n",
    "\n",
    "##### 1D yz-constrained problem\n",
    "\n",
    "In this case, the displacements $v$ and $w$ are zero. The loading does not change in the $y$- and $z$-directions.  The nonzero strain is only $𝜀_{xx}$. All the variables do not change with $y$ and $z$. This is a 1D bar with all its circumferential surfaces are fully constrained. In this case, Eq.(\\ref{eqEEqdd}) is drastically reduced, by simply removing all terms with respect to $y$ and $z$: \n",
    "\n",
    "\\begin{equation} \\label{eqyzstrained1}\n",
    "(2G+𝜆) \\frac{\\partial^2 u}{\\partial x^2}+b_x=\\rho \\ddot{u} \\\\\n",
    "\\end{equation}\n",
    "or\n",
    "\\begin{equation} \\label{eqyzstrained2}\n",
    "\\frac{E(1-\\nu)}{(1-2\\nu)(1+\\nu)} \\frac{\\partial^2 u}{\\partial x^2}+b_x=\\rho \\ddot{u} \\\\\n",
    "\\end{equation}\n",
    "\n",
    "##### 1D y-constrained problem\n",
    "\n",
    "If the displacement, say $v$ is zero. For example, if a 2D domain is infinite in the $y$-direction, and also the loading does not change in the $y$-direction, as shown in Fig.\\ref{image:1DsolidStrain}. We then have a 1D y-strained problem. The nonzero strain is $𝜀_{xx}$ with $𝜀_{zz}=𝜈𝜀_{xx}$. All the variables do not change with $y$. \n",
    "\n",
    "<img src=\"./images/1DsolidStrain.png\" alt=\" \" width=\"480\"/>\n",
    "\n",
    "\\begin{figure} \n",
    "  \\includegraphics[width=5cm]{}\n",
    "  \\caption{\\label{image:1DsolidStrain} A 1D bar constrained in the $y$-direction. It becomes a 1D strain problem: the nonzero strain is in the $x$-direction.}\n",
    "\\end{figure} \n",
    "\n",
    "In these case, Eq.(\\ref{eqEEq2d1}) is further reduced to \n",
    "\n",
    "\\begin{equation} \\label{eqEEq1d2G}\n",
    "G \\left(1+\\frac{1+\\nu}{1-\\nu} \\right) \\frac{\\partial^2 u}{\\partial x^2}+b_x=\\rho \\ddot{u} \n",
    "\\end{equation}\n",
    "Or\n",
    "\\begin{equation} \\label{eqEEq1d2E}\n",
    "\\frac{E}{1-\\nu^2} \\frac{\\partial^2 u}{\\partial x^2} +b_x=\\rho \\ddot{u} \n",
    "\\end{equation}\n",
    "\n",
    "The problem defined in Eq.(\\ref{eqEEq1d2E}) is a **1D y-strained problem**. In this case, stress $𝜎_{yy}$ is not zero, because the bar is not allowed to shrink or expand freely in the $y$-direction, resulting in some stress $𝜎_{yy}$. Also, $𝜀_{zz}=𝜈𝜀_{xx}$ is nonzero because $z$-direction is not constrained. This problem is equivalent to the **1D z-strained problem**, where stress $𝜎_{zz}$ is not zero, because the bar is not allowed to shrink or expand freely in the $z$-direction, and $𝜀_{yy}=𝜈𝜀_{xx}$ is nonzero because $y$-direction is not constrained. "
   ]
  },
  {
   "cell_type": "markdown",
   "metadata": {},
   "source": [
    "##### 1D bar problem\n",
    "\n",
    "If the 1D problem is a longitudinal bar which its circumferential surface free from any stress, we have a **1D stress problem**. This is the case we studied in the beginning of Chapter 3, and we had the governing equation in stress. To obtain its governing equation in displacement, we would need to, once again, do a substitution: replacing $\\frac{E}{1-\\nu^2}$ with $E$, which gives, \n",
    "\n",
    "\\begin{equation} \\label{eqEEq1d}\n",
    "E\\frac{\\partial^2 u}{\\partial x^2} +b_x=\\rho \\ddot{u} \n",
    "\\end{equation}\n",
    "\n",
    "Note in this case, strain $𝜀_{yy}$ is not zero, because the bar is allowed to shrink or expand freely in the $y$-direction (the Poisson's effect). \n",
    "\n",
    "Both Eq.(\\ref{eqEEq1d2E}) and (\\ref{eqEEq1d}) are 1D deferential equation (DE) that can solved with ease for many problems. \n",
    "Comparing Eq.(\\ref{eqEEq1d2E}) and (\\ref{eqEEq1d}), we found the $y$-constrain makes the bar stiffer by a factor of $\\frac{1}{1-\\nu^2}$. If $\\nu=0.3$, the factor is about $1.1$: ~10% stiffer. \n",
    "Comparing Eq.(\\ref{eqyzstrained2}) and (\\ref{eqEEq1d}), we found the $yz$-constrain makes the bar stiffer by a factor of $\\frac{(1-\\nu)}{(1-2\\nu)(1+\\nu)}$. If $\\nu=0.3$, the factor is about $1.35$: ~35% stiffer. The constraint effects are only because of the Poisson's ratio. Such a stiffing effect disappears only if the Poisson's ratio is zero. \n",
    "\n",
    "Because Eq.(\\ref{eqyzstrained2}) and Eq.(\\ref{eqEEq1d2E}) differ from (\\ref{eqEEq1d}) by a material constant, we need only to solve the later. We will do so in the next chapter. "
   ]
  },
  {
   "cell_type": "markdown",
   "metadata": {},
   "source": [
    "### Boundary conditions\n",
    "\n",
    "The equilibrium equations (in either stresses or displacements) governs the solid material inside the domain, as shown in Eq.(\\ref{eqCeqij7}). In actual engineering problems of mechanics of solid materials, there are always some kind of conditions given on the boundary of the domain. These boundary conditions (BCs) must also be satisfied. In general, there two major types of BCs for solids: displacement BCs and stress (or force) BCs. "
   ]
  },
  {
   "cell_type": "markdown",
   "metadata": {},
   "source": [
    "#### Displacement boundary conditions\n",
    "\n",
    "The displacement BCs can be expressed as follows.\n",
    "\n",
    "\\begin{equation} \\label{equibc}\n",
    "u_i =  u_{Γi}  \\;\\; \\text{ on } \\; Γ_{u} \\in Γ\n",
    "\\end{equation}\n",
    "\n",
    "where $u_{Γi}$ is the specified displacements $u_{i}$ on boundary $Γ_{u}$, which can be zero, but not necessarily be. "
   ]
  },
  {
   "cell_type": "markdown",
   "metadata": {},
   "source": [
    "#### Stress boundary conditions\n",
    "\n",
    "The stress BCs can be expressed as follows.\n",
    "\n",
    "\\begin{equation} \\label{eqsijbc}\n",
    "𝜎_{ij} n_j =  t_{Γj}  \\;\\; \\text{ on } \\; Γ_{t}  \\in Γ \n",
    "\\end{equation}\n",
    "\n",
    "where $n_j$ is the $j$th component of the unit normal at a point on boundary $Γ_{t}$, $t_{Γj}$ is the specified traction $t_{j}$ on boundary $Γ_{t}$, which can be zero, but not necessarily be. Equation (\\ref{eqsijbc}) is essentially Eq.3.(\\ref{eqti}) used on the stress boundary.  "
   ]
  },
  {
   "cell_type": "markdown",
   "metadata": {
    "ExecuteTime": {
     "end_time": "2023-11-11T17:24:39.379345Z",
     "start_time": "2023-11-11T17:24:39.267084Z"
    }
   },
   "source": [
    "### On techniques for soling solid mechanics problems\n",
    "\n",
    "To find a solution to a solid mechanics problem, we need to solve **a system of equations**, consisting the governing equation and the boundary conditions Eqs.(\\ref{equibc}) and/or (\\ref{eqsijbc}), and the compatibility equations derived in Chapter 4. \n",
    "\n",
    "Because the governing equation can be written in stress given in Eq.(\\ref{eqEeqij}), and in terms of displacements Eq.(\\ref{eqCeqij7}), we have largely two possible methods to solve these system equations: stress method and displacement method. These methods are useful for higher dimensional problems (2D and 3D). Each method has its own strategy, tricks and strength in solving different types of problems. We will discuss these methods in future volumes in this book series. \n",
    "\n",
    "In this book, our objective is to solve problems for structural members, and the problem can often be reduced to 1D. In these cases, stress method and displacement is essentially the same. We will use displacement method in the later chapters for various types of problems, because it more straightforward and easy to code for systematical solutions for various types of problems, including indeterminate ones. "
   ]
  },
  {
   "cell_type": "markdown",
   "metadata": {},
   "source": [
    "### Remarks\n",
    "\n",
    "1. This chapter presents a set of system equations for solid mechanics problems. Using a free-body-diagram from a stressed 3D solid, we established a set of equilibrium equations in all directions. It is a set of partial differential equations (PDEs) with the stress components as the unknowns. Thus, there are 6 unknowns. \n",
    "\n",
    "2. Because the stress tensor a function of coordinates, we thus also use the divergence of the stress tensor function together with the body-force vector to derive the same set of equilibrium equations. \n",
    "\n",
    "3. These PDEs are then converted into ones with displacements as the unknowns. This reduces the unknowns to 3. \n",
    "\n",
    "3. These sets of PDEs are then reduced to those for 2D ones and 1D ones. \n",
    "\n",
    "4. Both displacement and traction boundary conditions are introduced. These BCs need to be satisfied in addition to the set of equilibrium PDEs. \n",
    "\n",
    "Various solution method will be introduced in future volumes on how to solve these sets of system equations for 2D and 3D solid mechanics problems.  \n",
    "\n",
    "The following chapters of this book will be focusing on problems in mechanics of materials, which can often be simplified as 1D problems, or easy solvable 2D problems. Hence, efficient solvers can be devised for various types of practical problems for solid materials. Techniques on how to derived the simplified systems of equations will be discussed in great detail, followed by solution procedures and Python codes.  "
   ]
  },
  {
   "cell_type": "markdown",
   "metadata": {},
   "source": [
    "# References\n",
    "\n",
    "[<a id=\"cit-boresi1985advanced\" href=\"#call-boresi1985advanced\">1</a>] Arthur Peter Boresi, Richard Joseph Schmidt and Omar M Sidebottom, ``_Advanced mechanics of materials_'',  1985.\n",
    "\n",
    "[<a id=\"cit-liu2013finite\" href=\"#call-liu2013finite\">2</a>] GR Liu and Siu Sin Quek, ``_The finite element method: a practical course_'',  Butterworth-Heinemann, 2013.\n",
    "\n",
    "[<a id=\"cit-liusmoothed\" href=\"#call-liusmoothed\">3</a>] G.R. Liu and TT Nguyen, ``_Smoothed finite element methods_'',  Taylor and Francis Group, NewYork, 2010.\n",
    "\n"
   ]
  }
 ],
 "metadata": {
  "kernelspec": {
   "display_name": "Python 3 (ipykernel)",
   "language": "python",
   "name": "python3"
  },
  "language_info": {
   "codemirror_mode": {
    "name": "ipython",
    "version": 3
   },
   "file_extension": ".py",
   "mimetype": "text/x-python",
   "name": "python",
   "nbconvert_exporter": "python",
   "pygments_lexer": "ipython3",
   "version": "3.9.7"
  },
  "latex_envs": {
   "LaTeX_envs_menu_present": true,
   "autoclose": true,
   "autocomplete": true,
   "bibliofile": "../biblio.bib",
   "cite_by": "number",
   "current_citInitial": 1,
   "eqLabelWithNumbers": true,
   "eqNumInitial": 1,
   "hotkeys": {
    "equation": "Ctrl-E",
    "itemize": "Ctrl-I"
   },
   "labels_anchors": true,
   "latex_user_defs": false,
   "report_style_numbering": false,
   "user_envs_cfg": false
  },
  "toc": {
   "base_numbering": "6",
   "nav_menu": {},
   "number_sections": true,
   "sideBar": true,
   "skip_h1_title": true,
   "title_cell": "Table of Contents",
   "title_sidebar": "Contents",
   "toc_cell": true,
   "toc_position": {
    "height": "calc(100% - 180px)",
    "left": "10px",
    "top": "150px",
    "width": "188.417px"
   },
   "toc_section_display": true,
   "toc_window_display": true
  },
  "varInspector": {
   "cols": {
    "lenName": 16,
    "lenType": 16,
    "lenVar": 40
   },
   "kernels_config": {
    "python": {
     "delete_cmd_postfix": "",
     "delete_cmd_prefix": "del ",
     "library": "var_list.py",
     "varRefreshCmd": "print(var_dic_list())"
    },
    "r": {
     "delete_cmd_postfix": ") ",
     "delete_cmd_prefix": "rm(",
     "library": "var_list.r",
     "varRefreshCmd": "cat(var_dic_list()) "
    }
   },
   "types_to_exclude": [
    "module",
    "function",
    "builtin_function_or_method",
    "instance",
    "_Feature"
   ],
   "window_display": false
  }
 },
 "nbformat": 4,
 "nbformat_minor": 4
}
