{
 "cells": [
  {
   "cell_type": "markdown",
   "metadata": {
    "toc": true
   },
   "source": [
    "<h1>Table of Contents<span class=\"tocSkip\"></span></h1>\n",
    "<div class=\"toc\"><ul class=\"toc-item\"><li><span><a href=\"#Displacements-and-strains\" data-toc-modified-id=\"Displacements-and-strains-4\"><span class=\"toc-item-num\">4&nbsp;&nbsp;</span>Displacements and strains</a></span><ul class=\"toc-item\"><li><span><a href=\"#Introduction\" data-toc-modified-id=\"Introduction-4.1\"><span class=\"toc-item-num\">4.1&nbsp;&nbsp;</span>Introduction</a></span></li><li><span><a href=\"#Displacement-vector,-representations\" data-toc-modified-id=\"Displacement-vector,-representations-4.2\"><span class=\"toc-item-num\">4.2&nbsp;&nbsp;</span>Displacement vector, representations</a></span></li><li><span><a href=\"#Displacement-vector-in-transformed-coordinates\" data-toc-modified-id=\"Displacement-vector-in-transformed-coordinates-4.3\"><span class=\"toc-item-num\">4.3&nbsp;&nbsp;</span>Displacement vector in transformed coordinates</a></span><ul class=\"toc-item\"><li><span><a href=\"#Forward-transformation\" data-toc-modified-id=\"Forward-transformation-4.3.1\"><span class=\"toc-item-num\">4.3.1&nbsp;&nbsp;</span>Forward transformation</a></span></li><li><span><a href=\"#Inverse-transformation\" data-toc-modified-id=\"Inverse-transformation-4.3.2\"><span class=\"toc-item-num\">4.3.2&nbsp;&nbsp;</span>Inverse transformation</a></span></li></ul></li><li><span><a href=\"#Vector-of-displacement-functions\" data-toc-modified-id=\"Vector-of-displacement-functions-4.4\"><span class=\"toc-item-num\">4.4&nbsp;&nbsp;</span>Vector of displacement functions</a></span><ul class=\"toc-item\"><li><span><a href=\"#Displacement-functions,-a-vector-function\" data-toc-modified-id=\"Displacement-functions,-a-vector-function-4.4.1\"><span class=\"toc-item-num\">4.4.1&nbsp;&nbsp;</span>Displacement functions, a vector function</a></span></li><li><span><a href=\"#Code-using-tensor-operation-for-transformation\" data-toc-modified-id=\"Code-using-tensor-operation-for-transformation-4.4.2\"><span class=\"toc-item-num\">4.4.2&nbsp;&nbsp;</span>Code using tensor operation for transformation</a></span></li></ul></li><li><span><a href=\"#Strains-derived-in-mechanics\" data-toc-modified-id=\"Strains-derived-in-mechanics-4.5\"><span class=\"toc-item-num\">4.5&nbsp;&nbsp;</span>Strains derived in mechanics</a></span><ul class=\"toc-item\"><li><span><a href=\"#A-uniform-bar-under-tension\" data-toc-modified-id=\"A-uniform-bar-under-tension-4.5.1\"><span class=\"toc-item-num\">4.5.1&nbsp;&nbsp;</span>A uniform bar under tension</a></span></li><li><span><a href=\"#Normal-strains\" data-toc-modified-id=\"Normal-strains-4.5.2\"><span class=\"toc-item-num\">4.5.2&nbsp;&nbsp;</span>Normal strains</a></span></li><li><span><a href=\"#Shear-strains\" data-toc-modified-id=\"Shear-strains-4.5.3\"><span class=\"toc-item-num\">4.5.3&nbsp;&nbsp;</span>Shear strains</a></span></li></ul></li><li><span><a href=\"#Strains,-derivatives-of-displacements\" data-toc-modified-id=\"Strains,-derivatives-of-displacements-4.6\"><span class=\"toc-item-num\">4.6&nbsp;&nbsp;</span>Strains, derivatives of displacements</a></span><ul class=\"toc-item\"><li><span><a href=\"#Displacement-gradient\" data-toc-modified-id=\"Displacement-gradient-4.6.1\"><span class=\"toc-item-num\">4.6.1&nbsp;&nbsp;</span>Displacement gradient</a></span></li><li><span><a href=\"#Small-strains,-derived-via-displacement-gradient\" data-toc-modified-id=\"Small-strains,-derived-via-displacement-gradient-4.6.2\"><span class=\"toc-item-num\">4.6.2&nbsp;&nbsp;</span>Small strains, derived via displacement gradient</a></span></li><li><span><a href=\"#Example:-computation-of-small-strains\" data-toc-modified-id=\"Example:-computation-of-small-strains-4.6.3\"><span class=\"toc-item-num\">4.6.3&nbsp;&nbsp;</span>Example: computation of small strains</a></span></li><li><span><a href=\"#Rotation-displacement-relations-*\" data-toc-modified-id=\"Rotation-displacement-relations-*-4.6.4\"><span class=\"toc-item-num\">4.6.4&nbsp;&nbsp;</span>Rotation-displacement relations *</a></span></li><li><span><a href=\"#Large-strains,-derived-via-displacement-gradient-*\" data-toc-modified-id=\"Large-strains,-derived-via-displacement-gradient-*-4.6.5\"><span class=\"toc-item-num\">4.6.5&nbsp;&nbsp;</span>Large strains, derived via displacement gradient *</a></span></li><li><span><a href=\"#Example:-computation-of-large-strains-*\" data-toc-modified-id=\"Example:-computation-of-large-strains-*-4.6.6\"><span class=\"toc-item-num\">4.6.6&nbsp;&nbsp;</span>Example: computation of large strains *</a></span></li><li><span><a href=\"#Large-strains-derived-via-deformation-gradient-*\" data-toc-modified-id=\"Large-strains-derived-via-deformation-gradient-*-4.6.7\"><span class=\"toc-item-num\">4.6.7&nbsp;&nbsp;</span>Large strains derived via deformation gradient *</a></span><ul class=\"toc-item\"><li><span><a href=\"#Deformation-gradient,-definition\" data-toc-modified-id=\"Deformation-gradient,-definition-4.6.7.1\"><span class=\"toc-item-num\">4.6.7.1&nbsp;&nbsp;</span>Deformation gradient, definition</a></span></li><li><span><a href=\"#Deformation-gradient,-in-displacements\" data-toc-modified-id=\"Deformation-gradient,-in-displacements-4.6.7.2\"><span class=\"toc-item-num\">4.6.7.2&nbsp;&nbsp;</span>Deformation gradient, in displacements</a></span></li><li><span><a href=\"#Cauchy-Green-deformation-tensor\" data-toc-modified-id=\"Cauchy-Green-deformation-tensor-4.6.7.3\"><span class=\"toc-item-num\">4.6.7.3&nbsp;&nbsp;</span>Cauchy-Green deformation tensor</a></span></li><li><span><a href=\"#Green-Lagrange-Strain-tensor\" data-toc-modified-id=\"Green-Lagrange-Strain-tensor-4.6.7.4\"><span class=\"toc-item-num\">4.6.7.4&nbsp;&nbsp;</span>Green-Lagrange Strain tensor</a></span></li></ul></li></ul></li><li><span><a href=\"#Strain-displacement-relation,-a-general-derivation\" data-toc-modified-id=\"Strain-displacement-relation,-a-general-derivation-4.7\"><span class=\"toc-item-num\">4.7&nbsp;&nbsp;</span>Strain-displacement relation, a general derivation</a></span><ul class=\"toc-item\"><li><span><a href=\"#Normal-strain-along-a-fiber-and-magnification-factor-*\" data-toc-modified-id=\"Normal-strain-along-a-fiber-and-magnification-factor-*-4.7.1\"><span class=\"toc-item-num\">4.7.1&nbsp;&nbsp;</span>Normal strain along a fiber and magnification factor *</a></span><ul class=\"toc-item\"><li><span><a href=\"#Small-normal-strain-of-a-given-fiber\" data-toc-modified-id=\"Small-normal-strain-of-a-given-fiber-4.7.1.1\"><span class=\"toc-item-num\">4.7.1.1&nbsp;&nbsp;</span>Small normal strain of a given fiber</a></span></li><li><span><a href=\"#Magnification-factor-of-a-fiber,-large-normal-strain\" data-toc-modified-id=\"Magnification-factor-of-a-fiber,-large-normal-strain-4.7.1.2\"><span class=\"toc-item-num\">4.7.1.2&nbsp;&nbsp;</span>Magnification factor of a fiber, large normal strain</a></span></li><li><span><a href=\"#Magnification-factor-and-the-strain-components\" data-toc-modified-id=\"Magnification-factor-and-the-strain-components-4.7.1.3\"><span class=\"toc-item-num\">4.7.1.3&nbsp;&nbsp;</span>Magnification factor and the strain components</a></span></li></ul></li><li><span><a href=\"#Direction-cosine-of-the-fiber-after-deformation-*\" data-toc-modified-id=\"Direction-cosine-of-the-fiber-after-deformation-*-4.7.2\"><span class=\"toc-item-num\">4.7.2&nbsp;&nbsp;</span>Direction cosine of the fiber after deformation *</a></span></li><li><span><a href=\"#Shear-strains-caused-by-large-deformation\" data-toc-modified-id=\"Shear-strains-caused-by-large-deformation-4.7.3\"><span class=\"toc-item-num\">4.7.3&nbsp;&nbsp;</span>Shear strains caused by large deformation</a></span></li><li><span><a href=\"#Examples:-symbolic-computation-of-strains\" data-toc-modified-id=\"Examples:-symbolic-computation-of-strains-4.7.4\"><span class=\"toc-item-num\">4.7.4&nbsp;&nbsp;</span>Examples: symbolic computation of strains</a></span></li><li><span><a href=\"#Example:-computation-of-displacements-and-normal-and-shear-strains\" data-toc-modified-id=\"Example:-computation-of-displacements-and-normal-and-shear-strains-4.7.5\"><span class=\"toc-item-num\">4.7.5&nbsp;&nbsp;</span>Example: computation of displacements and normal and shear strains</a></span></li></ul></li><li><span><a href=\"#Coordinate-transformation-of-strain-tensor\" data-toc-modified-id=\"Coordinate-transformation-of-strain-tensor-4.8\"><span class=\"toc-item-num\">4.8&nbsp;&nbsp;</span>Coordinate transformation of strain tensor</a></span></li><li><span><a href=\"#Principle-strains\" data-toc-modified-id=\"Principle-strains-4.9\"><span class=\"toc-item-num\">4.9&nbsp;&nbsp;</span>Principle strains</a></span></li><li><span><a href=\"#Strain-invariants\" data-toc-modified-id=\"Strain-invariants-4.10\"><span class=\"toc-item-num\">4.10&nbsp;&nbsp;</span>Strain invariants</a></span></li><li><span><a href=\"#Example:-Strains-components-after-a-coordinate-rotation\" data-toc-modified-id=\"Example:-Strains-components-after-a-coordinate-rotation-4.11\"><span class=\"toc-item-num\">4.11&nbsp;&nbsp;</span>Example: Strains components after a coordinate rotation</a></span></li><li><span><a href=\"#Example:-computation-of-various-strains\" data-toc-modified-id=\"Example:-computation-of-various-strains-4.12\"><span class=\"toc-item-num\">4.12&nbsp;&nbsp;</span>Example: computation of various strains</a></span></li><li><span><a href=\"#Compatibility-equations\" data-toc-modified-id=\"Compatibility-equations-4.13\"><span class=\"toc-item-num\">4.13&nbsp;&nbsp;</span>Compatibility equations</a></span><ul class=\"toc-item\"><li><span><a href=\"#2D-problems\" data-toc-modified-id=\"2D-problems-4.13.1\"><span class=\"toc-item-num\">4.13.1&nbsp;&nbsp;</span>2D problems</a></span></li><li><span><a href=\"#3D-problems-*\" data-toc-modified-id=\"3D-problems-*-4.13.2\"><span class=\"toc-item-num\">4.13.2&nbsp;&nbsp;</span>3D problems *</a></span></li></ul></li><li><span><a href=\"#Remarks\" data-toc-modified-id=\"Remarks-4.14\"><span class=\"toc-item-num\">4.14&nbsp;&nbsp;</span>Remarks</a></span></li></ul></li></ul></div>"
   ]
  },
  {
   "cell_type": "markdown",
   "metadata": {},
   "source": [
    "Let us import necessary external modules or dependence for later use in this chapter."
   ]
  },
  {
   "cell_type": "code",
   "execution_count": 2,
   "metadata": {
    "ExecuteTime": {
     "end_time": "2024-02-02T12:20:44.152650Z",
     "start_time": "2024-02-02T12:20:41.341636Z"
    }
   },
   "outputs": [],
   "source": [
    "# Place curse in this cell, and press Ctrl+Enter to import dependences. \n",
    "import sys                         # for accessing the computer system\n",
    "sys.path.append('../grbin/')  # Change to the directory in your system \n",
    "\n",
    "from commonImports import *      # Import dependences from '../grbin/'\n",
    "import grcodes as gr                 # Import the module of the author\n",
    "#importlib.reload(gr)            # When grcodes is modified, reload it\n",
    "\n",
    "from continuum_mechanics import vector \n",
    "init_printing(use_unicode=True)      # For latex-like quality printing \n",
    "np.set_printoptions(precision=4,suppress=True)  # Digits in print-outs"
   ]
  },
  {
   "cell_type": "markdown",
   "metadata": {
    "ExecuteTime": {
     "end_time": "2022-09-16T14:46:17.658953Z",
     "start_time": "2022-09-16T14:46:17.639164Z"
    }
   },
   "source": [
    "## Displacements and strains\n",
    "\n",
    "### Introduction"
   ]
  },
  {
   "cell_type": "markdown",
   "metadata": {
    "ExecuteTime": {
     "end_time": "2022-09-16T14:46:17.658953Z",
     "start_time": "2022-09-16T14:46:17.639164Z"
    }
   },
   "source": [
    "When a solid or structure is loaded, any point in the solid is displaced. This results in a field of displacements over the body of the solid. The displacement is a vector, a tensor of first order. Thus, in general, such displacements are functions of coordinates, meaning that we have a vector function of displacements. The components for the displacement change in a particular way when the coordinates transforms (rotates), known as the transformation of displacements. \n",
    "\n",
    "If the field of displacements is not uniform (otherwise, it is trivial and the solid undergoes a rigid body movement), it results in a field of strains over the body of the solid. The strains are a tensor, a tensor of second order. Thus, in general, such strains are functions of coordinates, meaning that we have a tensor function of strains. The components for the strains change in a particular way when the coordinates transforms (rotates), known as the transformation of strains. It turns out that the transformation rule for strains is the same as that for stresses discussed in the previous chapter. \n",
    "\n",
    "This chapter discusses first the concept, formulation of the the displacement vector function, followed by the discussions derivation for the coordinate transform rule. We then discuss how the strains are resulted from the derivatives of the displacement components. \n",
    "\n",
    "As usual, our discussion is accompanied with Python codes written in reference to the documentations of Python, Sympy, and other Python modules. "
   ]
  },
  {
   "cell_type": "markdown",
   "metadata": {},
   "source": [
    "### Displacement vector, representations\n",
    "\n",
    "Force vectors on a solid can result in displacements in the solid. Displacement is represented as a vector, because it has two basic properties: magnitude and direction. \n",
    "\n",
    "Consider a infinitely small block representing a point in a solid defined in a coordinate system in space $\\mathbb{R}^{3}$, and it is then somehow moved (displaced) to a new location, as shown in Fig.\\ref{image:DisplacementVector}. \n",
    "\n",
    "<img src=\"./images/DisplacementVector.png\" alt=\" \" width=\"350\"/>\n",
    "\\begin{figure}\n",
    "  \\includegraphics[width=5cm]{}\n",
    "  \\caption{\\label{image:DisplacementVector} An infinitely small block is displaced in space. A vector $\\mathbf{u}$ is used to represent the displacements. The displacement vector can be decomposed to three components following also the orthogonal projection rule.}\n",
    "\\end{figure}"
   ]
  },
  {
   "cell_type": "markdown",
   "metadata": {},
   "source": [
    "We now present the displacements of the block using a vector $\\mathbf{u}$ uniquely under a given orthogonal coordinate system, in the same way used for describing the force vector. The displacement vector is first decomposed to two vectors: a vertical component $u_3\\mathbf{i}_3$ and $\\mathbf{u}_s$ following the orthogonal projection rule. The $\\mathbf{u}_s$ is then further decomposed into two vectors: $u_1\\mathbf{i}_1$ and $u_2\\mathbf{i}_2$ following also the orthogonal projection rule. This process results in three components of $\\mathbf{u}$: $u_1, u_2$ and $u_3$, respectively, on $x_1$-, $x_2$-, and $x_3$-axis. The displacement vector can written as\n",
    "\n",
    "\\begin{equation} \\label{eqavctu}\n",
    "\\mathbf{u} = \\begin{bmatrix}u_1\\\\u_2\\\\u_3\\end{bmatrix}\n",
    "\\end{equation} \n",
    "\n",
    "It is clear that this representation of a vector is complete and unique under a fixed orthogonal coordinate system, meaning that any change, in length or in direction, in $\\mathbf{u}$ will results in unique changes in $u_1, u_2$ and $u_3$, and vice versa, so long the orthogonal projection rule is followed. \n",
    "\n",
    "When we denote the coordinates as $(x, y, z)$, the corresponding displacement components are often denoted as $u_x, u_y, u_z$ or in shorthand $u, v, w$. \n",
    "\n",
    "Note that in solid mechanics, we deal with deformable solids. Therefore, any point in a solid body can have displacements, and they often change with the coordinates. Thus, we have in general displacement **vector functions**. \n",
    "\n",
    "Note also that there are many other vectors such as velocity, acceleration, etc. rooted at the displacement vector. The same rule of representation apply."
   ]
  },
  {
   "cell_type": "markdown",
   "metadata": {},
   "source": [
    "### Displacement vector in transformed coordinates\n",
    "\n",
    "#### Forward transformation\n",
    "\n",
    "Consider a displacement vector $\\mathbf{u}$ in coordinate $\\mathbf{x}$, and the transformed (rotated) coordinate $\\mathbf{x}'$. Using the transformation tensor $\\mathbf{T}$ defined in Chapter 2??, the values of vector $\\mathbf{u}'$  becomes: \n",
    "\n",
    "\\begin{equation} \\label{eqvp}\n",
    "\\boxed{ u_i'=a_{ij}u_{j} }\n",
    "\\end{equation}\n",
    "\n",
    "where $u'_i$ is obtained following the orthogonal projection rule. On the right hand side of Eq.(\\ref{eqvp}), we see that the 2nd index $j$ of $\\mathbf{T}$ is **contracted** with the index of $\\mathbf{u}$. This leave one index $i$, meaning that the outcome is a vector. \n",
    "\n",
    "In matrix notation, we have\n",
    "\n",
    "\\begin{equation} \\label{eqTMvp}\n",
    "\\boxed{ \\mathbf{u}'=\\mathbf{T}\\mathbf{u} }\n",
    "\\end{equation}\n",
    "\n",
    "which achieves the correct contraction through the standard matrix multiplication rule."
   ]
  },
  {
   "cell_type": "markdown",
   "metadata": {},
   "source": [
    "#### Inverse transformation\n",
    "\n",
    "Because $\\mathbf{T}$ is unitary (see Chapter 2), the inverse transformation can be simply done using the transpose of $\\mathbf{T}$:\n",
    "\n",
    "\\begin{equation} \\label{eqTMvpI}\n",
    "\\mathbf{u}=\\mathbf{T}^\\top \\mathbf{u}' \n",
    "\\end{equation}\n",
    "\n",
    "Or in the indicial notation: \n",
    "\n",
    "\\begin{equation} \\label{eqvpI}\n",
    "u_i=a_{ji}u_{j}'\n",
    "\\end{equation}\n",
    "\n",
    "All we need is to swap the order of the two indexes of $a_{ij}$. This can also be achieved by contracting the first index of $a_{ij}$. "
   ]
  },
  {
   "cell_type": "markdown",
   "metadata": {},
   "source": [
    "### Vector of displacement functions"
   ]
  },
  {
   "cell_type": "markdown",
   "metadata": {},
   "source": [
    "#### Displacement functions, a vector function\n",
    "\n",
    "In solid mechanics, the displacement vector is one of our primary concerns. Because each displacement component is a function of coordinates, and the displacement components form a vector, we have displacement vector function. Let us define the following symbolic displacement functions and then form the displacement vector function in a Sympy code.  "
   ]
  },
  {
   "cell_type": "code",
   "execution_count": 2,
   "metadata": {
    "ExecuteTime": {
     "end_time": "2024-01-27T18:20:16.774102Z",
     "start_time": "2024-01-27T18:20:14.489218Z"
    }
   },
   "outputs": [
    {
     "data": {
      "image/png": "[encoded data removed]",
      "text/latex": [
       "$\\displaystyle \\left[\\begin{matrix}u_{1}{\\left(x_{1},x_{2},x_{3} \\right)}\\\\u_{2}{\\left(x_{1},x_{2},x_{3} \\right)}\\\\u_{3}{\\left(x_{1},x_{2},x_{3} \\right)}\\end{matrix}\\right]$"
      ],
      "text/plain": [
       "⎡u₁(x₁, x₂, x₃)⎤\n",
       "⎢              ⎥\n",
       "⎢u₂(x₁, x₂, x₃)⎥\n",
       "⎢              ⎥\n",
       "⎣u₃(x₁, x₂, x₃)⎦"
      ]
     },
     "execution_count": 2,
     "metadata": {},
     "output_type": "execute_result"
    }
   ],
   "source": [
    "# Define each component of the displacement vector as a function of \n",
    "# coordinates\n",
    "x1, x2, x3 = sp.symbols('x1, x2, x3')          # symbolic coordinates\n",
    "u1 = Function('u1')(x1, x2, x3)    # symbolic function of coordinates\n",
    "u2 = Function('u2')(x1, x2, x3)\n",
    "u3 = Function('u3')(x1, x2, x3)\n",
    "\n",
    "u = Matrix([u1, u2, u3])        # form a vector of symbolic functions\n",
    "u                                                         # print out"
   ]
  },
  {
   "cell_type": "markdown",
   "metadata": {},
   "source": [
    "In addition, at any point in solid, the components of the displacement vector may change when the coordinate at that point transforms. Thus, we need to evaluate such a change due to the coordinate transformation at a point.  \n",
    "\n",
    "Let us create a coordinate transformation matrix and compute the new displacement vector function symbolically. "
   ]
  },
  {
   "cell_type": "code",
   "execution_count": 3,
   "metadata": {
    "ExecuteTime": {
     "end_time": "2024-01-27T18:20:22.827966Z",
     "start_time": "2024-01-27T18:20:21.460867Z"
    }
   },
   "outputs": [
    {
     "data": {
      "image/png": "[encoded data removed]",
      "text/latex": [
       "$\\displaystyle \\left[\\begin{matrix}a_{11} & a_{12} & a_{13}\\\\a_{21} & a_{22} & a_{23}\\\\a_{31} & a_{32} & a_{33}\\end{matrix}\\right]$"
      ],
      "text/plain": [
       "⎡a₁₁  a₁₂  a₁₃⎤\n",
       "⎢             ⎥\n",
       "⎢a₂₁  a₂₂  a₂₃⎥\n",
       "⎢             ⎥\n",
       "⎣a₃₁  a₃₂  a₃₃⎦"
      ]
     },
     "execution_count": 3,
     "metadata": {},
     "output_type": "execute_result"
    }
   ],
   "source": [
    "T = gr.transferMs()            # form a symbolic transformation matrix\n",
    "T                                                          # print out"
   ]
  },
  {
   "cell_type": "code",
   "execution_count": 4,
   "metadata": {
    "ExecuteTime": {
     "end_time": "2024-01-27T18:20:27.868225Z",
     "start_time": "2024-01-27T18:20:25.987029Z"
    }
   },
   "outputs": [
    {
     "name": "stdout",
     "output_type": "stream",
     "text": [
      "Formulas for vector components of u\n"
     ]
    },
    {
     "data": {
      "image/png": "[encoded data removed]",
      "text/latex": [
       "$\\displaystyle \\left[\\begin{matrix}a_{11} u_{1}{\\left(x_{1},x_{2},x_{3} \\right)} + a_{12} u_{2}{\\left(x_{1},x_{2},x_{3} \\right)} + a_{13} u_{3}{\\left(x_{1},x_{2},x_{3} \\right)}\\\\a_{21} u_{1}{\\left(x_{1},x_{2},x_{3} \\right)} + a_{22} u_{2}{\\left(x_{1},x_{2},x_{3} \\right)} + a_{23} u_{3}{\\left(x_{1},x_{2},x_{3} \\right)}\\\\a_{31} u_{1}{\\left(x_{1},x_{2},x_{3} \\right)} + a_{32} u_{2}{\\left(x_{1},x_{2},x_{3} \\right)} + a_{33} u_{3}{\\left(x_{1},x_{2},x_{3} \\right)}\\end{matrix}\\right]$"
      ],
      "text/plain": [
       "⎡a₁₁⋅u₁(x₁, x₂, x₃) + a₁₂⋅u₂(x₁, x₂, x₃) + a₁₃⋅u₃(x₁, x₂, x₃)⎤\n",
       "⎢                                                            ⎥\n",
       "⎢a₂₁⋅u₁(x₁, x₂, x₃) + a₂₂⋅u₂(x₁, x₂, x₃) + a₂₃⋅u₃(x₁, x₂, x₃)⎥\n",
       "⎢                                                            ⎥\n",
       "⎣a₃₁⋅u₁(x₁, x₂, x₃) + a₃₂⋅u₂(x₁, x₂, x₃) + a₃₃⋅u₃(x₁, x₂, x₃)⎦"
      ]
     },
     "execution_count": 4,
     "metadata": {},
     "output_type": "execute_result"
    }
   ],
   "source": [
    "up=T@u  # transformed displacements; @ is shorthand for multiplication\n",
    "printM(up, 'Formulas for vector components of u',n_dgt=4)"
   ]
  },
  {
   "cell_type": "markdown",
   "metadata": {},
   "source": [
    "This gives close-form formulas for computing the the new displacement component functions. If we substitute the displacement vector with a vector of fixed values for the transformation matrix, we have simplified formulas. Let show this by first generating randomly such a vector with fixed numerical values. "
   ]
  },
  {
   "cell_type": "code",
   "execution_count": 6,
   "metadata": {
    "ExecuteTime": {
     "end_time": "2023-09-09T11:25:48.432183Z",
     "start_time": "2023-09-09T11:25:48.410227Z"
    }
   },
   "outputs": [
    {
     "name": "stdout",
     "output_type": "stream",
     "text": [
      "[[ 0.0912]\n",
      " [ 1.0913]\n",
      " [-1.947 ]]\n"
     ]
    }
   ],
   "source": [
    "# A test on a random vector with fixed numerical values. \n",
    "np.random.seed(8)                    # use a seed for re-producibility\n",
    "n = 3\n",
    "Vr = np.random.randn(n,1)        # Generate a random vector at a point\n",
    "print(Vr)"
   ]
  },
  {
   "cell_type": "markdown",
   "metadata": {},
   "source": [
    "Now, compute the the transformed displacement component functions at the point.  "
   ]
  },
  {
   "cell_type": "code",
   "execution_count": 7,
   "metadata": {
    "ExecuteTime": {
     "end_time": "2023-09-09T11:26:54.759333Z",
     "start_time": "2023-09-09T11:26:50.504053Z"
    }
   },
   "outputs": [
    {
     "name": "stdout",
     "output_type": "stream",
     "text": [
      "Reduced formulas for vector components of u\n"
     ]
    },
    {
     "data": {
      "image/png": "[encoded data removed]",
      "text/latex": [
       "$\\displaystyle \\left[\\begin{matrix}0.0912 a_{11} + 1.091 a_{12} - 1.947 a_{13}\\\\0.0912 a_{21} + 1.091 a_{22} - 1.947 a_{23}\\\\0.0912 a_{31} + 1.091 a_{32} - 1.947 a_{33}\\end{matrix}\\right]$"
      ],
      "text/plain": [
       "⎡0.0912⋅a₁₁ + 1.091⋅a₁₂ - 1.947⋅a₁₃⎤\n",
       "⎢                                  ⎥\n",
       "⎢0.0912⋅a₂₁ + 1.091⋅a₂₂ - 1.947⋅a₂₃⎥\n",
       "⎢                                  ⎥\n",
       "⎣0.0912⋅a₃₁ + 1.091⋅a₃₂ - 1.947⋅a₃₃⎦"
      ]
     },
     "execution_count": 7,
     "metadata": {},
     "output_type": "execute_result"
    }
   ],
   "source": [
    "upT = up.subs(list(zip(u,Matrix(Vr))))\n",
    "printM(upT, 'Reduced formulas for vector components of u',n_dgt=4)"
   ]
  },
  {
   "cell_type": "markdown",
   "metadata": {},
   "source": [
    "These are reduced close-form formulas for computing new displacement components for any given transformation matrix $\\mathbf{T}$. If we further substitute $\\mathbf{T}$ with fixed numerical values, we obtain the displacement vector in numerical values. Let us generate a $\\mathbf{T}$ with random numbers. "
   ]
  },
  {
   "cell_type": "code",
   "execution_count": 13,
   "metadata": {
    "ExecuteTime": {
     "end_time": "2023-09-09T11:31:01.162452Z",
     "start_time": "2023-09-09T11:31:01.123790Z"
    }
   },
   "outputs": [
    {
     "name": "stdout",
     "output_type": "stream",
     "text": [
      "[[-0.5727 -0.3829  0.7249]\n",
      " [ 0.7137  0.2022  0.6706]\n",
      " [-0.4033  0.9014  0.1575]]\n"
     ]
    }
   ],
   "source": [
    "theta = 0.\n",
    "Tr, about = gr.transferM(theta, about = \"random\")\n",
    "print(Tr)"
   ]
  },
  {
   "cell_type": "markdown",
   "metadata": {},
   "source": [
    "These are reduced close-form formulas for computing new displacement components for a given transformation matrix. If we further substitute $\\mathbf{T}$ with fixed numerical values, we obtain the displacement vector in numerical values. "
   ]
  },
  {
   "cell_type": "code",
   "execution_count": 14,
   "metadata": {
    "ExecuteTime": {
     "end_time": "2023-09-09T11:31:28.738591Z",
     "start_time": "2023-09-09T11:31:25.760172Z"
    }
   },
   "outputs": [
    {
     "name": "stdout",
     "output_type": "stream",
     "text": [
      "Transformed random vector by a random T:\n"
     ]
    },
    {
     "data": {
      "image/png": "[encoded data removed]",
      "text/latex": [
       "$\\displaystyle \\left[\\begin{matrix}-1.881\\\\-1.02\\\\0.6404\\end{matrix}\\right]$"
      ],
      "text/plain": [
       "⎡-1.881⎤\n",
       "⎢      ⎥\n",
       "⎢-1.02 ⎥\n",
       "⎢      ⎥\n",
       "⎣0.6404⎦"
      ]
     },
     "execution_count": 14,
     "metadata": {},
     "output_type": "execute_result"
    }
   ],
   "source": [
    "upv = upT.subs(list(zip(T,Matrix(Tr)))) \n",
    "printM(upv, 'Transformed random vector by a random T:',n_dgt=4)"
   ]
  },
  {
   "cell_type": "markdown",
   "metadata": {},
   "source": [
    "The above example shows that one can perform coordinate transformation for displacement vector function at any point in the solid, and at the same time evaluate it variation with the coordinates in a form of function. "
   ]
  },
  {
   "cell_type": "markdown",
   "metadata": {},
   "source": [
    "#### Code using tensor operation for transformation\n",
    "\n",
    "We now write a Python code for transformation for 1st order tensors, such as a displacement vector. "
   ]
  },
  {
   "cell_type": "code",
   "execution_count": 5,
   "metadata": {
    "ExecuteTime": {
     "end_time": "2024-01-27T18:20:35.767838Z",
     "start_time": "2024-01-27T18:20:35.763819Z"
    }
   },
   "outputs": [],
   "source": [
    "def Tensor1_transfer(T,u):\n",
    "    '''Transformation for 1st order tensor u using transformation \n",
    "        matrix T. \n",
    "        u and T are array alike. \n",
    "    '''\n",
    "    S = np.tensordot(T, u, axes=([1],[0]))    # use numpy tensordot()\n",
    "               # contracting axis-1 of T with axis-0 of u\n",
    "    return S "
   ]
  },
  {
   "cell_type": "code",
   "execution_count": 6,
   "metadata": {
    "ExecuteTime": {
     "end_time": "2024-01-27T18:20:40.227103Z",
     "start_time": "2024-01-27T18:20:38.569607Z"
    }
   },
   "outputs": [
    {
     "name": "stdout",
     "output_type": "stream",
     "text": [
      "Transformed vector:\n"
     ]
    },
    {
     "data": {
      "image/png": "[encoded data removed]",
      "text/latex": [
       "$\\displaystyle \\left[\\begin{matrix}a_{11} u_{1}{\\left(x_{1},x_{2},x_{3} \\right)} + a_{12} u_{2}{\\left(x_{1},x_{2},x_{3} \\right)} + a_{13} u_{3}{\\left(x_{1},x_{2},x_{3} \\right)}\\\\a_{21} u_{1}{\\left(x_{1},x_{2},x_{3} \\right)} + a_{22} u_{2}{\\left(x_{1},x_{2},x_{3} \\right)} + a_{23} u_{3}{\\left(x_{1},x_{2},x_{3} \\right)}\\\\a_{31} u_{1}{\\left(x_{1},x_{2},x_{3} \\right)} + a_{32} u_{2}{\\left(x_{1},x_{2},x_{3} \\right)} + a_{33} u_{3}{\\left(x_{1},x_{2},x_{3} \\right)}\\end{matrix}\\right]$"
      ],
      "text/plain": [
       "⎡a₁₁⋅u₁(x₁, x₂, x₃) + a₁₂⋅u₂(x₁, x₂, x₃) + a₁₃⋅u₃(x₁, x₂, x₃)⎤\n",
       "⎢                                                            ⎥\n",
       "⎢a₂₁⋅u₁(x₁, x₂, x₃) + a₂₂⋅u₂(x₁, x₂, x₃) + a₂₃⋅u₃(x₁, x₂, x₃)⎥\n",
       "⎢                                                            ⎥\n",
       "⎣a₃₁⋅u₁(x₁, x₂, x₃) + a₃₂⋅u₂(x₁, x₂, x₃) + a₃₃⋅u₃(x₁, x₂, x₃)⎦"
      ]
     },
     "execution_count": 6,
     "metadata": {},
     "output_type": "execute_result"
    }
   ],
   "source": [
    "Tu = Tensor1_transfer(T,u)\n",
    "TuS = Matrix(Tu)                              #Covert to sympy matrix\n",
    "print(f\"Transformed vector:\")\n",
    "TuS                                                       # print out"
   ]
  },
  {
   "cell_type": "markdown",
   "metadata": {},
   "source": [
    "These formulas are the same as those obtained earlier using matrix multiplication. \n",
    "\n",
    "We can also perform numerically the transformation using the same function. Below is an example for randomly generated transformation matrix and vector: "
   ]
  },
  {
   "cell_type": "code",
   "execution_count": 18,
   "metadata": {
    "ExecuteTime": {
     "end_time": "2023-09-09T11:35:34.312877Z",
     "start_time": "2023-09-09T11:35:31.151121Z"
    }
   },
   "outputs": [
    {
     "name": "stdout",
     "output_type": "stream",
     "text": [
      "Random vector in a transformed coordinates with random T:\n"
     ]
    },
    {
     "data": {
      "image/png": "[encoded data removed]",
      "text/latex": [
       "$\\displaystyle \\left[\\begin{matrix}-1.881\\\\-1.02\\\\0.6404\\end{matrix}\\right]$"
      ],
      "text/plain": [
       "⎡-1.881⎤\n",
       "⎢      ⎥\n",
       "⎢-1.02 ⎥\n",
       "⎢      ⎥\n",
       "⎣0.6404⎦"
      ]
     },
     "execution_count": 18,
     "metadata": {},
     "output_type": "execute_result"
    }
   ],
   "source": [
    "TrV = Tensor1_transfer(Tr,Vr)\n",
    "p_text = 'Random vector in a transformed coordinates with random T:'\n",
    "printM(Matrix(TrV), p_text, n_dgt=4)"
   ]
  },
  {
   "cell_type": "markdown",
   "metadata": {},
   "source": [
    "We obtained again the same results as we did using matrix transformation. We can now transform it back: "
   ]
  },
  {
   "cell_type": "code",
   "execution_count": 19,
   "metadata": {
    "ExecuteTime": {
     "end_time": "2023-09-09T11:36:13.464086Z",
     "start_time": "2023-09-09T11:36:13.451126Z"
    }
   },
   "outputs": [
    {
     "name": "stdout",
     "output_type": "stream",
     "text": [
      "[[ 0.0912]\n",
      " [ 1.0913]\n",
      " [-1.947 ]]\n"
     ]
    }
   ],
   "source": [
    "print(Tensor1_transfer(Tr.T,TrV))  # one may use Tr with swapping axes"
   ]
  },
  {
   "cell_type": "markdown",
   "metadata": {},
   "source": [
    "This is the vector before coordinate transformation."
   ]
  },
  {
   "cell_type": "markdown",
   "metadata": {},
   "source": [
    "### Strains derived in mechanics \n",
    "\n",
    "Strains are often defined based on the following two mechanics principles \\cite{boresi1985advanced,liu2013finite,liusmoothed}. We do so here starting with a simple case. \n",
    "\n",
    "#### A uniform bar under tension\n",
    "\n",
    "Consider a uniform bar with length $L$ and height $h$. It is constrained at the left-end at the left-end, and subjected to a uniformly distributed stress at the right-end, as shown in Fig.\\ref{image:Bar_strain_def}. \n",
    "\n",
    "<img src=\"./images/Bar_strain_def.png\" alt=\" \" width=\"480\"/>\n",
    "\n",
    "A uniform bar constrained at the left-end: the meddle point is fixed, but other points on the cross-section is allowed move freely vertically. It is subjected to a uniformly distributed stress at the right-end. It is elongated in the $x$-direction and shrank in the $y$-direction, resulting is strains in both $x$- and $y$-directions. The bar with dashed line is the undeformed bar.\n",
    "\n",
    "The particles at any point in the bar are displaced by the applied stress. Assume the displacement  changes linearly in both $x$- and $y$-directions. The length of the bar becomes $L'$ and the height of the bar becomes $h'$. Thus, the right-end of the bar has a displacement of $u_x$ in the $x$-direction, and the top (or bottom) surface has a displaced $v$ in the $y$-direction. The strains in the bar are then define as: \n",
    "\n",
    "\\begin{equation}\n",
    "𝜀_{xx} = \\frac{L'-L}{L} =  \\frac{u_x}{L} \n",
    "\\end{equation}\n",
    "\n",
    "which is the rate of length change of the bar in $x$-direction when its right-end has a displacement $u_x$ in the $x$-direction. Note that the stain measure here is in reference to the original length of the bar. Similarly, \n",
    "\n",
    "\\begin{equation}\n",
    "𝜀_{yy} = \\frac{h'/2-h/2}{h/2}  = \\frac{u_y}{h/2} \n",
    "\\end{equation} \n",
    "\n",
    "which is the rate of length change of the bar in $y$-direction when its right-end has a displacement $u_y$ in the $y$-direction. The stain measure here is in reference to original half-height of the bar. \n",
    "\n",
    "Note that strain is dimension less, because the displacement carries a length dimension.  "
   ]
  },
  {
   "cell_type": "markdown",
   "metadata": {},
   "source": [
    "In a general problem of mechanics of materials, the displacements are usually not linearly distributed, and have a gradient field in the material. Thus, the general definition for a strain is defined for a local point in the deformed material as: \"the rate of change in length of a infinitely small fiber at a point in the material\". Therefore, the strains will be written in the derivatives of the displacements. \n",
    "Because the tip of the fiber can move in  $x$-, $y$-, and $z$-directions, therefore, we shall have normal and shear strains. Also, the fiber can be in $x$-, $y$-, and $z$-orientations, we thus shall have a tensor of 2nd order (two indexes). These expressions are derived as follows. "
   ]
  },
  {
   "cell_type": "markdown",
   "metadata": {},
   "source": [
    "#### Normal strains\n",
    "\n",
    "Consider in general a small line segment (fiber) with length $∆s$. It is elongated in a deformed solid. Assume the change in the displacement duo to $∆s$ along the fiber is $∆u_s$. The strain along that direction is defined as \n",
    "\n",
    "\\begin{equation}\n",
    "ε_{ss}=\\lim_{∆𝑠→0}\\frac{∆u_s}{∆s}=\\frac{∂u_s}{∂s} \n",
    "\\end{equation} \n",
    "\n",
    "If the fiber is in the $x$-direction, we shall have the normal strain as \n",
    "\n",
    "\\begin{equation}\n",
    "ε_{xx}=\\lim_{∆x→0}\\frac{∆u_x}{∆x}=\\frac{∂u_x}{∂x} \n",
    "\\end{equation} \n",
    "\n",
    "Similarly, if the fiber is in the $y$- and $z$-direction, respectively, we shall have the normal strains $ε_{yy}$ and $ε_{zz}$:\n",
    "\n",
    "\\begin{equation}\n",
    "ε_{yy}=\\lim_{∆y→0}\\frac{∆u_y}{∆y}=\\frac{∂u_y}{∂y}\n",
    "\\end{equation}\n",
    "\n",
    "\\begin{equation}\n",
    "ε_{zz}=\\lim_{∆z→0}\\frac{∆u_z}{∆z}=\\frac{∂u_z}{∂z} \n",
    "\\end{equation} "
   ]
  },
  {
   "cell_type": "markdown",
   "metadata": {},
   "source": [
    "#### Shear strains\n",
    "\n",
    "Consider a small square solid abdc has a samll deformed to ab'd'c', as shown in Fig.\\ref{image:ShearStrains}. The angles $\\alpha_{xy}$ and $\\alpha_{yx}$ can be calculated using\n",
    "\n",
    "<img src=\"./images/ShearStrains.png\" alt=\" \" width=\"250\"/>\n",
    "\n",
    "A small square solid abdc is deformed to ab'd'c'.\n",
    "\n",
    "\\begin{equation}\n",
    "\\alpha_{xy}=\\frac{∂u_y}{∂x}; \\;\\;\n",
    "\\alpha_{yx}=\\frac{∂u_x}{∂y}  \n",
    "\\end{equation} "
   ]
  },
  {
   "cell_type": "markdown",
   "metadata": {},
   "source": [
    "The total angular change becomes,\n",
    "\\begin{equation}\n",
    "\\gamma_{xy}=\\alpha_{xy}+\\alpha_{yx}=\\frac{∂u_y}{∂x}+\\frac{∂u_x}{∂y}  \n",
    "\\end{equation} \n",
    "\n",
    "where $\\gamma_{xy}$ is the so-called engineering shear strain. The shear strain $ε_{xy}$ is defined as,\n",
    "\n",
    "\\begin{equation}\n",
    "ε_{xy}:=\\frac{1}{2}\\gamma_{xy}=\\frac{1}{2}(\\frac{∂u_y}{∂x}+\\frac{∂u_x}{∂y})\n",
    "\\end{equation} \n",
    "\n",
    "It is obvious that the strains are symmetric. Similarly, we can obtain shear strains $ε_{yz}$ and $ε_{xz}$. "
   ]
  },
  {
   "cell_type": "markdown",
   "metadata": {},
   "source": [
    "In summary, all the strains (normal or shear) can be written in the form of \n",
    "\n",
    "\\begin{equation}\n",
    "\\boxed{\n",
    "\\varepsilon_{ij}= \\frac{1}{2}\\left(\\frac{\\partial u_{i}}{\\partial x_{j}} + \\frac{\\partial u_{j}}{\\partial x_{i}}  \\right)=\n",
    " \\frac{1}{2} \\left(u_{i,j} +u_{j,i} \\right) }\n",
    "\\end{equation} \n",
    "\n",
    "As shown, the small strain is linear in displacement derivatives. The forgoing equation is also known as the **strain-displacement relation**.  For small strain, it is referenced to its original length. "
   ]
  },
  {
   "cell_type": "markdown",
   "metadata": {},
   "source": [
    "### Strains, derivatives of displacements  "
   ]
  },
  {
   "cell_type": "markdown",
   "metadata": {},
   "source": [
    "#### Displacement gradient\n",
    "\n",
    "The displacement vector in solid mechanics has three components, each of which is a function of coordinates. It can be defined symbolically in Python code as follows.  "
   ]
  },
  {
   "cell_type": "code",
   "execution_count": 7,
   "metadata": {
    "ExecuteTime": {
     "end_time": "2024-01-27T18:20:51.374210Z",
     "start_time": "2024-01-27T18:20:50.028818Z"
    }
   },
   "outputs": [
    {
     "data": {
      "image/png": "[encoded data removed]",
      "text/latex": [
       "$\\displaystyle \\left[\\begin{matrix}u_{x}{\\left(x,y,z \\right)}\\\\u_{y}{\\left(x,y,z \\right)}\\\\u_{z}{\\left(x,y,z \\right)}\\end{matrix}\\right]$"
      ],
      "text/plain": [
       "⎡uₓ(x, y, z) ⎤\n",
       "⎢            ⎥\n",
       "⎢u_y(x, y, z)⎥\n",
       "⎢            ⎥\n",
       "⎣u_z(x, y, z)⎦"
      ]
     },
     "execution_count": 7,
     "metadata": {},
     "output_type": "execute_result"
    }
   ],
   "source": [
    "x, y, z = symbols(\"x, y, z\")             # define symbolic coordinates\n",
    "ux = Function('u_x')(x, y, z) # define symbolic displacement functions \n",
    "uy = Function('u_y')(x, y, z)\n",
    "uz = Function('u_z')(x, y, z)\n",
    "\n",
    "U = Matrix([ux, uy, uz])   # displacement vector of symbolic functions\n",
    "U"
   ]
  },
  {
   "cell_type": "markdown",
   "metadata": {},
   "source": [
    "As discussed earlier, the displacement $\\mathbf{U}$ is a 1st order tensor with the rule of transformation defined in Eq.(\\ref{eqvp}). Each of its component is a function of coordinates. When we get the gradient of the displacement vector, we are getting the gradient of each of the 3 component functions. Because the gradient of one component function gives a vector, we shall now obtain a matrix as follows.  \n",
    "\n",
    "\\begin{equation}\n",
    "\\begin{split}\n",
    "\\nabla \\mathbf{u}(\\mathbf{x})&:= \\begin{bmatrix} \\frac {∂}{∂x}\\\\ \\frac {∂}{∂y} \\\\ \\frac {∂}{∂z} \\end{bmatrix} ⊗ \\begin{bmatrix} u_x (\\mathbf{x})  \\\\ u_y (\\mathbf{x}) \\\\ u_z (\\mathbf{x}) \\end{bmatrix} \\\\\n",
    "&= \\left[\\begin{matrix}\\frac{\\partial}{\\partial x} u_x{\\left(x,y,z \\right)} & \\frac{\\partial}{\\partial x} u_y{\\left(x,y,z \\right)} & \\frac{\\partial}{\\partial x} u_z{\\left(x,y,z \\right)}\\\\\\frac{\\partial}{\\partial y} u_x{\\left(x,y,z \\right)} & \\frac{\\partial}{\\partial y} u_y{\\left(x,y,z \\right)} & \\frac{\\partial}{\\partial y} u_z{\\left(x,y,z \\right)}\\\\\\frac{\\partial}{\\partial z} u_x{\\left(x,y,z \\right)} & \\frac{\\partial}{\\partial z} u_y{\\left(x,y,z \\right)} & \\frac{\\partial}{\\partial z} u_z{\\left(x,y,z \\right)}\\end{matrix}\\right]\n",
    "\\end{split}\n",
    "\\end{equation} \n",
    "\n",
    "It is a matrix of differentials of the displacements, known as the **displacement gradient**. We can use the following code to obtain it. "
   ]
  },
  {
   "cell_type": "code",
   "execution_count": 8,
   "metadata": {
    "ExecuteTime": {
     "end_time": "2024-01-27T18:20:57.271500Z",
     "start_time": "2024-01-27T18:20:55.402684Z"
    }
   },
   "outputs": [
    {
     "data": {
      "image/png": "[encoded data removed]",
      "text/latex": [
       "$\\displaystyle \\left[\\begin{matrix}\\frac{\\partial}{\\partial x} u_{x}{\\left(x,y,z \\right)} & \\frac{\\partial}{\\partial x} u_{y}{\\left(x,y,z \\right)} & \\frac{\\partial}{\\partial x} u_{z}{\\left(x,y,z \\right)}\\\\\\frac{\\partial}{\\partial y} u_{x}{\\left(x,y,z \\right)} & \\frac{\\partial}{\\partial y} u_{y}{\\left(x,y,z \\right)} & \\frac{\\partial}{\\partial y} u_{z}{\\left(x,y,z \\right)}\\\\\\frac{\\partial}{\\partial z} u_{x}{\\left(x,y,z \\right)} & \\frac{\\partial}{\\partial z} u_{y}{\\left(x,y,z \\right)} & \\frac{\\partial}{\\partial z} u_{z}{\\left(x,y,z \\right)}\\end{matrix}\\right]$"
      ],
      "text/plain": [
       "⎡∂                ∂                 ∂               ⎤\n",
       "⎢──(uₓ(x, y, z))  ──(u_y(x, y, z))  ──(u_z(x, y, z))⎥\n",
       "⎢∂x               ∂x                ∂x              ⎥\n",
       "⎢                                                   ⎥\n",
       "⎢∂                ∂                 ∂               ⎥\n",
       "⎢──(uₓ(x, y, z))  ──(u_y(x, y, z))  ──(u_z(x, y, z))⎥\n",
       "⎢∂y               ∂y                ∂y              ⎥\n",
       "⎢                                                   ⎥\n",
       "⎢∂                ∂                 ∂               ⎥\n",
       "⎢──(uₓ(x, y, z))  ──(u_y(x, y, z))  ──(u_z(x, y, z))⎥\n",
       "⎣∂z               ∂z                ∂z              ⎦"
      ]
     },
     "execution_count": 8,
     "metadata": {},
     "output_type": "execute_result"
    }
   ],
   "source": [
    "U_g = vector.grad_vec(U)    # displacement gradient\n",
    "U_g"
   ]
  },
  {
   "cell_type": "markdown",
   "metadata": {},
   "source": [
    "#### Small strains, derived via displacement gradient\n",
    "\n",
    "The displacement gradient matrix given in Eq. (\\ref{eqvp}) is in general asymmetric. It can be used to produce symmetric tensors. There are two approaches to do this. One is to decompose $\\nabla \\mathbf{u}(\\mathbf{x})$ into two matrices: one symmetric and another antisymmetric. The formulations are as follows.\n",
    "\n",
    "\\begin{equation} \\label{eqsym1}\n",
    "\\frac{1}{2}\\left[\\nabla \\mathbf{u}(\\mathbf{x})+\\left[\\nabla \\mathbf{u}(\\mathbf{x})\\right]^\\top \\right]\n",
    "\\end{equation} \n",
    "\n",
    "This leads to a symmetric tensor that will be the small strains in solids. In indicial notation, it is given in  Eq.(\\ref{eqepsl}).\n",
    "\n",
    "We write the the following simply code to derive this relation. "
   ]
  },
  {
   "cell_type": "code",
   "execution_count": 9,
   "metadata": {
    "ExecuteTime": {
     "end_time": "2024-01-27T18:21:04.897926Z",
     "start_time": "2024-01-27T18:21:03.272475Z"
    }
   },
   "outputs": [
    {
     "data": {
      "image/png": "[encoded data removed]",
      "text/latex": [
       "$\\displaystyle \\left[\\begin{matrix}\\frac{\\partial}{\\partial x} u_{x}{\\left(x,y,z \\right)} & \\frac{\\frac{\\partial}{\\partial y} u_{x}{\\left(x,y,z \\right)}}{2} + \\frac{\\frac{\\partial}{\\partial x} u_{y}{\\left(x,y,z \\right)}}{2} & \\frac{\\frac{\\partial}{\\partial z} u_{x}{\\left(x,y,z \\right)}}{2} + \\frac{\\frac{\\partial}{\\partial x} u_{z}{\\left(x,y,z \\right)}}{2}\\\\\\frac{\\frac{\\partial}{\\partial y} u_{x}{\\left(x,y,z \\right)}}{2} + \\frac{\\frac{\\partial}{\\partial x} u_{y}{\\left(x,y,z \\right)}}{2} & \\frac{\\partial}{\\partial y} u_{y}{\\left(x,y,z \\right)} & \\frac{\\frac{\\partial}{\\partial z} u_{y}{\\left(x,y,z \\right)}}{2} + \\frac{\\frac{\\partial}{\\partial y} u_{z}{\\left(x,y,z \\right)}}{2}\\\\\\frac{\\frac{\\partial}{\\partial z} u_{x}{\\left(x,y,z \\right)}}{2} + \\frac{\\frac{\\partial}{\\partial x} u_{z}{\\left(x,y,z \\right)}}{2} & \\frac{\\frac{\\partial}{\\partial z} u_{y}{\\left(x,y,z \\right)}}{2} + \\frac{\\frac{\\partial}{\\partial y} u_{z}{\\left(x,y,z \\right)}}{2} & \\frac{\\partial}{\\partial z} u_{z}{\\left(x,y,z \\right)}\\end{matrix}\\right]$"
      ],
      "text/plain": [
       "⎡                                    ∂                 ∂                  ∂   \n",
       "⎢                                    ──(uₓ(x, y, z))   ──(u_y(x, y, z))   ──(u\n",
       "⎢         ∂                          ∂y                ∂x                 ∂z  \n",
       "⎢         ──(uₓ(x, y, z))            ─────────────── + ────────────────   ────\n",
       "⎢         ∂x                                2                 2               \n",
       "⎢                                                                             \n",
       "⎢∂                 ∂                                                      ∂   \n",
       "⎢──(uₓ(x, y, z))   ──(u_y(x, y, z))                                       ──(u\n",
       "⎢∂y                ∂x                         ∂                           ∂z  \n",
       "⎢─────────────── + ────────────────           ──(u_y(x, y, z))            ────\n",
       "⎢       2                 2                   ∂y                              \n",
       "⎢                                                                             \n",
       "⎢∂                 ∂                 ∂                  ∂                     \n",
       "⎢──(uₓ(x, y, z))   ──(u_z(x, y, z))  ──(u_y(x, y, z))   ──(u_z(x, y, z))      \n",
       "⎢∂z                ∂x                ∂z                 ∂y                    \n",
       "⎢─────────────── + ────────────────  ──────────────── + ────────────────      \n",
       "⎣       2                 2                 2                  2              \n",
       "\n",
       "              ∂                ⎤\n",
       "ₓ(x, y, z))   ──(u_z(x, y, z)) ⎥\n",
       "              ∂x               ⎥\n",
       "─────────── + ──────────────── ⎥\n",
       "   2                 2         ⎥\n",
       "                               ⎥\n",
       "               ∂               ⎥\n",
       "_y(x, y, z))   ──(u_z(x, y, z))⎥\n",
       "               ∂y              ⎥\n",
       "──────────── + ────────────────⎥\n",
       "   2                  2        ⎥\n",
       "                               ⎥\n",
       "                               ⎥\n",
       "                               ⎥\n",
       "     ∂                         ⎥\n",
       "     ──(u_z(x, y, z))          ⎥\n",
       "     ∂z                        ⎦"
      ]
     },
     "execution_count": 9,
     "metadata": {},
     "output_type": "execute_result"
    }
   ],
   "source": [
    "eps = (U_g+U_g.T)/2                 # compute strain tensor, symmetric\n",
    "eps "
   ]
  },
  {
   "cell_type": "markdown",
   "metadata": {},
   "source": [
    "This gives the analytic formulas for the linear strain tensor in terms of the derivatives of the displacement components. It is valid only when strain is small. \n",
    "\n",
    "The strain tensor given in the above matrix is of 2nd order and symmetric. It can also be obtained using the vector.sym_grad(). "
   ]
  },
  {
   "cell_type": "code",
   "execution_count": 6,
   "metadata": {
    "ExecuteTime": {
     "end_time": "2023-11-10T16:19:24.368642Z",
     "start_time": "2023-11-10T16:19:21.499698Z"
    }
   },
   "outputs": [
    {
     "data": {
      "image/png": "[encoded data removed]",
      "text/latex": [
       "$\\displaystyle \\left[\\begin{matrix}\\frac{\\partial}{\\partial x} u_{x}{\\left(x,y,z \\right)} & \\frac{\\frac{\\partial}{\\partial y} u_{x}{\\left(x,y,z \\right)}}{2} + \\frac{\\frac{\\partial}{\\partial x} u_{y}{\\left(x,y,z \\right)}}{2} & \\frac{\\frac{\\partial}{\\partial z} u_{x}{\\left(x,y,z \\right)}}{2} + \\frac{\\frac{\\partial}{\\partial x} u_{z}{\\left(x,y,z \\right)}}{2}\\\\\\frac{\\frac{\\partial}{\\partial y} u_{x}{\\left(x,y,z \\right)}}{2} + \\frac{\\frac{\\partial}{\\partial x} u_{y}{\\left(x,y,z \\right)}}{2} & \\frac{\\partial}{\\partial y} u_{y}{\\left(x,y,z \\right)} & \\frac{\\frac{\\partial}{\\partial z} u_{y}{\\left(x,y,z \\right)}}{2} + \\frac{\\frac{\\partial}{\\partial y} u_{z}{\\left(x,y,z \\right)}}{2}\\\\\\frac{\\frac{\\partial}{\\partial z} u_{x}{\\left(x,y,z \\right)}}{2} + \\frac{\\frac{\\partial}{\\partial x} u_{z}{\\left(x,y,z \\right)}}{2} & \\frac{\\frac{\\partial}{\\partial z} u_{y}{\\left(x,y,z \\right)}}{2} + \\frac{\\frac{\\partial}{\\partial y} u_{z}{\\left(x,y,z \\right)}}{2} & \\frac{\\partial}{\\partial z} u_{z}{\\left(x,y,z \\right)}\\end{matrix}\\right]$"
      ],
      "text/plain": [
       "⎡                                    ∂                 ∂                  ∂   \n",
       "⎢                                    ──(uₓ(x, y, z))   ──(u_y(x, y, z))   ──(u\n",
       "⎢         ∂                          ∂y                ∂x                 ∂z  \n",
       "⎢         ──(uₓ(x, y, z))            ─────────────── + ────────────────   ────\n",
       "⎢         ∂x                                2                 2               \n",
       "⎢                                                                             \n",
       "⎢∂                 ∂                                                      ∂   \n",
       "⎢──(uₓ(x, y, z))   ──(u_y(x, y, z))                                       ──(u\n",
       "⎢∂y                ∂x                         ∂                           ∂z  \n",
       "⎢─────────────── + ────────────────           ──(u_y(x, y, z))            ────\n",
       "⎢       2                 2                   ∂y                              \n",
       "⎢                                                                             \n",
       "⎢∂                 ∂                 ∂                  ∂                     \n",
       "⎢──(uₓ(x, y, z))   ──(u_z(x, y, z))  ──(u_y(x, y, z))   ──(u_z(x, y, z))      \n",
       "⎢∂z                ∂x                ∂z                 ∂y                    \n",
       "⎢─────────────── + ────────────────  ──────────────── + ────────────────      \n",
       "⎣       2                 2                 2                  2              \n",
       "\n",
       "              ∂                ⎤\n",
       "ₓ(x, y, z))   ──(u_z(x, y, z)) ⎥\n",
       "              ∂x               ⎥\n",
       "─────────── + ──────────────── ⎥\n",
       "   2                 2         ⎥\n",
       "                               ⎥\n",
       "               ∂               ⎥\n",
       "_y(x, y, z))   ──(u_z(x, y, z))⎥\n",
       "               ∂y              ⎥\n",
       "──────────── + ────────────────⎥\n",
       "   2                  2        ⎥\n",
       "                               ⎥\n",
       "                               ⎥\n",
       "                               ⎥\n",
       "     ∂                         ⎥\n",
       "     ──(u_z(x, y, z))          ⎥\n",
       "     ∂z                        ⎦"
      ]
     },
     "execution_count": 6,
     "metadata": {},
     "output_type": "execute_result"
    }
   ],
   "source": [
    "E_l = vector.sym_grad(U)            \n",
    "E_l"
   ]
  },
  {
   "cell_type": "markdown",
   "metadata": {},
   "source": [
    "We now write the strain tensor using symbolic variables. "
   ]
  },
  {
   "cell_type": "code",
   "execution_count": 16,
   "metadata": {
    "ExecuteTime": {
     "end_time": "2023-09-09T12:02:31.366587Z",
     "start_time": "2023-09-09T12:02:31.350418Z"
    }
   },
   "outputs": [
    {
     "data": {
      "text/latex": [
       "$\\displaystyle \\left[\\begin{matrix}ε_{xx} & ε_{xy} & ε_{xz}\\\\ε_{yx} & ε_{yy} & ε_{yz}\\\\ε_{zx} & ε_{zy} & ε_{zz}\\end{matrix}\\right]$"
      ],
      "text/plain": [
       "⎡εₓₓ   ε_xy  ε_xz⎤\n",
       "⎢                ⎥\n",
       "⎢ε_yx  ε_yy  ε_yz⎥\n",
       "⎢                ⎥\n",
       "⎣ε_zx  ε_zy  ε_zz⎦"
      ]
     },
     "execution_count": 16,
     "metadata": {},
     "output_type": "execute_result"
    }
   ],
   "source": [
    "Exx, Exy, Exz = \"\\u03B5_xx\", \"\\u03B5_xy\", \"\\u03B5_xz\"\n",
    "Eyx, Eyy, Eyz = \"\\u03B5_yx\", \"\\u03B5_yy\", \"\\u03B5_yz\" \n",
    "Ezx, Ezy, Ezz = \"\\u03B5_zx\", \"\\u03B5_zy\", \"\\u03B5_zz\" \n",
    "\n",
    "E = Matrix([[Exx, Exy, Exz],   # E: stress tensor\n",
    "            [Eyx, Eyy, Eyz],\n",
    "            [Ezx, Ezy, Ezz]])\n",
    "E                                  "
   ]
  },
  {
   "cell_type": "markdown",
   "metadata": {},
   "source": [
    "We can write the strain-displacement relations (small strains) as follow \\cite{boresi1985advanced,liu2013finite,liusmoothed}. \n",
    "\n",
    "\\begin{equation} \\label{eqEij}\n",
    "\\boxed{\n",
    "\\begin{bmatrix}ε_{xx} & ε_{xy} & ε_{xz}\\\\ε_{yx} & ε_{yy} & ε_{yz}\\\\ε_{zx} & ε_{zy} & ε_{zz}\\end{bmatrix} = \\frac{1}{2}\n",
    "\\begin{bmatrix}2\\frac{∂ u_x}{∂ x}& \\frac{∂ u_x}{∂ y}+ \\frac{∂ u_y}{∂ x}& \\frac{∂ u_x}{∂ z}+ \\frac{∂ u_z}{∂ x} \\\\\\frac{∂ u_x}{∂ y}+ \\frac{∂ u_y}{∂ x}& 2\\frac{∂ u_y}{∂ y}& \\frac{∂ u_y}{∂ z}+ \\frac{∂ u_z}{∂ y} \\\\\\frac{∂ u_x}{∂ z}+ \\frac{∂ u_z}{∂ x}& \\frac{∂ u_y}{∂ z}+ \\frac{∂ u_z}{∂ y}& 2\\frac{∂ u_z}{∂ z} \\end{bmatrix} }\n",
    "\\end{equation}"
   ]
  },
  {
   "cell_type": "markdown",
   "metadata": {},
   "source": [
    "In indicial notation, it is the same given in Eq.(\\ref{eqepsl})."
   ]
  },
  {
   "cell_type": "markdown",
   "metadata": {},
   "source": [
    "#### Example: computation of small strains \n",
    "\n",
    "Below is an example for computing small strains for given displacement functions. "
   ]
  },
  {
   "cell_type": "code",
   "execution_count": 40,
   "metadata": {
    "ExecuteTime": {
     "end_time": "2023-09-22T12:28:27.206641Z",
     "start_time": "2023-09-22T12:28:24.237174Z"
    }
   },
   "outputs": [
    {
     "data": {
      "image/png": "[encoded data removed]",
      "text/latex": [
       "$\\displaystyle \\left[\\begin{matrix}0.0065 x y + 0.0058 x - 0.0025 y\\\\- 0.003 x y + 0.0016 x + 0.0025 y\\\\0.005 z\\end{matrix}\\right]$"
      ],
      "text/plain": [
       "⎡0.0065⋅x⋅y + 0.0058⋅x - 0.0025⋅y⎤\n",
       "⎢                                ⎥\n",
       "⎢-0.003⋅x⋅y + 0.0016⋅x + 0.0025⋅y⎥\n",
       "⎢                                ⎥\n",
       "⎣            0.005⋅z             ⎦"
      ]
     },
     "execution_count": 40,
     "metadata": {},
     "output_type": "execute_result"
    }
   ],
   "source": [
    "#uv=Matrix([.058*x-.025*y+.065*x*y, .016*x+.025*y-.03*x*y,.005*z]) # large\n",
    "uv=Matrix([.0058*x-.0025*y+.0065*x*y, .0016*x+.0025*y-.003*x*y,.005*z])\n",
    "uv        # the given displacement functions"
   ]
  },
  {
   "cell_type": "markdown",
   "metadata": {},
   "source": [
    "Compute the strains, using the formula E_l obtained earlier and the subs() function. "
   ]
  },
  {
   "cell_type": "code",
   "execution_count": 36,
   "metadata": {
    "ExecuteTime": {
     "end_time": "2023-09-22T12:28:58.483801Z",
     "start_time": "2023-09-22T12:28:55.895443Z"
    }
   },
   "outputs": [
    {
     "name": "stdout",
     "output_type": "stream",
     "text": [
      "Strains (e^-3)\n"
     ]
    },
    {
     "data": {
      "image/png": "[encoded data removed]",
      "text/latex": [
       "$\\displaystyle \\left[\\begin{matrix}65.0 y + 58.0 & 32.5 x - 15.0 y - 4.5 & 0\\\\32.5 x - 15.0 y - 4.5 & 25.0 - 30.0 x & 0\\\\0 & 0 & 5.0\\end{matrix}\\right]$"
      ],
      "text/plain": [
       "⎡    65.0⋅y + 58.0      32.5⋅x - 15.0⋅y - 4.5   0 ⎤\n",
       "⎢                                                 ⎥\n",
       "⎢32.5⋅x - 15.0⋅y - 4.5      25.0 - 30.0⋅x       0 ⎥\n",
       "⎢                                                 ⎥\n",
       "⎣          0                      0            5.0⎦"
      ]
     },
     "execution_count": 36,
     "metadata": {},
     "output_type": "execute_result"
    }
   ],
   "source": [
    "e_samll = E_l.subs(list(zip(U,uv))).doit().expand()\n",
    "gr.printM(e_samll*1000., 'Strains (e^-3)', n_dgt=4)"
   ]
  },
  {
   "cell_type": "markdown",
   "metadata": {},
   "source": [
    "Further, we find the strains at a point with coordinates, say at $(1., 1., 1.)$."
   ]
  },
  {
   "cell_type": "code",
   "execution_count": 37,
   "metadata": {
    "ExecuteTime": {
     "end_time": "2023-09-22T12:31:16.286977Z",
     "start_time": "2023-09-22T12:31:13.697671Z"
    }
   },
   "outputs": [
    {
     "name": "stdout",
     "output_type": "stream",
     "text": [
      "Strains (e^-3)\n"
     ]
    },
    {
     "data": {
      "image/png": "[encoded data removed]",
      "text/latex": [
       "$\\displaystyle \\left[\\begin{matrix}123.0 & 13.0 & 0\\\\13.0 & -5.0 & 0\\\\0 & 0 & 5.0\\end{matrix}\\right]$"
      ],
      "text/plain": [
       "⎡123.0  13.0   0 ⎤\n",
       "⎢                ⎥\n",
       "⎢13.0   -5.0   0 ⎥\n",
       "⎢                ⎥\n",
       "⎣  0     0    5.0⎦"
      ]
     },
     "execution_count": 37,
     "metadata": {},
     "output_type": "execute_result"
    }
   ],
   "source": [
    "e_v = e_samll.subs({x:1.,y:1,z:1.}) \n",
    "gr.printM(e_v*1000., 'Strains (e^-3)', n_dgt=4)"
   ]
  },
  {
   "cell_type": "markdown",
   "metadata": {},
   "source": [
    "**Remark**: the gradient of the displacement vector at a point in a solid gives the small strains at that point. "
   ]
  },
  {
   "cell_type": "markdown",
   "metadata": {},
   "source": [
    "#### Rotation-displacement relations *"
   ]
  },
  {
   "cell_type": "markdown",
   "metadata": {},
   "source": [
    "An antisymmetric matrix can be obtained using the displacement gradient matrix: \n",
    "\n",
    "\\begin{equation} \\label{eqsym2}\n",
    "\\frac{1}{2}\\left[\\nabla \\mathbf{u}(\\mathbf{x})-\\left[\\nabla \\mathbf{u}(\\mathbf{x})\\right]^\\top \\right]\n",
    "\\end{equation} \n",
    "\n",
    "This will be the rotation in solids. \n",
    "\n",
    "The following Python code create the matrix of rotations.   "
   ]
  },
  {
   "cell_type": "code",
   "execution_count": 7,
   "metadata": {
    "ExecuteTime": {
     "end_time": "2023-11-10T16:24:58.208198Z",
     "start_time": "2023-11-10T16:24:55.448739Z"
    }
   },
   "outputs": [
    {
     "data": {
      "image/png": "[encoded data removed]",
      "text/latex": [
       "$\\displaystyle \\left[\\begin{matrix}0 & - \\frac{\\frac{\\partial}{\\partial y} u_{x}{\\left(x,y,z \\right)}}{2} + \\frac{\\frac{\\partial}{\\partial x} u_{y}{\\left(x,y,z \\right)}}{2} & - \\frac{\\frac{\\partial}{\\partial z} u_{x}{\\left(x,y,z \\right)}}{2} + \\frac{\\frac{\\partial}{\\partial x} u_{z}{\\left(x,y,z \\right)}}{2}\\\\\\frac{\\frac{\\partial}{\\partial y} u_{x}{\\left(x,y,z \\right)}}{2} - \\frac{\\frac{\\partial}{\\partial x} u_{y}{\\left(x,y,z \\right)}}{2} & 0 & - \\frac{\\frac{\\partial}{\\partial z} u_{y}{\\left(x,y,z \\right)}}{2} + \\frac{\\frac{\\partial}{\\partial y} u_{z}{\\left(x,y,z \\right)}}{2}\\\\\\frac{\\frac{\\partial}{\\partial z} u_{x}{\\left(x,y,z \\right)}}{2} - \\frac{\\frac{\\partial}{\\partial x} u_{z}{\\left(x,y,z \\right)}}{2} & \\frac{\\frac{\\partial}{\\partial z} u_{y}{\\left(x,y,z \\right)}}{2} - \\frac{\\frac{\\partial}{\\partial y} u_{z}{\\left(x,y,z \\right)}}{2} & 0\\end{matrix}\\right]$"
      ],
      "text/plain": [
       "⎡                                      ∂                 ∂                   ∂\n",
       "⎢                                      ──(uₓ(x, y, z))   ──(u_y(x, y, z))    ─\n",
       "⎢                                      ∂y                ∂x                  ∂\n",
       "⎢                0                   - ─────────────── + ────────────────  - ─\n",
       "⎢                                             2                 2             \n",
       "⎢                                                                             \n",
       "⎢∂                 ∂                                                         ∂\n",
       "⎢──(uₓ(x, y, z))   ──(u_y(x, y, z))                                          ─\n",
       "⎢∂y                ∂x                                                        ∂\n",
       "⎢─────────────── - ────────────────                   0                    - ─\n",
       "⎢       2                 2                                                   \n",
       "⎢                                                                             \n",
       "⎢∂                 ∂                 ∂                  ∂                     \n",
       "⎢──(uₓ(x, y, z))   ──(u_z(x, y, z))  ──(u_y(x, y, z))   ──(u_z(x, y, z))      \n",
       "⎢∂z                ∂x                ∂z                 ∂y                    \n",
       "⎢─────────────── - ────────────────  ──────────────── - ────────────────      \n",
       "⎣       2                 2                 2                  2              \n",
       "\n",
       "                 ∂                ⎤\n",
       "─(uₓ(x, y, z))   ──(u_z(x, y, z)) ⎥\n",
       "z                ∂x               ⎥\n",
       "────────────── + ──────────────── ⎥\n",
       "      2                 2         ⎥\n",
       "                                  ⎥\n",
       "                  ∂               ⎥\n",
       "─(u_y(x, y, z))   ──(u_z(x, y, z))⎥\n",
       "z                 ∂y              ⎥\n",
       "─────────────── + ────────────────⎥\n",
       "      2                  2        ⎥\n",
       "                                  ⎥\n",
       "                                  ⎥\n",
       "                                  ⎥\n",
       "                                  ⎥\n",
       "               0                  ⎥\n",
       "                                  ⎦"
      ]
     },
     "execution_count": 7,
     "metadata": {},
     "output_type": "execute_result"
    }
   ],
   "source": [
    "eps = (U_g-U_g.T)/2                # compute rotations, anti-symmetric\n",
    "eps "
   ]
  },
  {
   "cell_type": "markdown",
   "metadata": {},
   "source": [
    "We see that the matrix of rotations is anti-symmetric. It is obvious that the rotation components do not contribute anything to the strains defined earlier. Therefore, anti-symmetric part of the gradient of the displacement vector must be excluded in the measure of strains. This will done in the formulations for both small and large strains.  \n",
    "\n",
    "The matrix of rotations can also be obtained using the vector.antisym_grad(). "
   ]
  },
  {
   "cell_type": "code",
   "execution_count": 8,
   "metadata": {
    "ExecuteTime": {
     "end_time": "2023-11-10T16:25:08.451809Z",
     "start_time": "2023-11-10T16:25:05.386329Z"
    }
   },
   "outputs": [
    {
     "data": {
      "image/png": "[encoded data removed]",
      "text/latex": [
       "$\\displaystyle \\left[\\begin{matrix}0 & - \\frac{\\frac{\\partial}{\\partial y} u_{x}{\\left(x,y,z \\right)}}{2} + \\frac{\\frac{\\partial}{\\partial x} u_{y}{\\left(x,y,z \\right)}}{2} & - \\frac{\\frac{\\partial}{\\partial z} u_{x}{\\left(x,y,z \\right)}}{2} + \\frac{\\frac{\\partial}{\\partial x} u_{z}{\\left(x,y,z \\right)}}{2}\\\\\\frac{\\frac{\\partial}{\\partial y} u_{x}{\\left(x,y,z \\right)}}{2} - \\frac{\\frac{\\partial}{\\partial x} u_{y}{\\left(x,y,z \\right)}}{2} & 0 & - \\frac{\\frac{\\partial}{\\partial z} u_{y}{\\left(x,y,z \\right)}}{2} + \\frac{\\frac{\\partial}{\\partial y} u_{z}{\\left(x,y,z \\right)}}{2}\\\\\\frac{\\frac{\\partial}{\\partial z} u_{x}{\\left(x,y,z \\right)}}{2} - \\frac{\\frac{\\partial}{\\partial x} u_{z}{\\left(x,y,z \\right)}}{2} & \\frac{\\frac{\\partial}{\\partial z} u_{y}{\\left(x,y,z \\right)}}{2} - \\frac{\\frac{\\partial}{\\partial y} u_{z}{\\left(x,y,z \\right)}}{2} & 0\\end{matrix}\\right]$"
      ],
      "text/plain": [
       "⎡                                      ∂                 ∂                   ∂\n",
       "⎢                                      ──(uₓ(x, y, z))   ──(u_y(x, y, z))    ─\n",
       "⎢                                      ∂y                ∂x                  ∂\n",
       "⎢                0                   - ─────────────── + ────────────────  - ─\n",
       "⎢                                             2                 2             \n",
       "⎢                                                                             \n",
       "⎢∂                 ∂                                                         ∂\n",
       "⎢──(uₓ(x, y, z))   ──(u_y(x, y, z))                                          ─\n",
       "⎢∂y                ∂x                                                        ∂\n",
       "⎢─────────────── - ────────────────                   0                    - ─\n",
       "⎢       2                 2                                                   \n",
       "⎢                                                                             \n",
       "⎢∂                 ∂                 ∂                  ∂                     \n",
       "⎢──(uₓ(x, y, z))   ──(u_z(x, y, z))  ──(u_y(x, y, z))   ──(u_z(x, y, z))      \n",
       "⎢∂z                ∂x                ∂z                 ∂y                    \n",
       "⎢─────────────── - ────────────────  ──────────────── - ────────────────      \n",
       "⎣       2                 2                 2                  2              \n",
       "\n",
       "                 ∂                ⎤\n",
       "─(uₓ(x, y, z))   ──(u_z(x, y, z)) ⎥\n",
       "z                ∂x               ⎥\n",
       "────────────── + ──────────────── ⎥\n",
       "      2                 2         ⎥\n",
       "                                  ⎥\n",
       "                  ∂               ⎥\n",
       "─(u_y(x, y, z))   ──(u_z(x, y, z))⎥\n",
       "z                 ∂y              ⎥\n",
       "─────────────── + ────────────────⎥\n",
       "      2                  2        ⎥\n",
       "                                  ⎥\n",
       "                                  ⎥\n",
       "                                  ⎥\n",
       "                                  ⎥\n",
       "               0                  ⎥\n",
       "                                  ⎦"
      ]
     },
     "execution_count": 8,
     "metadata": {},
     "output_type": "execute_result"
    }
   ],
   "source": [
    "vector.antisym_grad(U)"
   ]
  },
  {
   "cell_type": "markdown",
   "metadata": {},
   "source": [
    "#### Large strains, derived via displacement gradient *"
   ]
  },
  {
   "cell_type": "markdown",
   "metadata": {},
   "source": [
    "Using the  the displacement gradient, one can also construct a symmetric matrix as follows. \n",
    "\n",
    "\\begin{equation} \\label{eqsym3}\n",
    "\\frac{1}{2}\\nabla \\mathbf{u}(\\mathbf{x}) [\\nabla \\mathbf{u}]^\\top \n",
    "\\end{equation} \n",
    "\n",
    "This gives a symmetric tensor that is the nonlinear part of the **large strains**. The formula for the large strain, known as the the so-called Green-Lagrange Strain tensor denoted as\n",
    "$\\mathbf{ε}_{GL}$ can then be obtained adding up the linear and nonlinear strains:\n",
    "\n",
    "\\begin{equation} \\label{eqEGL0}\n",
    "\\boxed{\n",
    "\\mathbf{ε}_{GL} = \\frac{1}{2} \\left[\\nabla \\mathbf{u}(\\mathbf{x})+\\left[\\nabla \\mathbf{u}(\\mathbf{x})\\right]^\\top + \\nabla \\mathbf{u}(\\mathbf{x}) [\\nabla \\mathbf{u}]^\\top \\right] }\n",
    "\\end{equation} "
   ]
  },
  {
   "cell_type": "markdown",
   "metadata": {},
   "source": [
    "In indicial notation, it can be written as:\n",
    "\n",
    "\\begin{equation} \\label{eqepsNl}\n",
    "\\boxed{\n",
    "\\varepsilon_{ij}={\\frac{1}{2}}\\left({\\frac{\\partial u_{i}}{\\partial x_{j}}}+{\\frac{\\partial u_{j}}{\\partial x_{i}}}+{\\frac{\\partial u_{k}}{\\partial x_{i}}}{\\frac{\\partial u_{k}}{\\partial x_{j}}}\\right)=\n",
    "{\\frac{1}{2}}\\left(u_{i,j} +u_{j,i}+u_{k,i}u_{k,j} \\right) }\n",
    "\\end{equation} "
   ]
  },
  {
   "cell_type": "code",
   "execution_count": 9,
   "metadata": {
    "ExecuteTime": {
     "end_time": "2023-11-10T16:25:30.371416Z",
     "start_time": "2023-11-10T16:25:26.246017Z"
    }
   },
   "outputs": [
    {
     "name": "stdout",
     "output_type": "stream",
     "text": [
      " Formular for large strains (1st column):\n"
     ]
    },
    {
     "data": {
      "image/png": "[encoded data removed]",
      "text/latex": [
       "$\\displaystyle \\left[\\begin{matrix}\\frac{\\left(\\frac{\\partial}{\\partial x} u_{x}{\\left(x,y,z \\right)}\\right)^{2}}{2} + \\frac{\\partial}{\\partial x} u_{x}{\\left(x,y,z \\right)} + \\frac{\\left(\\frac{\\partial}{\\partial x} u_{y}{\\left(x,y,z \\right)}\\right)^{2}}{2} + \\frac{\\left(\\frac{\\partial}{\\partial x} u_{z}{\\left(x,y,z \\right)}\\right)^{2}}{2}\\\\\\frac{\\frac{\\partial}{\\partial x} u_{x}{\\left(x,y,z \\right)} \\frac{\\partial}{\\partial y} u_{x}{\\left(x,y,z \\right)}}{2} + \\frac{\\frac{\\partial}{\\partial y} u_{x}{\\left(x,y,z \\right)}}{2} + \\frac{\\frac{\\partial}{\\partial x} u_{y}{\\left(x,y,z \\right)} \\frac{\\partial}{\\partial y} u_{y}{\\left(x,y,z \\right)}}{2} + \\frac{\\frac{\\partial}{\\partial x} u_{y}{\\left(x,y,z \\right)}}{2} + \\frac{\\frac{\\partial}{\\partial x} u_{z}{\\left(x,y,z \\right)} \\frac{\\partial}{\\partial y} u_{z}{\\left(x,y,z \\right)}}{2}\\\\\\frac{\\frac{\\partial}{\\partial x} u_{x}{\\left(x,y,z \\right)} \\frac{\\partial}{\\partial z} u_{x}{\\left(x,y,z \\right)}}{2} + \\frac{\\frac{\\partial}{\\partial z} u_{x}{\\left(x,y,z \\right)}}{2} + \\frac{\\frac{\\partial}{\\partial x} u_{y}{\\left(x,y,z \\right)} \\frac{\\partial}{\\partial z} u_{y}{\\left(x,y,z \\right)}}{2} + \\frac{\\frac{\\partial}{\\partial x} u_{z}{\\left(x,y,z \\right)} \\frac{\\partial}{\\partial z} u_{z}{\\left(x,y,z \\right)}}{2} + \\frac{\\frac{\\partial}{\\partial x} u_{z}{\\left(x,y,z \\right)}}{2}\\end{matrix}\\right]$"
      ],
      "text/plain": [
       "⎡                                               2                             \n",
       "⎢                              ⎛∂              ⎞                      ⎛∂      \n",
       "⎢                              ⎜──(uₓ(x, y, z))⎟                      ⎜──(u_y(\n",
       "⎢                              ⎝∂x             ⎠    ∂                 ⎝∂x     \n",
       "⎢                              ────────────────── + ──(uₓ(x, y, z)) + ────────\n",
       "⎢                                      2            ∂x                        \n",
       "⎢                                                                             \n",
       "⎢∂               ∂                 ∂                 ∂                ∂       \n",
       "⎢──(uₓ(x, y, z))⋅──(uₓ(x, y, z))   ──(uₓ(x, y, z))   ──(u_y(x, y, z))⋅──(u_y(x\n",
       "⎢∂x              ∂y                ∂y                ∂x               ∂y      \n",
       "⎢─────────────────────────────── + ─────────────── + ─────────────────────────\n",
       "⎢               2                         2                          2        \n",
       "⎢                                                                             \n",
       "⎢∂               ∂                 ∂                 ∂                ∂       \n",
       "⎢──(uₓ(x, y, z))⋅──(uₓ(x, y, z))   ──(uₓ(x, y, z))   ──(u_y(x, y, z))⋅──(u_y(x\n",
       "⎢∂x              ∂z                ∂z                ∂x               ∂z      \n",
       "⎢─────────────────────────────── + ─────────────── + ─────────────────────────\n",
       "⎣               2                         2                          2        \n",
       "\n",
       "          2                     2                              ⎤\n",
       "         ⎞    ⎛∂               ⎞                               ⎥\n",
       "x, y, z))⎟    ⎜──(u_z(x, y, z))⎟                               ⎥\n",
       "         ⎠    ⎝∂x              ⎠                               ⎥\n",
       "─────────── + ───────────────────                              ⎥\n",
       " 2                     2                                       ⎥\n",
       "                                                               ⎥\n",
       "           ∂                  ∂                ∂               ⎥\n",
       ", y, z))   ──(u_y(x, y, z))   ──(u_z(x, y, z))⋅──(u_z(x, y, z))⎥\n",
       "           ∂x                 ∂x               ∂y              ⎥\n",
       "──────── + ──────────────── + ─────────────────────────────────⎥\n",
       "                  2                           2                ⎥\n",
       "                                                               ⎥\n",
       "           ∂                ∂                  ∂               ⎥\n",
       ", y, z))   ──(u_z(x, y, z))⋅──(u_z(x, y, z))   ──(u_z(x, y, z))⎥\n",
       "           ∂x               ∂z                 ∂x              ⎥\n",
       "──────── + ───────────────────────────────── + ────────────────⎥\n",
       "                           2                          2        ⎦"
      ]
     },
     "execution_count": 9,
     "metadata": {},
     "output_type": "execute_result"
    }
   ],
   "source": [
    "E_GL = (U_g+U_g.T + U_g@U_g.T)/2\n",
    "gr.printM(E_GL[:,0], ' Formular for large strains (1st column):')"
   ]
  },
  {
   "cell_type": "markdown",
   "metadata": {},
   "source": [
    "The $\\varepsilon_{ij}$ given in Eq. (\\ref{eqepsNl}) depends purely on the derivatives of the displacement components. Thus, it should be some kind of strain measure. Because it has terms of products of the derivatives of the displacements, it is clearly nonlinear. Therefore, Eq. (\\ref{eqepsNl}) is a measure of large strains containing both linear and nonlinear parts. In addition, if the derivatives of the displacements are small, the higher order 3rd term in Eq. (\\ref{eqepsNl}) can be omitted. In that case, Eq. (\\ref{eqepsNl}) is the small strain given in Eq. (\\ref{eqepsl}). \n",
    "\n",
    "The nonlinear part can be obtained easily using the following code. "
   ]
  },
  {
   "cell_type": "code",
   "execution_count": 10,
   "metadata": {
    "ExecuteTime": {
     "end_time": "2023-11-10T16:25:45.311820Z",
     "start_time": "2023-11-10T16:25:42.635093Z"
    }
   },
   "outputs": [
    {
     "name": "stdout",
     "output_type": "stream",
     "text": [
      "Formular for nonlinear strains only (1st column):\n"
     ]
    },
    {
     "data": {
      "image/png": "[encoded data removed]",
      "text/latex": [
       "$\\displaystyle \\left[\\begin{matrix}\\frac{\\left(\\frac{\\partial}{\\partial x} u_{x}{\\left(x,y,z \\right)}\\right)^{2}}{2} + \\frac{\\left(\\frac{\\partial}{\\partial x} u_{y}{\\left(x,y,z \\right)}\\right)^{2}}{2} + \\frac{\\left(\\frac{\\partial}{\\partial x} u_{z}{\\left(x,y,z \\right)}\\right)^{2}}{2}\\\\\\frac{\\frac{\\partial}{\\partial x} u_{x}{\\left(x,y,z \\right)} \\frac{\\partial}{\\partial y} u_{x}{\\left(x,y,z \\right)}}{2} + \\frac{\\frac{\\partial}{\\partial x} u_{y}{\\left(x,y,z \\right)} \\frac{\\partial}{\\partial y} u_{y}{\\left(x,y,z \\right)}}{2} + \\frac{\\frac{\\partial}{\\partial x} u_{z}{\\left(x,y,z \\right)} \\frac{\\partial}{\\partial y} u_{z}{\\left(x,y,z \\right)}}{2}\\\\\\frac{\\frac{\\partial}{\\partial x} u_{x}{\\left(x,y,z \\right)} \\frac{\\partial}{\\partial z} u_{x}{\\left(x,y,z \\right)}}{2} + \\frac{\\frac{\\partial}{\\partial x} u_{y}{\\left(x,y,z \\right)} \\frac{\\partial}{\\partial z} u_{y}{\\left(x,y,z \\right)}}{2} + \\frac{\\frac{\\partial}{\\partial x} u_{z}{\\left(x,y,z \\right)} \\frac{\\partial}{\\partial z} u_{z}{\\left(x,y,z \\right)}}{2}\\end{matrix}\\right]$"
      ],
      "text/plain": [
       "⎡                                     2                     2                 \n",
       "⎢                    ⎛∂              ⎞    ⎛∂               ⎞    ⎛∂            \n",
       "⎢                    ⎜──(uₓ(x, y, z))⎟    ⎜──(u_y(x, y, z))⎟    ⎜──(u_z(x, y, \n",
       "⎢                    ⎝∂x             ⎠    ⎝∂x              ⎠    ⎝∂x           \n",
       "⎢                    ────────────────── + ─────────────────── + ──────────────\n",
       "⎢                            2                     2                     2    \n",
       "⎢                                                                             \n",
       "⎢∂               ∂                 ∂                ∂                  ∂      \n",
       "⎢──(uₓ(x, y, z))⋅──(uₓ(x, y, z))   ──(u_y(x, y, z))⋅──(u_y(x, y, z))   ──(u_z(\n",
       "⎢∂x              ∂y                ∂x               ∂y                 ∂x     \n",
       "⎢─────────────────────────────── + ───────────────────────────────── + ───────\n",
       "⎢               2                                  2                          \n",
       "⎢                                                                             \n",
       "⎢∂               ∂                 ∂                ∂                  ∂      \n",
       "⎢──(uₓ(x, y, z))⋅──(uₓ(x, y, z))   ──(u_y(x, y, z))⋅──(u_y(x, y, z))   ──(u_z(\n",
       "⎢∂x              ∂z                ∂x               ∂z                 ∂x     \n",
       "⎢─────────────────────────────── + ───────────────────────────────── + ───────\n",
       "⎣               2                                  2                          \n",
       "\n",
       "    2                     ⎤\n",
       "   ⎞                      ⎥\n",
       "z))⎟                      ⎥\n",
       "   ⎠                      ⎥\n",
       "─────                     ⎥\n",
       "                          ⎥\n",
       "                          ⎥\n",
       "          ∂               ⎥\n",
       "x, y, z))⋅──(u_z(x, y, z))⎥\n",
       "          ∂y              ⎥\n",
       "──────────────────────────⎥\n",
       "         2                ⎥\n",
       "                          ⎥\n",
       "          ∂               ⎥\n",
       "x, y, z))⋅──(u_z(x, y, z))⎥\n",
       "          ∂z              ⎥\n",
       "──────────────────────────⎥\n",
       "         2                ⎦"
      ]
     },
     "execution_count": 10,
     "metadata": {},
     "output_type": "execute_result"
    }
   ],
   "source": [
    "E_nl = (U_g@U_g.T)/2\n",
    "gr.printM(E_nl[:,0],'Formular for nonlinear strains only (1st column):')"
   ]
  },
  {
   "cell_type": "markdown",
   "metadata": {},
   "source": [
    "The nonlinear part is still too large to print out in whole, and hence we printed out only the first column. To write it out in whole, we simplify the expressions, which leads to the same formulas given in Ref. [1, 3]:\n",
    "\n",
    "\\begin{equation} \\label{eqEnl}\n",
    "\\boxed{\n",
    "\\mathbf{E}_{nl}=\\frac{1}{2}\n",
    "\\begin{bmatrix}(\\frac{\\partial u}{\\partial x})^{2} + (\\frac{\\partial v}{\\partial x})^{2} + (\\frac{\\partial w}{\\partial x})^{2} & \\frac{\\partial u}{\\partial x}\\frac{\\partial u}{\\partial y}+ \\frac{\\partial v}{\\partial x}\\frac{\\partial v}{\\partial y}+ \\frac{\\partial w}{\\partial x}\\frac{\\partial w}{\\partial y}& \\frac{\\partial u}{\\partial x}\\frac{\\partial u}{\\partial z}+ \\frac{\\partial v}{\\partial x}\\frac{\\partial v}{\\partial z}+ \\frac{\\partial w}{\\partial x}\\frac{\\partial w}{\\partial z} \\\\\\frac{\\partial u}{\\partial x}\\frac{\\partial u}{\\partial y}+ \\frac{\\partial v}{\\partial x}\\frac{\\partial v}{\\partial y}+ \\frac{\\partial w}{\\partial x}\\frac{\\partial w}{\\partial y}& (\\frac{\\partial u}{\\partial y})^{2} + (\\frac{\\partial v}{\\partial y})^{2} + (\\frac{\\partial w}{\\partial y})^{2} & \\frac{\\partial u}{\\partial y}\\frac{\\partial u}{\\partial z}+ \\frac{\\partial v}{\\partial y}\\frac{\\partial v}{\\partial z}+ \\frac{\\partial w}{\\partial y}\\frac{\\partial w}{\\partial z} \\\\\\frac{\\partial u}{\\partial x}\\frac{\\partial u}{\\partial z}+ \\frac{\\partial v}{\\partial x}\\frac{\\partial v}{\\partial z}+ \\frac{\\partial w}{\\partial x}\\frac{\\partial w}{\\partial z}& \\frac{\\partial u}{\\partial y}\\frac{\\partial u}{\\partial z}+ \\frac{\\partial v}{\\partial y}\\frac{\\partial v}{\\partial z}+ \\frac{\\partial w}{\\partial y}\\frac{\\partial w}{\\partial z}& (\\frac{\\partial u}{\\partial z})^{2} + (\\frac{\\partial v}{\\partial z})^{2} + (\\frac{\\partial w}{\\partial z})^{2}\\end{bmatrix} }\n",
    "\\end{equation} "
   ]
  },
  {
   "cell_type": "markdown",
   "metadata": {},
   "source": [
    "Note that the nonlinear strains given in Eq.(\\ref{eqepsNl}) is an exact expression, meaning that it is derived without any assumption or approximation. It is not from a Taylor series expansion by cutting off the 3rd order terms and beyond. \n",
    "\n",
    "**Remark**: the strains at a point in a solid is determined by the derivatives of the displacements at that point. \n",
    "\n",
    "We use the codes below to construct these strains, small (linear) and large (nonlinear) ones.  "
   ]
  },
  {
   "cell_type": "markdown",
   "metadata": {},
   "source": [
    "#### Example: computation of large strains *\n",
    "\n",
    "Below is an example for computing large strains for displacement functions given below, simply using subs(). "
   ]
  },
  {
   "cell_type": "code",
   "execution_count": 38,
   "metadata": {
    "ExecuteTime": {
     "end_time": "2023-08-28T19:12:23.041964Z",
     "start_time": "2023-08-28T19:12:20.272389Z"
    }
   },
   "outputs": [
    {
     "data": {
      "image/png": "[encoded data removed]",
      "text/latex": [
       "$\\displaystyle \\left[\\begin{matrix}0.0065 x y + 0.0058 x - 0.0025 y\\\\- 0.003 x y + 0.0016 x + 0.0025 y\\\\0.005 z\\end{matrix}\\right]$"
      ],
      "text/plain": [
       "⎡0.0065⋅x⋅y + 0.0058⋅x - 0.0025⋅y⎤\n",
       "⎢                                ⎥\n",
       "⎢-0.003⋅x⋅y + 0.0016⋅x + 0.0025⋅y⎥\n",
       "⎢                                ⎥\n",
       "⎣            0.005⋅z             ⎦"
      ]
     },
     "execution_count": 38,
     "metadata": {},
     "output_type": "execute_result"
    }
   ],
   "source": [
    "#df=Matrix([.058*x-.025*y+.065*x*y,.016*x+.025*y-.03*x*y,.005*z])#large\n",
    "df=Matrix([.0058*x-.0025*y+.0065*x*y, .0016*x+.0025*y-.003*x*y,.005*z])\n",
    "df "
   ]
  },
  {
   "cell_type": "code",
   "execution_count": 33,
   "metadata": {
    "ExecuteTime": {
     "end_time": "2023-08-28T19:12:30.589860Z",
     "start_time": "2023-08-28T19:12:27.628217Z"
    }
   },
   "outputs": [
    {
     "name": "stdout",
     "output_type": "stream",
     "text": [
      "Strains (e^-3)\n"
     ]
    },
    {
     "data": {
      "image/png": "[encoded data removed]",
      "text/latex": [
       "$\\displaystyle \\left[\\begin{matrix}2.112 x^{2} - 1.625 x + 2.112 y^{2} + 68.77 y + 59.99 & - 0.975 x^{2} + 33.69 x - 0.975 y^{2} - 15.35 y - 4.349 & 0\\\\- 0.975 x^{2} + 33.69 x - 0.975 y^{2} - 15.35 y - 4.349 & 0.45 x^{2} - 30.75 x + 0.45 y^{2} - 0.48 y + 25.44 & 0\\\\0 & 0 & 5.013\\end{matrix}\\right]$"
      ],
      "text/plain": [
       "⎡        2                    2                              2                \n",
       "⎢ 2.112⋅x  - 1.625⋅x + 2.112⋅y  + 68.77⋅y + 59.99   - 0.975⋅x  + 33.69⋅x - 0.9\n",
       "⎢                                                                             \n",
       "⎢         2                    2                            2                 \n",
       "⎢- 0.975⋅x  + 33.69⋅x - 0.975⋅y  - 15.35⋅y - 4.349    0.45⋅x  - 30.75⋅x + 0.45\n",
       "⎢                                                                             \n",
       "⎣                        0                                                  0 \n",
       "\n",
       "    2                         ⎤\n",
       "75⋅y  - 15.35⋅y - 4.349    0  ⎥\n",
       "                              ⎥\n",
       "  2                           ⎥\n",
       "⋅y  - 0.48⋅y + 25.44       0  ⎥\n",
       "                              ⎥\n",
       "                         5.013⎦"
      ]
     },
     "execution_count": 33,
     "metadata": {},
     "output_type": "execute_result"
    }
   ],
   "source": [
    "egl = E_GL.subs(list(zip(U,df))).doit().expand()\n",
    "gr.printM(egl*1000., 'Strains (e^-3)', n_dgt=4)"
   ]
  },
  {
   "cell_type": "markdown",
   "metadata": {},
   "source": [
    "Further, we find the solution at given coordinate, say at $(1., 1., 1.)$."
   ]
  },
  {
   "cell_type": "code",
   "execution_count": 34,
   "metadata": {
    "ExecuteTime": {
     "end_time": "2023-08-28T19:12:46.897980Z",
     "start_time": "2023-08-28T19:12:44.211907Z"
    }
   },
   "outputs": [
    {
     "name": "stdout",
     "output_type": "stream",
     "text": [
      "Strains (e^-3)\n"
     ]
    },
    {
     "data": {
      "image/png": "[encoded data removed]",
      "text/latex": [
       "$\\displaystyle \\left[\\begin{matrix}131.4 & 12.04 & 0\\\\12.04 & -4.89 & 0\\\\0 & 0 & 5.013\\end{matrix}\\right]$"
      ],
      "text/plain": [
       "⎡131.4  12.04    0  ⎤\n",
       "⎢                   ⎥\n",
       "⎢12.04  -4.89    0  ⎥\n",
       "⎢                   ⎥\n",
       "⎣  0      0    5.013⎦"
      ]
     },
     "execution_count": 34,
     "metadata": {},
     "output_type": "execute_result"
    }
   ],
   "source": [
    "egln = egl.subs({x:1.,y:1,z:1.}) \n",
    "gr.printM(egln*1000., 'Strains (e^-3)', n_dgt=4)"
   ]
  },
  {
   "cell_type": "markdown",
   "metadata": {},
   "source": [
    "It is found that the Green-Lagrangian strain (large strain) is very close to the small strain obtained in the previous section. Readers may make the displacements larger (by 10 times for example), and compute both small and large strains again  to see the differences.  "
   ]
  },
  {
   "cell_type": "markdown",
   "metadata": {},
   "source": [
    "#### Large strains derived via deformation gradient *\n",
    "\n",
    "For problems with large displacements and hence large strains, the strain-displacement relation will be nonlinear \\cite{boresi1985advanced,liusmoothed}. Traditionally, one often derive large strains using the deformation gradient. Let us do so using symbolic computation. \n",
    "\n",
    "Assume a solid is initially at state 0 and is described using coordinates $x, y$ and $z$. We define the initial coordinate vector $\\mathbf{x}_0$ as follows. "
   ]
  },
  {
   "cell_type": "code",
   "execution_count": 15,
   "metadata": {
    "ExecuteTime": {
     "end_time": "2023-11-10T16:27:59.026507Z",
     "start_time": "2023-11-10T16:27:56.130610Z"
    }
   },
   "outputs": [
    {
     "data": {
      "image/png": "[encoded data removed]",
      "text/latex": [
       "$\\displaystyle \\left[\\begin{matrix}x\\\\y\\\\z\\end{matrix}\\right]$"
      ],
      "text/plain": [
       "⎡x⎤\n",
       "⎢ ⎥\n",
       "⎢y⎥\n",
       "⎢ ⎥\n",
       "⎣z⎦"
      ]
     },
     "execution_count": 15,
     "metadata": {},
     "output_type": "execute_result"
    }
   ],
   "source": [
    "x0 = Matrix([x, y, z])        \n",
    "x0"
   ]
  },
  {
   "cell_type": "markdown",
   "metadata": {},
   "source": [
    "The vector gradient of $\\mathbf{x}_0$ with respect to $x, y$ and $z$ become an identity matrix as expected: "
   ]
  },
  {
   "cell_type": "code",
   "execution_count": 45,
   "metadata": {
    "ExecuteTime": {
     "end_time": "2023-09-06T16:33:27.229186Z",
     "start_time": "2023-09-06T16:33:23.218357Z"
    }
   },
   "outputs": [
    {
     "data": {
      "image/png": "[encoded data removed]",
      "text/latex": [
       "$\\displaystyle \\left[\\begin{matrix}1 & 0 & 0\\\\0 & 1 & 0\\\\0 & 0 & 1\\end{matrix}\\right]$"
      ],
      "text/plain": [
       "⎡1  0  0⎤\n",
       "⎢       ⎥\n",
       "⎢0  1  0⎥\n",
       "⎢       ⎥\n",
       "⎣0  0  1⎦"
      ]
     },
     "execution_count": 45,
     "metadata": {},
     "output_type": "execute_result"
    }
   ],
   "source": [
    "x0_g = vector.grad_vec(x0)    # define initial coordinates (symbolic)\n",
    "x0_g"
   ]
  },
  {
   "cell_type": "markdown",
   "metadata": {},
   "source": [
    "Assume now the solid is stressed and deformed heavily to a new state $t$. At any point in the solid, the displacements are denoted as vector $\\mathbf{U}$ with components not necessarily small. The coordinates of the point now become $\\mathbf{x}_t$. "
   ]
  },
  {
   "cell_type": "code",
   "execution_count": 11,
   "metadata": {
    "ExecuteTime": {
     "end_time": "2023-11-10T16:27:33.534314Z",
     "start_time": "2023-11-10T16:27:33.526319Z"
    }
   },
   "outputs": [],
   "source": [
    "x_t = Function('x_t')(x,y,z)     # define symbolic functions\n",
    "y_t = Function('y_t')(x,y,z)\n",
    "z_t = Function('z_t')(x,y,z)"
   ]
  },
  {
   "cell_type": "code",
   "execution_count": 12,
   "metadata": {
    "ExecuteTime": {
     "end_time": "2023-11-10T16:27:39.354613Z",
     "start_time": "2023-11-10T16:27:36.580125Z"
    }
   },
   "outputs": [
    {
     "data": {
      "image/png": "[encoded data removed]",
      "text/latex": [
       "$\\displaystyle \\left[\\begin{matrix}x_{t}{\\left(x,y,z \\right)}\\\\y_{t}{\\left(x,y,z \\right)}\\\\z_{t}{\\left(x,y,z \\right)}\\end{matrix}\\right]$"
      ],
      "text/plain": [
       "⎡xₜ(x, y, z)⎤\n",
       "⎢           ⎥\n",
       "⎢yₜ(x, y, z)⎥\n",
       "⎢           ⎥\n",
       "⎣zₜ(x, y, z)⎦"
      ]
     },
     "execution_count": 12,
     "metadata": {},
     "output_type": "execute_result"
    }
   ],
   "source": [
    "xt = Matrix([x_t, y_t, z_t])     # form a vector of symbolic functions\n",
    "xt"
   ]
  },
  {
   "cell_type": "markdown",
   "metadata": {},
   "source": [
    "##### Deformation gradient, definition "
   ]
  },
  {
   "cell_type": "markdown",
   "metadata": {
    "ExecuteTime": {
     "end_time": "2022-09-16T15:42:45.654619Z",
     "start_time": "2022-09-16T15:42:45.641654Z"
    }
   },
   "source": [
    "Note that $\\mathbf{x}_t$ is the vector of functions of $x, y$ and $z$. The **deformation gradient**, often denoted as $\\mathbf{F}$, can be defined as the gradient of $\\mathbf{x}_t$, that is a vector function, with respect to $x, y$ and $z$. It becomes a matrix as follows. \n",
    "\n",
    "\\begin{equation} \\label{eqF0}\n",
    "\\boxed{\n",
    "\\mathbf{F}=\\left[ \\frac{\\partial x^t_i}{\\partial x^0_j} \\right] =\\begin{bmatrix}\\frac{\\partial x^t_1}{\\partial x^0_1}&\\frac{\\partial x^t_1}{\\partial x^0_2} &\\frac{\\partial x^t_1}{\\partial x^0_3}\\\\ \n",
    "\\frac{\\partial x^t_2}{\\partial x^0_1}&\\frac{\\partial x^t_2}{\\partial x^0_2} &\\frac{\\partial x^t_2}{\\partial x^0_3}\\\\\n",
    "\\frac{\\partial x^t_3}{\\partial x^0_1}&\\frac{\\partial x^t_3}{\\partial x^0_2} &\\frac{\\partial x^t_3}{\\partial x^0_3} \\end{bmatrix} }\n",
    "\\end{equation} \n",
    "\n",
    "The code to compute it is give as follows. "
   ]
  },
  {
   "cell_type": "code",
   "execution_count": 13,
   "metadata": {
    "ExecuteTime": {
     "end_time": "2023-11-10T16:27:43.943305Z",
     "start_time": "2023-11-10T16:27:41.593955Z"
    },
    "scrolled": true
   },
   "outputs": [
    {
     "data": {
      "image/png": "[encoded data removed]",
      "text/latex": [
       "$\\displaystyle \\left[\\begin{matrix}\\frac{\\partial}{\\partial x} x_{t}{\\left(x,y,z \\right)} & \\frac{\\partial}{\\partial y} x_{t}{\\left(x,y,z \\right)} & \\frac{\\partial}{\\partial z} x_{t}{\\left(x,y,z \\right)}\\\\\\frac{\\partial}{\\partial x} y_{t}{\\left(x,y,z \\right)} & \\frac{\\partial}{\\partial y} y_{t}{\\left(x,y,z \\right)} & \\frac{\\partial}{\\partial z} y_{t}{\\left(x,y,z \\right)}\\\\\\frac{\\partial}{\\partial x} z_{t}{\\left(x,y,z \\right)} & \\frac{\\partial}{\\partial y} z_{t}{\\left(x,y,z \\right)} & \\frac{\\partial}{\\partial z} z_{t}{\\left(x,y,z \\right)}\\end{matrix}\\right]$"
      ],
      "text/plain": [
       "⎡∂                ∂                ∂              ⎤\n",
       "⎢──(xₜ(x, y, z))  ──(xₜ(x, y, z))  ──(xₜ(x, y, z))⎥\n",
       "⎢∂x               ∂y               ∂z             ⎥\n",
       "⎢                                                 ⎥\n",
       "⎢∂                ∂                ∂              ⎥\n",
       "⎢──(yₜ(x, y, z))  ──(yₜ(x, y, z))  ──(yₜ(x, y, z))⎥\n",
       "⎢∂x               ∂y               ∂z             ⎥\n",
       "⎢                                                 ⎥\n",
       "⎢∂                ∂                ∂              ⎥\n",
       "⎢──(zₜ(x, y, z))  ──(zₜ(x, y, z))  ──(zₜ(x, y, z))⎥\n",
       "⎣∂x               ∂y               ∂z             ⎦"
      ]
     },
     "execution_count": 13,
     "metadata": {},
     "output_type": "execute_result"
    }
   ],
   "source": [
    "F = vector.grad_vec(xt).T \n",
    "F"
   ]
  },
  {
   "cell_type": "markdown",
   "metadata": {},
   "source": [
    "Note the deformation gradient matrix is in general asymmetric. Also, we cannot simply using the techniques given in Section 4.5.2 and 4.5.6, because the deformation gradient contains rigid body movements and that may result in false strains. Thus, we need to go through the following process. \n",
    "\n",
    "##### Deformation gradient, in displacements\n",
    "\n",
    "First, we write the deformation gradient in terms of the displacement gradient. Because the new coordinates $\\mathbf{x}_t$ is the results of the displacement $\\mathbf{U}$, we shall have: \n",
    "\n",
    "\\begin{equation} \\label{eqxtu}\n",
    "\\mathbf{x}^t=\\mathbf{x}^0 + \\mathbf{U} \n",
    "\\end{equation} \n",
    "\n",
    "Let us use a code to do this. "
   ]
  },
  {
   "cell_type": "code",
   "execution_count": 16,
   "metadata": {
    "ExecuteTime": {
     "end_time": "2023-11-10T16:28:07.136827Z",
     "start_time": "2023-11-10T16:28:04.137542Z"
    }
   },
   "outputs": [
    {
     "name": "stdout",
     "output_type": "stream",
     "text": [
      "F in displacement gradient =\n"
     ]
    },
    {
     "data": {
      "image/png": "[encoded data removed]",
      "text/latex": [
       "$\\displaystyle \\left[\\begin{matrix}\\frac{\\partial}{\\partial x} u_{x}{\\left(x,y,z \\right)} + 1 & \\frac{\\partial}{\\partial y} u_{x}{\\left(x,y,z \\right)} & \\frac{\\partial}{\\partial z} u_{x}{\\left(x,y,z \\right)}\\\\\\frac{\\partial}{\\partial x} u_{y}{\\left(x,y,z \\right)} & \\frac{\\partial}{\\partial y} u_{y}{\\left(x,y,z \\right)} + 1 & \\frac{\\partial}{\\partial z} u_{y}{\\left(x,y,z \\right)}\\\\\\frac{\\partial}{\\partial x} u_{z}{\\left(x,y,z \\right)} & \\frac{\\partial}{\\partial y} u_{z}{\\left(x,y,z \\right)} & \\frac{\\partial}{\\partial z} u_{z}{\\left(x,y,z \\right)} + 1\\end{matrix}\\right]$"
      ],
      "text/plain": [
       "⎡∂                      ∂                     ∂                 ⎤\n",
       "⎢──(uₓ(x, y, z)) + 1    ──(uₓ(x, y, z))       ──(uₓ(x, y, z))   ⎥\n",
       "⎢∂x                     ∂y                    ∂z                ⎥\n",
       "⎢                                                               ⎥\n",
       "⎢ ∂                   ∂                       ∂                 ⎥\n",
       "⎢ ──(u_y(x, y, z))    ──(u_y(x, y, z)) + 1    ──(u_y(x, y, z))  ⎥\n",
       "⎢ ∂x                  ∂y                      ∂z                ⎥\n",
       "⎢                                                               ⎥\n",
       "⎢ ∂                     ∂                   ∂                   ⎥\n",
       "⎢ ──(u_z(x, y, z))      ──(u_z(x, y, z))    ──(u_z(x, y, z)) + 1⎥\n",
       "⎣ ∂x                    ∂y                  ∂z                  ⎦"
      ]
     },
     "execution_count": 16,
     "metadata": {},
     "output_type": "execute_result"
    }
   ],
   "source": [
    "xt = x0 + U \n",
    "F = vector.grad_vec(xt).T \n",
    "gr.printM(F, 'F in displacement gradient =', n_dgt=1)"
   ]
  },
  {
   "cell_type": "markdown",
   "metadata": {},
   "source": [
    "As seen, we have 1s on the diagonal, which has nothing to do with the derivatives of the displacements, and hence needs to be removed.  \n",
    "\n",
    "##### Cauchy-Green deformation tensor\n",
    "\n",
    "Using the deformation gradient, we can form the so-called Cauchy-Green deformation tensor.\n",
    "\n",
    "\\begin{equation} \\label{eqFCG}\n",
    "\\mathbf{F}_{CG}=\\mathbf{F}^\\top \\mathbf{F}\n",
    "\\end{equation} \n",
    "\n",
    "It is clear that $\\mathbf{F}_{CG}$ is a symmetric tensor of 2nd order. We can use the following code to form it. "
   ]
  },
  {
   "cell_type": "code",
   "execution_count": 17,
   "metadata": {
    "ExecuteTime": {
     "end_time": "2023-11-10T16:28:17.247232Z",
     "start_time": "2023-11-10T16:28:14.355242Z"
    }
   },
   "outputs": [
    {
     "data": {
      "image/png": "[encoded data removed]",
      "text/latex": [
       "$\\displaystyle \\left[\\begin{matrix}\\left(\\frac{\\partial}{\\partial x} u_{x}{\\left(x,y,z \\right)} + 1\\right)^{2} + \\left(\\frac{\\partial}{\\partial x} u_{y}{\\left(x,y,z \\right)}\\right)^{2} + \\left(\\frac{\\partial}{\\partial x} u_{z}{\\left(x,y,z \\right)}\\right)^{2}\\\\\\left(\\frac{\\partial}{\\partial x} u_{x}{\\left(x,y,z \\right)} + 1\\right) \\frac{\\partial}{\\partial y} u_{x}{\\left(x,y,z \\right)} + \\left(\\frac{\\partial}{\\partial y} u_{y}{\\left(x,y,z \\right)} + 1\\right) \\frac{\\partial}{\\partial x} u_{y}{\\left(x,y,z \\right)} + \\frac{\\partial}{\\partial x} u_{z}{\\left(x,y,z \\right)} \\frac{\\partial}{\\partial y} u_{z}{\\left(x,y,z \\right)}\\\\\\left(\\frac{\\partial}{\\partial x} u_{x}{\\left(x,y,z \\right)} + 1\\right) \\frac{\\partial}{\\partial z} u_{x}{\\left(x,y,z \\right)} + \\left(\\frac{\\partial}{\\partial z} u_{z}{\\left(x,y,z \\right)} + 1\\right) \\frac{\\partial}{\\partial x} u_{z}{\\left(x,y,z \\right)} + \\frac{\\partial}{\\partial x} u_{y}{\\left(x,y,z \\right)} \\frac{\\partial}{\\partial z} u_{y}{\\left(x,y,z \\right)}\\end{matrix}\\right]$"
      ],
      "text/plain": [
       "⎡                                             2                     2         \n",
       "⎢                        ⎛∂                  ⎞    ⎛∂               ⎞    ⎛∂    \n",
       "⎢                        ⎜──(uₓ(x, y, z)) + 1⎟  + ⎜──(u_y(x, y, z))⎟  + ⎜──(u_\n",
       "⎢                        ⎝∂x                 ⎠    ⎝∂x              ⎠    ⎝∂x   \n",
       "⎢                                                                             \n",
       "⎢⎛∂                  ⎞ ∂                 ⎛∂                   ⎞ ∂             \n",
       "⎢⎜──(uₓ(x, y, z)) + 1⎟⋅──(uₓ(x, y, z)) + ⎜──(u_y(x, y, z)) + 1⎟⋅──(u_y(x, y, z\n",
       "⎢⎝∂x                 ⎠ ∂y                ⎝∂y                  ⎠ ∂x            \n",
       "⎢                                                                             \n",
       "⎢⎛∂                  ⎞ ∂                 ⎛∂                   ⎞ ∂             \n",
       "⎢⎜──(uₓ(x, y, z)) + 1⎟⋅──(uₓ(x, y, z)) + ⎜──(u_z(x, y, z)) + 1⎟⋅──(u_z(x, y, z\n",
       "⎣⎝∂x                 ⎠ ∂z                ⎝∂z                  ⎠ ∂x            \n",
       "\n",
       "            2                         ⎤\n",
       "           ⎞                          ⎥\n",
       "z(x, y, z))⎟                          ⎥\n",
       "           ⎠                          ⎥\n",
       "                                      ⎥\n",
       "     ∂                ∂               ⎥\n",
       ")) + ──(u_z(x, y, z))⋅──(u_z(x, y, z))⎥\n",
       "     ∂x               ∂y              ⎥\n",
       "                                      ⎥\n",
       "     ∂                ∂               ⎥\n",
       ")) + ──(u_y(x, y, z))⋅──(u_y(x, y, z))⎥\n",
       "     ∂x               ∂z              ⎦"
      ]
     },
     "execution_count": 17,
     "metadata": {},
     "output_type": "execute_result"
    }
   ],
   "source": [
    "F_CG = F.T@F        # the Cauchy-Green deformation tensor\n",
    "F_CG[:,0]           # the 1st column (too large to print out in whole)"
   ]
  },
  {
   "cell_type": "code",
   "execution_count": 52,
   "metadata": {
    "ExecuteTime": {
     "end_time": "2023-09-06T16:34:38.624040Z",
     "start_time": "2023-09-06T16:34:35.005510Z"
    }
   },
   "outputs": [],
   "source": [
    "#F_CG[:,1]           # the 2nd column\n",
    "#F_CG[:,2]           # the 3rc column"
   ]
  },
  {
   "cell_type": "markdown",
   "metadata": {},
   "source": [
    "Notice that the 1s are still there. \n",
    "\n",
    "##### Green-Lagrange Strain tensor\n",
    "\n",
    "Using the Cauchy-Green deformation tensor, we can form the so-called Green-Lagrange Strain tensor, denoted as $\\mathbf{ε}_{GL}$.\n",
    "\n",
    "\\begin{equation} \\label{eqEGL}\n",
    "\\boxed{ \\mathbf{ε}_{GL}=\\frac{1}{2}(\\mathbf{F}_{CG}-\\mathbf{I}) }\n",
    "\\end{equation} \n",
    "\n",
    "It is clear that $\\mathbf{ε}_{GL}$ is also a symmetric tensor of 2nd order. The use of identity matrix $\\mathbf{I}$ removes these 1s. We can use the following code to form $\\mathbf{ε}_{GL}$. "
   ]
  },
  {
   "cell_type": "code",
   "execution_count": 18,
   "metadata": {
    "ExecuteTime": {
     "end_time": "2023-11-10T16:28:26.345772Z",
     "start_time": "2023-11-10T16:28:23.718078Z"
    }
   },
   "outputs": [
    {
     "data": {
      "image/png": "[encoded data removed]",
      "text/latex": [
       "$\\displaystyle \\left[\\begin{matrix}\\frac{\\left(\\frac{\\partial}{\\partial x} u_{x}{\\left(x,y,z \\right)}\\right)^{2}}{2} + \\frac{\\partial}{\\partial x} u_{x}{\\left(x,y,z \\right)} + \\frac{\\left(\\frac{\\partial}{\\partial x} u_{y}{\\left(x,y,z \\right)}\\right)^{2}}{2} + \\frac{\\left(\\frac{\\partial}{\\partial x} u_{z}{\\left(x,y,z \\right)}\\right)^{2}}{2}\\\\\\frac{\\frac{\\partial}{\\partial x} u_{x}{\\left(x,y,z \\right)} \\frac{\\partial}{\\partial y} u_{x}{\\left(x,y,z \\right)}}{2} + \\frac{\\frac{\\partial}{\\partial y} u_{x}{\\left(x,y,z \\right)}}{2} + \\frac{\\frac{\\partial}{\\partial x} u_{y}{\\left(x,y,z \\right)} \\frac{\\partial}{\\partial y} u_{y}{\\left(x,y,z \\right)}}{2} + \\frac{\\frac{\\partial}{\\partial x} u_{y}{\\left(x,y,z \\right)}}{2} + \\frac{\\frac{\\partial}{\\partial x} u_{z}{\\left(x,y,z \\right)} \\frac{\\partial}{\\partial y} u_{z}{\\left(x,y,z \\right)}}{2}\\\\\\frac{\\frac{\\partial}{\\partial x} u_{x}{\\left(x,y,z \\right)} \\frac{\\partial}{\\partial z} u_{x}{\\left(x,y,z \\right)}}{2} + \\frac{\\frac{\\partial}{\\partial z} u_{x}{\\left(x,y,z \\right)}}{2} + \\frac{\\frac{\\partial}{\\partial x} u_{y}{\\left(x,y,z \\right)} \\frac{\\partial}{\\partial z} u_{y}{\\left(x,y,z \\right)}}{2} + \\frac{\\frac{\\partial}{\\partial x} u_{z}{\\left(x,y,z \\right)} \\frac{\\partial}{\\partial z} u_{z}{\\left(x,y,z \\right)}}{2} + \\frac{\\frac{\\partial}{\\partial x} u_{z}{\\left(x,y,z \\right)}}{2}\\end{matrix}\\right]$"
      ],
      "text/plain": [
       "⎡                                               2                             \n",
       "⎢                              ⎛∂              ⎞                      ⎛∂      \n",
       "⎢                              ⎜──(uₓ(x, y, z))⎟                      ⎜──(u_y(\n",
       "⎢                              ⎝∂x             ⎠    ∂                 ⎝∂x     \n",
       "⎢                              ────────────────── + ──(uₓ(x, y, z)) + ────────\n",
       "⎢                                      2            ∂x                        \n",
       "⎢                                                                             \n",
       "⎢∂               ∂                 ∂                 ∂                ∂       \n",
       "⎢──(uₓ(x, y, z))⋅──(uₓ(x, y, z))   ──(uₓ(x, y, z))   ──(u_y(x, y, z))⋅──(u_y(x\n",
       "⎢∂x              ∂y                ∂y                ∂x               ∂y      \n",
       "⎢─────────────────────────────── + ─────────────── + ─────────────────────────\n",
       "⎢               2                         2                          2        \n",
       "⎢                                                                             \n",
       "⎢∂               ∂                 ∂                 ∂                ∂       \n",
       "⎢──(uₓ(x, y, z))⋅──(uₓ(x, y, z))   ──(uₓ(x, y, z))   ──(u_y(x, y, z))⋅──(u_y(x\n",
       "⎢∂x              ∂z                ∂z                ∂x               ∂z      \n",
       "⎢─────────────────────────────── + ─────────────── + ─────────────────────────\n",
       "⎣               2                         2                          2        \n",
       "\n",
       "          2                     2                              ⎤\n",
       "         ⎞    ⎛∂               ⎞                               ⎥\n",
       "x, y, z))⎟    ⎜──(u_z(x, y, z))⎟                               ⎥\n",
       "         ⎠    ⎝∂x              ⎠                               ⎥\n",
       "─────────── + ───────────────────                              ⎥\n",
       " 2                     2                                       ⎥\n",
       "                                                               ⎥\n",
       "           ∂                  ∂                ∂               ⎥\n",
       ", y, z))   ──(u_y(x, y, z))   ──(u_z(x, y, z))⋅──(u_z(x, y, z))⎥\n",
       "           ∂x                 ∂x               ∂y              ⎥\n",
       "──────── + ──────────────── + ─────────────────────────────────⎥\n",
       "                  2                           2                ⎥\n",
       "                                                               ⎥\n",
       "           ∂                ∂                  ∂               ⎥\n",
       ", y, z))   ──(u_z(x, y, z))⋅──(u_z(x, y, z))   ──(u_z(x, y, z))⎥\n",
       "           ∂x               ∂z                 ∂x              ⎥\n",
       "──────── + ───────────────────────────────── + ────────────────⎥\n",
       "                           2                          2        ⎦"
      ]
     },
     "execution_count": 18,
     "metadata": {},
     "output_type": "execute_result"
    }
   ],
   "source": [
    "E_GL=sp.S.Half*(F_CG-sp.eye(3)).expand() # E_GL: Green-Lagrange Strain \n",
    "E_GL[:,0]    #E_GL[:,1]  #E_GL[:,2]"
   ]
  },
  {
   "cell_type": "markdown",
   "metadata": {},
   "source": [
    "In the code above, we used S.Half that is a singleton. It is the Rational(1, 2) in Sympy. Green-Lagrange Strain tensor is for large strains. It contains quadratic terms and hence it is nonlinear in derivatives of the displacements. Note that this expression is obtained without any assumption, and hence it is the general formula for evaluating large strains.  \n",
    "\n",
    "Note that $\\mathbf{ε}_{GL}$ given in Eq.(\\ref{eqEGL}) is the same as Eq.(\\ref{eqEGL0}) obtained earlier. \n",
    "\n",
    "Recall that we have obtained the formula for linear strain tensor earlier, which is given in Eq.(\\ref{eqEij}). We can  subtract the linear strain from the Green-Lagrangian strain and obtain the nonlinear part of the strain, which will be exactly the same as the one obtained earlier."
   ]
  },
  {
   "cell_type": "markdown",
   "metadata": {},
   "source": [
    "### Strain-displacement relation, a general derivation \n",
    "\n",
    "Strain in solid mechanics is also a tensor of 2nd order, as mentioned earlier. Similar to the stress tensor, it has both indicial and matrix representations. Because the strain tensor is symmetric, the matrix is a symmetric matrix. It is very much similar as the stress tensor, in terms of formulation and operations. \n",
    "\n",
    "+ In space $\\mathbb{R}^3$, it is a 3$\\times 3$ matrix, and hence has, in general, a total of 9 components. Because of the symmetry, we have only 6 components. \n",
    "\n",
    "+ In space $\\mathbb{R}^2$, it is a 2$\\times 2$ matrix, and hence has, in general, a total of 4 components. Because of the symmetry, we have only 3 components. \n",
    "\n",
    "+ In space $\\mathbb{R}^1$, it is a scalar, and hence there is only 1 component. \n",
    "\n",
    "We write the following code to demonstrate strain transformation. Consider a strain tensor in 3D solids represented originally in a coordinate system $\\mathbf{x}$. When the coordinates is transformed (rotated) to a new coordinate $\\mathbf{x}'$, we compute the new components of the strain tensor in the new coordinate system. \n",
    "\n",
    "First, the strain tensor in the coordinate system $\\mathbf{x}$ can be written as follows. In coordinate transformation operations, it is more convenient to use the indicial notation: $x$:1, $y$:2, and $z$:3. We will use the same strain tensor $\\mathbf{ε}$ and the transformation matrix $\\mathbf{T}$ defined earlier.     "
   ]
  },
  {
   "cell_type": "code",
   "execution_count": 10,
   "metadata": {
    "ExecuteTime": {
     "end_time": "2024-01-27T18:21:34.931243Z",
     "start_time": "2024-01-27T18:21:34.122948Z"
    }
   },
   "outputs": [
    {
     "data": {
      "text/latex": [
       "$\\displaystyle \\left[\\begin{matrix}ε_{11} & ε_{12} & ε_{13}\\\\ε_{12} & ε_{22} & ε_{23}\\\\ε_{13} & ε_{23} & ε_{33}\\end{matrix}\\right]$"
      ],
      "text/plain": [
       "⎡ε₁₁  ε₁₂  ε₁₃⎤\n",
       "⎢             ⎥\n",
       "⎢ε₁₂  ε₂₂  ε₂₃⎥\n",
       "⎢             ⎥\n",
       "⎣ε₁₃  ε₂₃  ε₃₃⎦"
      ]
     },
     "execution_count": 10,
     "metadata": {},
     "output_type": "execute_result"
    }
   ],
   "source": [
    "# define strain components as symbolic variable\n",
    "e11, e12, e13 = \"\\u03B5_11\", \"\\u03B5_12\", \"\\u03B5_13\" \n",
    "e12, e22, e23 = \"\\u03B5_12\", \"\\u03B5_22\", \"\\u03B5_23\" \n",
    "e13, e23, e33 = \"\\u03B5_13\", \"\\u03B5_23\", \"\\u03B5_33\" \n",
    "\n",
    "E = Matrix([[e11, e12, e13],\n",
    "            [e12, e22, e23],\n",
    "            [e13, e23, e33]])\n",
    "E                                  # a strain tensor"
   ]
  },
  {
   "cell_type": "markdown",
   "metadata": {},
   "source": [
    "#### Normal strain along a fiber and magnification factor *"
   ]
  },
  {
   "cell_type": "markdown",
   "metadata": {},
   "source": [
    "Consider a solid occupying domain $\\Omega$ in the Cartesian coordinate system with mutual orthogonal axes $(x_1,x_2,x_3)$. It undergoes a large deformation and its domain becomes a deformed one, $\\Omega^*$, as shown in Fig.\\ref{image:Deformation_x}.\n",
    "\n",
    "<img src=\"./images/Deformation_x.png\" alt=\" \" width=\"450\"/>\n",
    "\\begin{figure}\n",
    "  \\includegraphics[width=5cm]{}\n",
    "  \\caption{\\label{image:Deformation_x} A solid continuum media undergoes large deformation.}\n",
    "\\end{figure}"
   ]
  },
  {
   "cell_type": "markdown",
   "metadata": {},
   "source": [
    "A infinitely small fiber in the undeformed solid is denoted as P-Q. The coordinates of the two ends of the fiber are $P(x_1, x_2, x_3)$ and $Q(x_1+dx_1,  x_2+dx_2, x_3+dx_3)$. After the deformation the fiber becomes P\\*-Q\\*, and its coordinates become $P^*(x_1^*,x_2^*,x_3^*)$ and $Q^*(x_1^*+dx_2^*,x_2^*+\\ dx_2^*,x_3^*+dx_3^*)$. The displacements at pint P is denoted as $(u_1, u_2, u_3)$.\n",
    "\n",
    "Assume the solid is a continuum media and also the deformation is continuous, meaning that each of the coordinates $(x_1^*,x_2^*,x_3^*)$ is a differentiable with respect to $x_1$, $x_2$, and $x_3$. Hence, we have,\n",
    "\n",
    "\\begin{equation} \\label{eqdxs}\n",
    "dx^*_i =  \\frac{\\partial x^*_i}{\\partial x_1} dx_1 + \\frac{\\partial x^*_i}{\\partial x_2}dx_2 + \\frac{\\partial x^*_i}{\\partial x_3}dx_3 = \\frac{\\partial x^*_i}{\\partial x_j}dx_j=x^*_{i,j}dx_j\n",
    "\\end{equation} \n",
    "\n",
    "where we used again the summation conversion for repeated indexes in a term, and the subscript \",\" stands for partial differentiation. "
   ]
  },
  {
   "cell_type": "markdown",
   "metadata": {},
   "source": [
    "Because the deformation is assumed continuous, the coordinates at a point in the deformed solid should be the sum of the coordinates of the undeformed solid and the displacements at the same point: \n",
    "\n",
    "\\begin{equation} \\label{eqxstar}\n",
    "x^*_i=  x_i + u_i, \\;\\; i=1,2,3\n",
    "\\end{equation} \n",
    "\n",
    "In addition, each of the displacement components will also be differentiable, which gives,\n",
    "\n",
    "\\begin{equation} \\label{eqxstard}\n",
    "x^*_{i,j} = x_{i,j} + u_{i,j}  \n",
    "\\end{equation} \n",
    "\n",
    "Because the solid is a continuum media, the length of the infinitely small fiber can be measured using, \n",
    "\n",
    "\\begin{equation} \\label{eqds}\n",
    "(ds)^2=  (dx_1)^2 + (dx_2)^2 + (dx_3)^2=𝛿_{𝑖𝑗} dx_i dx_j=dx_i dx_i\n",
    "\\end{equation} \n",
    "\n",
    "The length of the infinitely small fiber in the deformed solid can also be obtained using, \n",
    "\n",
    "\\begin{equation} \\label{eqdss}\n",
    "(ds^*)^2=  (dx^*_1)^2 + (dx^*_2)^2 + (dx^*_3)^2=𝛿_{𝑖𝑗} dx^*_i dx^*_j=dx^*_i dx^*_i\n",
    "\\end{equation} "
   ]
  },
  {
   "cell_type": "markdown",
   "metadata": {},
   "source": [
    "##### Small normal strain of a given fiber\n",
    "\n",
    "Assume now the infinitely small fiber has an orientation in the Cartesian coordinate system defined as $\\mathbf{n}=[n_1,n_2,n_3]^\\top$, where $n_i$ is the direction cosine of the fiber: $n_i=\\cos(\\mathbf{n},x_i)$. The small strain, also known as the engineering strain, of the fiber can be expressed as, \n",
    "\n",
    "\\begin{equation} \\label{eqfss}\n",
    "𝜀_E = \\frac{ds^*-ds}{ds}= \\frac{ds^*}{ds}-1\n",
    "\\end{equation} \n",
    "\n",
    "which gives, \n",
    "\n",
    "\\begin{equation} \\label{eqdssds}\n",
    "\\frac{ds^*}{ds} = 𝜀_E +1\n",
    "\\end{equation} "
   ]
  },
  {
   "cell_type": "markdown",
   "metadata": {},
   "source": [
    "##### Magnification factor of a fiber, large normal strain\n",
    "\n",
    "We now define the so-called magnification factor as: \n",
    "\n",
    "\\begin{equation} \\label{eqMf}\n",
    "M := \\frac{1}{2} \\left[\\frac{(ds^*)^2-(ds)^2}{(ds)^2}\\right]= \\frac{1}{2} \\left[\\left(\\frac{ds^*}{ds}\\right)^2-1\\right] \n",
    "\\end{equation} \n",
    "\n",
    "Readers may take a note of the difference between the expressions of the engineering strain and the magnification factor, which can be expressed simple as,\n",
    "\n",
    "\\begin{equation} \\label{eqMeps}\n",
    "M=𝜀_E +\\frac{1}{2} 𝜀_E^2 \n",
    "\\end{equation} \n",
    "\n",
    "This is known as the Green-Lagrangian normal strain for a fiber in a solid undergoes large deformation. We see the nonlinear (squared) term, due to the large strain resulted from the large deformation. When $𝜀_E$ is small, we have $M≈𝜀_E$."
   ]
  },
  {
   "cell_type": "markdown",
   "metadata": {},
   "source": [
    "##### Magnification factor and the strain components\n",
    "\n",
    "Now, we are ready to derive the relationship between the magnification factor of the given fiber P-Q and the strain components at point P. From Eq.(\\ref{eqdxs}) and (\\ref{eqxstard}), we have\n",
    "\n",
    "\\begin{equation} \\label{eqdxsd}\n",
    "dx^*_i = x^*_{i,j}dx_j = \\underbrace{(x_{i,j} + u_{i,j})}_{x^*_{i,j}}dx_j\n",
    "\\end{equation} \n",
    "\n",
    "Notice that \n",
    "\\begin{equation} \\label{eqxijd}\n",
    "x_{i,j}= \\frac{\\partial x_i}{\\partial x_j} = 𝛿_{ij} \n",
    "\\end{equation} \n",
    "\n",
    "Equation (\\ref{eqdxsd}) becomes,\n",
    "\n",
    "\\begin{equation} \\label{eqdxisd}\n",
    "dx^*_i = x^*_{i,j}dx_j =  (𝛿_{ij} + u_{i,j}) dx_j\n",
    "\\end{equation} "
   ]
  },
  {
   "cell_type": "markdown",
   "metadata": {},
   "source": [
    "Let us evaluate the difference of the squared length of the fiber before and after deformation. Using Eqs.(\\ref{eqds}) and (\\ref{eqdss}) we shall have\n",
    "\n",
    "\\begin{equation} \\label{eqdiffs}\n",
    "\\begin{split}\n",
    "\\left[(ds^*)^2-(ds)^2 \\right]&= dx^*_i dx^*_i-dx_i dx_i \\\\\n",
    "&=\\left(\\underbrace{(𝛿_{ij} + u_{i,j})}_{dx^*_i}\\underbrace{(𝛿_{il} + u_{i,l})}_{dx^*_i}\\right) dx_j 𝑑𝑥_𝑙 - dx_i dx_i\\\\\n",
    "&= \\left(\\underbrace{𝛿_{𝑖𝑗} 𝛿_{𝑖𝑙} }_{𝛿_{𝑗𝑙}}+\\underbrace{𝛿_{𝑖𝑗} u_{i,l}}_{u_{j,l}}+\\underbrace{𝛿_{𝑖𝑙} 𝑢_{𝑖,𝑗}}_{u_{l,j}}+𝑢_{𝑖,𝑗} 𝑢_{𝑖,𝑙}\\right) 𝑑𝑥_𝑗 𝑑𝑥_𝑙 -dx_i dx_i \\\\\n",
    "&=\\left(𝛿_{𝑗𝑙}+u_{j,l}+u_{l,j}+𝑢_{𝑖,𝑗} 𝑢_{𝑖,𝑙} \\right) 𝑑𝑥_𝑗 𝑑𝑥_𝑙 -dx_i dx_i \\\\\n",
    "&=\\underbrace{𝛿_{𝑗𝑙} 𝑑𝑥_𝑗 𝑑𝑥_𝑙 }_{𝑑𝑥_𝑗 𝑑𝑥_𝑗} + \\underbrace{(𝑢_{𝑗,𝑙}+𝑢_{𝑙,𝑗}+𝑢_{𝑖,𝑗} 𝑢_{𝑖,𝑙}}_{2𝜀_{𝑗𝑙}}) 𝑑𝑥_𝑗 𝑑𝑥_𝑙 − d𝑥_𝑖 d𝑥_𝑖 \\\\\n",
    "&=2𝜀_{𝑗𝑙}𝑑𝑥_𝑗 𝑑𝑥_𝑙 =2𝜀_{ij}𝑑𝑥_i 𝑑𝑥_j\n",
    "\\end{split}\n",
    "\\end{equation} \n",
    "\n",
    "In the last line in the above derivation, we used Eq.(\\ref{eqepsNl}). "
   ]
  },
  {
   "cell_type": "markdown",
   "metadata": {},
   "source": [
    "Finally, using Eq.(\\ref{eqMf}), we obtain:\n",
    "\n",
    "\\begin{equation} \\label{eqMepsij}\n",
    "\\begin{split}\n",
    "M &= \\frac{1}{2} \\left[\\frac{(ds^*)^2-(ds)^2}{(ds)^2}\\right] =\\frac{1}{2} \\left[(ds^*)^2-(ds)^2\\right]\\frac{1}{ds} \\frac{1}{ds} \\\\\n",
    "& = 𝜀_{ij} \\frac{𝑑𝑥_i }{ds}\\frac{𝑑𝑥_j}{ds} = n_i 𝜀_{ij} n_j\n",
    "\\end{split}\n",
    "\\end{equation} \n",
    "\n",
    "In the forgoing equation, we used\n",
    "\n",
    "\\begin{equation} \\label{eqnidx}\n",
    "n_i =  \\frac{𝑑𝑥_i }{ds}\n",
    "\\end{equation} "
   ]
  },
  {
   "cell_type": "markdown",
   "metadata": {},
   "source": [
    "#### Direction cosine of the fiber after deformation *\n",
    "\n",
    "Let us now examine the direction cosine of the fiber after deformation. We start with the definition of the direction cosine for the deformed fiber, which gives,\n",
    "\n",
    "\\begin{equation} \\label{eqnsi}\n",
    "n^*_i =  \\frac{𝑑𝑥^*_i }{ds^*}\n",
    "\\end{equation} \n",
    "\n",
    "which can be written as \n",
    "\n",
    "\\begin{equation} \\label{eqnsis}\n",
    "n^*_i =  \\frac{𝑑𝑥^*_i }{ds} \\frac{ds}{ds^*}\n",
    "\\end{equation} \n",
    "\n",
    "Using Eq.(\\ref{eqdxisd}) we have,\n",
    "\n",
    "\\begin{equation} \\label{eqdxids}\n",
    "\\frac{𝑑𝑥^*_i }{ds} = x^*_{i,j}\\frac{dx_j}{ds} =  (𝛿_{ij} + u_{i,j}) n_j\n",
    "\\end{equation} "
   ]
  },
  {
   "cell_type": "markdown",
   "metadata": {},
   "source": [
    "From Eq.(\\ref{eqdssds}), we have\n",
    "\n",
    "\\begin{equation} \\label{eqdsdss}\n",
    "ds^* = \\underbrace{(1+𝜀_E)}_\\text{length change rate}ds\n",
    "\\end{equation} \n",
    "\n",
    "where $(𝜀_E +1)$ accounts for the length change in a fiber. Because the fiber is infinitly small, small strain $𝜀_E$ is used. Using Eqs.(\\ref{eqnsis}), (\\ref{eqdsdss}), and (\\ref{eqdxids}), we have,\n",
    "\n",
    "\\begin{equation} \\label{eqEnsis}\n",
    "(1+𝜀_E)n^*_i =  (𝛿_{ij} + u_{i,j}) n_j\n",
    "\\end{equation} "
   ]
  },
  {
   "cell_type": "markdown",
   "metadata": {},
   "source": [
    "#### Shear strains caused by large deformation"
   ]
  },
  {
   "cell_type": "markdown",
   "metadata": {},
   "source": [
    "Consider two orthogonal infinitely small fibers in a solid undergoes large deformation, as shown in Fig.\\ref{image:TwoFibers}. Fiber P-A has direction cosines of $\\mathbf{n}=(n_1, n_2, n_3)$, and Fiber P-B has $\\mathbf{m}=(m_1, m_2, m_3)$. These two fibers are deformed, respectively, to P\\*-A* and P\\*-B*. The direction cosines for becomes, respectively, $\\mathbf{n}^*=(n^*_1, n^*_2, n^*_3)$, and that for becomes $\\mathbf{m}^*=(m^*_1, m^*_2, m^*_3)$. Our task now is to evaluate the shear strain between these two fibers. \n",
    "\n",
    "<img src=\"./images/TwoFibers.png\" alt=\" \" width=\"450\"/>\n",
    "\\begin{figure}\n",
    "  \\includegraphics[width=5cm]{}\n",
    "  \\caption{\\label{image:TwoFibers} Two orthogonal fibers in a solid continuum media undergoes large deformation. The angular change of these two fibers gives the shear strains.}\n",
    "\\end{figure}\n",
    "\n",
    "Because P-A and P-B are orthogonal, we shall have,\n",
    "\n",
    "\\begin{equation} \\label{eqPAB}\n",
    "n_i m_i = 0\n",
    "\\end{equation} \n",
    "\n",
    "After deformation, P\\*-A* and P\\*-B* are not necessarily orthogonal, and their angle changed from $\\pi/2$ can be evaluated using \n",
    "\n",
    "\\begin{equation} \\label{eqPAsBs}\n",
    "\\cos \\theta^* = n^*_i m^*_i \n",
    "\\end{equation} "
   ]
  },
  {
   "cell_type": "markdown",
   "metadata": {},
   "source": [
    "The shear strain between fiber $\\mathbf{n}$ and $\\mathbf{m}$ is then defined as: \n",
    "\n",
    "\\begin{equation} \\label{eqs_nm}\n",
    "\\begin{split}\n",
    "\\varepsilon_{nm}&=\\frac{1}{2}\\underbrace{(1+𝜀_{En})}_{\\text{length change rate of } \\mathbf{n}} \\underbrace{(1+𝜀_{Em})}_{\\;\\;\\;\\text{length change rate of } \\mathbf{m}}  \\cos \\theta^* \\\\\n",
    "&=\\frac{1}{2}(1+𝜀_{En})(1+𝜀_{Em}) n^*_i m^*_i \\\\\n",
    "&=\\frac{1}{2}(1+𝜀_{En})n^*_i \\; (1+𝜀_{Em}) m^*_i \n",
    "\\end{split}\n",
    "\\end{equation}\n",
    "\n",
    "Using Eqs.(\\ref{eqs_nm}), and (\\ref{eqEnsis}), we have,\n",
    "\n",
    "\\begin{equation} \\label{eqEkl}\n",
    "\\begin{split}\n",
    "𝜀_{nm}&=\\frac{1}{2} (𝛿_{ik} + u_{i,k})n_k (𝛿_{il} + u_{i,l})m_l \\\\\n",
    "&=\\frac{1}{2}\\left(𝛿_{ik}𝛿_{il}  +𝛿_{ik}u_{i,l} +u_{i,k}𝛿_{il} +u_{i,k}𝛿_{il}  \\right)n_k m_l \\\\\n",
    "&=\\frac{1}{2}\\left(𝛿_{kl} + u_{k,l} +u_{l,k} +u_{i,k} u_{i,l}  \\right)n_k m_l \\\\\n",
    "&=\\frac{1}{2}\\underbrace{𝛿_{kl}n_k m_l}_{n_k m_k=0}+ \\underbrace{\\frac{1}{2}\\left(u_{k,l} +u_{l,k} +u_{i,k} u_{i,l}  \\right)}_{𝜀_{kl}} n_k m_l \\\\\n",
    "&=n_k 𝜀_{kl}  m_l \n",
    "\\end{split}\n",
    "\\end{equation} \n",
    "\n",
    "where $𝜀_{nm}$ is the shear strain between two fibers with direction cosines $\\mathbf{n}$ and $\\mathbf{m}$, which are initially orthogonal. The resulted strain expression $𝜀_{kl}$ in the forgoing equation is the same as we obtained in Eq.(\\ref{eqepsNl}), using gradient of displacement vector functions. "
   ]
  },
  {
   "cell_type": "markdown",
   "metadata": {},
   "source": [
    "It may be worth to note that when $\\mathbf{m}=\\mathbf{n}$, $𝜀_{nn}$ becomes the magnification factor obtained in Eq.(\\ref{eqMepsij}). This is because the length change of the infinitely small fibers are taken into consideration in Eqs.(\\ref{eqs_nm}), while considering the angular change. Therefore, Eq.(\\ref{eqEkl}) is more general than Eq.(\\ref{eqMepsij}). It gives both normal and shear strains. "
   ]
  },
  {
   "cell_type": "markdown",
   "metadata": {},
   "source": [
    "#### Examples: symbolic computation of strains  "
   ]
  },
  {
   "cell_type": "markdown",
   "metadata": {},
   "source": [
    "Suppose we know the strain tensor $\\mathbf{ε}$  (in 9 components) at a point in solid. We want to know the strain along an arbitrary fiber with direction of $\\mathbf{n}=(l,m,n)$, which are the direction cosines of the fiber with respect to the coordinates  $x_1, x_2, x_3$. In indicial notation, we denote $\\mathbf{n}=(n_1, n_2, n_3)$. The normal strain of this fiber is the magnificaton factor given in Eq.(\\ref{eqMepsij}), and can be computed using,\n",
    "\n",
    "\\begin{equation} \\label{eqstrain_n}\n",
    "\\boxed{ \\varepsilon_{nn}=n_i \\varepsilon_{ij} n_j }\n",
    "\\end{equation}\n",
    "\n",
    "In matrix notation, we have\n",
    "\n",
    "\\begin{equation} \\label{eqstrainN}\n",
    "\\boxed{\n",
    "\\varepsilon_{nn}=\\mathbf{n} \\mathbf{ε}\\mathbf{n}^\\top }\n",
    "\\end{equation}\n",
    "\n",
    "Consider now another arbitrary fiber orthogonal to $\\mathbf{n}$ with direction cosines denote $\\mathbf{m}=(m_1, m_2, m_3)$. The shear strain between fiber $\\mathbf{n}$ and $\\mathbf{m}$ is then computed using, \n",
    "\n",
    "\\begin{equation} \\label{eqstrain_nm}\n",
    "\\varepsilon_{nm}=n_i \\varepsilon_{ij} m_j \n",
    "\\end{equation}\n",
    "\n",
    "In matrix notation, we have\n",
    "\n",
    "\\begin{equation} \\label{eqstrainNM}\n",
    "\\varepsilon_{nm}=\\mathbf{n} \\mathbf{ε}\\mathbf{m}^\\top\n",
    "\\end{equation}\n",
    "\n",
    "Let us write the following Numpy codes to show this. We first give the symbolic computation code. "
   ]
  },
  {
   "cell_type": "code",
   "execution_count": 93,
   "metadata": {
    "ExecuteTime": {
     "end_time": "2022-10-02T11:48:59.878650Z",
     "start_time": "2022-10-02T11:48:59.839051Z"
    }
   },
   "outputs": [
    {
     "data": {
      "text/latex": [
       "$\\displaystyle \\left[\\begin{matrix}n_{1} & n_{2} & n_{3}\\end{matrix}\\right]$"
      ],
      "text/plain": [
       "[n₁  n₂  n₃]"
      ]
     },
     "execution_count": 93,
     "metadata": {},
     "output_type": "execute_result"
    }
   ],
   "source": [
    "#symbolic computation code \n",
    "n1, n2, n3 = \"n1\", \"n2\", \"n3\" \n",
    "N = Matrix([[n1, n2, n3]])             #Direction consines for fiber N \n",
    "N"
   ]
  },
  {
   "cell_type": "code",
   "execution_count": 94,
   "metadata": {
    "ExecuteTime": {
     "end_time": "2022-10-02T11:48:59.941889Z",
     "start_time": "2022-10-02T11:48:59.880676Z"
    }
   },
   "outputs": [
    {
     "data": {
      "text/latex": [
       "$\\displaystyle \\left[\\begin{matrix}n_{1} \\left(n_{1} ε_{11} + n_{2} ε_{12} + n_{3} ε_{13}\\right) + n_{2} \\left(n_{1} ε_{12} + n_{2} ε_{22} + n_{3} ε_{23}\\right) + n_{3} \\left(n_{1} ε_{13} + n_{2} ε_{23} + n_{3} ε_{33}\\right)\\end{matrix}\\right]$"
      ],
      "text/plain": [
       "[n₁⋅(n₁⋅ε₁₁ + n₂⋅ε₁₂ + n₃⋅ε₁₃) + n₂⋅(n₁⋅ε₁₂ + n₂⋅ε₂₂ + n₃⋅ε₂₃) + n₃⋅(n₁⋅ε₁₃ + \n",
       "n₂⋅ε₂₃ + n₃⋅ε₃₃)]"
      ]
     },
     "execution_count": 94,
     "metadata": {},
     "output_type": "execute_result"
    }
   ],
   "source": [
    "E_NN = N@E@N.T      # E: strain tensor; E_NN: normal strain of fiber N\n",
    "E_NN                # print out formula "
   ]
  },
  {
   "cell_type": "code",
   "execution_count": 95,
   "metadata": {
    "ExecuteTime": {
     "end_time": "2022-10-02T11:49:00.005035Z",
     "start_time": "2022-10-02T11:48:59.944883Z"
    }
   },
   "outputs": [
    {
     "data": {
      "text/latex": [
       "$\\displaystyle \\left[\\begin{matrix}n_{2} \\left(n_{2} ε_{22} + n_{3} ε_{23}\\right) + n_{3} \\left(n_{2} ε_{23} + n_{3} ε_{33}\\right)\\end{matrix}\\right]$"
      ],
      "text/plain": [
       "[n₂⋅(n₂⋅ε₂₂ + n₃⋅ε₂₃) + n₃⋅(n₂⋅ε₂₃ + n₃⋅ε₃₃)]"
      ]
     },
     "execution_count": 95,
     "metadata": {},
     "output_type": "execute_result"
    }
   ],
   "source": [
    "E_NN.subs({n1:0})                                 # Formula for n1 = 0"
   ]
  },
  {
   "cell_type": "code",
   "execution_count": 96,
   "metadata": {
    "ExecuteTime": {
     "end_time": "2022-10-02T11:49:00.051215Z",
     "start_time": "2022-10-02T11:49:00.007809Z"
    }
   },
   "outputs": [
    {
     "data": {
      "text/latex": [
       "$\\displaystyle \\left[\\begin{matrix}m_{1} & m_{2} & m_{3}\\end{matrix}\\right]$"
      ],
      "text/plain": [
       "[m₁  m₂  m₃]"
      ]
     },
     "execution_count": 96,
     "metadata": {},
     "output_type": "execute_result"
    }
   ],
   "source": [
    "m1, m2, m3 = \"m1\", \"m2\", \"m3\" \n",
    "M = Matrix([[m1, m2, m3]])            # Direction consines for fiber M \n",
    "M"
   ]
  },
  {
   "cell_type": "code",
   "execution_count": 97,
   "metadata": {
    "ExecuteTime": {
     "end_time": "2022-10-02T11:49:00.114664Z",
     "start_time": "2022-10-02T11:49:00.054207Z"
    }
   },
   "outputs": [
    {
     "data": {
      "text/latex": [
       "$\\displaystyle \\left[\\begin{matrix}m_{1} \\left(n_{1} ε_{11} + n_{2} ε_{12} + n_{3} ε_{13}\\right) + m_{2} \\left(n_{1} ε_{12} + n_{2} ε_{22} + n_{3} ε_{23}\\right) + m_{3} \\left(n_{1} ε_{13} + n_{2} ε_{23} + n_{3} ε_{33}\\right)\\end{matrix}\\right]$"
      ],
      "text/plain": [
       "[m₁⋅(n₁⋅ε₁₁ + n₂⋅ε₁₂ + n₃⋅ε₁₃) + m₂⋅(n₁⋅ε₁₂ + n₂⋅ε₂₂ + n₃⋅ε₂₃) + m₃⋅(n₁⋅ε₁₃ + \n",
       "n₂⋅ε₂₃ + n₃⋅ε₃₃)]"
      ]
     },
     "execution_count": 97,
     "metadata": {},
     "output_type": "execute_result"
    }
   ],
   "source": [
    "E_NM = N@E@M.T                 # Shear strain of between fiber N and M\n",
    "E_NM                           # print out formula "
   ]
  },
  {
   "cell_type": "code",
   "execution_count": 98,
   "metadata": {
    "ExecuteTime": {
     "end_time": "2022-10-02T11:49:00.161855Z",
     "start_time": "2022-10-02T11:49:00.117166Z"
    }
   },
   "outputs": [
    {
     "data": {
      "text/latex": [
       "$\\displaystyle \\left[\\begin{matrix}m_{1} \\left(n_{1} ε_{11} + n_{2} ε_{12} + n_{3} ε_{13}\\right)\\end{matrix}\\right]$"
      ],
      "text/plain": [
       "[m₁⋅(n₁⋅ε₁₁ + n₂⋅ε₁₂ + n₃⋅ε₁₃)]"
      ]
     },
     "execution_count": 98,
     "metadata": {},
     "output_type": "execute_result"
    }
   ],
   "source": [
    "E_NM.subs({m2:0, m3:0})                      # Formula for m2 = m3 = 0"
   ]
  },
  {
   "cell_type": "markdown",
   "metadata": {},
   "source": [
    "#### Example: computation of displacements and normal and shear strains \n",
    "\n",
    "Consider a 3D solid brick shown in Fig.\\ref{image:SolidBrick}. \n",
    "\n",
    "<img src=\"./images/SolidBrick.png\" alt=\" \" width=\"200\"/><br>\n",
    "\\begin{figure}\n",
    "  \\includegraphics[width=5cm]{}\n",
    "  \\caption{\\label{image:SolidBrick} A 3D solid brick.}\n",
    "\\end{figure}\n",
    "\n",
    "The displacements are given in the following formulas \\cite{boresi1985advanced}.   \n",
    "\n",
    "\\begin{equation}\n",
    "u = c_1 xyz, \\;\\; v = c_2 xyz, \\;\\; w = c_3 xyz\n",
    "\\end{equation}\n",
    "\n",
    "where $c_1, c_2$ and $c_3$ are constants. The displacements at point E are found by a measurement as $(0.004, 0.002, -0.004)$ (m)."
   ]
  },
  {
   "cell_type": "markdown",
   "metadata": {},
   "source": [
    "1) Determine the functions for all the displacement components.  \n",
    "\n",
    "2) Compute the gradient of the displacement vector functions.  \n",
    "\n",
    "3) Compute the strain functions in the solid, and the values of the strains at pint E. \n",
    "\n",
    "4) Compute the normal strains at point E along the $\\overrightarrow{EA}$ direction, and along $\\overrightarrow{EA}$ direction.  \n",
    "\n",
    "5) Compute the shear strains at point E between $\\overrightarrow{EA}$ and $\\overrightarrow{EF}$."
   ]
  },
  {
   "cell_type": "markdown",
   "metadata": {},
   "source": [
    "**Solution**\n",
    "\n",
    "The formulas for the displacement components contain unknown constants $c_1, c_2, c_3$. Therefore, we need to determine these constants. This can be done using the conditions given for the displacements at point E, which gives the following three algebraic equations: \n",
    "\n",
    "\\begin{equation}\n",
    "\\begin{split}\n",
    "c_1 x_E y_E z_E = u_E\\\\\n",
    "c_2 x_E y_E z_E = v_E\\\\\n",
    "c_3 x_E y_E z_E = w_E\n",
    "\\end{split}\n",
    "\\end{equation}\n",
    "\n",
    "where $x_E, y_E, z_E$ are the coordinates at point E, and  $u_E, v_E, w_E$ are the coordinates at point E. These three equations can be solved easily one-by-one for $c_1, c_2, c_3$, because these are not coupled. In general, this type equation may be coupled. Thus, we use Sympy solver to obtain the solution, assume these equations are a coupled system. \n",
    "\n",
    "After the displacements are determined we can answer all the rest questions with ease. We write a code to complete the task."
   ]
  },
  {
   "cell_type": "code",
   "execution_count": 7,
   "metadata": {
    "ExecuteTime": {
     "end_time": "2024-02-02T12:34:07.183143Z",
     "start_time": "2024-02-02T12:34:06.026803Z"
    },
    "code_folding": []
   },
   "outputs": [
    {
     "data": {
      "image/png": "[encoded data removed]",
      "text/latex": [
       "$\\displaystyle \\left\\{ c_{1} : 1.33333333333333, \\  c_{2} : 0.666666666666667, \\  c_{3} : -1.33333333333333\\right\\}$"
      ],
      "text/plain": [
       "{c₁: 1.33333333333333, c₂: 0.666666666666667, c₃: -1.33333333333333}"
      ]
     },
     "execution_count": 7,
     "metadata": {},
     "output_type": "execute_result"
    }
   ],
   "source": [
    "# Ref: Advanced Mechanics of Materials, by Boresi and Schmidt\n",
    "# Example 2.8 Three-Dimensional Strain State \n",
    "\n",
    "# 1) Determine the functions for all the displacement components. \n",
    "x, y, z = symbols(\"x, y, z\")             # define symbolic coordinates\n",
    "c1, c2, c3 = symbols(\"c_1, c_2, c_3\")     \n",
    "u = c1*x*y*z\n",
    "v = c2*x*y*z\n",
    "w = c3*x*y*z\n",
    "xE = {x:3/2, y:1, z:2}                        # Coordinates at point E\n",
    "dE = [4, 2, -4]   # × 1e-3                    # displacment at point E\n",
    "sln_cs=sp.solve([u.subs(xE)-dE[0],v.subs(xE)-dE[1],w.subs(xE)-dE[2]],\n",
    "                [c1, c2, c3])\n",
    "sln_cs               # should be: {𝑐1:0.004/3, 𝑐2:0.002/3, 𝑐3:−0.004/3}"
   ]
  },
  {
   "cell_type": "code",
   "execution_count": 6,
   "metadata": {
    "ExecuteTime": {
     "end_time": "2024-02-02T12:28:30.875364Z",
     "start_time": "2024-02-02T12:28:29.176669Z"
    }
   },
   "outputs": [
    {
     "name": "stdout",
     "output_type": "stream",
     "text": [
      "The displacement functions are found as:\n"
     ]
    },
    {
     "data": {
      "image/png": "[encoded data removed]",
      "text/latex": [
       "$\\displaystyle \\left[\\begin{matrix}0.001333 x y z & 0.0006667 x y z & - 0.001333 x y z\\end{matrix}\\right]$"
      ],
      "text/plain": [
       "[0.001333⋅x⋅y⋅z  0.0006667⋅x⋅y⋅z  -0.001333⋅x⋅y⋅z]"
      ]
     },
     "execution_count": 6,
     "metadata": {},
     "output_type": "execute_result"
    }
   ],
   "source": [
    "U = Matrix([u.subs(sln_cs), v.subs(sln_cs), w.subs(sln_cs)])\n",
    "gr.printM(U.T, 'The displacement functions are found as:')"
   ]
  },
  {
   "cell_type": "markdown",
   "metadata": {},
   "source": [
    "The displacement functions are found as:\n",
    "\n",
    "\\begin{equation}\n",
    "\\begin{bmatrix} u\\\\v\\\\w\\end{bmatrix} = \\begin{bmatrix} \\frac{0.004}{3} x y z\\\\\\frac{0.002}{3} x y z\\\\-\\frac{0.004}{3} x y z\\end{bmatrix} \n",
    "\\end{equation} "
   ]
  },
  {
   "cell_type": "code",
   "execution_count": 8,
   "metadata": {
    "ExecuteTime": {
     "end_time": "2024-02-02T12:35:09.678556Z",
     "start_time": "2024-02-02T12:35:08.197163Z"
    }
   },
   "outputs": [
    {
     "name": "stdout",
     "output_type": "stream",
     "text": [
      "Displacement gradient\n"
     ]
    },
    {
     "data": {
      "image/png": "[encoded data removed]",
      "text/latex": [
       "$\\displaystyle \\left[\\begin{matrix}1.333 y z & 0.6667 y z & - 1.333 y z\\\\1.333 x z & 0.6667 x z & - 1.333 x z\\\\1.333 x y & 0.6667 x y & - 1.333 x y\\end{matrix}\\right]$"
      ],
      "text/plain": [
       "⎡1.333⋅y⋅z  0.6667⋅y⋅z  -1.333⋅y⋅z⎤\n",
       "⎢                                 ⎥\n",
       "⎢1.333⋅x⋅z  0.6667⋅x⋅z  -1.333⋅x⋅z⎥\n",
       "⎢                                 ⎥\n",
       "⎣1.333⋅x⋅y  0.6667⋅x⋅y  -1.333⋅x⋅y⎦"
      ]
     },
     "execution_count": 8,
     "metadata": {},
     "output_type": "execute_result"
    }
   ],
   "source": [
    "# 2) Compute the gradient of the displacement vector functions.\n",
    "np.set_printoptions(precision=4,suppress=True)\n",
    "\n",
    "u1 = Function('u1')(x, y, z) # define symbolic function of coordinates\n",
    "u2 = Function('u2')(x, y, z)\n",
    "u3 = Function('u3')(x, y, z)\n",
    "\n",
    "u1 = 4/3*x*y*z   #1e-3           # given displacements in a 3D brick\n",
    "u2 = 2/3*x*y*z\n",
    "u3 = -4/3*x*y*z \n",
    "\n",
    "U = Matrix([u1, u2, u3])       # form a vector of symbolic functions\n",
    "\n",
    "# the gradient of the displacement vector functions\n",
    "U_g = vector.grad_vec(U)\n",
    "printM(U_g, 'Displacement gradient', n_dgt=4)"
   ]
  },
  {
   "cell_type": "code",
   "execution_count": 9,
   "metadata": {
    "ExecuteTime": {
     "end_time": "2024-02-02T12:35:11.756211Z",
     "start_time": "2024-02-02T12:35:10.025468Z"
    }
   },
   "outputs": [
    {
     "name": "stdout",
     "output_type": "stream",
     "text": [
      "Strain tensor (small) functions\n"
     ]
    },
    {
     "data": {
      "image/png": "[encoded data removed]",
      "text/latex": [
       "$\\displaystyle \\left[\\begin{matrix}1.333 y z & 0.6667 x z + 0.3333 y z & 0.6667 x y - 0.6667 y z\\\\0.6667 x z + 0.3333 y z & 0.6667 x z & 0.3333 x y - 0.6667 x z\\\\0.6667 x y - 0.6667 y z & 0.3333 x y - 0.6667 x z & - 1.333 x y\\end{matrix}\\right]$"
      ],
      "text/plain": [
       "⎡       1.333⋅y⋅z         0.6667⋅x⋅z + 0.3333⋅y⋅z  0.6667⋅x⋅y - 0.6667⋅y⋅z⎤\n",
       "⎢                                                                         ⎥\n",
       "⎢0.6667⋅x⋅z + 0.3333⋅y⋅z        0.6667⋅x⋅z         0.3333⋅x⋅y - 0.6667⋅x⋅z⎥\n",
       "⎢                                                                         ⎥\n",
       "⎣0.6667⋅x⋅y - 0.6667⋅y⋅z  0.3333⋅x⋅y - 0.6667⋅x⋅z        -1.333⋅x⋅y       ⎦"
      ]
     },
     "execution_count": 9,
     "metadata": {},
     "output_type": "execute_result"
    }
   ],
   "source": [
    "# 3) Compute the strain functions in the solid \n",
    "strains = 0.5*(U_g +U_g.T)\n",
    "printM(strains,'Strain tensor (small) functions', n_dgt=4)"
   ]
  },
  {
   "cell_type": "code",
   "execution_count": 58,
   "metadata": {
    "ExecuteTime": {
     "end_time": "2024-02-01T19:30:54.327933Z",
     "start_time": "2024-02-01T19:30:53.077953Z"
    }
   },
   "outputs": [
    {
     "name": "stdout",
     "output_type": "stream",
     "text": [
      "Strain tensor values (e-3):\n"
     ]
    },
    {
     "data": {
      "image/png": "[encoded data removed]",
      "text/latex": [
       "$\\displaystyle \\left[\\begin{matrix}2.667 & 2.667 & -0.3333\\\\2.667 & 2.0 & -1.5\\\\-0.3333 & -1.5 & -2.0\\end{matrix}\\right]$"
      ],
      "text/plain": [
       "⎡ 2.667   2.667  -0.3333⎤\n",
       "⎢                       ⎥\n",
       "⎢ 2.667    2.0    -1.5  ⎥\n",
       "⎢                       ⎥\n",
       "⎣-0.3333  -1.5    -2.0  ⎦"
      ]
     },
     "execution_count": 58,
     "metadata": {},
     "output_type": "execute_result"
    }
   ],
   "source": [
    "# 3) the values of the strains at pint E.\n",
    "\n",
    "Ev = strains.subs(xyz)                         # values of the strains\n",
    "printM(Ev, 'Strain tensor values (e-3):', n_dgt=4)"
   ]
  },
  {
   "cell_type": "code",
   "execution_count": 59,
   "metadata": {
    "ExecuteTime": {
     "end_time": "2024-02-01T19:33:20.106523Z",
     "start_time": "2024-02-01T19:33:20.084611Z"
    }
   },
   "outputs": [
    {
     "name": "stdout",
     "output_type": "stream",
     "text": [
      "The fiber direction N = [ 0.     -0.4472 -0.8944]\n",
      "Normal strain on fiber N  = -2.4000e-3\n",
      "The fiber direction M = [-1.  0.  0.]\n",
      "Normal strain on fiber M = 2.6667e-3\n"
     ]
    }
   ],
   "source": [
    "# 4) Compute the normal strains at point E along the fiber EA direction:\n",
    "\n",
    "Ev = np.array(Ev)\n",
    "N_EA = np.array([0.,-1./np.sqrt(5),-2./np.sqrt(5)]) # fiber along E->A\n",
    "print(f'The fiber direction N = {N_EA}')\n",
    "\n",
    "EN_EA = N_EA@Ev@N_EA                     # Normal strain of fiber E->A\n",
    "print(f'Normal strain on fiber N  = {EN_EA:.4f}e-3')\n",
    "\n",
    "# normal strain at point E along EF direction:\n",
    "N_EF = np.array([-1., 0, 0])                        # fiber along E->F\n",
    "print(f'The fiber direction M = {N_EF}')\n",
    "EN_EF = N_EF@Ev@N_EF                      #Normal strain of fiber E->F\n",
    "print(f'Normal strain on fiber M = {EN_EF:.4f}e-3')"
   ]
  },
  {
   "cell_type": "code",
   "execution_count": 60,
   "metadata": {
    "ExecuteTime": {
     "end_time": "2024-02-01T19:34:49.570698Z",
     "start_time": "2024-02-01T19:34:49.564636Z"
    }
   },
   "outputs": [
    {
     "name": "stdout",
     "output_type": "stream",
     "text": [
      "Shear strain between two fibers = 0.8944e-3\n",
      "Engineering shear strain between two fibers = 1.7889e-3\n"
     ]
    }
   ],
   "source": [
    "#5) Compute the shear strains at point E between fibers EA and EF.\n",
    "\n",
    "E_NM = N_EA@Ev@N_EF          #Shear strain between fiber E->A and E->F\n",
    "print(f'Shear strain between two fibers = {E_NM:.4f}e-3')\n",
    "print(f'Engineering shear strain between two fibers = {2.*E_NM:.4f}e-3')"
   ]
  },
  {
   "cell_type": "markdown",
   "metadata": {
    "ExecuteTime": {
     "end_time": "2022-09-21T19:30:29.409619Z",
     "start_time": "2022-09-21T19:30:29.397651Z"
    }
   },
   "source": [
    "### Coordinate transformation of strain tensor \n",
    "\n",
    "After the coordinate transformation from the coordinate system of $x_1, x_2$ and $x_3$ to a new coordinate $x'_1, x'_2$ and $x'_3$, the $n_i$ should be replaced by $a_{ri}$ (with $r$ range from 1 to 3). This is because the fiber direction could be one of the three axes $x'_1, x'_2$ and $x'_3$. The $m_j$ should be replaced by $a_{sj}$ (with $s$ range from 1 to 3), because the tip-moving direction could also be one of the three directions $x'_1, x'_2$ and $x'_3$. The fiber directions should go with the free index $r$, and the tip-moving directions go with the free index $s$. All the contraction operations stay unchanged, leaving with 2 indexes, resulting in a new description of the same strain tensor. After this indexation matching, we re-write Eq.(\\ref{eqstrain_nm}) to include the precise meaning of each of the indexes. \n",
    " \n",
    "\\begin{equation} \\label{eqEvPijd}\n",
    "\\begin{split}\n",
    "\\varepsilon_{nm}&=n_i \\varepsilon_{ij} m_j \\\\[9pt]\n",
    "\\varepsilon_{\\underbrace{n}_{\\text{fiber-dir}\\\\\\text{denoted by} r } \\underbrace{m}_{\\text{ tip-move-dir}\\\\\\text{ denoted by s} }}\n",
    "&=\\underbrace{n_i}_{\\text{controls fiber-dir}} \\varepsilon_{\\underbrace{i}_{\\text{contract with fiber-dir}} \\underbrace{j}_{\\text{contract with tip-move-dir}}} \\underbrace{m_j}_{\\text{controls tip-move-dir}} \\\\\n",
    "\\;\\;\\;\\; r \\;\\;\\;\\;\\;\\;\\;\\;  s \\;\\;\\;\\;  &\\;\\;\\;\\;\\;\\;\\;\\;\\;\\;\\;\\;\\;\\;\\;\\;\\;\\;\\;\\;\\;\\;\\;\\;\\;\\;\\;\\;\\; i \\;\\;\\;\\;\\;\\;\\;\\;\\;\\;\\;\\;\\;\\;\\;j \\\\\n",
    "\\begin{bmatrix} x'_1\\\\ x'_2 \\\\ x'_3 \\end{bmatrix} \\; \n",
    "\\begin{bmatrix} x'_1\\\\ x'_2 \\\\ x'_3 \\end{bmatrix} \\; &\\;\\;\\;\\;\\;\\;\\;\\;\\;\\;\\; a_{ri} \\;\\;\\; \\;\\;\\;\\;\\;\\;\\; \\begin{bmatrix} x_1\\\\ x_2 \\\\ x_3 \\end{bmatrix} \\;\\;\\;\\;\\;\\;\\;\\;\\; \\begin{bmatrix} x_1\\\\ x_2 \\\\ x_3 \\end{bmatrix} \\;\\;\\;\\;\\;\\;\\;\\;\\;\\;\\;\\; a_{sj}\n",
    "\\end{split}\n",
    "\\end{equation} \n",
    "\n",
    "\\begin{equation} \\label{eqTMdef}\n",
    "\\mathbf{T}=\\begin{bmatrix}\n",
    "\\underbrace{\\cos(x'_1,x_1)}_{a_{11}} & \\underbrace{\\cos(x'_1,x_2)}_{a_{12}} & \\underbrace{\\cos(x'_1,x_3)}_{a_{13}}\\\\  \\underbrace{\\cos(x'_2,x_1)}_{a_{21}} & \\underbrace{\\cos(x'_2,x_2)}_{a_{22}} & \\underbrace{\\cos(x'_2,x_3)}_{a_{23}}\\\\ \\underbrace{\\cos(x'_3,x_1)}_{a_{31}} & \\underbrace{\\cos(x'_3,x_2)}_{a_{32}} & \\underbrace{\\cos(x'_3,x_3)}_{a_{33}} \\end{bmatrix} \n",
    "\\end{equation}\n",
    "\n",
    "We obtain: \n",
    "\\begin{equation} \\label{eqETij}\n",
    "\\boxed{ \\varepsilon_{rs}'=a_{ri}\\varepsilon_{ij} a_{sj} } \n",
    "\\end{equation} \n",
    "\n",
    "This is the formula for strain tensor transformation using indicial notation. Note the indexes $i$ and $j$ are all contracted, leaving with the free indexes $r$ and $s$, resulting in a 2nd order tensor, the transformed strain tensor. \n",
    "\n",
    "Alternatively, we may use the matrix notation and matrix multiplication rule, and the formula should be: \n",
    "\n",
    "\\begin{equation} \\label{eqETM}\n",
    "\\boxed{ \\mathbf{ε}'=\\mathbf{T}\\mathbf{ε}\\mathbf{T}^\\top }\n",
    "\\end{equation}\n",
    "\n",
    "The $\\mathbf{T}$ sits on the left ensures the contraction is on the first index of $\\mathbf{ε}$ (with the 2nd index of $\\mathbf{T}$), and $\\mathbf{T}$ sits on the right ensures the contraction is on the 2nd index of $\\mathbf{ε}$ and the transpose is needed so that the contraction is always with the 2nd index of $\\mathbf{T}$, related to the base coordinate axes. \n",
    "\n",
    "Because $\\mathbf{T}$ is unitary, the inverse transformation can be simply done using the transpose of $\\mathbf{T}$:\n",
    "\n",
    "\\begin{equation} \\label{eqETMI}\n",
    "\\mathbf{ε}=\\mathbf{T}^\\top \\mathbf{ε}'\\mathbf{T}\n",
    "\\end{equation}\n",
    "\n",
    "Or in the indicial notation: \n",
    "\n",
    "\\begin{equation} \\label{eqETijI}\n",
    "\\varepsilon_{rs}=a_{ir}\\varepsilon_{ij}' a_{js}\n",
    "\\end{equation}\n",
    "\n",
    "All we need is to swap the order of the two indexes of $a_{ij}$.\n",
    "\n",
    "It is seen again that transformation of a 2nd order strain tensor requires two times of operation by the rotation matrix $\\mathbf{T}$.\n",
    "\n",
    "Let us write the following Python codes to get this done, using both matrix notation and indicial notation."
   ]
  },
  {
   "cell_type": "code",
   "execution_count": 17,
   "metadata": {
    "ExecuteTime": {
     "end_time": "2024-02-01T17:25:27.612146Z",
     "start_time": "2024-02-01T17:25:26.204553Z"
    }
   },
   "outputs": [
    {
     "data": {
      "image/png": "[encoded data removed]",
      "text/latex": [
       "$\\displaystyle \\left[\\begin{matrix}a_{11} & a_{12} & a_{13}\\\\a_{21} & a_{22} & a_{23}\\\\a_{31} & a_{32} & a_{33}\\end{matrix}\\right]$"
      ],
      "text/plain": [
       "⎡a₁₁  a₁₂  a₁₃⎤\n",
       "⎢             ⎥\n",
       "⎢a₂₁  a₂₂  a₂₃⎥\n",
       "⎢             ⎥\n",
       "⎣a₃₁  a₃₂  a₃₃⎦"
      ]
     },
     "execution_count": 17,
     "metadata": {},
     "output_type": "execute_result"
    }
   ],
   "source": [
    "T = gr.transferMs()            # form a symbolic transformation matrix\n",
    "T                                                          # print out"
   ]
  },
  {
   "cell_type": "code",
   "execution_count": 34,
   "metadata": {
    "ExecuteTime": {
     "end_time": "2024-02-01T17:32:16.469104Z",
     "start_time": "2024-02-01T17:32:15.776772Z"
    }
   },
   "outputs": [
    {
     "data": {
      "text/latex": [
       "$\\displaystyle \\left[\\begin{matrix}ε_{11} & ε_{12} & ε_{13}\\\\ε_{12} & ε_{22} & ε_{23}\\\\ε_{13} & ε_{23} & ε_{33}\\end{matrix}\\right]$"
      ],
      "text/plain": [
       "⎡ε₁₁  ε₁₂  ε₁₃⎤\n",
       "⎢             ⎥\n",
       "⎢ε₁₂  ε₂₂  ε₂₃⎥\n",
       "⎢             ⎥\n",
       "⎣ε₁₃  ε₂₃  ε₃₃⎦"
      ]
     },
     "execution_count": 34,
     "metadata": {},
     "output_type": "execute_result"
    }
   ],
   "source": [
    "E = Matrix([[\"\\u03B5_11\", \"\\u03B5_12\", \"\\u03B5_13\"],\n",
    "            [\"\\u03B5_12\", \"\\u03B5_22\", \"\\u03B5_23\"],\n",
    "            [\"\\u03B5_13\", \"\\u03B5_23\", \"\\u03B5_33\"]])\n",
    "E                                  # a strain tensor"
   ]
  },
  {
   "cell_type": "code",
   "execution_count": 35,
   "metadata": {
    "ExecuteTime": {
     "end_time": "2024-02-01T17:32:21.535450Z",
     "start_time": "2024-02-01T17:32:20.827538Z"
    }
   },
   "outputs": [
    {
     "data": {
      "text/latex": [
       "$\\displaystyle \\left[\\begin{matrix}a_{11} \\left(a_{11} ε_{11} + a_{12} ε_{12} + a_{13} ε_{13}\\right) + a_{12} \\left(a_{11} ε_{12} + a_{12} ε_{22} + a_{13} ε_{23}\\right) + a_{13} \\left(a_{11} ε_{13} + a_{12} ε_{23} + a_{13} ε_{33}\\right)\\\\a_{11} \\left(a_{21} ε_{11} + a_{22} ε_{12} + a_{23} ε_{13}\\right) + a_{12} \\left(a_{21} ε_{12} + a_{22} ε_{22} + a_{23} ε_{23}\\right) + a_{13} \\left(a_{21} ε_{13} + a_{22} ε_{23} + a_{23} ε_{33}\\right)\\\\a_{11} \\left(a_{31} ε_{11} + a_{32} ε_{12} + a_{33} ε_{13}\\right) + a_{12} \\left(a_{31} ε_{12} + a_{32} ε_{22} + a_{33} ε_{23}\\right) + a_{13} \\left(a_{31} ε_{13} + a_{32} ε_{23} + a_{33} ε_{33}\\right)\\end{matrix}\\right]$"
      ],
      "text/plain": [
       "⎡a₁₁⋅(a₁₁⋅ε₁₁ + a₁₂⋅ε₁₂ + a₁₃⋅ε₁₃) + a₁₂⋅(a₁₁⋅ε₁₂ + a₁₂⋅ε₂₂ + a₁₃⋅ε₂₃) + a₁₃⋅(\n",
       "⎢                                                                             \n",
       "⎢a₁₁⋅(a₂₁⋅ε₁₁ + a₂₂⋅ε₁₂ + a₂₃⋅ε₁₃) + a₁₂⋅(a₂₁⋅ε₁₂ + a₂₂⋅ε₂₂ + a₂₃⋅ε₂₃) + a₁₃⋅(\n",
       "⎢                                                                             \n",
       "⎣a₁₁⋅(a₃₁⋅ε₁₁ + a₃₂⋅ε₁₂ + a₃₃⋅ε₁₃) + a₁₂⋅(a₃₁⋅ε₁₂ + a₃₂⋅ε₂₂ + a₃₃⋅ε₂₃) + a₁₃⋅(\n",
       "\n",
       "a₁₁⋅ε₁₃ + a₁₂⋅ε₂₃ + a₁₃⋅ε₃₃)⎤\n",
       "                            ⎥\n",
       "a₂₁⋅ε₁₃ + a₂₂⋅ε₂₃ + a₂₃⋅ε₃₃)⎥\n",
       "                            ⎥\n",
       "a₃₁⋅ε₁₃ + a₃₂⋅ε₂₃ + a₃₃⋅ε₃₃)⎦"
      ]
     },
     "execution_count": 35,
     "metadata": {},
     "output_type": "execute_result"
    }
   ],
   "source": [
    "Ep = T@E@T.T     # E: Strain tensor \n",
    "Ep[:,0]          # print out the first column "
   ]
  },
  {
   "cell_type": "markdown",
   "metadata": {
    "ExecuteTime": {
     "end_time": "2022-09-16T22:17:35.497313Z",
     "start_time": "2022-09-16T22:17:35.484351Z"
    }
   },
   "source": [
    "The computation can be done using the same function Tensor2_transfer() defined earlier. "
   ]
  },
  {
   "cell_type": "code",
   "execution_count": 36,
   "metadata": {
    "ExecuteTime": {
     "end_time": "2024-02-01T17:32:25.132292Z",
     "start_time": "2024-02-01T17:32:24.428791Z"
    }
   },
   "outputs": [
    {
     "name": "stdout",
     "output_type": "stream",
     "text": [
      "Transformed strain (first column only):\n"
     ]
    },
    {
     "data": {
      "text/latex": [
       "$\\displaystyle \\left[\\begin{matrix}a_{11} \\left(a_{11} ε_{11} + a_{12} ε_{12} + a_{13} ε_{13}\\right) + a_{12} \\left(a_{11} ε_{12} + a_{12} ε_{22} + a_{13} ε_{23}\\right) + a_{13} \\left(a_{11} ε_{13} + a_{12} ε_{23} + a_{13} ε_{33}\\right)\\\\a_{11} \\left(a_{21} ε_{11} + a_{22} ε_{12} + a_{23} ε_{13}\\right) + a_{12} \\left(a_{21} ε_{12} + a_{22} ε_{22} + a_{23} ε_{23}\\right) + a_{13} \\left(a_{21} ε_{13} + a_{22} ε_{23} + a_{23} ε_{33}\\right)\\\\a_{11} \\left(a_{31} ε_{11} + a_{32} ε_{12} + a_{33} ε_{13}\\right) + a_{12} \\left(a_{31} ε_{12} + a_{32} ε_{22} + a_{33} ε_{23}\\right) + a_{13} \\left(a_{31} ε_{13} + a_{32} ε_{23} + a_{33} ε_{33}\\right)\\end{matrix}\\right]$"
      ],
      "text/plain": [
       "⎡a₁₁⋅(a₁₁⋅ε₁₁ + a₁₂⋅ε₁₂ + a₁₃⋅ε₁₃) + a₁₂⋅(a₁₁⋅ε₁₂ + a₁₂⋅ε₂₂ + a₁₃⋅ε₂₃) + a₁₃⋅(\n",
       "⎢                                                                             \n",
       "⎢a₁₁⋅(a₂₁⋅ε₁₁ + a₂₂⋅ε₁₂ + a₂₃⋅ε₁₃) + a₁₂⋅(a₂₁⋅ε₁₂ + a₂₂⋅ε₂₂ + a₂₃⋅ε₂₃) + a₁₃⋅(\n",
       "⎢                                                                             \n",
       "⎣a₁₁⋅(a₃₁⋅ε₁₁ + a₃₂⋅ε₁₂ + a₃₃⋅ε₁₃) + a₁₂⋅(a₃₁⋅ε₁₂ + a₃₂⋅ε₂₂ + a₃₃⋅ε₂₃) + a₁₃⋅(\n",
       "\n",
       "a₁₁⋅ε₁₃ + a₁₂⋅ε₂₃ + a₁₃⋅ε₃₃)⎤\n",
       "                            ⎥\n",
       "a₂₁⋅ε₁₃ + a₂₂⋅ε₂₃ + a₂₃⋅ε₃₃)⎥\n",
       "                            ⎥\n",
       "a₃₁⋅ε₁₃ + a₃₂⋅ε₂₃ + a₃₃⋅ε₃₃)⎦"
      ]
     },
     "execution_count": 36,
     "metadata": {},
     "output_type": "execute_result"
    }
   ],
   "source": [
    "ES = gr.Tensor2_transfer(T,E)  # use the same function used for stress\n",
    "ES = Matrix(ES)\n",
    "print(f\"Transformed strain (first column only):\")\n",
    "ES[:,0]   #Ep[:,1] # Ep[:,12]"
   ]
  },
  {
   "cell_type": "markdown",
   "metadata": {},
   "source": [
    "### Principle strains\n",
    "\n",
    "Similar to stress states, for a given strain state, one can find a set of principal strains, by rotating the coordinates to a particular angle, where all the shear strain components vanishes. Similar to the stress tensor, obtaining such a coordinate direction and the principal strains can be casted to an eigenvalue problem, which can be written in the exact form by replace the stress tensor with strain tensor. \n",
    "\n",
    "\\begin{equation}\n",
    "\\boxed{ [\\mathbf{ε}-\\varepsilon \\mathbf{I}]\\mathbf{n}=\\mathbf{0} }\n",
    "\\end{equation}\n",
    "\n",
    "All the formulations and theory for the strain tensor is the same as that for the stress tensor."
   ]
  },
  {
   "cell_type": "markdown",
   "metadata": {},
   "source": [
    "### Strain invariants\n",
    "\n",
    "Similar to stress tensor, the strain tensor has also nine strain components. Thus, it can also form three strain invariants that do not change with the coordinates used. The invariant property is essentially the feature of any $3\\times 3$ matrix, including the stress and strain tensor matrix.\n",
    "\n",
    "These three strain invariants are defined as follows, based on nine strain components or these three principal strains. \n",
    "\n",
    "First, the trace of the strain tensor gives the first strain invariant: \n",
    "\n",
    "\\begin{equation} \\label{eqeI1}\n",
    "\\bar{I}_1=\\varepsilon_{11}+\\varepsilon_{22}+\\varepsilon_{33} = \\varepsilon_{1}+\\varepsilon_{2}+\\varepsilon_{3}\n",
    "\\end{equation}\n",
    "\n",
    "Second, the sum of the three minor determinants of the strain tensor gives the 2nd strain invariant: \n",
    "\n",
    "\\begin{equation} \\label{eqeI2}\n",
    "\\begin{split}\n",
    "\\bar{I}_2 &= \\begin{vmatrix} \\varepsilon_{11} & \\varepsilon_{12} \\\\ \\varepsilon_{12} & \\varepsilon_{22} \\end{vmatrix} \n",
    "   + \\begin{vmatrix} \\varepsilon_{11} & \\varepsilon_{13} \\\\ \\varepsilon_{13} & \\varepsilon_{33} \\end{vmatrix} \n",
    "   + \\begin{vmatrix} \\varepsilon_{22} & \\varepsilon_{23} \\\\ \\varepsilon_{23} & \\varepsilon_{33} \\end{vmatrix} \\\\ & = \n",
    "   \\varepsilon_{11}\\varepsilon_{22}+ \\varepsilon_{11}\\varepsilon_{33}+ \\varepsilon_{22}\\varepsilon_{33}-\\varepsilon_{12}^2-\\varepsilon_{13}^2-\\varepsilon_{23}^2 \\\\ & = \n",
    "   \\varepsilon_{1}\\varepsilon_{2}+ \\varepsilon_{1}\\varepsilon_{3}+ \\varepsilon_{2}\\varepsilon_{3}\n",
    "\\end{split}\n",
    "\\end{equation}\n",
    "\n",
    "Third, the determinant of the strain tensor gives the 3nd strain invariant: \n",
    "\n",
    "\\begin{equation} \\label{eqeI3}\n",
    "\\bar{I}_3= \\begin{vmatrix} \\varepsilon_{11} & \\varepsilon_{12} & \\varepsilon_{13} \\\\\n",
    "                     \\varepsilon_{12} & \\varepsilon_{22} & \\varepsilon_{23} \\\\\n",
    "                     \\varepsilon_{12} & \\varepsilon_{23} & \\varepsilon_{33} \\end{vmatrix} = \\varepsilon_{1}\\varepsilon_{2}\\varepsilon_{3}\n",
    "\\end{equation}\n",
    "\n",
    "For 2D cases, say in the $x-y$ plane, we shall have two strain invariants: \n",
    "\n",
    "\\begin{equation} \\label{eq2dI1}\n",
    "\\bar{I}_1=\\varepsilon_{11}+\\varepsilon_{22} = \\varepsilon_{1}+\\varepsilon_{2} \n",
    "\\end{equation}\n",
    "and\n",
    "\\begin{equation} \\label{eq2dI2}\n",
    "\\bar{I}_2= \\begin{vmatrix} \\varepsilon_{11} & \\varepsilon_{12} \\\\ \\varepsilon_{12} & \\varepsilon_{22} \\end{vmatrix} = \\varepsilon_{11} \\varepsilon_{22} - \\varepsilon^2_{12}  = \\varepsilon_{1} \\varepsilon_{2} \n",
    "\\end{equation}"
   ]
  },
  {
   "cell_type": "markdown",
   "metadata": {},
   "source": [
    "Let us look at a specific example. \n",
    "\n",
    "### Example: Strains components after a coordinate rotation\n",
    "\n",
    "Consider the same matrix used earlier. "
   ]
  },
  {
   "cell_type": "code",
   "execution_count": 42,
   "metadata": {
    "ExecuteTime": {
     "end_time": "2024-02-01T17:34:15.211619Z",
     "start_time": "2024-02-01T17:34:13.879990Z"
    }
   },
   "outputs": [
    {
     "name": "stdout",
     "output_type": "stream",
     "text": [
      "Strain tensor values (e-3):\n"
     ]
    },
    {
     "data": {
      "image/png": "[encoded data removed]",
      "text/latex": [
       "$\\displaystyle \\left[\\begin{matrix}2.667 & 2.667 & -0.3333\\\\2.667 & 2.0 & -1.5\\\\-0.3333 & -1.5 & -2.0\\end{matrix}\\right]$"
      ],
      "text/plain": [
       "⎡ 2.667   2.667  -0.3333⎤\n",
       "⎢                       ⎥\n",
       "⎢ 2.667    2.0    -1.5  ⎥\n",
       "⎢                       ⎥\n",
       "⎣-0.3333  -1.5    -2.0  ⎦"
      ]
     },
     "execution_count": 42,
     "metadata": {},
     "output_type": "execute_result"
    }
   ],
   "source": [
    "Ev=Matrix([[2.667,2.667,-0.3333],[2.667,2.0,-1.5],[-0.3333,-1.5,-2.0]])\n",
    "printM(Ev, 'Strain tensor values (e-3):', n_dgt=4)"
   ]
  },
  {
   "cell_type": "markdown",
   "metadata": {},
   "source": [
    "Let us rotation the coordinate by 60 degrees about the $z$ axis. The transformation matrix becomes:  "
   ]
  },
  {
   "cell_type": "code",
   "execution_count": 43,
   "metadata": {
    "ExecuteTime": {
     "end_time": "2024-02-01T17:34:26.395898Z",
     "start_time": "2024-02-01T17:34:26.379741Z"
    }
   },
   "outputs": [
    {
     "name": "stdout",
     "output_type": "stream",
     "text": [
      "Transformation tensor 60.00°, w.r.t. z:\n",
      "[[ 0.5    0.866  0.   ]\n",
      " [-0.866  0.5    0.   ]\n",
      " [ 0.     0.     1.   ]]\n"
     ]
    }
   ],
   "source": [
    "about, theta = 'z', 60.                    # rotation angle and axis\n",
    "Tz, about = gr.transferM(theta, about = about)\n",
    "print(f'Transformation tensor {theta:3.2f}°, w.r.t. {about}:\\n{Tz}')"
   ]
  },
  {
   "cell_type": "code",
   "execution_count": 44,
   "metadata": {
    "ExecuteTime": {
     "end_time": "2024-02-01T17:34:31.762880Z",
     "start_time": "2024-02-01T17:34:30.988544Z"
    }
   },
   "outputs": [
    {
     "name": "stdout",
     "output_type": "stream",
     "text": [
      "Stress formulas in the new coordinates\n"
     ]
    },
    {
     "data": {
      "text/latex": [
       "$\\displaystyle \\left[\\begin{matrix}0.25 ε_{11} + 0.866 ε_{12} + 0.75 ε_{22} & - 0.433 ε_{11} - 0.5 ε_{12} + 0.433 ε_{22} & 0.5 ε_{13} + 0.866 ε_{23}\\\\- 0.433 ε_{11} - 0.5 ε_{12} + 0.433 ε_{22} & 0.75 ε_{11} - 0.866 ε_{12} + 0.25 ε_{22} & - 0.866 ε_{13} + 0.5 ε_{23}\\\\0.5 ε_{13} + 0.866 ε_{23} & - 0.866 ε_{13} + 0.5 ε_{23} & 1.0 ε_{33}\\end{matrix}\\right]$"
      ],
      "text/plain": [
       "⎡0.25⋅ε₁₁ + 0.866⋅ε₁₂ + 0.75⋅ε₂₂   -0.433⋅ε₁₁ - 0.5⋅ε₁₂ + 0.433⋅ε₂₂  0.5⋅ε₁₃ +\n",
       "⎢                                                                             \n",
       "⎢-0.433⋅ε₁₁ - 0.5⋅ε₁₂ + 0.433⋅ε₂₂  0.75⋅ε₁₁ - 0.866⋅ε₁₂ + 0.25⋅ε₂₂   -0.866⋅ε₁\n",
       "⎢                                                                             \n",
       "⎣      0.5⋅ε₁₃ + 0.866⋅ε₂₃               -0.866⋅ε₁₃ + 0.5⋅ε₂₃              1.0\n",
       "\n",
       " 0.866⋅ε₂₃ ⎤\n",
       "           ⎥\n",
       "₃ + 0.5⋅ε₂₃⎥\n",
       "           ⎥\n",
       "⋅ε₃₃       ⎦"
      ]
     },
     "execution_count": 44,
     "metadata": {},
     "output_type": "execute_result"
    }
   ],
   "source": [
    "TES = ES.subs(list(zip(T, Matrix(Tz))))\n",
    "gr.printM(TES, 'Stress formulas in the new coordinates',n_dgt=4)"
   ]
  },
  {
   "cell_type": "code",
   "execution_count": 45,
   "metadata": {
    "ExecuteTime": {
     "end_time": "2024-02-01T17:34:37.724833Z",
     "start_time": "2024-02-01T17:34:36.380518Z"
    }
   },
   "outputs": [
    {
     "name": "stdout",
     "output_type": "stream",
     "text": [
      "Strain values in the new coordinates\n"
     ]
    },
    {
     "data": {
      "image/png": "[encoded data removed]",
      "text/latex": [
       "$\\displaystyle \\left[\\begin{matrix}4.476 & -1.622 & -1.466\\\\-1.622 & 0.1906 & -0.4614\\\\-1.466 & -0.4614 & -2.0\\end{matrix}\\right]$"
      ],
      "text/plain": [
       "⎡4.476   -1.622   -1.466 ⎤\n",
       "⎢                        ⎥\n",
       "⎢-1.622  0.1906   -0.4614⎥\n",
       "⎢                        ⎥\n",
       "⎣-1.466  -0.4614   -2.0  ⎦"
      ]
     },
     "execution_count": 45,
     "metadata": {},
     "output_type": "execute_result"
    }
   ],
   "source": [
    "TTSv=TES.subs(list(zip(E,Ev)))\n",
    "gr.printM(TTSv, 'Strain values in the new coordinates', n_dgt=4) "
   ]
  },
  {
   "cell_type": "markdown",
   "metadata": {},
   "source": [
    "These are the strain components after 60 degree of transformation. Note that to compute the engineering shear strains, we simply used \n",
    "\n",
    "\\begin{equation} \\label{eqEngshear}\n",
    "\\gamma_{ij} = 2\\varepsilon_{ij} \\;\\;\\; i\\ne j\n",
    "\\end{equation}"
   ]
  },
  {
   "cell_type": "markdown",
   "metadata": {},
   "source": [
    " ### Example: computation of various strains\n",
    "    \n",
    "This example computes \n",
    "\n",
    "+ principal strains, strain invariants, mean strain, mean strain tensor, and deviatoric strain tensor\n",
    "\n",
    "for a given strain state with 9 strain components. The definitions and formulas are essentially the same as those for stresses discussed in the previous chapter. Thus, all these are done using the functions made earlier for computing various stresses. "
   ]
  },
  {
   "cell_type": "code",
   "execution_count": 46,
   "metadata": {
    "ExecuteTime": {
     "end_time": "2024-02-01T17:35:27.675213Z",
     "start_time": "2024-02-01T17:35:27.581485Z"
    }
   },
   "outputs": [
    {
     "name": "stdout",
     "output_type": "stream",
     "text": [
      "strain tensor (e-3) :\n",
      "[[-0.832   0.      0.    ]\n",
      " [ 0.     -0.832   0.8725]\n",
      " [ 0.      0.8725  1.667 ]]\n",
      "Principal straines (Eigenvalues) (e-3) = [ 1.9415 -0.832  -1.1065]\n",
      "Eigenvectors:\n",
      "[[ 0.      1.      0.    ]\n",
      " [ 0.3001  0.      0.9539]\n",
      " [ 0.9539  0.     -0.3001]]\n",
      "Orthogonal:\n",
      "[[1. 0. 0.]\n",
      " [0. 1. 0.]\n",
      " [0. 0. 1.]]\n",
      "The first  strain invariant I1=  0.00300e-3\n",
      "The second strain invariant I2= -2.84292e-6\n",
      "The third  strain invariant I3=  1.78730e-9\n",
      "The mean strain =   0.00100\n",
      "The mean strain tensor:\n",
      "[[0.001 0.    0.   ]\n",
      " [0.    0.001 0.   ]\n",
      " [0.    0.    0.001]]\n",
      "The deviatoric strain tensor:\n",
      "[[-0.833   0.      0.    ]\n",
      " [ 0.     -0.833   0.8725]\n",
      " [ 0.      0.8725  1.666 ]]\n"
     ]
    }
   ],
   "source": [
    "# Ref: Advanced Mechanics of Materials, by Boresi and Schmidt\n",
    "# Example 2.9 State of Strain in a Torsion‐Tension Member\n",
    "\n",
    "import numpy as np\n",
    "np.set_printoptions(precision=4,suppress=True)\n",
    "\n",
    "#Given strain matrix in e-3 unit\n",
    "#Ev=np.array([[2.67, 1.335,.335],[1.335, 2.,-1.5],[.335,-1.5,-2.]]) #e-3\n",
    "Ev = np.array([[-.832, 0.,   0.], \n",
    "               [0., -.832,.8725], \n",
    "               [0., .8725,1.667]]) #e-3\n",
    "print(f'strain tensor (e-3) :\\n{Ev}')\n",
    "\n",
    "eigenValues, eigenVectors = gr.M_eigen(Ev)\n",
    "print('Principal straines (Eigenvalues) (e-3) =',eigenValues)\n",
    "print(f'Eigenvectors:\\n{eigenVectors}')\n",
    "print(f'Orthogonal:\\n{eigenVectors.dot(eigenVectors.T)}')\n",
    "\n",
    "I1, I2, I3 = gr.M_invariant(eigenValues)\n",
    "print(f'The first  strain invariant I1={I1:9.5f}e-3')\n",
    "print(f'The second strain invariant I2={I2:9.5f}e-6')\n",
    "print(f'The third  strain invariant I3={I3:9.5f}e-9')\n",
    "\n",
    "meanstrain, meanMatrix, deviatorM = gr.meanDeviator(Ev,eigenValues)\n",
    "print(f'The mean strain = {meanstrain:9.5f}')\n",
    "print(f'The mean strain tensor:\\n{meanMatrix}')\n",
    "print(f'The deviatoric strain tensor:\\n{deviatorM}')"
   ]
  },
  {
   "cell_type": "markdown",
   "metadata": {},
   "source": [
    "### Compatibility equations"
   ]
  },
  {
   "cell_type": "markdown",
   "metadata": {},
   "source": [
    "#### 2D problems\n",
    "\n",
    "For 2D problems, there are two displacement components $u$ and $v$, but we have three equations for strain-displacement relations. Using Eq.(\\ref{eqepsl}), these can be written as,\n",
    "\n",
    "\\begin{equation} \\label{eqeps2d}\n",
    "\\varepsilon_{xx}= \\frac{\\partial u}{\\partial x} \\\\\n",
    "\\varepsilon_{yy}= \\frac{\\partial v}{\\partial y} \\\\\n",
    "\\varepsilon_{xy}=\\frac{1}{2}\\left(\\frac{\\partial u}{\\partial y}+\\frac{\\partial v}{\\partial x} \\right) \n",
    "\\end{equation} \n",
    "\n",
    "Therefore, these two displacement components cannot in general be determined, if the three strain components are chosen arbitrarily. These strain components must be somehow related. Such relation is called **compatibility** equation. "
   ]
  },
  {
   "cell_type": "markdown",
   "metadata": {},
   "source": [
    "To obtain such a relation, we perform twice partial differentiation to the $\\varepsilon_{xx}$ with respect to $y$, twice partial differentiation to the $\\varepsilon_{yy}$ with respect to $x$, and twice partial differentiation to $\\varepsilon_{xy}$ with respect to $x$ and $y$, which gives,\n",
    "\n",
    "\\begin{equation} \\label{eqeps2d2}\n",
    "\\frac{∂^2𝜀_{xx}}{∂y^2} = \\frac{∂^3 u}{∂x ∂y^2} \\\\\n",
    "\\frac{∂^2𝜀_{yy}}{∂x^2} = \\frac{∂^3 v}{∂y ∂x^2} \\\\\n",
    "\\frac{∂^2𝜀_{xy}}{∂x∂y} = \\frac{1}{2}\\left(\\frac{∂^3 u}{∂x ∂y^2}+\\frac{∂^3 v}{∂y ∂x^2} \\right) \n",
    "\\end{equation} \n",
    "\n",
    "Substituting the first two expressions to the 3rd expression gives \n",
    "\n",
    "\\begin{equation} \\label{eqeps2d3}\n",
    "\\boxed{ \\frac{∂^2𝜀_{xx}}{∂y^2}+\\frac{∂^2𝜀_{yy}}{∂x^2}=2\\frac{∂^2𝜀_{xy}}{∂x∂y}   }\n",
    "\\end{equation} \n",
    "\n",
    "This is the compatibility equation for 2D problems. "
   ]
  },
  {
   "cell_type": "markdown",
   "metadata": {},
   "source": [
    "#### 3D problems *\n",
    "\n",
    "For 3D problems, there are three displacement components ($u$, $v$, $w$), but we have six equations for strain-displacement relations as given in Eq.(\\ref{eqepsl}). Therefore, these three displacement components must also be compatible. These compatibility equations are found as \\cite{boresi1985advanced}. \n",
    "\n",
    "\\begin{equation} \\label{eqeps3d}\n",
    "\\frac{∂^2𝜀_{xx}}{∂y^2}+\\frac{∂^2𝜀_{yy}}{∂x^2}=2\\frac{∂^2𝜀_{xy}}{∂x∂y} \\\\ \n",
    "\\frac{∂^2𝜀_{xx}}{∂z^2}+\\frac{∂^2𝜀_{zz}}{∂x^2}=2\\frac{∂^2𝜀_{xz}}{∂x∂z} \\\\ \n",
    "\\frac{∂^2𝜀_{yy}}{∂z^2}+\\frac{∂^2𝜀_{zz}}{∂y^2}=2\\frac{∂^2𝜀_{yz}}{∂y∂z} \\\\ \n",
    "\\frac{∂^2𝜀_{xy}}{∂z^2}+\\frac{∂^2𝜀_{zz}}{∂x∂y}=\\frac{∂^2𝜀_{yz}}{∂x∂z}+ \\frac{∂^2𝜀_{xz}}{∂y∂z} \\\\ \n",
    "\\frac{∂^2𝜀_{xz}}{∂y^2}+\\frac{∂^2𝜀_{yy}}{∂x∂z}=\\frac{∂^2𝜀_{xy}}{∂y∂z}+ \\frac{∂^2𝜀_{yz}}{∂x∂y} \\\\ \n",
    "\\frac{∂^2𝜀_{yz}}{∂x^2}+\\frac{∂^2𝜀_{xx}}{∂y∂z}=\\frac{∂^2𝜀_{xz}}{∂x∂y}+ \\frac{∂^2𝜀_{xy}}{∂x∂z}  \n",
    "\\end{equation} \n"
   ]
  },
  {
   "cell_type": "markdown",
   "metadata": {},
   "source": [
    "These compatibility equations can also be written in terms of stresses, using the constitutive equations. These compatibility equations need to be satisfied when solving a solid mechanics problem, using the so-called stress methods. "
   ]
  },
  {
   "cell_type": "markdown",
   "metadata": {},
   "source": [
    "### Remarks\n",
    "\n",
    "This chapter discusses first how the strain tensor (order 2) are resulted from the gradient of displacement tensor (order 1) all defined in an orthogonal coordinate system.The derivation is done in two ways: a mathematical one that used the gradient of the function of the displacement tensor, and mechanics one that uses the kinematics of motion. The status of strain and its change are also discussed, when the coordinate system transforms (rotates). Force/stresses are not involved in the entire derivation. \n",
    "\n",
    "1. The value of the strain tensor depends on both the gradient of the displacement tensor, and the orientation of the fiber for which the strain is measured. This is the root reason why a strain tensor has two indexes and hence being a 2nd order tensor. \n",
    "\n",
    "2. In all the formulas derived for the strain tensor, orthogonal projections are strictly followed. \n",
    "\n",
    "3. When coordinate rotates, the presentation of the strain tensor changes. It uses twice the transformation matrix, because it is a second order tensor. \n",
    "\n",
    "4. There are three strain invariants, which do not change with the coordinate transformation, which can be used in establishing some failure criteria. \n",
    "\n",
    "5. At the principal axises, the shear strain components vanishes, and only the normal strains present, which are called principal strains. These are invariant. \n",
    "\n",
    "6. Principal strains and the axises can also be found using the eigenvalue solver provided in this chapter. \n",
    "\n",
    "7. Mohr circle can also be used as a geometric representation of strains in 2D and 3D, but less often compared to stresses.\n",
    "\n",
    "8. Because the number of strain components is more than the number of displacement components, compatibility equations are derived, which need to be satisfied to ensure the deformation in solid is compatible (not gaps and overlaps)."
   ]
  },
  {
   "cell_type": "markdown",
   "metadata": {},
   "source": [
    "# References\n",
    "\n",
    "[<a id=\"cit-boresi1985advanced\" href=\"#call-boresi1985advanced\">1</a>] Arthur Peter Boresi, Richard Joseph Schmidt and Omar M Sidebottom, ``_Advanced mechanics of materials_'',  John Wiley \\& Sons, New York, 1985.\n",
    "\n",
    "[<a id=\"cit-liu2013finite\" href=\"#call-liu2013finite\">2</a>] GR Liu and Siu Sin Quek, ``_The finite element method: a practical course_'',  Butterworth-Heinemann, 2013.\n",
    "\n",
    "[<a id=\"cit-liusmoothed\" href=\"#call-liusmoothed\">3</a>] G.R. Liu and TT Nguyen, ``_Smoothed finite element methods_'',  Taylor and Francis Group, NewYork, 2010.\n",
    "\n"
   ]
  }
 ],
 "metadata": {
  "kernelspec": {
   "display_name": "Python 3 (ipykernel)",
   "language": "python",
   "name": "python3"
  },
  "language_info": {
   "codemirror_mode": {
    "name": "ipython",
    "version": 3
   },
   "file_extension": ".py",
   "mimetype": "text/x-python",
   "name": "python",
   "nbconvert_exporter": "python",
   "pygments_lexer": "ipython3",
   "version": "3.9.16"
  },
  "latex_envs": {
   "LaTeX_envs_menu_present": true,
   "autoclose": true,
   "autocomplete": true,
   "bibliofile": "../biblio.bib",
   "cite_by": "number",
   "current_citInitial": 1,
   "eqLabelWithNumbers": true,
   "eqNumInitial": 1,
   "hotkeys": {
    "equation": "Ctrl-E",
    "itemize": "Ctrl-I"
   },
   "labels_anchors": true,
   "latex_user_defs": false,
   "report_style_numbering": false,
   "user_envs_cfg": false
  },
  "toc": {
   "base_numbering": "4",
   "nav_menu": {},
   "number_sections": true,
   "sideBar": true,
   "skip_h1_title": true,
   "title_cell": "Table of Contents",
   "title_sidebar": "Contents",
   "toc_cell": true,
   "toc_position": {
    "height": "calc(100% - 180px)",
    "left": "10px",
    "top": "150px",
    "width": "165px"
   },
   "toc_section_display": true,
   "toc_window_display": true
  },
  "varInspector": {
   "cols": {
    "lenName": 16,
    "lenType": 16,
    "lenVar": 40
   },
   "kernels_config": {
    "python": {
     "delete_cmd_postfix": "",
     "delete_cmd_prefix": "del ",
     "library": "var_list.py",
     "varRefreshCmd": "print(var_dic_list())"
    },
    "r": {
     "delete_cmd_postfix": ") ",
     "delete_cmd_prefix": "rm(",
     "library": "var_list.r",
     "varRefreshCmd": "cat(var_dic_list()) "
    }
   },
   "types_to_exclude": [
    "module",
    "function",
    "builtin_function_or_method",
    "instance",
    "_Feature"
   ],
   "window_display": false
  }
 },
 "nbformat": 4,
 "nbformat_minor": 4
}
