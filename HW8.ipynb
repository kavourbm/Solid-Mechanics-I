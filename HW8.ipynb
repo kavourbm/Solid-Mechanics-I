{
 "cells": [
  {
   "cell_type": "markdown",
   "id": "cf99fb8c",
   "metadata": {},
   "source": [
    "# Homeworks for SM-I course\n",
    "\n",
    "Important: \n",
    "\n",
    "1). Please download the latest grcodes, images, and related chapters before working on the homework. \n",
    "\n",
    "2). Both pdf files and the source codes must be submitted, or the work will not be marked.  "
   ]
  },
  {
   "cell_type": "markdown",
   "id": "c90b4706",
   "metadata": {},
   "source": [
    "## Homework 8: \n",
    "\n",
    "**Question:** Understanding failure criteria"
   ]
  },
  {
   "cell_type": "markdown",
   "id": "b8d934f5",
   "metadata": {},
   "source": [
    "Consider a hollow cylindrical shaft with an outer diameter of $ d_{O}=100 $ mm, and  an inner diameter of $ d_{I}=80 $ mm. It is loaded by a torque $ \\mathbf{T}=28 $ kNm, a bending moment $ \\mathbf{M}=18 $ kNm, an axial force $ \\mathbf{F}=100 $ kN, and a pressure $ p=20 $ MPa on its outer surface. The directions of these loads are shown in the image below. The shaft is made of steel treated as linear elastic material before yielding. Its Young's modulus is $ E=180 GPa $, and Poisson's ratio is $ \\nu = 0.32 $. Assume the safety factor is $ S_f=2.8 $, and the material yield stress $ \\sigma_Y=720 MPa $. \n",
    "\n",
    "Determine whether or not the shaft will yield at point A, using\n",
    "\n",
    "1) The maximum principle stress criterion. \n",
    "\n",
    "2) The maximum shear stress criterion.\n",
    "\n",
    "3) The von Mises yield criterion. \n",
    "\n",
    "4) Repeat items 1)-3) for point B. \n",
    "\n",
    "<img src=\"images/shaftTMFp.png\" alt=\" \" width=\"450\"/><br>\n",
    "A hollow cylindrical shaft subjected to multiple loads."
   ]
  }
 ],
 "metadata": {
  "kernelspec": {
   "display_name": "Python 3 (ipykernel)",
   "language": "python",
   "name": "python3"
  },
  "language_info": {
   "codemirror_mode": {
    "name": "ipython",
    "version": 3
   },
   "file_extension": ".py",
   "mimetype": "text/x-python",
   "name": "python",
   "nbconvert_exporter": "python",
   "pygments_lexer": "ipython3",
   "version": "3.9.16"
  },
  "latex_envs": {
   "LaTeX_envs_menu_present": true,
   "autoclose": true,
   "autocomplete": true,
   "bibliofile": "biblio.bib",
   "cite_by": "apalike",
   "current_citInitial": 1,
   "eqLabelWithNumbers": true,
   "eqNumInitial": 1,
   "hotkeys": {
    "equation": "Ctrl-E",
    "itemize": "Ctrl-I"
   },
   "labels_anchors": false,
   "latex_user_defs": false,
   "report_style_numbering": true,
   "user_envs_cfg": false
  },
  "toc": {
   "base_numbering": "2",
   "nav_menu": {},
   "number_sections": true,
   "sideBar": true,
   "skip_h1_title": true,
   "title_cell": "Table of Contents",
   "title_sidebar": "Contents",
   "toc_cell": false,
   "toc_position": {
    "height": "calc(100% - 180px)",
    "left": "10px",
    "top": "150px",
    "width": "165.562px"
   },
   "toc_section_display": true,
   "toc_window_display": false
  },
  "varInspector": {
   "cols": {
    "lenName": 16,
    "lenType": 16,
    "lenVar": 40
   },
   "kernels_config": {
    "python": {
     "delete_cmd_postfix": "",
     "delete_cmd_prefix": "del ",
     "library": "var_list.py",
     "varRefreshCmd": "print(var_dic_list())"
    },
    "r": {
     "delete_cmd_postfix": ") ",
     "delete_cmd_prefix": "rm(",
     "library": "var_list.r",
     "varRefreshCmd": "cat(var_dic_list()) "
    }
   },
   "types_to_exclude": [
    "module",
    "function",
    "builtin_function_or_method",
    "instance",
    "_Feature"
   ],
   "window_display": false
  }
 },
 "nbformat": 4,
 "nbformat_minor": 5
}
