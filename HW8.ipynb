{
 "cells": [
  {
   "cell_type": "markdown",
   "id": "cf99fb8c",
   "metadata": {},
   "source": [
    "# Homeworks for SM-I course\n",
    "\n",
    "Important: \n",
    "\n",
    "1). Please download the latest grcodes, images, and related chapters before working on the homework. \n",
    "\n",
    "2). Both pdf files and the source codes must be submitted, or the work will not be marked.  "
   ]
  },
  {
   "cell_type": "markdown",
   "id": "c90b4706",
   "metadata": {},
   "source": [
    "## Homework 8: \n",
    "\n",
    "**Question:** Understanding failure criteria"
   ]
  },
  {
   "cell_type": "markdown",
   "id": "b8d934f5",
   "metadata": {},
   "source": [
    "Consider a hollow cylindrical shaft with an outer diameter of $ d_{O}=100 $ mm, and  an inner diameter of $ d_{I}=80 $ mm. It is loaded by a torque $ \\mathbf{T}=28 $ kNm, a bending moment $ \\mathbf{M}=18 $ kNm, an axial force $ \\mathbf{F}=100 $ kN, and a pressure $ p=20 $ MPa on its outer surface. The directions of these loads are shown in the image below. The shaft is made of steel treated as linear elastic material before yielding. Its Young's modulus is $ E=180 GPa $, and Poisson's ratio is $ \\nu = 0.32 $. Assume the safety factor is $ S_f=2.8 $, and the material yield stress $ \\sigma_Y=720 MPa $. \n",
    "\n",
    "Determine whether or not the shaft will yield at point A, using\n",
    "\n",
    "1) The maximum principle stress criterion. \n",
    "\n",
    "2) The maximum shear stress criterion.\n",
    "\n",
    "3) The von Mises yield criterion. \n",
    "\n",
    "4) Repeat items 1)-3) for point B. \n",
    "\n",
    "<img src=\"images/shaftTMFp.png\" alt=\" \" width=\"450\"/><br>\n",
    "A hollow cylindrical shaft subjected to multiple loads."
   ]
  },
  {
   "cell_type": "code",
   "execution_count": 11,
   "id": "fb6d1a85",
   "metadata": {},
   "outputs": [],
   "source": [
    "# Place curse in this cell, and press Ctrl+Enter to import dependences. \n",
    "import sys                         # for accessing the computer system\n",
    "sys.path.append('../grbin/')  # Change to the directory in your system \n",
    "\n",
    "from commonImports import *       # Import dependences from '../grbin/'\n",
    "import grcodes as gr                 # Import the module of the author\n",
    "#importlib.reload(gr)            # When grcodes is modified, reload it\n",
    "\n",
    "from continuum_mechanics import vector \n",
    "init_printing(use_unicode=True)      # For latex-like quality printing \n",
    "np.set_printoptions(precision=4,suppress=True, \n",
    "       formatter={'float': '{:0.4e}'.format})   # Digits in print-outs"
   ]
  },
  {
   "cell_type": "code",
   "execution_count": 12,
   "id": "0533c746",
   "metadata": {},
   "outputs": [],
   "source": [
    "def principalS(S):\n",
    "    '''Compute the principal stresses and their directions.\n",
    "    inputs: \n",
    "       S: given stress tensor, numpy array\n",
    "    return: \n",
    "       principal stresses (eigenValues), their direction cosines\n",
    "       (eigenVectors) ranked by its values. Right-hand-rule is enforced\n",
    "    '''\n",
    "    eigenValues, eigenVectors = lg.eig(S)  \n",
    "\n",
    "    #Sort in order\n",
    "    idx = eigenValues.argsort()[::-1]   \n",
    "    eigenValues = eigenValues[idx]\n",
    "    eigenVectors = eigenVectors[:,idx]\n",
    "    print('Pricipal stress (Eigenvalues):\\n',eigenValues,'\\n')\n",
    "    \n",
    "    # make the first element in the first vector positive (optional):\n",
    "    #eigenVectors[0,:] = eigenVectors[0,:]/np.sign(eigenVectors[0,0])\n",
    "\n",
    "    # Determine the sign for given eigenVector-1 and eigenVector-3\n",
    "    eigenVectors[:,2] = np.cross(eigenVectors[:,0], eigenVectors[:,1])\n",
    "\n",
    "    angle = np.arccos(eigenVectors[0,0])*180/np.pi       # in degree \n",
    "    print(f'Principal stress directions:\\n{eigenVectors}\\n')\n",
    "    print(f\"Possible angles (n1,x)={angle}∘ or {180-angle}∘\")\n",
    "    \n",
    "    return eigenValues, eigenVectors"
   ]
  },
  {
   "cell_type": "markdown",
   "id": "ad103269",
   "metadata": {},
   "source": [
    "Point A"
   ]
  },
  {
   "cell_type": "markdown",
   "id": "203b0377",
   "metadata": {},
   "source": [
    "1. "
   ]
  },
  {
   "cell_type": "code",
   "execution_count": 13,
   "id": "17066cca",
   "metadata": {},
   "outputs": [
    {
     "name": "stdout",
     "output_type": "stream",
     "text": [
      "Stress state:\n",
      "[[-1.7391e+08 1.3526e+08 0.0000e+00]\n",
      " [1.3526e+08 0.0000e+00 0.0000e+00]\n",
      " [0.0000e+00 0.0000e+00 5.6000e+07]]\n",
      "\n",
      "Pricipal stress (Eigenvalues):\n",
      " [7.3845e+07 5.6000e+07 -2.4775e+08] \n",
      "\n",
      "Principal stress directions:\n",
      "[[-4.7919e-01 0.0000e+00 -8.7771e-01]\n",
      " [-8.7771e-01 0.0000e+00 4.7919e-01]\n",
      " [0.0000e+00 1.0000e+00 0.0000e+00]]\n",
      "\n",
      "Possible angles (n1,x)=118.6323868639462∘ or 61.367613136053805∘\n"
     ]
    }
   ],
   "source": [
    "# External forces\n",
    "Torque = 28e3 # Nm\n",
    "Moment = 18e3 # Nm\n",
    "p = 20e6      # Pa, pressure on the surface\n",
    "SF = 2.8      # safety factor\n",
    "\n",
    "# Material property\n",
    "E = 180e9     # Pa, Young's modulus, not used in this example\n",
    "v = 0.32      # Poisson's ratio\n",
    "sY= 720e6     # Pa, Yield stress\n",
    "\n",
    "# Dimensions of the cylindrical shaft\n",
    "do = 0.1      # m, outer diameter\n",
    "dI = 0.08     # m, inner diameter\n",
    "\n",
    "# Compute structure/member properties\n",
    "I = (np.pi * (do**4 - dI**4))/64.0  # 2nd moment of circular area\n",
    "J = (np.pi * (do**4 - dI**4))/32.0  # 2nd polar moment of circular area\n",
    "\n",
    "# Compute the stresses\n",
    "s =-SF*Moment*((do/2)-(dI/2))/I   # stress by the moment at point A\n",
    "t = SF*Torque*((do/2)-(dI/2))/J   # stress by the Torque\n",
    "\n",
    "sxx=s; sxy=t; sxz=0; syy=0; syz=0; szz=SF*p\n",
    "\n",
    "Sij = np.array([[sxx, sxy, sxz],[sxy, syy, syz],[sxz, syz, szz]]) \n",
    "print(f'Stress state:\\n{Sij}\\n')\n",
    "\n",
    "eigens, eigenVectors = principalS(Sij)      # principal stresses"
   ]
  },
  {
   "cell_type": "code",
   "execution_count": 14,
   "id": "cb077fc9",
   "metadata": {},
   "outputs": [
    {
     "name": "stdout",
     "output_type": "stream",
     "text": [
      "The maximum principal strain is 2.89302e+08\n",
      "The material yield stress needs to be > 2.89302e+08\n",
      "The yield stress of the material = 7.20000e+08\n",
      "Is yield? False\n",
      "Actual safety factor = 6.968499875359853\n"
     ]
    }
   ],
   "source": [
    "# maximum principal strain criterion\n",
    "se1 = eigens[0]-v*eigens[1]-v*eigens[2]  # principal strains E ε1\n",
    "se2 = eigens[1]-v*eigens[0]-v*eigens[2]  # principal strains E ε2\n",
    "se3 = eigens[2]-v*eigens[0]-v*eigens[1]  # principal strains E ε3\n",
    "e_max =max(abs(np.array([se1, se2, se3]))) \n",
    "print(f'The maximum principal strain is {e_max:0.5e}')\n",
    "print(f'The material yield stress needs to be > {e_max:0.5e}')\n",
    "print(f'The yield stress of the material = {sY:0.5e}')\n",
    "print(f'Is yield? {e_max>sY}')\n",
    "print(f'Actual safety factor = {SF*sY/e_max}')"
   ]
  },
  {
   "cell_type": "markdown",
   "id": "0e48e88c",
   "metadata": {},
   "source": [
    "2. "
   ]
  },
  {
   "cell_type": "code",
   "execution_count": 15,
   "id": "4d41f944",
   "metadata": {},
   "outputs": [
    {
     "name": "stdout",
     "output_type": "stream",
     "text": [
      "The maximum shear stress is 1.60798e+08\n",
      "The material yield stress needs to be > 3.21597e+08\n",
      "The yield stress of the material = 7.20000e+08\n",
      "Is yield? False\n",
      "Actual safety factor = 6.268719881338143\n"
     ]
    }
   ],
   "source": [
    "# Maximum shear stress (Tresca) criterion\n",
    "Tau_max =0.5*(eigens[0]-eigens[2])\n",
    "print(f'The maximum shear stress is {Tau_max:0.5e}')\n",
    "print(f'The material yield stress needs to be > {(2*Tau_max):0.5e}')\n",
    "print(f'The yield stress of the material = {sY:0.5e}')\n",
    "print(f'Is yield? {(2*Tau_max)>sY}')\n",
    "print(f'Actual safety factor = {SF*sY/(2*Tau_max)}')"
   ]
  },
  {
   "cell_type": "markdown",
   "id": "69a20f5e",
   "metadata": {},
   "source": [
    "3. "
   ]
  },
  {
   "cell_type": "code",
   "execution_count": 16,
   "id": "a3117dd1",
   "metadata": {},
   "outputs": [
    {
     "name": "stdout",
     "output_type": "stream",
     "text": [
      "The von Mises stress is 3.13056e+08\n",
      "The material yield stress needs to be > 3.13056e+08\n",
      "The yield stress of the material = 7.20000e+08\n",
      "Is yield? False\n",
      "Actual safety factor = 6.43974760140724\n"
     ]
    }
   ],
   "source": [
    "# von Mises criterion\n",
    "svm = gr.von_Mises(eigens)\n",
    "print(f'The von Mises stress is {svm:0.5e}')\n",
    "print(f'The material yield stress needs to be > {svm:0.5e}')\n",
    "print(f'The yield stress of the material = {sY:0.5e}')\n",
    "print(f'Is yield? {svm>sY}')\n",
    "print(f'Actual safety factor = {SF*sY/svm}')"
   ]
  },
  {
   "cell_type": "markdown",
   "id": "d25fe97d",
   "metadata": {},
   "source": [
    "Point B"
   ]
  },
  {
   "cell_type": "markdown",
   "id": "db6d3cb2",
   "metadata": {},
   "source": [
    "1. "
   ]
  },
  {
   "cell_type": "code",
   "execution_count": 17,
   "id": "ec5fbc52",
   "metadata": {},
   "outputs": [
    {
     "name": "stdout",
     "output_type": "stream",
     "text": [
      "Stress state:\n",
      "[[-1.7391e+08 1.3526e+08 0.0000e+00]\n",
      " [1.3526e+08 0.0000e+00 0.0000e+00]\n",
      " [0.0000e+00 0.0000e+00 5.6000e+07]]\n",
      "\n",
      "Pricipal stress (Eigenvalues):\n",
      " [7.3845e+07 5.6000e+07 -2.4775e+08] \n",
      "\n",
      "Principal stress directions:\n",
      "[[-4.7919e-01 0.0000e+00 -8.7771e-01]\n",
      " [-8.7771e-01 0.0000e+00 4.7919e-01]\n",
      " [0.0000e+00 1.0000e+00 0.0000e+00]]\n",
      "\n",
      "Possible angles (n1,x)=118.6323868639462∘ or 61.367613136053805∘\n"
     ]
    }
   ],
   "source": [
    "# External forces\n",
    "Torque = 28e3 # Nm\n",
    "Moment = 18e3 # Nm\n",
    "p = 20e6      # Pa, pressure on the surface\n",
    "SF = 2.8      # safety factor\n",
    "\n",
    "# Material property\n",
    "E = 180e9     # Pa, Young's modulus, not used in this example\n",
    "v = 0.32      # Poisson's ratio\n",
    "sY= 720e6     # Pa, Yield stress\n",
    "\n",
    "# Dimensions of the cylindrical shaft\n",
    "do = 0.1      # m, outer diameter\n",
    "dI = 0.08     # m, inner diameter\n",
    "\n",
    "# Compute structure/member properties\n",
    "I = (np.pi * (do**4 - dI**4))/64.0  # 2nd moment of circular area\n",
    "J = (np.pi * (do**4 - dI**4))/32.0  # 2nd polar moment of circular area\n",
    "\n",
    "# Compute the stresses\n",
    "s =-SF*Moment*((do/2)-(dI/2))/I   # stress by the moment at point B\n",
    "t = SF*Torque*((do/2)-(dI/2))/J   # stress by the Torque\n",
    "\n",
    "sxx=s; sxy=t; sxz=0; syy=0; syz=0; szz=SF*p\n",
    "\n",
    "Sij = np.array([[sxx, sxy, sxz],[sxy, syy, syz],[sxz, syz, szz]]) \n",
    "print(f'Stress state:\\n{Sij}\\n')\n",
    "\n",
    "eigens, eigenVectors = principalS(Sij)      # principal stresses"
   ]
  },
  {
   "cell_type": "code",
   "execution_count": 18,
   "id": "8e05dcad",
   "metadata": {},
   "outputs": [
    {
     "name": "stdout",
     "output_type": "stream",
     "text": [
      "The maximum principal strain is 2.89302e+08\n",
      "The material yield stress needs to be > 2.89302e+08\n",
      "The yield stress of the material = 7.20000e+08\n",
      "Is yield? False\n",
      "Actual safety factor = 6.968499875359853\n"
     ]
    }
   ],
   "source": [
    "# maximum principal strain criterion\n",
    "se1 = eigens[0]-v*eigens[1]-v*eigens[2]  # principal strains E ε1\n",
    "se2 = eigens[1]-v*eigens[0]-v*eigens[2]  # principal strains E ε2\n",
    "se3 = eigens[2]-v*eigens[0]-v*eigens[1]  # principal strains E ε3\n",
    "e_max =max(abs(np.array([se1, se2, se3]))) \n",
    "print(f'The maximum principal strain is {e_max:0.5e}')\n",
    "print(f'The material yield stress needs to be > {e_max:0.5e}')\n",
    "print(f'The yield stress of the material = {sY:0.5e}')\n",
    "print(f'Is yield? {e_max>sY}')\n",
    "print(f'Actual safety factor = {SF*sY/e_max}')"
   ]
  },
  {
   "cell_type": "markdown",
   "id": "66005a33",
   "metadata": {},
   "source": [
    "2. "
   ]
  },
  {
   "cell_type": "code",
   "execution_count": 19,
   "id": "daf0cbdc",
   "metadata": {},
   "outputs": [
    {
     "name": "stdout",
     "output_type": "stream",
     "text": [
      "The maximum shear stress is 1.60798e+08\n",
      "The material yield stress needs to be > 3.21597e+08\n",
      "The yield stress of the material = 7.20000e+08\n",
      "Is yield? False\n",
      "Actual safety factor = 6.268719881338143\n"
     ]
    }
   ],
   "source": [
    "# Maximum shear stress (Tresca) criterion\n",
    "Tau_max =0.5*(eigens[0]-eigens[2])\n",
    "print(f'The maximum shear stress is {Tau_max:0.5e}')\n",
    "print(f'The material yield stress needs to be > {(2*Tau_max):0.5e}')\n",
    "print(f'The yield stress of the material = {sY:0.5e}')\n",
    "print(f'Is yield? {(2*Tau_max)>sY}')\n",
    "print(f'Actual safety factor = {SF*sY/(2*Tau_max)}')"
   ]
  },
  {
   "cell_type": "markdown",
   "id": "1f947448",
   "metadata": {},
   "source": [
    "3. "
   ]
  },
  {
   "cell_type": "code",
   "execution_count": 20,
   "id": "91d8c6c5",
   "metadata": {},
   "outputs": [
    {
     "name": "stdout",
     "output_type": "stream",
     "text": [
      "The von Mises stress is 3.13056e+08\n",
      "The material yield stress needs to be > 3.13056e+08\n",
      "The yield stress of the material = 7.20000e+08\n",
      "Is yield? False\n",
      "Actual safety factor = 6.43974760140724\n"
     ]
    }
   ],
   "source": [
    "# von Mises criterion\n",
    "svm = gr.von_Mises(eigens)\n",
    "print(f'The von Mises stress is {svm:0.5e}')\n",
    "print(f'The material yield stress needs to be > {svm:0.5e}')\n",
    "print(f'The yield stress of the material = {sY:0.5e}')\n",
    "print(f'Is yield? {svm>sY}')\n",
    "print(f'Actual safety factor = {SF*sY/svm}')"
   ]
  }
 ],
 "metadata": {
  "kernelspec": {
   "display_name": "Python 3 (ipykernel)",
   "language": "python",
   "name": "python3"
  },
  "language_info": {
   "codemirror_mode": {
    "name": "ipython",
    "version": 3
   },
   "file_extension": ".py",
   "mimetype": "text/x-python",
   "name": "python",
   "nbconvert_exporter": "python",
   "pygments_lexer": "ipython3",
   "version": "3.11.3"
  },
  "latex_envs": {
   "LaTeX_envs_menu_present": true,
   "autoclose": true,
   "autocomplete": true,
   "bibliofile": "biblio.bib",
   "cite_by": "apalike",
   "current_citInitial": 1,
   "eqLabelWithNumbers": true,
   "eqNumInitial": 1,
   "hotkeys": {
    "equation": "Ctrl-E",
    "itemize": "Ctrl-I"
   },
   "labels_anchors": false,
   "latex_user_defs": false,
   "report_style_numbering": true,
   "user_envs_cfg": false
  },
  "toc": {
   "base_numbering": "2",
   "nav_menu": {},
   "number_sections": true,
   "sideBar": true,
   "skip_h1_title": true,
   "title_cell": "Table of Contents",
   "title_sidebar": "Contents",
   "toc_cell": false,
   "toc_position": {
    "height": "calc(100% - 180px)",
    "left": "10px",
    "top": "150px",
    "width": "165.562px"
   },
   "toc_section_display": true,
   "toc_window_display": false
  },
  "varInspector": {
   "cols": {
    "lenName": 16,
    "lenType": 16,
    "lenVar": 40
   },
   "kernels_config": {
    "python": {
     "delete_cmd_postfix": "",
     "delete_cmd_prefix": "del ",
     "library": "var_list.py",
     "varRefreshCmd": "print(var_dic_list())"
    },
    "r": {
     "delete_cmd_postfix": ") ",
     "delete_cmd_prefix": "rm(",
     "library": "var_list.r",
     "varRefreshCmd": "cat(var_dic_list()) "
    }
   },
   "types_to_exclude": [
    "module",
    "function",
    "builtin_function_or_method",
    "instance",
    "_Feature"
   ],
   "window_display": false
  }
 },
 "nbformat": 4,
 "nbformat_minor": 5
}
